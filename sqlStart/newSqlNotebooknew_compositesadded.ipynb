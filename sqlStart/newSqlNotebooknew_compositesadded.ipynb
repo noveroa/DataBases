{
 "cells": [
  {
   "cell_type": "markdown",
   "metadata": {},
   "source": [
    "# Now just using DF directly\n",
    "## no longer need to parse separately into lists etc.  all done internally\n",
    "## TO Do the dump load and initialize the DB, need to make sure correct order pf tables is loaded first those with no dependencies and then increasingly so.\n",
    "## now only erroring on original 3 .txt noted by Ian Gorton in original commnication\n",
    "- - 1. Conf\n",
    "- - 2. Pub , Keys, Authors, Affiliations (use sets to create unique ones but may change to all .unique)\n",
    "- - 3. Composites (Many to Many)\n",
    "- - 4. Paper/abstracts\n",
    "\n"
   ]
  },
  {
   "cell_type": "code",
   "execution_count": 1,
   "metadata": {
    "collapsed": true
   },
   "outputs": [],
   "source": [
    "import sqlite3\n",
    "import pandas as pd"
   ]
  },
  {
   "cell_type": "code",
   "execution_count": 2,
   "metadata": {
    "collapsed": false
   },
   "outputs": [
    {
     "name": "stdout",
     "output_type": "stream",
     "text": [
      "(1548, 7)\n",
      "(1548, 7)\n"
     ]
    }
   ],
   "source": [
    "import sqlcommands as cmd\n",
    "cmd = reload(cmd)"
   ]
  },
  {
   "cell_type": "code",
   "execution_count": 3,
   "metadata": {
    "collapsed": false
   },
   "outputs": [
    {
     "name": "stderr",
     "output_type": "stream",
     "text": [
      "/Users/aileennovero1/anaconda/lib/python2.7/site-packages/pandas/core/generic.py:1160: UserWarning: The spaces in these column names will not be changed. In pandas versions < 0.14, spaces were converted to underscores.\n",
      "  chunksize=chunksize, dtype=dtype)\n"
     ]
    },
    {
     "data": {
      "text/html": [
       "<div>\n",
       "<table border=\"1\" class=\"dataframe\">\n",
       "  <thead>\n",
       "    <tr style=\"text-align: right;\">\n",
       "      <th></th>\n",
       "      <th>Abstract</th>\n",
       "      <th>Author affiliation</th>\n",
       "      <th>Authors</th>\n",
       "      <th>Conf</th>\n",
       "      <th>Title</th>\n",
       "      <th>terms</th>\n",
       "      <th>year</th>\n",
       "    </tr>\n",
       "  </thead>\n",
       "  <tbody>\n",
       "    <tr>\n",
       "      <th>50</th>\n",
       "      <td>The past 20 years has seen significant investm...</td>\n",
       "      <td>IBM Software Group, Raleigh, NC, United States...</td>\n",
       "      <td>['Brown, Alan W', '', '', ' McDermid, John A',...</td>\n",
       "      <td>ECSA</td>\n",
       "      <td>The art and science of software architecture</td>\n",
       "      <td>['Failure analysis', 'Systems engineering', 'O...</td>\n",
       "      <td>2007</td>\n",
       "    </tr>\n",
       "    <tr>\n",
       "      <th>51</th>\n",
       "      <td>Nowadays, Wireless Sensor Networks  WSN  are a...</td>\n",
       "      <td>Divisi n de Sistemas e Ingenier a Electr nica ...</td>\n",
       "      <td>['Losilla, Fernando', '', '', 'Vicente Chicote...</td>\n",
       "      <td>ECSA</td>\n",
       "      <td>Wireless sensor network application developmen...</td>\n",
       "      <td>['Mathematical models', 'Software architecture...</td>\n",
       "      <td>2007</td>\n",
       "    </tr>\n",
       "    <tr>\n",
       "      <th>52</th>\n",
       "      <td>Automated services help enterprises create new...</td>\n",
       "      <td>INFOLAB, Tilburg University, Dept  of Informat...</td>\n",
       "      <td>['Papazoglou, Michael P', '', '']</td>\n",
       "      <td>ECSA</td>\n",
       "      <td>What s in a service</td>\n",
       "      <td>['Condition monitoring', 'Electronic commerce'...</td>\n",
       "      <td>2007</td>\n",
       "    </tr>\n",
       "    <tr>\n",
       "      <th>53</th>\n",
       "      <td>The term co evolution describes the symbiotic ...</td>\n",
       "      <td>University of St Andrews, St Andrews, KY16 9SX...</td>\n",
       "      <td>['Morrison, Ron', '', '', 'Balasubramaniam, Dh...</td>\n",
       "      <td>ECSA</td>\n",
       "      <td>An active architecture approach to dynamic sys...</td>\n",
       "      <td>['Dynamical systems', 'Grid computing', 'Senso...</td>\n",
       "      <td>2007</td>\n",
       "    </tr>\n",
       "    <tr>\n",
       "      <th>54</th>\n",
       "      <td>Software architecture views represent the basi...</td>\n",
       "      <td>Department of Information Systems and Computat...</td>\n",
       "      <td>['Cordero, Rogelio Limon', '', '', 'Salavert, ...</td>\n",
       "      <td>ECSA</td>\n",
       "      <td>Analyzing styles of the modular software archi...</td>\n",
       "      <td>['Computer aided design', 'Requirements engine...</td>\n",
       "      <td>2007</td>\n",
       "    </tr>\n",
       "    <tr>\n",
       "      <th>55</th>\n",
       "      <td>Currently, most software systems have a dynami...</td>\n",
       "      <td>Department of Information Systems and Computat...</td>\n",
       "      <td>['Costa, Crist bal', '', '', 'Ali, Nour', '', ...</td>\n",
       "      <td>ECSA</td>\n",
       "      <td>Dynamic reconfiguration of software architectu...</td>\n",
       "      <td>['Computer aided design', 'Object oriented pro...</td>\n",
       "      <td>2007</td>\n",
       "    </tr>\n",
       "    <tr>\n",
       "      <th>56</th>\n",
       "      <td>We propose a pattern based software developmen...</td>\n",
       "      <td>Department of Computational and Cognitive Scie...</td>\n",
       "      <td>['C t , Isabelle', '', '', 'Heisel, Marina', '...</td>\n",
       "      <td>ECSA</td>\n",
       "      <td>Pattern based evolution of software architectures</td>\n",
       "      <td>['Pattern recognition', 'Requirements engineer...</td>\n",
       "      <td>2007</td>\n",
       "    </tr>\n",
       "    <tr>\n",
       "      <th>57</th>\n",
       "      <td>Most of the research in the area of multimodal...</td>\n",
       "      <td>Department of Computer Science, Technische Uni...</td>\n",
       "      <td>['Pereira, Alessandro Costa', ' ,', '', ' Hart...</td>\n",
       "      <td>ECSA</td>\n",
       "      <td>A distributed staged architecture for multimod...</td>\n",
       "      <td>['Computer programming languages', 'Distribute...</td>\n",
       "      <td>2007</td>\n",
       "    </tr>\n",
       "    <tr>\n",
       "      <th>58</th>\n",
       "      <td>The vast diversity of implementation and suppo...</td>\n",
       "      <td>Computer Languages and Systems II Department, ...</td>\n",
       "      <td>['L pez Sanz, Marcos', '', '', 'Acu a, C sar J...</td>\n",
       "      <td>ECSA</td>\n",
       "      <td>UML profile for the platform independent model...</td>\n",
       "      <td>['Computer simulation', 'Computer software por...</td>\n",
       "      <td>2007</td>\n",
       "    </tr>\n",
       "    <tr>\n",
       "      <th>59</th>\n",
       "      <td>No abstract available</td>\n",
       "      <td>None</td>\n",
       "      <td>['Dauvin, Jean Claude', ' Romana, Louis Alexan...</td>\n",
       "      <td>ECSA</td>\n",
       "      <td>Hydrobiologia  Preface</td>\n",
       "      <td>[nan]</td>\n",
       "      <td>2007</td>\n",
       "    </tr>\n",
       "  </tbody>\n",
       "</table>\n",
       "</div>"
      ],
      "text/plain": [
       "                                             Abstract  \\\n",
       "50  The past 20 years has seen significant investm...   \n",
       "51  Nowadays, Wireless Sensor Networks  WSN  are a...   \n",
       "52  Automated services help enterprises create new...   \n",
       "53  The term co evolution describes the symbiotic ...   \n",
       "54  Software architecture views represent the basi...   \n",
       "55  Currently, most software systems have a dynami...   \n",
       "56  We propose a pattern based software developmen...   \n",
       "57  Most of the research in the area of multimodal...   \n",
       "58  The vast diversity of implementation and suppo...   \n",
       "59                              No abstract available   \n",
       "\n",
       "                                   Author affiliation  \\\n",
       "50  IBM Software Group, Raleigh, NC, United States...   \n",
       "51  Divisi n de Sistemas e Ingenier a Electr nica ...   \n",
       "52  INFOLAB, Tilburg University, Dept  of Informat...   \n",
       "53  University of St Andrews, St Andrews, KY16 9SX...   \n",
       "54  Department of Information Systems and Computat...   \n",
       "55  Department of Information Systems and Computat...   \n",
       "56  Department of Computational and Cognitive Scie...   \n",
       "57  Department of Computer Science, Technische Uni...   \n",
       "58  Computer Languages and Systems II Department, ...   \n",
       "59                                               None   \n",
       "\n",
       "                                              Authors  Conf  \\\n",
       "50  ['Brown, Alan W', '', '', ' McDermid, John A',...  ECSA   \n",
       "51  ['Losilla, Fernando', '', '', 'Vicente Chicote...  ECSA   \n",
       "52                  ['Papazoglou, Michael P', '', '']  ECSA   \n",
       "53  ['Morrison, Ron', '', '', 'Balasubramaniam, Dh...  ECSA   \n",
       "54  ['Cordero, Rogelio Limon', '', '', 'Salavert, ...  ECSA   \n",
       "55  ['Costa, Crist bal', '', '', 'Ali, Nour', '', ...  ECSA   \n",
       "56  ['C t , Isabelle', '', '', 'Heisel, Marina', '...  ECSA   \n",
       "57  ['Pereira, Alessandro Costa', ' ,', '', ' Hart...  ECSA   \n",
       "58  ['L pez Sanz, Marcos', '', '', 'Acu a, C sar J...  ECSA   \n",
       "59  ['Dauvin, Jean Claude', ' Romana, Louis Alexan...  ECSA   \n",
       "\n",
       "                                                Title  \\\n",
       "50       The art and science of software architecture   \n",
       "51  Wireless sensor network application developmen...   \n",
       "52                                What s in a service   \n",
       "53  An active architecture approach to dynamic sys...   \n",
       "54  Analyzing styles of the modular software archi...   \n",
       "55  Dynamic reconfiguration of software architectu...   \n",
       "56  Pattern based evolution of software architectures   \n",
       "57  A distributed staged architecture for multimod...   \n",
       "58  UML profile for the platform independent model...   \n",
       "59                             Hydrobiologia  Preface   \n",
       "\n",
       "                                                terms  year  \n",
       "50  ['Failure analysis', 'Systems engineering', 'O...  2007  \n",
       "51  ['Mathematical models', 'Software architecture...  2007  \n",
       "52  ['Condition monitoring', 'Electronic commerce'...  2007  \n",
       "53  ['Dynamical systems', 'Grid computing', 'Senso...  2007  \n",
       "54  ['Computer aided design', 'Requirements engine...  2007  \n",
       "55  ['Computer aided design', 'Object oriented pro...  2007  \n",
       "56  ['Pattern recognition', 'Requirements engineer...  2007  \n",
       "57  ['Computer programming languages', 'Distribute...  2007  \n",
       "58  ['Computer simulation', 'Computer software por...  2007  \n",
       "59                                              [nan]  2007  "
      ]
     },
     "execution_count": 3,
     "metadata": {},
     "output_type": "execute_result"
    }
   ],
   "source": [
    "df = cmd.createTOTALTable()\n",
    "df.iloc[50:60]"
   ]
  },
  {
   "cell_type": "code",
   "execution_count": 4,
   "metadata": {
    "collapsed": false
   },
   "outputs": [],
   "source": [
    "#don't need \n",
    "#df1 = cmd.getPatentDataFrame(hdffile='../DataBaseParsing/DFstore4.h5') "
   ]
  },
  {
   "cell_type": "code",
   "execution_count": 5,
   "metadata": {
    "collapsed": false
   },
   "outputs": [
    {
     "data": {
      "text/plain": [
       "u'DISP, Univ  of Rome, Rome, Italy'"
      ]
     },
     "execution_count": 5,
     "metadata": {},
     "output_type": "execute_result"
    }
   ],
   "source": [
    "df.iloc[0]['Author affiliation']"
   ]
  },
  {
   "cell_type": "markdown",
   "metadata": {},
   "source": [
    "# Create the Conf Table"
   ]
  },
  {
   "cell_type": "code",
   "execution_count": 6,
   "metadata": {
    "collapsed": false
   },
   "outputs": [
    {
     "name": "stdout",
     "output_type": "stream",
     "text": [
      "Opened test3.db database successfully\n",
      "Created DataFrame\n",
      "Records created successfully\n"
     ]
    }
   ],
   "source": [
    "confDF = cmd.createConfTable(df, db = 'test3.db')"
   ]
  },
  {
   "cell_type": "code",
   "execution_count": 7,
   "metadata": {
    "collapsed": false
   },
   "outputs": [
    {
     "data": {
      "text/html": [
       "<div>\n",
       "<table border=\"1\" class=\"dataframe\">\n",
       "  <thead>\n",
       "    <tr style=\"text-align: right;\">\n",
       "      <th></th>\n",
       "      <th>confID</th>\n",
       "      <th>confName</th>\n",
       "    </tr>\n",
       "  </thead>\n",
       "  <tbody>\n",
       "    <tr>\n",
       "      <th>0</th>\n",
       "      <td>1</td>\n",
       "      <td>ECSA</td>\n",
       "    </tr>\n",
       "    <tr>\n",
       "      <th>1</th>\n",
       "      <td>2</td>\n",
       "      <td>QoSA</td>\n",
       "    </tr>\n",
       "    <tr>\n",
       "      <th>2</th>\n",
       "      <td>3</td>\n",
       "      <td>WICSA</td>\n",
       "    </tr>\n",
       "  </tbody>\n",
       "</table>\n",
       "</div>"
      ],
      "text/plain": [
       "   confID confName\n",
       "0       1     ECSA\n",
       "1       2     QoSA\n",
       "2       3    WICSA"
      ]
     },
     "execution_count": 7,
     "metadata": {},
     "output_type": "execute_result"
    }
   ],
   "source": [
    "confDF"
   ]
  },
  {
   "cell_type": "markdown",
   "metadata": {},
   "source": [
    "# Create publications Table\n",
    "## Now can parse all the orginal .txt with exception of the same 3  Ian gorton noted were errant"
   ]
  },
  {
   "cell_type": "code",
   "execution_count": 8,
   "metadata": {
    "collapsed": false
   },
   "outputs": [
    {
     "name": "stdout",
     "output_type": "stream",
     "text": [
      "Opened Abstracts_DB.db database successfully\n",
      "table dropped\n",
      "Created PUBLICATIONS table\n",
      "Created DataFrame\n",
      "Records created successfully\n"
     ]
    }
   ],
   "source": [
    "pubDF = cmd.createPublicationsTable(df)"
   ]
  },
  {
   "cell_type": "code",
   "execution_count": 9,
   "metadata": {
    "collapsed": false
   },
   "outputs": [
    {
     "data": {
      "text/html": [
       "<div>\n",
       "<table border=\"1\" class=\"dataframe\">\n",
       "  <thead>\n",
       "    <tr style=\"text-align: right;\">\n",
       "      <th></th>\n",
       "      <th>pubID</th>\n",
       "      <th>year</th>\n",
       "      <th>confName</th>\n",
       "    </tr>\n",
       "  </thead>\n",
       "  <tbody>\n",
       "    <tr>\n",
       "      <th>0</th>\n",
       "      <td>1</td>\n",
       "      <td>2007</td>\n",
       "      <td>ECSA</td>\n",
       "    </tr>\n",
       "    <tr>\n",
       "      <th>1</th>\n",
       "      <td>2</td>\n",
       "      <td>2008</td>\n",
       "      <td>ECSA</td>\n",
       "    </tr>\n",
       "    <tr>\n",
       "      <th>2</th>\n",
       "      <td>3</td>\n",
       "      <td>2009</td>\n",
       "      <td>ECSA</td>\n",
       "    </tr>\n",
       "    <tr>\n",
       "      <th>3</th>\n",
       "      <td>4</td>\n",
       "      <td>2010</td>\n",
       "      <td>ECSA</td>\n",
       "    </tr>\n",
       "    <tr>\n",
       "      <th>4</th>\n",
       "      <td>5</td>\n",
       "      <td>2011</td>\n",
       "      <td>ECSA</td>\n",
       "    </tr>\n",
       "    <tr>\n",
       "      <th>5</th>\n",
       "      <td>6</td>\n",
       "      <td>2012</td>\n",
       "      <td>ECSA</td>\n",
       "    </tr>\n",
       "    <tr>\n",
       "      <th>6</th>\n",
       "      <td>7</td>\n",
       "      <td>2013</td>\n",
       "      <td>ECSA</td>\n",
       "    </tr>\n",
       "    <tr>\n",
       "      <th>7</th>\n",
       "      <td>8</td>\n",
       "      <td>2014</td>\n",
       "      <td>ECSA</td>\n",
       "    </tr>\n",
       "    <tr>\n",
       "      <th>8</th>\n",
       "      <td>9</td>\n",
       "      <td>2005</td>\n",
       "      <td>QoSA</td>\n",
       "    </tr>\n",
       "    <tr>\n",
       "      <th>9</th>\n",
       "      <td>10</td>\n",
       "      <td>2006</td>\n",
       "      <td>QoSA</td>\n",
       "    </tr>\n",
       "    <tr>\n",
       "      <th>10</th>\n",
       "      <td>11</td>\n",
       "      <td>2007</td>\n",
       "      <td>QoSA</td>\n",
       "    </tr>\n",
       "    <tr>\n",
       "      <th>11</th>\n",
       "      <td>12</td>\n",
       "      <td>2008</td>\n",
       "      <td>QoSA</td>\n",
       "    </tr>\n",
       "    <tr>\n",
       "      <th>12</th>\n",
       "      <td>13</td>\n",
       "      <td>2009</td>\n",
       "      <td>QoSA</td>\n",
       "    </tr>\n",
       "    <tr>\n",
       "      <th>13</th>\n",
       "      <td>14</td>\n",
       "      <td>2010</td>\n",
       "      <td>QoSA</td>\n",
       "    </tr>\n",
       "    <tr>\n",
       "      <th>14</th>\n",
       "      <td>15</td>\n",
       "      <td>2011</td>\n",
       "      <td>QoSA</td>\n",
       "    </tr>\n",
       "    <tr>\n",
       "      <th>15</th>\n",
       "      <td>16</td>\n",
       "      <td>2012</td>\n",
       "      <td>QoSA</td>\n",
       "    </tr>\n",
       "    <tr>\n",
       "      <th>16</th>\n",
       "      <td>17</td>\n",
       "      <td>2013</td>\n",
       "      <td>QoSA</td>\n",
       "    </tr>\n",
       "    <tr>\n",
       "      <th>17</th>\n",
       "      <td>18</td>\n",
       "      <td>2014</td>\n",
       "      <td>QoSA</td>\n",
       "    </tr>\n",
       "    <tr>\n",
       "      <th>18</th>\n",
       "      <td>19</td>\n",
       "      <td>2004</td>\n",
       "      <td>WICSA</td>\n",
       "    </tr>\n",
       "    <tr>\n",
       "      <th>19</th>\n",
       "      <td>20</td>\n",
       "      <td>2005</td>\n",
       "      <td>WICSA</td>\n",
       "    </tr>\n",
       "    <tr>\n",
       "      <th>20</th>\n",
       "      <td>21</td>\n",
       "      <td>2007</td>\n",
       "      <td>WICSA</td>\n",
       "    </tr>\n",
       "    <tr>\n",
       "      <th>21</th>\n",
       "      <td>22</td>\n",
       "      <td>2008</td>\n",
       "      <td>WICSA</td>\n",
       "    </tr>\n",
       "    <tr>\n",
       "      <th>22</th>\n",
       "      <td>23</td>\n",
       "      <td>2009</td>\n",
       "      <td>WICSA</td>\n",
       "    </tr>\n",
       "    <tr>\n",
       "      <th>23</th>\n",
       "      <td>24</td>\n",
       "      <td>2011</td>\n",
       "      <td>WICSA</td>\n",
       "    </tr>\n",
       "    <tr>\n",
       "      <th>24</th>\n",
       "      <td>25</td>\n",
       "      <td>2012</td>\n",
       "      <td>WICSA</td>\n",
       "    </tr>\n",
       "    <tr>\n",
       "      <th>25</th>\n",
       "      <td>26</td>\n",
       "      <td>2014</td>\n",
       "      <td>WICSA</td>\n",
       "    </tr>\n",
       "  </tbody>\n",
       "</table>\n",
       "</div>"
      ],
      "text/plain": [
       "    pubID  year confName\n",
       "0       1  2007     ECSA\n",
       "1       2  2008     ECSA\n",
       "2       3  2009     ECSA\n",
       "3       4  2010     ECSA\n",
       "4       5  2011     ECSA\n",
       "5       6  2012     ECSA\n",
       "6       7  2013     ECSA\n",
       "7       8  2014     ECSA\n",
       "8       9  2005     QoSA\n",
       "9      10  2006     QoSA\n",
       "10     11  2007     QoSA\n",
       "11     12  2008     QoSA\n",
       "12     13  2009     QoSA\n",
       "13     14  2010     QoSA\n",
       "14     15  2011     QoSA\n",
       "15     16  2012     QoSA\n",
       "16     17  2013     QoSA\n",
       "17     18  2014     QoSA\n",
       "18     19  2004    WICSA\n",
       "19     20  2005    WICSA\n",
       "20     21  2007    WICSA\n",
       "21     22  2008    WICSA\n",
       "22     23  2009    WICSA\n",
       "23     24  2011    WICSA\n",
       "24     25  2012    WICSA\n",
       "25     26  2014    WICSA"
      ]
     },
     "execution_count": 9,
     "metadata": {},
     "output_type": "execute_result"
    }
   ],
   "source": [
    "pubDF"
   ]
  },
  {
   "cell_type": "markdown",
   "metadata": {},
   "source": [
    "# Create Keys Table"
   ]
  },
  {
   "cell_type": "markdown",
   "metadata": {},
   "source": [
    "## There are errors here and I have spent way to ong trying to figure if out.  \n",
    "## Somewhere the abstracts are being split into the terms."
   ]
  },
  {
   "cell_type": "code",
   "execution_count": 10,
   "metadata": {
    "collapsed": false
   },
   "outputs": [
    {
     "name": "stdout",
     "output_type": "stream",
     "text": [
      "Opened Abstracts_DB.db database successfully\n",
      "              keyword\n",
      "0     Loose couplings\n",
      "1   aspectual concept\n",
      "2       Discrete time\n",
      "3  Polyacrylonitriles\n",
      "4     Tacit knowledge\n",
      "Created DataFrame\n",
      "Records created successfully\n"
     ]
    }
   ],
   "source": [
    "keys = cmd.createKEYSTable(df)"
   ]
  },
  {
   "cell_type": "code",
   "execution_count": 11,
   "metadata": {
    "collapsed": false
   },
   "outputs": [
    {
     "name": "stdout",
     "output_type": "stream",
     "text": [
      "8399\n",
      "8399\n"
     ]
    },
    {
     "data": {
      "text/html": [
       "<div>\n",
       "<table border=\"1\" class=\"dataframe\">\n",
       "  <thead>\n",
       "    <tr style=\"text-align: right;\">\n",
       "      <th></th>\n",
       "      <th>keyID</th>\n",
       "      <th>keyword</th>\n",
       "    </tr>\n",
       "  </thead>\n",
       "  <tbody>\n",
       "    <tr>\n",
       "      <th>50</th>\n",
       "      <td>51</td>\n",
       "      <td>Bifunctional mechanisms</td>\n",
       "    </tr>\n",
       "    <tr>\n",
       "      <th>51</th>\n",
       "      <td>52</td>\n",
       "      <td>Traceability model</td>\n",
       "    </tr>\n",
       "    <tr>\n",
       "      <th>52</th>\n",
       "      <td>53</td>\n",
       "      <td>Architectural structure</td>\n",
       "    </tr>\n",
       "    <tr>\n",
       "      <th>53</th>\n",
       "      <td>54</td>\n",
       "      <td>Local decision-making</td>\n",
       "    </tr>\n",
       "    <tr>\n",
       "      <th>54</th>\n",
       "      <td>55</td>\n",
       "      <td>ontology-driven pattern selection</td>\n",
       "    </tr>\n",
       "    <tr>\n",
       "      <th>55</th>\n",
       "      <td>56</td>\n",
       "      <td>Service-based systems</td>\n",
       "    </tr>\n",
       "    <tr>\n",
       "      <th>56</th>\n",
       "      <td>57</td>\n",
       "      <td>PIM level</td>\n",
       "    </tr>\n",
       "    <tr>\n",
       "      <th>57</th>\n",
       "      <td>58</td>\n",
       "      <td>Web implementation</td>\n",
       "    </tr>\n",
       "    <tr>\n",
       "      <th>58</th>\n",
       "      <td>59</td>\n",
       "      <td>Poor long-term performance and durability comb...</td>\n",
       "    </tr>\n",
       "    <tr>\n",
       "      <th>59</th>\n",
       "      <td>60</td>\n",
       "      <td>ruthenium alloys</td>\n",
       "    </tr>\n",
       "    <tr>\n",
       "      <th>60</th>\n",
       "      <td>61</td>\n",
       "      <td>concrete component model</td>\n",
       "    </tr>\n",
       "    <tr>\n",
       "      <th>61</th>\n",
       "      <td>62</td>\n",
       "      <td>Water pollution</td>\n",
       "    </tr>\n",
       "    <tr>\n",
       "      <th>62</th>\n",
       "      <td>63</td>\n",
       "      <td>assurance</td>\n",
       "    </tr>\n",
       "    <tr>\n",
       "      <th>63</th>\n",
       "      <td>64</td>\n",
       "      <td>Proton exchange membrane fuel cells</td>\n",
       "    </tr>\n",
       "    <tr>\n",
       "      <th>64</th>\n",
       "      <td>65</td>\n",
       "      <td>X ray photoemission spectroscopy</td>\n",
       "    </tr>\n",
       "    <tr>\n",
       "      <th>65</th>\n",
       "      <td>66</td>\n",
       "      <td>Temperature Measurements</td>\n",
       "    </tr>\n",
       "    <tr>\n",
       "      <th>66</th>\n",
       "      <td>67</td>\n",
       "      <td>ubiquitous computing environment</td>\n",
       "    </tr>\n",
       "    <tr>\n",
       "      <th>67</th>\n",
       "      <td>68</td>\n",
       "      <td>Methanol Oxidation</td>\n",
       "    </tr>\n",
       "    <tr>\n",
       "      <th>68</th>\n",
       "      <td>69</td>\n",
       "      <td>p-calculus based communication</td>\n",
       "    </tr>\n",
       "    <tr>\n",
       "      <th>69</th>\n",
       "      <td>70</td>\n",
       "      <td>Classification scheme</td>\n",
       "    </tr>\n",
       "    <tr>\n",
       "      <th>70</th>\n",
       "      <td>71</td>\n",
       "      <td>Design flexibility</td>\n",
       "    </tr>\n",
       "    <tr>\n",
       "      <th>71</th>\n",
       "      <td>72</td>\n",
       "      <td>Exploratory case studies</td>\n",
       "    </tr>\n",
       "    <tr>\n",
       "      <th>72</th>\n",
       "      <td>73</td>\n",
       "      <td>Virtual reality</td>\n",
       "    </tr>\n",
       "    <tr>\n",
       "      <th>73</th>\n",
       "      <td>74</td>\n",
       "      <td>Self-adaptivity</td>\n",
       "    </tr>\n",
       "    <tr>\n",
       "      <th>74</th>\n",
       "      <td>75</td>\n",
       "      <td>scenario-driven risk analysis</td>\n",
       "    </tr>\n",
       "  </tbody>\n",
       "</table>\n",
       "</div>"
      ],
      "text/plain": [
       "    keyID                                            keyword\n",
       "50     51                            Bifunctional mechanisms\n",
       "51     52                                 Traceability model\n",
       "52     53                            Architectural structure\n",
       "53     54                              Local decision-making\n",
       "54     55                  ontology-driven pattern selection\n",
       "55     56                              Service-based systems\n",
       "56     57                                          PIM level\n",
       "57     58                                 Web implementation\n",
       "58     59  Poor long-term performance and durability comb...\n",
       "59     60                                   ruthenium alloys\n",
       "60     61                           concrete component model\n",
       "61     62                                    Water pollution\n",
       "62     63                                          assurance\n",
       "63     64                Proton exchange membrane fuel cells\n",
       "64     65                   X ray photoemission spectroscopy\n",
       "65     66                           Temperature Measurements\n",
       "66     67                   ubiquitous computing environment\n",
       "67     68                                 Methanol Oxidation\n",
       "68     69                     p-calculus based communication\n",
       "69     70                              Classification scheme\n",
       "70     71                                 Design flexibility\n",
       "71     72                           Exploratory case studies\n",
       "72     73                                    Virtual reality\n",
       "73     74                                    Self-adaptivity\n",
       "74     75                      scenario-driven risk analysis"
      ]
     },
     "execution_count": 11,
     "metadata": {},
     "output_type": "execute_result"
    }
   ],
   "source": [
    "print len(keys)\n",
    "print len(keys.keyword.unique())\n",
    "keys.iloc[50:75]"
   ]
  },
  {
   "cell_type": "markdown",
   "metadata": {},
   "source": [
    "# Authors\n",
    "## I don't know how to parse them better!  Each text file seems to look at them differently and no idea what to do"
   ]
  },
  {
   "cell_type": "code",
   "execution_count": 12,
   "metadata": {
    "collapsed": false
   },
   "outputs": [
    {
     "name": "stdout",
     "output_type": "stream",
     "text": [
      "Opened Abstracts_DB.db database successfully\n",
      "Author set created\n",
      "Records created successfully\n"
     ]
    }
   ],
   "source": [
    "authorsDF = cmd.createAUTHORSTable(df)"
   ]
  },
  {
   "cell_type": "code",
   "execution_count": 13,
   "metadata": {
    "collapsed": false
   },
   "outputs": [
    {
     "name": "stdout",
     "output_type": "stream",
     "text": [
      "2911\n"
     ]
    },
    {
     "data": {
      "text/html": [
       "<div>\n",
       "<table border=\"1\" class=\"dataframe\">\n",
       "  <thead>\n",
       "    <tr style=\"text-align: right;\">\n",
       "      <th></th>\n",
       "      <th>authorID</th>\n",
       "      <th>AuthorName</th>\n",
       "    </tr>\n",
       "  </thead>\n",
       "  <tbody>\n",
       "    <tr>\n",
       "      <th>0</th>\n",
       "      <td>1</td>\n",
       "      <td>Kolb  Ronny</td>\n",
       "    </tr>\n",
       "    <tr>\n",
       "      <th>1</th>\n",
       "      <td>2</td>\n",
       "      <td>Von Massow  Robert</td>\n",
       "    </tr>\n",
       "    <tr>\n",
       "      <th>2</th>\n",
       "      <td>3</td>\n",
       "      <td>Smiley  Karen</td>\n",
       "    </tr>\n",
       "    <tr>\n",
       "      <th>3</th>\n",
       "      <td>4</td>\n",
       "      <td>Prakash  Jai</td>\n",
       "    </tr>\n",
       "    <tr>\n",
       "      <th>4</th>\n",
       "      <td>5</td>\n",
       "      <td>Zhang  Hongye</td>\n",
       "    </tr>\n",
       "  </tbody>\n",
       "</table>\n",
       "</div>"
      ],
      "text/plain": [
       "   authorID          AuthorName\n",
       "0         1         Kolb  Ronny\n",
       "1         2  Von Massow  Robert\n",
       "2         3       Smiley  Karen\n",
       "3         4        Prakash  Jai\n",
       "4         5       Zhang  Hongye"
      ]
     },
     "execution_count": 13,
     "metadata": {},
     "output_type": "execute_result"
    }
   ],
   "source": [
    "print len(authorsDF.AuthorName.drop_duplicates())  #<<--- double check!  will keep one 'empty ' ' becuase of set)\n",
    "authorsDF.head()"
   ]
  },
  {
   "cell_type": "markdown",
   "metadata": {},
   "source": [
    "# Affiliation Table\n",
    "## simple no extra parsing do to differences between entries"
   ]
  },
  {
   "cell_type": "code",
   "execution_count": 14,
   "metadata": {
    "collapsed": false
   },
   "outputs": [
    {
     "name": "stdout",
     "output_type": "stream",
     "text": [
      "Opened Abstracts_DB.db database successfully\n",
      "Created DataFrame\n",
      "Records created successfully\n"
     ]
    }
   ],
   "source": [
    "affilDF= cmd.createAFFILIATIONTable(df)"
   ]
  },
  {
   "cell_type": "code",
   "execution_count": 15,
   "metadata": {
    "collapsed": false
   },
   "outputs": [
    {
     "data": {
      "text/html": [
       "<div>\n",
       "<table border=\"1\" class=\"dataframe\">\n",
       "  <thead>\n",
       "    <tr style=\"text-align: right;\">\n",
       "      <th></th>\n",
       "      <th>affilID</th>\n",
       "      <th>affiliation</th>\n",
       "    </tr>\n",
       "  </thead>\n",
       "  <tbody>\n",
       "    <tr>\n",
       "      <th>0</th>\n",
       "      <td>1</td>\n",
       "      <td>DISP, Univ  of Rome, Rome, Italy</td>\n",
       "    </tr>\n",
       "    <tr>\n",
       "      <th>1</th>\n",
       "      <td>2</td>\n",
       "      <td>LSTS   ENIT, Tunis, Tunisia</td>\n",
       "    </tr>\n",
       "    <tr>\n",
       "      <th>2</th>\n",
       "      <td>3</td>\n",
       "      <td>INRIA, Univ  des Sci  et Technol  de Lille, Vi...</td>\n",
       "    </tr>\n",
       "    <tr>\n",
       "      <th>3</th>\n",
       "      <td>4</td>\n",
       "      <td>Sch  of Comput  Sci , Univ  of Adelaide, Adela...</td>\n",
       "    </tr>\n",
       "    <tr>\n",
       "      <th>4</th>\n",
       "      <td>5</td>\n",
       "      <td>Software Group, IBM, Raleigh, NC, United States</td>\n",
       "    </tr>\n",
       "  </tbody>\n",
       "</table>\n",
       "</div>"
      ],
      "text/plain": [
       "   affilID                                        affiliation\n",
       "0        1                   DISP, Univ  of Rome, Rome, Italy\n",
       "1        2                        LSTS   ENIT, Tunis, Tunisia\n",
       "2        3  INRIA, Univ  des Sci  et Technol  de Lille, Vi...\n",
       "3        4  Sch  of Comput  Sci , Univ  of Adelaide, Adela...\n",
       "4        5    Software Group, IBM, Raleigh, NC, United States"
      ]
     },
     "execution_count": 15,
     "metadata": {},
     "output_type": "execute_result"
    }
   ],
   "source": [
    "affilDF.head()"
   ]
  },
  {
   "cell_type": "markdown",
   "metadata": {
    "collapsed": true
   },
   "source": [
    "# PAPER TABLE\n",
    "## should this actually be made by first doing a join or something with the pub table?"
   ]
  },
  {
   "cell_type": "code",
   "execution_count": 16,
   "metadata": {
    "collapsed": false
   },
   "outputs": [
    {
     "name": "stdout",
     "output_type": "stream",
     "text": [
      "Opened Abstracts_DB.db database successfully\n",
      "table dropped\n",
      "Created PAPER table\n",
      "Created DataFrame\n",
      "Records created successfully\n"
     ]
    }
   ],
   "source": [
    "paperDF= cmd.createPAPERTable(df)"
   ]
  },
  {
   "cell_type": "code",
   "execution_count": 17,
   "metadata": {
    "collapsed": false
   },
   "outputs": [
    {
     "data": {
      "text/html": [
       "<div>\n",
       "<table border=\"1\" class=\"dataframe\">\n",
       "  <thead>\n",
       "    <tr style=\"text-align: right;\">\n",
       "      <th></th>\n",
       "      <th>paperID</th>\n",
       "      <th>abstract</th>\n",
       "      <th>title</th>\n",
       "      <th>terms</th>\n",
       "      <th>authors</th>\n",
       "      <th>affiliation</th>\n",
       "      <th>pubYear</th>\n",
       "      <th>confName</th>\n",
       "    </tr>\n",
       "  </thead>\n",
       "  <tbody>\n",
       "    <tr>\n",
       "      <th>0</th>\n",
       "      <td>1</td>\n",
       "      <td>A Software Product Line  SPL  is a family of r...</td>\n",
       "      <td>On the need of safe software product line arch...</td>\n",
       "      <td>['Software design', 'Structural properties', '...</td>\n",
       "      <td>['Lopez Herrejon, Roberto E', '', '', ' Egyed,...</td>\n",
       "      <td>Institute for Systems Engineering and Automati...</td>\n",
       "      <td>2010</td>\n",
       "      <td>ECSA</td>\n",
       "    </tr>\n",
       "    <tr>\n",
       "      <th>1</th>\n",
       "      <td>2</td>\n",
       "      <td>A Software Product Line  SPL  is a portfolio o...</td>\n",
       "      <td>Feature model to product architectures  Applyi...</td>\n",
       "      <td>['Architecture', 'Computer software', 'Network...</td>\n",
       "      <td>['Perovich, Daniel', '', '', 'Rossel, Pedro O'...</td>\n",
       "      <td>CS Department, Universidad de Chile, Santiago,...</td>\n",
       "      <td>2009</td>\n",
       "      <td>ECSA</td>\n",
       "    </tr>\n",
       "    <tr>\n",
       "      <th>2</th>\n",
       "      <td>3</td>\n",
       "      <td>A Software Product Line  SPL  is a portfolio o...</td>\n",
       "      <td>Feature model to product architectures  Applyi...</td>\n",
       "      <td>['Architecture', 'Computer software', 'Network...</td>\n",
       "      <td>['Perovich, Daniel', '', '', 'Rossel, Pedro O'...</td>\n",
       "      <td>CS Department, Universidad de Chile, Santiago,...</td>\n",
       "      <td>2009</td>\n",
       "      <td>WICSA</td>\n",
       "    </tr>\n",
       "    <tr>\n",
       "      <th>3</th>\n",
       "      <td>4</td>\n",
       "      <td>A Software Product Line  SPL  is a portfolio o...</td>\n",
       "      <td>Feature model to product architectures  Applyi...</td>\n",
       "      <td>['Architecture', 'Computer software', 'Network...</td>\n",
       "      <td>['Perovich, Daniel', '', '', 'Rossel, Pedro O'...</td>\n",
       "      <td>CS Department, Universidad de Chile, Santiago,...</td>\n",
       "      <td>2011</td>\n",
       "      <td>WICSA</td>\n",
       "    </tr>\n",
       "    <tr>\n",
       "      <th>4</th>\n",
       "      <td>5</td>\n",
       "      <td>A catalyst for anode oxidation of methanol, ca...</td>\n",
       "      <td>Carbon supported Pt shell modified PdCo core w...</td>\n",
       "      <td>['Cerium alloys', 'Chronoamperometry', 'Cyclic...</td>\n",
       "      <td>['Wang, Rongfang', ' ,', '', ' Wang, Hui', ' ,...</td>\n",
       "      <td>Key Laboratory of Eco Environment Related Poly...</td>\n",
       "      <td>2010</td>\n",
       "      <td>ECSA</td>\n",
       "    </tr>\n",
       "  </tbody>\n",
       "</table>\n",
       "</div>"
      ],
      "text/plain": [
       "   paperID                                           abstract  \\\n",
       "0        1  A Software Product Line  SPL  is a family of r...   \n",
       "1        2  A Software Product Line  SPL  is a portfolio o...   \n",
       "2        3  A Software Product Line  SPL  is a portfolio o...   \n",
       "3        4  A Software Product Line  SPL  is a portfolio o...   \n",
       "4        5  A catalyst for anode oxidation of methanol, ca...   \n",
       "\n",
       "                                               title  \\\n",
       "0  On the need of safe software product line arch...   \n",
       "1  Feature model to product architectures  Applyi...   \n",
       "2  Feature model to product architectures  Applyi...   \n",
       "3  Feature model to product architectures  Applyi...   \n",
       "4  Carbon supported Pt shell modified PdCo core w...   \n",
       "\n",
       "                                               terms  \\\n",
       "0  ['Software design', 'Structural properties', '...   \n",
       "1  ['Architecture', 'Computer software', 'Network...   \n",
       "2  ['Architecture', 'Computer software', 'Network...   \n",
       "3  ['Architecture', 'Computer software', 'Network...   \n",
       "4  ['Cerium alloys', 'Chronoamperometry', 'Cyclic...   \n",
       "\n",
       "                                             authors  \\\n",
       "0  ['Lopez Herrejon, Roberto E', '', '', ' Egyed,...   \n",
       "1  ['Perovich, Daniel', '', '', 'Rossel, Pedro O'...   \n",
       "2  ['Perovich, Daniel', '', '', 'Rossel, Pedro O'...   \n",
       "3  ['Perovich, Daniel', '', '', 'Rossel, Pedro O'...   \n",
       "4  ['Wang, Rongfang', ' ,', '', ' Wang, Hui', ' ,...   \n",
       "\n",
       "                                         affiliation  pubYear confName  \n",
       "0  Institute for Systems Engineering and Automati...     2010     ECSA  \n",
       "1  CS Department, Universidad de Chile, Santiago,...     2009     ECSA  \n",
       "2  CS Department, Universidad de Chile, Santiago,...     2009    WICSA  \n",
       "3  CS Department, Universidad de Chile, Santiago,...     2011    WICSA  \n",
       "4  Key Laboratory of Eco Environment Related Poly...     2010     ECSA  "
      ]
     },
     "execution_count": 17,
     "metadata": {},
     "output_type": "execute_result"
    }
   ],
   "source": [
    "paperDF.head()"
   ]
  },
  {
   "cell_type": "markdown",
   "metadata": {
    "collapsed": false
   },
   "source": [
    "# PAPERKEY COMPOSITE"
   ]
  },
  {
   "cell_type": "code",
   "execution_count": 18,
   "metadata": {
    "collapsed": false
   },
   "outputs": [
    {
     "name": "stderr",
     "output_type": "stream",
     "text": [
      "sqlcommands.py:558: SettingWithCopyWarning: \n",
      "A value is trying to be set on a copy of a slice from a DataFrame.\n",
      "Try using .loc[row_indexer,col_indexer] = value instead\n",
      "\n",
      "See the caveats in the documentation: http://pandas.pydata.org/pandas-docs/stable/indexing.html#indexing-view-versus-copy\n",
      "  parsedPaper['NEWTERMS'] = parsedPaper[DFCol[-1]].apply(lambda x:\n"
     ]
    },
    {
     "name": "stdout",
     "output_type": "stream",
     "text": [
      "Opened Abstracts_DB.db database successfully\n",
      "Records created successfully\n"
     ]
    }
   ],
   "source": [
    "pk = cmd.createPAPERKEYTable(paperDF)"
   ]
  },
  {
   "cell_type": "code",
   "execution_count": 19,
   "metadata": {
    "collapsed": false
   },
   "outputs": [
    {
     "data": {
      "text/html": [
       "<div>\n",
       "<table border=\"1\" class=\"dataframe\">\n",
       "  <thead>\n",
       "    <tr style=\"text-align: right;\">\n",
       "      <th></th>\n",
       "      <th>paperID</th>\n",
       "      <th>keyword</th>\n",
       "    </tr>\n",
       "  </thead>\n",
       "  <tbody>\n",
       "    <tr>\n",
       "      <th>0</th>\n",
       "      <td>1</td>\n",
       "      <td>u'Research challenges'</td>\n",
       "    </tr>\n",
       "    <tr>\n",
       "      <th>1</th>\n",
       "      <td>1</td>\n",
       "      <td>u'Software product line architecture'</td>\n",
       "    </tr>\n",
       "    <tr>\n",
       "      <th>2</th>\n",
       "      <td>1</td>\n",
       "      <td>u'Materials Science'</td>\n",
       "    </tr>\n",
       "    <tr>\n",
       "      <th>3</th>\n",
       "      <td>1</td>\n",
       "      <td>u'Structural properties'</td>\n",
       "    </tr>\n",
       "    <tr>\n",
       "      <th>4</th>\n",
       "      <td>1</td>\n",
       "      <td>u'Software product lines'</td>\n",
       "    </tr>\n",
       "  </tbody>\n",
       "</table>\n",
       "</div>"
      ],
      "text/plain": [
       "   paperID                                 keyword\n",
       "0        1                  u'Research challenges'\n",
       "1        1   u'Software product line architecture'\n",
       "2        1                    u'Materials Science'\n",
       "3        1                u'Structural properties'\n",
       "4        1               u'Software product lines'"
      ]
     },
     "execution_count": 19,
     "metadata": {},
     "output_type": "execute_result"
    }
   ],
   "source": [
    "pk.head()"
   ]
  },
  {
   "cell_type": "code",
   "execution_count": 20,
   "metadata": {
    "collapsed": false
   },
   "outputs": [
    {
     "data": {
      "text/html": [
       "<div>\n",
       "<table border=\"1\" class=\"dataframe\">\n",
       "  <thead>\n",
       "    <tr style=\"text-align: right;\">\n",
       "      <th></th>\n",
       "      <th>paperID</th>\n",
       "      <th>keyword</th>\n",
       "    </tr>\n",
       "  </thead>\n",
       "  <tbody>\n",
       "    <tr>\n",
       "      <th>25672</th>\n",
       "      <td>1486</td>\n",
       "      <td>u'Carbon corrosion'</td>\n",
       "    </tr>\n",
       "    <tr>\n",
       "      <th>25673</th>\n",
       "      <td>1486</td>\n",
       "      <td>u'Chemical Products Generally'</td>\n",
       "    </tr>\n",
       "    <tr>\n",
       "      <th>25674</th>\n",
       "      <td>1486</td>\n",
       "      <td>u'Optical Devices and Systems'</td>\n",
       "    </tr>\n",
       "    <tr>\n",
       "      <th>25675</th>\n",
       "      <td>1486</td>\n",
       "      <td>u'Fuel cells'</td>\n",
       "    </tr>\n",
       "    <tr>\n",
       "      <th>25676</th>\n",
       "      <td>1486</td>\n",
       "      <td>u'Transmission electron microscopy'</td>\n",
       "    </tr>\n",
       "  </tbody>\n",
       "</table>\n",
       "</div>"
      ],
      "text/plain": [
       "       paperID                               keyword\n",
       "25672     1486                   u'Carbon corrosion'\n",
       "25673     1486        u'Chemical Products Generally'\n",
       "25674     1486        u'Optical Devices and Systems'\n",
       "25675     1486                         u'Fuel cells'\n",
       "25676     1486   u'Transmission electron microscopy'"
      ]
     },
     "execution_count": 20,
     "metadata": {},
     "output_type": "execute_result"
    }
   ],
   "source": [
    "pk.tail()"
   ]
  },
  {
   "cell_type": "code",
   "execution_count": 22,
   "metadata": {
    "collapsed": false
   },
   "outputs": [
    {
     "data": {
      "text/html": [
       "<div>\n",
       "<table border=\"1\" class=\"dataframe\">\n",
       "  <thead>\n",
       "    <tr style=\"text-align: right;\">\n",
       "      <th></th>\n",
       "      <th>paperID</th>\n",
       "      <th>keyword</th>\n",
       "      <th>confName</th>\n",
       "    </tr>\n",
       "  </thead>\n",
       "  <tbody>\n",
       "    <tr>\n",
       "      <th>0</th>\n",
       "      <td>1</td>\n",
       "      <td>u'Research challenges'</td>\n",
       "      <td>ECSA</td>\n",
       "    </tr>\n",
       "    <tr>\n",
       "      <th>1</th>\n",
       "      <td>1</td>\n",
       "      <td>u'Software product line architecture'</td>\n",
       "      <td>ECSA</td>\n",
       "    </tr>\n",
       "    <tr>\n",
       "      <th>2</th>\n",
       "      <td>1</td>\n",
       "      <td>u'Materials Science'</td>\n",
       "      <td>ECSA</td>\n",
       "    </tr>\n",
       "    <tr>\n",
       "      <th>3</th>\n",
       "      <td>1</td>\n",
       "      <td>u'Structural properties'</td>\n",
       "      <td>ECSA</td>\n",
       "    </tr>\n",
       "    <tr>\n",
       "      <th>4</th>\n",
       "      <td>1</td>\n",
       "      <td>u'Software product lines'</td>\n",
       "      <td>ECSA</td>\n",
       "    </tr>\n",
       "    <tr>\n",
       "      <th>5</th>\n",
       "      <td>1</td>\n",
       "      <td>u'Software systems'</td>\n",
       "      <td>ECSA</td>\n",
       "    </tr>\n",
       "    <tr>\n",
       "      <th>6</th>\n",
       "      <td>1</td>\n",
       "      <td>u'Software design'</td>\n",
       "      <td>ECSA</td>\n",
       "    </tr>\n",
       "    <tr>\n",
       "      <th>7</th>\n",
       "      <td>1</td>\n",
       "      <td>u'Product-lines'</td>\n",
       "      <td>ECSA</td>\n",
       "    </tr>\n",
       "    <tr>\n",
       "      <th>8</th>\n",
       "      <td>1</td>\n",
       "      <td>u'Computer Programming'</td>\n",
       "      <td>ECSA</td>\n",
       "    </tr>\n",
       "    <tr>\n",
       "      <th>9</th>\n",
       "      <td>1</td>\n",
       "      <td>u'Feature models'</td>\n",
       "      <td>ECSA</td>\n",
       "    </tr>\n",
       "    <tr>\n",
       "      <th>10</th>\n",
       "      <td>1</td>\n",
       "      <td>u'Structural Design'</td>\n",
       "      <td>ECSA</td>\n",
       "    </tr>\n",
       "    <tr>\n",
       "      <th>11</th>\n",
       "      <td>2</td>\n",
       "      <td>u'Model transformation'</td>\n",
       "      <td>ECSA</td>\n",
       "    </tr>\n",
       "    <tr>\n",
       "      <th>12</th>\n",
       "      <td>2</td>\n",
       "      <td>u'Design complexity'</td>\n",
       "      <td>ECSA</td>\n",
       "    </tr>\n",
       "    <tr>\n",
       "      <th>13</th>\n",
       "      <td>2</td>\n",
       "      <td>u'Computer software'</td>\n",
       "      <td>ECSA</td>\n",
       "    </tr>\n",
       "    <tr>\n",
       "      <th>14</th>\n",
       "      <td>2</td>\n",
       "      <td>u'Architectural decision'</td>\n",
       "      <td>ECSA</td>\n",
       "    </tr>\n",
       "  </tbody>\n",
       "</table>\n",
       "</div>"
      ],
      "text/plain": [
       "    paperID                                 keyword confName\n",
       "0         1                  u'Research challenges'     ECSA\n",
       "1         1   u'Software product line architecture'     ECSA\n",
       "2         1                    u'Materials Science'     ECSA\n",
       "3         1                u'Structural properties'     ECSA\n",
       "4         1               u'Software product lines'     ECSA\n",
       "5         1                     u'Software systems'     ECSA\n",
       "6         1                      u'Software design'     ECSA\n",
       "7         1                        u'Product-lines'     ECSA\n",
       "8         1                 u'Computer Programming'     ECSA\n",
       "9         1                       u'Feature models'     ECSA\n",
       "10        1                    u'Structural Design'     ECSA\n",
       "11        2                 u'Model transformation'     ECSA\n",
       "12        2                    u'Design complexity'     ECSA\n",
       "13        2                    u'Computer software'     ECSA\n",
       "14        2               u'Architectural decision'     ECSA"
      ]
     },
     "execution_count": 22,
     "metadata": {},
     "output_type": "execute_result"
    }
   ],
   "source": [
    "pk.merge(paperDF[['paperID', 'confName']], on = 'paperID').head(15)"
   ]
  },
  {
   "cell_type": "markdown",
   "metadata": {
    "collapsed": true
   },
   "source": [
    "# Affiliation_Paper Composite \n",
    "## necessary?"
   ]
  },
  {
   "cell_type": "code",
   "execution_count": 23,
   "metadata": {
    "collapsed": false
   },
   "outputs": [
    {
     "name": "stdout",
     "output_type": "stream",
     "text": [
      "Opened Abstracts_DB database successfully\n",
      "Records created successfully\n"
     ]
    }
   ],
   "source": [
    "paperAffiliationDF = cmd.createAFFILIATIONPAPERTable(paperDF, affilDF)"
   ]
  },
  {
   "cell_type": "code",
   "execution_count": 24,
   "metadata": {
    "collapsed": false
   },
   "outputs": [
    {
     "data": {
      "text/html": [
       "<div>\n",
       "<table border=\"1\" class=\"dataframe\">\n",
       "  <thead>\n",
       "    <tr style=\"text-align: right;\">\n",
       "      <th></th>\n",
       "      <th>paperID</th>\n",
       "      <th>affilID</th>\n",
       "    </tr>\n",
       "  </thead>\n",
       "  <tbody>\n",
       "    <tr>\n",
       "      <th>1481</th>\n",
       "      <td>1482</td>\n",
       "      <td>1107</td>\n",
       "    </tr>\n",
       "    <tr>\n",
       "      <th>1482</th>\n",
       "      <td>1483</td>\n",
       "      <td>379</td>\n",
       "    </tr>\n",
       "    <tr>\n",
       "      <th>1483</th>\n",
       "      <td>1484</td>\n",
       "      <td>379</td>\n",
       "    </tr>\n",
       "    <tr>\n",
       "      <th>1484</th>\n",
       "      <td>1485</td>\n",
       "      <td>971</td>\n",
       "    </tr>\n",
       "    <tr>\n",
       "      <th>1485</th>\n",
       "      <td>1486</td>\n",
       "      <td>412</td>\n",
       "    </tr>\n",
       "  </tbody>\n",
       "</table>\n",
       "</div>"
      ],
      "text/plain": [
       "      paperID  affilID\n",
       "1481     1482     1107\n",
       "1482     1483      379\n",
       "1483     1484      379\n",
       "1484     1485      971\n",
       "1485     1486      412"
      ]
     },
     "execution_count": 24,
     "metadata": {},
     "output_type": "execute_result"
    }
   ],
   "source": [
    "paperAffiliationDF.tail()"
   ]
  },
  {
   "cell_type": "code",
   "execution_count": 25,
   "metadata": {
    "collapsed": false
   },
   "outputs": [
    {
     "data": {
      "text/html": [
       "<div>\n",
       "<table border=\"1\" class=\"dataframe\">\n",
       "  <thead>\n",
       "    <tr style=\"text-align: right;\">\n",
       "      <th></th>\n",
       "      <th>paperID</th>\n",
       "      <th>pubYear</th>\n",
       "      <th>affilID</th>\n",
       "    </tr>\n",
       "  </thead>\n",
       "  <tbody>\n",
       "    <tr>\n",
       "      <th>1481</th>\n",
       "      <td>1482</td>\n",
       "      <td>2014</td>\n",
       "      <td>1107</td>\n",
       "    </tr>\n",
       "    <tr>\n",
       "      <th>1482</th>\n",
       "      <td>1483</td>\n",
       "      <td>2012</td>\n",
       "      <td>379</td>\n",
       "    </tr>\n",
       "    <tr>\n",
       "      <th>1483</th>\n",
       "      <td>1484</td>\n",
       "      <td>2012</td>\n",
       "      <td>379</td>\n",
       "    </tr>\n",
       "    <tr>\n",
       "      <th>1484</th>\n",
       "      <td>1485</td>\n",
       "      <td>2005</td>\n",
       "      <td>971</td>\n",
       "    </tr>\n",
       "    <tr>\n",
       "      <th>1485</th>\n",
       "      <td>1486</td>\n",
       "      <td>2012</td>\n",
       "      <td>412</td>\n",
       "    </tr>\n",
       "  </tbody>\n",
       "</table>\n",
       "</div>"
      ],
      "text/plain": [
       "      paperID  pubYear  affilID\n",
       "1481     1482     2014     1107\n",
       "1482     1483     2012      379\n",
       "1483     1484     2012      379\n",
       "1484     1485     2005      971\n",
       "1485     1486     2012      412"
      ]
     },
     "execution_count": 25,
     "metadata": {},
     "output_type": "execute_result"
    }
   ],
   "source": [
    "paperDF[['paperID', 'pubYear']].merge(paperAffiliationDF, on = 'paperID').tail()"
   ]
  },
  {
   "cell_type": "markdown",
   "metadata": {},
   "source": [
    "# PAPERAUTHORS COMPOSITE"
   ]
  },
  {
   "cell_type": "code",
   "execution_count": 26,
   "metadata": {
    "collapsed": false
   },
   "outputs": [
    {
     "name": "stdout",
     "output_type": "stream",
     "text": [
      "Opened Abstracts_DB.db database successfully\n",
      "Records created successfully\n"
     ]
    }
   ],
   "source": [
    "authors = cmd.createPAPERAUTHORTable(paperDF[['paperID', 'authors']])"
   ]
  },
  {
   "cell_type": "code",
   "execution_count": 27,
   "metadata": {
    "collapsed": false
   },
   "outputs": [
    {
     "data": {
      "text/html": [
       "<div>\n",
       "<table border=\"1\" class=\"dataframe\">\n",
       "  <thead>\n",
       "    <tr style=\"text-align: right;\">\n",
       "      <th></th>\n",
       "      <th>paperID</th>\n",
       "      <th>authorName</th>\n",
       "    </tr>\n",
       "  </thead>\n",
       "  <tbody>\n",
       "    <tr>\n",
       "      <th>0</th>\n",
       "      <td>1</td>\n",
       "      <td>Lopez Herrejon, Roberto E</td>\n",
       "    </tr>\n",
       "    <tr>\n",
       "      <th>1</th>\n",
       "      <td>1</td>\n",
       "      <td>Egyed, Alexander</td>\n",
       "    </tr>\n",
       "    <tr>\n",
       "      <th>2</th>\n",
       "      <td>2</td>\n",
       "      <td>Perovich, Daniel</td>\n",
       "    </tr>\n",
       "    <tr>\n",
       "      <th>3</th>\n",
       "      <td>2</td>\n",
       "      <td>Rossel, Pedro O</td>\n",
       "    </tr>\n",
       "    <tr>\n",
       "      <th>4</th>\n",
       "      <td>2</td>\n",
       "      <td>Bastarrica, Mar a Cecilia</td>\n",
       "    </tr>\n",
       "    <tr>\n",
       "      <th>5</th>\n",
       "      <td>3</td>\n",
       "      <td>Perovich, Daniel</td>\n",
       "    </tr>\n",
       "    <tr>\n",
       "      <th>6</th>\n",
       "      <td>3</td>\n",
       "      <td>Rossel, Pedro O</td>\n",
       "    </tr>\n",
       "    <tr>\n",
       "      <th>7</th>\n",
       "      <td>3</td>\n",
       "      <td>Bastarrica, Mar a Cecilia</td>\n",
       "    </tr>\n",
       "    <tr>\n",
       "      <th>8</th>\n",
       "      <td>4</td>\n",
       "      <td>Perovich, Daniel</td>\n",
       "    </tr>\n",
       "    <tr>\n",
       "      <th>9</th>\n",
       "      <td>4</td>\n",
       "      <td>Rossel, Pedro O</td>\n",
       "    </tr>\n",
       "    <tr>\n",
       "      <th>10</th>\n",
       "      <td>4</td>\n",
       "      <td>Bastarrica, Mar a Cecilia</td>\n",
       "    </tr>\n",
       "    <tr>\n",
       "      <th>11</th>\n",
       "      <td>5</td>\n",
       "      <td>Wang, Rongfang</td>\n",
       "    </tr>\n",
       "    <tr>\n",
       "      <th>12</th>\n",
       "      <td>5</td>\n",
       "      <td>Wang, Hui</td>\n",
       "    </tr>\n",
       "    <tr>\n",
       "      <th>13</th>\n",
       "      <td>5</td>\n",
       "      <td>Wei, Bangxing</td>\n",
       "    </tr>\n",
       "    <tr>\n",
       "      <th>14</th>\n",
       "      <td>5</td>\n",
       "      <td>Wang, Wei</td>\n",
       "    </tr>\n",
       "    <tr>\n",
       "      <th>15</th>\n",
       "      <td>5</td>\n",
       "      <td>Lei, Ziqiang</td>\n",
       "    </tr>\n",
       "    <tr>\n",
       "      <th>16</th>\n",
       "      <td>6</td>\n",
       "      <td>Hilliard, Rich</td>\n",
       "    </tr>\n",
       "    <tr>\n",
       "      <th>17</th>\n",
       "      <td>6</td>\n",
       "      <td>Malavolta, Ivano</td>\n",
       "    </tr>\n",
       "    <tr>\n",
       "      <th>18</th>\n",
       "      <td>6</td>\n",
       "      <td>Muccini, Henry</td>\n",
       "    </tr>\n",
       "    <tr>\n",
       "      <th>19</th>\n",
       "      <td>6</td>\n",
       "      <td>Pelliccione, Patrizio</td>\n",
       "    </tr>\n",
       "  </tbody>\n",
       "</table>\n",
       "</div>"
      ],
      "text/plain": [
       "    paperID                  authorName\n",
       "0         1   Lopez Herrejon, Roberto E\n",
       "1         1            Egyed, Alexander\n",
       "2         2            Perovich, Daniel\n",
       "3         2             Rossel, Pedro O\n",
       "4         2   Bastarrica, Mar a Cecilia\n",
       "5         3            Perovich, Daniel\n",
       "6         3             Rossel, Pedro O\n",
       "7         3   Bastarrica, Mar a Cecilia\n",
       "8         4            Perovich, Daniel\n",
       "9         4             Rossel, Pedro O\n",
       "10        4   Bastarrica, Mar a Cecilia\n",
       "11        5              Wang, Rongfang\n",
       "12        5                   Wang, Hui\n",
       "13        5               Wei, Bangxing\n",
       "14        5                   Wang, Wei\n",
       "15        5                Lei, Ziqiang\n",
       "16        6              Hilliard, Rich\n",
       "17        6            Malavolta, Ivano\n",
       "18        6              Muccini, Henry\n",
       "19        6       Pelliccione, Patrizio"
      ]
     },
     "execution_count": 27,
     "metadata": {},
     "output_type": "execute_result"
    }
   ],
   "source": [
    "authors.head(20)"
   ]
  },
  {
   "cell_type": "code",
   "execution_count": 28,
   "metadata": {
    "collapsed": false
   },
   "outputs": [
    {
     "data": {
      "text/html": [
       "<div>\n",
       "<table border=\"1\" class=\"dataframe\">\n",
       "  <thead>\n",
       "    <tr style=\"text-align: right;\">\n",
       "      <th></th>\n",
       "      <th>paperID</th>\n",
       "      <th>title</th>\n",
       "      <th>authorName</th>\n",
       "    </tr>\n",
       "  </thead>\n",
       "  <tbody>\n",
       "    <tr>\n",
       "      <th>0</th>\n",
       "      <td>1</td>\n",
       "      <td>On the need of safe software product line arch...</td>\n",
       "      <td>Lopez Herrejon, Roberto E</td>\n",
       "    </tr>\n",
       "    <tr>\n",
       "      <th>1</th>\n",
       "      <td>1</td>\n",
       "      <td>On the need of safe software product line arch...</td>\n",
       "      <td>Egyed, Alexander</td>\n",
       "    </tr>\n",
       "    <tr>\n",
       "      <th>2</th>\n",
       "      <td>2</td>\n",
       "      <td>Feature model to product architectures  Applyi...</td>\n",
       "      <td>Perovich, Daniel</td>\n",
       "    </tr>\n",
       "    <tr>\n",
       "      <th>3</th>\n",
       "      <td>2</td>\n",
       "      <td>Feature model to product architectures  Applyi...</td>\n",
       "      <td>Rossel, Pedro O</td>\n",
       "    </tr>\n",
       "    <tr>\n",
       "      <th>4</th>\n",
       "      <td>2</td>\n",
       "      <td>Feature model to product architectures  Applyi...</td>\n",
       "      <td>Bastarrica, Mar a Cecilia</td>\n",
       "    </tr>\n",
       "    <tr>\n",
       "      <th>5</th>\n",
       "      <td>3</td>\n",
       "      <td>Feature model to product architectures  Applyi...</td>\n",
       "      <td>Perovich, Daniel</td>\n",
       "    </tr>\n",
       "    <tr>\n",
       "      <th>6</th>\n",
       "      <td>3</td>\n",
       "      <td>Feature model to product architectures  Applyi...</td>\n",
       "      <td>Rossel, Pedro O</td>\n",
       "    </tr>\n",
       "    <tr>\n",
       "      <th>7</th>\n",
       "      <td>3</td>\n",
       "      <td>Feature model to product architectures  Applyi...</td>\n",
       "      <td>Bastarrica, Mar a Cecilia</td>\n",
       "    </tr>\n",
       "    <tr>\n",
       "      <th>8</th>\n",
       "      <td>4</td>\n",
       "      <td>Feature model to product architectures  Applyi...</td>\n",
       "      <td>Perovich, Daniel</td>\n",
       "    </tr>\n",
       "    <tr>\n",
       "      <th>9</th>\n",
       "      <td>4</td>\n",
       "      <td>Feature model to product architectures  Applyi...</td>\n",
       "      <td>Rossel, Pedro O</td>\n",
       "    </tr>\n",
       "    <tr>\n",
       "      <th>10</th>\n",
       "      <td>4</td>\n",
       "      <td>Feature model to product architectures  Applyi...</td>\n",
       "      <td>Bastarrica, Mar a Cecilia</td>\n",
       "    </tr>\n",
       "    <tr>\n",
       "      <th>11</th>\n",
       "      <td>5</td>\n",
       "      <td>Carbon supported Pt shell modified PdCo core w...</td>\n",
       "      <td>Wang, Rongfang</td>\n",
       "    </tr>\n",
       "    <tr>\n",
       "      <th>12</th>\n",
       "      <td>5</td>\n",
       "      <td>Carbon supported Pt shell modified PdCo core w...</td>\n",
       "      <td>Wang, Hui</td>\n",
       "    </tr>\n",
       "    <tr>\n",
       "      <th>13</th>\n",
       "      <td>5</td>\n",
       "      <td>Carbon supported Pt shell modified PdCo core w...</td>\n",
       "      <td>Wei, Bangxing</td>\n",
       "    </tr>\n",
       "    <tr>\n",
       "      <th>14</th>\n",
       "      <td>5</td>\n",
       "      <td>Carbon supported Pt shell modified PdCo core w...</td>\n",
       "      <td>Wang, Wei</td>\n",
       "    </tr>\n",
       "    <tr>\n",
       "      <th>15</th>\n",
       "      <td>5</td>\n",
       "      <td>Carbon supported Pt shell modified PdCo core w...</td>\n",
       "      <td>Lei, Ziqiang</td>\n",
       "    </tr>\n",
       "    <tr>\n",
       "      <th>16</th>\n",
       "      <td>6</td>\n",
       "      <td>On the composition and reuse of viewpoints acr...</td>\n",
       "      <td>Hilliard, Rich</td>\n",
       "    </tr>\n",
       "    <tr>\n",
       "      <th>17</th>\n",
       "      <td>6</td>\n",
       "      <td>On the composition and reuse of viewpoints acr...</td>\n",
       "      <td>Malavolta, Ivano</td>\n",
       "    </tr>\n",
       "    <tr>\n",
       "      <th>18</th>\n",
       "      <td>6</td>\n",
       "      <td>On the composition and reuse of viewpoints acr...</td>\n",
       "      <td>Muccini, Henry</td>\n",
       "    </tr>\n",
       "    <tr>\n",
       "      <th>19</th>\n",
       "      <td>6</td>\n",
       "      <td>On the composition and reuse of viewpoints acr...</td>\n",
       "      <td>Pelliccione, Patrizio</td>\n",
       "    </tr>\n",
       "  </tbody>\n",
       "</table>\n",
       "</div>"
      ],
      "text/plain": [
       "    paperID                                              title  \\\n",
       "0         1  On the need of safe software product line arch...   \n",
       "1         1  On the need of safe software product line arch...   \n",
       "2         2  Feature model to product architectures  Applyi...   \n",
       "3         2  Feature model to product architectures  Applyi...   \n",
       "4         2  Feature model to product architectures  Applyi...   \n",
       "5         3  Feature model to product architectures  Applyi...   \n",
       "6         3  Feature model to product architectures  Applyi...   \n",
       "7         3  Feature model to product architectures  Applyi...   \n",
       "8         4  Feature model to product architectures  Applyi...   \n",
       "9         4  Feature model to product architectures  Applyi...   \n",
       "10        4  Feature model to product architectures  Applyi...   \n",
       "11        5  Carbon supported Pt shell modified PdCo core w...   \n",
       "12        5  Carbon supported Pt shell modified PdCo core w...   \n",
       "13        5  Carbon supported Pt shell modified PdCo core w...   \n",
       "14        5  Carbon supported Pt shell modified PdCo core w...   \n",
       "15        5  Carbon supported Pt shell modified PdCo core w...   \n",
       "16        6  On the composition and reuse of viewpoints acr...   \n",
       "17        6  On the composition and reuse of viewpoints acr...   \n",
       "18        6  On the composition and reuse of viewpoints acr...   \n",
       "19        6  On the composition and reuse of viewpoints acr...   \n",
       "\n",
       "                    authorName  \n",
       "0    Lopez Herrejon, Roberto E  \n",
       "1             Egyed, Alexander  \n",
       "2             Perovich, Daniel  \n",
       "3              Rossel, Pedro O  \n",
       "4    Bastarrica, Mar a Cecilia  \n",
       "5             Perovich, Daniel  \n",
       "6              Rossel, Pedro O  \n",
       "7    Bastarrica, Mar a Cecilia  \n",
       "8             Perovich, Daniel  \n",
       "9              Rossel, Pedro O  \n",
       "10   Bastarrica, Mar a Cecilia  \n",
       "11              Wang, Rongfang  \n",
       "12                   Wang, Hui  \n",
       "13               Wei, Bangxing  \n",
       "14                   Wang, Wei  \n",
       "15                Lei, Ziqiang  \n",
       "16              Hilliard, Rich  \n",
       "17            Malavolta, Ivano  \n",
       "18              Muccini, Henry  \n",
       "19       Pelliccione, Patrizio  "
      ]
     },
     "execution_count": 28,
     "metadata": {},
     "output_type": "execute_result"
    }
   ],
   "source": [
    "paperDF[['paperID', 'title']].merge(authors, on = 'paperID').head(20)"
   ]
  },
  {
   "cell_type": "code",
   "execution_count": null,
   "metadata": {
    "collapsed": true
   },
   "outputs": [],
   "source": []
  }
 ],
 "metadata": {
  "kernelspec": {
   "display_name": "Python 2",
   "language": "python",
   "name": "python2"
  },
  "language_info": {
   "codemirror_mode": {
    "name": "ipython",
    "version": 2
   },
   "file_extension": ".py",
   "mimetype": "text/x-python",
   "name": "python",
   "nbconvert_exporter": "python",
   "pygments_lexer": "ipython2",
   "version": "2.7.11"
  }
 },
 "nbformat": 4,
 "nbformat_minor": 0
}
