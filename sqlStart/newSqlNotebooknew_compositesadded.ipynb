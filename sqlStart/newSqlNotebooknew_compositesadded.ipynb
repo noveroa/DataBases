{
 "cells": [
  {
   "cell_type": "markdown",
   "metadata": {},
   "source": [
    "# Now just using DF directly\n",
    "## no longer need to parse separately into lists etc.  all done internally\n",
    "## TO Do the dump load and initialize the DB, need to make sure correct order pf tables is loaded first those with no dependencies and then increasingly so.\n",
    "## now only erroring on original 3 .txt noted by Ian Gorton in original commnication\n",
    "- - 1. Conf\n",
    "- - 2. Pub , Keys, Authors, Affiliations (use sets to create unique ones but may change to all .unique)\n",
    "- - 3. Composites (Many to Many)\n",
    "- - 4. Paper/abstracts\n",
    "\n"
   ]
  },
  {
   "cell_type": "code",
   "execution_count": 7,
   "metadata": {
    "collapsed": true
   },
   "outputs": [],
   "source": [
    "import sqlite3\n",
    "import pandas as pd"
   ]
  },
  {
   "cell_type": "code",
   "execution_count": 8,
   "metadata": {
    "collapsed": false
   },
   "outputs": [
    {
     "name": "stdout",
     "output_type": "stream",
     "text": [
      "(1140, 7)\n"
     ]
    }
   ],
   "source": [
    "import sqlcommands as cmd\n",
    "cmd = reload(cmd)"
   ]
  },
  {
   "cell_type": "code",
   "execution_count": 9,
   "metadata": {
    "collapsed": false
   },
   "outputs": [
    {
     "data": {
      "text/html": [
       "<div>\n",
       "<table border=\"1\" class=\"dataframe\">\n",
       "  <thead>\n",
       "    <tr style=\"text-align: right;\">\n",
       "      <th></th>\n",
       "      <th>Abstract</th>\n",
       "      <th>Author affiliation</th>\n",
       "      <th>Authors</th>\n",
       "      <th>Conf</th>\n",
       "      <th>Title</th>\n",
       "      <th>terms</th>\n",
       "      <th>year</th>\n",
       "    </tr>\n",
       "  </thead>\n",
       "  <tbody>\n",
       "    <tr>\n",
       "      <th>50</th>\n",
       "      <td>The incorporation of fault tolerance into syst...</td>\n",
       "      <td>Institute of Computing, State University of Ca...</td>\n",
       "      <td>['Brito, Patrick H', 'S', '', '', ' De Lemos, ...</td>\n",
       "      <td>ECSA</td>\n",
       "      <td>Development of fault tolerant software systems...</td>\n",
       "      <td>['Abstracting', 'Computer software', 'Error de...</td>\n",
       "      <td>2008</td>\n",
       "    </tr>\n",
       "    <tr>\n",
       "      <th>51</th>\n",
       "      <td>Enterprise Architecture  EA  has undergone man...</td>\n",
       "      <td>International Graduate School of Dynamic Intel...</td>\n",
       "      <td>['Assmann, Martin', ' ,', '', ' Engels, Gregor...</td>\n",
       "      <td>ECSA</td>\n",
       "      <td>Transition to service oriented enterprise arch...</td>\n",
       "      <td>['Architecture', 'Information services', 'Web ...</td>\n",
       "      <td>2008</td>\n",
       "    </tr>\n",
       "    <tr>\n",
       "      <th>52</th>\n",
       "      <td>In domains, where great variability of require...</td>\n",
       "      <td>Kaunas University of Technology, Studentu 50, ...</td>\n",
       "      <td>['Damaevicius, Robertas', '', '', '', ' tuikys...</td>\n",
       "      <td>ECSA</td>\n",
       "      <td>Domain ontology based generative component des...</td>\n",
       "      <td>['Digital signal processing', 'Integrated circ...</td>\n",
       "      <td>2008</td>\n",
       "    </tr>\n",
       "    <tr>\n",
       "      <th>53</th>\n",
       "      <td>Software architecture can be represented as a ...</td>\n",
       "      <td>University of British Columbia</td>\n",
       "      <td>['Lee, Larix', '', '', 'Kruchten, Philippe']</td>\n",
       "      <td>ECSA</td>\n",
       "      <td>Visualizing software architectural design deci...</td>\n",
       "      <td>['Design', 'Software architecture', 'Software ...</td>\n",
       "      <td>2008</td>\n",
       "    </tr>\n",
       "    <tr>\n",
       "      <th>54</th>\n",
       "      <td>In this paper, we propose the application of c...</td>\n",
       "      <td>Federal University of Rio Grande do Norte  UFR...</td>\n",
       "      <td>['Batista, Thais', '', '', 'Gomes, Ant', ' nio...</td>\n",
       "      <td>ECSA</td>\n",
       "      <td>On the interplay of aspects and dynamic reconf...</td>\n",
       "      <td>['Blending', 'Dynamic models', 'Software desig...</td>\n",
       "      <td>2008</td>\n",
       "    </tr>\n",
       "    <tr>\n",
       "      <th>55</th>\n",
       "      <td>Empirical software engineering focuses on the ...</td>\n",
       "      <td>DISP, Univ  of Rome, Rome, Italy</td>\n",
       "      <td>['Falessi, D', '', '', ' Kruchten, P', ' Canto...</td>\n",
       "      <td>ECSA</td>\n",
       "      <td>Issues in applying empirical software engineer...</td>\n",
       "      <td>['software architecture', 'software quality', ...</td>\n",
       "      <td>2008</td>\n",
       "    </tr>\n",
       "    <tr>\n",
       "      <th>56</th>\n",
       "      <td>Software architecture description languages al...</td>\n",
       "      <td>LSTS   ENIT, Tunis, Tunisia</td>\n",
       "      <td>['Jerad, C', '', '', ' Barkaoui, K', ' Grissa ...</td>\n",
       "      <td>ECSA</td>\n",
       "      <td>Hierarchical verification in Maude of LfP soft...</td>\n",
       "      <td>['formal verification', 'rewriting systems', '...</td>\n",
       "      <td>2008</td>\n",
       "    </tr>\n",
       "    <tr>\n",
       "      <th>57</th>\n",
       "      <td>When an application must evolve to cope with n...</td>\n",
       "      <td>INRIA, Univ  des Sci  et Technol  de Lille, Vi...</td>\n",
       "      <td>['Waignier, G', '', '', ' Le Meur, A', 'F', ''...</td>\n",
       "      <td>ECSA</td>\n",
       "      <td>FIESTA  a generic framework for integrating ne...</td>\n",
       "      <td>['formal specification', 'software architectur...</td>\n",
       "      <td>2008</td>\n",
       "    </tr>\n",
       "    <tr>\n",
       "      <th>58</th>\n",
       "      <td>Ageless software evolves, to meet new requirem...</td>\n",
       "      <td>Sch  of Comput  Sci , Univ  of Adelaide, Adela...</td>\n",
       "      <td>['Falkner, K', '', '', ' Balasubramaniam, D', ...</td>\n",
       "      <td>ECSA</td>\n",
       "      <td>Informed evolution</td>\n",
       "      <td>['software architecture', 'software prototypin...</td>\n",
       "      <td>2008</td>\n",
       "    </tr>\n",
       "    <tr>\n",
       "      <th>59</th>\n",
       "      <td>The past 20 years has seen significant investm...</td>\n",
       "      <td>Software Group, IBM, Raleigh, NC, United States</td>\n",
       "      <td>['Brown, A W', '', '', ' McDermid, J A']</td>\n",
       "      <td>ECSA</td>\n",
       "      <td>The art and science of software architecture</td>\n",
       "      <td>['safety-critical software', 'software archite...</td>\n",
       "      <td>2008</td>\n",
       "    </tr>\n",
       "  </tbody>\n",
       "</table>\n",
       "</div>"
      ],
      "text/plain": [
       "                                             Abstract  \\\n",
       "50  The incorporation of fault tolerance into syst...   \n",
       "51  Enterprise Architecture  EA  has undergone man...   \n",
       "52  In domains, where great variability of require...   \n",
       "53  Software architecture can be represented as a ...   \n",
       "54  In this paper, we propose the application of c...   \n",
       "55  Empirical software engineering focuses on the ...   \n",
       "56  Software architecture description languages al...   \n",
       "57  When an application must evolve to cope with n...   \n",
       "58  Ageless software evolves, to meet new requirem...   \n",
       "59  The past 20 years has seen significant investm...   \n",
       "\n",
       "                                   Author affiliation  \\\n",
       "50  Institute of Computing, State University of Ca...   \n",
       "51  International Graduate School of Dynamic Intel...   \n",
       "52  Kaunas University of Technology, Studentu 50, ...   \n",
       "53                     University of British Columbia   \n",
       "54  Federal University of Rio Grande do Norte  UFR...   \n",
       "55                   DISP, Univ  of Rome, Rome, Italy   \n",
       "56                        LSTS   ENIT, Tunis, Tunisia   \n",
       "57  INRIA, Univ  des Sci  et Technol  de Lille, Vi...   \n",
       "58  Sch  of Comput  Sci , Univ  of Adelaide, Adela...   \n",
       "59    Software Group, IBM, Raleigh, NC, United States   \n",
       "\n",
       "                                              Authors  Conf  \\\n",
       "50  ['Brito, Patrick H', 'S', '', '', ' De Lemos, ...  ECSA   \n",
       "51  ['Assmann, Martin', ' ,', '', ' Engels, Gregor...  ECSA   \n",
       "52  ['Damaevicius, Robertas', '', '', '', ' tuikys...  ECSA   \n",
       "53       ['Lee, Larix', '', '', 'Kruchten, Philippe']  ECSA   \n",
       "54  ['Batista, Thais', '', '', 'Gomes, Ant', ' nio...  ECSA   \n",
       "55  ['Falessi, D', '', '', ' Kruchten, P', ' Canto...  ECSA   \n",
       "56  ['Jerad, C', '', '', ' Barkaoui, K', ' Grissa ...  ECSA   \n",
       "57  ['Waignier, G', '', '', ' Le Meur, A', 'F', ''...  ECSA   \n",
       "58  ['Falkner, K', '', '', ' Balasubramaniam, D', ...  ECSA   \n",
       "59           ['Brown, A W', '', '', ' McDermid, J A']  ECSA   \n",
       "\n",
       "                                                Title  \\\n",
       "50  Development of fault tolerant software systems...   \n",
       "51  Transition to service oriented enterprise arch...   \n",
       "52  Domain ontology based generative component des...   \n",
       "53  Visualizing software architectural design deci...   \n",
       "54  On the interplay of aspects and dynamic reconf...   \n",
       "55  Issues in applying empirical software engineer...   \n",
       "56  Hierarchical verification in Maude of LfP soft...   \n",
       "57  FIESTA  a generic framework for integrating ne...   \n",
       "58                                 Informed evolution   \n",
       "59       The art and science of software architecture   \n",
       "\n",
       "                                                terms  year  \n",
       "50  ['Abstracting', 'Computer software', 'Error de...  2008  \n",
       "51  ['Architecture', 'Information services', 'Web ...  2008  \n",
       "52  ['Digital signal processing', 'Integrated circ...  2008  \n",
       "53  ['Design', 'Software architecture', 'Software ...  2008  \n",
       "54  ['Blending', 'Dynamic models', 'Software desig...  2008  \n",
       "55  ['software architecture', 'software quality', ...  2008  \n",
       "56  ['formal verification', 'rewriting systems', '...  2008  \n",
       "57  ['formal specification', 'software architectur...  2008  \n",
       "58  ['software architecture', 'software prototypin...  2008  \n",
       "59  ['safety-critical software', 'software archite...  2008  "
      ]
     },
     "execution_count": 9,
     "metadata": {},
     "output_type": "execute_result"
    }
   ],
   "source": [
    "df = cmd.createTOTALTable()\n",
    "df.iloc[50:60]"
   ]
  },
  {
   "cell_type": "code",
   "execution_count": null,
   "metadata": {
    "collapsed": false
   },
   "outputs": [],
   "source": [
    "#don't need \n",
    "#df1 = cmd.getPatentDataFrame(hdffile='../DataBaseParsing/DFstore4.h5') "
   ]
  },
  {
   "cell_type": "code",
   "execution_count": 10,
   "metadata": {
    "collapsed": false
   },
   "outputs": [
    {
     "data": {
      "text/html": [
       "<div>\n",
       "<table border=\"1\" class=\"dataframe\">\n",
       "  <thead>\n",
       "    <tr style=\"text-align: right;\">\n",
       "      <th></th>\n",
       "      <th>Abstract</th>\n",
       "      <th>Author affiliation</th>\n",
       "      <th>Authors</th>\n",
       "      <th>Conf</th>\n",
       "      <th>Title</th>\n",
       "      <th>terms</th>\n",
       "      <th>year</th>\n",
       "    </tr>\n",
       "  </thead>\n",
       "  <tbody>\n",
       "    <tr>\n",
       "      <th>0</th>\n",
       "      <td>Empirical software engineering focuses on the ...</td>\n",
       "      <td>DISP, Univ  of Rome, Rome, Italy</td>\n",
       "      <td>['Falessi, D', '', '', ' Kruchten, P', ' Canto...</td>\n",
       "      <td>ECSA</td>\n",
       "      <td>Issues in applying empirical software engineer...</td>\n",
       "      <td>['software architecture', 'software quality', ...</td>\n",
       "      <td>2007</td>\n",
       "    </tr>\n",
       "    <tr>\n",
       "      <th>1</th>\n",
       "      <td>Software architecture description languages al...</td>\n",
       "      <td>LSTS   ENIT, Tunis, Tunisia</td>\n",
       "      <td>['Jerad, C', '', '', ' Barkaoui, K', ' Grissa ...</td>\n",
       "      <td>ECSA</td>\n",
       "      <td>Hierarchical verification in Maude of LfP soft...</td>\n",
       "      <td>['formal verification', 'rewriting systems', '...</td>\n",
       "      <td>2007</td>\n",
       "    </tr>\n",
       "    <tr>\n",
       "      <th>2</th>\n",
       "      <td>When an application must evolve to cope with n...</td>\n",
       "      <td>INRIA, Univ  des Sci  et Technol  de Lille, Vi...</td>\n",
       "      <td>['Waignier, G', '', '', ' Le Meur, A', 'F', ''...</td>\n",
       "      <td>ECSA</td>\n",
       "      <td>FIESTA  a generic framework for integrating ne...</td>\n",
       "      <td>['formal specification', 'software architectur...</td>\n",
       "      <td>2007</td>\n",
       "    </tr>\n",
       "    <tr>\n",
       "      <th>3</th>\n",
       "      <td>Ageless software evolves, to meet new requirem...</td>\n",
       "      <td>Sch  of Comput  Sci , Univ  of Adelaide, Adela...</td>\n",
       "      <td>['Falkner, K', '', '', ' Balasubramaniam, D', ...</td>\n",
       "      <td>ECSA</td>\n",
       "      <td>Informed evolution</td>\n",
       "      <td>['software architecture', 'software prototypin...</td>\n",
       "      <td>2007</td>\n",
       "    </tr>\n",
       "    <tr>\n",
       "      <th>4</th>\n",
       "      <td>The past 20 years has seen significant investm...</td>\n",
       "      <td>Software Group, IBM, Raleigh, NC, United States</td>\n",
       "      <td>['Brown, A W', '', '', ' McDermid, J A']</td>\n",
       "      <td>ECSA</td>\n",
       "      <td>The art and science of software architecture</td>\n",
       "      <td>['safety-critical software', 'software archite...</td>\n",
       "      <td>2007</td>\n",
       "    </tr>\n",
       "    <tr>\n",
       "      <th>5</th>\n",
       "      <td>Many issues must be taken into account in orde...</td>\n",
       "      <td>Comput  Syst  Dept , UCLM, Albacete, Spain</td>\n",
       "      <td>['Navarro, E', '', '', ' Letelier, P', ' Jaen,...</td>\n",
       "      <td>ECSA</td>\n",
       "      <td>Supporting the automatic generation of proto a...</td>\n",
       "      <td>['software architecture', 'proto-architectures...</td>\n",
       "      <td>2007</td>\n",
       "    </tr>\n",
       "    <tr>\n",
       "      <th>6</th>\n",
       "      <td>Prototyping service oriented architectures bas...</td>\n",
       "      <td>Dept  of Comput  Sci , Univ  of Aarhus, Arhus,...</td>\n",
       "      <td>['Kjaer, K E', '', '']</td>\n",
       "      <td>ECSA</td>\n",
       "      <td>First class connectors for prototyping service...</td>\n",
       "      <td>['Java', 'object-oriented programming', 'softw...</td>\n",
       "      <td>2007</td>\n",
       "    </tr>\n",
       "    <tr>\n",
       "      <th>7</th>\n",
       "      <td>Web Services based technologies have emerged a...</td>\n",
       "      <td>Dipt  Estadi   stica, Comput  Univ  de La Lagu...</td>\n",
       "      <td>['Santos, A', '', '', ' Almeida, F', '', '', '...</td>\n",
       "      <td>ECSA</td>\n",
       "      <td>Lightweight Web services for high performance ...</td>\n",
       "      <td>['portals', 'public domain software', 'securit...</td>\n",
       "      <td>2007</td>\n",
       "    </tr>\n",
       "    <tr>\n",
       "      <th>8</th>\n",
       "      <td>Much of the complexity of software architectur...</td>\n",
       "      <td>Comput  Sci  Dept , Pontifical Catholic Univ ,...</td>\n",
       "      <td>['Sant', ' Anna, C', '', '', ' Figueiredo, E',...</td>\n",
       "      <td>ECSA</td>\n",
       "      <td>On the modularity of software architectures  a...</td>\n",
       "      <td>['software architecture', 'software metrics', ...</td>\n",
       "      <td>2007</td>\n",
       "    </tr>\n",
       "    <tr>\n",
       "      <th>9</th>\n",
       "      <td>The vast diversity of implementation and suppo...</td>\n",
       "      <td>Comput  Languages   Syst  II Dept , Rey Juan C...</td>\n",
       "      <td>['Lopez Sanz, M', '', '', ' Acuna, C J', '', '...</td>\n",
       "      <td>ECSA</td>\n",
       "      <td>UML profile for the platform independent model...</td>\n",
       "      <td>['software architecture', 'Unified Modeling La...</td>\n",
       "      <td>2007</td>\n",
       "    </tr>\n",
       "    <tr>\n",
       "      <th>10</th>\n",
       "      <td>Nowadays, Wireless Sensor Networks  WSN  are a...</td>\n",
       "      <td>Div  de Sist  e Ing  Electron   DSIE , Univ  P...</td>\n",
       "      <td>['Losilla, F', '', '', ' Vicente Chicote, C', ...</td>\n",
       "      <td>ECSA</td>\n",
       "      <td>Wireless sensor network application developmen...</td>\n",
       "      <td>['abstract data types', 'object-oriented progr...</td>\n",
       "      <td>2007</td>\n",
       "    </tr>\n",
       "    <tr>\n",
       "      <th>11</th>\n",
       "      <td>In this paper, we report on the development of...</td>\n",
       "      <td>Dept  of Comput  Sci , Univ  of Leicester, Lei...</td>\n",
       "      <td>['Correia, R', '', '', ' Matos, C M P', '', ''...</td>\n",
       "      <td>ECSA</td>\n",
       "      <td>Architecture migration driven by code categori...</td>\n",
       "      <td>['graph grammars', 'program compilers', 'softw...</td>\n",
       "      <td>2007</td>\n",
       "    </tr>\n",
       "    <tr>\n",
       "      <th>12</th>\n",
       "      <td>Industrial Control Systems are used in most of...</td>\n",
       "      <td>Dept  of Autom  Control   Syst  Eng , Univ  of...</td>\n",
       "      <td>['Estevez, E', '', '', ' Marcos, M', '', '']</td>\n",
       "      <td>ECSA</td>\n",
       "      <td>Model driven approach for designing industrial...</td>\n",
       "      <td>['formal specification', 'industrial control',...</td>\n",
       "      <td>2007</td>\n",
       "    </tr>\n",
       "    <tr>\n",
       "      <th>13</th>\n",
       "      <td>Currently, most software systems have a dynami...</td>\n",
       "      <td>Dept  of Inf  Syst    Comput , Polytech  Univ ...</td>\n",
       "      <td>['Costa, C', '', '', ' Ali, N', '', '', ' Pere...</td>\n",
       "      <td>ECSA</td>\n",
       "      <td>Dynamic reconfiguration of software architectu...</td>\n",
       "      <td>['object-oriented programming', 'software arch...</td>\n",
       "      <td>2007</td>\n",
       "    </tr>\n",
       "    <tr>\n",
       "      <th>14</th>\n",
       "      <td>Software architecture views represent the basi...</td>\n",
       "      <td>Dept  of Inf  Syst    Comput , Tech  Univ  of ...</td>\n",
       "      <td>['Cordero, R L', '', '', ' Salavert, I R', '',...</td>\n",
       "      <td>ECSA</td>\n",
       "      <td>Analyzing styles of the modular software archi...</td>\n",
       "      <td>['software architecture', 'modular software ar...</td>\n",
       "      <td>2007</td>\n",
       "    </tr>\n",
       "    <tr>\n",
       "      <th>15</th>\n",
       "      <td>We suppose a methodology and a middleware to b...</td>\n",
       "      <td>Dept  for Appl  Telematics   e Bus , Univ  of ...</td>\n",
       "      <td>['Gruhn, V', '', '', ' Schafer, C', '', '']</td>\n",
       "      <td>ECSA</td>\n",
       "      <td>From mobile business processes to mobile infor...</td>\n",
       "      <td>['business data processing', 'middleware', 'mo...</td>\n",
       "      <td>2007</td>\n",
       "    </tr>\n",
       "    <tr>\n",
       "      <th>16</th>\n",
       "      <td>Recent advances in ubiquitous computing and ar...</td>\n",
       "      <td>Sch  of Comput  Sci , Carnegie Mellon Univ , P...</td>\n",
       "      <td>['Garlan, D', '', '']</td>\n",
       "      <td>ECSA</td>\n",
       "      <td>Software architectures for task oriented compu...</td>\n",
       "      <td>['artificial intelligence', 'software architec...</td>\n",
       "      <td>2007</td>\n",
       "    </tr>\n",
       "    <tr>\n",
       "      <th>17</th>\n",
       "      <td>Aqueducts define a variant of the pipe filter ...</td>\n",
       "      <td>Depto  de Inf , Univ  de Valladolid, Valladoli...</td>\n",
       "      <td>['Martfnez Prieto, M A', '', '', ' Cuesta, C E...</td>\n",
       "      <td>ECSA</td>\n",
       "      <td>Aqueducts  a layered pipeline based architectu...</td>\n",
       "      <td>['pipeline processing', 'XML', 'Aqueducts', 'l...</td>\n",
       "      <td>2007</td>\n",
       "    </tr>\n",
       "    <tr>\n",
       "      <th>18</th>\n",
       "      <td>Architectural design has been characterized as...</td>\n",
       "      <td>Dept  of Math    Comput  Sci , Univ  of Gronin...</td>\n",
       "      <td>['Harrison, N B', '', '', ' Avgeriou, P', '', '']</td>\n",
       "      <td>ECSA</td>\n",
       "      <td>Leveraging architecture patterns to satisfy qu...</td>\n",
       "      <td>['software architecture', 'software quality', ...</td>\n",
       "      <td>2007</td>\n",
       "    </tr>\n",
       "    <tr>\n",
       "      <th>19</th>\n",
       "      <td>The development of adaptive user interfaces ha...</td>\n",
       "      <td>Dept  of Comput  Sci , Univ  of Malaga, Malaga...</td>\n",
       "      <td>['Camara, J', '', '', ' Canal, C', '', '', ' C...</td>\n",
       "      <td>ECSA</td>\n",
       "      <td>Enabling adaptivity in user interfaces</td>\n",
       "      <td>['graphical user interfaces', 'adaptive user i...</td>\n",
       "      <td>2007</td>\n",
       "    </tr>\n",
       "    <tr>\n",
       "      <th>20</th>\n",
       "      <td>No abstract available  8 refs</td>\n",
       "      <td>None</td>\n",
       "      <td>['Manset, David', ' Verjus, Herve', ' McClatch...</td>\n",
       "      <td>ECSA</td>\n",
       "      <td>Managing separation of concerns in grid applic...</td>\n",
       "      <td>[nan]</td>\n",
       "      <td>2007</td>\n",
       "    </tr>\n",
       "    <tr>\n",
       "      <th>21</th>\n",
       "      <td>Knowledge management plays an important role i...</td>\n",
       "      <td>Department of Computer Science, VU University ...</td>\n",
       "      <td>['Farenhorst, Rik', '', '', 'Lago, Patricia', ...</td>\n",
       "      <td>ECSA</td>\n",
       "      <td>Effective tool support for architectural knowl...</td>\n",
       "      <td>['Knowledge acquisition', 'Knowledge managemen...</td>\n",
       "      <td>2007</td>\n",
       "    </tr>\n",
       "    <tr>\n",
       "      <th>22</th>\n",
       "      <td>Large scale software developments require subs...</td>\n",
       "      <td>Warsaw University of Technology, Institute of ...</td>\n",
       "      <td>['Zalewski, Andrzej']</td>\n",
       "      <td>ECSA</td>\n",
       "      <td>Beyond ATAM  Architecture analysis in the deve...</td>\n",
       "      <td>['Computational complexity', 'Computer softwar...</td>\n",
       "      <td>2007</td>\n",
       "    </tr>\n",
       "    <tr>\n",
       "      <th>23</th>\n",
       "      <td>This paper describes the experience of the DSI...</td>\n",
       "      <td>Division of Electronics Engineering and System...</td>\n",
       "      <td>['Ortiz, Francisco J', '', '', ' Pastor, Juan ...</td>\n",
       "      <td>ECSA</td>\n",
       "      <td>Experiences using a component oriented archite...</td>\n",
       "      <td>['Computer aided software engineering', 'Compu...</td>\n",
       "      <td>2007</td>\n",
       "    </tr>\n",
       "    <tr>\n",
       "      <th>24</th>\n",
       "      <td>Software architectures suffer of a serious lac...</td>\n",
       "      <td>Department of Computer Science, Universidad Re...</td>\n",
       "      <td>['Nava, Francisco', '', '', 'Capilla, Rafael',...</td>\n",
       "      <td>ECSA</td>\n",
       "      <td>Processes for creating and exploiting architec...</td>\n",
       "      <td>['Computer aided design', 'Decision making', '...</td>\n",
       "      <td>2007</td>\n",
       "    </tr>\n",
       "    <tr>\n",
       "      <th>25</th>\n",
       "      <td>This paper presents a systematic case study th...</td>\n",
       "      <td>Alma Mater Studiorum, Universit    di Bologna,...</td>\n",
       "      <td>['Molesini, Ambra', '', '', 'Garcia, Alessandr...</td>\n",
       "      <td>ECSA</td>\n",
       "      <td>On the interplay of crosscutting and MAS speci...</td>\n",
       "      <td>['Computer software selection and evaluation',...</td>\n",
       "      <td>2007</td>\n",
       "    </tr>\n",
       "    <tr>\n",
       "      <th>26</th>\n",
       "      <td>Frameworks are an important form of reuse  How...</td>\n",
       "      <td>Department of Industrial Electronics, Universi...</td>\n",
       "      <td>['Lopes, S', '', '', ' Tavares, A', '', '', ' ...</td>\n",
       "      <td>ECSA</td>\n",
       "      <td>An architectural model for small scale compone...</td>\n",
       "      <td>['Computer software reusability', 'Mathematica...</td>\n",
       "      <td>2007</td>\n",
       "    </tr>\n",
       "    <tr>\n",
       "      <th>27</th>\n",
       "      <td>The conceptual modelling of software architect...</td>\n",
       "      <td>Dublin City University, School of Computing, D...</td>\n",
       "      <td>['Pahl, Claus', '', '', 'Giesecke, Simon', '',...</td>\n",
       "      <td>ECSA</td>\n",
       "      <td>An ontology based approach for modelling archi...</td>\n",
       "      <td>['Mathematical models', 'Ontology', 'Quality c...</td>\n",
       "      <td>2007</td>\n",
       "    </tr>\n",
       "    <tr>\n",
       "      <th>28</th>\n",
       "      <td>AO ADL is an aspect oriented architecture desc...</td>\n",
       "      <td>Dpto  Lenguajes y Ciencias de la Computaci   n...</td>\n",
       "      <td>['Fuentes, Lidia', '', '', 'G', ' mez, Nadia',...</td>\n",
       "      <td>ECSA</td>\n",
       "      <td>Using connectors to model crosscutting influen...</td>\n",
       "      <td>['Computer software reusability', 'Object orie...</td>\n",
       "      <td>2007</td>\n",
       "    </tr>\n",
       "    <tr>\n",
       "      <th>29</th>\n",
       "      <td>Web Services based technologies have emerged a...</td>\n",
       "      <td>Dpto  Estad   stica, I O  y Computaci   n Univ...</td>\n",
       "      <td>['Santos, Adri', ' n', '', '', 'Almeida, Franc...</td>\n",
       "      <td>ECSA</td>\n",
       "      <td>Lightweight web services for high performace c...</td>\n",
       "      <td>['Computational methods', 'Distributed compute...</td>\n",
       "      <td>2007</td>\n",
       "    </tr>\n",
       "    <tr>\n",
       "      <th>30</th>\n",
       "      <td>When increasing the complexity of software sys...</td>\n",
       "      <td>Quercus Software Engineering Group, Department...</td>\n",
       "      <td>['Navasa, Amparo', '', '', 'P', ' rez, Miguel ...</td>\n",
       "      <td>ECSA</td>\n",
       "      <td>AspectLEDA  Extending an ADL with aspectual co...</td>\n",
       "      <td>['Architectural design', 'Computer software se...</td>\n",
       "      <td>2007</td>\n",
       "    </tr>\n",
       "    <tr>\n",
       "      <th>31</th>\n",
       "      <td>Many organizations have to carry out their wor...</td>\n",
       "      <td>Facultad de Ciencias de la Computaci   n, Bene...</td>\n",
       "      <td>['Anzures Garc', ' a, Mario', ' ,', '', ' Horn...</td>\n",
       "      <td>ECSA</td>\n",
       "      <td>Architecture for developing adaptive and adapt...</td>\n",
       "      <td>['Computer supported cooperative work', 'Socie...</td>\n",
       "      <td>2007</td>\n",
       "    </tr>\n",
       "    <tr>\n",
       "      <th>32</th>\n",
       "      <td>There is a recognized gap between requirements...</td>\n",
       "      <td>Universitat Polit   cnica de Catalunya  UPC , ...</td>\n",
       "      <td>['Grau, Gemma', '', '', 'Franch, Xavier']</td>\n",
       "      <td>ECSA</td>\n",
       "      <td>A goal oriented approach for the generation an...</td>\n",
       "      <td>['Mathematical models', 'Quality control', 'Re...</td>\n",
       "      <td>2007</td>\n",
       "    </tr>\n",
       "    <tr>\n",
       "      <th>33</th>\n",
       "      <td>Automated services help enterprises create new...</td>\n",
       "      <td>INFOLAB, Tilburg University, Dept  of Informat...</td>\n",
       "      <td>['Papazoglou, Michael P', '', '']</td>\n",
       "      <td>ECSA</td>\n",
       "      <td>What   s in a service</td>\n",
       "      <td>['Condition monitoring', 'Electronic commerce'...</td>\n",
       "      <td>2007</td>\n",
       "    </tr>\n",
       "    <tr>\n",
       "      <th>34</th>\n",
       "      <td>The term co evolution describes the symbiotic ...</td>\n",
       "      <td>University of St Andrews, St Andrews, KY16 9SX...</td>\n",
       "      <td>['Morrison, Ron', '', '', 'Balasubramaniam, Dh...</td>\n",
       "      <td>ECSA</td>\n",
       "      <td>An active architecture approach to dynamic sys...</td>\n",
       "      <td>['Dynamical systems', 'Grid computing', 'Senso...</td>\n",
       "      <td>2007</td>\n",
       "    </tr>\n",
       "    <tr>\n",
       "      <th>35</th>\n",
       "      <td>We propose a pattern based software developmen...</td>\n",
       "      <td>Department of Computational and Cognitive Scie...</td>\n",
       "      <td>['C', ' t', ' , Isabelle', '', '', 'Heisel, Ma...</td>\n",
       "      <td>ECSA</td>\n",
       "      <td>Pattern based evolution of software architectures</td>\n",
       "      <td>['Pattern recognition', 'Requirements engineer...</td>\n",
       "      <td>2007</td>\n",
       "    </tr>\n",
       "    <tr>\n",
       "      <th>36</th>\n",
       "      <td>Most of the research in the area of multimodal...</td>\n",
       "      <td>Department of Computer Science, Technische Uni...</td>\n",
       "      <td>['Pereira, Alessandro Costa', ' ,', '', ' Hart...</td>\n",
       "      <td>ECSA</td>\n",
       "      <td>A distributed staged architecture for multimod...</td>\n",
       "      <td>['Computer programming languages', 'Distribute...</td>\n",
       "      <td>2007</td>\n",
       "    </tr>\n",
       "    <tr>\n",
       "      <th>37</th>\n",
       "      <td>None</td>\n",
       "      <td>Sch  of Eng , Inf    Commun  Univ , Daejeon, K...</td>\n",
       "      <td>['Hokyum Kim', '', '', 'Insuk Park', '', '', '...</td>\n",
       "      <td>ECSA</td>\n",
       "      <td>Dynamic activity lifecycle management in ubiqu...</td>\n",
       "      <td>['It is inherently allowed that a user engages...</td>\n",
       "      <td>2007</td>\n",
       "    </tr>\n",
       "    <tr>\n",
       "      <th>38</th>\n",
       "      <td>This paper proposes a compositional formal app...</td>\n",
       "      <td>Res  Unit ReDCAD, Univ  of Sfax, Sfax, Tunisia</td>\n",
       "      <td>['Loulou, I', '', '', ' Kacem, A H', '', '', '...</td>\n",
       "      <td>ECSA</td>\n",
       "      <td>Formal design of structural and dynamic featur...</td>\n",
       "      <td>['formal specification', 'software architectur...</td>\n",
       "      <td>2007</td>\n",
       "    </tr>\n",
       "  </tbody>\n",
       "</table>\n",
       "</div>"
      ],
      "text/plain": [
       "                                             Abstract  \\\n",
       "0   Empirical software engineering focuses on the ...   \n",
       "1   Software architecture description languages al...   \n",
       "2   When an application must evolve to cope with n...   \n",
       "3   Ageless software evolves, to meet new requirem...   \n",
       "4   The past 20 years has seen significant investm...   \n",
       "5   Many issues must be taken into account in orde...   \n",
       "6   Prototyping service oriented architectures bas...   \n",
       "7   Web Services based technologies have emerged a...   \n",
       "8   Much of the complexity of software architectur...   \n",
       "9   The vast diversity of implementation and suppo...   \n",
       "10  Nowadays, Wireless Sensor Networks  WSN  are a...   \n",
       "11  In this paper, we report on the development of...   \n",
       "12  Industrial Control Systems are used in most of...   \n",
       "13  Currently, most software systems have a dynami...   \n",
       "14  Software architecture views represent the basi...   \n",
       "15  We suppose a methodology and a middleware to b...   \n",
       "16  Recent advances in ubiquitous computing and ar...   \n",
       "17  Aqueducts define a variant of the pipe filter ...   \n",
       "18  Architectural design has been characterized as...   \n",
       "19  The development of adaptive user interfaces ha...   \n",
       "20                      No abstract available  8 refs   \n",
       "21  Knowledge management plays an important role i...   \n",
       "22  Large scale software developments require subs...   \n",
       "23  This paper describes the experience of the DSI...   \n",
       "24  Software architectures suffer of a serious lac...   \n",
       "25  This paper presents a systematic case study th...   \n",
       "26  Frameworks are an important form of reuse  How...   \n",
       "27  The conceptual modelling of software architect...   \n",
       "28  AO ADL is an aspect oriented architecture desc...   \n",
       "29  Web Services based technologies have emerged a...   \n",
       "30  When increasing the complexity of software sys...   \n",
       "31  Many organizations have to carry out their wor...   \n",
       "32  There is a recognized gap between requirements...   \n",
       "33  Automated services help enterprises create new...   \n",
       "34  The term co evolution describes the symbiotic ...   \n",
       "35  We propose a pattern based software developmen...   \n",
       "36  Most of the research in the area of multimodal...   \n",
       "37                                               None   \n",
       "38  This paper proposes a compositional formal app...   \n",
       "\n",
       "                                   Author affiliation  \\\n",
       "0                    DISP, Univ  of Rome, Rome, Italy   \n",
       "1                         LSTS   ENIT, Tunis, Tunisia   \n",
       "2   INRIA, Univ  des Sci  et Technol  de Lille, Vi...   \n",
       "3   Sch  of Comput  Sci , Univ  of Adelaide, Adela...   \n",
       "4     Software Group, IBM, Raleigh, NC, United States   \n",
       "5          Comput  Syst  Dept , UCLM, Albacete, Spain   \n",
       "6   Dept  of Comput  Sci , Univ  of Aarhus, Arhus,...   \n",
       "7   Dipt  Estadi   stica, Comput  Univ  de La Lagu...   \n",
       "8   Comput  Sci  Dept , Pontifical Catholic Univ ,...   \n",
       "9   Comput  Languages   Syst  II Dept , Rey Juan C...   \n",
       "10  Div  de Sist  e Ing  Electron   DSIE , Univ  P...   \n",
       "11  Dept  of Comput  Sci , Univ  of Leicester, Lei...   \n",
       "12  Dept  of Autom  Control   Syst  Eng , Univ  of...   \n",
       "13  Dept  of Inf  Syst    Comput , Polytech  Univ ...   \n",
       "14  Dept  of Inf  Syst    Comput , Tech  Univ  of ...   \n",
       "15  Dept  for Appl  Telematics   e Bus , Univ  of ...   \n",
       "16  Sch  of Comput  Sci , Carnegie Mellon Univ , P...   \n",
       "17  Depto  de Inf , Univ  de Valladolid, Valladoli...   \n",
       "18  Dept  of Math    Comput  Sci , Univ  of Gronin...   \n",
       "19  Dept  of Comput  Sci , Univ  of Malaga, Malaga...   \n",
       "20                                               None   \n",
       "21  Department of Computer Science, VU University ...   \n",
       "22  Warsaw University of Technology, Institute of ...   \n",
       "23  Division of Electronics Engineering and System...   \n",
       "24  Department of Computer Science, Universidad Re...   \n",
       "25  Alma Mater Studiorum, Universit    di Bologna,...   \n",
       "26  Department of Industrial Electronics, Universi...   \n",
       "27  Dublin City University, School of Computing, D...   \n",
       "28  Dpto  Lenguajes y Ciencias de la Computaci   n...   \n",
       "29  Dpto  Estad   stica, I O  y Computaci   n Univ...   \n",
       "30  Quercus Software Engineering Group, Department...   \n",
       "31  Facultad de Ciencias de la Computaci   n, Bene...   \n",
       "32  Universitat Polit   cnica de Catalunya  UPC , ...   \n",
       "33  INFOLAB, Tilburg University, Dept  of Informat...   \n",
       "34  University of St Andrews, St Andrews, KY16 9SX...   \n",
       "35  Department of Computational and Cognitive Scie...   \n",
       "36  Department of Computer Science, Technische Uni...   \n",
       "37  Sch  of Eng , Inf    Commun  Univ , Daejeon, K...   \n",
       "38     Res  Unit ReDCAD, Univ  of Sfax, Sfax, Tunisia   \n",
       "\n",
       "                                              Authors  Conf  \\\n",
       "0   ['Falessi, D', '', '', ' Kruchten, P', ' Canto...  ECSA   \n",
       "1   ['Jerad, C', '', '', ' Barkaoui, K', ' Grissa ...  ECSA   \n",
       "2   ['Waignier, G', '', '', ' Le Meur, A', 'F', ''...  ECSA   \n",
       "3   ['Falkner, K', '', '', ' Balasubramaniam, D', ...  ECSA   \n",
       "4            ['Brown, A W', '', '', ' McDermid, J A']  ECSA   \n",
       "5   ['Navarro, E', '', '', ' Letelier, P', ' Jaen,...  ECSA   \n",
       "6                              ['Kjaer, K E', '', '']  ECSA   \n",
       "7   ['Santos, A', '', '', ' Almeida, F', '', '', '...  ECSA   \n",
       "8   ['Sant', ' Anna, C', '', '', ' Figueiredo, E',...  ECSA   \n",
       "9   ['Lopez Sanz, M', '', '', ' Acuna, C J', '', '...  ECSA   \n",
       "10  ['Losilla, F', '', '', ' Vicente Chicote, C', ...  ECSA   \n",
       "11  ['Correia, R', '', '', ' Matos, C M P', '', ''...  ECSA   \n",
       "12       ['Estevez, E', '', '', ' Marcos, M', '', '']  ECSA   \n",
       "13  ['Costa, C', '', '', ' Ali, N', '', '', ' Pere...  ECSA   \n",
       "14  ['Cordero, R L', '', '', ' Salavert, I R', '',...  ECSA   \n",
       "15        ['Gruhn, V', '', '', ' Schafer, C', '', '']  ECSA   \n",
       "16                              ['Garlan, D', '', '']  ECSA   \n",
       "17  ['Martfnez Prieto, M A', '', '', ' Cuesta, C E...  ECSA   \n",
       "18  ['Harrison, N B', '', '', ' Avgeriou, P', '', '']  ECSA   \n",
       "19  ['Camara, J', '', '', ' Canal, C', '', '', ' C...  ECSA   \n",
       "20  ['Manset, David', ' Verjus, Herve', ' McClatch...  ECSA   \n",
       "21  ['Farenhorst, Rik', '', '', 'Lago, Patricia', ...  ECSA   \n",
       "22                              ['Zalewski, Andrzej']  ECSA   \n",
       "23  ['Ortiz, Francisco J', '', '', ' Pastor, Juan ...  ECSA   \n",
       "24  ['Nava, Francisco', '', '', 'Capilla, Rafael',...  ECSA   \n",
       "25  ['Molesini, Ambra', '', '', 'Garcia, Alessandr...  ECSA   \n",
       "26  ['Lopes, S', '', '', ' Tavares, A', '', '', ' ...  ECSA   \n",
       "27  ['Pahl, Claus', '', '', 'Giesecke, Simon', '',...  ECSA   \n",
       "28  ['Fuentes, Lidia', '', '', 'G', ' mez, Nadia',...  ECSA   \n",
       "29  ['Santos, Adri', ' n', '', '', 'Almeida, Franc...  ECSA   \n",
       "30  ['Navasa, Amparo', '', '', 'P', ' rez, Miguel ...  ECSA   \n",
       "31  ['Anzures Garc', ' a, Mario', ' ,', '', ' Horn...  ECSA   \n",
       "32          ['Grau, Gemma', '', '', 'Franch, Xavier']  ECSA   \n",
       "33                  ['Papazoglou, Michael P', '', '']  ECSA   \n",
       "34  ['Morrison, Ron', '', '', 'Balasubramaniam, Dh...  ECSA   \n",
       "35  ['C', ' t', ' , Isabelle', '', '', 'Heisel, Ma...  ECSA   \n",
       "36  ['Pereira, Alessandro Costa', ' ,', '', ' Hart...  ECSA   \n",
       "37  ['Hokyum Kim', '', '', 'Insuk Park', '', '', '...  ECSA   \n",
       "38  ['Loulou, I', '', '', ' Kacem, A H', '', '', '...  ECSA   \n",
       "\n",
       "                                                Title  \\\n",
       "0   Issues in applying empirical software engineer...   \n",
       "1   Hierarchical verification in Maude of LfP soft...   \n",
       "2   FIESTA  a generic framework for integrating ne...   \n",
       "3                                  Informed evolution   \n",
       "4        The art and science of software architecture   \n",
       "5   Supporting the automatic generation of proto a...   \n",
       "6   First class connectors for prototyping service...   \n",
       "7   Lightweight Web services for high performance ...   \n",
       "8   On the modularity of software architectures  a...   \n",
       "9   UML profile for the platform independent model...   \n",
       "10  Wireless sensor network application developmen...   \n",
       "11  Architecture migration driven by code categori...   \n",
       "12  Model driven approach for designing industrial...   \n",
       "13  Dynamic reconfiguration of software architectu...   \n",
       "14  Analyzing styles of the modular software archi...   \n",
       "15  From mobile business processes to mobile infor...   \n",
       "16  Software architectures for task oriented compu...   \n",
       "17  Aqueducts  a layered pipeline based architectu...   \n",
       "18  Leveraging architecture patterns to satisfy qu...   \n",
       "19             Enabling adaptivity in user interfaces   \n",
       "20  Managing separation of concerns in grid applic...   \n",
       "21  Effective tool support for architectural knowl...   \n",
       "22  Beyond ATAM  Architecture analysis in the deve...   \n",
       "23  Experiences using a component oriented archite...   \n",
       "24  Processes for creating and exploiting architec...   \n",
       "25  On the interplay of crosscutting and MAS speci...   \n",
       "26  An architectural model for small scale compone...   \n",
       "27  An ontology based approach for modelling archi...   \n",
       "28  Using connectors to model crosscutting influen...   \n",
       "29  Lightweight web services for high performace c...   \n",
       "30  AspectLEDA  Extending an ADL with aspectual co...   \n",
       "31  Architecture for developing adaptive and adapt...   \n",
       "32  A goal oriented approach for the generation an...   \n",
       "33                              What   s in a service   \n",
       "34  An active architecture approach to dynamic sys...   \n",
       "35  Pattern based evolution of software architectures   \n",
       "36  A distributed staged architecture for multimod...   \n",
       "37  Dynamic activity lifecycle management in ubiqu...   \n",
       "38  Formal design of structural and dynamic featur...   \n",
       "\n",
       "                                                terms  year  \n",
       "0   ['software architecture', 'software quality', ...  2007  \n",
       "1   ['formal verification', 'rewriting systems', '...  2007  \n",
       "2   ['formal specification', 'software architectur...  2007  \n",
       "3   ['software architecture', 'software prototypin...  2007  \n",
       "4   ['safety-critical software', 'software archite...  2007  \n",
       "5   ['software architecture', 'proto-architectures...  2007  \n",
       "6   ['Java', 'object-oriented programming', 'softw...  2007  \n",
       "7   ['portals', 'public domain software', 'securit...  2007  \n",
       "8   ['software architecture', 'software metrics', ...  2007  \n",
       "9   ['software architecture', 'Unified Modeling La...  2007  \n",
       "10  ['abstract data types', 'object-oriented progr...  2007  \n",
       "11  ['graph grammars', 'program compilers', 'softw...  2007  \n",
       "12  ['formal specification', 'industrial control',...  2007  \n",
       "13  ['object-oriented programming', 'software arch...  2007  \n",
       "14  ['software architecture', 'modular software ar...  2007  \n",
       "15  ['business data processing', 'middleware', 'mo...  2007  \n",
       "16  ['artificial intelligence', 'software architec...  2007  \n",
       "17  ['pipeline processing', 'XML', 'Aqueducts', 'l...  2007  \n",
       "18  ['software architecture', 'software quality', ...  2007  \n",
       "19  ['graphical user interfaces', 'adaptive user i...  2007  \n",
       "20                                              [nan]  2007  \n",
       "21  ['Knowledge acquisition', 'Knowledge managemen...  2007  \n",
       "22  ['Computational complexity', 'Computer softwar...  2007  \n",
       "23  ['Computer aided software engineering', 'Compu...  2007  \n",
       "24  ['Computer aided design', 'Decision making', '...  2007  \n",
       "25  ['Computer software selection and evaluation',...  2007  \n",
       "26  ['Computer software reusability', 'Mathematica...  2007  \n",
       "27  ['Mathematical models', 'Ontology', 'Quality c...  2007  \n",
       "28  ['Computer software reusability', 'Object orie...  2007  \n",
       "29  ['Computational methods', 'Distributed compute...  2007  \n",
       "30  ['Architectural design', 'Computer software se...  2007  \n",
       "31  ['Computer supported cooperative work', 'Socie...  2007  \n",
       "32  ['Mathematical models', 'Quality control', 'Re...  2007  \n",
       "33  ['Condition monitoring', 'Electronic commerce'...  2007  \n",
       "34  ['Dynamical systems', 'Grid computing', 'Senso...  2007  \n",
       "35  ['Pattern recognition', 'Requirements engineer...  2007  \n",
       "36  ['Computer programming languages', 'Distribute...  2007  \n",
       "37  ['It is inherently allowed that a user engages...  2007  \n",
       "38  ['formal specification', 'software architectur...  2007  "
      ]
     },
     "execution_count": 10,
     "metadata": {},
     "output_type": "execute_result"
    }
   ],
   "source": [
    "df.query('year == 2007').query('Conf == \"ECSA\"')"
   ]
  },
  {
   "cell_type": "markdown",
   "metadata": {},
   "source": [
    "# Create the Conf Table"
   ]
  },
  {
   "cell_type": "code",
   "execution_count": 11,
   "metadata": {
    "collapsed": false
   },
   "outputs": [
    {
     "name": "stdout",
     "output_type": "stream",
     "text": [
      "Opened Abstracts__aug1.db database successfully\n",
      "Created DataFrame\n",
      "Records created successfully\n"
     ]
    }
   ],
   "source": [
    "confDF = cmd.createConfTable(df)"
   ]
  },
  {
   "cell_type": "code",
   "execution_count": 12,
   "metadata": {
    "collapsed": false
   },
   "outputs": [
    {
     "data": {
      "text/html": [
       "<div>\n",
       "<table border=\"1\" class=\"dataframe\">\n",
       "  <thead>\n",
       "    <tr style=\"text-align: right;\">\n",
       "      <th></th>\n",
       "      <th>confID</th>\n",
       "      <th>confName</th>\n",
       "    </tr>\n",
       "  </thead>\n",
       "  <tbody>\n",
       "    <tr>\n",
       "      <th>0</th>\n",
       "      <td>1</td>\n",
       "      <td>ECSA</td>\n",
       "    </tr>\n",
       "    <tr>\n",
       "      <th>1</th>\n",
       "      <td>2</td>\n",
       "      <td>QoSA</td>\n",
       "    </tr>\n",
       "    <tr>\n",
       "      <th>2</th>\n",
       "      <td>3</td>\n",
       "      <td>WICSA</td>\n",
       "    </tr>\n",
       "  </tbody>\n",
       "</table>\n",
       "</div>"
      ],
      "text/plain": [
       "   confID confName\n",
       "0       1     ECSA\n",
       "1       2     QoSA\n",
       "2       3    WICSA"
      ]
     },
     "execution_count": 12,
     "metadata": {},
     "output_type": "execute_result"
    }
   ],
   "source": [
    "confDF.head()"
   ]
  },
  {
   "cell_type": "markdown",
   "metadata": {},
   "source": [
    "# Create publications Table\n",
    "## Now can parse all the orginal .txt with exception of the same 3  Ian gorton noted were errant"
   ]
  },
  {
   "cell_type": "code",
   "execution_count": 13,
   "metadata": {
    "collapsed": false
   },
   "outputs": [
    {
     "name": "stdout",
     "output_type": "stream",
     "text": [
      "Opened Abstracts__aug1.db database successfully\n",
      "table dropped\n",
      "Created PUBLICATIONS table\n",
      "Created DataFrame\n",
      "Records created successfully\n"
     ]
    }
   ],
   "source": [
    "pubDF = cmd.createPublicationsTable(df)"
   ]
  },
  {
   "cell_type": "code",
   "execution_count": 14,
   "metadata": {
    "collapsed": false
   },
   "outputs": [
    {
     "data": {
      "text/html": [
       "<div>\n",
       "<table border=\"1\" class=\"dataframe\">\n",
       "  <thead>\n",
       "    <tr style=\"text-align: right;\">\n",
       "      <th></th>\n",
       "      <th>pubID</th>\n",
       "      <th>year</th>\n",
       "      <th>confName</th>\n",
       "    </tr>\n",
       "  </thead>\n",
       "  <tbody>\n",
       "    <tr>\n",
       "      <th>0</th>\n",
       "      <td>1</td>\n",
       "      <td>2007</td>\n",
       "      <td>ECSA</td>\n",
       "    </tr>\n",
       "    <tr>\n",
       "      <th>1</th>\n",
       "      <td>2</td>\n",
       "      <td>2008</td>\n",
       "      <td>ECSA</td>\n",
       "    </tr>\n",
       "    <tr>\n",
       "      <th>2</th>\n",
       "      <td>3</td>\n",
       "      <td>2009</td>\n",
       "      <td>ECSA</td>\n",
       "    </tr>\n",
       "    <tr>\n",
       "      <th>3</th>\n",
       "      <td>4</td>\n",
       "      <td>2010</td>\n",
       "      <td>ECSA</td>\n",
       "    </tr>\n",
       "    <tr>\n",
       "      <th>4</th>\n",
       "      <td>5</td>\n",
       "      <td>2011</td>\n",
       "      <td>ECSA</td>\n",
       "    </tr>\n",
       "    <tr>\n",
       "      <th>5</th>\n",
       "      <td>6</td>\n",
       "      <td>2012</td>\n",
       "      <td>ECSA</td>\n",
       "    </tr>\n",
       "    <tr>\n",
       "      <th>6</th>\n",
       "      <td>7</td>\n",
       "      <td>2013</td>\n",
       "      <td>ECSA</td>\n",
       "    </tr>\n",
       "    <tr>\n",
       "      <th>7</th>\n",
       "      <td>8</td>\n",
       "      <td>2014</td>\n",
       "      <td>ECSA</td>\n",
       "    </tr>\n",
       "    <tr>\n",
       "      <th>8</th>\n",
       "      <td>9</td>\n",
       "      <td>2005</td>\n",
       "      <td>QoSA</td>\n",
       "    </tr>\n",
       "    <tr>\n",
       "      <th>9</th>\n",
       "      <td>10</td>\n",
       "      <td>2006</td>\n",
       "      <td>QoSA</td>\n",
       "    </tr>\n",
       "    <tr>\n",
       "      <th>10</th>\n",
       "      <td>11</td>\n",
       "      <td>2007</td>\n",
       "      <td>QoSA</td>\n",
       "    </tr>\n",
       "    <tr>\n",
       "      <th>11</th>\n",
       "      <td>12</td>\n",
       "      <td>2008</td>\n",
       "      <td>QoSA</td>\n",
       "    </tr>\n",
       "    <tr>\n",
       "      <th>12</th>\n",
       "      <td>13</td>\n",
       "      <td>2009</td>\n",
       "      <td>QoSA</td>\n",
       "    </tr>\n",
       "    <tr>\n",
       "      <th>13</th>\n",
       "      <td>14</td>\n",
       "      <td>2010</td>\n",
       "      <td>QoSA</td>\n",
       "    </tr>\n",
       "    <tr>\n",
       "      <th>14</th>\n",
       "      <td>15</td>\n",
       "      <td>2011</td>\n",
       "      <td>QoSA</td>\n",
       "    </tr>\n",
       "    <tr>\n",
       "      <th>15</th>\n",
       "      <td>16</td>\n",
       "      <td>2012</td>\n",
       "      <td>QoSA</td>\n",
       "    </tr>\n",
       "    <tr>\n",
       "      <th>16</th>\n",
       "      <td>17</td>\n",
       "      <td>2013</td>\n",
       "      <td>QoSA</td>\n",
       "    </tr>\n",
       "    <tr>\n",
       "      <th>17</th>\n",
       "      <td>18</td>\n",
       "      <td>2014</td>\n",
       "      <td>QoSA</td>\n",
       "    </tr>\n",
       "    <tr>\n",
       "      <th>18</th>\n",
       "      <td>19</td>\n",
       "      <td>1999</td>\n",
       "      <td>WICSA</td>\n",
       "    </tr>\n",
       "    <tr>\n",
       "      <th>19</th>\n",
       "      <td>20</td>\n",
       "      <td>2001</td>\n",
       "      <td>WICSA</td>\n",
       "    </tr>\n",
       "    <tr>\n",
       "      <th>20</th>\n",
       "      <td>21</td>\n",
       "      <td>2005</td>\n",
       "      <td>WICSA</td>\n",
       "    </tr>\n",
       "    <tr>\n",
       "      <th>21</th>\n",
       "      <td>22</td>\n",
       "      <td>2007</td>\n",
       "      <td>WICSA</td>\n",
       "    </tr>\n",
       "    <tr>\n",
       "      <th>22</th>\n",
       "      <td>23</td>\n",
       "      <td>2008</td>\n",
       "      <td>WICSA</td>\n",
       "    </tr>\n",
       "    <tr>\n",
       "      <th>23</th>\n",
       "      <td>24</td>\n",
       "      <td>2009</td>\n",
       "      <td>WICSA</td>\n",
       "    </tr>\n",
       "    <tr>\n",
       "      <th>24</th>\n",
       "      <td>25</td>\n",
       "      <td>2011</td>\n",
       "      <td>WICSA</td>\n",
       "    </tr>\n",
       "    <tr>\n",
       "      <th>25</th>\n",
       "      <td>26</td>\n",
       "      <td>2012</td>\n",
       "      <td>WICSA</td>\n",
       "    </tr>\n",
       "    <tr>\n",
       "      <th>26</th>\n",
       "      <td>27</td>\n",
       "      <td>2014</td>\n",
       "      <td>WICSA</td>\n",
       "    </tr>\n",
       "  </tbody>\n",
       "</table>\n",
       "</div>"
      ],
      "text/plain": [
       "    pubID  year confName\n",
       "0       1  2007     ECSA\n",
       "1       2  2008     ECSA\n",
       "2       3  2009     ECSA\n",
       "3       4  2010     ECSA\n",
       "4       5  2011     ECSA\n",
       "5       6  2012     ECSA\n",
       "6       7  2013     ECSA\n",
       "7       8  2014     ECSA\n",
       "8       9  2005     QoSA\n",
       "9      10  2006     QoSA\n",
       "10     11  2007     QoSA\n",
       "11     12  2008     QoSA\n",
       "12     13  2009     QoSA\n",
       "13     14  2010     QoSA\n",
       "14     15  2011     QoSA\n",
       "15     16  2012     QoSA\n",
       "16     17  2013     QoSA\n",
       "17     18  2014     QoSA\n",
       "18     19  1999    WICSA\n",
       "19     20  2001    WICSA\n",
       "20     21  2005    WICSA\n",
       "21     22  2007    WICSA\n",
       "22     23  2008    WICSA\n",
       "23     24  2009    WICSA\n",
       "24     25  2011    WICSA\n",
       "25     26  2012    WICSA\n",
       "26     27  2014    WICSA"
      ]
     },
     "execution_count": 14,
     "metadata": {},
     "output_type": "execute_result"
    }
   ],
   "source": [
    "pubDF\n",
    "#pubDF.to_csv('Tables_v1/publications.csv', sheet_name = 'publications')"
   ]
  },
  {
   "cell_type": "markdown",
   "metadata": {},
   "source": [
    "# Create Keys Table"
   ]
  },
  {
   "cell_type": "markdown",
   "metadata": {},
   "source": [
    "## There are errors here and I have spent way to ong trying to figure if out.  \n",
    "## Somewhere the abstracts are being split into the terms."
   ]
  },
  {
   "cell_type": "code",
   "execution_count": 15,
   "metadata": {
    "collapsed": false
   },
   "outputs": [
    {
     "name": "stdout",
     "output_type": "stream",
     "text": [
      "Opened Abstracts__aug1.db database successfully\n",
      "                                             keyword\n",
      "0                                    Loose couplings\n",
      "1                             Engine control systems\n",
      "2                                              NoSQL\n",
      "3  centered around the Spectrum Access System (SA...\n",
      "4                               Information recovery\n",
      "Created DataFrame\n",
      "Records created successfully\n"
     ]
    }
   ],
   "source": [
    "keys = cmd.createKEYSTable(df)"
   ]
  },
  {
   "cell_type": "code",
   "execution_count": 16,
   "metadata": {
    "collapsed": false
   },
   "outputs": [
    {
     "name": "stdout",
     "output_type": "stream",
     "text": [
      "5557\n",
      "5557\n"
     ]
    },
    {
     "data": {
      "text/html": [
       "<div>\n",
       "<table border=\"1\" class=\"dataframe\">\n",
       "  <thead>\n",
       "    <tr style=\"text-align: right;\">\n",
       "      <th></th>\n",
       "      <th>keyID</th>\n",
       "      <th>keyword</th>\n",
       "    </tr>\n",
       "  </thead>\n",
       "  <tbody>\n",
       "    <tr>\n",
       "      <th>0</th>\n",
       "      <td>1</td>\n",
       "      <td>Loose couplings</td>\n",
       "    </tr>\n",
       "    <tr>\n",
       "      <th>1</th>\n",
       "      <td>2</td>\n",
       "      <td>Engine control systems</td>\n",
       "    </tr>\n",
       "    <tr>\n",
       "      <th>2</th>\n",
       "      <td>3</td>\n",
       "      <td>NoSQL</td>\n",
       "    </tr>\n",
       "    <tr>\n",
       "      <th>3</th>\n",
       "      <td>4</td>\n",
       "      <td>centered around the Spectrum Access System (SA...</td>\n",
       "    </tr>\n",
       "    <tr>\n",
       "      <th>4</th>\n",
       "      <td>5</td>\n",
       "      <td>Information recovery</td>\n",
       "    </tr>\n",
       "    <tr>\n",
       "      <th>5</th>\n",
       "      <td>6</td>\n",
       "      <td>Anecdotal evidences</td>\n",
       "    </tr>\n",
       "    <tr>\n",
       "      <th>6</th>\n",
       "      <td>7</td>\n",
       "      <td>software performance</td>\n",
       "    </tr>\n",
       "    <tr>\n",
       "      <th>7</th>\n",
       "      <td>8</td>\n",
       "      <td>Manual coding</td>\n",
       "    </tr>\n",
       "    <tr>\n",
       "      <th>8</th>\n",
       "      <td>9</td>\n",
       "      <td>Discrete time</td>\n",
       "    </tr>\n",
       "    <tr>\n",
       "      <th>9</th>\n",
       "      <td>10</td>\n",
       "      <td>Automotive industry</td>\n",
       "    </tr>\n",
       "    <tr>\n",
       "      <th>10</th>\n",
       "      <td>11</td>\n",
       "      <td>Information models</td>\n",
       "    </tr>\n",
       "    <tr>\n",
       "      <th>11</th>\n",
       "      <td>12</td>\n",
       "      <td>Rigorous analysis</td>\n",
       "    </tr>\n",
       "    <tr>\n",
       "      <th>12</th>\n",
       "      <td>13</td>\n",
       "      <td>Structural characteristics</td>\n",
       "    </tr>\n",
       "    <tr>\n",
       "      <th>13</th>\n",
       "      <td>14</td>\n",
       "      <td>XML security</td>\n",
       "    </tr>\n",
       "    <tr>\n",
       "      <th>14</th>\n",
       "      <td>15</td>\n",
       "      <td>Education sessions</td>\n",
       "    </tr>\n",
       "    <tr>\n",
       "      <th>15</th>\n",
       "      <td>16</td>\n",
       "      <td>Embedded real-time systems</td>\n",
       "    </tr>\n",
       "    <tr>\n",
       "      <th>16</th>\n",
       "      <td>17</td>\n",
       "      <td>Pattern designs</td>\n",
       "    </tr>\n",
       "    <tr>\n",
       "      <th>17</th>\n",
       "      <td>18</td>\n",
       "      <td>Development scenarios</td>\n",
       "    </tr>\n",
       "    <tr>\n",
       "      <th>18</th>\n",
       "      <td>19</td>\n",
       "      <td>distributed programming</td>\n",
       "    </tr>\n",
       "    <tr>\n",
       "      <th>19</th>\n",
       "      <td>20</td>\n",
       "      <td>Telecom services</td>\n",
       "    </tr>\n",
       "  </tbody>\n",
       "</table>\n",
       "</div>"
      ],
      "text/plain": [
       "    keyID                                            keyword\n",
       "0       1                                    Loose couplings\n",
       "1       2                             Engine control systems\n",
       "2       3                                              NoSQL\n",
       "3       4  centered around the Spectrum Access System (SA...\n",
       "4       5                               Information recovery\n",
       "5       6                                Anecdotal evidences\n",
       "6       7                               software performance\n",
       "7       8                                      Manual coding\n",
       "8       9                                      Discrete time\n",
       "9      10                                Automotive industry\n",
       "10     11                                 Information models\n",
       "11     12                                  Rigorous analysis\n",
       "12     13                         Structural characteristics\n",
       "13     14                                       XML security\n",
       "14     15                                 Education sessions\n",
       "15     16                         Embedded real-time systems\n",
       "16     17                                    Pattern designs\n",
       "17     18                              Development scenarios\n",
       "18     19                            distributed programming\n",
       "19     20                                   Telecom services"
      ]
     },
     "execution_count": 16,
     "metadata": {},
     "output_type": "execute_result"
    }
   ],
   "source": [
    "print len(keys)\n",
    "print len(keys.keyword.unique())\n",
    "keys.iloc[50:75]\n",
    "keys.head(20)"
   ]
  },
  {
   "cell_type": "markdown",
   "metadata": {},
   "source": [
    "# Authors\n",
    "## I don't know how to parse them better!  Each text file seems to look at them differently and no idea what to do"
   ]
  },
  {
   "cell_type": "code",
   "execution_count": 17,
   "metadata": {
    "collapsed": false
   },
   "outputs": [
    {
     "name": "stdout",
     "output_type": "stream",
     "text": [
      "Opened Abstracts__aug1.db database successfully\n",
      "Author set created\n",
      "Records created successfully\n"
     ]
    }
   ],
   "source": [
    "authorsDF = cmd.createAUTHORSTable(df)"
   ]
  },
  {
   "cell_type": "code",
   "execution_count": 18,
   "metadata": {
    "collapsed": false
   },
   "outputs": [
    {
     "name": "stdout",
     "output_type": "stream",
     "text": [
      "1949\n"
     ]
    },
    {
     "data": {
      "text/html": [
       "<div>\n",
       "<table border=\"1\" class=\"dataframe\">\n",
       "  <thead>\n",
       "    <tr style=\"text-align: right;\">\n",
       "      <th></th>\n",
       "      <th>authorID</th>\n",
       "      <th>authorName</th>\n",
       "    </tr>\n",
       "  </thead>\n",
       "  <tbody>\n",
       "    <tr>\n",
       "      <th>0</th>\n",
       "      <td>1</td>\n",
       "      <td>Von Massow  Robert</td>\n",
       "    </tr>\n",
       "    <tr>\n",
       "      <th>1</th>\n",
       "      <td>2</td>\n",
       "      <td>Westermann  Dennis</td>\n",
       "    </tr>\n",
       "    <tr>\n",
       "      <th>2</th>\n",
       "      <td>3</td>\n",
       "      <td>Stoll  Pia</td>\n",
       "    </tr>\n",
       "    <tr>\n",
       "      <th>3</th>\n",
       "      <td>4</td>\n",
       "      <td>Pronk</td>\n",
       "    </tr>\n",
       "    <tr>\n",
       "      <th>4</th>\n",
       "      <td>5</td>\n",
       "      <td>Porres  Ivan</td>\n",
       "    </tr>\n",
       "  </tbody>\n",
       "</table>\n",
       "</div>"
      ],
      "text/plain": [
       "   authorID          authorName\n",
       "0         1  Von Massow  Robert\n",
       "1         2  Westermann  Dennis\n",
       "2         3          Stoll  Pia\n",
       "3         4               Pronk\n",
       "4         5        Porres  Ivan"
      ]
     },
     "execution_count": 18,
     "metadata": {},
     "output_type": "execute_result"
    }
   ],
   "source": [
    "print len(authorsDF.authorName.drop_duplicates())  #<<--- double check!  will keep one 'empty ' ' becuase of set)\n",
    "authorsDF.head()"
   ]
  },
  {
   "cell_type": "code",
   "execution_count": null,
   "metadata": {
    "collapsed": false
   },
   "outputs": [],
   "source": [
    "DEFAULTDB = mydb\n",
    "def createAUTHORSTable(data_frame, \n",
    "                    db = DEFAULTDB, \n",
    "                    DFCol = 'Authors',\n",
    "                    table = 'AUTHORS' ,\n",
    "                    tableCol = ['authorName']\n",
    "                   ):\n",
    "    ''' Creating the AUTHORS Table with \n",
    "            authorID as AUTOINCREMENTED PRIMARY KEY, \n",
    "             : param data_frame : Pandas DataFrame from which to create the AUTHORS TABLE\n",
    "             : param db : str. Name of db. (ie. 'Abstracts.db')\n",
    "                 : default 'test.db'\n",
    "             : param DFCol : tuple of strings Column names of data_frame with groupby cols.\n",
    "                 : default = 'Authors'\n",
    "                 : alternatively : enter with already unique table.\n",
    "             : param table : str. Name of Table to create or insert.\n",
    "                 : default : AUTHORS\n",
    "             : param tableCols : tuple of str. Table keywords as tuple of strings\n",
    "                 : default  : ('authorName')\n",
    "             : **NEED TO CREATE COMPOSITE **\n",
    "         \n",
    "             : output : Pandas DataFrame as output for inspection\n",
    "             : output : sql table created with rows inserted.\n",
    "         '''\n",
    "    \n",
    "    def findAuthorsSet(data_frame, DFCol = DFCol):\n",
    "        ''' Parse the TOTALABSTRACTS table dataframe terms column.\n",
    "        Create a single set of all terms\n",
    "        \n",
    "        : param data_frame : a Pandas DataFrame (ie TOTALABSTRACTS table as DF)\n",
    "        : param DFCol : column name to be recast and set of terms found from\n",
    "        \n",
    "        : output : a master set of terms set as a list (no duplicates)\n",
    "        '''\n",
    "        import re\n",
    "        commaQuote = re.compile('[\\',]')\n",
    "        \n",
    "    \n",
    "        #recast - since made a string during the entry into the sqlite db.\n",
    "        authors = data_frame[DFCol].apply(lambda a: a.strip(\"[]'\"))\n",
    "        authors = authors.apply(lambda x: filter(lambda a: a != '',\n",
    "                                                  commaQuote.sub(' ', x).split('   ')))\n",
    "        \n",
    "        \n",
    "        #create single set and remove leading white space\n",
    "        authors = list(frozenset().union(*authors))\n",
    "        authors = [anew.strip(' ') for anew in authors]\n",
    "        #need to reset becuase of the white space\n",
    "        return list(set(authors))\n",
    "    with sqlite3.connect(db) as con:\n",
    "        print (\"Opened %s database successfully\" %db); \n",
    "        cur = con.cursor() \n",
    "        #drops the Authors table if it exist in db already\n",
    "        cur.execute(\"DROP TABLE IF EXISTS \" + table)\n",
    "        #and recreates it\n",
    "        cur.execute(\"CREATE TABLE \" + table + \"(\\\n",
    "        authorID INTEGER PRIMARY KEY AUTOINCREMENT, \\\n",
    "        authorName TEXT \\\n",
    "        )\") \n",
    "        authors = findAuthorsSet(data_frame)\n",
    "        print ('Author set created')\n",
    "        \n",
    "        #only take 1 -> becuase first is empty\n",
    "        authorsDF = pd.DataFrame(authors[1:], columns = tableCol)\n",
    "        \n",
    "        #insert into the table\n",
    "        authorsDF.to_sql(table, con, flavor='sqlite', \n",
    "                    schema=None, if_exists='append', \n",
    "                    index=False, index_label=None,\n",
    "                    chunksize=None, dtype=None)\n",
    "        print(\"Records created successfully\");\n",
    "        \n",
    "    sql = \"SELECT * FROM \" + table\n",
    "    dfAuthors = pd.read_sql_query(sql, con)\n",
    "        \n",
    "    #return table as Pandas DataFrame for inspection\n",
    "    return dfAuthors"
   ]
  },
  {
   "cell_type": "code",
   "execution_count": 14,
   "metadata": {
    "collapsed": false
   },
   "outputs": [
    {
     "name": "stdout",
     "output_type": "stream",
     "text": [
      "Opened Abstracts_DB2.db database successfully\n",
      "Author set created\n",
      "Records created successfully\n"
     ]
    },
    {
     "data": {
      "text/plain": [
       "1817"
      ]
     },
     "execution_count": 14,
     "metadata": {},
     "output_type": "execute_result"
    }
   ],
   "source": [
    "authorsDF = cmd.createAUTHORSTable(df)\n",
    "authorsDF.head()\n",
    "len(authorsDF)"
   ]
  },
  {
   "cell_type": "markdown",
   "metadata": {},
   "source": [
    "# Affiliation Table\n",
    "## simple no extra parsing do to differences between entries"
   ]
  },
  {
   "cell_type": "code",
   "execution_count": 19,
   "metadata": {
    "collapsed": false
   },
   "outputs": [
    {
     "name": "stdout",
     "output_type": "stream",
     "text": [
      "Opened Abstracts__aug1.db database successfully\n",
      "Created DataFrame\n",
      "Records created successfully\n"
     ]
    }
   ],
   "source": [
    "affilDF= cmd.createAFFILIATIONTable(df)"
   ]
  },
  {
   "cell_type": "code",
   "execution_count": 20,
   "metadata": {
    "collapsed": false
   },
   "outputs": [
    {
     "data": {
      "text/html": [
       "<div>\n",
       "<table border=\"1\" class=\"dataframe\">\n",
       "  <thead>\n",
       "    <tr style=\"text-align: right;\">\n",
       "      <th></th>\n",
       "      <th>affilID</th>\n",
       "      <th>affiliation</th>\n",
       "    </tr>\n",
       "  </thead>\n",
       "  <tbody>\n",
       "    <tr>\n",
       "      <th>0</th>\n",
       "      <td>1</td>\n",
       "      <td>DISP, Univ  of Rome, Rome, Italy</td>\n",
       "    </tr>\n",
       "    <tr>\n",
       "      <th>1</th>\n",
       "      <td>2</td>\n",
       "      <td>LSTS   ENIT, Tunis, Tunisia</td>\n",
       "    </tr>\n",
       "    <tr>\n",
       "      <th>2</th>\n",
       "      <td>3</td>\n",
       "      <td>INRIA, Univ  des Sci  et Technol  de Lille, Vi...</td>\n",
       "    </tr>\n",
       "    <tr>\n",
       "      <th>3</th>\n",
       "      <td>4</td>\n",
       "      <td>Sch  of Comput  Sci , Univ  of Adelaide, Adela...</td>\n",
       "    </tr>\n",
       "    <tr>\n",
       "      <th>4</th>\n",
       "      <td>5</td>\n",
       "      <td>Software Group, IBM, Raleigh, NC, United States</td>\n",
       "    </tr>\n",
       "  </tbody>\n",
       "</table>\n",
       "</div>"
      ],
      "text/plain": [
       "   affilID                                        affiliation\n",
       "0        1                   DISP, Univ  of Rome, Rome, Italy\n",
       "1        2                        LSTS   ENIT, Tunis, Tunisia\n",
       "2        3  INRIA, Univ  des Sci  et Technol  de Lille, Vi...\n",
       "3        4  Sch  of Comput  Sci , Univ  of Adelaide, Adela...\n",
       "4        5    Software Group, IBM, Raleigh, NC, United States"
      ]
     },
     "execution_count": 20,
     "metadata": {},
     "output_type": "execute_result"
    }
   ],
   "source": [
    "affilDF.head()\n",
    "#affilDF.to_csv('Tables_v1/affiliations.csv', sheet_name = 'affilations')"
   ]
  },
  {
   "cell_type": "markdown",
   "metadata": {
    "collapsed": true
   },
   "source": [
    "# PAPER TABLE\n",
    "## should this actually be made by first doing a join or something with the pub table?"
   ]
  },
  {
   "cell_type": "code",
   "execution_count": 21,
   "metadata": {
    "collapsed": false
   },
   "outputs": [
    {
     "name": "stdout",
     "output_type": "stream",
     "text": [
      "Opened Abstracts__aug1.db database successfully\n",
      "table dropped\n",
      "Created PAPER table\n",
      "Created DataFrame\n",
      "Records created successfully\n"
     ]
    }
   ],
   "source": [
    "paperDF= cmd.createPAPERTable(df)"
   ]
  },
  {
   "cell_type": "code",
   "execution_count": 24,
   "metadata": {
    "collapsed": false
   },
   "outputs": [
    {
     "data": {
      "text/plain": [
       "u\"['Software design', 'Structural properties', 'Feature models', 'Product-lines', 'Research challenges', 'Software product line architecture', 'Software product lines', 'Software systems', 'Structural Design', 'Computer Programming', 'Materials Science']\""
      ]
     },
     "execution_count": 24,
     "metadata": {},
     "output_type": "execute_result"
    }
   ],
   "source": [
    "paperDF.iloc[0].terms"
   ]
  },
  {
   "cell_type": "code",
   "execution_count": null,
   "metadata": {
    "collapsed": false
   },
   "outputs": [],
   "source": [
    "mydb = 'Abstracts_aug31.db'\n",
    "#paperDF.to_csv('Tables_v1/paper.csv', sheet_name = 'paper')\n",
    "paperDFbyYrandConf = paperDF[['pubYear', 'confName', 'paperID']].groupby(['pubYear', 'confName'], axis = 0)\n",
    "#paperDFbyYrandConf.count().to_html()\n",
    "paperDFbyYrandConf.get_group((2007, 'ECSA'))"
   ]
  },
  {
   "cell_type": "code",
   "execution_count": null,
   "metadata": {
    "collapsed": false
   },
   "outputs": [],
   "source": [
    "def getPapersConfYr(yr, conf):\n",
    "    with sqlite3.connect(mydb) as con:\n",
    "        sqlcmd = \"SELECT pubYear, confName, paperID, title, abstract FROM PAPER\"\n",
    "        PAPdf = pd.read_sql_query(sqlcmd, con)\n",
    "    \n",
    "        group = PAPdf.groupby(['pubYear', 'confName'], axis = 0)\n",
    "        subgrp = group.get_group((yr, conf))\n",
    "        \n",
    "        return subgrp"
   ]
  },
  {
   "cell_type": "code",
   "execution_count": null,
   "metadata": {
    "collapsed": false
   },
   "outputs": [],
   "source": [
    "y = getPapersConfYr(2004, 'WICSA')\n",
    "y.index"
   ]
  },
  {
   "cell_type": "code",
   "execution_count": null,
   "metadata": {
    "collapsed": false
   },
   "outputs": [],
   "source": [
    "mytable = []\n",
    "for idx in y.index.get_values():\n",
    "    entry = {}\n",
    "    entry['paperID'] = y.loc[idx]['paperID']\n",
    "    entry['title'] = y.loc[idx]['title']\n",
    "    entry['abstract'] = y.loc[idx]['abstract']\n",
    "    mytable.append(entry)\n",
    "x = dict(data = mytable)\n",
    "    "
   ]
  },
  {
   "cell_type": "code",
   "execution_count": null,
   "metadata": {
    "collapsed": false
   },
   "outputs": [],
   "source": [
    "x"
   ]
  },
  {
   "cell_type": "markdown",
   "metadata": {
    "collapsed": false
   },
   "source": [
    "# PAPERKEY COMPOSITE"
   ]
  },
  {
   "cell_type": "code",
   "execution_count": 22,
   "metadata": {
    "collapsed": false
   },
   "outputs": [
    {
     "name": "stderr",
     "output_type": "stream",
     "text": [
      "sqlcommands.py:559: SettingWithCopyWarning: \n",
      "A value is trying to be set on a copy of a slice from a DataFrame.\n",
      "Try using .loc[row_indexer,col_indexer] = value instead\n",
      "\n",
      "See the caveats in the documentation: http://pandas.pydata.org/pandas-docs/stable/indexing.html#indexing-view-versus-copy\n",
      "  parsedPaper['NEWTERMS'] = parsedPaper[DFCol[-1]].apply(lambda x:\n"
     ]
    },
    {
     "name": "stdout",
     "output_type": "stream",
     "text": [
      "Opened Abstracts__aug1.db database successfully\n",
      "Records created successfully\n"
     ]
    }
   ],
   "source": [
    "pk = cmd.createPAPERKEYTable(paperDF)"
   ]
  },
  {
   "cell_type": "code",
   "execution_count": 23,
   "metadata": {
    "collapsed": false
   },
   "outputs": [
    {
     "data": {
      "text/html": [
       "<div>\n",
       "<table border=\"1\" class=\"dataframe\">\n",
       "  <thead>\n",
       "    <tr style=\"text-align: right;\">\n",
       "      <th></th>\n",
       "      <th>paperID</th>\n",
       "      <th>keyword</th>\n",
       "    </tr>\n",
       "  </thead>\n",
       "  <tbody>\n",
       "    <tr>\n",
       "      <th>0</th>\n",
       "      <td>1</td>\n",
       "      <td>Research challenges</td>\n",
       "    </tr>\n",
       "    <tr>\n",
       "      <th>1</th>\n",
       "      <td>1</td>\n",
       "      <td>Software product line architecture</td>\n",
       "    </tr>\n",
       "    <tr>\n",
       "      <th>2</th>\n",
       "      <td>1</td>\n",
       "      <td>Materials Science</td>\n",
       "    </tr>\n",
       "    <tr>\n",
       "      <th>3</th>\n",
       "      <td>1</td>\n",
       "      <td>Structural properties</td>\n",
       "    </tr>\n",
       "    <tr>\n",
       "      <th>4</th>\n",
       "      <td>1</td>\n",
       "      <td>Software product lines</td>\n",
       "    </tr>\n",
       "  </tbody>\n",
       "</table>\n",
       "</div>"
      ],
      "text/plain": [
       "   paperID                             keyword\n",
       "0        1                 Research challenges\n",
       "1        1  Software product line architecture\n",
       "2        1                   Materials Science\n",
       "3        1               Structural properties\n",
       "4        1              Software product lines"
      ]
     },
     "execution_count": 23,
     "metadata": {},
     "output_type": "execute_result"
    }
   ],
   "source": [
    "pk.head()"
   ]
  },
  {
   "cell_type": "code",
   "execution_count": 24,
   "metadata": {
    "collapsed": false
   },
   "outputs": [
    {
     "data": {
      "text/html": [
       "<div>\n",
       "<table border=\"1\" class=\"dataframe\">\n",
       "  <thead>\n",
       "    <tr style=\"text-align: right;\">\n",
       "      <th></th>\n",
       "      <th>paperID</th>\n",
       "      <th>keyword</th>\n",
       "    </tr>\n",
       "  </thead>\n",
       "  <tbody>\n",
       "    <tr>\n",
       "      <th>17431</th>\n",
       "      <td>1102</td>\n",
       "      <td>Quality Assurance and Control</td>\n",
       "    </tr>\n",
       "    <tr>\n",
       "      <th>17432</th>\n",
       "      <td>1102</td>\n",
       "      <td>Computer Programming</td>\n",
       "    </tr>\n",
       "    <tr>\n",
       "      <th>17433</th>\n",
       "      <td>1102</td>\n",
       "      <td>Real-world legacy</td>\n",
       "    </tr>\n",
       "    <tr>\n",
       "      <th>17434</th>\n",
       "      <td>1102</td>\n",
       "      <td>Software architecture</td>\n",
       "    </tr>\n",
       "    <tr>\n",
       "      <th>17435</th>\n",
       "      <td>1102</td>\n",
       "      <td>Incremental architecture</td>\n",
       "    </tr>\n",
       "  </tbody>\n",
       "</table>\n",
       "</div>"
      ],
      "text/plain": [
       "       paperID                        keyword\n",
       "17431     1102  Quality Assurance and Control\n",
       "17432     1102           Computer Programming\n",
       "17433     1102              Real-world legacy\n",
       "17434     1102          Software architecture\n",
       "17435     1102       Incremental architecture"
      ]
     },
     "execution_count": 24,
     "metadata": {},
     "output_type": "execute_result"
    }
   ],
   "source": [
    "pk.tail()"
   ]
  },
  {
   "cell_type": "code",
   "execution_count": 25,
   "metadata": {
    "collapsed": false
   },
   "outputs": [
    {
     "data": {
      "text/html": [
       "<div>\n",
       "<table border=\"1\" class=\"dataframe\">\n",
       "  <thead>\n",
       "    <tr style=\"text-align: right;\">\n",
       "      <th></th>\n",
       "      <th>paperID</th>\n",
       "      <th>keyword</th>\n",
       "      <th>title</th>\n",
       "      <th>confName</th>\n",
       "      <th>pubYear</th>\n",
       "    </tr>\n",
       "  </thead>\n",
       "  <tbody>\n",
       "    <tr>\n",
       "      <th>0</th>\n",
       "      <td>1</td>\n",
       "      <td>Research challenges</td>\n",
       "      <td>On the need of safe software product line arch...</td>\n",
       "      <td>ECSA</td>\n",
       "      <td>2010</td>\n",
       "    </tr>\n",
       "    <tr>\n",
       "      <th>1</th>\n",
       "      <td>1</td>\n",
       "      <td>Software product line architecture</td>\n",
       "      <td>On the need of safe software product line arch...</td>\n",
       "      <td>ECSA</td>\n",
       "      <td>2010</td>\n",
       "    </tr>\n",
       "    <tr>\n",
       "      <th>2</th>\n",
       "      <td>1</td>\n",
       "      <td>Materials Science</td>\n",
       "      <td>On the need of safe software product line arch...</td>\n",
       "      <td>ECSA</td>\n",
       "      <td>2010</td>\n",
       "    </tr>\n",
       "    <tr>\n",
       "      <th>3</th>\n",
       "      <td>1</td>\n",
       "      <td>Structural properties</td>\n",
       "      <td>On the need of safe software product line arch...</td>\n",
       "      <td>ECSA</td>\n",
       "      <td>2010</td>\n",
       "    </tr>\n",
       "    <tr>\n",
       "      <th>4</th>\n",
       "      <td>1</td>\n",
       "      <td>Software product lines</td>\n",
       "      <td>On the need of safe software product line arch...</td>\n",
       "      <td>ECSA</td>\n",
       "      <td>2010</td>\n",
       "    </tr>\n",
       "  </tbody>\n",
       "</table>\n",
       "</div>"
      ],
      "text/plain": [
       "   paperID                             keyword  \\\n",
       "0        1                 Research challenges   \n",
       "1        1  Software product line architecture   \n",
       "2        1                   Materials Science   \n",
       "3        1               Structural properties   \n",
       "4        1              Software product lines   \n",
       "\n",
       "                                               title confName  pubYear  \n",
       "0  On the need of safe software product line arch...     ECSA     2010  \n",
       "1  On the need of safe software product line arch...     ECSA     2010  \n",
       "2  On the need of safe software product line arch...     ECSA     2010  \n",
       "3  On the need of safe software product line arch...     ECSA     2010  \n",
       "4  On the need of safe software product line arch...     ECSA     2010  "
      ]
     },
     "execution_count": 25,
     "metadata": {},
     "output_type": "execute_result"
    }
   ],
   "source": [
    "paperKey = pk.merge(paperDF[['paperID', 'title','confName', 'pubYear']], on = 'paperID')\n",
    "paperKey.head()\n"
   ]
  },
  {
   "cell_type": "code",
   "execution_count": null,
   "metadata": {
    "collapsed": true
   },
   "outputs": [],
   "source": [
    "def getPapersKWgroup(grouper):\n",
    "    with sqlite3.connect('Abstracts_DB.db') as con:\n",
    "        sqlcmd = \"SELECT paperID, title, confName, pubYear FROM PAPER \"\n",
    "        \n",
    "        paperdf = pd.read_sql_query(sqlcmd, con)\n",
    "        \n",
    "        sqlcmd2 = \"SELECT paperID, keyword FROM PAPERKEY \"\n",
    "        kwdf = pd.read_sql_query(sqlcmd2, con)\n",
    "        kwdf['keyword'] = kwdf['keyword'].apply(lambda word: eval(word))\n",
    "        \n",
    "        merged = kwdf.merge(paperdf, on = 'paperID')\n",
    "        \n",
    "        subgrp = merged.groupby(grouper)\n",
    "        \n",
    "        return merged, subgrp"
   ]
  },
  {
   "cell_type": "code",
   "execution_count": null,
   "metadata": {
    "collapsed": false
   },
   "outputs": [],
   "source": [
    "def getPapersKWgroup(grouper):\n",
    "    with sqlite3.connect('Abstracts_DB.db') as con:\n",
    "        sqlcmd = \"SELECT paperID, title, confName, pubYear FROM PAPER \"\n",
    "        \n",
    "        paperdf = pd.read_sql_query(sqlcmd, con)\n",
    "        \n",
    "        sqlcmd2 = \"SELECT paperID, keyword FROM PAPERKEY \"\n",
    "        kwdf = pd.read_sql_query(sqlcmd2, con)\n",
    "        kwdf['keyword'] = kwdf['keyword'].apply(lambda word: eval(word))\n",
    "        \n",
    "        merged = kwdf.merge(paperdf, on = 'paperID')\n",
    "        \n",
    "        subgrp = merged.groupby(grouper)\n",
    "        \n",
    "        return merged, subgrp\n",
    "\n",
    "def getKWTrend(keyword):\n",
    "    paperFreq = getPapersKWgroup('keyword')\n",
    "    \n",
    "    #paperFreq['keyword'] = paperFreq['keyword'].apply(lambda word: eval(word))\n",
    "    \n",
    "    return paperFreq\n"
   ]
  },
  {
   "cell_type": "code",
   "execution_count": null,
   "metadata": {
    "collapsed": false
   },
   "outputs": [],
   "source": [
    "paperKeyword = paperKey.groupby('paperID').count()\n",
    "paperKwYr = paperKey.groupby('pubYear')"
   ]
  },
  {
   "cell_type": "code",
   "execution_count": null,
   "metadata": {
    "collapsed": false
   },
   "outputs": [],
   "source": [
    "paperKwYr.get_group(2010)[['paperID', 'keyword']].groupby('keyword').count().sort('paperID', ascending = False)  "
   ]
  },
  {
   "cell_type": "code",
   "execution_count": null,
   "metadata": {
    "collapsed": false
   },
   "outputs": [],
   "source": [
    "#enter a keyword and see trend over conference and year.\n",
    "try1 = paperKey\n",
    "try1 = try1.groupby('keyword')"
   ]
  },
  {
   "cell_type": "code",
   "execution_count": null,
   "metadata": {
    "collapsed": false
   },
   "outputs": [],
   "source": [
    "paperFreq, merged = getPapersKWgroup('keyword')"
   ]
  },
  {
   "cell_type": "code",
   "execution_count": null,
   "metadata": {
    "collapsed": false
   },
   "outputs": [],
   "source": [
    "overallbreakdown = paperFreq.count()\n",
    "overallbreakdown.reset_index(inplace = True)\n",
    "overallbreakdown.head()"
   ]
  },
  {
   "cell_type": "code",
   "execution_count": null,
   "metadata": {
    "collapsed": false
   },
   "outputs": [],
   "source": [
    "#import matplotlib as plt\n",
    "%matplotlib inline\n",
    "def confYrKeywords(top = 10):\n",
    "    grouper = ['confName', 'pubYear']\n",
    "    m, f = getPapersKWgroup(grouper)\n",
    "    myentries = []\n",
    "    for group in f.groups.keys():\n",
    "        print group\n",
    "        keywordcts = f.get_group((group)).groupby([\"keyword\"])[\"keyword\"].count()\n",
    "        \n",
    "        kwdftop = keywordcts.sort_values(ascending = False).head(top)\n",
    "        \n",
    "        resetKW = pd.DataFrame(kwdftop).rename(columns = {'keyword' : 'count'})\n",
    "        entry = {}\n",
    "        entry['Group'] = group\n",
    "        \n",
    "        entry['Pie'] = getPieOne(resetKW, group)\n",
    "        entry['Counts'] = resetKW.to_html()\n",
    "        \n",
    "        myentries.append(entry)\n",
    "    \n",
    "    return dict(data = myentries)\n",
    "        \n",
    "        \n",
    "        "
   ]
  },
  {
   "cell_type": "code",
   "execution_count": null,
   "metadata": {
    "collapsed": false
   },
   "outputs": [],
   "source": [
    "\n",
    "keywordcts = f.get_group(('ECSA', 2007)).groupby([\"keyword\"])[\"keyword\"].count()\n",
    "\n",
    "top10 = keywordcts.sort_values(ascending = False)\n",
    "top10.head()"
   ]
  },
  {
   "cell_type": "code",
   "execution_count": null,
   "metadata": {
    "collapsed": false
   },
   "outputs": [],
   "source": [
    "\n",
    "keywordcts.head(10).plot(kind = 'pie')\n",
    "getPieOne(keywordcts.head(10), ('ECSA', 2007) )\n",
    "kwdf = keywordcts.head(10)\n",
    "new = pd.DataFrame(kwdf).rename(columns = {'keyword' : 'count'})\n",
    "new\n",
    "getPieOne(new, ('ECSA', 2007))\n",
    "getBar(new, ('ECSA', 2007))"
   ]
  },
  {
   "cell_type": "code",
   "execution_count": null,
   "metadata": {
    "collapsed": false
   },
   "outputs": [],
   "source": [
    "tryit = confYrKeywords()\n",
    "\n"
   ]
  },
  {
   "cell_type": "code",
   "execution_count": null,
   "metadata": {
    "collapsed": false
   },
   "outputs": [],
   "source": [
    "tryit"
   ]
  },
  {
   "cell_type": "code",
   "execution_count": null,
   "metadata": {
    "collapsed": false
   },
   "outputs": [],
   "source": [
    "import matplotlib.pyplot as plt\n",
    "import numpy as np\n",
    "import pandas as pd\n",
    "from cStringIO import StringIO\n",
    "import base64\n",
    "import seaborn as sns\n",
    "%matplotlib inline\n",
    "\n",
    "def getPieOne(df, conference):\n",
    "    fig = plt.figure()\n",
    "    fig = df.plot(kind = 'pie', colormap = 'Blues', title = conference, subplots = True, legend = False, labels = ['' for x in np.arange(len(df))])\n",
    "    plt.ylabel('')\n",
    "    \n",
    "    plt.legend( list(df.index),  bbox_to_anchor=(1.1, 1),\n",
    "              fontsize = \"xx-small\")\n",
    "    io = StringIO()\n",
    "    plt.savefig(io, format='png')\n",
    "    img = base64.encodestring(io.getvalue())\n",
    "   \n",
    "    io = StringIO()\n",
    "    plt.savefig(io, format='png')\n",
    "    data = base64.encodestring(io.getvalue())\n",
    "    script = '''<img src=\"data:image/png;base64,{}\";/>'''\n",
    "    return fig\n",
    "\n",
    "def getBar(df, conference):\n",
    "    \n",
    "    plt.figure()\n",
    "    ax =  df.plot(kind = 'bar', colormap = 'ocean', title = conference, subplots = True,legend = False)\n",
    "   \n",
    "    io = StringIO()\n",
    "    plt.savefig(io, format='png')\n",
    "    img = base64.encodestring(io.getvalue())\n",
    "   \n",
    "    io = StringIO()\n",
    "    plt.savefig(io, format='png')\n",
    "    data = base64.encodestring(io.getvalue())\n",
    "    script = '''<img src=\"data:image/png;base64,{}\";/>'''\n",
    "    \n",
    "def getBar2(df, conference, yaxis, xaxis, ylabel = 'count', xlabel = 'trada'):\n",
    "    plt.figure()\n",
    "    fig = sns.barplot(data = df, \n",
    "                      y = yaxis, \n",
    "                      x = xaxis, \n",
    "                      palette='Blues')\n",
    "    fig.set_ylabel(ylabel)\n",
    "    fig.set_xlabel(xlabel)\n",
    "    \n",
    "    io = StringIO()\n",
    "    plt.savefig(io, format='png')\n",
    "    img = base64.encodestring(io.getvalue())\n",
    "   \n",
    "    io = StringIO()\n",
    "    plt.savefig(io, format='png')\n",
    "    data = base64.encodestring(io.getvalue())\n",
    "    script = '''<img src=\"data:image/png;base64,{}\";/>'''\n",
    "    \n",
    "    return fig\n",
    "\n",
    "def getHeatMap(data_frame, indexCol = 'confName', cols = 'pubYear', vals = 'counts'):\n",
    "    plt.cla()\n",
    "    fig = sns.heatmap(data_frame.pivot_table(index=indexCol, \n",
    "                                             columns=cols, \n",
    "                                             values=vals),\n",
    "                                             cmap = 'Blues')\n",
    "    \n",
    "    io = StringIO()\n",
    "    plt.savefig(io, format='png')\n",
    "    img = base64.encodestring(io.getvalue())\n",
    "   \n",
    "    io = StringIO()\n",
    "    plt.savefig(io, format='png')\n",
    "    data = base64.encodestring(io.getvalue())\n",
    "    script = '''<img src=\"data:image/png;base64,{}\";/>'''\n",
    "    plt.close()\n",
    "    return fig\n",
    "\n",
    "def getLine(data_frame, xaxis = 'confName', yaxis = 'counts'):\n",
    "    plt.cla()\n",
    "    fig = sns.swarmplot(data = data_frame, x=xaxis, y = yaxis,palette = 'Blues')\n",
    "    \n",
    "    io = StringIO()\n",
    "    plt.savefig(io, format='png')\n",
    "    img = base64.encodestring(io.getvalue())\n",
    "   \n",
    "    io = StringIO()\n",
    "    plt.savefig(io, format='png')\n",
    "    data = base64.encodestring(io.getvalue())\n",
    "    script = '''<img src=\"data:image/png;base64,{}\";/>'''\n",
    "    plt.close()\n",
    "    return fig"
   ]
  },
  {
   "cell_type": "code",
   "execution_count": null,
   "metadata": {
    "collapsed": true
   },
   "outputs": [],
   "source": [
    "def getContentsconf():\n",
    "    with sqlite3.connect(mydb) as con:\n",
    "        sqlcmd = \"SELECT Conf, Year FROM ABSTRACTSTOTAL\"\n",
    "        df = pd.read_sql_query(sqlcmd, con)\n",
    "        myt = []\n",
    "    \n",
    "        \n",
    "        conferences = list(df['Conf'].unique())\n",
    "    \n",
    "   \n",
    "        for conf in conferences:\n",
    "        \n",
    "            entry = {}\n",
    "            entry['conf'] = conf\n",
    "        \n",
    "            subDF = df.query('Conf == \"%s\"' % conf).groupby('year').count()\n",
    "            entry['counts'] = subDF.to_html()\n",
    "            \n",
    "            image = getPieOne(subDF, conf)\n",
    "            entry['Pie']  = image\n",
    "            \n",
    "            subDF.reset_index(inplace = True)\n",
    "            image2 = getBar2(subDF, conf, xaxis = 'year', yaxis = 'Conf')\n",
    "            entry['Bar'] = image2\n",
    "        \n",
    "            myt.append(entry)\n",
    "    \n",
    "    return dict(data = myt), df"
   ]
  },
  {
   "cell_type": "code",
   "execution_count": null,
   "metadata": {
    "collapsed": false
   },
   "outputs": [],
   "source": [
    "g, d = getContentsconf()"
   ]
  },
  {
   "cell_type": "code",
   "execution_count": null,
   "metadata": {
    "collapsed": false
   },
   "outputs": [],
   "source": [
    "d.reset_index(inplace= True)"
   ]
  },
  {
   "cell_type": "code",
   "execution_count": null,
   "metadata": {
    "collapsed": false
   },
   "outputs": [],
   "source": [
    "g = getBar2(d, 'EC', xaxis = 'year', yaxis = 'Conf')\n"
   ]
  },
  {
   "cell_type": "code",
   "execution_count": null,
   "metadata": {
    "collapsed": false
   },
   "outputs": [],
   "source": [
    "\n",
    "kwdf = keywordcts.sort_values(ascending = False)\n",
    "\n",
    "\n",
    "new = pd.DataFrame(kwdf.head(10)).rename(columns = {'keyword' : 'count'})\n",
    "f = getPieOne(new, ('ECSA', 2007) )\n",
    "new.reset_index(inplace = True)\n",
    "new\n",
    "f"
   ]
  },
  {
   "cell_type": "code",
   "execution_count": null,
   "metadata": {
    "collapsed": false
   },
   "outputs": [],
   "source": [
    "df = d.groupby(['Conf', 'year'])['Conf'].count().reset_index(name=\"counts\")\n",
    "sns.heatmap(df.pivot_table(index='year', columns='Conf', values='counts'),\n",
    "                                             cmap = 'Blues')"
   ]
  },
  {
   "cell_type": "code",
   "execution_count": null,
   "metadata": {
    "collapsed": false
   },
   "outputs": [],
   "source": [
    "sns.heatmap(df.pivot_table(index='year', columns='Conf', values='counts'),\n",
    "                                             cmap = 'Blues')"
   ]
  },
  {
   "cell_type": "code",
   "execution_count": null,
   "metadata": {
    "collapsed": false
   },
   "outputs": [],
   "source": [
    "table = []\n",
    "for idx in cts.index.get_values():\n",
    "    entry = {}\n",
    "    kw = cts.iloc[idx].keyword\n",
    "    entry['kw'] = cts.iloc[idx].keyword\n",
    "    entry['counts'] = cts.iloc[idx].counts\n",
    "    mygroup = f.get_group(kw)\n",
    "    entry['papers'] = list(mygroup.paperID)\n",
    "    entry['conferences'] = list(mygroup.confName)\n",
    "    entry['years'] = list(mygroup.pubYear)\n",
    "    table.append(entry)"
   ]
  },
  {
   "cell_type": "code",
   "execution_count": null,
   "metadata": {
    "collapsed": false
   },
   "outputs": [],
   "source": [
    "pd.DataFrame(table).head()"
   ]
  },
  {
   "cell_type": "code",
   "execution_count": null,
   "metadata": {
    "collapsed": false
   },
   "outputs": [],
   "source": []
  },
  {
   "cell_type": "code",
   "execution_count": null,
   "metadata": {
    "collapsed": false
   },
   "outputs": [],
   "source": [
    "m= getPapersKWgroup2()\n",
    "m.head()"
   ]
  },
  {
   "cell_type": "code",
   "execution_count": null,
   "metadata": {
    "collapsed": false
   },
   "outputs": [],
   "source": [
    "m.head()"
   ]
  },
  {
   "cell_type": "code",
   "execution_count": null,
   "metadata": {
    "collapsed": false
   },
   "outputs": [],
   "source": [
    "def getKWTRends(kw, grouper):\n",
    "    \n",
    "    m, f = getPapersKWgroup(grouper)\n",
    "    \n",
    "    query2 = '\"%s\" == keyword' %kw\n",
    "    \n",
    "    data_frame = m.copy()\n",
    "    data_frame.query(query2, inplace = True)\n",
    "    new = data_frame.copy()\n",
    "    \n",
    "    def findKWTrend(df, KWgrouper = [\"pubYear\", \"confName\"]):\n",
    "        labels = {'ECSA' : 0,\n",
    "                  'QoSA' : 1,\n",
    "                  'WICSA' : 2}\n",
    "        df = df.groupby(KWgrouper)['keyword'].count().reset_index(name=\"counts\")\n",
    "        df['confCode'] = df.confName.apply(lambda name: labels[name])\n",
    "        try:\n",
    "            return getHeatMap(df)\n",
    "        except:\n",
    "            return 'no data'\n",
    "        \n",
    "    \n",
    "    image = findKWTrend(new)\n",
    "    \n",
    "    myentry = [{'table' : data_frame.to_html(),\n",
    "              'trend'  : image\n",
    "               }]\n",
    "    \n",
    "    return dict(data = myentry)"
   ]
  },
  {
   "cell_type": "code",
   "execution_count": null,
   "metadata": {
    "collapsed": false
   },
   "outputs": [],
   "source": [
    "t = getKWTRends('Research', 'keyword')\n",
    "t = getKWTRends('Research', 'keyword')"
   ]
  },
  {
   "cell_type": "code",
   "execution_count": null,
   "metadata": {
    "collapsed": false
   },
   "outputs": [],
   "source": [
    "new = t.groupby([\"pubYear\", \"confName\"])['keyword'].count().reset_index(name=\"counts\")\n",
    "labels = {'ECSA' : 0,\n",
    "         'QoSA' : 1,\n",
    "         'WICSA' : 2}\n",
    "new['confCode'] = new.confName.apply(lambda name: labels[name])\n",
    "new.head()"
   ]
  },
  {
   "cell_type": "code",
   "execution_count": null,
   "metadata": {
    "collapsed": false
   },
   "outputs": [],
   "source": [
    "#sns.heatmap(new.pivot_table( index='confName', columns='pubYear', values='counts'), cmap = 'Blues')\n",
    "getHeatMap(new)"
   ]
  },
  {
   "cell_type": "code",
   "execution_count": null,
   "metadata": {
    "collapsed": false
   },
   "outputs": [],
   "source": [
    "ctsmerge.head()"
   ]
  },
  {
   "cell_type": "code",
   "execution_count": null,
   "metadata": {
    "collapsed": true
   },
   "outputs": [],
   "source": [
    "def getPaperKW():\n",
    "    m, data_frame = getPapersKWgroup('paperID')\n",
    "    entries = []\n",
    "    for each in data_frame.groups:\n",
    "        entry = {}\n",
    "        entry['paperID'] = each\n",
    "        entry['keywords'] = [key for key in data_frame.get_group(each)['keyword']]\n",
    "        \n",
    "        entries.append(entry)\n",
    "    return dict(data = entries)"
   ]
  },
  {
   "cell_type": "code",
   "execution_count": null,
   "metadata": {
    "collapsed": false
   },
   "outputs": [],
   "source": [
    "j = getPaperKW()"
   ]
  },
  {
   "cell_type": "code",
   "execution_count": null,
   "metadata": {
    "collapsed": false
   },
   "outputs": [],
   "source": [
    "j"
   ]
  },
  {
   "cell_type": "code",
   "execution_count": null,
   "metadata": {
    "collapsed": false
   },
   "outputs": [],
   "source": [
    "def search_kw(kw):\n",
    "    print \"kw\", kw\n",
    "    \n",
    "    \n",
    "    m, f = getPapersKWgroup('keyword')\n",
    "    cts = m.groupby([\"keyword\"])[\"keyword\"].count().reset_index(name=\"counts\")\n",
    "    ctsmerge = cts.merge(m, on = 'keyword').groupby('keyword')   \n",
    "    \n",
    "    try:\n",
    "        print kw\n",
    "        subgroup = ctsmerge.get_group(kw)\n",
    "        mytable = []\n",
    "            \n",
    "        for idx in subgroup.index.get_values():\n",
    "            print idx\n",
    "            entry = {}\n",
    "            entry['paperID'] = subgroup.loc[idx].paperID\n",
    "            entry['Title'] = subgroup.loc[idx]['title']\n",
    "            entry['Conference'] = subgroup.loc[idx]['confName']   \n",
    "            entry['PublicationYear'] = subgroup.loc[idx]['pubYear'] \n",
    "            mytable.append(entry)\n",
    "       \n",
    "        return dict(data = mytable)\n",
    "    except:\n",
    "        print (kw,'subgroupfail')\n",
    "        entry = {'paperID': 'No Keyword Found',\n",
    "                     'Title': 'No Keyword Found',\n",
    "                     'Conference': 'No Keyword Found',\n",
    "                     'PublicationYear': 'No Keyword Found'\n",
    "                     }\n",
    "        mytable = [entry]\n",
    "        return dict(data = mytable)\n",
    "\n",
    "\n",
    "kw =     'aspectual concept'"
   ]
  },
  {
   "cell_type": "code",
   "execution_count": null,
   "metadata": {
    "collapsed": false
   },
   "outputs": [],
   "source": [
    "kw2 = 'wireless sensor networks'"
   ]
  },
  {
   "cell_type": "code",
   "execution_count": null,
   "metadata": {
    "collapsed": false
   },
   "outputs": [],
   "source": []
  },
  {
   "cell_type": "code",
   "execution_count": null,
   "metadata": {
    "collapsed": false
   },
   "outputs": [],
   "source": [
    "search_kw(u'vulnerability')\n"
   ]
  },
  {
   "cell_type": "markdown",
   "metadata": {
    "collapsed": true
   },
   "source": [
    "# Affiliation_Paper Composite \n",
    "## necessary?"
   ]
  },
  {
   "cell_type": "code",
   "execution_count": 26,
   "metadata": {
    "collapsed": false
   },
   "outputs": [
    {
     "name": "stdout",
     "output_type": "stream",
     "text": [
      "Opened Abstracts__aug1.db database successfully\n",
      "Records created successfully\n"
     ]
    }
   ],
   "source": [
    "paperAffiliationDF = cmd.createAFFILIATIONPAPERTable(paperDF, affilDF)"
   ]
  },
  {
   "cell_type": "code",
   "execution_count": 27,
   "metadata": {
    "collapsed": false
   },
   "outputs": [
    {
     "data": {
      "text/html": [
       "<div>\n",
       "<table border=\"1\" class=\"dataframe\">\n",
       "  <thead>\n",
       "    <tr style=\"text-align: right;\">\n",
       "      <th></th>\n",
       "      <th>paperID</th>\n",
       "      <th>affilID</th>\n",
       "    </tr>\n",
       "  </thead>\n",
       "  <tbody>\n",
       "    <tr>\n",
       "      <th>1097</th>\n",
       "      <td>1098</td>\n",
       "      <td>773</td>\n",
       "    </tr>\n",
       "    <tr>\n",
       "      <th>1098</th>\n",
       "      <td>1099</td>\n",
       "      <td>821</td>\n",
       "    </tr>\n",
       "    <tr>\n",
       "      <th>1099</th>\n",
       "      <td>1100</td>\n",
       "      <td>274</td>\n",
       "    </tr>\n",
       "    <tr>\n",
       "      <th>1100</th>\n",
       "      <td>1101</td>\n",
       "      <td>274</td>\n",
       "    </tr>\n",
       "    <tr>\n",
       "      <th>1101</th>\n",
       "      <td>1102</td>\n",
       "      <td>704</td>\n",
       "    </tr>\n",
       "  </tbody>\n",
       "</table>\n",
       "</div>"
      ],
      "text/plain": [
       "      paperID  affilID\n",
       "1097     1098      773\n",
       "1098     1099      821\n",
       "1099     1100      274\n",
       "1100     1101      274\n",
       "1101     1102      704"
      ]
     },
     "execution_count": 27,
     "metadata": {},
     "output_type": "execute_result"
    }
   ],
   "source": [
    "paperAffiliationDF.tail()\n",
    "#paperAffiliationDF.to_csv('Tables_v1/paperAffiliation.csv', sheet_name = 'paperAffil')"
   ]
  },
  {
   "cell_type": "code",
   "execution_count": null,
   "metadata": {
    "collapsed": false
   },
   "outputs": [],
   "source": [
    "paperDF[['paperID', 'pubYear']].merge(paperAffiliationDF, on = 'paperID').tail()"
   ]
  },
  {
   "cell_type": "markdown",
   "metadata": {},
   "source": [
    "# PAPERAUTHORS COMPOSITE"
   ]
  },
  {
   "cell_type": "code",
   "execution_count": 28,
   "metadata": {
    "collapsed": false
   },
   "outputs": [
    {
     "name": "stdout",
     "output_type": "stream",
     "text": [
      "Opened Abstracts__aug1.db database successfully\n",
      "Records created successfully\n"
     ]
    }
   ],
   "source": [
    "authorPaper = cmd.createPAPERAUTHORTable(paperDF[['paperID', 'authors']])\n",
    "#authorPaper.to_csv('Tables_v1/authorPaper.csv', sheet_name = 'paperAuthor')"
   ]
  },
  {
   "cell_type": "code",
   "execution_count": 29,
   "metadata": {
    "collapsed": false
   },
   "outputs": [
    {
     "data": {
      "text/html": [
       "<div>\n",
       "<table border=\"1\" class=\"dataframe\">\n",
       "  <thead>\n",
       "    <tr style=\"text-align: right;\">\n",
       "      <th></th>\n",
       "      <th>paperID</th>\n",
       "      <th>authorName</th>\n",
       "    </tr>\n",
       "  </thead>\n",
       "  <tbody>\n",
       "    <tr>\n",
       "      <th>0</th>\n",
       "      <td>1</td>\n",
       "      <td>Lopez Herrejon, Roberto E</td>\n",
       "    </tr>\n",
       "    <tr>\n",
       "      <th>1</th>\n",
       "      <td>1</td>\n",
       "      <td>Egyed, Alexander</td>\n",
       "    </tr>\n",
       "    <tr>\n",
       "      <th>2</th>\n",
       "      <td>2</td>\n",
       "      <td>Perovich, Daniel</td>\n",
       "    </tr>\n",
       "    <tr>\n",
       "      <th>3</th>\n",
       "      <td>2</td>\n",
       "      <td>Rossel, Pedro O</td>\n",
       "    </tr>\n",
       "    <tr>\n",
       "      <th>4</th>\n",
       "      <td>2</td>\n",
       "      <td>Bastarrica, Mar</td>\n",
       "    </tr>\n",
       "    <tr>\n",
       "      <th>5</th>\n",
       "      <td>2</td>\n",
       "      <td>a Cecilia</td>\n",
       "    </tr>\n",
       "    <tr>\n",
       "      <th>6</th>\n",
       "      <td>3</td>\n",
       "      <td>Perovich, Daniel</td>\n",
       "    </tr>\n",
       "    <tr>\n",
       "      <th>7</th>\n",
       "      <td>3</td>\n",
       "      <td>Rossel, Pedro O</td>\n",
       "    </tr>\n",
       "    <tr>\n",
       "      <th>8</th>\n",
       "      <td>3</td>\n",
       "      <td>Bastarrica, Mar</td>\n",
       "    </tr>\n",
       "    <tr>\n",
       "      <th>9</th>\n",
       "      <td>3</td>\n",
       "      <td>a Cecilia</td>\n",
       "    </tr>\n",
       "    <tr>\n",
       "      <th>10</th>\n",
       "      <td>4</td>\n",
       "      <td>Perovich, Daniel</td>\n",
       "    </tr>\n",
       "    <tr>\n",
       "      <th>11</th>\n",
       "      <td>4</td>\n",
       "      <td>Rossel, Pedro O</td>\n",
       "    </tr>\n",
       "    <tr>\n",
       "      <th>12</th>\n",
       "      <td>4</td>\n",
       "      <td>Bastarrica, Mar</td>\n",
       "    </tr>\n",
       "    <tr>\n",
       "      <th>13</th>\n",
       "      <td>4</td>\n",
       "      <td>a Cecilia</td>\n",
       "    </tr>\n",
       "    <tr>\n",
       "      <th>14</th>\n",
       "      <td>5</td>\n",
       "      <td>Hilliard, Rich</td>\n",
       "    </tr>\n",
       "    <tr>\n",
       "      <th>15</th>\n",
       "      <td>5</td>\n",
       "      <td>Malavolta, Ivano</td>\n",
       "    </tr>\n",
       "    <tr>\n",
       "      <th>16</th>\n",
       "      <td>5</td>\n",
       "      <td>Muccini, Henry</td>\n",
       "    </tr>\n",
       "    <tr>\n",
       "      <th>17</th>\n",
       "      <td>5</td>\n",
       "      <td>Pelliccione, Patrizio</td>\n",
       "    </tr>\n",
       "    <tr>\n",
       "      <th>18</th>\n",
       "      <td>6</td>\n",
       "      <td>Hilliard, Rich</td>\n",
       "    </tr>\n",
       "    <tr>\n",
       "      <th>19</th>\n",
       "      <td>6</td>\n",
       "      <td>Malavolta, Ivano</td>\n",
       "    </tr>\n",
       "  </tbody>\n",
       "</table>\n",
       "</div>"
      ],
      "text/plain": [
       "    paperID                 authorName\n",
       "0         1  Lopez Herrejon, Roberto E\n",
       "1         1           Egyed, Alexander\n",
       "2         2           Perovich, Daniel\n",
       "3         2            Rossel, Pedro O\n",
       "4         2            Bastarrica, Mar\n",
       "5         2                  a Cecilia\n",
       "6         3           Perovich, Daniel\n",
       "7         3            Rossel, Pedro O\n",
       "8         3            Bastarrica, Mar\n",
       "9         3                  a Cecilia\n",
       "10        4           Perovich, Daniel\n",
       "11        4            Rossel, Pedro O\n",
       "12        4            Bastarrica, Mar\n",
       "13        4                  a Cecilia\n",
       "14        5             Hilliard, Rich\n",
       "15        5           Malavolta, Ivano\n",
       "16        5             Muccini, Henry\n",
       "17        5      Pelliccione, Patrizio\n",
       "18        6             Hilliard, Rich\n",
       "19        6           Malavolta, Ivano"
      ]
     },
     "execution_count": 29,
     "metadata": {},
     "output_type": "execute_result"
    }
   ],
   "source": [
    "authorPaper.head(20)"
   ]
  },
  {
   "cell_type": "code",
   "execution_count": 30,
   "metadata": {
    "collapsed": false
   },
   "outputs": [
    {
     "data": {
      "text/html": [
       "<div>\n",
       "<table border=\"1\" class=\"dataframe\">\n",
       "  <thead>\n",
       "    <tr style=\"text-align: right;\">\n",
       "      <th></th>\n",
       "      <th>paperID</th>\n",
       "      <th>title</th>\n",
       "      <th>authorName</th>\n",
       "    </tr>\n",
       "  </thead>\n",
       "  <tbody>\n",
       "    <tr>\n",
       "      <th>0</th>\n",
       "      <td>1</td>\n",
       "      <td>On the need of safe software product line arch...</td>\n",
       "      <td>Lopez Herrejon, Roberto E</td>\n",
       "    </tr>\n",
       "    <tr>\n",
       "      <th>1</th>\n",
       "      <td>1</td>\n",
       "      <td>On the need of safe software product line arch...</td>\n",
       "      <td>Egyed, Alexander</td>\n",
       "    </tr>\n",
       "    <tr>\n",
       "      <th>2</th>\n",
       "      <td>2</td>\n",
       "      <td>Feature model to product architectures  Applyi...</td>\n",
       "      <td>Perovich, Daniel</td>\n",
       "    </tr>\n",
       "    <tr>\n",
       "      <th>3</th>\n",
       "      <td>2</td>\n",
       "      <td>Feature model to product architectures  Applyi...</td>\n",
       "      <td>Rossel, Pedro O</td>\n",
       "    </tr>\n",
       "    <tr>\n",
       "      <th>4</th>\n",
       "      <td>2</td>\n",
       "      <td>Feature model to product architectures  Applyi...</td>\n",
       "      <td>Bastarrica, Mar</td>\n",
       "    </tr>\n",
       "    <tr>\n",
       "      <th>5</th>\n",
       "      <td>2</td>\n",
       "      <td>Feature model to product architectures  Applyi...</td>\n",
       "      <td>a Cecilia</td>\n",
       "    </tr>\n",
       "    <tr>\n",
       "      <th>6</th>\n",
       "      <td>3</td>\n",
       "      <td>Feature model to product architectures  Applyi...</td>\n",
       "      <td>Perovich, Daniel</td>\n",
       "    </tr>\n",
       "    <tr>\n",
       "      <th>7</th>\n",
       "      <td>3</td>\n",
       "      <td>Feature model to product architectures  Applyi...</td>\n",
       "      <td>Rossel, Pedro O</td>\n",
       "    </tr>\n",
       "    <tr>\n",
       "      <th>8</th>\n",
       "      <td>3</td>\n",
       "      <td>Feature model to product architectures  Applyi...</td>\n",
       "      <td>Bastarrica, Mar</td>\n",
       "    </tr>\n",
       "    <tr>\n",
       "      <th>9</th>\n",
       "      <td>3</td>\n",
       "      <td>Feature model to product architectures  Applyi...</td>\n",
       "      <td>a Cecilia</td>\n",
       "    </tr>\n",
       "    <tr>\n",
       "      <th>10</th>\n",
       "      <td>4</td>\n",
       "      <td>Feature model to product architectures  Applyi...</td>\n",
       "      <td>Perovich, Daniel</td>\n",
       "    </tr>\n",
       "    <tr>\n",
       "      <th>11</th>\n",
       "      <td>4</td>\n",
       "      <td>Feature model to product architectures  Applyi...</td>\n",
       "      <td>Rossel, Pedro O</td>\n",
       "    </tr>\n",
       "    <tr>\n",
       "      <th>12</th>\n",
       "      <td>4</td>\n",
       "      <td>Feature model to product architectures  Applyi...</td>\n",
       "      <td>Bastarrica, Mar</td>\n",
       "    </tr>\n",
       "    <tr>\n",
       "      <th>13</th>\n",
       "      <td>4</td>\n",
       "      <td>Feature model to product architectures  Applyi...</td>\n",
       "      <td>a Cecilia</td>\n",
       "    </tr>\n",
       "    <tr>\n",
       "      <th>14</th>\n",
       "      <td>5</td>\n",
       "      <td>On the composition and reuse of viewpoints acr...</td>\n",
       "      <td>Hilliard, Rich</td>\n",
       "    </tr>\n",
       "    <tr>\n",
       "      <th>15</th>\n",
       "      <td>5</td>\n",
       "      <td>On the composition and reuse of viewpoints acr...</td>\n",
       "      <td>Malavolta, Ivano</td>\n",
       "    </tr>\n",
       "    <tr>\n",
       "      <th>16</th>\n",
       "      <td>5</td>\n",
       "      <td>On the composition and reuse of viewpoints acr...</td>\n",
       "      <td>Muccini, Henry</td>\n",
       "    </tr>\n",
       "    <tr>\n",
       "      <th>17</th>\n",
       "      <td>5</td>\n",
       "      <td>On the composition and reuse of viewpoints acr...</td>\n",
       "      <td>Pelliccione, Patrizio</td>\n",
       "    </tr>\n",
       "    <tr>\n",
       "      <th>18</th>\n",
       "      <td>6</td>\n",
       "      <td>On the composition and reuse of viewpoints acr...</td>\n",
       "      <td>Hilliard, Rich</td>\n",
       "    </tr>\n",
       "    <tr>\n",
       "      <th>19</th>\n",
       "      <td>6</td>\n",
       "      <td>On the composition and reuse of viewpoints acr...</td>\n",
       "      <td>Malavolta, Ivano</td>\n",
       "    </tr>\n",
       "  </tbody>\n",
       "</table>\n",
       "</div>"
      ],
      "text/plain": [
       "    paperID                                              title  \\\n",
       "0         1  On the need of safe software product line arch...   \n",
       "1         1  On the need of safe software product line arch...   \n",
       "2         2  Feature model to product architectures  Applyi...   \n",
       "3         2  Feature model to product architectures  Applyi...   \n",
       "4         2  Feature model to product architectures  Applyi...   \n",
       "5         2  Feature model to product architectures  Applyi...   \n",
       "6         3  Feature model to product architectures  Applyi...   \n",
       "7         3  Feature model to product architectures  Applyi...   \n",
       "8         3  Feature model to product architectures  Applyi...   \n",
       "9         3  Feature model to product architectures  Applyi...   \n",
       "10        4  Feature model to product architectures  Applyi...   \n",
       "11        4  Feature model to product architectures  Applyi...   \n",
       "12        4  Feature model to product architectures  Applyi...   \n",
       "13        4  Feature model to product architectures  Applyi...   \n",
       "14        5  On the composition and reuse of viewpoints acr...   \n",
       "15        5  On the composition and reuse of viewpoints acr...   \n",
       "16        5  On the composition and reuse of viewpoints acr...   \n",
       "17        5  On the composition and reuse of viewpoints acr...   \n",
       "18        6  On the composition and reuse of viewpoints acr...   \n",
       "19        6  On the composition and reuse of viewpoints acr...   \n",
       "\n",
       "                   authorName  \n",
       "0   Lopez Herrejon, Roberto E  \n",
       "1            Egyed, Alexander  \n",
       "2            Perovich, Daniel  \n",
       "3             Rossel, Pedro O  \n",
       "4             Bastarrica, Mar  \n",
       "5                   a Cecilia  \n",
       "6            Perovich, Daniel  \n",
       "7             Rossel, Pedro O  \n",
       "8             Bastarrica, Mar  \n",
       "9                   a Cecilia  \n",
       "10           Perovich, Daniel  \n",
       "11            Rossel, Pedro O  \n",
       "12            Bastarrica, Mar  \n",
       "13                  a Cecilia  \n",
       "14             Hilliard, Rich  \n",
       "15           Malavolta, Ivano  \n",
       "16             Muccini, Henry  \n",
       "17      Pelliccione, Patrizio  \n",
       "18             Hilliard, Rich  \n",
       "19           Malavolta, Ivano  "
      ]
     },
     "execution_count": 30,
     "metadata": {},
     "output_type": "execute_result"
    }
   ],
   "source": [
    "paperDF[['paperID', 'title']].merge(authorPaper, on = 'paperID').head(20)"
   ]
  },
  {
   "cell_type": "code",
   "execution_count": null,
   "metadata": {
    "collapsed": true
   },
   "outputs": [],
   "source": [
    "from flask import *"
   ]
  },
  {
   "cell_type": "code",
   "execution_count": null,
   "metadata": {
    "collapsed": false
   },
   "outputs": [],
   "source": [
    "confDF.to_html()"
   ]
  },
  {
   "cell_type": "code",
   "execution_count": null,
   "metadata": {
    "collapsed": false
   },
   "outputs": [],
   "source": [
    "confDF.plot(kind = 'box')"
   ]
  },
  {
   "cell_type": "code",
   "execution_count": null,
   "metadata": {
    "collapsed": false
   },
   "outputs": [],
   "source": [
    "import numpy as np\n",
    "def createPAPERAUTHORdf(db = DEFAULTDB):\n",
    "    ''' Creating the PAPERAUTHOR COMPOSITE Table with \n",
    "    \n",
    "             : param data_frame : Pandas DataFrame from which to create the PAPER TABLE \n",
    "                 : - parsed paper table!\n",
    "             : param db : str. Name of db. (ie. 'Abstracts.db')\n",
    "                 : default 'test.db'\n",
    "             : param DFCol : tuple of strings Column names of data_frame with groupby cols.\n",
    "                 : default = [paperID','terms']\n",
    "                 : alternatively : enter with already unique table.\n",
    "             : param table : str. Name of Table to create or insert.\n",
    "                 : default : 'PAPERAUTHOR'\n",
    "             : param tableCols : tuple of str. Table keywords as tuple of strings\n",
    "                 : default  : ('paperID', 'authorName')\n",
    "             : param foreignKey : tuple of str. Foreign key names:\n",
    "                 : default : 'PAPER', 'AUTHORS'\n",
    "         \n",
    "             : output : Pandas DataFrame as output for inspection\n",
    "             : output : sql table created with rows inserted.\n",
    "         '''\n",
    "    def rech(names):\n",
    "        names2 = []\n",
    "        for a in names.split(\"'\"):\n",
    "            if a.strip() == \",\" :\n",
    "                pass\n",
    "            elif a.strip() == '':\n",
    "                pass\n",
    "            else:\n",
    "                names2.append(a)\n",
    "        return names2\n",
    "    \n",
    "    def createdf(df):\n",
    "        entries = []\n",
    "        \n",
    "        for each in df.index:\n",
    "            paperID = df.iloc[each].paperID\n",
    "            authors = df.iloc[each].NEWAUTHORS\n",
    "            index = np.array([paperID]*len(authors))\n",
    "            listau = zip(index, authors)\n",
    "    \n",
    "            entries.extend(listau)\n",
    "    \n",
    "        newdf = pd.DataFrame(entries)\n",
    "        newdf.rename(columns = {0:'paperID', 1:'authorName'}, inplace = True)\n",
    "        newdf.authorName = newdf.authorName.apply(lambda au: au.replace(\",\",' '))\n",
    "    \n",
    "        return newdf\n",
    "    \n",
    "    with sqlite3.connect(db) as con:\n",
    "        sqlcmd = \"SELECT * FROM AUTHORS\"\n",
    "        \n",
    "        audf = pd.read_sql_query(sqlcmd, con)\n",
    "        \n",
    "        sqlcmd2 = \"SELECT paperID, authors FROM PAPER\"\n",
    "        papdf = pd.read_sql_query(sqlcmd2, con)\n",
    "        \n",
    "        \n",
    "        \n",
    "        papdf['NEWAUTHORS'] = papdf[\"authors\"].apply(lambda a: a.strip(\"[]'\"))\n",
    "        papdf['NEWAUTHORS'] = papdf[\"NEWAUTHORS\"].apply(lambda a: rech(a))\n",
    "        \n",
    "        data_frame = createdf(papdf)\n",
    "        \n",
    "        return data_frame\n",
    "    \n",
    "def createPAPERAUTHORTable( db = DEFAULTDB, table = \"PAPERAUTHOR\"):\n",
    "    with sqlite3.connect(db) as con:\n",
    "        #create dataframe\n",
    "        df = createPAPERAUTHORdf()\n",
    "        \n",
    "        print df.head()\n",
    "        cur = con.cursor() \n",
    "        #drops the PaperAffilation table if it exist in db already\n",
    "        cur.execute(\"DROP TABLE IF EXISTS \" + table)\n",
    "        #and recreates it\n",
    "        cur.execute(\"CREATE TABLE \" + table + \"(\\\n",
    "            paperID INT, \\\n",
    "            authorName TEXT)\"\n",
    "                       );\n",
    "        \n",
    "        #insert into the table\n",
    "        df.to_sql(table, con, flavor='sqlite', \n",
    "                        schema=None, if_exists='append', \n",
    "                        index=False, index_label=None,\n",
    "                        chunksize=None, dtype=None)\n",
    "        print(\"Records created successfully\");\n",
    "        \n",
    "        sql = \"SELECT * FROM \" + table\n",
    "        testerDF = pd.read_sql_query(sql, con)\n",
    "        \n",
    "        return testerDF"
   ]
  },
  {
   "cell_type": "code",
   "execution_count": null,
   "metadata": {
    "collapsed": false
   },
   "outputs": [],
   "source": [
    "dd = createPAPERAUTHORTable()\n",
    "dd.head()"
   ]
  },
  {
   "cell_type": "markdown",
   "metadata": {},
   "source": [
    "# PAPERAUTHOR TAKE 2?"
   ]
  },
  {
   "cell_type": "code",
   "execution_count": null,
   "metadata": {
    "collapsed": true
   },
   "outputs": [],
   "source": []
  },
  {
   "cell_type": "code",
   "execution_count": 74,
   "metadata": {
    "collapsed": false
   },
   "outputs": [
    {
     "name": "stdout",
     "output_type": "stream",
     "text": [
      "   paperID                  authorName\n",
      "0        1   Lopez Herrejon  Roberto E\n",
      "1        1            Egyed  Alexander\n",
      "2        2            Perovich  Daniel\n",
      "3        2             Rossel  Pedro O\n",
      "4        2   Bastarrica  Mar a Cecilia\n",
      "Records created successfully\n"
     ]
    }
   ],
   "source": [
    "testerDF = authorPaper = cmd.createPAPERAUTHORTable2()\n"
   ]
  },
  {
   "cell_type": "code",
   "execution_count": 76,
   "metadata": {
    "collapsed": false
   },
   "outputs": [
    {
     "data": {
      "text/html": [
       "<div>\n",
       "<table border=\"1\" class=\"dataframe\">\n",
       "  <thead>\n",
       "    <tr style=\"text-align: right;\">\n",
       "      <th></th>\n",
       "      <th>paperID</th>\n",
       "      <th>authorName</th>\n",
       "    </tr>\n",
       "  </thead>\n",
       "  <tbody>\n",
       "    <tr>\n",
       "      <th>0</th>\n",
       "      <td>1</td>\n",
       "      <td>Lopez Herrejon  Roberto E</td>\n",
       "    </tr>\n",
       "    <tr>\n",
       "      <th>1</th>\n",
       "      <td>1</td>\n",
       "      <td>Egyed  Alexander</td>\n",
       "    </tr>\n",
       "    <tr>\n",
       "      <th>2</th>\n",
       "      <td>2</td>\n",
       "      <td>Perovich  Daniel</td>\n",
       "    </tr>\n",
       "    <tr>\n",
       "      <th>3</th>\n",
       "      <td>2</td>\n",
       "      <td>Rossel  Pedro O</td>\n",
       "    </tr>\n",
       "    <tr>\n",
       "      <th>4</th>\n",
       "      <td>2</td>\n",
       "      <td>Bastarrica  Mar a Cecilia</td>\n",
       "    </tr>\n",
       "  </tbody>\n",
       "</table>\n",
       "</div>"
      ],
      "text/plain": [
       "   paperID                  authorName\n",
       "0        1   Lopez Herrejon  Roberto E\n",
       "1        1            Egyed  Alexander\n",
       "2        2            Perovich  Daniel\n",
       "3        2             Rossel  Pedro O\n",
       "4        2   Bastarrica  Mar a Cecilia"
      ]
     },
     "execution_count": 76,
     "metadata": {},
     "output_type": "execute_result"
    }
   ],
   "source": [
    "testerDF.head()"
   ]
  },
  {
   "cell_type": "markdown",
   "metadata": {},
   "source": [
    "Queries:\n",
    "As for the given queries: \n",
    "papers with key word grouped by year.   \n",
    "- PaperID ---> KeywordFK, PaperID --> PublicationID:year\n",
    "\n",
    "author's most buzzy words : \n",
    "- authorID ---> paperID -->KeyWordId (count) (sort).max\n",
    "\n",
    "paper's affiliation grouped by conference and year  ??\n",
    "- paper ID:affiliation ---> publicationID:year -->ConferenceID:type\n",
    "\n",
    "conference/year and the keywords in order of frequency (ie word cloud visualization maybe?)  <<_--this might break it?\n",
    "- confID -->publicationID --> PaperIDs-->KeywordIDs (count) (sort descending)\n",
    "\n",
    "Affiliation's authors\n",
    "- authorsID--: papersIds: affiliation  (i need to check if an author can have multiple affiliations, I can't see why not if they change universities or companies after 10 years)\n",
    "\n",
    "\n",
    "Most frequent affiliations per conference\n",
    "paperIDs: affiliation --> publicationIDs --> ConferenceID"
   ]
  },
  {
   "cell_type": "code",
   "execution_count": null,
   "metadata": {
    "collapsed": false
   },
   "outputs": [],
   "source": [
    "q1 = pk.merge(paperDF[['paperID', 'pubYear']], on = 'paperID')\n"
   ]
  },
  {
   "cell_type": "code",
   "execution_count": null,
   "metadata": {
    "collapsed": false
   },
   "outputs": [],
   "source": [
    "len(q1['keyword'].unique())"
   ]
  },
  {
   "cell_type": "code",
   "execution_count": null,
   "metadata": {
    "collapsed": false
   },
   "outputs": [],
   "source": [
    "len(authorPaper)"
   ]
  },
  {
   "cell_type": "code",
   "execution_count": null,
   "metadata": {
    "collapsed": false
   },
   "outputs": [],
   "source": [
    "authorAffiliation = authorPaper.merge(paperDF[['paperID', 'affiliation', 'pubYear']])"
   ]
  },
  {
   "cell_type": "code",
   "execution_count": null,
   "metadata": {
    "collapsed": false
   },
   "outputs": [],
   "source": [
    "authorAffiliation.query('\"Muccini, Henry\" in authorName').sort('pubYear')"
   ]
  },
  {
   "cell_type": "code",
   "execution_count": null,
   "metadata": {
    "collapsed": false
   },
   "outputs": [],
   "source": [
    "#paper's affiliation grouped by conference and year ??\n",
    "papafiil = paperAffiliationDF.merge(paperDF[['paperID', 'pubYear', 'confName']], on = 'paperID')"
   ]
  },
  {
   "cell_type": "code",
   "execution_count": null,
   "metadata": {
    "collapsed": false
   },
   "outputs": [],
   "source": [
    "groupPA = papafiil.groupby(['pubYear', 'confName'])"
   ]
  },
  {
   "cell_type": "code",
   "execution_count": null,
   "metadata": {
    "collapsed": false
   },
   "outputs": [],
   "source": [
    "groupPA.aggregate('count')"
   ]
  },
  {
   "cell_type": "code",
   "execution_count": null,
   "metadata": {
    "collapsed": true
   },
   "outputs": [],
   "source": [
    "conf"
   ]
  }
 ],
 "metadata": {
  "kernelspec": {
   "display_name": "Python 2",
   "language": "python",
   "name": "python2"
  },
  "language_info": {
   "codemirror_mode": {
    "name": "ipython",
    "version": 2
   },
   "file_extension": ".py",
   "mimetype": "text/x-python",
   "name": "python",
   "nbconvert_exporter": "python",
   "pygments_lexer": "ipython2",
   "version": "2.7.11"
  }
 },
 "nbformat": 4,
 "nbformat_minor": 0
}
