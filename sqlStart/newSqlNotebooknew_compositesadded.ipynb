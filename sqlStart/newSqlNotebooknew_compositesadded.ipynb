{
 "cells": [
  {
   "cell_type": "markdown",
   "metadata": {},
   "source": [
    "# Now just using DF directly\n",
    "## no longer need to parse separately into lists etc.  all done internally\n",
    "## TO Do the dump load and initialize the DB, need to make sure correct order pf tables is loaded first those with no dependencies and then increasingly so.\n",
    "## now only erroring on original 3 .txt noted by Ian Gorton in original commnication\n",
    "- - 1. Conf\n",
    "- - 2. Pub , Keys, Authors, Affiliations (use sets to create unique ones but may change to all .unique)\n",
    "- - 3. Composites (Many to Many)\n",
    "- - 4. Paper/abstracts\n",
    "\n"
   ]
  },
  {
   "cell_type": "code",
   "execution_count": 4,
   "metadata": {
    "collapsed": true
   },
   "outputs": [],
   "source": [
    "import sqlite3\n",
    "import pandas as pd"
   ]
  },
  {
   "cell_type": "code",
   "execution_count": 5,
   "metadata": {
    "collapsed": false
   },
   "outputs": [
    {
     "name": "stdout",
     "output_type": "stream",
     "text": [
      "(1548, 7)\n"
     ]
    }
   ],
   "source": [
    "import sqlcommands as cmd\n",
    "cmd = reload(cmd)"
   ]
  },
  {
   "cell_type": "code",
   "execution_count": 6,
   "metadata": {
    "collapsed": false
   },
   "outputs": [
    {
     "name": "stderr",
     "output_type": "stream",
     "text": [
      "/Users/aileennovero1/anaconda/lib/python2.7/site-packages/pandas/core/generic.py:1160: UserWarning: The spaces in these column names will not be changed. In pandas versions < 0.14, spaces were converted to underscores.\n",
      "  chunksize=chunksize, dtype=dtype)\n"
     ]
    },
    {
     "data": {
      "text/html": [
       "<div>\n",
       "<table border=\"1\" class=\"dataframe\">\n",
       "  <thead>\n",
       "    <tr style=\"text-align: right;\">\n",
       "      <th></th>\n",
       "      <th>Abstract</th>\n",
       "      <th>Author affiliation</th>\n",
       "      <th>Authors</th>\n",
       "      <th>Conf</th>\n",
       "      <th>Title</th>\n",
       "      <th>terms</th>\n",
       "      <th>year</th>\n",
       "    </tr>\n",
       "  </thead>\n",
       "  <tbody>\n",
       "    <tr>\n",
       "      <th>50</th>\n",
       "      <td>The past 20 years has seen significant investm...</td>\n",
       "      <td>IBM Software Group, Raleigh, NC, United States...</td>\n",
       "      <td>['Brown, Alan W', '', '', ' McDermid, John A',...</td>\n",
       "      <td>ECSA</td>\n",
       "      <td>The art and science of software architecture</td>\n",
       "      <td>['Failure analysis', 'Systems engineering', 'O...</td>\n",
       "      <td>2007</td>\n",
       "    </tr>\n",
       "    <tr>\n",
       "      <th>51</th>\n",
       "      <td>Nowadays, Wireless Sensor Networks  WSN  are a...</td>\n",
       "      <td>Divisi n de Sistemas e Ingenier a Electr nica ...</td>\n",
       "      <td>['Losilla, Fernando', '', '', 'Vicente Chicote...</td>\n",
       "      <td>ECSA</td>\n",
       "      <td>Wireless sensor network application developmen...</td>\n",
       "      <td>['Mathematical models', 'Software architecture...</td>\n",
       "      <td>2007</td>\n",
       "    </tr>\n",
       "    <tr>\n",
       "      <th>52</th>\n",
       "      <td>Automated services help enterprises create new...</td>\n",
       "      <td>INFOLAB, Tilburg University, Dept  of Informat...</td>\n",
       "      <td>['Papazoglou, Michael P', '', '']</td>\n",
       "      <td>ECSA</td>\n",
       "      <td>What s in a service</td>\n",
       "      <td>['Condition monitoring', 'Electronic commerce'...</td>\n",
       "      <td>2007</td>\n",
       "    </tr>\n",
       "    <tr>\n",
       "      <th>53</th>\n",
       "      <td>The term co evolution describes the symbiotic ...</td>\n",
       "      <td>University of St Andrews, St Andrews, KY16 9SX...</td>\n",
       "      <td>['Morrison, Ron', '', '', 'Balasubramaniam, Dh...</td>\n",
       "      <td>ECSA</td>\n",
       "      <td>An active architecture approach to dynamic sys...</td>\n",
       "      <td>['Dynamical systems', 'Grid computing', 'Senso...</td>\n",
       "      <td>2007</td>\n",
       "    </tr>\n",
       "    <tr>\n",
       "      <th>54</th>\n",
       "      <td>Software architecture views represent the basi...</td>\n",
       "      <td>Department of Information Systems and Computat...</td>\n",
       "      <td>['Cordero, Rogelio Limon', '', '', 'Salavert, ...</td>\n",
       "      <td>ECSA</td>\n",
       "      <td>Analyzing styles of the modular software archi...</td>\n",
       "      <td>['Computer aided design', 'Requirements engine...</td>\n",
       "      <td>2007</td>\n",
       "    </tr>\n",
       "    <tr>\n",
       "      <th>55</th>\n",
       "      <td>Currently, most software systems have a dynami...</td>\n",
       "      <td>Department of Information Systems and Computat...</td>\n",
       "      <td>['Costa, Crist bal', '', '', 'Ali, Nour', '', ...</td>\n",
       "      <td>ECSA</td>\n",
       "      <td>Dynamic reconfiguration of software architectu...</td>\n",
       "      <td>['Computer aided design', 'Object oriented pro...</td>\n",
       "      <td>2007</td>\n",
       "    </tr>\n",
       "    <tr>\n",
       "      <th>56</th>\n",
       "      <td>We propose a pattern based software developmen...</td>\n",
       "      <td>Department of Computational and Cognitive Scie...</td>\n",
       "      <td>['C t , Isabelle', '', '', 'Heisel, Marina', '...</td>\n",
       "      <td>ECSA</td>\n",
       "      <td>Pattern based evolution of software architectures</td>\n",
       "      <td>['Pattern recognition', 'Requirements engineer...</td>\n",
       "      <td>2007</td>\n",
       "    </tr>\n",
       "    <tr>\n",
       "      <th>57</th>\n",
       "      <td>Most of the research in the area of multimodal...</td>\n",
       "      <td>Department of Computer Science, Technische Uni...</td>\n",
       "      <td>['Pereira, Alessandro Costa', ' ,', '', ' Hart...</td>\n",
       "      <td>ECSA</td>\n",
       "      <td>A distributed staged architecture for multimod...</td>\n",
       "      <td>['Computer programming languages', 'Distribute...</td>\n",
       "      <td>2007</td>\n",
       "    </tr>\n",
       "    <tr>\n",
       "      <th>58</th>\n",
       "      <td>The vast diversity of implementation and suppo...</td>\n",
       "      <td>Computer Languages and Systems II Department, ...</td>\n",
       "      <td>['L pez Sanz, Marcos', '', '', 'Acu a, C sar J...</td>\n",
       "      <td>ECSA</td>\n",
       "      <td>UML profile for the platform independent model...</td>\n",
       "      <td>['Computer simulation', 'Computer software por...</td>\n",
       "      <td>2007</td>\n",
       "    </tr>\n",
       "    <tr>\n",
       "      <th>59</th>\n",
       "      <td>No abstract available</td>\n",
       "      <td>None</td>\n",
       "      <td>['Dauvin, Jean Claude', ' Romana, Louis Alexan...</td>\n",
       "      <td>ECSA</td>\n",
       "      <td>Hydrobiologia  Preface</td>\n",
       "      <td>[nan]</td>\n",
       "      <td>2007</td>\n",
       "    </tr>\n",
       "  </tbody>\n",
       "</table>\n",
       "</div>"
      ],
      "text/plain": [
       "                                             Abstract  \\\n",
       "50  The past 20 years has seen significant investm...   \n",
       "51  Nowadays, Wireless Sensor Networks  WSN  are a...   \n",
       "52  Automated services help enterprises create new...   \n",
       "53  The term co evolution describes the symbiotic ...   \n",
       "54  Software architecture views represent the basi...   \n",
       "55  Currently, most software systems have a dynami...   \n",
       "56  We propose a pattern based software developmen...   \n",
       "57  Most of the research in the area of multimodal...   \n",
       "58  The vast diversity of implementation and suppo...   \n",
       "59                              No abstract available   \n",
       "\n",
       "                                   Author affiliation  \\\n",
       "50  IBM Software Group, Raleigh, NC, United States...   \n",
       "51  Divisi n de Sistemas e Ingenier a Electr nica ...   \n",
       "52  INFOLAB, Tilburg University, Dept  of Informat...   \n",
       "53  University of St Andrews, St Andrews, KY16 9SX...   \n",
       "54  Department of Information Systems and Computat...   \n",
       "55  Department of Information Systems and Computat...   \n",
       "56  Department of Computational and Cognitive Scie...   \n",
       "57  Department of Computer Science, Technische Uni...   \n",
       "58  Computer Languages and Systems II Department, ...   \n",
       "59                                               None   \n",
       "\n",
       "                                              Authors  Conf  \\\n",
       "50  ['Brown, Alan W', '', '', ' McDermid, John A',...  ECSA   \n",
       "51  ['Losilla, Fernando', '', '', 'Vicente Chicote...  ECSA   \n",
       "52                  ['Papazoglou, Michael P', '', '']  ECSA   \n",
       "53  ['Morrison, Ron', '', '', 'Balasubramaniam, Dh...  ECSA   \n",
       "54  ['Cordero, Rogelio Limon', '', '', 'Salavert, ...  ECSA   \n",
       "55  ['Costa, Crist bal', '', '', 'Ali, Nour', '', ...  ECSA   \n",
       "56  ['C t , Isabelle', '', '', 'Heisel, Marina', '...  ECSA   \n",
       "57  ['Pereira, Alessandro Costa', ' ,', '', ' Hart...  ECSA   \n",
       "58  ['L pez Sanz, Marcos', '', '', 'Acu a, C sar J...  ECSA   \n",
       "59  ['Dauvin, Jean Claude', ' Romana, Louis Alexan...  ECSA   \n",
       "\n",
       "                                                Title  \\\n",
       "50       The art and science of software architecture   \n",
       "51  Wireless sensor network application developmen...   \n",
       "52                                What s in a service   \n",
       "53  An active architecture approach to dynamic sys...   \n",
       "54  Analyzing styles of the modular software archi...   \n",
       "55  Dynamic reconfiguration of software architectu...   \n",
       "56  Pattern based evolution of software architectures   \n",
       "57  A distributed staged architecture for multimod...   \n",
       "58  UML profile for the platform independent model...   \n",
       "59                             Hydrobiologia  Preface   \n",
       "\n",
       "                                                terms  year  \n",
       "50  ['Failure analysis', 'Systems engineering', 'O...  2007  \n",
       "51  ['Mathematical models', 'Software architecture...  2007  \n",
       "52  ['Condition monitoring', 'Electronic commerce'...  2007  \n",
       "53  ['Dynamical systems', 'Grid computing', 'Senso...  2007  \n",
       "54  ['Computer aided design', 'Requirements engine...  2007  \n",
       "55  ['Computer aided design', 'Object oriented pro...  2007  \n",
       "56  ['Pattern recognition', 'Requirements engineer...  2007  \n",
       "57  ['Computer programming languages', 'Distribute...  2007  \n",
       "58  ['Computer simulation', 'Computer software por...  2007  \n",
       "59                                              [nan]  2007  "
      ]
     },
     "execution_count": 6,
     "metadata": {},
     "output_type": "execute_result"
    }
   ],
   "source": [
    "df = cmd.createTOTALTable()\n",
    "df.iloc[50:60]"
   ]
  },
  {
   "cell_type": "code",
   "execution_count": 7,
   "metadata": {
    "collapsed": false
   },
   "outputs": [],
   "source": [
    "#don't need \n",
    "#df1 = cmd.getPatentDataFrame(hdffile='../DataBaseParsing/DFstore4.h5') "
   ]
  },
  {
   "cell_type": "code",
   "execution_count": 8,
   "metadata": {
    "collapsed": false
   },
   "outputs": [
    {
     "data": {
      "text/plain": [
       "u'DISP, Univ  of Rome, Rome, Italy'"
      ]
     },
     "execution_count": 8,
     "metadata": {},
     "output_type": "execute_result"
    }
   ],
   "source": [
    "df.iloc[0]['Author affiliation']"
   ]
  },
  {
   "cell_type": "markdown",
   "metadata": {},
   "source": [
    "# Create the Conf Table"
   ]
  },
  {
   "cell_type": "code",
   "execution_count": 9,
   "metadata": {
    "collapsed": false
   },
   "outputs": [
    {
     "name": "stdout",
     "output_type": "stream",
     "text": [
      "Opened Abstracts_DB.db database successfully\n",
      "Created DataFrame\n",
      "Records created successfully\n"
     ]
    }
   ],
   "source": [
    "confDF = cmd.createConfTable(df)"
   ]
  },
  {
   "cell_type": "code",
   "execution_count": 10,
   "metadata": {
    "collapsed": false
   },
   "outputs": [
    {
     "data": {
      "text/html": [
       "<div>\n",
       "<table border=\"1\" class=\"dataframe\">\n",
       "  <thead>\n",
       "    <tr style=\"text-align: right;\">\n",
       "      <th></th>\n",
       "      <th>confID</th>\n",
       "      <th>confName</th>\n",
       "    </tr>\n",
       "  </thead>\n",
       "  <tbody>\n",
       "    <tr>\n",
       "      <th>0</th>\n",
       "      <td>1</td>\n",
       "      <td>ECSA</td>\n",
       "    </tr>\n",
       "    <tr>\n",
       "      <th>1</th>\n",
       "      <td>2</td>\n",
       "      <td>QoSA</td>\n",
       "    </tr>\n",
       "    <tr>\n",
       "      <th>2</th>\n",
       "      <td>3</td>\n",
       "      <td>WICSA</td>\n",
       "    </tr>\n",
       "  </tbody>\n",
       "</table>\n",
       "</div>"
      ],
      "text/plain": [
       "   confID confName\n",
       "0       1     ECSA\n",
       "1       2     QoSA\n",
       "2       3    WICSA"
      ]
     },
     "execution_count": 10,
     "metadata": {},
     "output_type": "execute_result"
    }
   ],
   "source": [
    "confDF.head()"
   ]
  },
  {
   "cell_type": "markdown",
   "metadata": {},
   "source": [
    "# Create publications Table\n",
    "## Now can parse all the orginal .txt with exception of the same 3  Ian gorton noted were errant"
   ]
  },
  {
   "cell_type": "code",
   "execution_count": 11,
   "metadata": {
    "collapsed": false
   },
   "outputs": [
    {
     "name": "stdout",
     "output_type": "stream",
     "text": [
      "Opened Abstracts_DB.db database successfully\n",
      "table dropped\n",
      "Created PUBLICATIONS table\n",
      "Created DataFrame\n",
      "Records created successfully\n"
     ]
    }
   ],
   "source": [
    "pubDF = cmd.createPublicationsTable(df)"
   ]
  },
  {
   "cell_type": "code",
   "execution_count": 12,
   "metadata": {
    "collapsed": false
   },
   "outputs": [
    {
     "data": {
      "text/html": [
       "<div>\n",
       "<table border=\"1\" class=\"dataframe\">\n",
       "  <thead>\n",
       "    <tr style=\"text-align: right;\">\n",
       "      <th></th>\n",
       "      <th>pubID</th>\n",
       "      <th>year</th>\n",
       "      <th>confName</th>\n",
       "    </tr>\n",
       "  </thead>\n",
       "  <tbody>\n",
       "    <tr>\n",
       "      <th>0</th>\n",
       "      <td>1</td>\n",
       "      <td>2007</td>\n",
       "      <td>ECSA</td>\n",
       "    </tr>\n",
       "    <tr>\n",
       "      <th>1</th>\n",
       "      <td>2</td>\n",
       "      <td>2008</td>\n",
       "      <td>ECSA</td>\n",
       "    </tr>\n",
       "    <tr>\n",
       "      <th>2</th>\n",
       "      <td>3</td>\n",
       "      <td>2009</td>\n",
       "      <td>ECSA</td>\n",
       "    </tr>\n",
       "    <tr>\n",
       "      <th>3</th>\n",
       "      <td>4</td>\n",
       "      <td>2010</td>\n",
       "      <td>ECSA</td>\n",
       "    </tr>\n",
       "    <tr>\n",
       "      <th>4</th>\n",
       "      <td>5</td>\n",
       "      <td>2011</td>\n",
       "      <td>ECSA</td>\n",
       "    </tr>\n",
       "  </tbody>\n",
       "</table>\n",
       "</div>"
      ],
      "text/plain": [
       "   pubID  year confName\n",
       "0      1  2007     ECSA\n",
       "1      2  2008     ECSA\n",
       "2      3  2009     ECSA\n",
       "3      4  2010     ECSA\n",
       "4      5  2011     ECSA"
      ]
     },
     "execution_count": 12,
     "metadata": {},
     "output_type": "execute_result"
    }
   ],
   "source": [
    "pubDF.head()\n",
    "#pubDF.to_csv('Tables_v1/publications.csv', sheet_name = 'publications')"
   ]
  },
  {
   "cell_type": "markdown",
   "metadata": {},
   "source": [
    "# Create Keys Table"
   ]
  },
  {
   "cell_type": "markdown",
   "metadata": {},
   "source": [
    "## There are errors here and I have spent way to ong trying to figure if out.  \n",
    "## Somewhere the abstracts are being split into the terms."
   ]
  },
  {
   "cell_type": "code",
   "execution_count": 13,
   "metadata": {
    "collapsed": false
   },
   "outputs": [
    {
     "name": "stdout",
     "output_type": "stream",
     "text": [
      "Opened Abstracts_DB.db database successfully\n",
      "              keyword\n",
      "0     Loose couplings\n",
      "1   aspectual concept\n",
      "2       Discrete time\n",
      "3  Polyacrylonitriles\n",
      "4     Tacit knowledge\n",
      "Created DataFrame\n",
      "Records created successfully\n"
     ]
    }
   ],
   "source": [
    "keys = cmd.createKEYSTable(df)"
   ]
  },
  {
   "cell_type": "code",
   "execution_count": 14,
   "metadata": {
    "collapsed": false
   },
   "outputs": [
    {
     "name": "stdout",
     "output_type": "stream",
     "text": [
      "8399\n",
      "8399\n"
     ]
    },
    {
     "data": {
      "text/html": [
       "<div>\n",
       "<table border=\"1\" class=\"dataframe\">\n",
       "  <thead>\n",
       "    <tr style=\"text-align: right;\">\n",
       "      <th></th>\n",
       "      <th>keyID</th>\n",
       "      <th>keyword</th>\n",
       "    </tr>\n",
       "  </thead>\n",
       "  <tbody>\n",
       "    <tr>\n",
       "      <th>0</th>\n",
       "      <td>1</td>\n",
       "      <td>Loose couplings</td>\n",
       "    </tr>\n",
       "    <tr>\n",
       "      <th>1</th>\n",
       "      <td>2</td>\n",
       "      <td>aspectual concept</td>\n",
       "    </tr>\n",
       "    <tr>\n",
       "      <th>2</th>\n",
       "      <td>3</td>\n",
       "      <td>Discrete time</td>\n",
       "    </tr>\n",
       "    <tr>\n",
       "      <th>3</th>\n",
       "      <td>4</td>\n",
       "      <td>Polyacrylonitriles</td>\n",
       "    </tr>\n",
       "    <tr>\n",
       "      <th>4</th>\n",
       "      <td>5</td>\n",
       "      <td>Tacit knowledge</td>\n",
       "    </tr>\n",
       "    <tr>\n",
       "      <th>5</th>\n",
       "      <td>6</td>\n",
       "      <td>microphytobenthos)</td>\n",
       "    </tr>\n",
       "    <tr>\n",
       "      <th>6</th>\n",
       "      <td>7</td>\n",
       "      <td>centered around the Spectrum Access System (SA...</td>\n",
       "    </tr>\n",
       "    <tr>\n",
       "      <th>7</th>\n",
       "      <td>8</td>\n",
       "      <td>Radiation Measuring Instruments</td>\n",
       "    </tr>\n",
       "    <tr>\n",
       "      <th>8</th>\n",
       "      <td>9</td>\n",
       "      <td>advanced communication technology</td>\n",
       "    </tr>\n",
       "    <tr>\n",
       "      <th>9</th>\n",
       "      <td>10</td>\n",
       "      <td>Automotive companies</td>\n",
       "    </tr>\n",
       "    <tr>\n",
       "      <th>10</th>\n",
       "      <td>11</td>\n",
       "      <td>Information recovery</td>\n",
       "    </tr>\n",
       "    <tr>\n",
       "      <th>11</th>\n",
       "      <td>12</td>\n",
       "      <td>Anecdotal evidences</td>\n",
       "    </tr>\n",
       "    <tr>\n",
       "      <th>12</th>\n",
       "      <td>13</td>\n",
       "      <td>software performance</td>\n",
       "    </tr>\n",
       "    <tr>\n",
       "      <th>13</th>\n",
       "      <td>14</td>\n",
       "      <td>system design</td>\n",
       "    </tr>\n",
       "    <tr>\n",
       "      <th>14</th>\n",
       "      <td>15</td>\n",
       "      <td>Auger spectroscopy</td>\n",
       "    </tr>\n",
       "    <tr>\n",
       "      <th>15</th>\n",
       "      <td>16</td>\n",
       "      <td>Manual coding</td>\n",
       "    </tr>\n",
       "    <tr>\n",
       "      <th>16</th>\n",
       "      <td>17</td>\n",
       "      <td>Electrochemically active surface area</td>\n",
       "    </tr>\n",
       "    <tr>\n",
       "      <th>17</th>\n",
       "      <td>18</td>\n",
       "      <td>Engine control systems</td>\n",
       "    </tr>\n",
       "    <tr>\n",
       "      <th>18</th>\n",
       "      <td>19</td>\n",
       "      <td>Automotive industry</td>\n",
       "    </tr>\n",
       "    <tr>\n",
       "      <th>19</th>\n",
       "      <td>20</td>\n",
       "      <td>Parameterized model</td>\n",
       "    </tr>\n",
       "  </tbody>\n",
       "</table>\n",
       "</div>"
      ],
      "text/plain": [
       "    keyID                                            keyword\n",
       "0       1                                    Loose couplings\n",
       "1       2                                  aspectual concept\n",
       "2       3                                      Discrete time\n",
       "3       4                                 Polyacrylonitriles\n",
       "4       5                                    Tacit knowledge\n",
       "5       6                                 microphytobenthos)\n",
       "6       7  centered around the Spectrum Access System (SA...\n",
       "7       8                    Radiation Measuring Instruments\n",
       "8       9                  advanced communication technology\n",
       "9      10                               Automotive companies\n",
       "10     11                               Information recovery\n",
       "11     12                                Anecdotal evidences\n",
       "12     13                               software performance\n",
       "13     14                                      system design\n",
       "14     15                                 Auger spectroscopy\n",
       "15     16                                      Manual coding\n",
       "16     17              Electrochemically active surface area\n",
       "17     18                             Engine control systems\n",
       "18     19                                Automotive industry\n",
       "19     20                                Parameterized model"
      ]
     },
     "execution_count": 14,
     "metadata": {},
     "output_type": "execute_result"
    }
   ],
   "source": [
    "print len(keys)\n",
    "print len(keys.keyword.unique())\n",
    "keys.iloc[50:75]\n",
    "keys.head(20)"
   ]
  },
  {
   "cell_type": "markdown",
   "metadata": {},
   "source": [
    "# Authors\n",
    "## I don't know how to parse them better!  Each text file seems to look at them differently and no idea what to do"
   ]
  },
  {
   "cell_type": "code",
   "execution_count": 15,
   "metadata": {
    "collapsed": false
   },
   "outputs": [
    {
     "name": "stdout",
     "output_type": "stream",
     "text": [
      "Opened Abstracts_DB.db database successfully\n",
      "Author set created\n",
      "Records created successfully\n"
     ]
    }
   ],
   "source": [
    "authorsDF = cmd.createAUTHORSTable(df)"
   ]
  },
  {
   "cell_type": "code",
   "execution_count": 16,
   "metadata": {
    "collapsed": false
   },
   "outputs": [
    {
     "name": "stdout",
     "output_type": "stream",
     "text": [
      "2911\n"
     ]
    },
    {
     "data": {
      "text/html": [
       "<div>\n",
       "<table border=\"1\" class=\"dataframe\">\n",
       "  <thead>\n",
       "    <tr style=\"text-align: right;\">\n",
       "      <th></th>\n",
       "      <th>authorID</th>\n",
       "      <th>authorName</th>\n",
       "    </tr>\n",
       "  </thead>\n",
       "  <tbody>\n",
       "    <tr>\n",
       "      <th>0</th>\n",
       "      <td>1</td>\n",
       "      <td>Kolb  Ronny</td>\n",
       "    </tr>\n",
       "    <tr>\n",
       "      <th>1</th>\n",
       "      <td>2</td>\n",
       "      <td>Von Massow  Robert</td>\n",
       "    </tr>\n",
       "    <tr>\n",
       "      <th>2</th>\n",
       "      <td>3</td>\n",
       "      <td>Smiley  Karen</td>\n",
       "    </tr>\n",
       "    <tr>\n",
       "      <th>3</th>\n",
       "      <td>4</td>\n",
       "      <td>Prakash  Jai</td>\n",
       "    </tr>\n",
       "    <tr>\n",
       "      <th>4</th>\n",
       "      <td>5</td>\n",
       "      <td>Zhang  Hongye</td>\n",
       "    </tr>\n",
       "  </tbody>\n",
       "</table>\n",
       "</div>"
      ],
      "text/plain": [
       "   authorID          authorName\n",
       "0         1         Kolb  Ronny\n",
       "1         2  Von Massow  Robert\n",
       "2         3       Smiley  Karen\n",
       "3         4        Prakash  Jai\n",
       "4         5       Zhang  Hongye"
      ]
     },
     "execution_count": 16,
     "metadata": {},
     "output_type": "execute_result"
    }
   ],
   "source": [
    "print len(authorsDF.authorName.drop_duplicates())  #<<--- double check!  will keep one 'empty ' ' becuase of set)\n",
    "authorsDF.head()"
   ]
  },
  {
   "cell_type": "markdown",
   "metadata": {},
   "source": [
    "# Affiliation Table\n",
    "## simple no extra parsing do to differences between entries"
   ]
  },
  {
   "cell_type": "code",
   "execution_count": 17,
   "metadata": {
    "collapsed": false
   },
   "outputs": [
    {
     "name": "stdout",
     "output_type": "stream",
     "text": [
      "Opened Abstracts_DB.db database successfully\n",
      "Created DataFrame\n",
      "Records created successfully\n"
     ]
    }
   ],
   "source": [
    "affilDF= cmd.createAFFILIATIONTable(df)"
   ]
  },
  {
   "cell_type": "code",
   "execution_count": 18,
   "metadata": {
    "collapsed": false
   },
   "outputs": [
    {
     "data": {
      "text/html": [
       "<div>\n",
       "<table border=\"1\" class=\"dataframe\">\n",
       "  <thead>\n",
       "    <tr style=\"text-align: right;\">\n",
       "      <th></th>\n",
       "      <th>affilID</th>\n",
       "      <th>affiliation</th>\n",
       "    </tr>\n",
       "  </thead>\n",
       "  <tbody>\n",
       "    <tr>\n",
       "      <th>0</th>\n",
       "      <td>1</td>\n",
       "      <td>DISP, Univ  of Rome, Rome, Italy</td>\n",
       "    </tr>\n",
       "    <tr>\n",
       "      <th>1</th>\n",
       "      <td>2</td>\n",
       "      <td>LSTS   ENIT, Tunis, Tunisia</td>\n",
       "    </tr>\n",
       "    <tr>\n",
       "      <th>2</th>\n",
       "      <td>3</td>\n",
       "      <td>INRIA, Univ  des Sci  et Technol  de Lille, Vi...</td>\n",
       "    </tr>\n",
       "    <tr>\n",
       "      <th>3</th>\n",
       "      <td>4</td>\n",
       "      <td>Sch  of Comput  Sci , Univ  of Adelaide, Adela...</td>\n",
       "    </tr>\n",
       "    <tr>\n",
       "      <th>4</th>\n",
       "      <td>5</td>\n",
       "      <td>Software Group, IBM, Raleigh, NC, United States</td>\n",
       "    </tr>\n",
       "  </tbody>\n",
       "</table>\n",
       "</div>"
      ],
      "text/plain": [
       "   affilID                                        affiliation\n",
       "0        1                   DISP, Univ  of Rome, Rome, Italy\n",
       "1        2                        LSTS   ENIT, Tunis, Tunisia\n",
       "2        3  INRIA, Univ  des Sci  et Technol  de Lille, Vi...\n",
       "3        4  Sch  of Comput  Sci , Univ  of Adelaide, Adela...\n",
       "4        5    Software Group, IBM, Raleigh, NC, United States"
      ]
     },
     "execution_count": 18,
     "metadata": {},
     "output_type": "execute_result"
    }
   ],
   "source": [
    "affilDF.head()\n",
    "#affilDF.to_csv('Tables_v1/affiliations.csv', sheet_name = 'affilations')"
   ]
  },
  {
   "cell_type": "markdown",
   "metadata": {
    "collapsed": true
   },
   "source": [
    "# PAPER TABLE\n",
    "## should this actually be made by first doing a join or something with the pub table?"
   ]
  },
  {
   "cell_type": "code",
   "execution_count": 19,
   "metadata": {
    "collapsed": false
   },
   "outputs": [
    {
     "name": "stdout",
     "output_type": "stream",
     "text": [
      "Opened Abstracts_DB.db database successfully\n",
      "table dropped\n",
      "Created PAPER table\n",
      "Created DataFrame\n",
      "Records created successfully\n"
     ]
    }
   ],
   "source": [
    "paperDF= cmd.createPAPERTable(df)"
   ]
  },
  {
   "cell_type": "code",
   "execution_count": 20,
   "metadata": {
    "collapsed": false
   },
   "outputs": [
    {
     "data": {
      "text/plain": [
       "u\"['Software design', 'Structural properties', 'Feature models', 'Product-lines', 'Research challenges', 'Software product line architecture', 'Software product lines', 'Software systems', 'Structural Design', 'Computer Programming', 'Materials Science']\""
      ]
     },
     "execution_count": 20,
     "metadata": {},
     "output_type": "execute_result"
    }
   ],
   "source": [
    "paperDF.iloc[0].terms"
   ]
  },
  {
   "cell_type": "code",
   "execution_count": 21,
   "metadata": {
    "collapsed": false
   },
   "outputs": [
    {
     "data": {
      "text/html": [
       "<div>\n",
       "<table border=\"1\" class=\"dataframe\">\n",
       "  <thead>\n",
       "    <tr style=\"text-align: right;\">\n",
       "      <th></th>\n",
       "      <th>pubYear</th>\n",
       "      <th>confName</th>\n",
       "      <th>paperID</th>\n",
       "    </tr>\n",
       "  </thead>\n",
       "  <tbody>\n",
       "    <tr>\n",
       "      <th>20</th>\n",
       "      <td>2007</td>\n",
       "      <td>ECSA</td>\n",
       "      <td>21</td>\n",
       "    </tr>\n",
       "    <tr>\n",
       "      <th>68</th>\n",
       "      <td>2007</td>\n",
       "      <td>ECSA</td>\n",
       "      <td>69</td>\n",
       "    </tr>\n",
       "    <tr>\n",
       "      <th>76</th>\n",
       "      <td>2007</td>\n",
       "      <td>ECSA</td>\n",
       "      <td>77</td>\n",
       "    </tr>\n",
       "    <tr>\n",
       "      <th>78</th>\n",
       "      <td>2007</td>\n",
       "      <td>ECSA</td>\n",
       "      <td>79</td>\n",
       "    </tr>\n",
       "    <tr>\n",
       "      <th>84</th>\n",
       "      <td>2007</td>\n",
       "      <td>ECSA</td>\n",
       "      <td>85</td>\n",
       "    </tr>\n",
       "    <tr>\n",
       "      <th>86</th>\n",
       "      <td>2007</td>\n",
       "      <td>ECSA</td>\n",
       "      <td>87</td>\n",
       "    </tr>\n",
       "    <tr>\n",
       "      <th>120</th>\n",
       "      <td>2007</td>\n",
       "      <td>ECSA</td>\n",
       "      <td>121</td>\n",
       "    </tr>\n",
       "    <tr>\n",
       "      <th>130</th>\n",
       "      <td>2007</td>\n",
       "      <td>ECSA</td>\n",
       "      <td>131</td>\n",
       "    </tr>\n",
       "    <tr>\n",
       "      <th>132</th>\n",
       "      <td>2007</td>\n",
       "      <td>ECSA</td>\n",
       "      <td>133</td>\n",
       "    </tr>\n",
       "    <tr>\n",
       "      <th>143</th>\n",
       "      <td>2007</td>\n",
       "      <td>ECSA</td>\n",
       "      <td>144</td>\n",
       "    </tr>\n",
       "    <tr>\n",
       "      <th>145</th>\n",
       "      <td>2007</td>\n",
       "      <td>ECSA</td>\n",
       "      <td>146</td>\n",
       "    </tr>\n",
       "    <tr>\n",
       "      <th>195</th>\n",
       "      <td>2007</td>\n",
       "      <td>ECSA</td>\n",
       "      <td>196</td>\n",
       "    </tr>\n",
       "    <tr>\n",
       "      <th>200</th>\n",
       "      <td>2007</td>\n",
       "      <td>ECSA</td>\n",
       "      <td>201</td>\n",
       "    </tr>\n",
       "    <tr>\n",
       "      <th>276</th>\n",
       "      <td>2007</td>\n",
       "      <td>ECSA</td>\n",
       "      <td>277</td>\n",
       "    </tr>\n",
       "    <tr>\n",
       "      <th>278</th>\n",
       "      <td>2007</td>\n",
       "      <td>ECSA</td>\n",
       "      <td>279</td>\n",
       "    </tr>\n",
       "    <tr>\n",
       "      <th>335</th>\n",
       "      <td>2007</td>\n",
       "      <td>ECSA</td>\n",
       "      <td>336</td>\n",
       "    </tr>\n",
       "    <tr>\n",
       "      <th>350</th>\n",
       "      <td>2007</td>\n",
       "      <td>ECSA</td>\n",
       "      <td>351</td>\n",
       "    </tr>\n",
       "    <tr>\n",
       "      <th>360</th>\n",
       "      <td>2007</td>\n",
       "      <td>ECSA</td>\n",
       "      <td>361</td>\n",
       "    </tr>\n",
       "    <tr>\n",
       "      <th>362</th>\n",
       "      <td>2007</td>\n",
       "      <td>ECSA</td>\n",
       "      <td>363</td>\n",
       "    </tr>\n",
       "    <tr>\n",
       "      <th>376</th>\n",
       "      <td>2007</td>\n",
       "      <td>ECSA</td>\n",
       "      <td>377</td>\n",
       "    </tr>\n",
       "    <tr>\n",
       "      <th>394</th>\n",
       "      <td>2007</td>\n",
       "      <td>ECSA</td>\n",
       "      <td>395</td>\n",
       "    </tr>\n",
       "    <tr>\n",
       "      <th>396</th>\n",
       "      <td>2007</td>\n",
       "      <td>ECSA</td>\n",
       "      <td>397</td>\n",
       "    </tr>\n",
       "    <tr>\n",
       "      <th>403</th>\n",
       "      <td>2007</td>\n",
       "      <td>ECSA</td>\n",
       "      <td>404</td>\n",
       "    </tr>\n",
       "    <tr>\n",
       "      <th>507</th>\n",
       "      <td>2007</td>\n",
       "      <td>ECSA</td>\n",
       "      <td>508</td>\n",
       "    </tr>\n",
       "    <tr>\n",
       "      <th>509</th>\n",
       "      <td>2007</td>\n",
       "      <td>ECSA</td>\n",
       "      <td>510</td>\n",
       "    </tr>\n",
       "    <tr>\n",
       "      <th>528</th>\n",
       "      <td>2007</td>\n",
       "      <td>ECSA</td>\n",
       "      <td>529</td>\n",
       "    </tr>\n",
       "    <tr>\n",
       "      <th>530</th>\n",
       "      <td>2007</td>\n",
       "      <td>ECSA</td>\n",
       "      <td>531</td>\n",
       "    </tr>\n",
       "    <tr>\n",
       "      <th>535</th>\n",
       "      <td>2007</td>\n",
       "      <td>ECSA</td>\n",
       "      <td>536</td>\n",
       "    </tr>\n",
       "    <tr>\n",
       "      <th>554</th>\n",
       "      <td>2007</td>\n",
       "      <td>ECSA</td>\n",
       "      <td>555</td>\n",
       "    </tr>\n",
       "    <tr>\n",
       "      <th>556</th>\n",
       "      <td>2007</td>\n",
       "      <td>ECSA</td>\n",
       "      <td>557</td>\n",
       "    </tr>\n",
       "    <tr>\n",
       "      <th>...</th>\n",
       "      <td>...</td>\n",
       "      <td>...</td>\n",
       "      <td>...</td>\n",
       "    </tr>\n",
       "    <tr>\n",
       "      <th>1080</th>\n",
       "      <td>2007</td>\n",
       "      <td>ECSA</td>\n",
       "      <td>1081</td>\n",
       "    </tr>\n",
       "    <tr>\n",
       "      <th>1105</th>\n",
       "      <td>2007</td>\n",
       "      <td>ECSA</td>\n",
       "      <td>1106</td>\n",
       "    </tr>\n",
       "    <tr>\n",
       "      <th>1114</th>\n",
       "      <td>2007</td>\n",
       "      <td>ECSA</td>\n",
       "      <td>1115</td>\n",
       "    </tr>\n",
       "    <tr>\n",
       "      <th>1141</th>\n",
       "      <td>2007</td>\n",
       "      <td>ECSA</td>\n",
       "      <td>1142</td>\n",
       "    </tr>\n",
       "    <tr>\n",
       "      <th>1160</th>\n",
       "      <td>2007</td>\n",
       "      <td>ECSA</td>\n",
       "      <td>1161</td>\n",
       "    </tr>\n",
       "    <tr>\n",
       "      <th>1162</th>\n",
       "      <td>2007</td>\n",
       "      <td>ECSA</td>\n",
       "      <td>1163</td>\n",
       "    </tr>\n",
       "    <tr>\n",
       "      <th>1178</th>\n",
       "      <td>2007</td>\n",
       "      <td>ECSA</td>\n",
       "      <td>1179</td>\n",
       "    </tr>\n",
       "    <tr>\n",
       "      <th>1213</th>\n",
       "      <td>2007</td>\n",
       "      <td>ECSA</td>\n",
       "      <td>1214</td>\n",
       "    </tr>\n",
       "    <tr>\n",
       "      <th>1215</th>\n",
       "      <td>2007</td>\n",
       "      <td>ECSA</td>\n",
       "      <td>1216</td>\n",
       "    </tr>\n",
       "    <tr>\n",
       "      <th>1227</th>\n",
       "      <td>2007</td>\n",
       "      <td>ECSA</td>\n",
       "      <td>1228</td>\n",
       "    </tr>\n",
       "    <tr>\n",
       "      <th>1229</th>\n",
       "      <td>2007</td>\n",
       "      <td>ECSA</td>\n",
       "      <td>1230</td>\n",
       "    </tr>\n",
       "    <tr>\n",
       "      <th>1235</th>\n",
       "      <td>2007</td>\n",
       "      <td>ECSA</td>\n",
       "      <td>1236</td>\n",
       "    </tr>\n",
       "    <tr>\n",
       "      <th>1237</th>\n",
       "      <td>2007</td>\n",
       "      <td>ECSA</td>\n",
       "      <td>1238</td>\n",
       "    </tr>\n",
       "    <tr>\n",
       "      <th>1258</th>\n",
       "      <td>2007</td>\n",
       "      <td>ECSA</td>\n",
       "      <td>1259</td>\n",
       "    </tr>\n",
       "    <tr>\n",
       "      <th>1260</th>\n",
       "      <td>2007</td>\n",
       "      <td>ECSA</td>\n",
       "      <td>1261</td>\n",
       "    </tr>\n",
       "    <tr>\n",
       "      <th>1286</th>\n",
       "      <td>2007</td>\n",
       "      <td>ECSA</td>\n",
       "      <td>1287</td>\n",
       "    </tr>\n",
       "    <tr>\n",
       "      <th>1288</th>\n",
       "      <td>2007</td>\n",
       "      <td>ECSA</td>\n",
       "      <td>1289</td>\n",
       "    </tr>\n",
       "    <tr>\n",
       "      <th>1306</th>\n",
       "      <td>2007</td>\n",
       "      <td>ECSA</td>\n",
       "      <td>1307</td>\n",
       "    </tr>\n",
       "    <tr>\n",
       "      <th>1308</th>\n",
       "      <td>2007</td>\n",
       "      <td>ECSA</td>\n",
       "      <td>1309</td>\n",
       "    </tr>\n",
       "    <tr>\n",
       "      <th>1368</th>\n",
       "      <td>2007</td>\n",
       "      <td>ECSA</td>\n",
       "      <td>1369</td>\n",
       "    </tr>\n",
       "    <tr>\n",
       "      <th>1418</th>\n",
       "      <td>2007</td>\n",
       "      <td>ECSA</td>\n",
       "      <td>1419</td>\n",
       "    </tr>\n",
       "    <tr>\n",
       "      <th>1420</th>\n",
       "      <td>2007</td>\n",
       "      <td>ECSA</td>\n",
       "      <td>1421</td>\n",
       "    </tr>\n",
       "    <tr>\n",
       "      <th>1428</th>\n",
       "      <td>2007</td>\n",
       "      <td>ECSA</td>\n",
       "      <td>1429</td>\n",
       "    </tr>\n",
       "    <tr>\n",
       "      <th>1430</th>\n",
       "      <td>2007</td>\n",
       "      <td>ECSA</td>\n",
       "      <td>1431</td>\n",
       "    </tr>\n",
       "    <tr>\n",
       "      <th>1436</th>\n",
       "      <td>2007</td>\n",
       "      <td>ECSA</td>\n",
       "      <td>1437</td>\n",
       "    </tr>\n",
       "    <tr>\n",
       "      <th>1438</th>\n",
       "      <td>2007</td>\n",
       "      <td>ECSA</td>\n",
       "      <td>1439</td>\n",
       "    </tr>\n",
       "    <tr>\n",
       "      <th>1443</th>\n",
       "      <td>2007</td>\n",
       "      <td>ECSA</td>\n",
       "      <td>1444</td>\n",
       "    </tr>\n",
       "    <tr>\n",
       "      <th>1445</th>\n",
       "      <td>2007</td>\n",
       "      <td>ECSA</td>\n",
       "      <td>1446</td>\n",
       "    </tr>\n",
       "    <tr>\n",
       "      <th>1458</th>\n",
       "      <td>2007</td>\n",
       "      <td>ECSA</td>\n",
       "      <td>1459</td>\n",
       "    </tr>\n",
       "    <tr>\n",
       "      <th>1460</th>\n",
       "      <td>2007</td>\n",
       "      <td>ECSA</td>\n",
       "      <td>1461</td>\n",
       "    </tr>\n",
       "  </tbody>\n",
       "</table>\n",
       "<p>96 rows × 3 columns</p>\n",
       "</div>"
      ],
      "text/plain": [
       "      pubYear confName  paperID\n",
       "20       2007     ECSA       21\n",
       "68       2007     ECSA       69\n",
       "76       2007     ECSA       77\n",
       "78       2007     ECSA       79\n",
       "84       2007     ECSA       85\n",
       "86       2007     ECSA       87\n",
       "120      2007     ECSA      121\n",
       "130      2007     ECSA      131\n",
       "132      2007     ECSA      133\n",
       "143      2007     ECSA      144\n",
       "145      2007     ECSA      146\n",
       "195      2007     ECSA      196\n",
       "200      2007     ECSA      201\n",
       "276      2007     ECSA      277\n",
       "278      2007     ECSA      279\n",
       "335      2007     ECSA      336\n",
       "350      2007     ECSA      351\n",
       "360      2007     ECSA      361\n",
       "362      2007     ECSA      363\n",
       "376      2007     ECSA      377\n",
       "394      2007     ECSA      395\n",
       "396      2007     ECSA      397\n",
       "403      2007     ECSA      404\n",
       "507      2007     ECSA      508\n",
       "509      2007     ECSA      510\n",
       "528      2007     ECSA      529\n",
       "530      2007     ECSA      531\n",
       "535      2007     ECSA      536\n",
       "554      2007     ECSA      555\n",
       "556      2007     ECSA      557\n",
       "...       ...      ...      ...\n",
       "1080     2007     ECSA     1081\n",
       "1105     2007     ECSA     1106\n",
       "1114     2007     ECSA     1115\n",
       "1141     2007     ECSA     1142\n",
       "1160     2007     ECSA     1161\n",
       "1162     2007     ECSA     1163\n",
       "1178     2007     ECSA     1179\n",
       "1213     2007     ECSA     1214\n",
       "1215     2007     ECSA     1216\n",
       "1227     2007     ECSA     1228\n",
       "1229     2007     ECSA     1230\n",
       "1235     2007     ECSA     1236\n",
       "1237     2007     ECSA     1238\n",
       "1258     2007     ECSA     1259\n",
       "1260     2007     ECSA     1261\n",
       "1286     2007     ECSA     1287\n",
       "1288     2007     ECSA     1289\n",
       "1306     2007     ECSA     1307\n",
       "1308     2007     ECSA     1309\n",
       "1368     2007     ECSA     1369\n",
       "1418     2007     ECSA     1419\n",
       "1420     2007     ECSA     1421\n",
       "1428     2007     ECSA     1429\n",
       "1430     2007     ECSA     1431\n",
       "1436     2007     ECSA     1437\n",
       "1438     2007     ECSA     1439\n",
       "1443     2007     ECSA     1444\n",
       "1445     2007     ECSA     1446\n",
       "1458     2007     ECSA     1459\n",
       "1460     2007     ECSA     1461\n",
       "\n",
       "[96 rows x 3 columns]"
      ]
     },
     "execution_count": 21,
     "metadata": {},
     "output_type": "execute_result"
    }
   ],
   "source": [
    "mydb = 'Abstracts_DB.db'\n",
    "#paperDF.to_csv('Tables_v1/paper.csv', sheet_name = 'paper')\n",
    "paperDFbyYrandConf = paperDF[['pubYear', 'confName', 'paperID']].groupby(['pubYear', 'confName'], axis = 0)\n",
    "#paperDFbyYrandConf.count().to_html()\n",
    "paperDFbyYrandConf.get_group((2007, 'ECSA'))"
   ]
  },
  {
   "cell_type": "code",
   "execution_count": 22,
   "metadata": {
    "collapsed": false
   },
   "outputs": [],
   "source": [
    "def getPapersConfYr(yr, conf):\n",
    "    with sqlite3.connect(mydb) as con:\n",
    "        sqlcmd = \"SELECT pubYear, confName, paperID, title, abstract FROM PAPER\"\n",
    "        PAPdf = pd.read_sql_query(sqlcmd, con)\n",
    "    \n",
    "        group = PAPdf.groupby(['pubYear', 'confName'], axis = 0)\n",
    "        subgrp = group.get_group((yr, conf))\n",
    "        \n",
    "        return subgrp"
   ]
  },
  {
   "cell_type": "code",
   "execution_count": 23,
   "metadata": {
    "collapsed": false
   },
   "outputs": [
    {
     "data": {
      "text/plain": [
       "Int64Index([   8,    9,   32,   33,   36,   60,   61,  134,  135,  193,  194,\n",
       "             217,  236,  238,  239,  247,  248,  317,  318,  320,  321,  348,\n",
       "             349,  446,  447,  489,  490,  499,  500,  533,  534,  542,  543,\n",
       "             648,  649,  730,  731,  805,  806,  883,  884,  893,  894,  966,\n",
       "             967, 1144, 1145, 1201, 1202, 1245, 1246, 1256, 1257, 1263, 1264,\n",
       "            1271, 1272, 1338, 1339, 1347, 1348, 1352, 1353, 1406, 1407, 1413,\n",
       "            1414, 1478, 1479],\n",
       "           dtype='int64')"
      ]
     },
     "execution_count": 23,
     "metadata": {},
     "output_type": "execute_result"
    }
   ],
   "source": [
    "y = getPapersConfYr(2004, 'WICSA')\n",
    "y.index"
   ]
  },
  {
   "cell_type": "code",
   "execution_count": 24,
   "metadata": {
    "collapsed": false
   },
   "outputs": [],
   "source": [
    "mytable = []\n",
    "for idx in y.index.get_values():\n",
    "    entry = {}\n",
    "    entry['paperID'] = y.loc[idx]['paperID']\n",
    "    entry['title'] = y.loc[idx]['title']\n",
    "    entry['abstract'] = y.loc[idx]['abstract']\n",
    "    mytable.append(entry)\n",
    "x = dict(data = mytable)\n",
    "    "
   ]
  },
  {
   "cell_type": "code",
   "execution_count": 25,
   "metadata": {
    "collapsed": false
   },
   "outputs": [
    {
     "data": {
      "text/plain": [
       "{'data': [{'abstract': u'A common approach to adding self management capabilities to a system is to provide one or more external control modules, whose responsibility is to monitor system behavior, and adapt the system at run time to achieve various goals  configure the system, improve performance, recover from faults, etc    An important problem arises when there is more than one such self management module  how can one make sure that they are composed to provide consistent and complementary benefits  In this paper we describe a solution that introduces a self management coordination architecture and infrastructure to support such composition  We focus on the problem of coordinating self configuring and self healing capabilities, particularly with respect to global configuration and incremental repair  We illustrate the approach in the context of a self managing video teleconference system that composes two pre existing adaptation modules to achieve synergistic benefits of both   28 refs',\n",
       "   'paperID': 9,\n",
       "   'title': u'An architecture for coordinating multiple self management systems'},\n",
       "  {'abstract': u'A common approach to adding self management capabilities to a system is to provide one or more external control modules, whose responsibility is to monitor system behavior, and adapt the system at run time to achieve various goals  configure the system, improve performance, recover from faults, etc    An important problem arises when there is more than one such self management module  how can one make sure that they are composed to provide consistent and complementary benefits  In this paper we describe a solution that introduces a self management coordination architecture and infrastructure to support such composition  We focus on the problem of coordinating self configuring and self healing capabilities, particularly with respect to global configuration and incremental repair  We illustrate the approach in the context of a self managing video teleconference system that composes two preexisting adaptation modules to achieve synergistic benefits of both   28 refs',\n",
       "   'paperID': 10,\n",
       "   'title': u'An architecture for coordinating multiple self management systems'},\n",
       "  {'abstract': u'A lack of insight into the relationship between  non   functional requirements and architectural solutions often leads to problems in real life projects  This paper presents a model that concentrates on the mapping of non functional requirements onto functional requirements for architecture design  We build a framework that both provides a model and a repeatable method to transform conflicting requirements into a system decomposition  This paper presents the framework, and discusses two cases onto which the method is applied  In one case, the method is successfully used to reconstruct the high level structure of a system from its requirements  The second case is one in which the method was actually used to create a system design fitting the stakeholders  needs, and that is reproducible from its requirements   13 refs',\n",
       "   'paperID': 33,\n",
       "   'title': u'Resolving requirement conflicts through non functional decomposition'},\n",
       "  {'abstract': u'A lack of insight into the relationship between  non  functional requirements and architectural solutions often leads to problems in real life projects  This paper presents a model that concentrates on the mapping of nonfunctional requirements onto functional requirements for architecture design  We build a framework that both provides a model and a repeatable method to transform conflicting requirements into a system decomposition  This paper presents the framework, and discusses two cases onto which the method is applied  In one case, the method is successfully used to reconstruct the high level structure of a system from its requirements  The second case is one in which the method was actually used to create a system design fitting the stakeholders  needs, and that is reproducible from its requirements   13 refs',\n",
       "   'paperID': 34,\n",
       "   'title': u'Resolving requirement conflicts through non functional decomposition'},\n",
       "  {'abstract': u'A major part of software architecture design is learning how specific architectural designs balance the concerns of stakeholders  We explore the notion of  architectural prototypes , correspondingly architectural prototyping, as a means of using executable prototypes to investigate stakeholders  concerns with respect to a system under development  An architectural prototype is primarily a learning and communication vehicle used to explore and experiment with alternative architectural styles, features, and patterns in order to balance different architectural qualities  The use of architectural prototypes in the development process is discussed, and we argue that such prototypes can play a role throughout the entire process  The use of architectural prototypes is illustrated by three distinct cases of creating software systems  We argue that architectural prototyping can provide key insights that may otherwise be difficult to obtain before a system is built  Furthermore, they define skeleton systems that serve as communication means and knowledge transfer among stakeholders   23 refs',\n",
       "   'paperID': 37,\n",
       "   'title': u'Architectural prototyping  an approach for grounding architectural design and learning'},\n",
       "  {'abstract': u'A software reconfiguration pattern is a solution to a problem in component based software systems where the configuration needs to be updated while the system is operational  It defines how a set of components participating in a software pattern cooperate to change the configuration  This paper describes an approach for designing software reconfiguration patterns  It also describes how reconfiguration patterns can be used in reconfigurable software product line architectures  A change management model for dynamically evolving a software product line is also described  The paper concludes with a description of case studies and a proof of concept prototype   22 refs',\n",
       "   'paperID': 61,\n",
       "   'title': u'Software reconfiguration patterns for dynamic evolution of software architectures'},\n",
       "  {'abstract': u'A software reconfiguration pattern is a solution to a problem in component based software systems where the configuration needs to be updated while the system is operational  It defines how a set of components participating in a software pattern cooperate to change the configuration  This paper describes an approach for designing software reconfiguration patterns  It also describes how reconfiguration patterns can be used in reconfigurable software product line architectures  A change management model for dynamically evolving a software product line is also described  The paper concludes with a description of case studies and a proof of concept prototype   22 refs',\n",
       "   'paperID': 62,\n",
       "   'title': u'Software reconfiguration patterns for dynamic evolution of software architectures'},\n",
       "  {'abstract': u'ArchE  Architecture Expert  is an rule based system that contains a model of modifiability  The model plus modifiability scenarios that characterize expected change enable ArchE to collaborate with an architect to produce a design of the architecture that supports the expected change  ArchE has been used with real requirements from a manufacturer  This paper describes the model used in ArchE and how the architect and ArchE interact in order to produce a design   10 refs',\n",
       "   'paperID': 135,\n",
       "   'title': u'Experience using an expert system to assist an architect in designing for modifiability'},\n",
       "  {'abstract': u'ArchE  Architecture Expert  is an rule based system that contains a model of modifiability  The model plus modifiability scenarios that characterize expected change enable ArchE to collaborate with an architect to produce a design of the architecture that supports the expected change  ArchE has been used with real requirements from a manufacturer  This paper describes the model used in ArchE and how the architect and ArchE interact in order to produce a design   10 refs',\n",
       "   'paperID': 136,\n",
       "   'title': u'Experience using an expert system to assist an architect in designing for modifiability'},\n",
       "  {'abstract': u'Authentic descriptions of a software architecture are required as a reliable foundation for any but trivial changes to a system  Far too often, architecture descriptions of existing systems are out of sync with the implementation  If they are, they must be reconstructed  There are many existing techniques for reconstructing individual architecture views, but no information about how to select views for reconstruction, or about process aspects of architecture reconstruction in general  In this paper we describe view driven process for reconstructing software architecture that fills this gap  To describe Symphony, we present and compare different case studies, thus serving a secondary goal of sharing real life reconstruction experience  The Symphony process incorporates the state of the practice, where reconstruction is problem driven and uses a rich set of architecture views  Symphony provides a common framework for reporting reconstruction experiences and for comparing reconstruction approaches  Finally, it is a vehicle for exposing and demarcating research problems in software architecture reconstruction   33 refs',\n",
       "   'paperID': 194,\n",
       "   'title': u'Symphony  View driven software architecture reconstruction'},\n",
       "  {'abstract': u'Authentic descriptions of a software architecture are required as a reliable foundation for any but trivial changes to a system  Far too often, architecture descriptions of existing systems are out of sync with the implementation  If they are, they must be reconstructed  There are many existing techniques for reconstructing individual architecture views, but no information about how to select views for reconstruction, or about process aspects of architecture reconstruction in general  In this paper we describe view driven process for reconstructing software architecture that fills this gap  To describe Symphony, we present and compare different case studies, thus serving a secondary goal of sharing real life reconstruction experience  The Symphony process incorporates the state of the practice, where reconstruction is problem driven and uses a rich set of architecture views  Symphony provides a common framework for reporting reconstruction experiences and for comparing reconstruction approaches  Finally, it is a vehicle for exposing and demarcating research problems in software architecture reconstruction   33 refs',\n",
       "   'paperID': 195,\n",
       "   'title': u'Symphony  view driven software architecture reconstruction'},\n",
       "  {'abstract': u'COMMUNITY is a formal approach to software architecture  Its main characteristics are  a precise, yet intuitive mathematical semantics based on categorical diagrams  a clear separation between computation, coordination, and distribution  including mobility   and a simple state based language, inspired by Unity, to describe behaviour  This paper discusses the applicability of this approach to locationaware systems through the modelling of the GSM handover protocol, namely the way communication with a moving cellular phone passes from one station to another  The case study was developed with the COMMUNITY Workbench, a tool that animates distributed and mobile architectural models   8 refs',\n",
       "   'paperID': 218,\n",
       "   'title': u'An architectural approach to mobility   The handover case study'},\n",
       "  {'abstract': u'Community is a formal approach to software architecture  Its main characteristics are  a precise, yet intuitive mathematical semantics based on categorical diagrams  a clear separation between computation, coordination, and distribution  including mobility   and a simple state based language, inspired by Unity, to describe behaviour  This paper discusses the applicability of this approach to location aware systems through the modelling of the GSM handover protocol, namely the way communication with a moving cellular phone passes from one station to another  The case study was developed with the Community Workbench, a tool that animates distributed and mobile architectural models   8 refs',\n",
       "   'paperID': 237,\n",
       "   'title': u'An architectural approach to mobility   the handover case study'},\n",
       "  {'abstract': u'Component based applications require runtime support to be able to guarantee non functional properties  This paper proposes an architecture for a real time capable, component based runtime environment, which allows to separate non functional and functional concerns in component based software development  The architecture is presented with particular focus on the real time non real  time split of the runtime environment and the communication issues of respective component types and container parts   16 refs',\n",
       "   'paperID': 239,\n",
       "   'title': u'The COMQUAD component container architecture'},\n",
       "  {'abstract': u'Component based applications require runtime support to be able to guarantee non functional properties  This paper proposes an architecture for a real time capable, component based runtime environment, which allows to separate non functional and functional concerns in component based software development  The architecture is presented with particular focus on the real time non real time split of the runtime environment and the communication issues of respective component types and container parts   16 refs',\n",
       "   'paperID': 240,\n",
       "   'title': u'The COMQUAD component container architecture'},\n",
       "  {'abstract': u'Component based product line architectures  PLAs  must support two operations  application configuration   the construction of valid application specifications   and application generation   the compilation of specifications into executable applications  Whereas configuration is a combinatorial task involving advanced knowledge based reasoning, generation is a deterministic compilation process  This suggests an application synthesis model where configuration and generation are carried out separately by interoperable tools  To this end, we introduce a PLA development toolkit which includes a constraint based configuration language and an aspect based generation language supporting the same architecture model  The toolkit imposes dual PLA implementations consisting of a configuration program and a generation program  The compilation of the configuration program yields an interactive configurator used to produce valid configurations at run time  Valid configurations are then compiled by the generator with the generation program to produce Java applications  Overall, this model allows the use of powerful configuration and generation technologies   namely, constraint programming and aspect oriented programming   while enforcing view consistency and tool interoperability   24 refs',\n",
       "   'paperID': 248,\n",
       "   'title': u'Aspects and constraints for implementing configurable product line architectures'},\n",
       "  {'abstract': u'Component based product line architectures  PLAs  must support two operations  application configuration   the construction of valid application specifications  , and application generation   the compilation of specifications into executable applications  Whereas configuration is a combinatorial task involving advanced knowledge based reasoning, generation is a deterministic compilation process  This suggests an application synthesis model where configuration and generation are carried out separately by interoperable tools  To this end, we introduce a PLA development toolkit which includes a constraint based configuration language and an aspect based generation language supporting the same architecture model  The toolkit imposes dual PLA implementations consisting of a configuration program and a generation program  The compilation of the configuration program yields an interactive configurator used to produce valid configurations at run time  Valid configurations are then compiled by the generator with the generation program to produce Java applications  Overall, this model allows the use of powerful configuration and generation technologies   namely, Constraint Programming and Aspect Oriented Programming   while enforcing view consistency and tool interoperability   24 refs',\n",
       "   'paperID': 249,\n",
       "   'title': u'Aspects and constraints for implementing configurable product line architectures'},\n",
       "  {'abstract': u'Digital signal processing  DSP  tools, such as Ptolemy, Lab View and iConnect, allow application developers to assemble reactive systems by connecting predefined components in generalised dataflow graphs and by hierarchically building new components by encapsulating sub graphs  We follow the literature in calling this approach dataflow oriented development  Our previous work has shown how a new process calculus, uniting ideas from previous systems within a compositional theory, can be formally shown to capture the properties of such systems  This paper first re casts the graphical dataflow oriented style of design into an underlying textual architecture design language  ADL  and then shows how the previous modelling approach can be seen as a system of process algebraic behavioural types for such a language, so that type checking is the mechanism used to statically diagnose the reactivity of applications  We show how both the existing notion of behavioural equivalence and a new behavioural pre order are involved in this judgement   23 refs',\n",
       "   'paperID': 318,\n",
       "   'title': u'Reactive types for dataflow oriented software architectures'},\n",
       "  {'abstract': u'Digital signal processing  DSP  tools, such as Ptolemy, LabView and iConnect, allow application developers to assemble reactive systems by connecting predefined components in generalised dataflow graphs and by hierarchically building new components by encapsulating subgraphs  We follow the literature in calling this approach dataflow oriented development  Our previous work has shown how a new process calculus, uniting ideas from previous systems within a compositional theory, can be formally shown to capture the properties of such systems  This paper first recasts the graphical dataflow oriented style of design into an underlying textual architecture design language  ADL  and then shows how the previous modelling approach can be seen as a system of process algebraic behavioural types for such a language, so that type checking is the mechanism used to statically diagnose the reactivity of applications  We show how both the existing notion of behavioural equivalence and a new behavioural preorder are involved in this judgement   23 refs',\n",
       "   'paperID': 319,\n",
       "   'title': u'Reactive types for dataflow oriented software architectures'},\n",
       "  {'abstract': u'Distributed applications that lack a central, trustworthy authority for control and validation are properly termed decentralized  Multiple, independent agencies, or  partners , cooperate to achieve their separate goals  Issues of trust are paramount for designers of such partners  While the research literature has produced a variety of trust technology building blocks, few have attempted to articulate how these various technologies can regularly be composed to meet trust goals  This paper presents a particular, event based, architectural style, PACE, that shows where and how to incorporate various types of trust related technologies within a partner, positions the technologies with respect to the rest of the application, allows variation in the underlying network model, and works in a dynamic setting  Initial experiments with variants of two sample decentralized applications developed in the PACE style reveal the virtues of dealing with all aspects of application structure and trust in a comprehensive fashion   32 refs',\n",
       "   'paperID': 321,\n",
       "   'title': u'PACE  An architectural style for trust management in decentralized applications'},\n",
       "  {'abstract': u'Distributed applications that lack a central, trustworthy authority for control and validation are properly termed decentralized  Multiple, independent agencies, or  partners , cooperate to achieve their separate goals  Issues of trust are paramount for designers of such partners  While the research literature has produced a variety of trust technology building blocks, few have attempted to articulate how these various technologies can regularly be composed to meet trust goals  This paper presents a particular, event based, architectural style, PACE, that shows where and how to incorporate various types of trust related technologies within a partner, positions the technologies with respect to the rest of the application, allows variation in the underlying network model, and works in a dynamic setting  Initial experiments with variants of two sample decentralized applications developed in the PACE style reveal the virtues of dealing with all aspects of application structure and trust in a comprehensive fashion   32 refs',\n",
       "   'paperID': 322,\n",
       "   'title': u'PACE  an architectural style for trust management in decentralized applications'},\n",
       "  {'abstract': u'Early performance analysis based on Queueing Network Models  QNM  has been often proposed to support software designers during the software development process  These approaches aim at addressing performance issues as early as possible in order to reduce design failures  All of them try to adapt to software systems the well known system performance analysis methodology  This implies that they assume at design time the availability of information about the hardware platform the software will run on  In recent years we have proposed a methodology that allows quantitative reasoning on software aspects without considering hardware aspects  In this work we extend our methodology to encompass a compositional approach to performance analysis of software architecture described by means of UML2 0 diagrams  The main improvements include the characterization of architectural patterns and of their corresponding QNM pattern  the use of multi chain queueing network as system target model and the identification of the information needed to parameterize the system model   9 refs',\n",
       "   'paperID': 349,\n",
       "   'title': u'Compositional generation of software architecture performance QN models'},\n",
       "  {'abstract': u'Early performance analysis based on queueing network models  QNM  has been often proposed to support software designers during the software development process  These approaches aim at addressing performance issues as early as possible in order to reduce design failures  All of them try to adapt to software systems the well known system performance analysis methodology  This implies that they assume at design time the availability of information about the hardware platform the software runs on  In recent years, we have proposed a methodology that allows quantitative reasoning on software aspects without considering hardware aspects  In this work, we extend our methodology to encompass a compositional approach to performance analysis of software architecture described by means of UML 2 0 diagrams  The main improvements include the characterization of architectural patterns and of their corresponding QNM pattern  the use of multi chain queueing network as system target model and the identification of the information needed to parameterize the system model   9 refs',\n",
       "   'paperID': 350,\n",
       "   'title': u'Compositional generation of software architecture performance QN models'},\n",
       "  {'abstract': u'In order to respond to changing requirements and advances in technology, system and software architectures must evolve during their lifetimes  Usually, in this evolution, several key components of the architecture are replaced  Achieving successful architecture evolution at a reasonable cost and effort is difficult  It requires many architectural and technological decisions  This paper describes an approach, called 3RDBA that facilitates replacing a key component in a long living architecture  It is based on systematically gathering all information needed to make well founded decisions regarding evolution of the architecture  The approach consists of an exploration, consolidation and migration cycle  Each cycle contains four steps  requirements, design, build and analyze  3RDBA enables construction and evaluation of several alternative architecture realizations together with a migration path from the existing architecture towards the selected, new architecture  We describe how we have successfully applied this approach to support the evolution of a medical imaging system architecture   20 refs',\n",
       "   'paperID': 447,\n",
       "   'title': u'Component replacement in a long living architecture  the 3RDBA approach'},\n",
       "  {'abstract': u'In order to respond to changing requirements and advances in technology, system and software architectures must evolve during their lifetimes  Usually, in this evolution, several key components of the architecture are replaced  Achieving successful architecture evolution at a reasonable cost and effort is difficult  It requires many architectural and technological decisions  This paper describes an approach, called 3RDBA, that facilitates replacing a key component in a long living architecture  It is based on systematically gathering all information needed to make well founded decisions regarding evolution of the architecture  The approach consists of an exploration, consolidation and migration cycle  Each cycle contains four steps  Requirements, Design, Build and Analyze  3RDBA enables construction and evaluation of several alternative architecture realizations together with a migration path from the existing architecture towards the selected, new architecture  We describe how we have successfully applied this approach to support the evolution of a medical imaging system architecture   20 refs',\n",
       "   'paperID': 448,\n",
       "   'title': u'Component replacement in a long living architecture  The 3RDBA approach'},\n",
       "  {'abstract': u'In this paper, we address the correct refinement of abstract architectural models into more platform specific representations  We consider the challenging case of dynamic architectures which can perform run time reconfigurations  For this purpose, the underlying platform has to provide the necessary reconfiguration mechanisms  To conceptually model such platforms including provided reconfiguration mechanisms, we use architectural styles formalized by graph transformation rules  Based on formal refinement relations between abstract and platform specific styles, we can then investigate how to realize business specific scenarios on a certain platform by automatically deriving refined, platform specific reconfiguration scenarios   28 refs',\n",
       "   'paperID': 490,\n",
       "   'title': u'Style based refinement of dynamic software architectures'},\n",
       "  {'abstract': u'In this paper, we address the correct refinement of abstract architectural models into more platform specific representations  We consider the challenging case of dynamic architectures which can perform runtime reconfigurations  For this purpose, the underlying platform has to provide the necessary reconfiguration mechanisms  To conceptually model such platforms including provided reconfiguration mechanisms, we use architectural styles formalized by graph transformation rules  Based on formal refinement relations between abstract and platform specific styles, we can then investigate how to realize business specific scenarios on a certain platform by automatically deriving refined, platform specific reconfiguration scenarios   28 refs',\n",
       "   'paperID': 491,\n",
       "   'title': u'Style based refinement of dynamic software architectures'},\n",
       "  {'abstract': u'In this paper, we present an approach to improve the software architecture evaluation process by systematically extracting and appropriately documenting architecturally significant information from software architecture and design patterns  we are interested in only two pieces of information found in software patterns  general scenarios and architectural tactics  General scenarios distilled from patterns not only assist stakeholders in developing concrete scenarios during a scenario based architecture evaluation, but can also help an architect select and calibrate a quality attribute reasoning framework  Architectural tactics in patterns are used as a means of manipulating independent parameters in the reasoning framework to achieve the desired quality  Moreover, we believe if we use general scenarios and tactics extracted from patterns in an architectural evaluation, the results of that evaluation can be used as an evidence to validate the pattern s claim with respect to the quality attributes  We demonstrate our approach by using EJB architecture usage patterns  We contend that this approach can be used to analyze and validate any architecture pattern   27 refs',\n",
       "   'paperID': 500,\n",
       "   'title': u'Mining patterns to support software architecture evaluation'},\n",
       "  {'abstract': u'In this paper, we present an approach to improve the software architecture evaluation process by systematically extracting and appropriately documenting architecturally significant information from software architecture and design patterns  we are interested in only two pieces of information found in software patterns  general scenarios and architectural tactics  General scenarios distilled from patterns not only assist stakeholders in developing concrete scenarios during a scenario based architecture evaluation, but can also help an architect select and calibrate a quality attribute reasoning framework  Architectural tactics in patterns are used as a means of manipulating independent parameters in the reasoning framework to achieve the desired quality  Moreover, we believe if we use general scenarios and tactics extracted from patterns in an architectural evaluation, the results of that evaluation can be used as an evidence to validate the pattern s claim with respect to the quality attributes  We demonstrate our approach by using EJB architecture usage patterns  We contend that this approach can be used to analyze and validate any architecture pattern   27 refs',\n",
       "   'paperID': 501,\n",
       "   'title': u'Mining patterns to support software architecture evaluation'},\n",
       "  {'abstract': u'Industrial systems are examples of complex and often long lived systems in which software is playing an increasingly important role  Their architectures play a crucial role in maintaining the properties of such systems during their entire life cycle  In this paper, we present the results of a case study based on a series of interviews and a workshop with key personnel from research and development groups of successful international companies in their Swedish locations  The main goal of the investigation was to find the significant factors which influence system and software architectures and to find similarities and differences between the architecture determining decisions and the architectures of these systems  The role of the architect was an important subject of the investigation  Our findings result in recommendations relating to the design and evolution of system architectures and suggestions regarding areas in which future research would be beneficial   12 refs',\n",
       "   'paperID': 534,\n",
       "   'title': u'Real world influences on software architecture   Interviews with industrial system experts'},\n",
       "  {'abstract': u'Industrial systems are examples of complex and often long lived systems in which software is playing an increasingly important role  Their architectures play a crucial role in maintaining the properties of such systems during their entire life cycle  In this paper, we present the results of a case study based on a series of interviews and a workshop with key personnel from research and development groups of successful international companies in their Swedish locations  The main goal of the investigation was to find the significant factors which influence system and software architectures and to find similarities and differences between the architecture determining decisions and the architectures of these systems  The role of the architect was an important subject of the investigation  Our findings result in recommendations relating to the design and evolution of system architectures and suggestions regarding areas in which future research would be beneficial   12 refs',\n",
       "   'paperID': 535,\n",
       "   'title': u'Real world influences on software architecture   interviews with industrial system experts'},\n",
       "  {'abstract': u'Inter component communication has always been of great importance in the design of software architectures and connectors have been considered as first class entities in many approaches  We present a novel architectural style that is derived from the well established domain of computer networks  The style adopts the inter component communication protocol in a novel way that allows large scale software reuse  It mainly targets real time, distributed, concurrent, and heterogeneous systems   13 refs',\n",
       "   'paperID': 543,\n",
       "   'title': u'A network architectural style for real time systems  NaSr'},\n",
       "  {'abstract': u'Inter component communication has always been of great importance in the design of software architectures and connectors have been considered as first class entities in many approaches by R  Allen and D  Garlan  1994 , M  Shaw et al ,  1995 , and D  Batory and S  O Malley  1992   We present a novel architectural style that is derived from the well established domain of computer networks  The style adopts the inter component communication protocol in a novel way that allows large scale software reuse  It mainly targets real time, distributed, concurrent, and heterogeneous systems   13 refs',\n",
       "   'paperID': 544,\n",
       "   'title': u'A network architectural style for real time systems  NaSr'},\n",
       "  {'abstract': u'Multithreading provides an adequate support for concurrent programming, but requires the software developer to take care of the correct synchronization and exchange of data among threads  In this paper we propose an architecture driven approach to the thread synchronization management, which is completely transparent to the software developer  This is realized by implementing a suitable Java package   which adheres to a general synchronization model and is inspired by the main architectural abstractions   by means of which well synchronized multithreaded Java programs can be synthesized from their architectural specifications  The approach is illustrated by means of a real time audio processing system   11 refs',\n",
       "   'paperID': 649,\n",
       "   'title': u'Generating well synchronized multithreaded programs from software architecture descriptions'},\n",
       "  {'abstract': u'Multithreading provides an adequate support for concurrent programming, but requires the software developer to take care of the correct synchronization and exchange of data among threads  In this paper we propose an architecture driven approach to the thread synchronization management, which is completely transparent to the software developer  This is realized by implementing a suitable Java package   which adheres to a general synchronization model and is inspired by the main architectural abstractions   by means of which well synchronized multithreaded Java programs can be synthesized from their architectural specifications  The approach is illustrated by means of a real time audio processing system   11 refs',\n",
       "   'paperID': 650,\n",
       "   'title': u'Generating well synchronized multithreaded programs from software architecture descriptions'},\n",
       "  {'abstract': u'Over the past decade a number of architecture description languages  ADLs  have been proposed to facilitate modeling and analysis of software architecture  While each claims to have various benefits, to date there have been few studies to assess the relative merits of these approaches  In this paper we describe our experience using two ADLs to model a system initially described in UML, and compare their effectiveness in identifying system design flaws  We also describe the techniques we used for extracting architectural models from a UML system description   22 refs',\n",
       "   'paperID': 731,\n",
       "   'title': u'Understanding tradeoffs among different architectural modeling approaches'},\n",
       "  {'abstract': u'Over the past decade, a number of architecture description languages  ADLs  have been proposed to facilitate modeling and analysis of software architecture  While each claims to have various benefits, to date, there have been few studies to assess the relative merits of these approaches  In this paper, we describe our experience using two ADLs to model a system initially described in UML, and compare their effectiveness in identifying system design flaws  We also describe the techniques we used for extracting architectural models from a UML system description   22 refs',\n",
       "   'paperID': 732,\n",
       "   'title': u'Understanding tradeoffs among different architectural modeling approaches'},\n",
       "  {'abstract': u'Research domains such as active networks, ad hoc networks, ubiquitous computing, pervasive computing, grid computing, and sensor networks, clearly show that computer networks will become more complex and heterogeneous  In many cases, central management and control of the network are far from trivial since both the topology and the connected devices change rapidly in such highly dynamic environments, while load circumstances may vary arbitrarily  The software architecture in a node needs to support flexibility  We have developed an architecture tailored to protocol stack software that allows customizing internal resource management in order to handle overload conditions gracefully  We show that the investment in explicit support for modularity and architectural constraints pays off  the paper elaborates on a case study in which dynamic adaptation of access control behavior leads to significant performance improvements   18 refs',\n",
       "   'paperID': 806,\n",
       "   'title': u'The DiPS  software architecture for Self healing protocol stacks'},\n",
       "  {'abstract': u'Research domains such as active networks, ad hoc networks, ubiquitous computing, pervasive computing, grid computing, and sensor networks, clearly show that computer networks will become more complex and heterogeneous  In many cases, central management and control of the network are far from trivial since both the topology and the connected devices change rapidly in such highly dynamic environments, while load circumstances may vary arbitrarily  The software architecture in a node needs to support flexibility  We have developed an architecture tailored to protocol stack software that allows customizing internal resource management in order to handle overload conditions gracefully  We show that the investment in explicit support for modularity and architectural constraints pays off  the paper elaborates on a case study in which dynamic adaptation of access control behavior leads to significant performance improvements   18 refs',\n",
       "   'paperID': 807,\n",
       "   'title': u'The DiPS  software architecture for self healing protocol stacks'},\n",
       "  {'abstract': u'Software architecture analysis methods aim to predict the quality of a system before it has been developed  In general, the quality of the architecture is validated by analyzing the impact of predefined scenarios on architectural components  Hereby, it is implicitly assumed that an appropriate refactoring of the architecture design can help in coping with critical scenarios and mending the architecture  This paper shows that there are also concerns at the architecture design level which inherently crosscut multiple architectural components, which cannot be localized in one architectural component and which, as such, can not be easily managed by using conventional abstraction mechanisms  We propose the Aspectual Software Architecture Analysis Method  ASAAM  to explicitly identify and specify these architectural aspects and make them transparent early in the software development life cycle  ASAAM introduces a set of heuristic rules that help to derive architectural aspects and the corresponding tangled architectural components from scenarios  The approach is ilustrated for architectural aspect identification in the architecture design of a window management system   18 refs',\n",
       "   'paperID': 884,\n",
       "   'title': u'ASAAM  Aspectual software architecture analysis method'},\n",
       "  {'abstract': u'Software architecture analysis methods aim to predict the quality of a system before it has been developed  In general, the quality of the architecture is validated by analyzing the impact of predefined scenarios on architectural components  Hereby, it is implicitly assumed that an appropriate refactoring of the architecture design can help in coping with critical scenarios and mending the architecture  This paper shows that there are also concerns at the architecture design level which inherently crosscut multiple architectural components, which cannot be localized in one architectural component and which, as such, can not be easily managed by using conventional abstraction mechanisms  We propose the aspectual software architecture analysis method  ASAAM  to explicitly identify and specify these architectural aspects and make them transparent early in the software development life cycle  ASAAM introduces a set of heuristic rules that help to derive architectural aspects and the corresponding tangled architectural components from scenarios  The approach is illustrated for architectural aspect identification in the architecture design of a window management system   18 refs',\n",
       "   'paperID': 885,\n",
       "   'title': u'ASAAM  aspectual software architecture analysis method'},\n",
       "  {'abstract': u'Software architecture descriptions can play a wide variety of roles in the software lifecycle, from requirements specification, to logical design, to implementation architectures  In addition, execution architectures can be used both to constrain and enhance the functionality of running systems, e g  security architectures and debugging architectures  Along with others from DARPA s DASADA program we proposed an execution infrastructure for so called self healing, self adaptive systems   systems that maintain a particular level of healthiness or quality of service  QoS   This externalized infrastructure does not entail any modification of the target system   whose health is to be maintained  It is driven by a reflective model of the target system s operation to determine what aspects can be changed to effect repair  We present that infrastructure along with an example implemented in accord with it   14 refs',\n",
       "   'paperID': 894,\n",
       "   'title': u'An externalized infrastructure for self healing systems'},\n",
       "  {'abstract': u'Software architecture descriptions can play a wide variety of roles in the software lifecycle, from requirements specification, to logical design, to implementation architectures  In addition, execution architectures can be used both to constrain and enhance the functionality of running systems, e g  security architectures and debugging architectures  Along with others from DARPA s DASADA program we proposed an execution infrastructure for so called self healing, self adaptive systems   systems that maintain a particular level of healthiness or quality of service  QoS   This externalized infrastructure does not entail any modification of the target system whose health is to be maintained  It is driven by a reflective model of the target system s operation to determine what aspects can be changed to effect repair  Herein we present that infrastructure along with an example implemented in accord with it   14 refs',\n",
       "   'paperID': 895,\n",
       "   'title': u'An externalized infrastructure for self healing systems'},\n",
       "  {'abstract': u'Software that cannot evolve is condemned to atrophy  it cannot accommodate the constant revision and re negotiation of its business goals nor intercept the potential of new technology  To accommodate change in software systems, we have defined an active software architecture to be  dynamic in that the structure and cardinality of the components and interactions are changeable during execution  updatable in that components can be replaced  decomposable in that an executing system may be  partially  stopped and split up into its components and interactions  and reflective in that the specification of components and interactions may be evolved during execution  Here we describe the facilities of the ArchWare architecture description language  ADL  for specifying active architectures  The contribution of the work is the unique combination of concepts including  a p calculus based communication and expression language for specifying executable architectures  hyper code as an underlying representation of system execution that can be used for introspection  a decomposition operator to incrementally break up executing systems  and structural reflection for creating new components and binding them into running systems   27 refs',\n",
       "   'paperID': 967,\n",
       "   'title': u'Support for evolving software architectures in the ArchWare ADL'},\n",
       "  {'abstract': u'Software that cannot evolve is condemned to atrophy  it cannot accommodate the constant revision and renegotiation of its business goals nor intercept the potential of new technology  To accommodate change in software systems we have defined an active software architecture to be  dynamic in that the structure and cardinality of the components and interactions are changeable during execution  updatable in that components can be replaced  decomposable in that an executing system may be  partially  stopped and split up into its components and interactions  and reflective in that the specification of components and interactions may be evolved during execution  Here we describe the facilities of the ArchWare architecture description language  ADL  for specifying active architectures  The contribution of the work is the unique combination of concepts including  a p calculus based communication and expression language for specifying executable architectures  hyper code as an underlying representation of system execution that can be used for introspection  a decomposition operator to incrementally break up executing systems  and structural reflection for creating new components and binding them into running systems   27 refs',\n",
       "   'paperID': 968,\n",
       "   'title': u'Support for evolving software architectures in the archware ADL'},\n",
       "  {'abstract': u'The notion of service is becoming increasingly popular as a means for implementing large scale distributed, reactive systems  Systematic development approaches and modeling notations for services are sill largely missing from the literature  We introduce an Architecture Definition Language for serviceoriented software architectures  It provides modeling elements for interaction patterns defining services, as well as for mapping sets of services to target component configurations  We also present a comprehensive software development process that considers services as first class modeling elements  By decoupling the modeling of services from their implementation on target component configurations this process enables exploration of multiple architectures implementing the same set of services  We substantiate our view of services as cross cutting architectural aspects by providing a mapping from services to aspects in AspectJ  We illustrate applicability of our approach by modeling service oriented architectures for portions of the Center TRACON Automation System as a running example   35 refs',\n",
       "   'paperID': 1145,\n",
       "   'title': u'Systematic development and exploration of service oriented software architectures'},\n",
       "  {'abstract': u'The notion of service is becoming increasingly popular as a means for implementing large scale distributed, reactive systems  Systematic development approaches and modeling notations for services are still largely missing from the literature  We introduce an architecture definition language for service oriented software architectures  It provides modeling elements for interaction patterns defining services, as well as for mapping sets of services to target component configurations  We also present a comprehensive software development process that considers services as first class modeling elements  By decoupling the modeling of services from their implementation on target component configurations this process enables exploration of multiple architectures implementing the same set of services  We substantiate our view of services as cross cutting architectural aspects by providing a mapping from services to aspects in AspectJ  We illustrate applicability of our approach by modeling service oriented architectures for portions of the Center TRACON automation system as a running example   35 refs',\n",
       "   'paperID': 1146,\n",
       "   'title': u'Systematic development and exploration of service oriented software architectures'},\n",
       "  {'abstract': u'The sheer amount of data produced by modern science research has created a need for the construction and understanding of  data intensive systems , large scale, distributed systems which integrate information  The formal nature of constructing such software systems  however, is relatively unstudied, and has been a large focus of the super computing and distributed computing communicates, rather than the software engineering communities  These data intensive systems exhibit characteristics which appear fruitful for research from a software engineering, and software architectural focus  From our experience, the methodologies and notations for design and implementation of data intensive systems look to be a good starting point for this important research area  This paper presents our experience with OODT  object oriented data technology , a software architectural style, and middleware based implementation for data intensive systems developed and maintained at the Jet Propulsion Laboratory  To date, OODT has been successfully evaluated in several different science domains including Planetary Science with NASA s Planetary Data System  PDS  and Cancer Research with the National Cancer Institute  NCI    27 refs',\n",
       "   'paperID': 1202,\n",
       "   'title': u'Software architecture for large scale, distributed, data intensive systems'},\n",
       "  {'abstract': u'The sheer amount of data produced by modern science research has created a need for the construction and understanding of  data intensive systems , large scale, distributed systems which integrate information  The formal nature of constructing such software systems  however, is relatively unstudied, and has been a large focus of the super computing and distributed computing communities, rather than the software engineering communities  These data intensive systems exhibit characteristics which appear fruitful for research from a software engineering, and software architectural focus  From our experience, the methodologies and notations for design and implementation of data intensive systems look to be a good starting point for this important research area  This paper presents our experience with OODT, a software architectural style, and middleware based implementation for data intensive systems developed and maintained at the Jet Propulsion Laboratory  To date, OODT has been successfully evaluated in several different science domains including Planetary Science with NASA s Planetary Data System  PDS  and Cancer Research with the National Cancer Institute  NCI    27 refs',\n",
       "   'paperID': 1203,\n",
       "   'title': u'Software architecture for large scale, distributed, data intensive systems'},\n",
       "  {'abstract': u'This paper aims to show the usefulness of attaching attributes to pieces of software architectures, in order to direct a transformation and refinement process  These attributes are properties that can be considered as abstract ways to express architectural structures, and characteristics that constrain the refinement process  Then we define a methodology that consists in refining and transforming an architecture on the basis of the attributes attached to it  The methodology will be illustrated on a case study   10 refs',\n",
       "   'paperID': 1246,\n",
       "   'title': u'Attribute based refinement of software architectures'},\n",
       "  {'abstract': u'This paper aims to show the usefulness of attaching attributes to pieces of software architectures, in order to direct a transformation and refinement process  These attributes are properties that can be considered as abstract ways to express architectural structures, and characteristics that constrain the refinement process  Then we define a methodology that consists in refining and transforming an architecture on the basis of the attributes attached to it  The methodology will be illustrated on a case study   10 refs',\n",
       "   'paperID': 1247,\n",
       "   'title': u'Attribute based refinement of software architectures'},\n",
       "  {'abstract': u'This paper describes experiences with performance evaluation of software architecture  The approach used is based on a software architecture evaluation strategy developed for non safety critical embedded software  In this work, the parts that belong to the performance evaluation are enhanced and applied  The most appropriate approach from the contemporary performance analysis techniques is selected to support the evaluation  The evaluation strategy is used for evaluating the performance of a software product from an interactive digital television field   33 refs',\n",
       "   'paperID': 1257,\n",
       "   'title': u'Performance optimization of embedded software architecture   A case study'},\n",
       "  {'abstract': u'This paper describes experiences with performance evaluation of software architecture  The approach used is based on a software architecture evaluation strategy developed for non safety critical embedded software  In this work, the parts that belong to the performance evaluation are enhanced and applied  The most appropriate approach from the contemporary performance analysis techniques is selected to support the evaluation  The evaluation strategy is used for evaluating the performance of a software product from an interactive digital television field   33 refs',\n",
       "   'paperID': 1258,\n",
       "   'title': u'Performance optimization of embedded software architecture   a case study'},\n",
       "  {'abstract': u'This paper discusses the role of patterns in product line design by introducing a pattern based product line architecture for statistical analysis software  Associated to the architecture is a pattern language describing the instantiation of concrete software products from the product line  As patterns document design decisions better than mere code, patterns hinder the architectural drift  Since stability and organized evolution is of high importance for long term assets, the use of patterns and pattern languages is particularly interesting for product line architectures   7 refs',\n",
       "   'paperID': 1264,\n",
       "   'title': u'Applying patterns to develop a product line architecture for statistical analysis software'},\n",
       "  {'abstract': u'This paper discusses the role of patterns in product line design by introducing a pattern based product line architecture for statistical analysis software  Associated to the architecture is a pattern language describing the instantiation of concrete software products from the product line  As patterns document design decisions better than mere code, patterns hinder the architectural drift  Since stability and organized evolution is of high importance for long term assets, the use of patterns and pattern languages is particularly interesting for product line architectures   7 refs',\n",
       "   'paperID': 1265,\n",
       "   'title': u'Applying patterns to develop a product line architecture for statistical analysis software'},\n",
       "  {'abstract': u'This paper introduces a case study of a driver terminal product family  The terminals are used for fare collection in public transportation  The case study applies the QADA architectural design and analysis method in documenting and evaluating the portability and maintainability of existing architecture  During this case study it was found out how to improve the architectural descriptions of the QADA method for better quality evaluation support  In addition, evaluation revealed risky points of architecture that were improved with separation, compression and abstraction   11 refs',\n",
       "   'paperID': 1272,\n",
       "   'title': u'Evaluating the portability and maintainability of software product family architecture  terminal software case study'},\n",
       "  {'abstract': u'This paper introduces a case study of a driver terminal product family  The terminals are used for fare collection in public transportation  The case study applies the QADASMI architectural design and analysis method in documenting and evaluating the portability and maintainability of existing architecture  During this case study it was found out how to improve the architectural descriptions of the QADA method for better quality evaluation support  In addition, evaluation revealed risky points of architecture that were improved with separation, compression and abstraction   11 refs',\n",
       "   'paperID': 1273,\n",
       "   'title': u'Evaluating the portability and maintainability of software product family architecture  Terminal software case study'},\n",
       "  {'abstract': u'To address behavioral modeling issues specific to concurrent software architectures, this paper outlines an approach for systematically modeling behavioral patterns found in concurrent software designs by applying colored Petri net  CPN  templates with UML artifacts  In this approach, CPNs are used as an underlying representation of the dynamic object oriented architecture  These CPNs are then used to provide a simulated functional flow of the architecture and to analyze the concurrent behavior  By applying the results from the CPN analysis to the original UML model, an engineer can enhance the quality of the design and thereby gain additional insight to the behavioral properties of the software design prior to implementation   25 refs',\n",
       "   'paperID': 1339,\n",
       "   'title': u'Modeling behavioral patterns of concurrent software architectures using petri nets'},\n",
       "  {'abstract': u'To address behavioral modeling issues specific to concurrent software architectures, this paper outlines an approach for systematically modeling behavioral patterns found in concurrent software designs by applying colored Petri net  CPN  templates with UML artifacts  In this approach, CPNs are used as an underlying representation of the dynamic object oriented architecture  These CPNs are then used to provide a simulated functional flow of the architecture and to analyze the concurrent behavior  By applying the results from the CPN analysis to the original UML model, an engineer can enhance the quality of the design and thereby gain additional insight to the behavioral properties of the software design prior to implementation   28 refs',\n",
       "   'paperID': 1340,\n",
       "   'title': u'Modeling behavioral patterns of concurrent software architectures using Petri nets'},\n",
       "  {'abstract': u'To our knowledge, no current software development methodology explicitly describes haw to transit between the different development stages it proposes  This is more evident in the transition from the analysis stage to the software architecture of the application  This paper presents the first semiautomatic method to derive the software architecture of a system from its analysis  The proposal is a set of heuristics that, when applied to the analysis artifacts, generate the software architecture of the application  This proposal has several benefits   1  the software architecture of the system is directly derived by applying the heuristics   2  there is a direct trace relationship between the analysis artifacts and the elements of the resulting architecture, which eases the system maintenance   16 refs',\n",
       "   'paperID': 1348,\n",
       "   'title': u'Heuristics for the transition from analysis to software architecture'},\n",
       "  {'abstract': u'To our knowledge, no current software development methodology explicitly describes how to transit between the different development stages it proposes  This is more evident in the transition from the analysis stage to the software architecture of the application  This paper presents the first semiautomatic method to derive the software architecture of a system from its analysis  The proposal is a set of heuristics that, when applied to the analysis artifacts, generate the software architecture of the application  This proposal has several benefits   1  the software architecture of the system is directly derived by applying the heuristics   2  there is a direct trace relationship between the analysis artifacts and the elements of the resulting architecture, which eases the system maintenance   16 refs',\n",
       "   'paperID': 1349,\n",
       "   'title': u'Heuristics for the transition from analysis to software architecture'},\n",
       "  {'abstract': u'Today s wireless networks and devices support the dynamic composition of mobile distributed systems, according to device connectivity  This has in particular led to the introduction of a number of supporting middleware  However, such solutions need to be complemented with adequate modeling and verification support towards enforcing the correctness of the dynamic mobile systems with respect to both functional and non functional properties  Building on the elegant properties of software architecture modeling, this paper introduces base modeling of mobile software components, which integrates key features of the wireless infrastructure and allows for reasoning about the behavior of dynamically composed systems   27 refs',\n",
       "   'paperID': 1353,\n",
       "   'title': u'Software architecture for mobile distributed computing'},\n",
       "  {'abstract': u'Today s wireless networks and devices support the dynamic composition of mobile distributed systems, according to device connectivity  This has in particular led to the introduction of a number of supporting middleware  However, such solutions need to be complemented with adequate modeling and verification support towards enforcing the correctness of the dynamic mobile systems with respect to both functional and nonfunctional properties  Building on the elegant properties of software architecture modeling, this paper introduces base modeling of mobile software components, which integrates key features of the wireless infrastructure and allows for reasoning about the behavior of dynamically composed systems   27 refs',\n",
       "   'paperID': 1354,\n",
       "   'title': u'Software architecture for mobile distributed computing'},\n",
       "  {'abstract': u'We present a quantitative method for scenario driven value, risk, and cost analysis when proposing new system architectures for innovation projects  The method helps to articulate the relative benefits and or disadvantages of the proposed set of scenarios in the early architecting phases of a new system  It provides the arguments on which to base an informed decision to select the final architectural scenarios for further consideration in the design  In this paper we present a case study in which we applied the proposed method   5 refs',\n",
       "   'paperID': 1407,\n",
       "   'title': u'A scenario driven approach for value, risk, and cost analysis in system architecting for innovation'},\n",
       "  {'abstract': u'We present a quantitative method for scenariodriven value, risk, and cost analysis when proposing new system architectures for innovation projects  The method helps to articulate the relative benefits and or disadvantages of the proposed set of scenarios in the early architecting phases of a new system  It provides the arguments on which to base an informed decision to select the final architectural scenarios for further consideration in the design  In this paper we present a case study in which we applied the proposed method   5 refs',\n",
       "   'paperID': 1408,\n",
       "   'title': u'A scenario driven approach for value, risk, and cost analysis in system architecting for innovation'},\n",
       "  {'abstract': u'We present the work of establishing an integrated environment that facilitates architecture design, reconstruction, and maintenance in the entire life cycle of a software product line  This architecting environment  ART environment  has been used in modeling and analysis of both the designed platform architecture model and the reverse engineered product implementation architecture models of different releases in a big product line of Nokia mobile terminals  ART environment comprises tools for architecture model validation, architecture model analysis and processing, and reverse architecting  The ART environment fits the current software development process inside Nokia, and is integrated with the design and documentation tools that have already been used by Nokia software architects  UML, after being customized with UML profiles for architecture design, is used as the architecture modeling language in ART environment   19 refs',\n",
       "   'paperID': 1414,\n",
       "   'title': u'Establishing a software architecting environment'},\n",
       "  {'abstract': u'We present the work of establishing an integrated environment that facilitates architecture design, reconstruction, and maintenance in the entire life cycle of a software product line  This architecting environment  ART environment  has been used in modeling and analysis of both the designed platform architecture model and the reverse engineered product implementation architecture models of different releases in a big product line of Nokia mobile terminals  ART environment comprises tools for architecture model validation, architecture model analysis and processing, and reverse architecting  The ART environment fits the current software development process inside Nokia, and is integrated with the design and documentation tools that have already been used by Nokia software architects  UML, after being customized with UML profiles for architecture design, is used as the architecture modeling language in ART environment   19 refs',\n",
       "   'paperID': 1415,\n",
       "   'title': u'Establishing a software architecting environment'},\n",
       "  {'abstract': u'With the growing research into mobile and ubiquitous computing, there is a need for addressing how such infrastructures can support collaboration between nomadic users  We present the activity based computing paradigm and outline a proposal for handling collaboration in an activity based architecture  We argue that activity based computing establishes a natural and sound conceptual and architectural basis for session management in real time, synchronous collaboration   6 refs',\n",
       "   'paperID': 1479,\n",
       "   'title': u'Real time collaboration in activity based architectures'},\n",
       "  {'abstract': u'With the growing research into mobile and ubiquitous computing, there is a need for addressing how such infrastructures can support collaboration between nomadic users  We present the activity based computing paradigm and outline a proposal for handling collaboration in an activity based architecture  We argue that activity based computing establishes a natural and sound conceptual and architectural basis for session management in real time, synchronous collaboration   6 refs',\n",
       "   'paperID': 1480,\n",
       "   'title': u'Real time collaboration in activity based architectures'}]}"
      ]
     },
     "execution_count": 25,
     "metadata": {},
     "output_type": "execute_result"
    }
   ],
   "source": [
    "x"
   ]
  },
  {
   "cell_type": "markdown",
   "metadata": {
    "collapsed": false
   },
   "source": [
    "# PAPERKEY COMPOSITE"
   ]
  },
  {
   "cell_type": "code",
   "execution_count": 54,
   "metadata": {
    "collapsed": false
   },
   "outputs": [
    {
     "name": "stdout",
     "output_type": "stream",
     "text": [
      "Opened Abstracts_DB.db database successfully\n",
      "Records created successfully\n"
     ]
    }
   ],
   "source": [
    "pk = cmd.createPAPERKEYTable(paperDF)"
   ]
  },
  {
   "cell_type": "code",
   "execution_count": 55,
   "metadata": {
    "collapsed": false
   },
   "outputs": [
    {
     "data": {
      "text/html": [
       "<div>\n",
       "<table border=\"1\" class=\"dataframe\">\n",
       "  <thead>\n",
       "    <tr style=\"text-align: right;\">\n",
       "      <th></th>\n",
       "      <th>paperID</th>\n",
       "      <th>keyword</th>\n",
       "    </tr>\n",
       "  </thead>\n",
       "  <tbody>\n",
       "    <tr>\n",
       "      <th>0</th>\n",
       "      <td>1</td>\n",
       "      <td>u'Research challenges'</td>\n",
       "    </tr>\n",
       "    <tr>\n",
       "      <th>1</th>\n",
       "      <td>1</td>\n",
       "      <td>u'Software product line architecture'</td>\n",
       "    </tr>\n",
       "    <tr>\n",
       "      <th>2</th>\n",
       "      <td>1</td>\n",
       "      <td>u'Materials Science'</td>\n",
       "    </tr>\n",
       "    <tr>\n",
       "      <th>3</th>\n",
       "      <td>1</td>\n",
       "      <td>u'Structural properties'</td>\n",
       "    </tr>\n",
       "    <tr>\n",
       "      <th>4</th>\n",
       "      <td>1</td>\n",
       "      <td>u'Software product lines'</td>\n",
       "    </tr>\n",
       "  </tbody>\n",
       "</table>\n",
       "</div>"
      ],
      "text/plain": [
       "   paperID                                 keyword\n",
       "0        1                  u'Research challenges'\n",
       "1        1   u'Software product line architecture'\n",
       "2        1                    u'Materials Science'\n",
       "3        1                u'Structural properties'\n",
       "4        1               u'Software product lines'"
      ]
     },
     "execution_count": 55,
     "metadata": {},
     "output_type": "execute_result"
    }
   ],
   "source": [
    "pk.head()"
   ]
  },
  {
   "cell_type": "code",
   "execution_count": 56,
   "metadata": {
    "collapsed": false
   },
   "outputs": [
    {
     "data": {
      "text/html": [
       "<div>\n",
       "<table border=\"1\" class=\"dataframe\">\n",
       "  <thead>\n",
       "    <tr style=\"text-align: right;\">\n",
       "      <th></th>\n",
       "      <th>paperID</th>\n",
       "      <th>keyword</th>\n",
       "    </tr>\n",
       "  </thead>\n",
       "  <tbody>\n",
       "    <tr>\n",
       "      <th>25672</th>\n",
       "      <td>1486</td>\n",
       "      <td>u'Carbon corrosion'</td>\n",
       "    </tr>\n",
       "    <tr>\n",
       "      <th>25673</th>\n",
       "      <td>1486</td>\n",
       "      <td>u'Chemical Products Generally'</td>\n",
       "    </tr>\n",
       "    <tr>\n",
       "      <th>25674</th>\n",
       "      <td>1486</td>\n",
       "      <td>u'Optical Devices and Systems'</td>\n",
       "    </tr>\n",
       "    <tr>\n",
       "      <th>25675</th>\n",
       "      <td>1486</td>\n",
       "      <td>u'Fuel cells'</td>\n",
       "    </tr>\n",
       "    <tr>\n",
       "      <th>25676</th>\n",
       "      <td>1486</td>\n",
       "      <td>u'Transmission electron microscopy'</td>\n",
       "    </tr>\n",
       "  </tbody>\n",
       "</table>\n",
       "</div>"
      ],
      "text/plain": [
       "       paperID                               keyword\n",
       "25672     1486                   u'Carbon corrosion'\n",
       "25673     1486        u'Chemical Products Generally'\n",
       "25674     1486        u'Optical Devices and Systems'\n",
       "25675     1486                         u'Fuel cells'\n",
       "25676     1486   u'Transmission electron microscopy'"
      ]
     },
     "execution_count": 56,
     "metadata": {},
     "output_type": "execute_result"
    }
   ],
   "source": [
    "pk.tail()"
   ]
  },
  {
   "cell_type": "code",
   "execution_count": 71,
   "metadata": {
    "collapsed": false
   },
   "outputs": [
    {
     "data": {
      "text/html": [
       "<div>\n",
       "<table border=\"1\" class=\"dataframe\">\n",
       "  <thead>\n",
       "    <tr style=\"text-align: right;\">\n",
       "      <th></th>\n",
       "      <th>paperID</th>\n",
       "      <th>keyword</th>\n",
       "      <th>title</th>\n",
       "      <th>confName</th>\n",
       "      <th>pubYear</th>\n",
       "    </tr>\n",
       "  </thead>\n",
       "  <tbody>\n",
       "    <tr>\n",
       "      <th>0</th>\n",
       "      <td>1</td>\n",
       "      <td>u'Research challenges'</td>\n",
       "      <td>On the need of safe software product line arch...</td>\n",
       "      <td>ECSA</td>\n",
       "      <td>2010</td>\n",
       "    </tr>\n",
       "    <tr>\n",
       "      <th>1</th>\n",
       "      <td>1</td>\n",
       "      <td>u'Software product line architecture'</td>\n",
       "      <td>On the need of safe software product line arch...</td>\n",
       "      <td>ECSA</td>\n",
       "      <td>2010</td>\n",
       "    </tr>\n",
       "    <tr>\n",
       "      <th>2</th>\n",
       "      <td>1</td>\n",
       "      <td>u'Materials Science'</td>\n",
       "      <td>On the need of safe software product line arch...</td>\n",
       "      <td>ECSA</td>\n",
       "      <td>2010</td>\n",
       "    </tr>\n",
       "    <tr>\n",
       "      <th>3</th>\n",
       "      <td>1</td>\n",
       "      <td>u'Structural properties'</td>\n",
       "      <td>On the need of safe software product line arch...</td>\n",
       "      <td>ECSA</td>\n",
       "      <td>2010</td>\n",
       "    </tr>\n",
       "    <tr>\n",
       "      <th>4</th>\n",
       "      <td>1</td>\n",
       "      <td>u'Software product lines'</td>\n",
       "      <td>On the need of safe software product line arch...</td>\n",
       "      <td>ECSA</td>\n",
       "      <td>2010</td>\n",
       "    </tr>\n",
       "  </tbody>\n",
       "</table>\n",
       "</div>"
      ],
      "text/plain": [
       "   paperID                                 keyword  \\\n",
       "0        1                  u'Research challenges'   \n",
       "1        1   u'Software product line architecture'   \n",
       "2        1                    u'Materials Science'   \n",
       "3        1                u'Structural properties'   \n",
       "4        1               u'Software product lines'   \n",
       "\n",
       "                                               title confName  pubYear  \n",
       "0  On the need of safe software product line arch...     ECSA     2010  \n",
       "1  On the need of safe software product line arch...     ECSA     2010  \n",
       "2  On the need of safe software product line arch...     ECSA     2010  \n",
       "3  On the need of safe software product line arch...     ECSA     2010  \n",
       "4  On the need of safe software product line arch...     ECSA     2010  "
      ]
     },
     "execution_count": 71,
     "metadata": {},
     "output_type": "execute_result"
    }
   ],
   "source": [
    "paperKey = pk.merge(paperDF[['paperID', 'title','confName', 'pubYear']], on = 'paperID')\n",
    "paperKey.head()"
   ]
  },
  {
   "cell_type": "code",
   "execution_count": 72,
   "metadata": {
    "collapsed": true
   },
   "outputs": [],
   "source": [
    "def getPapersKWgroup(grouper):\n",
    "    with sqlite3.connect('Abstracts_DB.db') as con:\n",
    "        sqlcmd = \"SELECT paperID, title, confName, pubYear FROM PAPER \"\n",
    "        paperdf = pd.read_sql_query(sqlcmd, con)\n",
    "        sqlcmd2 = \"SELECT paperID, keyword FROM PAPERKEY \"\n",
    "        kwdf = pd.read_sql_query(sqlcmd2, con)\n",
    "        \n",
    "        merged = kwdf.merge(paperdf, on = 'paperID')\n",
    "        \n",
    "        subgrp = merged.groupby(grouper)\n",
    "        \n",
    "        return subgrp"
   ]
  },
  {
   "cell_type": "code",
   "execution_count": 61,
   "metadata": {
    "collapsed": false
   },
   "outputs": [],
   "source": [
    "paperKeyword = paperKey.groupby('paperID').count()\n",
    "paperKwYr = paperKey.groupby('pubYear')"
   ]
  },
  {
   "cell_type": "code",
   "execution_count": 62,
   "metadata": {
    "collapsed": false
   },
   "outputs": [
    {
     "name": "stderr",
     "output_type": "stream",
     "text": [
      "/Users/aileennovero1/anaconda/lib/python2.7/site-packages/ipykernel/__main__.py:1: FutureWarning: sort(columns=....) is deprecated, use sort_values(by=.....)\n",
      "  if __name__ == '__main__':\n"
     ]
    },
    {
     "data": {
      "text/html": [
       "<div>\n",
       "<table border=\"1\" class=\"dataframe\">\n",
       "  <thead>\n",
       "    <tr style=\"text-align: right;\">\n",
       "      <th></th>\n",
       "      <th>paperID</th>\n",
       "    </tr>\n",
       "    <tr>\n",
       "      <th>keyword</th>\n",
       "      <th></th>\n",
       "    </tr>\n",
       "  </thead>\n",
       "  <tbody>\n",
       "    <tr>\n",
       "      <th>u'Data Handling and Applications'</th>\n",
       "      <td>63</td>\n",
       "    </tr>\n",
       "    <tr>\n",
       "      <th>u'Computer Programming'</th>\n",
       "      <td>60</td>\n",
       "    </tr>\n",
       "    <tr>\n",
       "      <th>u'Computer Software'</th>\n",
       "      <td>58</td>\n",
       "    </tr>\n",
       "    <tr>\n",
       "      <th>u'Technical presentations'</th>\n",
       "      <td>51</td>\n",
       "    </tr>\n",
       "    <tr>\n",
       "      <th>u'Information Dissemination'</th>\n",
       "      <td>48</td>\n",
       "    </tr>\n",
       "    <tr>\n",
       "      <th>u'Software architecture'</th>\n",
       "      <td>25</td>\n",
       "    </tr>\n",
       "    <tr>\n",
       "      <th>u'Computer software selection and evaluation'</th>\n",
       "      <td>19</td>\n",
       "    </tr>\n",
       "    <tr>\n",
       "      <th>u'Computer Applications'</th>\n",
       "      <td>19</td>\n",
       "    </tr>\n",
       "    <tr>\n",
       "      <th>u'Fuel Cells'</th>\n",
       "      <td>17</td>\n",
       "    </tr>\n",
       "    <tr>\n",
       "      <th>u'Industrial Engineering and Management'</th>\n",
       "      <td>16</td>\n",
       "    </tr>\n",
       "    <tr>\n",
       "      <th>u'Software design'</th>\n",
       "      <td>16</td>\n",
       "    </tr>\n",
       "    <tr>\n",
       "      <th>u'Chemical Products Generally'</th>\n",
       "      <td>15</td>\n",
       "    </tr>\n",
       "    <tr>\n",
       "      <th>u'Precious Metals'</th>\n",
       "      <td>15</td>\n",
       "    </tr>\n",
       "    <tr>\n",
       "      <th>u'Platinum'</th>\n",
       "      <td>14</td>\n",
       "    </tr>\n",
       "    <tr>\n",
       "      <th>u'Management'</th>\n",
       "      <td>14</td>\n",
       "    </tr>\n",
       "    <tr>\n",
       "      <th>u'Ecology and Ecosystems'</th>\n",
       "      <td>14</td>\n",
       "    </tr>\n",
       "    <tr>\n",
       "      <th>u'Software systems'</th>\n",
       "      <td>14</td>\n",
       "    </tr>\n",
       "    <tr>\n",
       "      <th>u'Chemical Reactions'</th>\n",
       "      <td>14</td>\n",
       "    </tr>\n",
       "    <tr>\n",
       "      <th>u'Production Planning and Control  Manufacturing'</th>\n",
       "      <td>14</td>\n",
       "    </tr>\n",
       "    <tr>\n",
       "      <th>u'Radio and Television'</th>\n",
       "      <td>13</td>\n",
       "    </tr>\n",
       "    <tr>\n",
       "      <th>u'Structural Design'</th>\n",
       "      <td>12</td>\n",
       "    </tr>\n",
       "    <tr>\n",
       "      <th>u'Telephone Systems and Related Technologies  Line Communications'</th>\n",
       "      <td>12</td>\n",
       "    </tr>\n",
       "    <tr>\n",
       "      <th>u'Chemical Agents and Basic Industrial Chemicals'</th>\n",
       "      <td>12</td>\n",
       "    </tr>\n",
       "    <tr>\n",
       "      <th>u'Cost and Value Engineering  Industrial Economics'</th>\n",
       "      <td>12</td>\n",
       "    </tr>\n",
       "    <tr>\n",
       "      <th>u'Industry'</th>\n",
       "      <td>12</td>\n",
       "    </tr>\n",
       "    <tr>\n",
       "      <th>u'Optical Communication'</th>\n",
       "      <td>11</td>\n",
       "    </tr>\n",
       "    <tr>\n",
       "      <th>u'Software ecosystems'</th>\n",
       "      <td>11</td>\n",
       "    </tr>\n",
       "    <tr>\n",
       "      <th>u'Electrochemistry'</th>\n",
       "      <td>10</td>\n",
       "    </tr>\n",
       "    <tr>\n",
       "      <th>u'Ecosystems'</th>\n",
       "      <td>10</td>\n",
       "    </tr>\n",
       "    <tr>\n",
       "      <th>u'Fuel cells'</th>\n",
       "      <td>9</td>\n",
       "    </tr>\n",
       "    <tr>\n",
       "      <th>...</th>\n",
       "      <td>...</td>\n",
       "    </tr>\n",
       "    <tr>\n",
       "      <th>u'Intelligent Services'</th>\n",
       "      <td>1</td>\n",
       "    </tr>\n",
       "    <tr>\n",
       "      <th>u'Integration'</th>\n",
       "      <td>1</td>\n",
       "    </tr>\n",
       "    <tr>\n",
       "      <th>u'Integration problems'</th>\n",
       "      <td>1</td>\n",
       "    </tr>\n",
       "    <tr>\n",
       "      <th>u'Integration issues'</th>\n",
       "      <td>1</td>\n",
       "    </tr>\n",
       "    <tr>\n",
       "      <th>u'Integrated supports'</th>\n",
       "      <td>1</td>\n",
       "    </tr>\n",
       "    <tr>\n",
       "      <th>u'Integrated control'</th>\n",
       "      <td>1</td>\n",
       "    </tr>\n",
       "    <tr>\n",
       "      <th>u'Integrated approach'</th>\n",
       "      <td>1</td>\n",
       "    </tr>\n",
       "    <tr>\n",
       "      <th>u'Iterative development'</th>\n",
       "      <td>1</td>\n",
       "    </tr>\n",
       "    <tr>\n",
       "      <th>u'Java programming language'</th>\n",
       "      <td>1</td>\n",
       "    </tr>\n",
       "    <tr>\n",
       "      <th>u'Large domain'</th>\n",
       "      <td>1</td>\n",
       "    </tr>\n",
       "    <tr>\n",
       "      <th>u'Knowledge communication'</th>\n",
       "      <td>1</td>\n",
       "    </tr>\n",
       "    <tr>\n",
       "      <th>u'Large data volumes'</th>\n",
       "      <td>1</td>\n",
       "    </tr>\n",
       "    <tr>\n",
       "      <th>u'Language specification'</th>\n",
       "      <td>1</td>\n",
       "    </tr>\n",
       "    <tr>\n",
       "      <th>u'Knowledge transfer'</th>\n",
       "      <td>1</td>\n",
       "    </tr>\n",
       "    <tr>\n",
       "      <th>u'Knowledge representation'</th>\n",
       "      <td>1</td>\n",
       "    </tr>\n",
       "    <tr>\n",
       "      <th>u'Knowledge model'</th>\n",
       "      <td>1</td>\n",
       "    </tr>\n",
       "    <tr>\n",
       "      <th>u'Knowledge management tool'</th>\n",
       "      <td>1</td>\n",
       "    </tr>\n",
       "    <tr>\n",
       "      <th>u'Knowledge engineering techniques'</th>\n",
       "      <td>1</td>\n",
       "    </tr>\n",
       "    <tr>\n",
       "      <th>u'Knowledge conversion'</th>\n",
       "      <td>1</td>\n",
       "    </tr>\n",
       "    <tr>\n",
       "      <th>u'Knowledge based systems'</th>\n",
       "      <td>1</td>\n",
       "    </tr>\n",
       "    <tr>\n",
       "      <th>u'Joint architectures'</th>\n",
       "      <td>1</td>\n",
       "    </tr>\n",
       "    <tr>\n",
       "      <th>u'Knowledge base'</th>\n",
       "      <td>1</td>\n",
       "    </tr>\n",
       "    <tr>\n",
       "      <th>u'Kinetic process'</th>\n",
       "      <td>1</td>\n",
       "    </tr>\n",
       "    <tr>\n",
       "      <th>u'Kinetic parameters'</th>\n",
       "      <td>1</td>\n",
       "    </tr>\n",
       "    <tr>\n",
       "      <th>u'Kinetic currents'</th>\n",
       "      <td>1</td>\n",
       "    </tr>\n",
       "    <tr>\n",
       "      <th>u'Key objective'</th>\n",
       "      <td>1</td>\n",
       "    </tr>\n",
       "    <tr>\n",
       "      <th>u'Key factors'</th>\n",
       "      <td>1</td>\n",
       "    </tr>\n",
       "    <tr>\n",
       "      <th>u'Key characteristics'</th>\n",
       "      <td>1</td>\n",
       "    </tr>\n",
       "    <tr>\n",
       "      <th>u'KMD'</th>\n",
       "      <td>1</td>\n",
       "    </tr>\n",
       "    <tr>\n",
       "      <th>u'On-demand services'</th>\n",
       "      <td>1</td>\n",
       "    </tr>\n",
       "  </tbody>\n",
       "</table>\n",
       "<p>1630 rows × 1 columns</p>\n",
       "</div>"
      ],
      "text/plain": [
       "                                                    paperID\n",
       "keyword                                                    \n",
       " u'Data Handling and Applications'                       63\n",
       " u'Computer Programming'                                 60\n",
       " u'Computer Software'                                    58\n",
       " u'Technical presentations'                              51\n",
       " u'Information Dissemination'                            48\n",
       " u'Software architecture'                                25\n",
       " u'Computer software selection and evaluation'           19\n",
       " u'Computer Applications'                                19\n",
       " u'Fuel Cells'                                           17\n",
       " u'Industrial Engineering and Management'                16\n",
       " u'Software design'                                      16\n",
       " u'Chemical Products Generally'                          15\n",
       " u'Precious Metals'                                      15\n",
       "u'Platinum'                                              14\n",
       " u'Management'                                           14\n",
       " u'Ecology and Ecosystems'                               14\n",
       " u'Software systems'                                     14\n",
       " u'Chemical Reactions'                                   14\n",
       " u'Production Planning and Control  Manufacturing'       14\n",
       " u'Radio and Television'                                 13\n",
       " u'Structural Design'                                    12\n",
       " u'Telephone Systems and Related Technologies  ...       12\n",
       " u'Chemical Agents and Basic Industrial Chemicals'       12\n",
       " u'Cost and Value Engineering  Industrial Econo...       12\n",
       " u'Industry'                                             12\n",
       " u'Optical Communication'                                11\n",
       " u'Software ecosystems'                                  11\n",
       " u'Electrochemistry'                                     10\n",
       " u'Ecosystems'                                           10\n",
       " u'Fuel cells'                                            9\n",
       "...                                                     ...\n",
       " u'Intelligent Services'                                  1\n",
       " u'Integration'                                           1\n",
       " u'Integration problems'                                  1\n",
       " u'Integration issues'                                    1\n",
       " u'Integrated supports'                                   1\n",
       " u'Integrated control'                                    1\n",
       " u'Integrated approach'                                   1\n",
       " u'Iterative development'                                 1\n",
       " u'Java programming language'                             1\n",
       " u'Large domain'                                          1\n",
       " u'Knowledge communication'                               1\n",
       " u'Large data volumes'                                    1\n",
       " u'Language specification'                                1\n",
       " u'Knowledge transfer'                                    1\n",
       " u'Knowledge representation'                              1\n",
       " u'Knowledge model'                                       1\n",
       " u'Knowledge management tool'                             1\n",
       " u'Knowledge engineering techniques'                      1\n",
       " u'Knowledge conversion'                                  1\n",
       " u'Knowledge based systems'                               1\n",
       " u'Joint architectures'                                   1\n",
       " u'Knowledge base'                                        1\n",
       " u'Kinetic process'                                       1\n",
       " u'Kinetic parameters'                                    1\n",
       " u'Kinetic currents'                                      1\n",
       " u'Key objective'                                         1\n",
       " u'Key factors'                                           1\n",
       " u'Key characteristics'                                   1\n",
       " u'KMD'                                                   1\n",
       " u'On-demand services'                                    1\n",
       "\n",
       "[1630 rows x 1 columns]"
      ]
     },
     "execution_count": 62,
     "metadata": {},
     "output_type": "execute_result"
    }
   ],
   "source": [
    "paperKwYr.get_group(2010)[['paperID', 'keyword']].groupby('keyword').count().sort('paperID', ascending = False)  "
   ]
  },
  {
   "cell_type": "code",
   "execution_count": 36,
   "metadata": {
    "collapsed": false
   },
   "outputs": [
    {
     "name": "stderr",
     "output_type": "stream",
     "text": [
      "/Users/aileennovero1/anaconda/lib/python2.7/site-packages/ipykernel/__main__.py:3: FutureWarning: sort(columns=....) is deprecated, use sort_values(by=.....)\n",
      "  app.launch_new_instance()\n"
     ]
    }
   ],
   "source": []
  },
  {
   "cell_type": "code",
   "execution_count": 37,
   "metadata": {
    "collapsed": false
   },
   "outputs": [
    {
     "data": {
      "text/plain": [
       "<matplotlib.axes._subplots.AxesSubplot at 0x11611ce50>"
      ]
     },
     "execution_count": 37,
     "metadata": {},
     "output_type": "execute_result"
    },
    {
     "data": {
      "image/png": "[encoded data removed]",
      "text/plain": [
       "<matplotlib.figure.Figure at 0x116135290>"
      ]
     },
     "metadata": {},
     "output_type": "display_data"
    }
   ],
   "source": [
    "#KeywordFreq[:50].plot(kind = 'bar', x = 'keyword', y = 'paperID')\n",
    "##broken down by conferences and years...  (enter a keyword and see trend over conference and year.\n",
    "\n",
    "##top keywords(cts?) for given conference over the years.\n",
    "\n",
    "##compare the confernces - given two conferences display their top keywords for a given year\n",
    "\n",
    "##do same for authors and what conferences.\n",
    "\n",
    "##top 20 authors and their keywords, conferences, trends over time.\n"
   ]
  },
  {
   "cell_type": "code",
   "execution_count": 73,
   "metadata": {
    "collapsed": false
   },
   "outputs": [
    {
     "data": {
      "text/html": [
       "<div>\n",
       "<table border=\"1\" class=\"dataframe\">\n",
       "  <thead>\n",
       "    <tr style=\"text-align: right;\">\n",
       "      <th></th>\n",
       "      <th>paperID</th>\n",
       "      <th>keyword</th>\n",
       "      <th>title</th>\n",
       "      <th>confName</th>\n",
       "      <th>pubYear</th>\n",
       "    </tr>\n",
       "  </thead>\n",
       "  <tbody>\n",
       "    <tr>\n",
       "      <th>0</th>\n",
       "      <td>1</td>\n",
       "      <td>Research challenges</td>\n",
       "      <td>On the need of safe software product line arch...</td>\n",
       "      <td>ECSA</td>\n",
       "      <td>2010</td>\n",
       "    </tr>\n",
       "    <tr>\n",
       "      <th>1</th>\n",
       "      <td>1</td>\n",
       "      <td>Software product line architecture</td>\n",
       "      <td>On the need of safe software product line arch...</td>\n",
       "      <td>ECSA</td>\n",
       "      <td>2010</td>\n",
       "    </tr>\n",
       "    <tr>\n",
       "      <th>2</th>\n",
       "      <td>1</td>\n",
       "      <td>Materials Science</td>\n",
       "      <td>On the need of safe software product line arch...</td>\n",
       "      <td>ECSA</td>\n",
       "      <td>2010</td>\n",
       "    </tr>\n",
       "    <tr>\n",
       "      <th>3</th>\n",
       "      <td>1</td>\n",
       "      <td>Structural properties</td>\n",
       "      <td>On the need of safe software product line arch...</td>\n",
       "      <td>ECSA</td>\n",
       "      <td>2010</td>\n",
       "    </tr>\n",
       "    <tr>\n",
       "      <th>4</th>\n",
       "      <td>1</td>\n",
       "      <td>Software product lines</td>\n",
       "      <td>On the need of safe software product line arch...</td>\n",
       "      <td>ECSA</td>\n",
       "      <td>2010</td>\n",
       "    </tr>\n",
       "  </tbody>\n",
       "</table>\n",
       "</div>"
      ],
      "text/plain": [
       "   paperID                             keyword  \\\n",
       "0        1                 Research challenges   \n",
       "1        1  Software product line architecture   \n",
       "2        1                   Materials Science   \n",
       "3        1               Structural properties   \n",
       "4        1              Software product lines   \n",
       "\n",
       "                                               title confName  pubYear  \n",
       "0  On the need of safe software product line arch...     ECSA     2010  \n",
       "1  On the need of safe software product line arch...     ECSA     2010  \n",
       "2  On the need of safe software product line arch...     ECSA     2010  \n",
       "3  On the need of safe software product line arch...     ECSA     2010  \n",
       "4  On the need of safe software product line arch...     ECSA     2010  "
      ]
     },
     "execution_count": 73,
     "metadata": {},
     "output_type": "execute_result"
    }
   ],
   "source": [
    "#enter a keyword and see trend over conference and year.\n",
    "try1 = paperKey\n",
    "try1['keyword'] = try1['keyword'].apply(lambda word : eval(word))\n",
    "try1.head()"
   ]
  },
  {
   "cell_type": "code",
   "execution_count": 74,
   "metadata": {
    "collapsed": false
   },
   "outputs": [],
   "source": [
    "KeywordFreq = try1.groupby('keyword')\n"
   ]
  },
  {
   "cell_type": "code",
   "execution_count": 77,
   "metadata": {
    "collapsed": false
   },
   "outputs": [
    {
     "data": {
      "text/html": [
       "<div>\n",
       "<table border=\"1\" class=\"dataframe\">\n",
       "  <thead>\n",
       "    <tr style=\"text-align: right;\">\n",
       "      <th></th>\n",
       "      <th>paperID</th>\n",
       "      <th>keyword</th>\n",
       "      <th>title</th>\n",
       "      <th>confName</th>\n",
       "      <th>pubYear</th>\n",
       "    </tr>\n",
       "  </thead>\n",
       "  <tbody>\n",
       "    <tr>\n",
       "      <th>25311</th>\n",
       "      <td>1461</td>\n",
       "      <td>aspectual concept</td>\n",
       "      <td>AspectLEDA  extending an ADL with aspectual co...</td>\n",
       "      <td>ECSA</td>\n",
       "      <td>2007</td>\n",
       "    </tr>\n",
       "    <tr>\n",
       "      <th>25324</th>\n",
       "      <td>1462</td>\n",
       "      <td>aspectual concept</td>\n",
       "      <td>AspectLEDA  extending an ADL with aspectual co...</td>\n",
       "      <td>ECSA</td>\n",
       "      <td>2008</td>\n",
       "    </tr>\n",
       "  </tbody>\n",
       "</table>\n",
       "</div>"
      ],
      "text/plain": [
       "       paperID            keyword  \\\n",
       "25311     1461  aspectual concept   \n",
       "25324     1462  aspectual concept   \n",
       "\n",
       "                                                   title confName  pubYear  \n",
       "25311  AspectLEDA  extending an ADL with aspectual co...     ECSA     2007  \n",
       "25324  AspectLEDA  extending an ADL with aspectual co...     ECSA     2008  "
      ]
     },
     "execution_count": 77,
     "metadata": {},
     "output_type": "execute_result"
    }
   ],
   "source": [
    "KeywordFreq.get_group('aspectual concept')"
   ]
  },
  {
   "cell_type": "markdown",
   "metadata": {
    "collapsed": true
   },
   "source": [
    "# Affiliation_Paper Composite \n",
    "## necessary?"
   ]
  },
  {
   "cell_type": "code",
   "execution_count": null,
   "metadata": {
    "collapsed": false
   },
   "outputs": [],
   "source": [
    "paperAffiliationDF = cmd.createAFFILIATIONPAPERTable(paperDF, affilDF)"
   ]
  },
  {
   "cell_type": "code",
   "execution_count": null,
   "metadata": {
    "collapsed": false
   },
   "outputs": [],
   "source": [
    "paperAffiliationDF.tail()\n",
    "#paperAffiliationDF.to_csv('Tables_v1/paperAffiliation.csv', sheet_name = 'paperAffil')"
   ]
  },
  {
   "cell_type": "code",
   "execution_count": null,
   "metadata": {
    "collapsed": false
   },
   "outputs": [],
   "source": [
    "paperDF[['paperID', 'pubYear']].merge(paperAffiliationDF, on = 'paperID').tail()"
   ]
  },
  {
   "cell_type": "markdown",
   "metadata": {},
   "source": [
    "# PAPERAUTHORS COMPOSITE"
   ]
  },
  {
   "cell_type": "code",
   "execution_count": null,
   "metadata": {
    "collapsed": false
   },
   "outputs": [],
   "source": [
    "authorPaper = cmd.createPAPERAUTHORTable(paperDF[['paperID', 'authors']])\n",
    "#authorPaper.to_csv('Tables_v1/authorPaper.csv', sheet_name = 'paperAuthor')"
   ]
  },
  {
   "cell_type": "code",
   "execution_count": null,
   "metadata": {
    "collapsed": false
   },
   "outputs": [],
   "source": [
    "authorPaper.head(20)"
   ]
  },
  {
   "cell_type": "code",
   "execution_count": null,
   "metadata": {
    "collapsed": false
   },
   "outputs": [],
   "source": [
    "paperDF[['paperID', 'title']].merge(authorPaper, on = 'paperID').head(20)"
   ]
  },
  {
   "cell_type": "code",
   "execution_count": null,
   "metadata": {
    "collapsed": true
   },
   "outputs": [],
   "source": [
    "from flask import *"
   ]
  },
  {
   "cell_type": "code",
   "execution_count": null,
   "metadata": {
    "collapsed": false
   },
   "outputs": [],
   "source": [
    "confDF.to_html()"
   ]
  },
  {
   "cell_type": "code",
   "execution_count": null,
   "metadata": {
    "collapsed": false
   },
   "outputs": [],
   "source": [
    "confDF.plot(kind = 'box')"
   ]
  },
  {
   "cell_type": "code",
   "execution_count": null,
   "metadata": {
    "collapsed": true
   },
   "outputs": [],
   "source": [
    "%matplotlib inline"
   ]
  },
  {
   "cell_type": "markdown",
   "metadata": {},
   "source": [
    "Queries:\n",
    "As for the given queries: \n",
    "papers with key word grouped by year.   \n",
    "- PaperID ---> KeywordFK, PaperID --> PublicationID:year\n",
    "\n",
    "author's most buzzy words : \n",
    "- authorID ---> paperID -->KeyWordId (count) (sort).max\n",
    "\n",
    "paper's affiliation grouped by conference and year  ??\n",
    "- paper ID:affiliation ---> publicationID:year -->ConferenceID:type\n",
    "\n",
    "conference/year and the keywords in order of frequency (ie word cloud visualization maybe?)  <<_--this might break it?\n",
    "- confID -->publicationID --> PaperIDs-->KeywordIDs (count) (sort descending)\n",
    "\n",
    "Affiliation's authors\n",
    "- authorsID--: papersIds: affiliation  (i need to check if an author can have multiple affiliations, I can't see why not if they change universities or companies after 10 years)\n",
    "\n",
    "\n",
    "Most frequent affiliations per conference\n",
    "paperIDs: affiliation --> publicationIDs --> ConferenceID"
   ]
  },
  {
   "cell_type": "code",
   "execution_count": null,
   "metadata": {
    "collapsed": false
   },
   "outputs": [],
   "source": [
    "q1 = pk.merge(paperDF[['paperID', 'pubYear']], on = 'paperID')\n"
   ]
  },
  {
   "cell_type": "code",
   "execution_count": null,
   "metadata": {
    "collapsed": false
   },
   "outputs": [],
   "source": [
    "len(q1['keyword'].unique())"
   ]
  },
  {
   "cell_type": "code",
   "execution_count": null,
   "metadata": {
    "collapsed": false
   },
   "outputs": [],
   "source": [
    "len(authorPaper)"
   ]
  },
  {
   "cell_type": "code",
   "execution_count": null,
   "metadata": {
    "collapsed": false
   },
   "outputs": [],
   "source": [
    "authorAffiliation = authorPaper.merge(paperDF[['paperID', 'affiliation', 'pubYear']])"
   ]
  },
  {
   "cell_type": "code",
   "execution_count": null,
   "metadata": {
    "collapsed": false
   },
   "outputs": [],
   "source": [
    "authorAffiliation.query('\"Muccini, Henry\" in authorName').sort('pubYear')"
   ]
  },
  {
   "cell_type": "code",
   "execution_count": null,
   "metadata": {
    "collapsed": false
   },
   "outputs": [],
   "source": [
    "#paper's affiliation grouped by conference and year ??\n",
    "papafiil = paperAffiliationDF.merge(paperDF[['paperID', 'pubYear', 'confName']], on = 'paperID')"
   ]
  },
  {
   "cell_type": "code",
   "execution_count": null,
   "metadata": {
    "collapsed": false
   },
   "outputs": [],
   "source": [
    "groupPA = papafiil.groupby(['pubYear', 'confName'])"
   ]
  },
  {
   "cell_type": "code",
   "execution_count": null,
   "metadata": {
    "collapsed": false
   },
   "outputs": [],
   "source": [
    "groupPA.aggregate('count')"
   ]
  },
  {
   "cell_type": "code",
   "execution_count": null,
   "metadata": {
    "collapsed": true
   },
   "outputs": [],
   "source": [
    "conf"
   ]
  }
 ],
 "metadata": {
  "kernelspec": {
   "display_name": "Python 2",
   "language": "python",
   "name": "python2"
  },
  "language_info": {
   "codemirror_mode": {
    "name": "ipython",
    "version": 2
   },
   "file_extension": ".py",
   "mimetype": "text/x-python",
   "name": "python",
   "nbconvert_exporter": "python",
   "pygments_lexer": "ipython2",
   "version": "2.7.11"
  }
 },
 "nbformat": 4,
 "nbformat_minor": 0
}
