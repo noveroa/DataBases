{
 "cells": [
  {
   "cell_type": "markdown",
   "metadata": {},
   "source": [
    "# Learning python and sqlite3"
   ]
  },
  {
   "cell_type": "code",
   "execution_count": 203,
   "metadata": {
    "collapsed": true
   },
   "outputs": [],
   "source": [
    "import sqlite3\n",
    "import pandas as pd"
   ]
  },
  {
   "cell_type": "code",
   "execution_count": 207,
   "metadata": {
    "collapsed": false
   },
   "outputs": [
    {
     "name": "stdout",
     "output_type": "stream",
     "text": [
      "(0, 10)\n"
     ]
    }
   ],
   "source": [
    "with sqlite3.connect('Abstracts.db') as con:\n",
    "    sql = \"SELECT * FROM Abstracts\"\n",
    "    dfab = pd.read_sql_query(sql, con)\n",
    "    print dfab.shape\n",
    "con.close()"
   ]
  },
  {
   "cell_type": "code",
   "execution_count": 208,
   "metadata": {
    "collapsed": false
   },
   "outputs": [
    {
     "data": {
      "text/html": [
       "<div>\n",
       "<table border=\"1\" class=\"dataframe\">\n",
       "  <thead>\n",
       "    <tr style=\"text-align: right;\">\n",
       "      <th></th>\n",
       "      <th>Abstract</th>\n",
       "      <th>Author affiliation</th>\n",
       "      <th>Authors</th>\n",
       "      <th>Classification Code</th>\n",
       "      <th>Conf</th>\n",
       "      <th>Database</th>\n",
       "      <th>Source</th>\n",
       "      <th>Title</th>\n",
       "      <th>terms</th>\n",
       "      <th>year</th>\n",
       "    </tr>\n",
       "  </thead>\n",
       "  <tbody>\n",
       "  </tbody>\n",
       "</table>\n",
       "</div>"
      ],
      "text/plain": [
       "Empty DataFrame\n",
       "Columns: [Abstract, Author affiliation, Authors, Classification Code, Conf, Database, Source, Title, terms, year]\n",
       "Index: []"
      ]
     },
     "execution_count": 208,
     "metadata": {},
     "output_type": "execute_result"
    }
   ],
   "source": [
    "dfab.head()"
   ]
  },
  {
   "cell_type": "code",
   "execution_count": 209,
   "metadata": {
    "collapsed": false
   },
   "outputs": [],
   "source": [
    "tests = [\n",
    "    ('Audi', '4door', '4door', '4door', '4door', '4door', '4door', 'tada') ,\n",
    "    ('Volkswagon', '4door', '4door', '4door', '4door', '4door', '4door',  'tada'),\n",
    "    ('Passat', '4door', '4door', '4door', '4door', '4door', '4door', 'tada!')\n",
    "]\n",
    "\n",
    "testdb = 'Test.db'"
   ]
  },
  {
   "cell_type": "markdown",
   "metadata": {},
   "source": [
    "# Small scripts\n",
    "- testing and adding"
   ]
  },
  {
   "cell_type": "markdown",
   "metadata": {},
   "source": [
    "### check the database at this time"
   ]
  },
  {
   "cell_type": "code",
   "execution_count": 210,
   "metadata": {
    "collapsed": false
   },
   "outputs": [],
   "source": [
    "def checkDB(db):\n",
    "    \n",
    "    with sqlite3.connect(db) as con:\n",
    "        sql = \"SELECT * FROM Abstracts\"\n",
    "        test = pd.read_sql_query(sql, con )\n",
    "\n",
    "    \n",
    "    return test"
   ]
  },
  {
   "cell_type": "markdown",
   "metadata": {},
   "source": [
    "### Add to the database at this time"
   ]
  },
  {
   "cell_type": "code",
   "execution_count": 200,
   "metadata": {
    "collapsed": true
   },
   "outputs": [],
   "source": [
    "def addDB(db, entries):\n",
    "    \n",
    "    with sqlite3.connect(db) as con:\n",
    "        cur = con.cursor() \n",
    "    #drops the cars table if it exist already \n",
    "        cur.execute(\"DROP TABLE IF EXISTS Abstracts\")\n",
    "    #and recreates it\n",
    "        cur.execute(\"CREATE TABLE Abstracts(Abstract TEXT, 'Author affiliation' TEXT, \\\n",
    "        Authors TEXT, 'Classification Code' TEXT, Conf TEXT, Database TEXT, Source TEXT, \\\n",
    "        Title TEXT)\")\n",
    "        \n",
    "        \n",
    "        cur.executemany(\"INSERT INTO Abstracts VALUES(?,?,?,?,?,?,?,?)\", entries )\n",
    "    con.close()\n"
   ]
  },
  {
   "cell_type": "markdown",
   "metadata": {},
   "source": [
    "#### dummy data\n",
    "- errors thrown due to list entry of 'terms'"
   ]
  },
  {
   "cell_type": "code",
   "execution_count": 212,
   "metadata": {
    "collapsed": false
   },
   "outputs": [],
   "source": [
    "addDB(testdb, tests)"
   ]
  },
  {
   "cell_type": "code",
   "execution_count": 213,
   "metadata": {
    "collapsed": false
   },
   "outputs": [
    {
     "data": {
      "text/html": [
       "<div>\n",
       "<table border=\"1\" class=\"dataframe\">\n",
       "  <thead>\n",
       "    <tr style=\"text-align: right;\">\n",
       "      <th></th>\n",
       "      <th>Abstract</th>\n",
       "      <th>Author affiliation</th>\n",
       "      <th>Authors</th>\n",
       "      <th>Classification Code</th>\n",
       "      <th>Conf</th>\n",
       "      <th>Database</th>\n",
       "      <th>Source</th>\n",
       "      <th>Title</th>\n",
       "    </tr>\n",
       "  </thead>\n",
       "  <tbody>\n",
       "    <tr>\n",
       "      <th>0</th>\n",
       "      <td>Audi</td>\n",
       "      <td>4door</td>\n",
       "      <td>4door</td>\n",
       "      <td>4door</td>\n",
       "      <td>4door</td>\n",
       "      <td>4door</td>\n",
       "      <td>4door</td>\n",
       "      <td>tada</td>\n",
       "    </tr>\n",
       "    <tr>\n",
       "      <th>1</th>\n",
       "      <td>Volkswagon</td>\n",
       "      <td>4door</td>\n",
       "      <td>4door</td>\n",
       "      <td>4door</td>\n",
       "      <td>4door</td>\n",
       "      <td>4door</td>\n",
       "      <td>4door</td>\n",
       "      <td>tada</td>\n",
       "    </tr>\n",
       "    <tr>\n",
       "      <th>2</th>\n",
       "      <td>Passat</td>\n",
       "      <td>4door</td>\n",
       "      <td>4door</td>\n",
       "      <td>4door</td>\n",
       "      <td>4door</td>\n",
       "      <td>4door</td>\n",
       "      <td>4door</td>\n",
       "      <td>tada!</td>\n",
       "    </tr>\n",
       "  </tbody>\n",
       "</table>\n",
       "</div>"
      ],
      "text/plain": [
       "     Abstract Author affiliation Authors Classification Code   Conf Database  \\\n",
       "0        Audi              4door   4door               4door  4door    4door   \n",
       "1  Volkswagon              4door   4door               4door  4door    4door   \n",
       "2      Passat              4door   4door               4door  4door    4door   \n",
       "\n",
       "  Source  Title  \n",
       "0  4door   tada  \n",
       "1  4door   tada  \n",
       "2  4door  tada!  "
      ]
     },
     "execution_count": 213,
     "metadata": {},
     "output_type": "execute_result"
    }
   ],
   "source": [
    "checkDB(testdb)"
   ]
  },
  {
   "cell_type": "markdown",
   "metadata": {},
   "source": [
    "### Try with some 'real' abstract entries "
   ]
  },
  {
   "cell_type": "code",
   "execution_count": 16,
   "metadata": {
    "collapsed": true
   },
   "outputs": [],
   "source": [
    "totalDF = pd.read_hdf('../DataBaseParsing/DFstore.h5', 'df')"
   ]
  },
  {
   "cell_type": "code",
   "execution_count": 214,
   "metadata": {
    "collapsed": false
   },
   "outputs": [
    {
     "name": "stdout",
     "output_type": "stream",
     "text": [
      "8\n"
     ]
    }
   ],
   "source": [
    "row1 = [entry for entry in totalDF.iloc[0]]\n",
    "row2 = [entry for entry in totalDF.iloc[1]]\n",
    "row3 = [entry for entry in totalDF.iloc[2]]\n",
    "rows = (\n",
    "    (row1[0:8]),\n",
    "    (row2[0:8]),\n",
    "    (row3[0:8])\n",
    "       )\n",
    "print len(rows[0])"
   ]
  },
  {
   "cell_type": "code",
   "execution_count": 215,
   "metadata": {
    "collapsed": false
   },
   "outputs": [],
   "source": [
    "addDB(testdb, rows)"
   ]
  },
  {
   "cell_type": "code",
   "execution_count": 216,
   "metadata": {
    "collapsed": false
   },
   "outputs": [
    {
     "data": {
      "text/html": [
       "<div>\n",
       "<table border=\"1\" class=\"dataframe\">\n",
       "  <thead>\n",
       "    <tr style=\"text-align: right;\">\n",
       "      <th></th>\n",
       "      <th>Abstract</th>\n",
       "      <th>Author affiliation</th>\n",
       "      <th>Authors</th>\n",
       "      <th>Classification Code</th>\n",
       "      <th>Conf</th>\n",
       "      <th>Database</th>\n",
       "      <th>Source</th>\n",
       "      <th>Title</th>\n",
       "    </tr>\n",
       "  </thead>\n",
       "  <tbody>\n",
       "    <tr>\n",
       "      <th>0</th>\n",
       "      <td>Empirical software engineering focuses on the ...</td>\n",
       "      <td>1  DISP  Univ  of Rome  Rome  Italy</td>\n",
       "      <td>Falessi  D   1   Kruchten  P   Cantone  G</td>\n",
       "      <td>C6110B Software engineering techniques   C0310...</td>\n",
       "      <td>ECSA</td>\n",
       "      <td>Inspec</td>\n",
       "      <td>Software Architecture  First European Conferen...</td>\n",
       "      <td>Issues in applying empirical software engineer...</td>\n",
       "    </tr>\n",
       "    <tr>\n",
       "      <th>1</th>\n",
       "      <td>Software architecture description languages al...</td>\n",
       "      <td>1  LSTS   ENIT  Tunis  Tunisia</td>\n",
       "      <td>Jerad  C   1   Barkaoui  K   Grissa Touzi  A</td>\n",
       "      <td>C6110B Software engineering techniques   C4210...</td>\n",
       "      <td>ECSA</td>\n",
       "      <td>Inspec</td>\n",
       "      <td>Software Architecture  First European Conferen...</td>\n",
       "      <td>Hierarchical verification in Maude of LfP soft...</td>\n",
       "    </tr>\n",
       "    <tr>\n",
       "      <th>2</th>\n",
       "      <td>When an application must evolve to cope with n...</td>\n",
       "      <td>1  INRIA  Univ  des Sci  et Technol  de Lille ...</td>\n",
       "      <td>Waignier  G   1   Le Meur  A  F   1   Duchien ...</td>\n",
       "      <td>C6110B Software engineering techniques   C6110...</td>\n",
       "      <td>ECSA</td>\n",
       "      <td>Inspec</td>\n",
       "      <td>Software Architecture  First European Conferen...</td>\n",
       "      <td>FIESTA  a generic framework for integrating ne...</td>\n",
       "    </tr>\n",
       "  </tbody>\n",
       "</table>\n",
       "</div>"
      ],
      "text/plain": [
       "                                            Abstract  \\\n",
       "0  Empirical software engineering focuses on the ...   \n",
       "1  Software architecture description languages al...   \n",
       "2  When an application must evolve to cope with n...   \n",
       "\n",
       "                                  Author affiliation  \\\n",
       "0                1  DISP  Univ  of Rome  Rome  Italy   \n",
       "1                     1  LSTS   ENIT  Tunis  Tunisia   \n",
       "2  1  INRIA  Univ  des Sci  et Technol  de Lille ...   \n",
       "\n",
       "                                             Authors  \\\n",
       "0          Falessi  D   1   Kruchten  P   Cantone  G   \n",
       "1       Jerad  C   1   Barkaoui  K   Grissa Touzi  A   \n",
       "2  Waignier  G   1   Le Meur  A  F   1   Duchien ...   \n",
       "\n",
       "                                 Classification Code  Conf Database  \\\n",
       "0  C6110B Software engineering techniques   C0310...  ECSA   Inspec   \n",
       "1  C6110B Software engineering techniques   C4210...  ECSA   Inspec   \n",
       "2  C6110B Software engineering techniques   C6110...  ECSA   Inspec   \n",
       "\n",
       "                                              Source  \\\n",
       "0  Software Architecture  First European Conferen...   \n",
       "1  Software Architecture  First European Conferen...   \n",
       "2  Software Architecture  First European Conferen...   \n",
       "\n",
       "                                               Title  \n",
       "0  Issues in applying empirical software engineer...  \n",
       "1  Hierarchical verification in Maude of LfP soft...  \n",
       "2  FIESTA  a generic framework for integrating ne...  "
      ]
     },
     "execution_count": 216,
     "metadata": {},
     "output_type": "execute_result"
    }
   ],
   "source": [
    "test3 = checkDB(testdb)\n",
    "test3"
   ]
  },
  {
   "cell_type": "code",
   "execution_count": null,
   "metadata": {
    "collapsed": true
   },
   "outputs": [],
   "source": []
  }
 ],
 "metadata": {
  "kernelspec": {
   "display_name": "Python 2",
   "language": "python",
   "name": "python2"
  },
  "language_info": {
   "codemirror_mode": {
    "name": "ipython",
    "version": 2
   },
   "file_extension": ".py",
   "mimetype": "text/x-python",
   "name": "python",
   "nbconvert_exporter": "python",
   "pygments_lexer": "ipython2",
   "version": "2.7.11"
  }
 },
 "nbformat": 4,
 "nbformat_minor": 0
}
