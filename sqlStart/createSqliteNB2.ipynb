{
 "cells": [
  {
   "cell_type": "markdown",
   "metadata": {},
   "source": [
    "# Setting Up Basic Sqlite with Abs Data\n",
    "- - Single Table\n"
   ]
  },
  {
   "cell_type": "code",
   "execution_count": 1,
   "metadata": {
    "collapsed": true
   },
   "outputs": [],
   "source": [
    "import sqlite3\n",
    "import pandas as pd"
   ]
  },
  {
   "cell_type": "markdown",
   "metadata": {},
   "source": [
    "## Load the sqlite scripts"
   ]
  },
  {
   "cell_type": "code",
   "execution_count": 2,
   "metadata": {
    "collapsed": false
   },
   "outputs": [],
   "source": [
    "import sqlcommands as cmd\n",
    "cmd = reload(cmd)"
   ]
  },
  {
   "cell_type": "markdown",
   "metadata": {},
   "source": [
    "# Get Data.\n",
    "**get the pandas Abstracts DataFrame from hd5 file and shape NOTE: More .txt files now failing with new parsing :(**  "
   ]
  },
  {
   "cell_type": "code",
   "execution_count": 34,
   "metadata": {
    "collapsed": false
   },
   "outputs": [
    {
     "name": "stdout",
     "output_type": "stream",
     "text": [
      "(1430, 7)\n"
     ]
    },
    {
     "data": {
      "text/plain": [
       "Pandas(Index=1, Abstract='Empirical software engineering focuses on the evaluation of software engineering technologies, such as processes and tools, by comparing related sets of data  It has contributed a valuable body of knowledge in several areas such as software economics and software quality, which in turn drove important advances in related tools and techniques  Unfortunately this is not  yet  the case for software architecture, where empirical studies are still few  Such a condition demands for further empirical research efforts on the topic of software architecture and suggests specific areas of improvement  In this paper we discuss several essential, innovative, and maybe provocative, questions such as  Why do we have so few applications of empirical software engineering on software architecture  Which are the main difficulties  What can we do   21 refs', _2='DISP, Univ  of Rome, Rome, Italy', Authors=\"['Falessi, D', ' Kruchten, P', ' Cantone, G']\", Conf='ECSA', Title='Issues in applying empirical software engineering to software architecture', terms=\"['software architecture', 'software quality', 'empirical software engineering', 'software architecture', 'software economics', 'software quality', 'Software engineering techniques', 'Software management']\", year='2007')"
      ]
     },
     "execution_count": 34,
     "metadata": {},
     "output_type": "execute_result"
    }
   ],
   "source": [
    "rowtotal = cmd.parseDataFrame()\n",
    "rowtotal[0]"
   ]
  },
  {
   "cell_type": "markdown",
   "metadata": {},
   "source": [
    "# **Create Abstracts Total DB**\n",
    "- - can already query on this with pandas"
   ]
  },
  {
   "cell_type": "code",
   "execution_count": 35,
   "metadata": {
    "collapsed": false
   },
   "outputs": [
    {
     "data": {
      "text/html": [
       "<div>\n",
       "<table border=\"1\" class=\"dataframe\">\n",
       "  <thead>\n",
       "    <tr style=\"text-align: right;\">\n",
       "      <th></th>\n",
       "      <th>ID</th>\n",
       "      <th>Abstract</th>\n",
       "      <th>Author affiliation</th>\n",
       "      <th>Authors</th>\n",
       "      <th>Conf</th>\n",
       "      <th>Title</th>\n",
       "      <th>terms</th>\n",
       "      <th>year</th>\n",
       "    </tr>\n",
       "  </thead>\n",
       "  <tbody>\n",
       "    <tr>\n",
       "      <th>0</th>\n",
       "      <td>1</td>\n",
       "      <td>Empirical software engineering focuses on the ...</td>\n",
       "      <td>DISP, Univ  of Rome, Rome, Italy</td>\n",
       "      <td>['Falessi, D', ' Kruchten, P', ' Cantone, G']</td>\n",
       "      <td>ECSA</td>\n",
       "      <td>Issues in applying empirical software engineer...</td>\n",
       "      <td>['software architecture', 'software quality', ...</td>\n",
       "      <td>2007</td>\n",
       "    </tr>\n",
       "    <tr>\n",
       "      <th>1</th>\n",
       "      <td>2</td>\n",
       "      <td>Software architecture description languages al...</td>\n",
       "      <td>LSTS   ENIT, Tunis, Tunisia</td>\n",
       "      <td>['Jerad, C', ' Barkaoui, K', ' Grissa Touzi, A']</td>\n",
       "      <td>ECSA</td>\n",
       "      <td>Hierarchical verification in Maude of LfP soft...</td>\n",
       "      <td>['formal verification', 'rewriting systems', '...</td>\n",
       "      <td>2007</td>\n",
       "    </tr>\n",
       "    <tr>\n",
       "      <th>2</th>\n",
       "      <td>3</td>\n",
       "      <td>When an application must evolve to cope with n...</td>\n",
       "      <td>INRIA, Univ  des Sci  et Technol  de Lille, Vi...</td>\n",
       "      <td>['Waignier, G', ' Le Meur, A', 'F', ' Duchien,...</td>\n",
       "      <td>ECSA</td>\n",
       "      <td>FIESTA  a generic framework for integrating ne...</td>\n",
       "      <td>['formal specification', 'software architectur...</td>\n",
       "      <td>2007</td>\n",
       "    </tr>\n",
       "    <tr>\n",
       "      <th>3</th>\n",
       "      <td>4</td>\n",
       "      <td>Ageless software evolves, to meet new requirem...</td>\n",
       "      <td>Sch  of Comput  Sci , Univ  of Adelaide, Adela...</td>\n",
       "      <td>['Falkner, K', ' Balasubramaniam, D', ' Detmol...</td>\n",
       "      <td>ECSA</td>\n",
       "      <td>Informed evolution</td>\n",
       "      <td>['software architecture', 'software prototypin...</td>\n",
       "      <td>2007</td>\n",
       "    </tr>\n",
       "    <tr>\n",
       "      <th>4</th>\n",
       "      <td>5</td>\n",
       "      <td>The past 20 years has seen significant investm...</td>\n",
       "      <td>Software Group, IBM, Raleigh, NC, United States</td>\n",
       "      <td>['Brown, A W', ' McDermid, J A']</td>\n",
       "      <td>ECSA</td>\n",
       "      <td>The art and science of software architecture</td>\n",
       "      <td>['safety-critical software', 'software archite...</td>\n",
       "      <td>2007</td>\n",
       "    </tr>\n",
       "  </tbody>\n",
       "</table>\n",
       "</div>"
      ],
      "text/plain": [
       "   ID                                           Abstract  \\\n",
       "0   1  Empirical software engineering focuses on the ...   \n",
       "1   2  Software architecture description languages al...   \n",
       "2   3  When an application must evolve to cope with n...   \n",
       "3   4  Ageless software evolves, to meet new requirem...   \n",
       "4   5  The past 20 years has seen significant investm...   \n",
       "\n",
       "                                  Author affiliation  \\\n",
       "0                   DISP, Univ  of Rome, Rome, Italy   \n",
       "1                        LSTS   ENIT, Tunis, Tunisia   \n",
       "2  INRIA, Univ  des Sci  et Technol  de Lille, Vi...   \n",
       "3  Sch  of Comput  Sci , Univ  of Adelaide, Adela...   \n",
       "4    Software Group, IBM, Raleigh, NC, United States   \n",
       "\n",
       "                                             Authors  Conf  \\\n",
       "0      ['Falessi, D', ' Kruchten, P', ' Cantone, G']  ECSA   \n",
       "1   ['Jerad, C', ' Barkaoui, K', ' Grissa Touzi, A']  ECSA   \n",
       "2  ['Waignier, G', ' Le Meur, A', 'F', ' Duchien,...  ECSA   \n",
       "3  ['Falkner, K', ' Balasubramaniam, D', ' Detmol...  ECSA   \n",
       "4                   ['Brown, A W', ' McDermid, J A']  ECSA   \n",
       "\n",
       "                                               Title  \\\n",
       "0  Issues in applying empirical software engineer...   \n",
       "1  Hierarchical verification in Maude of LfP soft...   \n",
       "2  FIESTA  a generic framework for integrating ne...   \n",
       "3                                 Informed evolution   \n",
       "4       The art and science of software architecture   \n",
       "\n",
       "                                               terms  year  \n",
       "0  ['software architecture', 'software quality', ...  2007  \n",
       "1  ['formal verification', 'rewriting systems', '...  2007  \n",
       "2  ['formal specification', 'software architectur...  2007  \n",
       "3  ['software architecture', 'software prototypin...  2007  \n",
       "4  ['safety-critical software', 'software archite...  2007  "
      ]
     },
     "execution_count": 35,
     "metadata": {},
     "output_type": "execute_result"
    }
   ],
   "source": [
    "absDF = cmd.createTOTALTable(rowtotal)\n",
    "\n",
    "x = list(absDF.columns)\n",
    "absDF.head()"
   ]
  },
  {
   "cell_type": "code",
   "execution_count": 36,
   "metadata": {
    "collapsed": false
   },
   "outputs": [
    {
     "name": "stdout",
     "output_type": "stream",
     "text": [
      "['ID', 'Abstract', 'Author affiliation', 'Authors', 'Conf', 'Title', 'terms', 'year']\n",
      "['software architecture', 'software quality', 'empirical software engineering', 'software architecture', 'software economics', 'software quality', 'Software engineering techniques', 'Software management']\n"
     ]
    }
   ],
   "source": [
    "print list(absDF.columns)\n",
    "print absDF.terms.iloc[0]"
   ]
  },
  {
   "cell_type": "markdown",
   "metadata": {},
   "source": [
    "# **Add CONFERENCES TABLE**"
   ]
  },
  {
   "cell_type": "code",
   "execution_count": 37,
   "metadata": {
    "collapsed": false
   },
   "outputs": [
    {
     "name": "stdout",
     "output_type": "stream",
     "text": [
      "Opened Abstracts_DB.db database successfully\n",
      "Entry ECSA added\n",
      "Entry QoSA added\n",
      "Entry WICSA added\n",
      "Records created successfully\n"
     ]
    },
    {
     "data": {
      "text/html": [
       "<div>\n",
       "<table border=\"1\" class=\"dataframe\">\n",
       "  <thead>\n",
       "    <tr style=\"text-align: right;\">\n",
       "      <th></th>\n",
       "      <th>confID</th>\n",
       "      <th>confName</th>\n",
       "    </tr>\n",
       "  </thead>\n",
       "  <tbody>\n",
       "    <tr>\n",
       "      <th>0</th>\n",
       "      <td>1</td>\n",
       "      <td>ECSA</td>\n",
       "    </tr>\n",
       "    <tr>\n",
       "      <th>1</th>\n",
       "      <td>2</td>\n",
       "      <td>QoSA</td>\n",
       "    </tr>\n",
       "    <tr>\n",
       "      <th>2</th>\n",
       "      <td>3</td>\n",
       "      <td>WICSA</td>\n",
       "    </tr>\n",
       "  </tbody>\n",
       "</table>\n",
       "</div>"
      ],
      "text/plain": [
       "   confID confName\n",
       "0       1     ECSA\n",
       "1       2     QoSA\n",
       "2       3    WICSA"
      ]
     },
     "execution_count": 37,
     "metadata": {},
     "output_type": "execute_result"
    }
   ],
   "source": [
    "confnames = list(absDF.Conf.unique())\n",
    "dfConf = cmd.createConfTable(confnames)\n",
    "dfConf"
   ]
  },
  {
   "cell_type": "markdown",
   "metadata": {
    "collapsed": false
   },
   "source": [
    "# ADD PUBLICATIONS TABLE"
   ]
  },
  {
   "cell_type": "code",
   "execution_count": 38,
   "metadata": {
    "collapsed": false
   },
   "outputs": [
    {
     "name": "stdout",
     "output_type": "stream",
     "text": [
      "Opened Abstracts_DB.db database successfully\n",
      "table dropped\n",
      "Created PUBLICATIONS table\n",
      "Records created successfully\n"
     ]
    },
    {
     "data": {
      "text/html": [
       "<div>\n",
       "<table border=\"1\" class=\"dataframe\">\n",
       "  <thead>\n",
       "    <tr style=\"text-align: right;\">\n",
       "      <th></th>\n",
       "      <th>pubID</th>\n",
       "      <th>year</th>\n",
       "      <th>confName</th>\n",
       "    </tr>\n",
       "  </thead>\n",
       "  <tbody>\n",
       "  </tbody>\n",
       "</table>\n",
       "</div>"
      ],
      "text/plain": [
       "Empty DataFrame\n",
       "Columns: [pubID, year, confName]\n",
       "Index: []"
      ]
     },
     "execution_count": 38,
     "metadata": {},
     "output_type": "execute_result"
    }
   ],
   "source": [
    "dfpubs = cmd.createPublicationsTable([])\n",
    "dfpubs"
   ]
  },
  {
   "cell_type": "markdown",
   "metadata": {},
   "source": [
    "## we can add from the result of groupby on ABTRACTS TOTAL \n",
    "### NEED TO CHECK QoSA2008.txt  WICSA1999.txt  WICSA2001.txt WICSA2002.txt  WICSA2007.txt\n",
    "### THese are all failing."
   ]
  },
  {
   "cell_type": "code",
   "execution_count": 39,
   "metadata": {
    "collapsed": false
   },
   "outputs": [
    {
     "data": {
      "text/plain": [
       "[(u'ECSA', 2007),\n",
       " (u'ECSA', 2008),\n",
       " (u'ECSA', 2009),\n",
       " (u'ECSA', 2010),\n",
       " (u'ECSA', 2011),\n",
       " (u'ECSA', 2012),\n",
       " (u'ECSA', 2013),\n",
       " (u'ECSA', 2014),\n",
       " (u'QoSA', 2005),\n",
       " (u'QoSA', 2006),\n",
       " (u'QoSA', 2007),\n",
       " (u'QoSA', 2009),\n",
       " (u'QoSA', 2010),\n",
       " (u'QoSA', 2011),\n",
       " (u'QoSA', 2012),\n",
       " (u'QoSA', 2013),\n",
       " (u'QoSA', 2014),\n",
       " (u'WICSA', 2004),\n",
       " (u'WICSA', 2005),\n",
       " (u'WICSA', 2008),\n",
       " (u'WICSA', 2009),\n",
       " (u'WICSA', 2011),\n",
       " (u'WICSA', 2012),\n",
       " (u'WICSA', 2014)]"
      ]
     },
     "execution_count": 39,
     "metadata": {},
     "output_type": "execute_result"
    }
   ],
   "source": [
    "groupConfYr = absDF.groupby(['Conf', 'year']).count()\n",
    "confYear = list(groupConfYr.index.get_values())\n",
    "confYear"
   ]
  },
  {
   "cell_type": "code",
   "execution_count": 40,
   "metadata": {
    "collapsed": false,
    "scrolled": true
   },
   "outputs": [
    {
     "name": "stdout",
     "output_type": "stream",
     "text": [
      "Opened Abstracts_DB.db database successfully\n",
      "table dropped\n",
      "Created PUBLICATIONS table\n",
      "Records created successfully\n"
     ]
    },
    {
     "data": {
      "text/html": [
       "<div>\n",
       "<table border=\"1\" class=\"dataframe\">\n",
       "  <thead>\n",
       "    <tr style=\"text-align: right;\">\n",
       "      <th></th>\n",
       "      <th>pubID</th>\n",
       "      <th>year</th>\n",
       "      <th>confName</th>\n",
       "    </tr>\n",
       "  </thead>\n",
       "  <tbody>\n",
       "    <tr>\n",
       "      <th>0</th>\n",
       "      <td>1</td>\n",
       "      <td>2007</td>\n",
       "      <td>ECSA</td>\n",
       "    </tr>\n",
       "    <tr>\n",
       "      <th>1</th>\n",
       "      <td>2</td>\n",
       "      <td>2008</td>\n",
       "      <td>ECSA</td>\n",
       "    </tr>\n",
       "    <tr>\n",
       "      <th>2</th>\n",
       "      <td>3</td>\n",
       "      <td>2009</td>\n",
       "      <td>ECSA</td>\n",
       "    </tr>\n",
       "    <tr>\n",
       "      <th>3</th>\n",
       "      <td>4</td>\n",
       "      <td>2010</td>\n",
       "      <td>ECSA</td>\n",
       "    </tr>\n",
       "    <tr>\n",
       "      <th>4</th>\n",
       "      <td>5</td>\n",
       "      <td>2011</td>\n",
       "      <td>ECSA</td>\n",
       "    </tr>\n",
       "    <tr>\n",
       "      <th>5</th>\n",
       "      <td>6</td>\n",
       "      <td>2012</td>\n",
       "      <td>ECSA</td>\n",
       "    </tr>\n",
       "    <tr>\n",
       "      <th>6</th>\n",
       "      <td>7</td>\n",
       "      <td>2013</td>\n",
       "      <td>ECSA</td>\n",
       "    </tr>\n",
       "    <tr>\n",
       "      <th>7</th>\n",
       "      <td>8</td>\n",
       "      <td>2014</td>\n",
       "      <td>ECSA</td>\n",
       "    </tr>\n",
       "    <tr>\n",
       "      <th>8</th>\n",
       "      <td>9</td>\n",
       "      <td>2005</td>\n",
       "      <td>QoSA</td>\n",
       "    </tr>\n",
       "    <tr>\n",
       "      <th>9</th>\n",
       "      <td>10</td>\n",
       "      <td>2006</td>\n",
       "      <td>QoSA</td>\n",
       "    </tr>\n",
       "    <tr>\n",
       "      <th>10</th>\n",
       "      <td>11</td>\n",
       "      <td>2007</td>\n",
       "      <td>QoSA</td>\n",
       "    </tr>\n",
       "    <tr>\n",
       "      <th>11</th>\n",
       "      <td>12</td>\n",
       "      <td>2009</td>\n",
       "      <td>QoSA</td>\n",
       "    </tr>\n",
       "    <tr>\n",
       "      <th>12</th>\n",
       "      <td>13</td>\n",
       "      <td>2010</td>\n",
       "      <td>QoSA</td>\n",
       "    </tr>\n",
       "    <tr>\n",
       "      <th>13</th>\n",
       "      <td>14</td>\n",
       "      <td>2011</td>\n",
       "      <td>QoSA</td>\n",
       "    </tr>\n",
       "    <tr>\n",
       "      <th>14</th>\n",
       "      <td>15</td>\n",
       "      <td>2012</td>\n",
       "      <td>QoSA</td>\n",
       "    </tr>\n",
       "    <tr>\n",
       "      <th>15</th>\n",
       "      <td>16</td>\n",
       "      <td>2013</td>\n",
       "      <td>QoSA</td>\n",
       "    </tr>\n",
       "    <tr>\n",
       "      <th>16</th>\n",
       "      <td>17</td>\n",
       "      <td>2014</td>\n",
       "      <td>QoSA</td>\n",
       "    </tr>\n",
       "    <tr>\n",
       "      <th>17</th>\n",
       "      <td>18</td>\n",
       "      <td>2004</td>\n",
       "      <td>WICSA</td>\n",
       "    </tr>\n",
       "    <tr>\n",
       "      <th>18</th>\n",
       "      <td>19</td>\n",
       "      <td>2005</td>\n",
       "      <td>WICSA</td>\n",
       "    </tr>\n",
       "    <tr>\n",
       "      <th>19</th>\n",
       "      <td>20</td>\n",
       "      <td>2008</td>\n",
       "      <td>WICSA</td>\n",
       "    </tr>\n",
       "    <tr>\n",
       "      <th>20</th>\n",
       "      <td>21</td>\n",
       "      <td>2009</td>\n",
       "      <td>WICSA</td>\n",
       "    </tr>\n",
       "    <tr>\n",
       "      <th>21</th>\n",
       "      <td>22</td>\n",
       "      <td>2011</td>\n",
       "      <td>WICSA</td>\n",
       "    </tr>\n",
       "    <tr>\n",
       "      <th>22</th>\n",
       "      <td>23</td>\n",
       "      <td>2012</td>\n",
       "      <td>WICSA</td>\n",
       "    </tr>\n",
       "    <tr>\n",
       "      <th>23</th>\n",
       "      <td>24</td>\n",
       "      <td>2014</td>\n",
       "      <td>WICSA</td>\n",
       "    </tr>\n",
       "  </tbody>\n",
       "</table>\n",
       "</div>"
      ],
      "text/plain": [
       "    pubID  year confName\n",
       "0       1  2007     ECSA\n",
       "1       2  2008     ECSA\n",
       "2       3  2009     ECSA\n",
       "3       4  2010     ECSA\n",
       "4       5  2011     ECSA\n",
       "5       6  2012     ECSA\n",
       "6       7  2013     ECSA\n",
       "7       8  2014     ECSA\n",
       "8       9  2005     QoSA\n",
       "9      10  2006     QoSA\n",
       "10     11  2007     QoSA\n",
       "11     12  2009     QoSA\n",
       "12     13  2010     QoSA\n",
       "13     14  2011     QoSA\n",
       "14     15  2012     QoSA\n",
       "15     16  2013     QoSA\n",
       "16     17  2014     QoSA\n",
       "17     18  2004    WICSA\n",
       "18     19  2005    WICSA\n",
       "19     20  2008    WICSA\n",
       "20     21  2009    WICSA\n",
       "21     22  2011    WICSA\n",
       "22     23  2012    WICSA\n",
       "23     24  2014    WICSA"
      ]
     },
     "execution_count": 40,
     "metadata": {},
     "output_type": "execute_result"
    }
   ],
   "source": [
    "dfpubs = cmd.createPublicationsTable(confYear)\n",
    "dfpubs"
   ]
  },
  {
   "cell_type": "markdown",
   "metadata": {},
   "source": [
    "# Simple queries\n",
    "- Conferences and Databases\n",
    " - describe()"
   ]
  },
  {
   "cell_type": "code",
   "execution_count": 41,
   "metadata": {
    "collapsed": false
   },
   "outputs": [
    {
     "data": {
      "text/html": [
       "<div>\n",
       "<table border=\"1\" class=\"dataframe\">\n",
       "  <thead>\n",
       "    <tr style=\"text-align: right;\">\n",
       "      <th></th>\n",
       "      <th>pubID</th>\n",
       "      <th>year</th>\n",
       "      <th>confName</th>\n",
       "    </tr>\n",
       "  </thead>\n",
       "  <tbody>\n",
       "    <tr>\n",
       "      <th>2</th>\n",
       "      <td>3</td>\n",
       "      <td>2009</td>\n",
       "      <td>ECSA</td>\n",
       "    </tr>\n",
       "  </tbody>\n",
       "</table>\n",
       "</div>"
      ],
      "text/plain": [
       "   pubID  year confName\n",
       "2      3  2009     ECSA"
      ]
     },
     "execution_count": 41,
     "metadata": {},
     "output_type": "execute_result"
    }
   ],
   "source": [
    "dfpubs.query('year == 2009').query('pubID == 3')"
   ]
  },
  {
   "cell_type": "code",
   "execution_count": 42,
   "metadata": {
    "collapsed": false
   },
   "outputs": [
    {
     "name": "stdout",
     "output_type": "stream",
     "text": [
      "(3, 2)\n"
     ]
    },
    {
     "data": {
      "text/html": [
       "<div>\n",
       "<table border=\"1\" class=\"dataframe\">\n",
       "  <thead>\n",
       "    <tr style=\"text-align: right;\">\n",
       "      <th></th>\n",
       "      <th>confID</th>\n",
       "      <th>confName</th>\n",
       "      <th>pubID</th>\n",
       "      <th>year</th>\n",
       "    </tr>\n",
       "  </thead>\n",
       "  <tbody>\n",
       "    <tr>\n",
       "      <th>0</th>\n",
       "      <td>1</td>\n",
       "      <td>ECSA</td>\n",
       "      <td>1</td>\n",
       "      <td>2007</td>\n",
       "    </tr>\n",
       "    <tr>\n",
       "      <th>1</th>\n",
       "      <td>1</td>\n",
       "      <td>ECSA</td>\n",
       "      <td>2</td>\n",
       "      <td>2008</td>\n",
       "    </tr>\n",
       "    <tr>\n",
       "      <th>2</th>\n",
       "      <td>1</td>\n",
       "      <td>ECSA</td>\n",
       "      <td>3</td>\n",
       "      <td>2009</td>\n",
       "    </tr>\n",
       "    <tr>\n",
       "      <th>3</th>\n",
       "      <td>1</td>\n",
       "      <td>ECSA</td>\n",
       "      <td>4</td>\n",
       "      <td>2010</td>\n",
       "    </tr>\n",
       "    <tr>\n",
       "      <th>4</th>\n",
       "      <td>1</td>\n",
       "      <td>ECSA</td>\n",
       "      <td>5</td>\n",
       "      <td>2011</td>\n",
       "    </tr>\n",
       "    <tr>\n",
       "      <th>5</th>\n",
       "      <td>1</td>\n",
       "      <td>ECSA</td>\n",
       "      <td>6</td>\n",
       "      <td>2012</td>\n",
       "    </tr>\n",
       "    <tr>\n",
       "      <th>6</th>\n",
       "      <td>1</td>\n",
       "      <td>ECSA</td>\n",
       "      <td>7</td>\n",
       "      <td>2013</td>\n",
       "    </tr>\n",
       "    <tr>\n",
       "      <th>7</th>\n",
       "      <td>1</td>\n",
       "      <td>ECSA</td>\n",
       "      <td>8</td>\n",
       "      <td>2014</td>\n",
       "    </tr>\n",
       "    <tr>\n",
       "      <th>8</th>\n",
       "      <td>2</td>\n",
       "      <td>QoSA</td>\n",
       "      <td>9</td>\n",
       "      <td>2005</td>\n",
       "    </tr>\n",
       "    <tr>\n",
       "      <th>9</th>\n",
       "      <td>2</td>\n",
       "      <td>QoSA</td>\n",
       "      <td>10</td>\n",
       "      <td>2006</td>\n",
       "    </tr>\n",
       "    <tr>\n",
       "      <th>10</th>\n",
       "      <td>2</td>\n",
       "      <td>QoSA</td>\n",
       "      <td>11</td>\n",
       "      <td>2007</td>\n",
       "    </tr>\n",
       "    <tr>\n",
       "      <th>11</th>\n",
       "      <td>2</td>\n",
       "      <td>QoSA</td>\n",
       "      <td>12</td>\n",
       "      <td>2009</td>\n",
       "    </tr>\n",
       "    <tr>\n",
       "      <th>12</th>\n",
       "      <td>2</td>\n",
       "      <td>QoSA</td>\n",
       "      <td>13</td>\n",
       "      <td>2010</td>\n",
       "    </tr>\n",
       "    <tr>\n",
       "      <th>13</th>\n",
       "      <td>2</td>\n",
       "      <td>QoSA</td>\n",
       "      <td>14</td>\n",
       "      <td>2011</td>\n",
       "    </tr>\n",
       "    <tr>\n",
       "      <th>14</th>\n",
       "      <td>2</td>\n",
       "      <td>QoSA</td>\n",
       "      <td>15</td>\n",
       "      <td>2012</td>\n",
       "    </tr>\n",
       "    <tr>\n",
       "      <th>15</th>\n",
       "      <td>2</td>\n",
       "      <td>QoSA</td>\n",
       "      <td>16</td>\n",
       "      <td>2013</td>\n",
       "    </tr>\n",
       "    <tr>\n",
       "      <th>16</th>\n",
       "      <td>2</td>\n",
       "      <td>QoSA</td>\n",
       "      <td>17</td>\n",
       "      <td>2014</td>\n",
       "    </tr>\n",
       "    <tr>\n",
       "      <th>17</th>\n",
       "      <td>3</td>\n",
       "      <td>WICSA</td>\n",
       "      <td>18</td>\n",
       "      <td>2004</td>\n",
       "    </tr>\n",
       "    <tr>\n",
       "      <th>18</th>\n",
       "      <td>3</td>\n",
       "      <td>WICSA</td>\n",
       "      <td>19</td>\n",
       "      <td>2005</td>\n",
       "    </tr>\n",
       "    <tr>\n",
       "      <th>19</th>\n",
       "      <td>3</td>\n",
       "      <td>WICSA</td>\n",
       "      <td>20</td>\n",
       "      <td>2008</td>\n",
       "    </tr>\n",
       "    <tr>\n",
       "      <th>20</th>\n",
       "      <td>3</td>\n",
       "      <td>WICSA</td>\n",
       "      <td>21</td>\n",
       "      <td>2009</td>\n",
       "    </tr>\n",
       "    <tr>\n",
       "      <th>21</th>\n",
       "      <td>3</td>\n",
       "      <td>WICSA</td>\n",
       "      <td>22</td>\n",
       "      <td>2011</td>\n",
       "    </tr>\n",
       "    <tr>\n",
       "      <th>22</th>\n",
       "      <td>3</td>\n",
       "      <td>WICSA</td>\n",
       "      <td>23</td>\n",
       "      <td>2012</td>\n",
       "    </tr>\n",
       "    <tr>\n",
       "      <th>23</th>\n",
       "      <td>3</td>\n",
       "      <td>WICSA</td>\n",
       "      <td>24</td>\n",
       "      <td>2014</td>\n",
       "    </tr>\n",
       "  </tbody>\n",
       "</table>\n",
       "</div>"
      ],
      "text/plain": [
       "    confID confName  pubID  year\n",
       "0        1     ECSA      1  2007\n",
       "1        1     ECSA      2  2008\n",
       "2        1     ECSA      3  2009\n",
       "3        1     ECSA      4  2010\n",
       "4        1     ECSA      5  2011\n",
       "5        1     ECSA      6  2012\n",
       "6        1     ECSA      7  2013\n",
       "7        1     ECSA      8  2014\n",
       "8        2     QoSA      9  2005\n",
       "9        2     QoSA     10  2006\n",
       "10       2     QoSA     11  2007\n",
       "11       2     QoSA     12  2009\n",
       "12       2     QoSA     13  2010\n",
       "13       2     QoSA     14  2011\n",
       "14       2     QoSA     15  2012\n",
       "15       2     QoSA     16  2013\n",
       "16       2     QoSA     17  2014\n",
       "17       3    WICSA     18  2004\n",
       "18       3    WICSA     19  2005\n",
       "19       3    WICSA     20  2008\n",
       "20       3    WICSA     21  2009\n",
       "21       3    WICSA     22  2011\n",
       "22       3    WICSA     23  2012\n",
       "23       3    WICSA     24  2014"
      ]
     },
     "execution_count": 42,
     "metadata": {},
     "output_type": "execute_result"
    }
   ],
   "source": [
    "dfConf = cmd.sqlCMDToPD('CONFERENCES')\n",
    "dfConf.merge(dfpubs, on = 'confName')"
   ]
  },
  {
   "cell_type": "markdown",
   "metadata": {},
   "source": [
    "# Trying to create an Abstracts table with little success"
   ]
  },
  {
   "cell_type": "code",
   "execution_count": 43,
   "metadata": {
    "collapsed": false
   },
   "outputs": [
    {
     "name": "stdout",
     "output_type": "stream",
     "text": [
      "Opened Abstracts_DB.db database successfully\n",
      "table dropped\n",
      "Created ABSTRACTS table\n",
      "Records created successfully\n"
     ]
    },
    {
     "data": {
      "text/html": [
       "<div>\n",
       "<table border=\"1\" class=\"dataframe\">\n",
       "  <thead>\n",
       "    <tr style=\"text-align: right;\">\n",
       "      <th></th>\n",
       "      <th>pubID</th>\n",
       "      <th>pubYear</th>\n",
       "      <th>conf</th>\n",
       "      <th>abstract</th>\n",
       "      <th>title</th>\n",
       "    </tr>\n",
       "  </thead>\n",
       "  <tbody>\n",
       "    <tr>\n",
       "      <th>1425</th>\n",
       "      <td>1426</td>\n",
       "      <td>2014</td>\n",
       "      <td>WICSA</td>\n",
       "      <td>Security is a fundamental concern in clouds an...</td>\n",
       "      <td>A Security Reference Architecture for cloud sy...</td>\n",
       "    </tr>\n",
       "    <tr>\n",
       "      <th>1426</th>\n",
       "      <td>1427</td>\n",
       "      <td>2014</td>\n",
       "      <td>WICSA</td>\n",
       "      <td>Reference architectures have emerged as a spec...</td>\n",
       "      <td>Variability viewpoint to describe reference ar...</td>\n",
       "    </tr>\n",
       "    <tr>\n",
       "      <th>1427</th>\n",
       "      <td>1428</td>\n",
       "      <td>2014</td>\n",
       "      <td>WICSA</td>\n",
       "      <td>The architecture of a software system plays a ...</td>\n",
       "      <td>Empirical evaluation of the understandability ...</td>\n",
       "    </tr>\n",
       "    <tr>\n",
       "      <th>1428</th>\n",
       "      <td>1429</td>\n",
       "      <td>2014</td>\n",
       "      <td>WICSA</td>\n",
       "      <td>Global Software Development  GSD  teams encoun...</td>\n",
       "      <td>A reference architecture for providing tools a...</td>\n",
       "    </tr>\n",
       "    <tr>\n",
       "      <th>1429</th>\n",
       "      <td>1430</td>\n",
       "      <td>2014</td>\n",
       "      <td>WICSA</td>\n",
       "      <td>Software architectures and their representatio...</td>\n",
       "      <td>Towards quantitative metrics for architecture ...</td>\n",
       "    </tr>\n",
       "  </tbody>\n",
       "</table>\n",
       "</div>"
      ],
      "text/plain": [
       "      pubID  pubYear   conf  \\\n",
       "1425   1426     2014  WICSA   \n",
       "1426   1427     2014  WICSA   \n",
       "1427   1428     2014  WICSA   \n",
       "1428   1429     2014  WICSA   \n",
       "1429   1430     2014  WICSA   \n",
       "\n",
       "                                               abstract  \\\n",
       "1425  Security is a fundamental concern in clouds an...   \n",
       "1426  Reference architectures have emerged as a spec...   \n",
       "1427  The architecture of a software system plays a ...   \n",
       "1428  Global Software Development  GSD  teams encoun...   \n",
       "1429  Software architectures and their representatio...   \n",
       "\n",
       "                                                  title  \n",
       "1425  A Security Reference Architecture for cloud sy...  \n",
       "1426  Variability viewpoint to describe reference ar...  \n",
       "1427  Empirical evaluation of the understandability ...  \n",
       "1428  A reference architecture for providing tools a...  \n",
       "1429  Towards quantitative metrics for architecture ...  "
      ]
     },
     "execution_count": 43,
     "metadata": {},
     "output_type": "execute_result"
    }
   ],
   "source": [
    "abTDF = cmd.createAbstractsTable(absDF.as_matrix())\n",
    "abTDF.tail()"
   ]
  },
  {
   "cell_type": "markdown",
   "metadata": {},
   "source": [
    "# Create a Terms/keywords Table\n",
    "## WAY SMALLER NOW ; ("
   ]
  },
  {
   "cell_type": "code",
   "execution_count": 44,
   "metadata": {
    "collapsed": true
   },
   "outputs": [],
   "source": [
    "import terms as term\n",
    "term = reload(term)"
   ]
  },
  {
   "cell_type": "code",
   "execution_count": 45,
   "metadata": {
    "collapsed": false
   },
   "outputs": [
    {
     "data": {
      "text/plain": [
       "7879"
      ]
     },
     "execution_count": 45,
     "metadata": {},
     "output_type": "execute_result"
    }
   ],
   "source": [
    "setTotal = term.findTermSet(absDF)\n",
    "len(setTotal)"
   ]
  },
  {
   "cell_type": "code",
   "execution_count": 46,
   "metadata": {
    "collapsed": false
   },
   "outputs": [
    {
     "name": "stdout",
     "output_type": "stream",
     "text": [
      "Opened Abstracts_DB.db database successfully\n",
      "Records created successfully\n"
     ]
    }
   ],
   "source": [
    "termDF = cmd.createKEYSTable(setTotal[1:])"
   ]
  },
  {
   "cell_type": "code",
   "execution_count": 47,
   "metadata": {
    "collapsed": false
   },
   "outputs": [
    {
     "data": {
      "text/html": [
       "<div>\n",
       "<table border=\"1\" class=\"dataframe\">\n",
       "  <thead>\n",
       "    <tr style=\"text-align: right;\">\n",
       "      <th></th>\n",
       "      <th>keyID</th>\n",
       "      <th>keyword</th>\n",
       "    </tr>\n",
       "  </thead>\n",
       "  <tbody>\n",
       "    <tr>\n",
       "      <th>0</th>\n",
       "      <td>1</td>\n",
       "      <td>aspectual concept</td>\n",
       "    </tr>\n",
       "    <tr>\n",
       "      <th>1</th>\n",
       "      <td>2</td>\n",
       "      <td>Discrete time</td>\n",
       "    </tr>\n",
       "    <tr>\n",
       "      <th>2</th>\n",
       "      <td>3</td>\n",
       "      <td>Polyacrylonitriles</td>\n",
       "    </tr>\n",
       "    <tr>\n",
       "      <th>3</th>\n",
       "      <td>4</td>\n",
       "      <td>Tacit knowledge</td>\n",
       "    </tr>\n",
       "    <tr>\n",
       "      <th>4</th>\n",
       "      <td>5</td>\n",
       "      <td>microphytobenthos)</td>\n",
       "    </tr>\n",
       "    <tr>\n",
       "      <th>5</th>\n",
       "      <td>6</td>\n",
       "      <td>centered around the Spectrum Access System (SA...</td>\n",
       "    </tr>\n",
       "    <tr>\n",
       "      <th>6</th>\n",
       "      <td>7</td>\n",
       "      <td>Radiation Measuring Instruments</td>\n",
       "    </tr>\n",
       "    <tr>\n",
       "      <th>7</th>\n",
       "      <td>8</td>\n",
       "      <td>advanced communication technology</td>\n",
       "    </tr>\n",
       "    <tr>\n",
       "      <th>8</th>\n",
       "      <td>9</td>\n",
       "      <td>Automotive companies</td>\n",
       "    </tr>\n",
       "    <tr>\n",
       "      <th>9</th>\n",
       "      <td>10</td>\n",
       "      <td>Information recovery</td>\n",
       "    </tr>\n",
       "    <tr>\n",
       "      <th>10</th>\n",
       "      <td>11</td>\n",
       "      <td>Anecdotal evidences</td>\n",
       "    </tr>\n",
       "    <tr>\n",
       "      <th>11</th>\n",
       "      <td>12</td>\n",
       "      <td>software performance</td>\n",
       "    </tr>\n",
       "    <tr>\n",
       "      <th>12</th>\n",
       "      <td>13</td>\n",
       "      <td>system design</td>\n",
       "    </tr>\n",
       "    <tr>\n",
       "      <th>13</th>\n",
       "      <td>14</td>\n",
       "      <td>Auger spectroscopy</td>\n",
       "    </tr>\n",
       "    <tr>\n",
       "      <th>14</th>\n",
       "      <td>15</td>\n",
       "      <td>Manual coding</td>\n",
       "    </tr>\n",
       "    <tr>\n",
       "      <th>15</th>\n",
       "      <td>16</td>\n",
       "      <td>Electrochemically active surface area</td>\n",
       "    </tr>\n",
       "    <tr>\n",
       "      <th>16</th>\n",
       "      <td>17</td>\n",
       "      <td>Engine control systems</td>\n",
       "    </tr>\n",
       "    <tr>\n",
       "      <th>17</th>\n",
       "      <td>18</td>\n",
       "      <td>Automotive industry</td>\n",
       "    </tr>\n",
       "    <tr>\n",
       "      <th>18</th>\n",
       "      <td>19</td>\n",
       "      <td>NoSQL</td>\n",
       "    </tr>\n",
       "    <tr>\n",
       "      <th>19</th>\n",
       "      <td>20</td>\n",
       "      <td>Information models</td>\n",
       "    </tr>\n",
       "  </tbody>\n",
       "</table>\n",
       "</div>"
      ],
      "text/plain": [
       "    keyID                                            keyword\n",
       "0       1                                  aspectual concept\n",
       "1       2                                      Discrete time\n",
       "2       3                                 Polyacrylonitriles\n",
       "3       4                                    Tacit knowledge\n",
       "4       5                                 microphytobenthos)\n",
       "5       6  centered around the Spectrum Access System (SA...\n",
       "6       7                    Radiation Measuring Instruments\n",
       "7       8                  advanced communication technology\n",
       "8       9                               Automotive companies\n",
       "9      10                               Information recovery\n",
       "10     11                                Anecdotal evidences\n",
       "11     12                               software performance\n",
       "12     13                                      system design\n",
       "13     14                                 Auger spectroscopy\n",
       "14     15                                      Manual coding\n",
       "15     16              Electrochemically active surface area\n",
       "16     17                             Engine control systems\n",
       "17     18                                Automotive industry\n",
       "18     19                                              NoSQL\n",
       "19     20                                 Information models"
      ]
     },
     "execution_count": 47,
     "metadata": {},
     "output_type": "execute_result"
    }
   ],
   "source": [
    "termDF.head(20) #<~~~~ LOT OF ERRORS!"
   ]
  },
  {
   "cell_type": "code",
   "execution_count": 48,
   "metadata": {
    "collapsed": false
   },
   "outputs": [
    {
     "data": {
      "text/plain": [
       "keyID      7878\n",
       "keyword    7878\n",
       "dtype: int64"
      ]
     },
     "execution_count": 48,
     "metadata": {},
     "output_type": "execute_result"
    }
   ],
   "source": [
    "termDF.count()"
   ]
  },
  {
   "cell_type": "markdown",
   "metadata": {},
   "source": [
    "# Author Affiliation"
   ]
  },
  {
   "cell_type": "code",
   "execution_count": 49,
   "metadata": {
    "collapsed": false
   },
   "outputs": [
    {
     "data": {
      "text/plain": [
       "0                     DISP, Univ  of Rome, Rome, Italy\n",
       "1                          LSTS   ENIT, Tunis, Tunisia\n",
       "2    INRIA, Univ  des Sci  et Technol  de Lille, Vi...\n",
       "3    Sch  of Comput  Sci , Univ  of Adelaide, Adela...\n",
       "4      Software Group, IBM, Raleigh, NC, United States\n",
       "Name: Author affiliation, dtype: object"
      ]
     },
     "execution_count": 49,
     "metadata": {},
     "output_type": "execute_result"
    }
   ],
   "source": [
    "absDF['Author affiliation'].head()"
   ]
  },
  {
   "cell_type": "code",
   "execution_count": 50,
   "metadata": {
    "collapsed": false
   },
   "outputs": [
    {
     "data": {
      "text/plain": [
       "u'DISP, Univ  of Rome, Rome, Italy'"
      ]
     },
     "execution_count": 50,
     "metadata": {},
     "output_type": "execute_result"
    }
   ],
   "source": [
    "absDF.iloc[0]['Author affiliation']"
   ]
  },
  {
   "cell_type": "markdown",
   "metadata": {
    "collapsed": true
   },
   "source": [
    "# Authors"
   ]
  },
  {
   "cell_type": "code",
   "execution_count": 51,
   "metadata": {
    "collapsed": false
   },
   "outputs": [
    {
     "data": {
      "text/plain": [
       "0        ['Falessi, D', ' Kruchten, P', ' Cantone, G']\n",
       "1     ['Jerad, C', ' Barkaoui, K', ' Grissa Touzi, A']\n",
       "2    ['Waignier, G', ' Le Meur, A', 'F', ' Duchien,...\n",
       "3    ['Falkner, K', ' Balasubramaniam, D', ' Detmol...\n",
       "4                     ['Brown, A W', ' McDermid, J A']\n",
       "Name: Authors, dtype: object"
      ]
     },
     "execution_count": 51,
     "metadata": {},
     "output_type": "execute_result"
    }
   ],
   "source": [
    "absDF.Authors.head()"
   ]
  },
  {
   "cell_type": "code",
   "execution_count": 52,
   "metadata": {
    "collapsed": false
   },
   "outputs": [
    {
     "data": {
      "text/plain": [
       "u\"['Falessi, D', ' Kruchten, P', ' Cantone, G']\""
      ]
     },
     "execution_count": 52,
     "metadata": {},
     "output_type": "execute_result"
    }
   ],
   "source": [
    "absDF.iloc[0]['Authors']"
   ]
  },
  {
   "cell_type": "code",
   "execution_count": 53,
   "metadata": {
    "collapsed": false
   },
   "outputs": [
    {
     "name": "stdout",
     "output_type": "stream",
     "text": [
      "['software architecture', 'modular software architecture', 'software development', 'Software engineering techniques']\n",
      "['business data processing', 'middleware', 'mobile computing', 'mobile business processes', 'mobile information systems', 'middleware', 'self-mobilizing code paradigm', 'quality of service', 'Business and administrative computing', 'Business and professional IT applications']\n",
      "['artificial intelligence', 'software architecture', 'task analysis', 'ubiquitous computing', 'software architectures', 'task oriented computing', 'ubiquitous computing', 'artificial intelligence', 'software engineering', 'User interfaces', 'Distributed systems software', 'Expert systems and other AI software and techniques', 'Software engineering techniques']\n",
      "['pipeline processing', 'XML', 'Aqueducts', 'layered pipeline-based architecture', 'XML processing', 'semistructured data stream', 'pipe-filter style', 'Document processing techniques']\n",
      "['software architecture', 'software quality', 'architecture pattern', 'system-wide impact', 'system architecture', 'pattern usage', 'Software engineering techniques', 'Software management']\n",
      "['graphical user interfaces', 'adaptive user interfaces', 'self-adaptive context-aware systems', 'user-application interaction', 'GUI-based applications', 'Graphical user interfaces']\n",
      "nan\n",
      "nan\n",
      "['Computer aided design', 'Identification (control systems)', 'Measurement theory', 'Concern-driven measurement framework', 'Computer Programming', 'Computer Applications', 'Control Systems', 'Statistical Methods']\n",
      "['Graphic methods', 'Mathematical models', 'Publishing', 'Specifications', 'Architecture modeling', 'Formal specification', 'Style composition', 'Computer Programming', 'Computer Applications', 'Codes and Standards', 'Information Dissemination', 'Mathematics']\n",
      "['Adaptive systems', 'Human computer interaction', 'Software architecture', 'Software prototyping', 'Adaptive user interfaces', 'Research prototypes', 'Computer Peripheral Equipment', 'Computer Programming', 'Computer Applications', 'Control Systems']\n",
      "['Knowledge acquisition', 'Knowledge management', 'Architectural design decisions', 'Architectural knowledge sharing', 'Computer Programming', 'Artificial Intelligence', 'Computer Applications', 'Information Retrieval and Use']\n",
      "['Computational complexity', 'Computer software', 'Pattern recognition', 'Reliability', 'Architectural decisions', 'Complexity control', 'Substantially influence', 'System organization', 'Strength of Building Materials  Mechanical Properties', 'Telecommunication  Radar, Radio and Television', 'Computer Theory, Includes Formal Logic, Automata Theory, Switching Theory, Programming Theory', 'Computer Systems and Equipment', 'Computer Software, Data Handling and Applications']\n",
      "['Computer programming languages', 'Functional analysis', 'Mathematical models', 'Architecture description', 'Generic framework', 'Computer Programming', 'Computer Programming Languages', 'Computer Applications', 'Mathematics']\n",
      "['Computer aided software engineering', 'Computer software portability', 'Remote control', 'Robotics', 'Component based software architecture', 'Teleoperated robots', 'Computer Programming', 'Computer Applications', 'Control Systems', 'Robotics']\n"
     ]
    }
   ],
   "source": [
    "for term in absDF.iloc[15:30].terms:\n",
    "    print term"
   ]
  },
  {
   "cell_type": "code",
   "execution_count": null,
   "metadata": {
    "collapsed": true
   },
   "outputs": [],
   "source": []
  }
 ],
 "metadata": {
  "kernelspec": {
   "display_name": "Python 2",
   "language": "python",
   "name": "python2"
  },
  "language_info": {
   "codemirror_mode": {
    "name": "ipython",
    "version": 2
   },
   "file_extension": ".py",
   "mimetype": "text/x-python",
   "name": "python",
   "nbconvert_exporter": "python",
   "pygments_lexer": "ipython2",
   "version": "2.7.11"
  }
 },
 "nbformat": 4,
 "nbformat_minor": 0
}
