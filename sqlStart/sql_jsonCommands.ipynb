{
 "cells": [
  {
   "cell_type": "code",
   "execution_count": 1,
   "metadata": {
    "collapsed": true
   },
   "outputs": [],
   "source": [
    "import pandas as pd\n",
    "import sqlite3 as sql"
   ]
  },
  {
   "cell_type": "code",
   "execution_count": 2,
   "metadata": {
    "collapsed": true
   },
   "outputs": [],
   "source": [
    "mydb = 'Abstracts_aug4.db'"
   ]
  },
  {
   "cell_type": "code",
   "execution_count": 38,
   "metadata": {
    "collapsed": false
   },
   "outputs": [],
   "source": [
    "jsonFile = \"json4.json\""
   ]
  },
  {
   "cell_type": "code",
   "execution_count": 10,
   "metadata": {
    "collapsed": false
   },
   "outputs": [
    {
     "data": {
      "text/html": [
       "<div>\n",
       "<table border=\"1\" class=\"dataframe\">\n",
       "  <thead>\n",
       "    <tr style=\"text-align: right;\">\n",
       "      <th></th>\n",
       "      <th>Abstract</th>\n",
       "      <th>Author affiliation</th>\n",
       "      <th>Authors</th>\n",
       "      <th>Conf</th>\n",
       "      <th>Title</th>\n",
       "      <th>terms</th>\n",
       "      <th>year</th>\n",
       "    </tr>\n",
       "  </thead>\n",
       "  <tbody>\n",
       "    <tr>\n",
       "      <th>abstract</th>\n",
       "      <td>For real, i mean Rice Krispie Treat Cereal and...</td>\n",
       "      <td>Some Fancy Pants Nancy Place or My cereal bowl</td>\n",
       "      <td>mr brown, mr blue, mr mogatu</td>\n",
       "      <td>ECSA</td>\n",
       "      <td>Monty Python and the Holy Grail</td>\n",
       "      <td>one potato, two potato, three potato, four</td>\n",
       "      <td>2009</td>\n",
       "    </tr>\n",
       "  </tbody>\n",
       "</table>\n",
       "</div>"
      ],
      "text/plain": [
       "                                                   Abstract  \\\n",
       "abstract  For real, i mean Rice Krispie Treat Cereal and...   \n",
       "\n",
       "                                      Author affiliation  \\\n",
       "abstract  Some Fancy Pants Nancy Place or My cereal bowl   \n",
       "\n",
       "                               Authors  Conf                            Title  \\\n",
       "abstract  mr brown, mr blue, mr mogatu  ECSA  Monty Python and the Holy Grail   \n",
       "\n",
       "                                               terms  year  \n",
       "abstract  one potato, two potato, three potato, four  2009  "
      ]
     },
     "execution_count": 10,
     "metadata": {},
     "output_type": "execute_result"
    }
   ],
   "source": [
    "def jsonDF(jsonFile):\n",
    "    f = open(jsonFile, \"r+\")\n",
    "    return pd.read_json(f, orient='index')\n",
    "    "
   ]
  },
  {
   "cell_type": "code",
   "execution_count": 3,
   "metadata": {
    "collapsed": false
   },
   "outputs": [],
   "source": [
    "def getContents():\n",
    "    '''\n",
    "    : param NONE\n",
    "    : output : Returns a json dictionary of the table names, entry counts, and links to tables \n",
    "                of all table names in the database\n",
    "    ''' \n",
    "    with sql.connect(mydb) as con:\n",
    "    \n",
    "        cursor = con.cursor()\n",
    "        cursor.execute(\"SELECT name FROM sqlite_master WHERE type='table';\")\n",
    "        mytables = (cursor.fetchall())\n",
    "        myt = [t[0] for t in mytables]\n",
    "        \n",
    "        return myt\n",
    "            "
   ]
  },
  {
   "cell_type": "code",
   "execution_count": 4,
   "metadata": {
    "collapsed": false
   },
   "outputs": [
    {
     "data": {
      "text/plain": [
       "[u'sqlite_sequence',\n",
       " u'ABSTRACTSTOTAL',\n",
       " u'CONFERENCES',\n",
       " u'PUBLICATIONS',\n",
       " u'KEYS',\n",
       " u'AUTHORS',\n",
       " u'AFFILIATIONS',\n",
       " u'PAPER',\n",
       " u'PAPERKEY',\n",
       " u'AFFILIATIONPAPER',\n",
       " u'PAPERAUTHOR']"
      ]
     },
     "execution_count": 4,
     "metadata": {},
     "output_type": "execute_result"
    }
   ],
   "source": [
    "t = getContents()\n",
    "t"
   ]
  },
  {
   "cell_type": "code",
   "execution_count": 5,
   "metadata": {
    "collapsed": false
   },
   "outputs": [],
   "source": [
    "def sqlCMDToPD(table, \n",
    "               db):\n",
    "    '''Take a sql db and return as a readable pandas DataFrame\n",
    "       : param db : str. Name of db. (ie. 'Abstracts.db'\n",
    "       : param sqlcmd : str. Sqlite3 cmd to execute. \n",
    "               default: \"SELECT * FROM Abstracts\" \n",
    "                           > select all from Abstracts table\n",
    "    '''\n",
    "    \n",
    "    #connect to a db\n",
    "    with sql.connect(db) as con:\n",
    "        \n",
    "        #run command\n",
    "        sqlcmd = \"SELECT * FROM '%s'\" %table\n",
    "        df = pd.read_sql_query(sqlcmd, con)\n",
    "        \n",
    "        # Check resulting pandas DF shape\n",
    "        print df.shape\n",
    "        \n",
    "        return df\n"
   ]
  },
  {
   "cell_type": "code",
   "execution_count": 8,
   "metadata": {
    "collapsed": false
   },
   "outputs": [
    {
     "name": "stdout",
     "output_type": "stream",
     "text": [
      "(4, 2)\n",
      "(1141, 7)\n",
      "(1102, 8)\n",
      "(27, 3)\n",
      "(5557, 2)\n",
      "(1949, 2)\n",
      "(830, 2)\n",
      "(17436, 2)\n",
      "(1102, 2)\n",
      "(3432, 2)\n"
     ]
    },
    {
     "data": {
      "text/html": [
       "<div>\n",
       "<table border=\"1\" class=\"dataframe\">\n",
       "  <thead>\n",
       "    <tr style=\"text-align: right;\">\n",
       "      <th></th>\n",
       "      <th>pubID</th>\n",
       "      <th>year</th>\n",
       "      <th>confName</th>\n",
       "    </tr>\n",
       "  </thead>\n",
       "  <tbody>\n",
       "    <tr>\n",
       "      <th>0</th>\n",
       "      <td>1</td>\n",
       "      <td>2007</td>\n",
       "      <td>ECSA</td>\n",
       "    </tr>\n",
       "    <tr>\n",
       "      <th>1</th>\n",
       "      <td>2</td>\n",
       "      <td>2008</td>\n",
       "      <td>ECSA</td>\n",
       "    </tr>\n",
       "    <tr>\n",
       "      <th>2</th>\n",
       "      <td>3</td>\n",
       "      <td>2009</td>\n",
       "      <td>ECSA</td>\n",
       "    </tr>\n",
       "    <tr>\n",
       "      <th>3</th>\n",
       "      <td>4</td>\n",
       "      <td>2010</td>\n",
       "      <td>ECSA</td>\n",
       "    </tr>\n",
       "    <tr>\n",
       "      <th>4</th>\n",
       "      <td>5</td>\n",
       "      <td>2011</td>\n",
       "      <td>ECSA</td>\n",
       "    </tr>\n",
       "    <tr>\n",
       "      <th>5</th>\n",
       "      <td>6</td>\n",
       "      <td>2012</td>\n",
       "      <td>ECSA</td>\n",
       "    </tr>\n",
       "    <tr>\n",
       "      <th>6</th>\n",
       "      <td>7</td>\n",
       "      <td>2013</td>\n",
       "      <td>ECSA</td>\n",
       "    </tr>\n",
       "    <tr>\n",
       "      <th>7</th>\n",
       "      <td>8</td>\n",
       "      <td>2014</td>\n",
       "      <td>ECSA</td>\n",
       "    </tr>\n",
       "    <tr>\n",
       "      <th>8</th>\n",
       "      <td>9</td>\n",
       "      <td>2005</td>\n",
       "      <td>QoSA</td>\n",
       "    </tr>\n",
       "    <tr>\n",
       "      <th>9</th>\n",
       "      <td>10</td>\n",
       "      <td>2006</td>\n",
       "      <td>QoSA</td>\n",
       "    </tr>\n",
       "    <tr>\n",
       "      <th>10</th>\n",
       "      <td>11</td>\n",
       "      <td>2007</td>\n",
       "      <td>QoSA</td>\n",
       "    </tr>\n",
       "    <tr>\n",
       "      <th>11</th>\n",
       "      <td>12</td>\n",
       "      <td>2008</td>\n",
       "      <td>QoSA</td>\n",
       "    </tr>\n",
       "    <tr>\n",
       "      <th>12</th>\n",
       "      <td>13</td>\n",
       "      <td>2009</td>\n",
       "      <td>QoSA</td>\n",
       "    </tr>\n",
       "    <tr>\n",
       "      <th>13</th>\n",
       "      <td>14</td>\n",
       "      <td>2010</td>\n",
       "      <td>QoSA</td>\n",
       "    </tr>\n",
       "    <tr>\n",
       "      <th>14</th>\n",
       "      <td>15</td>\n",
       "      <td>2011</td>\n",
       "      <td>QoSA</td>\n",
       "    </tr>\n",
       "    <tr>\n",
       "      <th>15</th>\n",
       "      <td>16</td>\n",
       "      <td>2012</td>\n",
       "      <td>QoSA</td>\n",
       "    </tr>\n",
       "    <tr>\n",
       "      <th>16</th>\n",
       "      <td>17</td>\n",
       "      <td>2013</td>\n",
       "      <td>QoSA</td>\n",
       "    </tr>\n",
       "    <tr>\n",
       "      <th>17</th>\n",
       "      <td>18</td>\n",
       "      <td>2014</td>\n",
       "      <td>QoSA</td>\n",
       "    </tr>\n",
       "    <tr>\n",
       "      <th>18</th>\n",
       "      <td>19</td>\n",
       "      <td>1999</td>\n",
       "      <td>WICSA</td>\n",
       "    </tr>\n",
       "    <tr>\n",
       "      <th>19</th>\n",
       "      <td>20</td>\n",
       "      <td>2001</td>\n",
       "      <td>WICSA</td>\n",
       "    </tr>\n",
       "    <tr>\n",
       "      <th>20</th>\n",
       "      <td>21</td>\n",
       "      <td>2005</td>\n",
       "      <td>WICSA</td>\n",
       "    </tr>\n",
       "    <tr>\n",
       "      <th>21</th>\n",
       "      <td>22</td>\n",
       "      <td>2007</td>\n",
       "      <td>WICSA</td>\n",
       "    </tr>\n",
       "    <tr>\n",
       "      <th>22</th>\n",
       "      <td>23</td>\n",
       "      <td>2008</td>\n",
       "      <td>WICSA</td>\n",
       "    </tr>\n",
       "    <tr>\n",
       "      <th>23</th>\n",
       "      <td>24</td>\n",
       "      <td>2009</td>\n",
       "      <td>WICSA</td>\n",
       "    </tr>\n",
       "    <tr>\n",
       "      <th>24</th>\n",
       "      <td>25</td>\n",
       "      <td>2011</td>\n",
       "      <td>WICSA</td>\n",
       "    </tr>\n",
       "    <tr>\n",
       "      <th>25</th>\n",
       "      <td>26</td>\n",
       "      <td>2012</td>\n",
       "      <td>WICSA</td>\n",
       "    </tr>\n",
       "    <tr>\n",
       "      <th>26</th>\n",
       "      <td>27</td>\n",
       "      <td>2014</td>\n",
       "      <td>WICSA</td>\n",
       "    </tr>\n",
       "  </tbody>\n",
       "</table>\n",
       "</div>"
      ],
      "text/plain": [
       "    pubID  year confName\n",
       "0       1  2007     ECSA\n",
       "1       2  2008     ECSA\n",
       "2       3  2009     ECSA\n",
       "3       4  2010     ECSA\n",
       "4       5  2011     ECSA\n",
       "5       6  2012     ECSA\n",
       "6       7  2013     ECSA\n",
       "7       8  2014     ECSA\n",
       "8       9  2005     QoSA\n",
       "9      10  2006     QoSA\n",
       "10     11  2007     QoSA\n",
       "11     12  2008     QoSA\n",
       "12     13  2009     QoSA\n",
       "13     14  2010     QoSA\n",
       "14     15  2011     QoSA\n",
       "15     16  2012     QoSA\n",
       "16     17  2013     QoSA\n",
       "17     18  2014     QoSA\n",
       "18     19  1999    WICSA\n",
       "19     20  2001    WICSA\n",
       "20     21  2005    WICSA\n",
       "21     22  2007    WICSA\n",
       "22     23  2008    WICSA\n",
       "23     24  2009    WICSA\n",
       "24     25  2011    WICSA\n",
       "25     26  2012    WICSA\n",
       "26     27  2014    WICSA"
      ]
     },
     "execution_count": 8,
     "metadata": {},
     "output_type": "execute_result"
    }
   ],
   "source": [
    "c = sqlCMDToPD(\"CONFERENCES\", mydb)\n",
    "t = sqlCMDToPD(\"ABSTRACTSTOTAL\", mydb)\n",
    "pap = sqlCMDToPD(\"PAPER\", mydb)\n",
    "pub = sqlCMDToPD(\"PUBLICATIONS\", mydb)\n",
    "k = sqlCMDToPD(\"KEYS\", mydb)\n",
    "\n",
    "au = sqlCMDToPD(\"AUTHORS\", mydb)\n",
    "aff = sqlCMDToPD(\"AFFILIATIONS\", mydb)\n",
    "\n",
    "pk = sqlCMDToPD(\"PAPERKEY\", mydb)\n",
    "ap = sqlCMDToPD(\"AFFILIATIONPAPER\", mydb)\n",
    "pa = sqlCMDToPD(\"PAPERAUTHOR\", mydb)\n",
    "pub"
   ]
  },
  {
   "cell_type": "code",
   "execution_count": 92,
   "metadata": {
    "collapsed": false
   },
   "outputs": [],
   "source": [
    "def insert_toTable(db, df, table = 'ABSTRACTSTOTAL'):\n",
    "    '''Check to insert a new record into a database table, inserts if does not exist\n",
    "    param  db str : Database name to connect to\n",
    "    param df pandas dataframe : dataframe being inspected for entry\n",
    "    param table str : Table Name to insert into, if does not exist will create\n",
    "    output : new entry inserted\n",
    "    '''\n",
    "    with sql.connect(db) as con:\n",
    "        df.to_sql(table, con, flavor='sqlite', \n",
    "                      schema=None, if_exists='append',\n",
    "                      index=False, index_label=None,\n",
    "                      chunksize=None, dtype=None)\n",
    "            \n",
    "        print(\"Records %s inserted\"%table)\n",
    "    \n",
    "def insertcheckRecord(db, df, table = 'CONFERENCES', un = 'confName' ):\n",
    "    '''Check to insert a new record into a database table, inserts if does not exist\n",
    "    param  db str : Database name to connect to\n",
    "    param df pandas dataframe : dataframe being inspected for entry\n",
    "    param table str : Table Name to insert into, if does not exist will create\n",
    "    param un str : unique column to check for entry to create a new pk, if not will just append\n",
    "    '''\n",
    "    t = sqlCMDToPD(table, mydb)\n",
    "    if df[un][0] not in t[un].unique():\n",
    "        insert_toTable(db, df[un], table)\n",
    "        return True\n",
    "    else:\n",
    "        print(\" %s already exists, try upserting with key value or deleting\" %df[un][0])\n",
    "        return False  \n",
    "    \n",
    "def insertcheckRecordTWO(db, df, table = 'PUBLICATIONS', un = 'confName', un1 = 'year' ):\n",
    "    '''Check to insert a new record into a database table, inserts if does not exist, checks for multiple\n",
    "    entries as unique\n",
    "    param  db str : Database name to connect to\n",
    "    param df pandas dataframe : dataframe being inspected for entry\n",
    "    param table str : Table Name to insert into, if does not exist will create\n",
    "    param un str : unique column to check for entry to create a new pk, if not will just append\n",
    "    param un1 str : unique column2 to check for entry to create a new pk, if fail un, if not will just append\n",
    "    '''\n",
    "    t = sqlCMDToPD(table, mydb)\n",
    "    if df[un][0] not in t[un].unique():\n",
    "        print df[un][0], 'is new'\n",
    "        insert_toTable(db, df[[un, un1]], table)\n",
    "    else:\n",
    "        \n",
    "        tmp = t.query('@conf == confName') \n",
    "        \n",
    "        if df[un1][0] not in tmp[un1].unique():\n",
    "            print (df[[un, un1]].values), 'is a new entry'\n",
    "            insert_toTable(db, df[[un, un1]], table)\n",
    "        else:\n",
    "            print(\" %s already exists, try upserting with key value or deleting\" %df[[un, un1]].values)\n",
    "\n",
    "\n",
    "def insertValue(db, table, value):\n",
    "    '''Insert a new record by value into a database table\n",
    "    param  db str : Database name to connect to\n",
    "    param table str : Table Name to insert into, if does not exist will create\n",
    "    param value str : unique value entered into table\n",
    "    '''\n",
    "    with sql.connect(db) as con:\n",
    "        con.execute(\"INSERT INTO {tn} VALUES(NULL,'%s')\".format(tn=table)%value)\n",
    "        print('%s inserted into %s')%(value, table)\n",
    "        \n",
    "def enterValueCheck_nested(db, table, values, cn):\n",
    "    '''Check to insert a new record into a database table, inserts if does not exist\n",
    "    param  db str : Database name to connect to\n",
    "    param table str : Table Name to insert into, if does not exist will create\n",
    "    param values python series : series being parsed and formated to inspection and entry into table\n",
    "    param cn str : column name to check for entry to create a new pk\n",
    "    '''\n",
    "    tableDF = sqlCMDToPD(table, db)\n",
    "    for i, ky in enumerate(values):\n",
    "        for key in ky.split(','):\n",
    "            if key not in tableDF[cn].unique():\n",
    "                print key, 'is new'\n",
    "                insertValue(db, table, key)\n",
    "            else:\n",
    "                print key, 'already exists in table'\n",
    "                \n",
    "def deleteRowPK(db, table, pkcol, entryID):\n",
    "    '''Deleting a Record by PRIMARY KEY\n",
    "    param  db str : Database name to connect to\n",
    "    param table str : Table Name to delete from\n",
    "    param pkcol str : primary column name being used, \n",
    "    param entryID int : integer value (Primary Key Value) to delete from table\n",
    "    '''\n",
    "    with sql.connect(db) as con:\n",
    "        \n",
    "        con.execute(\"DELETE FROM {tn} WHERE {idf}={my_id}\".format(tn=table, idf=pkcol, my_id=entryID))\n",
    "\n",
    "        con.commit()\n",
    "\n",
    "def deleteRowOTHER(db, table, cn, entry):\n",
    "    '''Deleting a Record\n",
    "    param  db str : Database name to connect to\n",
    "    param table str : Table Name to delete from\n",
    "    param cn str : column name being used for deletion comparason (if no PK column, ie, abstracts Total)\n",
    "    param entry str : the str to be used to find and remove records (removes all records\n",
    "    '''\n",
    "    with sql.connect(db) as con:\n",
    "        \n",
    "        con.execute(\"DELETE FROM {tn} WHERE {idf}='%s'\".format(tn=table, idf=cn)%entry)\n",
    "\n",
    "        con.commit()\n",
    "\n",
    "\n",
    "        \n",
    "def entryintotables(db, jsonfile):\n",
    "    '''Inserting a Record from a JsonFile\n",
    "    param  db str : Database name to connect to\n",
    "    param jsonfile str : name of Json File to be read into the database\n",
    "    '''\n",
    "    f = open(jsonfile, \"r+\")\n",
    "    jdf = pd.read_json(f, orient='index')\n",
    "    jdf.Conf = 'WAKA'\n",
    "    #TOTALABSTRACTS, check and then insert if needed, uniqueness based on Abstract column\n",
    "    #insertcheckRecord(db, jdf, table = 'ABSTRACTSTOTAL', un =  'Abstract')\n",
    "    \n",
    "    #renaming of columns\n",
    "    jdf.rename(columns = {'Conf':'confName'}, inplace= True)\n",
    "    \n",
    "    #CONFERENCES, check and then insert if needed, uniqueness based on Abstract column\n",
    "    insertcheckRecord(db, jdf, table = 'CONFERENCES', un = 'confName' )\n",
    "    \n",
    "    #PUBLICATIONS, check and then insert if needed, uniqueness based on Abstract column\n",
    "    insertcheckRecordTWO(db, jdf, table = 'PUBLICATIONS', un = 'confName', un1 = 'year' )\n",
    "    \n",
    "    #AFFILIATIONS\n",
    "    jdf.rename(columns = {'Author affiliation' : 'affiliation'}, inplace = True)\n",
    "    insertcheckRecord(db = db, df = jdf, table = 'AFFILIATIONS', un = 'affiliation')\n",
    "    \n",
    "    #For the nested: authors, keywords, and need to reparse/reformat, also to show numerous ways to insert:\n",
    "    #KEYS\n",
    "    enterValueCheck_nested(db=db, table = 'KEYS', values = jdf.terms, cn = 'keyword')\n",
    "    #AUTHORS\n",
    "    enterValueCheck_nested(db=db, table = 'AUTHORS', values = jdf.Authors, cn = 'authorName')\n",
    "    \n",
    "    #enter\n",
    "    return jdf\n",
    "\n"
   ]
  },
  {
   "cell_type": "code",
   "execution_count": 89,
   "metadata": {
    "collapsed": false
   },
   "outputs": [
    {
     "name": "stdout",
     "output_type": "stream",
     "text": [
      "(5561, 2)\n",
      "one potato already exists in table\n",
      " two potato already exists in table\n",
      " three potato already exists in table\n",
      " four already exists in table\n",
      "(1949, 2)\n",
      "mr brown is new\n",
      "mr brown inserted into AUTHORS\n",
      " mr blue is new\n",
      " mr blue inserted into AUTHORS\n",
      " mr mogatu is new\n",
      " mr mogatu inserted into AUTHORS\n"
     ]
    }
   ],
   "source": [
    "enterValueCheck(mydb, 'KEYS', j.terms, 'keyword')\n",
    "enterValueCheck(mydb, 'AUTHORS', j.Authors, 'authorName')"
   ]
  },
  {
   "cell_type": "code",
   "execution_count": 90,
   "metadata": {
    "collapsed": false
   },
   "outputs": [
    {
     "name": "stdout",
     "output_type": "stream",
     "text": [
      "(1952, 2)\n"
     ]
    },
    {
     "data": {
      "text/html": [
       "<div>\n",
       "<table border=\"1\" class=\"dataframe\">\n",
       "  <thead>\n",
       "    <tr style=\"text-align: right;\">\n",
       "      <th></th>\n",
       "      <th>authorID</th>\n",
       "      <th>authorName</th>\n",
       "    </tr>\n",
       "  </thead>\n",
       "  <tbody>\n",
       "    <tr>\n",
       "      <th>1947</th>\n",
       "      <td>1948</td>\n",
       "      <td>ller  Bernhard</td>\n",
       "    </tr>\n",
       "    <tr>\n",
       "      <th>1948</th>\n",
       "      <td>1949</td>\n",
       "      <td>Wang  Mingxue</td>\n",
       "    </tr>\n",
       "    <tr>\n",
       "      <th>1949</th>\n",
       "      <td>1950</td>\n",
       "      <td>mr brown</td>\n",
       "    </tr>\n",
       "    <tr>\n",
       "      <th>1950</th>\n",
       "      <td>1951</td>\n",
       "      <td>mr blue</td>\n",
       "    </tr>\n",
       "    <tr>\n",
       "      <th>1951</th>\n",
       "      <td>1952</td>\n",
       "      <td>mr mogatu</td>\n",
       "    </tr>\n",
       "  </tbody>\n",
       "</table>\n",
       "</div>"
      ],
      "text/plain": [
       "      authorID      authorName\n",
       "1947      1948  ller  Bernhard\n",
       "1948      1949   Wang  Mingxue\n",
       "1949      1950        mr brown\n",
       "1950      1951         mr blue\n",
       "1951      1952       mr mogatu"
      ]
     },
     "execution_count": 90,
     "metadata": {},
     "output_type": "execute_result"
    }
   ],
   "source": [
    "au = sqlCMDToPD('AUTHORS', mydb)\n",
    "au.tail()"
   ]
  },
  {
   "cell_type": "code",
   "execution_count": 107,
   "metadata": {
    "collapsed": false
   },
   "outputs": [
    {
     "name": "stdout",
     "output_type": "stream",
     "text": [
      "(5561, 2)\n"
     ]
    },
    {
     "data": {
      "text/html": [
       "<div>\n",
       "<table border=\"1\" class=\"dataframe\">\n",
       "  <thead>\n",
       "    <tr style=\"text-align: right;\">\n",
       "      <th></th>\n",
       "      <th>keyID</th>\n",
       "      <th>keyword</th>\n",
       "    </tr>\n",
       "  </thead>\n",
       "  <tbody>\n",
       "    <tr>\n",
       "      <th>5556</th>\n",
       "      <td>5557</td>\n",
       "      <td>Component based software architecture</td>\n",
       "    </tr>\n",
       "    <tr>\n",
       "      <th>5557</th>\n",
       "      <td>5558</td>\n",
       "      <td>one potato</td>\n",
       "    </tr>\n",
       "    <tr>\n",
       "      <th>5558</th>\n",
       "      <td>5560</td>\n",
       "      <td>two potato</td>\n",
       "    </tr>\n",
       "    <tr>\n",
       "      <th>5559</th>\n",
       "      <td>5561</td>\n",
       "      <td>three potato</td>\n",
       "    </tr>\n",
       "    <tr>\n",
       "      <th>5560</th>\n",
       "      <td>5562</td>\n",
       "      <td>four</td>\n",
       "    </tr>\n",
       "  </tbody>\n",
       "</table>\n",
       "</div>"
      ],
      "text/plain": [
       "      keyID                                keyword\n",
       "5556   5557  Component based software architecture\n",
       "5557   5558                             one potato\n",
       "5558   5560                             two potato\n",
       "5559   5561                           three potato\n",
       "5560   5562                                   four"
      ]
     },
     "execution_count": 107,
     "metadata": {},
     "output_type": "execute_result"
    }
   ],
   "source": [
    "keys = sqlCMDToPD('KEYS', mydb)\n",
    "keys.tail()"
   ]
  },
  {
   "cell_type": "code",
   "execution_count": 108,
   "metadata": {
    "collapsed": false
   },
   "outputs": [
    {
     "name": "stdout",
     "output_type": "stream",
     "text": [
      "(5557, 2)\n",
      "(1949, 2)\n",
      "(830, 2)\n"
     ]
    },
    {
     "data": {
      "text/html": [
       "<div>\n",
       "<table border=\"1\" class=\"dataframe\">\n",
       "  <thead>\n",
       "    <tr style=\"text-align: right;\">\n",
       "      <th></th>\n",
       "      <th>affilID</th>\n",
       "      <th>affiliation</th>\n",
       "    </tr>\n",
       "  </thead>\n",
       "  <tbody>\n",
       "    <tr>\n",
       "      <th>825</th>\n",
       "      <td>826</td>\n",
       "      <td>Federal University of Bahia, Av  Adhemar de Ba...</td>\n",
       "    </tr>\n",
       "    <tr>\n",
       "      <th>826</th>\n",
       "      <td>827</td>\n",
       "      <td>University of Groningen, Nijenborgh 9, 9747 AG...</td>\n",
       "    </tr>\n",
       "    <tr>\n",
       "      <th>827</th>\n",
       "      <td>828</td>\n",
       "      <td>Department of Informatics, Universidad Tecnica...</td>\n",
       "    </tr>\n",
       "    <tr>\n",
       "      <th>828</th>\n",
       "      <td>829</td>\n",
       "      <td>Dept  of Computer Systems, University of S   o...</td>\n",
       "    </tr>\n",
       "    <tr>\n",
       "      <th>829</th>\n",
       "      <td>830</td>\n",
       "      <td>ABB Corporate Research Germany, Industrial Sof...</td>\n",
       "    </tr>\n",
       "  </tbody>\n",
       "</table>\n",
       "</div>"
      ],
      "text/plain": [
       "     affilID                                        affiliation\n",
       "825      826  Federal University of Bahia, Av  Adhemar de Ba...\n",
       "826      827  University of Groningen, Nijenborgh 9, 9747 AG...\n",
       "827      828  Department of Informatics, Universidad Tecnica...\n",
       "828      829  Dept  of Computer Systems, University of S   o...\n",
       "829      830  ABB Corporate Research Germany, Industrial Sof..."
      ]
     },
     "execution_count": 108,
     "metadata": {},
     "output_type": "execute_result"
    }
   ],
   "source": [
    "deleteRowPK(mydb, 'KEYS', 'keyID', 5562)\n",
    "deleteRowPK(mydb, 'KEYS', 'keyID', 5561)\n",
    "deleteRowPK(mydb, 'KEYS', 'keyID', 5560)\n",
    "deleteRowPK(mydb, 'KEYS', 'keyID', 5558)\n",
    "deleteRowPK(mydb, 'AUTHORS', 'authorID', 1950)\n",
    "deleteRowPK(mydb, 'AUTHORS', 'authorID', 1951)\n",
    "deleteRowPK(mydb, 'AUTHORS', 'authorID', 1952)\n",
    "deleteRowPK(mydb, 'AUTHORS', 'authorID', 1950)\n",
    "deleteRowPK(mydb, 'AFFILIATIONS', 'affilID', 831)\n",
    "keys = sqlCMDToPD('KEYS', mydb)\n",
    "au = sqlCMDToPD('AUTHORS', mydb)\n",
    "aff = sqlCMDToPD('AFFILIATIONS', mydb)\n",
    "aff.tail()"
   ]
  },
  {
   "cell_type": "code",
   "execution_count": 110,
   "metadata": {
    "collapsed": false
   },
   "outputs": [
    {
     "data": {
      "text/html": [
       "<div>\n",
       "<table border=\"1\" class=\"dataframe\">\n",
       "  <thead>\n",
       "    <tr style=\"text-align: right;\">\n",
       "      <th></th>\n",
       "      <th>authorID</th>\n",
       "      <th>authorName</th>\n",
       "    </tr>\n",
       "  </thead>\n",
       "  <tbody>\n",
       "    <tr>\n",
       "      <th>1944</th>\n",
       "      <td>1945</td>\n",
       "      <td>Tomic  Slobodanka</td>\n",
       "    </tr>\n",
       "    <tr>\n",
       "      <th>1945</th>\n",
       "      <td>1946</td>\n",
       "      <td>Manna  Valerio Panzica La</td>\n",
       "    </tr>\n",
       "    <tr>\n",
       "      <th>1946</th>\n",
       "      <td>1947</td>\n",
       "      <td>Song  Hui</td>\n",
       "    </tr>\n",
       "    <tr>\n",
       "      <th>1947</th>\n",
       "      <td>1948</td>\n",
       "      <td>ller  Bernhard</td>\n",
       "    </tr>\n",
       "    <tr>\n",
       "      <th>1948</th>\n",
       "      <td>1949</td>\n",
       "      <td>Wang  Mingxue</td>\n",
       "    </tr>\n",
       "  </tbody>\n",
       "</table>\n",
       "</div>"
      ],
      "text/plain": [
       "      authorID                 authorName\n",
       "1944      1945          Tomic  Slobodanka\n",
       "1945      1946  Manna  Valerio Panzica La\n",
       "1946      1947                  Song  Hui\n",
       "1947      1948             ller  Bernhard\n",
       "1948      1949              Wang  Mingxue"
      ]
     },
     "execution_count": 110,
     "metadata": {},
     "output_type": "execute_result"
    }
   ],
   "source": [
    "au.tail()"
   ]
  },
  {
   "cell_type": "code",
   "execution_count": 115,
   "metadata": {
    "collapsed": false
   },
   "outputs": [],
   "source": [
    "upsertToTable_two('CONFERENCES', mydb, j, 'confID', 'confName')"
   ]
  },
  {
   "cell_type": "code",
   "execution_count": 105,
   "metadata": {
    "collapsed": false
   },
   "outputs": [
    {
     "name": "stdout",
     "output_type": "stream",
     "text": [
      "(830, 2)\n",
      "Records AFFILIATIONS inserted\n",
      "new affil\n"
     ]
    }
   ],
   "source": []
  },
  {
   "cell_type": "code",
   "execution_count": 106,
   "metadata": {
    "collapsed": false
   },
   "outputs": [
    {
     "name": "stdout",
     "output_type": "stream",
     "text": [
      "(831, 2)\n"
     ]
    },
    {
     "data": {
      "text/html": [
       "<div>\n",
       "<table border=\"1\" class=\"dataframe\">\n",
       "  <thead>\n",
       "    <tr style=\"text-align: right;\">\n",
       "      <th></th>\n",
       "      <th>affilID</th>\n",
       "      <th>affiliation</th>\n",
       "    </tr>\n",
       "  </thead>\n",
       "  <tbody>\n",
       "    <tr>\n",
       "      <th>826</th>\n",
       "      <td>827</td>\n",
       "      <td>University of Groningen, Nijenborgh 9, 9747 AG...</td>\n",
       "    </tr>\n",
       "    <tr>\n",
       "      <th>827</th>\n",
       "      <td>828</td>\n",
       "      <td>Department of Informatics, Universidad Tecnica...</td>\n",
       "    </tr>\n",
       "    <tr>\n",
       "      <th>828</th>\n",
       "      <td>829</td>\n",
       "      <td>Dept  of Computer Systems, University of S   o...</td>\n",
       "    </tr>\n",
       "    <tr>\n",
       "      <th>829</th>\n",
       "      <td>830</td>\n",
       "      <td>ABB Corporate Research Germany, Industrial Sof...</td>\n",
       "    </tr>\n",
       "    <tr>\n",
       "      <th>830</th>\n",
       "      <td>831</td>\n",
       "      <td>Some Fancy Pants Nancy Place or My cereal bowl</td>\n",
       "    </tr>\n",
       "  </tbody>\n",
       "</table>\n",
       "</div>"
      ],
      "text/plain": [
       "     affilID                                        affiliation\n",
       "826      827  University of Groningen, Nijenborgh 9, 9747 AG...\n",
       "827      828  Department of Informatics, Universidad Tecnica...\n",
       "828      829  Dept  of Computer Systems, University of S   o...\n",
       "829      830  ABB Corporate Research Germany, Industrial Sof...\n",
       "830      831     Some Fancy Pants Nancy Place or My cereal bowl"
      ]
     },
     "execution_count": 106,
     "metadata": {},
     "output_type": "execute_result"
    }
   ],
   "source": [
    "#print jdf\n",
    "#replace_inTablePK(mydb, jdf, 4, 'confID', 'confName')\n",
    "aff = sqlCMDToPD('AFFILIATIONS', mydb)\n",
    "aff.tail()"
   ]
  },
  {
   "cell_type": "code",
   "execution_count": null,
   "metadata": {
    "collapsed": false
   },
   "outputs": [],
   "source": [
    "\n",
    "def upsert(db, pkcol, infocol, table, test):\n",
    "# Connecting to the database file\n",
    "    conn = sql.connect(db)\n",
    "    c = conn.cursor()\n",
    "    \n",
    "    try:\n",
    "        q = \"INSERT INTO '%s' ('%s', '%s') VALUES (?, ?)\" % (table, pkcol, infocol)\n",
    "        c.executemany(q, test.values)\n",
    "            \n",
    "    except sql.IntegrityError:\n",
    "        print('ERROR: ID already exists in PRIMARY KEY column')\n",
    "\n",
    "# A) Inserts an ID with a specific value in a second column\n",
    "    \n",
    "\n",
    "# B) Tries to insert an ID (if it does not exist yet) with a specific value in a second column\n",
    "    print('Inserting new pk')\n",
    "    q = \"INSERT OR IGNORE INTO '%s' ('%s', '%s') VALUES (?, ?)\"%(table, pkcol, infocol)\n",
    "    c.executemany(q, test.values)\n",
    "    \n",
    "# C) Updates the newly inserted or pre-existing entry \n",
    "    print('Update')\n",
    "    q = \"UPDATE '%s' SET '%s'=('%s') WHERE 's'=('%s')\"%(table, infocol, test['Conf'], pkcol , test[\"confID\"])\n",
    "    c.execute(q)  \n",
    "    \n",
    "    conn.commit()"
   ]
  },
  {
   "cell_type": "code",
   "execution_count": null,
   "metadata": {
    "collapsed": true
   },
   "outputs": [],
   "source": [
    "import sqlite3\n",
    "\n",
    "sqlite_file = 'my_first_db.sqlite'\n",
    "table_name = 'my_table_3'\n",
    "\n",
    "# Connecting to the database file\n",
    "conn = sqlite3.connect(sqlite_file)\n",
    "c = conn.cursor()\n",
    "\n",
    "# Retrieve column information\n",
    "# Every column will be represented by a tuple with the following attributes:\n",
    "# (id, name, type, notnull, default_value, primary_key)\n",
    "c.execute('PRAGMA TABLE_INFO({})'.format(table_name))\n",
    "\n",
    "# collect names in a list\n",
    "names = [tup[1] for tup in c.fetchall()]\n",
    "print(names)\n",
    "# e.g., ['id', 'date', 'time', 'date_time']\n",
    "\n",
    "# Closing the connection to the database file\n",
    "conn.close()"
   ]
  }
 ],
 "metadata": {
  "kernelspec": {
   "display_name": "Python 2",
   "language": "python",
   "name": "python2"
  },
  "language_info": {
   "codemirror_mode": {
    "name": "ipython",
    "version": 2
   },
   "file_extension": ".py",
   "mimetype": "text/x-python",
   "name": "python",
   "nbconvert_exporter": "python",
   "pygments_lexer": "ipython2",
   "version": "2.7.11"
  }
 },
 "nbformat": 4,
 "nbformat_minor": 0
}
