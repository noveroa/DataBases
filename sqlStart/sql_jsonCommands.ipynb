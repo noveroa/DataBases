{
 "cells": [
  {
   "cell_type": "code",
   "execution_count": 1,
   "metadata": {
    "collapsed": true
   },
   "outputs": [],
   "source": [
    "import pandas as pd\n",
    "import sqlite3 as sql"
   ]
  },
  {
   "cell_type": "code",
   "execution_count": 30,
   "metadata": {
    "collapsed": true
   },
   "outputs": [],
   "source": [
    "mydb = 'Abstracts_aug4.db'"
   ]
  },
  {
   "cell_type": "code",
   "execution_count": 23,
   "metadata": {
    "collapsed": false
   },
   "outputs": [],
   "source": [
    "jsonFile = \"json42.json\""
   ]
  },
  {
   "cell_type": "markdown",
   "metadata": {},
   "source": [
    "# Helper Functions to inspect database tables and json file"
   ]
  },
  {
   "cell_type": "code",
   "execution_count": null,
   "metadata": {
    "collapsed": false
   },
   "outputs": [],
   "source": [
    "def jsonDF(jsonFile):\n",
    "    f = open(jsonFile, \"r+\")\n",
    "    return pd.read_json(f, orient='index')\n",
    "    "
   ]
  },
  {
   "cell_type": "code",
   "execution_count": 4,
   "metadata": {
    "collapsed": false
   },
   "outputs": [],
   "source": [
    "def getContents():\n",
    "    '''\n",
    "    : param NONE\n",
    "    : output : Returns a json dictionary of the table names, entry counts, and links to tables \n",
    "                of all table names in the database\n",
    "    ''' \n",
    "    with sql.connect(mydb) as con:\n",
    "    \n",
    "        cursor = con.cursor()\n",
    "        cursor.execute(\"SELECT name FROM sqlite_master WHERE type='table';\")\n",
    "        mytables = (cursor.fetchall())\n",
    "        myt = [t[0] for t in mytables]\n",
    "        \n",
    "        return myt\n",
    "            "
   ]
  },
  {
   "cell_type": "code",
   "execution_count": 5,
   "metadata": {
    "collapsed": false
   },
   "outputs": [],
   "source": [
    "def sqlCMDToPD(table, \n",
    "               db):\n",
    "    '''Take a sql db and return as a readable pandas DataFrame\n",
    "       : param db : str. Name of db. (ie. 'Abstracts.db'\n",
    "       : param sqlcmd : str. Sqlite3 cmd to execute. \n",
    "               default: \"SELECT * FROM Abstracts\" \n",
    "                           > select all from Abstracts table\n",
    "    '''\n",
    "    \n",
    "    #connect to a db\n",
    "    with sql.connect(db) as con:\n",
    "        \n",
    "        #run command\n",
    "        sqlcmd = \"SELECT * FROM '%s'\" %table\n",
    "        df = pd.read_sql_query(sqlcmd, con)\n",
    "        \n",
    "        # Check resulting pandas DF shape\n",
    "        print df.shape\n",
    "        \n",
    "        return df\n"
   ]
  },
  {
   "cell_type": "code",
   "execution_count": null,
   "metadata": {
    "collapsed": false
   },
   "outputs": [],
   "source": [
    "t = getContents()\n",
    "t"
   ]
  },
  {
   "cell_type": "code",
   "execution_count": 31,
   "metadata": {
    "collapsed": false
   },
   "outputs": [
    {
     "name": "stdout",
     "output_type": "stream",
     "text": [
      "(3, 2)\n",
      "(1140, 7)\n",
      "(1102, 8)\n",
      "(27, 3)\n",
      "(5557, 2)\n",
      "(1949, 2)\n",
      "(830, 2)\n",
      "(17436, 2)\n",
      "(1102, 2)\n",
      "(3432, 2)\n"
     ]
    },
    {
     "data": {
      "text/html": [
       "<div>\n",
       "<table border=\"1\" class=\"dataframe\">\n",
       "  <thead>\n",
       "    <tr style=\"text-align: right;\">\n",
       "      <th></th>\n",
       "      <th>Abstract</th>\n",
       "      <th>Author affiliation</th>\n",
       "      <th>Authors</th>\n",
       "      <th>Conf</th>\n",
       "      <th>Title</th>\n",
       "      <th>terms</th>\n",
       "      <th>year</th>\n",
       "    </tr>\n",
       "  </thead>\n",
       "  <tbody>\n",
       "    <tr>\n",
       "      <th>1135</th>\n",
       "      <td>Reference architectures have emerged as a spec...</td>\n",
       "      <td>Dept  of Computer Systems, University of S   o...</td>\n",
       "      <td>['Guessi, Milena', '', '', 'Oquendo, Flavio', ...</td>\n",
       "      <td>WICSA</td>\n",
       "      <td>Variability viewpoint to describe reference ar...</td>\n",
       "      <td>['Software architecture', 'Architectural viewp...</td>\n",
       "      <td>2014</td>\n",
       "    </tr>\n",
       "    <tr>\n",
       "      <th>1136</th>\n",
       "      <td>The architecture of a software system plays a ...</td>\n",
       "      <td>Software Architecture Research Group, Universi...</td>\n",
       "      <td>['Stevanetic, Srdjan', '', '', 'Javed, Muhamma...</td>\n",
       "      <td>WICSA</td>\n",
       "      <td>Empirical evaluation of the understandability ...</td>\n",
       "      <td>['Computer software', 'Graphic methods', 'Soft...</td>\n",
       "      <td>2014</td>\n",
       "    </tr>\n",
       "    <tr>\n",
       "      <th>1137</th>\n",
       "      <td>Global Software Development  GSD  teams encoun...</td>\n",
       "      <td>Software and Systems Group, IT University of C...</td>\n",
       "      <td>['Chauhan, Muhammad Aufeef']</td>\n",
       "      <td>WICSA</td>\n",
       "      <td>A reference architecture for providing tools a...</td>\n",
       "      <td>['Cloud computing', 'Distributed computer syst...</td>\n",
       "      <td>2014</td>\n",
       "    </tr>\n",
       "    <tr>\n",
       "      <th>1138</th>\n",
       "      <td>Software architectures and their representatio...</td>\n",
       "      <td>ABB Corporate Research Germany, Industrial Sof...</td>\n",
       "      <td>['Sehestedt, Stephan', '', '', 'Cheng, Chih Ho...</td>\n",
       "      <td>WICSA</td>\n",
       "      <td>Towards quantitative metrics for architecture ...</td>\n",
       "      <td>['Software architecture', 'Sustainable develop...</td>\n",
       "      <td>2014</td>\n",
       "    </tr>\n",
       "    <tr>\n",
       "      <th>1139</th>\n",
       "      <td>Up to date architecture views help to better u...</td>\n",
       "      <td>RWTH Aachen University, Research Group Softwar...</td>\n",
       "      <td>['Dragomir, Ana', '', '', 'Harun, M', 'Firdaus...</td>\n",
       "      <td>WICSA</td>\n",
       "      <td>On bridging the gap between practice and visio...</td>\n",
       "      <td>['Computer software', 'Architecture descriptio...</td>\n",
       "      <td>2014</td>\n",
       "    </tr>\n",
       "  </tbody>\n",
       "</table>\n",
       "</div>"
      ],
      "text/plain": [
       "                                               Abstract  \\\n",
       "1135  Reference architectures have emerged as a spec...   \n",
       "1136  The architecture of a software system plays a ...   \n",
       "1137  Global Software Development  GSD  teams encoun...   \n",
       "1138  Software architectures and their representatio...   \n",
       "1139  Up to date architecture views help to better u...   \n",
       "\n",
       "                                     Author affiliation  \\\n",
       "1135  Dept  of Computer Systems, University of S   o...   \n",
       "1136  Software Architecture Research Group, Universi...   \n",
       "1137  Software and Systems Group, IT University of C...   \n",
       "1138  ABB Corporate Research Germany, Industrial Sof...   \n",
       "1139  RWTH Aachen University, Research Group Softwar...   \n",
       "\n",
       "                                                Authors   Conf  \\\n",
       "1135  ['Guessi, Milena', '', '', 'Oquendo, Flavio', ...  WICSA   \n",
       "1136  ['Stevanetic, Srdjan', '', '', 'Javed, Muhamma...  WICSA   \n",
       "1137                       ['Chauhan, Muhammad Aufeef']  WICSA   \n",
       "1138  ['Sehestedt, Stephan', '', '', 'Cheng, Chih Ho...  WICSA   \n",
       "1139  ['Dragomir, Ana', '', '', 'Harun, M', 'Firdaus...  WICSA   \n",
       "\n",
       "                                                  Title  \\\n",
       "1135  Variability viewpoint to describe reference ar...   \n",
       "1136  Empirical evaluation of the understandability ...   \n",
       "1137  A reference architecture for providing tools a...   \n",
       "1138  Towards quantitative metrics for architecture ...   \n",
       "1139  On bridging the gap between practice and visio...   \n",
       "\n",
       "                                                  terms  year  \n",
       "1135  ['Software architecture', 'Architectural viewp...  2014  \n",
       "1136  ['Computer software', 'Graphic methods', 'Soft...  2014  \n",
       "1137  ['Cloud computing', 'Distributed computer syst...  2014  \n",
       "1138  ['Software architecture', 'Sustainable develop...  2014  \n",
       "1139  ['Computer software', 'Architecture descriptio...  2014  "
      ]
     },
     "execution_count": 31,
     "metadata": {},
     "output_type": "execute_result"
    }
   ],
   "source": [
    "c = sqlCMDToPD(\"CONFERENCES\", mydb)\n",
    "t = sqlCMDToPD(\"ABSTRACTSTOTAL\", mydb)\n",
    "pap = sqlCMDToPD(\"PAPER\", mydb)\n",
    "pub = sqlCMDToPD(\"PUBLICATIONS\", mydb)\n",
    "k = sqlCMDToPD(\"KEYS\", mydb)\n",
    "\n",
    "au = sqlCMDToPD(\"AUTHORS\", mydb)\n",
    "aff = sqlCMDToPD(\"AFFILIATIONS\", mydb)\n",
    "\n",
    "pk = sqlCMDToPD(\"PAPERKEY\", mydb)\n",
    "ap = sqlCMDToPD(\"AFFILIATIONPAPER\", mydb)\n",
    "pa = sqlCMDToPD(\"PAPERAUTHOR\", mydb)\n",
    "t.tail()\n"
   ]
  },
  {
   "cell_type": "markdown",
   "metadata": {},
   "source": [
    "#  Functions using sqlite3 and python to insert and delete and update tables.\n"
   ]
  },
  {
   "cell_type": "code",
   "execution_count": 38,
   "metadata": {
    "collapsed": false
   },
   "outputs": [],
   "source": [
    "def insert_toTable(db, df, table = 'ABSTRACTSTOTAL'):\n",
    "    '''Check to insert a new record into a database table, inserts if does not exist\n",
    "    param  db str : Database name to connect to\n",
    "    param df pandas dataframe : dataframe being inspected for entry\n",
    "    param table str : Table Name to insert into, if does not exist will create\n",
    "    output : new entry inserted\n",
    "    '''\n",
    "    with sql.connect(db) as con:\n",
    "        df.to_sql(table, con, flavor='sqlite', \n",
    "                      schema=None, if_exists='append',\n",
    "                      index=False, index_label=None,\n",
    "                      chunksize=None, dtype=None)\n",
    "            \n",
    "        print(\"Records %s inserted\"%table)\n",
    "    \n",
    "def insertcheckRecord(db, df, table = 'CONFERENCES', un = 'confName' ):\n",
    "    '''Check to insert a new record into a database table, inserts if does not exist\n",
    "    param  db str : Database name to connect to\n",
    "    param df pandas dataframe : dataframe being inspected for entry\n",
    "    param table str : Table Name to insert into, if does not exist will create\n",
    "    param un str : unique column to check for entry to create a new pk, if not will just append\n",
    "    '''\n",
    "    t = sqlCMDToPD(table, mydb)\n",
    "    if df[un][0] not in t[un].unique():\n",
    "        insert_toTable(db, df[un], table)\n",
    "    else:\n",
    "        print(\" %s already exists, try upserting with key value or deleting\" %df[un][0])\n",
    "\n",
    "    \n",
    "def insertcheckRecordTWO(db, df, table = 'PUBLICATIONS', un = 'confName', un1 = 'year' ):\n",
    "    '''Check to insert a new record into a database table, inserts if does not exist, checks for multiple\n",
    "    entries as unique\n",
    "    param  db str : Database name to connect to\n",
    "    param df pandas dataframe : dataframe being inspected for entry\n",
    "    param table str : Table Name to insert into, if does not exist will create\n",
    "    param un str : unique column to check for entry to create a new pk, if not will just append\n",
    "    param un1 str : unique column2 to check for entry to create a new pk, if fail un, if not will just append\n",
    "    '''\n",
    "    t = sqlCMDToPD(table, mydb)\n",
    "    if df[un][0] not in t[un].unique():\n",
    "        print df[un][0], 'is new'\n",
    "        insert_toTable(db, df[[un, un1]], table)\n",
    "    else:\n",
    "        conf = df[un][0]\n",
    "        tmp = t.query('@conf == confName') \n",
    "        \n",
    "        if df[un1][0] not in tmp[un1].unique():\n",
    "            print (df[[un, un1]].values), 'is a new entry'\n",
    "            insert_toTable(db, df[[un, un1]], table)\n",
    "        else:\n",
    "            print(\" %s already exists, try upserting with key value or deleting\" %df[[un, un1]].values)\n",
    "\n",
    "\n",
    "def insertValues(db, table, value1, value2):\n",
    "    '''Insert a new record by value into a database table\n",
    "    param  db str : Database name to connect to\n",
    "    param table str : Table Name to insert into, if does not exist will create\n",
    "    param value str : unique value entered into table\n",
    "    '''\n",
    "    with sql.connect(db) as con:\n",
    "        try:\n",
    "            con.execute(\"INSERT INTO {tn} VALUES('%s','%s')\".format(tn=table)%(value1, value2))\n",
    "            print('%s %s inserted into %s')%(value1, value2, table)\n",
    "        except:\n",
    "            con.execute(\"INSERT INTO {tn} VALUES(Null,'%s')\".format(tn=table)%(value2))\n",
    "            print('%s inserted into %s, single entry')%(value2, table)\n",
    "\n",
    "        \n",
    "def enterValueCheck_nested(db, table, values, cn):\n",
    "    '''Check to insert a new record into a database table, inserts if does not exist\n",
    "    param  db str : Database name to connect to\n",
    "    param table str : Table Name to insert into, if does not exist will create\n",
    "    param values python series : series being parsed and formated to inspection and entry into table\n",
    "    param cn str : column name to check for entry to create a new pk\n",
    "    '''\n",
    "    keys = []\n",
    "    tableDF = sqlCMDToPD(table, db)\n",
    "    for i, ky in enumerate(values):\n",
    "        for key in ky.split(','):\n",
    "            if key not in tableDF[cn].unique():\n",
    "                print key, 'is new'\n",
    "                insertValues(db, table, None, key)\n",
    "            else:\n",
    "                print key, 'already exists in table'\n",
    "            \n",
    "            keys.append(key)\n",
    "        return keys\n",
    "\n",
    "def compositeCreation(db, table1, col, values, parentID, comptable):\n",
    "    '''Creating Composite Tables \n",
    "    First, find the values needed to insert from first table based on query\n",
    "    then insert each (parentID, value) pair into the composite table \n",
    "    param  db str : Database name to connect to\n",
    "    param table1 str : Table Name to query for multiple values\n",
    "    param col str : column name of value to retrieve iteratively \n",
    "    param values list : list of values to insert into the composite\n",
    "    param parentID int : integer value (Primary Key Value) of parent table to enter\n",
    "    param comptable str : Table Name of composite table\n",
    "    '''\n",
    "    t = sqlCMDToPD(table1, db)\n",
    "    tmp = t.query('{cn} in @values'.format(cn = col))[col]\n",
    "    for v in tmp.values:\n",
    "        print v, paperK\n",
    "        insertValues(db, comptable, parentID, v)\n",
    "        \n",
    "def getPK(db, table, pkCol):\n",
    "    '''retrieve the PRIMARY KEY\n",
    "    param  db str : Database name to connect to\n",
    "    param table str : Table Name to delete from\n",
    "    param pkcol str : primary column name being used, \n",
    "    '''\n",
    "    with sql.connect(db) as c:\n",
    "        cursor = c.cursor()\n",
    "        cursor.execute(\"SELECT {idf} FROM {tn} ORDER BY {idf} DESC LIMIT 1\".format(tn=table, idf=pkCol))\n",
    "        key = cursor.fetchone()[0]\n",
    "\n",
    "        return key\n",
    "    \n",
    "def deleteRowPK(db, table, pkcol, entryID):\n",
    "    '''Deleting a Record by PRIMARY KEY\n",
    "    param  db str : Database name to connect to\n",
    "    param table str : Table Name to delete from\n",
    "    param pkcol str : primary column name being used, \n",
    "    param entryID int : integer value (Primary Key Value) to delete from table\n",
    "    '''\n",
    "    with sql.connect(db) as con:\n",
    "        \n",
    "        con.execute(\"DELETE FROM {tn} WHERE {idf}={my_id}\".format(tn=table, idf=pkcol, my_id=entryID))\n",
    "\n",
    "        con.commit()\n",
    "\n",
    "def deleteRowOTHER(db, table, cn, entry):\n",
    "    '''Deleting a Record\n",
    "    param  db str : Database name to connect to\n",
    "    param table str : Table Name to delete from\n",
    "    param cn str : column name being used for deletion comparason (if no PK column, ie, abstracts Total)\n",
    "    param entry str : the str to be used to find and remove records (removes all records\n",
    "    '''\n",
    "    with sql.connect(db) as con:\n",
    "        \n",
    "        con.execute(\"DELETE FROM {tn} WHERE {idf}='%s'\".format(tn=table, idf=cn)%entry)\n",
    "\n",
    "        con.commit()\n",
    "        \n",
    "def entryintotables(db, jsonfile):\n",
    "    '''Inserting a Record from a JsonFile\n",
    "    param  db str : Database name to connect to\n",
    "    param jsonfile str : name of Json File to be read into the database\n",
    "    '''\n",
    "    f = open(jsonfile, \"r+\")\n",
    "    jdf = pd.read_json(f, orient='index')\n",
    "    #TOTALABSTRACTS, check and then insert if needed, uniqueness based on Abstract column\n",
    "    insert_toTable(db, jdf, table = 'ABSTRACTSTOTAL')\n",
    "    \n",
    "\n",
    "\n",
    "    #renaming of columns\n",
    "    jdf.rename(columns = {'Conf':'confName'}, inplace= True)\n",
    "    jdf.rename(columns = {'Author affiliation' : 'affiliation'}, inplace = True)\n",
    "    jdf.rename(columns = {'Authors' : 'authors'}, inplace = True)\n",
    "    \n",
    "    #CONFERENCES, check and then insert if needed, uniqueness based on Abstract column\n",
    "    insertcheckRecord(db, jdf, table = 'CONFERENCES', un = 'confName' )\n",
    "    \n",
    "    #PUBLICATIONS, check and then insert if needed, uniqueness based on Abstract column\n",
    "    insertcheckRecordTWO(db, jdf, table = 'PUBLICATIONS', un = 'confName', un1 = 'year' )\n",
    "    \n",
    "    #AFFILIATIONS\n",
    "    insertcheckRecord(db = db, df = jdf, table = 'AFFILIATIONS', un = 'affiliation')\n",
    "    \n",
    "    #For the nested: authors, keywords, and need to reparse/reformat, also to show numerous ways to insert:\n",
    "    #KEYS\n",
    "    keys = enterValueCheck_nested(db=db, table = 'KEYS', values = jdf.terms, cn = 'keyword')\n",
    "    \n",
    "    #AUTHORS\n",
    "    authors = enterValueCheck_nested(db=db, table = 'AUTHORS', values = jdf.authors, cn = 'authorName')\n",
    "    \n",
    "    #PAPER\n",
    "    jdf.rename(columns = {'year' : 'pubYear'}, inplace = True)\n",
    "    insert_toTable(mydb, jdf, 'PAPER')\n",
    "    paperID  = getPK(db, 'PAPER', 'paperID') \n",
    "    \n",
    "    #COMPOSITE TABLE UPDATES\n",
    "    #PAPERKEY\n",
    "    compositeCreation(db, 'KEYS', 'keyword', keys, paperID, 'PAPERKEY')\n",
    "    \n",
    "    #PAPERAUTHOR\n",
    "    compositeCreation(db, 'AUTHORS', 'authorName', authors, paperID, 'PAPERAUTHOR')\n",
    "    \n",
    "    #AFFILIATIONPAPER\n",
    "    affilationID = getPK(db, 'AFFILIATIONS', 'affilID' )\n",
    "    insertValues(mydb, \"AFFILIATIONPAPER\", paperID, affilationID)\n",
    "    \n",
    "    \n",
    "    return jdf, keys, authors"
   ]
  },
  {
   "cell_type": "code",
   "execution_count": 39,
   "metadata": {
    "collapsed": false
   },
   "outputs": [
    {
     "name": "stdout",
     "output_type": "stream",
     "text": [
      "Records ABSTRACTSTOTAL inserted\n",
      "(3, 2)\n",
      " ECSA already exists, try upserting with key value or deleting\n",
      "(27, 3)\n",
      " [[u'ECSA' 2009]] already exists, try upserting with key value or deleting\n",
      "(830, 2)\n",
      "Records AFFILIATIONS inserted\n",
      "(5557, 2)\n",
      "one potato is new\n",
      "one potato inserted into KEYS, single entry\n",
      " two potato is new\n",
      " two potato inserted into KEYS, single entry\n",
      " three potato is new\n",
      " three potato inserted into KEYS, single entry\n",
      " four is new\n",
      " four inserted into KEYS, single entry\n",
      "(1949, 2)\n",
      "mr brown is new\n",
      "mr brown inserted into AUTHORS, single entry\n",
      " mr blue is new\n",
      " mr blue inserted into AUTHORS, single entry\n",
      " mr mogatu is new\n",
      " mr mogatu inserted into AUTHORS, single entry\n",
      "Records PAPER inserted\n",
      "(5561, 2)\n",
      "one potato 1103\n",
      "1103 one potato inserted into PAPERKEY\n",
      " two potato 1103\n",
      "1103  two potato inserted into PAPERKEY\n",
      " three potato 1103\n",
      "1103  three potato inserted into PAPERKEY\n",
      " four 1103\n",
      "1103  four inserted into PAPERKEY\n",
      "(1952, 2)\n",
      "mr brown 1103\n",
      "1103 mr brown inserted into PAPERAUTHOR\n",
      " mr blue 1103\n",
      "1103  mr blue inserted into PAPERAUTHOR\n",
      " mr mogatu 1103\n",
      "1103  mr mogatu inserted into PAPERAUTHOR\n",
      "1103 831 inserted into AFFILIATIONPAPER\n"
     ]
    }
   ],
   "source": [
    "j, keylist, authorslist = entryintotables(mydb, jsonFile )"
   ]
  },
  {
   "cell_type": "code",
   "execution_count": 23,
   "metadata": {
    "collapsed": false
   },
   "outputs": [
    {
     "ename": "NameError",
     "evalue": "name 'sqlCMDToPD' is not defined",
     "output_type": "error",
     "traceback": [
      "\u001b[0;31m---------------------------------------------------------------------------\u001b[0m",
      "\u001b[0;31mNameError\u001b[0m                                 Traceback (most recent call last)",
      "\u001b[0;32m<ipython-input-23-b54ca6589b4d>\u001b[0m in \u001b[0;36m<module>\u001b[0;34m()\u001b[0m\n\u001b[0;32m----> 1\u001b[0;31m \u001b[0mc\u001b[0m \u001b[0;34m=\u001b[0m \u001b[0msqlCMDToPD\u001b[0m\u001b[0;34m(\u001b[0m\u001b[0;34m\"CONFERENCES\"\u001b[0m\u001b[0;34m,\u001b[0m \u001b[0mmydb\u001b[0m\u001b[0;34m)\u001b[0m\u001b[0;34m\u001b[0m\u001b[0m\n\u001b[0m\u001b[1;32m      2\u001b[0m \u001b[0mt\u001b[0m \u001b[0;34m=\u001b[0m \u001b[0msqlCMDToPD\u001b[0m\u001b[0;34m(\u001b[0m\u001b[0;34m\"ABSTRACTSTOTAL\"\u001b[0m\u001b[0;34m,\u001b[0m \u001b[0mmydb\u001b[0m\u001b[0;34m)\u001b[0m\u001b[0;34m\u001b[0m\u001b[0m\n\u001b[1;32m      3\u001b[0m \u001b[0mpap\u001b[0m \u001b[0;34m=\u001b[0m \u001b[0msqlCMDToPD\u001b[0m\u001b[0;34m(\u001b[0m\u001b[0;34m\"PAPER\"\u001b[0m\u001b[0;34m,\u001b[0m \u001b[0mmydb\u001b[0m\u001b[0;34m)\u001b[0m\u001b[0;34m\u001b[0m\u001b[0m\n\u001b[1;32m      4\u001b[0m \u001b[0mpub\u001b[0m \u001b[0;34m=\u001b[0m \u001b[0msqlCMDToPD\u001b[0m\u001b[0;34m(\u001b[0m\u001b[0;34m\"PUBLICATIONS\"\u001b[0m\u001b[0;34m,\u001b[0m \u001b[0mmydb\u001b[0m\u001b[0;34m)\u001b[0m\u001b[0;34m\u001b[0m\u001b[0m\n\u001b[1;32m      5\u001b[0m \u001b[0mk\u001b[0m \u001b[0;34m=\u001b[0m \u001b[0msqlCMDToPD\u001b[0m\u001b[0;34m(\u001b[0m\u001b[0;34m\"KEYS\"\u001b[0m\u001b[0;34m,\u001b[0m \u001b[0mmydb\u001b[0m\u001b[0;34m)\u001b[0m\u001b[0;34m\u001b[0m\u001b[0m\n",
      "\u001b[0;31mNameError\u001b[0m: name 'sqlCMDToPD' is not defined"
     ]
    }
   ],
   "source": [
    "c = sqlCMDToPD(\"CONFERENCES\", mydb)\n",
    "t = sqlCMDToPD(\"ABSTRACTSTOTAL\", mydb)\n",
    "pap = sqlCMDToPD(\"PAPER\", mydb)\n",
    "pub = sqlCMDToPD(\"PUBLICATIONS\", mydb)\n",
    "k = sqlCMDToPD(\"KEYS\", mydb)\n",
    "\n",
    "au = sqlCMDToPD(\"AUTHORS\", mydb)\n",
    "aff = sqlCMDToPD(\"AFFILIATIONS\", mydb)\n",
    "\n",
    "pk = sqlCMDToPD(\"PAPERKEY\", mydb)\n",
    "ap = sqlCMDToPD(\"AFFILIATIONPAPER\", mydb)\n",
    "pa = sqlCMDToPD(\"PAPERAUTHOR\", mydb)\n",
    "pa.tail()"
   ]
  },
  {
   "cell_type": "code",
   "execution_count": 25,
   "metadata": {
    "collapsed": false
   },
   "outputs": [
    {
     "data": {
      "text/html": [
       "<div>\n",
       "<table border=\"1\" class=\"dataframe\">\n",
       "  <thead>\n",
       "    <tr style=\"text-align: right;\">\n",
       "      <th></th>\n",
       "      <th>Abstract</th>\n",
       "      <th>Author affiliation</th>\n",
       "      <th>Authors</th>\n",
       "      <th>Conf</th>\n",
       "      <th>Title</th>\n",
       "      <th>terms</th>\n",
       "      <th>year</th>\n",
       "    </tr>\n",
       "  </thead>\n",
       "  <tbody>\n",
       "    <tr>\n",
       "      <th>abstract</th>\n",
       "      <td>For real, i mean Rice Krispie Treat Cereal and...</td>\n",
       "      <td>Some Fancy Pants Nancy Place or My cereal bowl</td>\n",
       "      <td>mr brown, mr blue, mr mogatu</td>\n",
       "      <td>ECSA</td>\n",
       "      <td>Monty Python and the Holy Grail</td>\n",
       "      <td>one potato, two potato, three potato, four</td>\n",
       "      <td>2009</td>\n",
       "    </tr>\n",
       "  </tbody>\n",
       "</table>\n",
       "</div>"
      ],
      "text/plain": [
       "                                                   Abstract  \\\n",
       "abstract  For real, i mean Rice Krispie Treat Cereal and...   \n",
       "\n",
       "                                      Author affiliation  \\\n",
       "abstract  Some Fancy Pants Nancy Place or My cereal bowl   \n",
       "\n",
       "                               Authors  Conf                            Title  \\\n",
       "abstract  mr brown, mr blue, mr mogatu  ECSA  Monty Python and the Holy Grail   \n",
       "\n",
       "                                               terms  year  \n",
       "abstract  one potato, two potato, three potato, four  2009  "
      ]
     },
     "execution_count": 25,
     "metadata": {},
     "output_type": "execute_result"
    }
   ],
   "source": [
    "#t.tail()\n",
    "jtest = pd.read_json(jsonFile, orient='index')\n",
    "jtest"
   ]
  },
  {
   "cell_type": "code",
   "execution_count": null,
   "metadata": {
    "collapsed": false
   },
   "outputs": [],
   "source": [
    "\n",
    "deleteRowOTHER(mydb, \"PAPER\", 'title', 'Monty Python and the Holy Grail' )\n",
    "pap2 = sqlCMDToPD(\"PAPER\", mydb)\n",
    "pap2.tail()"
   ]
  },
  {
   "cell_type": "code",
   "execution_count": null,
   "metadata": {
    "collapsed": false
   },
   "outputs": [],
   "source": [
    "keys = sqlCMDToPD('KEYS', mydb)\n",
    "keys.tail()"
   ]
  },
  {
   "cell_type": "code",
   "execution_count": null,
   "metadata": {
    "collapsed": false
   },
   "outputs": [],
   "source": [
    "deleteRowPK(mydb, 'KEYS', 'keyID', 5562)\n",
    "deleteRowPK(mydb, 'KEYS', 'keyID', 5561)\n",
    "deleteRowPK(mydb, 'KEYS', 'keyID', 5560)\n",
    "deleteRowPK(mydb, 'KEYS', 'keyID', 5558)\n",
    "deleteRowPK(mydb, 'AUTHORS', 'authorID', 1950)\n",
    "deleteRowPK(mydb, 'AUTHORS', 'authorID', 1951)\n",
    "deleteRowPK(mydb, 'AUTHORS', 'authorID', 1952)\n",
    "deleteRowPK(mydb, 'AUTHORS', 'authorID', 1950)\n",
    "deleteRowPK(mydb, 'AFFILIATIONS', 'affilID', 831)\n",
    "keys = sqlCMDToPD('KEYS', mydb)\n",
    "au = sqlCMDToPD('AUTHORS', mydb)\n",
    "aff = sqlCMDToPD('AFFILIATIONS', mydb)\n",
    "aff.tail()"
   ]
  },
  {
   "cell_type": "markdown",
   "metadata": {},
   "source": [
    "# Looking at some other sqlite functions"
   ]
  },
  {
   "cell_type": "code",
   "execution_count": 41,
   "metadata": {
    "collapsed": false
   },
   "outputs": [],
   "source": [
    "def retrievals(db, table_name, column_2, column_3, id_column, some_id ):\n",
    "    with sql.connect(db) as con:\n",
    "        c =  cursor = con.cursor()\n",
    "        # 1) Contents of all columns for row that match a certain value in 1 column\n",
    "        c.execute('SELECT * FROM {tn} WHERE {cn}=\"ECSA\"'.\\\n",
    "                  format(tn=table_name, cn=column_2))\n",
    "        all_rows = c.fetchall()\n",
    "        print('1):', all_rows)\n",
    "\n",
    "    # 2) Value of a particular column for rows that match a certain value in column_1\n",
    "        c.execute('SELECT ({coi}) FROM {tn} WHERE {cn}=\"ECSA\"'.\\\n",
    "                  format(coi=column_2, tn=table_name, cn=column_2))\n",
    "        all_rows = c.fetchall()\n",
    "        print('2):', all_rows)\n",
    "\n",
    "    # 3) Value of 2 particular columns for rows that match a certain value in 1 column\n",
    "        c.execute('SELECT {coi1},{coi2} FROM {tn} WHERE {coi1}=\"ECSA\"'.\\\n",
    "                  format(coi1=column_2, coi2=column_3, tn=table_name, cn=column_2))\n",
    "        all_rows = c.fetchall()\n",
    "        print('3):', all_rows)\n",
    "\n",
    "    # 4) Selecting only up to 10 rows that match a certain value in 1 column\n",
    "        c.execute('SELECT * FROM {tn} WHERE {cn}=\"ECSA\" LIMIT 10'.\\\n",
    "                  format(tn=table_name, cn=column_2))\n",
    "        ten_rows = c.fetchall()\n",
    "        print('4):', ten_rows)\n",
    "\n",
    "    # 5) Check if a certain ID exists and print its column contents\n",
    "        c.execute(\"SELECT * FROM {tn} WHERE {idf}={my_id}\".\\\n",
    "                  format(tn=table_name, cn=column_2, idf=id_column, my_id=some_id))\n",
    "        id_exists = c.fetchone()\n",
    "        if id_exists:\n",
    "            print('5): {}'.format(id_exists))\n",
    "        else:\n",
    "            print('5): {} does not exist'.format(some_id))\n"
   ]
  },
  {
   "cell_type": "code",
   "execution_count": 42,
   "metadata": {
    "collapsed": false
   },
   "outputs": [
    {
     "name": "stdout",
     "output_type": "stream",
     "text": [
      "('1):', [(1, u'ECSA')])\n",
      "('2):', [(u'ECSA',)])\n",
      "('3):', [(u'ECSA', 1)])\n",
      "('4):', [(1, u'ECSA')])\n",
      "5): (3, u'WICSA')\n"
     ]
    }
   ],
   "source": [
    "retrievals(mydb, 'CONFERENCES', 'confName', 'confID', 'confID', 3 )"
   ]
  },
  {
   "cell_type": "code",
   "execution_count": null,
   "metadata": {
    "collapsed": false
   },
   "outputs": [],
   "source": [
    "f = paperPK(mydb, 'PAPER', 'paperID')"
   ]
  },
  {
   "cell_type": "code",
   "execution_count": null,
   "metadata": {
    "collapsed": false
   },
   "outputs": [],
   "source": [
    "print keylist\n"
   ]
  },
  {
   "cell_type": "code",
   "execution_count": 18,
   "metadata": {
    "collapsed": true
   },
   "outputs": [],
   "source": [
    "i = '1190'\n",
    "i = str(2009)"
   ]
  },
  {
   "cell_type": "code",
   "execution_count": 19,
   "metadata": {
    "collapsed": false
   },
   "outputs": [
    {
     "data": {
      "text/plain": [
       "True"
      ]
     },
     "execution_count": 19,
     "metadata": {},
     "output_type": "execute_result"
    }
   ],
   "source": [
    "i.isdigit()"
   ]
  },
  {
   "cell_type": "code",
   "execution_count": 20,
   "metadata": {
    "collapsed": true
   },
   "outputs": [],
   "source": [
    "i = 2009\n"
   ]
  },
  {
   "cell_type": "code",
   "execution_count": 21,
   "metadata": {
    "collapsed": false
   },
   "outputs": [
    {
     "data": {
      "text/plain": [
       "True"
      ]
     },
     "execution_count": 21,
     "metadata": {},
     "output_type": "execute_result"
    }
   ],
   "source": [
    "str(i).isdigit()"
   ]
  },
  {
   "cell_type": "code",
   "execution_count": 22,
   "metadata": {
    "collapsed": false
   },
   "outputs": [
    {
     "data": {
      "text/plain": [
       "False"
      ]
     },
     "execution_count": 22,
     "metadata": {},
     "output_type": "execute_result"
    }
   ],
   "source": [
    "str('hi my name is').isdigit()"
   ]
  },
  {
   "cell_type": "code",
   "execution_count": null,
   "metadata": {
    "collapsed": true
   },
   "outputs": [],
   "source": []
  }
 ],
 "metadata": {
  "kernelspec": {
   "display_name": "Python 2",
   "language": "python",
   "name": "python2"
  },
  "language_info": {
   "codemirror_mode": {
    "name": "ipython",
    "version": 2
   },
   "file_extension": ".py",
   "mimetype": "text/x-python",
   "name": "python",
   "nbconvert_exporter": "python",
   "pygments_lexer": "ipython2",
   "version": "2.7.11"
  }
 },
 "nbformat": 4,
 "nbformat_minor": 0
}
