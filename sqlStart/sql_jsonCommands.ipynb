{
 "cells": [
  {
   "cell_type": "code",
   "execution_count": null,
   "metadata": {
    "collapsed": true
   },
   "outputs": [],
   "source": [
    "import pandas as pd\n",
    "import sqlite3 as sql"
   ]
  },
  {
   "cell_type": "code",
   "execution_count": 14,
   "metadata": {
    "collapsed": true
   },
   "outputs": [],
   "source": [
    "mydb = 'Abstracts_aug12.db'"
   ]
  },
  {
   "cell_type": "code",
   "execution_count": null,
   "metadata": {
    "collapsed": false
   },
   "outputs": [],
   "source": [
    "jsonFile = \"json42.json\""
   ]
  },
  {
   "cell_type": "markdown",
   "metadata": {},
   "source": [
    "# Helper Functions to inspect database tables and json file"
   ]
  },
  {
   "cell_type": "code",
   "execution_count": null,
   "metadata": {
    "collapsed": false
   },
   "outputs": [],
   "source": [
    "def jsonDF(jsonFile):\n",
    "    f = open(jsonFile, \"r+\")\n",
    "    return pd.read_json(f, orient='index')\n",
    "    "
   ]
  },
  {
   "cell_type": "code",
   "execution_count": null,
   "metadata": {
    "collapsed": false
   },
   "outputs": [],
   "source": [
    "def getContents():\n",
    "    '''\n",
    "    : param NONE\n",
    "    : output : Returns a json dictionary of the table names, entry counts, and links to tables \n",
    "                of all table names in the database\n",
    "    ''' \n",
    "    with sql.connect(mydb) as con:\n",
    "    \n",
    "        cursor = con.cursor()\n",
    "        cursor.execute(\"SELECT name FROM sqlite_master WHERE type='table';\")\n",
    "        mytables = (cursor.fetchall())\n",
    "        myt = [t[0] for t in mytables]\n",
    "        \n",
    "        return myt\n",
    "            "
   ]
  },
  {
   "cell_type": "code",
   "execution_count": null,
   "metadata": {
    "collapsed": false
   },
   "outputs": [],
   "source": [
    "def sqlCMDToPD(table, \n",
    "               db):\n",
    "    '''Take a sql db and return as a readable pandas DataFrame\n",
    "       : param db : str. Name of db. (ie. 'Abstracts.db'\n",
    "       : param sqlcmd : str. Sqlite3 cmd to execute. \n",
    "               default: \"SELECT * FROM Abstracts\" \n",
    "                           > select all from Abstracts table\n",
    "    '''\n",
    "    \n",
    "    #connect to a db\n",
    "    with sql.connect(db) as con:\n",
    "        \n",
    "        #run command\n",
    "        sqlcmd = \"SELECT * FROM '%s'\" %table\n",
    "        df = pd.read_sql_query(sqlcmd, con)\n",
    "        \n",
    "        # Check resulting pandas DF shape\n",
    "        print df.shape\n",
    "        \n",
    "        return df\n"
   ]
  },
  {
   "cell_type": "code",
   "execution_count": null,
   "metadata": {
    "collapsed": false
   },
   "outputs": [],
   "source": [
    "t = getContents()\n",
    "t"
   ]
  },
  {
   "cell_type": "code",
   "execution_count": null,
   "metadata": {
    "collapsed": false
   },
   "outputs": [],
   "source": [
    "c = sqlCMDToPD(\"CONFERENCES\", mydb)\n",
    "t = sqlCMDToPD(\"ABSTRACTSTOTAL\", mydb)\n",
    "pap = sqlCMDToPD(\"PAPER\", mydb)\n",
    "pub = sqlCMDToPD(\"PUBLICATIONS\", mydb)\n",
    "k = sqlCMDToPD(\"KEYS\", mydb)\n",
    "\n",
    "au = sqlCMDToPD(\"AUTHORS\", mydb)\n",
    "aff = sqlCMDToPD(\"AFFILIATIONS\", mydb)\n",
    "\n",
    "pk = sqlCMDToPD(\"PAPERKEY\", mydb)\n",
    "ap = sqlCMDToPD(\"AFFILIATIONPAPER\", mydb)\n",
    "pa = sqlCMDToPD(\"PAPERAUTHOR\", mydb)\n",
    "t.tail()\n"
   ]
  },
  {
   "cell_type": "markdown",
   "metadata": {},
   "source": [
    "#  Functions using sqlite3 and python to insert and delete and update tables.\n"
   ]
  },
  {
   "cell_type": "code",
   "execution_count": null,
   "metadata": {
    "collapsed": false
   },
   "outputs": [],
   "source": [
    "def insert_toTable(db, df, table = 'ABSTRACTSTOTAL'):\n",
    "    '''Check to insert a new record into a database table, inserts if does not exist\n",
    "    param  db str : Database name to connect to\n",
    "    param df pandas dataframe : dataframe being inspected for entry\n",
    "    param table str : Table Name to insert into, if does not exist will create\n",
    "    output : new entry inserted\n",
    "    '''\n",
    "    with sql.connect(db) as con:\n",
    "        df.to_sql(table, con, flavor='sqlite', \n",
    "                      schema=None, if_exists='append',\n",
    "                      index=False, index_label=None,\n",
    "                      chunksize=None, dtype=None)\n",
    "            \n",
    "        print(\"Records %s inserted\"%table)\n",
    "    \n",
    "def insertcheckRecord(db, df, table = 'CONFERENCES', un = 'confName' ):\n",
    "    '''Check to insert a new record into a database table, inserts if does not exist\n",
    "    param  db str : Database name to connect to\n",
    "    param df pandas dataframe : dataframe being inspected for entry\n",
    "    param table str : Table Name to insert into, if does not exist will create\n",
    "    param un str : unique column to check for entry to create a new pk, if not will just append\n",
    "    '''\n",
    "    t = sqlCMDToPD(table, mydb)\n",
    "    if df[un][0] not in t[un].unique():\n",
    "        insert_toTable(db, df[un], table)\n",
    "    else:\n",
    "        print(\" %s already exists, try upserting with key value or deleting\" %df[un][0])\n",
    "\n",
    "    \n",
    "def insertcheckRecordTWO(db, df, table = 'PUBLICATIONS', un = 'confName', un1 = 'year' ):\n",
    "    '''Check to insert a new record into a database table, inserts if does not exist, checks for multiple\n",
    "    entries as unique\n",
    "    param  db str : Database name to connect to\n",
    "    param df pandas dataframe : dataframe being inspected for entry\n",
    "    param table str : Table Name to insert into, if does not exist will create\n",
    "    param un str : unique column to check for entry to create a new pk, if not will just append\n",
    "    param un1 str : unique column2 to check for entry to create a new pk, if fail un, if not will just append\n",
    "    '''\n",
    "    t = sqlCMDToPD(table, mydb)\n",
    "    if df[un][0] not in t[un].unique():\n",
    "        print df[un][0], 'is new'\n",
    "        insert_toTable(db, df[[un, un1]], table)\n",
    "    else:\n",
    "        conf = df[un][0]\n",
    "        tmp = t.query('@conf == confName') \n",
    "        \n",
    "        if df[un1][0] not in tmp[un1].unique():\n",
    "            print (df[[un, un1]].values), 'is a new entry'\n",
    "            insert_toTable(db, df[[un, un1]], table)\n",
    "        else:\n",
    "            print(\" %s already exists, try upserting with key value or deleting\" %df[[un, un1]].values)\n",
    "\n",
    "\n",
    "def insertValues(db, table, value1, value2):\n",
    "    '''Insert a new record by value into a database table\n",
    "    param  db str : Database name to connect to\n",
    "    param table str : Table Name to insert into, if does not exist will create\n",
    "    param value str : unique value entered into table\n",
    "    '''\n",
    "    with sql.connect(db) as con:\n",
    "        try:\n",
    "            con.execute(\"INSERT INTO {tn} VALUES('%s','%s')\".format(tn=table)%(value1, value2))\n",
    "            print('%s %s inserted into %s')%(value1, value2, table)\n",
    "        except:\n",
    "            con.execute(\"INSERT INTO {tn} VALUES(Null,'%s')\".format(tn=table)%(value2))\n",
    "            print('%s inserted into %s, single entry')%(value2, table)\n",
    "\n",
    "        \n",
    "def enterValueCheck_nested(db, table, values, cn):\n",
    "    '''Check to insert a new record into a database table, inserts if does not exist\n",
    "    param  db str : Database name to connect to\n",
    "    param table str : Table Name to insert into, if does not exist will create\n",
    "    param values python series : series being parsed and formated to inspection and entry into table\n",
    "    param cn str : column name to check for entry to create a new pk\n",
    "    '''\n",
    "    keys = []\n",
    "    tableDF = sqlCMDToPD(table, db)\n",
    "    for i, ky in enumerate(values):\n",
    "        for key in ky.split(','):\n",
    "            if key not in tableDF[cn].unique():\n",
    "                print key, 'is new'\n",
    "                insertValues(db, table, None, key)\n",
    "            else:\n",
    "                print key, 'already exists in table'\n",
    "            \n",
    "            keys.append(key)\n",
    "        return keys\n",
    "\n",
    "def compositeCreation(db, table1, col, values, parentID, comptable):\n",
    "    '''Creating Composite Tables \n",
    "    First, find the values needed to insert from first table based on query\n",
    "    then insert each (parentID, value) pair into the composite table \n",
    "    param  db str : Database name to connect to\n",
    "    param table1 str : Table Name to query for multiple values\n",
    "    param col str : column name of value to retrieve iteratively \n",
    "    param values list : list of values to insert into the composite\n",
    "    param parentID int : integer value (Primary Key Value) of parent table to enter\n",
    "    param comptable str : Table Name of composite table\n",
    "    '''\n",
    "    t = sqlCMDToPD(table1, db)\n",
    "    tmp = t.query('{cn} in @values'.format(cn = col))[col]\n",
    "    for v in tmp.values:\n",
    "        print v, paperK\n",
    "        insertValues(db, comptable, parentID, v)\n",
    "        \n",
    "def getPK(db, table, pkCol):\n",
    "    '''retrieve the PRIMARY KEY\n",
    "    param  db str : Database name to connect to\n",
    "    param table str : Table Name to delete from\n",
    "    param pkcol str : primary column name being used, \n",
    "    '''\n",
    "    with sql.connect(db) as c:\n",
    "        cursor = c.cursor()\n",
    "        cursor.execute(\"SELECT {idf} FROM {tn} ORDER BY {idf} DESC LIMIT 1\".format(tn=table, idf=pkCol))\n",
    "        key = cursor.fetchone()[0]\n",
    "\n",
    "        return key\n",
    "    \n",
    "def deleteRowPK(db, table, pkcol, entryID):\n",
    "    '''Deleting a Record by PRIMARY KEY\n",
    "    param  db str : Database name to connect to\n",
    "    param table str : Table Name to delete from\n",
    "    param pkcol str : primary column name being used, \n",
    "    param entryID int : integer value (Primary Key Value) to delete from table\n",
    "    '''\n",
    "    with sql.connect(db) as con:\n",
    "        \n",
    "        con.execute(\"DELETE FROM {tn} WHERE {idf}={my_id}\".format(tn=table, idf=pkcol, my_id=entryID))\n",
    "\n",
    "        con.commit()\n",
    "\n",
    "def deleteRowOTHER(db, table, cn, entry):\n",
    "    '''Deleting a Record\n",
    "    param  db str : Database name to connect to\n",
    "    param table str : Table Name to delete from\n",
    "    param cn str : column name being used for deletion comparason (if no PK column, ie, abstracts Total)\n",
    "    param entry str : the str to be used to find and remove records (removes all records\n",
    "    '''\n",
    "    with sql.connect(db) as con:\n",
    "        \n",
    "        con.execute(\"DELETE FROM {tn} WHERE {idf}='%s'\".format(tn=table, idf=cn)%entry)\n",
    "\n",
    "        con.commit()\n",
    "        \n",
    "def entryintotables(db, jsonfile):\n",
    "    '''Inserting a Record from a JsonFile\n",
    "    param  db str : Database name to connect to\n",
    "    param jsonfile str : name of Json File to be read into the database\n",
    "    '''\n",
    "    f = open(jsonfile, \"r+\")\n",
    "    jdf = pd.read_json(f, orient='index')\n",
    "    #TOTALABSTRACTS, check and then insert if needed, uniqueness based on Abstract column\n",
    "    insert_toTable(db, jdf, table = 'ABSTRACTSTOTAL')\n",
    "    \n",
    "\n",
    "\n",
    "    #renaming of columns\n",
    "    jdf.rename(columns = {'Conf':'confName'}, inplace= True)\n",
    "    jdf.rename(columns = {'Author affiliation' : 'affiliation'}, inplace = True)\n",
    "    jdf.rename(columns = {'Authors' : 'authors'}, inplace = True)\n",
    "    \n",
    "    #CONFERENCES, check and then insert if needed, uniqueness based on Abstract column\n",
    "    insertcheckRecord(db, jdf, table = 'CONFERENCES', un = 'confName' )\n",
    "    \n",
    "    #PUBLICATIONS, check and then insert if needed, uniqueness based on Abstract column\n",
    "    insertcheckRecordTWO(db, jdf, table = 'PUBLICATIONS', un = 'confName', un1 = 'year' )\n",
    "    \n",
    "    #AFFILIATIONS\n",
    "    insertcheckRecord(db = db, df = jdf, table = 'AFFILIATIONS', un = 'affiliation')\n",
    "    \n",
    "    #For the nested: authors, keywords, and need to reparse/reformat, also to show numerous ways to insert:\n",
    "    #KEYS\n",
    "    keys = enterValueCheck_nested(db=db, table = 'KEYS', values = jdf.terms, cn = 'keyword')\n",
    "    \n",
    "    #AUTHORS\n",
    "    authors = enterValueCheck_nested(db=db, table = 'AUTHORS', values = jdf.authors, cn = 'authorName')\n",
    "    \n",
    "    #PAPER\n",
    "    jdf.rename(columns = {'year' : 'pubYear'}, inplace = True)\n",
    "    insert_toTable(mydb, jdf, 'PAPER')\n",
    "    paperID  = getPK(db, 'PAPER', 'paperID') \n",
    "    \n",
    "    #COMPOSITE TABLE UPDATES\n",
    "    #PAPERKEY\n",
    "    compositeCreation(db, 'KEYS', 'keyword', keys, paperID, 'PAPERKEY')\n",
    "    \n",
    "    #PAPERAUTHOR\n",
    "    compositeCreation(db, 'AUTHORS', 'authorName', authors, paperID, 'PAPERAUTHOR')\n",
    "    \n",
    "    #AFFILIATIONPAPER\n",
    "    affilationID = getPK(db, 'AFFILIATIONS', 'affilID' )\n",
    "    insertValues(mydb, \"AFFILIATIONPAPER\", paperID, affilationID)\n",
    "    \n",
    "    \n",
    "    return jdf, keys, authors"
   ]
  },
  {
   "cell_type": "code",
   "execution_count": null,
   "metadata": {
    "collapsed": false
   },
   "outputs": [],
   "source": [
    "j, keylist, authorslist = entryintotables(mydb, jsonFile )"
   ]
  },
  {
   "cell_type": "code",
   "execution_count": null,
   "metadata": {
    "collapsed": false
   },
   "outputs": [],
   "source": [
    "c = sqlCMDToPD(\"CONFERENCES\", mydb)\n",
    "t = sqlCMDToPD(\"ABSTRACTSTOTAL\", mydb)\n",
    "pap = sqlCMDToPD(\"PAPER\", mydb)\n",
    "pub = sqlCMDToPD(\"PUBLICATIONS\", mydb)\n",
    "k = sqlCMDToPD(\"KEYS\", mydb)\n",
    "\n",
    "au = sqlCMDToPD(\"AUTHORS\", mydb)\n",
    "aff = sqlCMDToPD(\"AFFILIATIONS\", mydb)\n",
    "\n",
    "pk = sqlCMDToPD(\"PAPERKEY\", mydb)\n",
    "ap = sqlCMDToPD(\"AFFILIATIONPAPER\", mydb)\n",
    "pa = sqlCMDToPD(\"PAPERAUTHOR\", mydb)\n",
    "pa.tail()"
   ]
  },
  {
   "cell_type": "code",
   "execution_count": null,
   "metadata": {
    "collapsed": false
   },
   "outputs": [],
   "source": [
    "#t.tail()\n",
    "jtest = pd.read_json(jsonFile, orient='index')\n",
    "jtest"
   ]
  },
  {
   "cell_type": "code",
   "execution_count": null,
   "metadata": {
    "collapsed": false
   },
   "outputs": [],
   "source": [
    "\n",
    "deleteRowOTHER(mydb, \"PAPER\", 'title', 'Monty Python and the Holy Grail' )\n",
    "pap2 = sqlCMDToPD(\"PAPER\", mydb)\n",
    "pap2.tail()"
   ]
  },
  {
   "cell_type": "code",
   "execution_count": null,
   "metadata": {
    "collapsed": false
   },
   "outputs": [],
   "source": [
    "keys = sqlCMDToPD('KEYS', mydb)\n",
    "keys.tail()"
   ]
  },
  {
   "cell_type": "code",
   "execution_count": null,
   "metadata": {
    "collapsed": false
   },
   "outputs": [],
   "source": [
    "deleteRowPK(mydb, 'KEYS', 'keyID', 5562)\n",
    "deleteRowPK(mydb, 'KEYS', 'keyID', 5561)\n",
    "deleteRowPK(mydb, 'KEYS', 'keyID', 5560)\n",
    "deleteRowPK(mydb, 'KEYS', 'keyID', 5558)\n",
    "deleteRowPK(mydb, 'AUTHORS', 'authorID', 1950)\n",
    "deleteRowPK(mydb, 'AUTHORS', 'authorID', 1951)\n",
    "deleteRowPK(mydb, 'AUTHORS', 'authorID', 1952)\n",
    "deleteRowPK(mydb, 'AUTHORS', 'authorID', 1950)\n",
    "deleteRowPK(mydb, 'AFFILIATIONS', 'affilID', 831)\n",
    "keys = sqlCMDToPD('KEYS', mydb)\n",
    "au = sqlCMDToPD('AUTHORS', mydb)\n",
    "aff = sqlCMDToPD('AFFILIATIONS', mydb)\n",
    "aff.tail()"
   ]
  },
  {
   "cell_type": "markdown",
   "metadata": {},
   "source": [
    "# Looking at some other sqlite functions"
   ]
  },
  {
   "cell_type": "code",
   "execution_count": null,
   "metadata": {
    "collapsed": false
   },
   "outputs": [],
   "source": [
    "def retrievals(db, table_name, column_2, column_3, id_column, some_id ):\n",
    "    with sql.connect(db) as con:\n",
    "        c =  cursor = con.cursor()\n",
    "        # 1) Contents of all columns for row that match a certain value in 1 column\n",
    "        c.execute('SELECT * FROM {tn} WHERE {cn}=\"ECSA\"'.\\\n",
    "                  format(tn=table_name, cn=column_2))\n",
    "        all_rows = c.fetchall()\n",
    "        print('1):', all_rows)\n",
    "\n",
    "    # 2) Value of a particular column for rows that match a certain value in column_1\n",
    "        c.execute('SELECT ({coi}) FROM {tn} WHERE {cn}=\"ECSA\"'.\\\n",
    "                  format(coi=column_2, tn=table_name, cn=column_2))\n",
    "        all_rows = c.fetchall()\n",
    "        print('2):', all_rows)\n",
    "\n",
    "    # 3) Value of 2 particular columns for rows that match a certain value in 1 column\n",
    "        c.execute('SELECT {coi1},{coi2} FROM {tn} WHERE {coi1}=\"ECSA\"'.\\\n",
    "                  format(coi1=column_2, coi2=column_3, tn=table_name, cn=column_2))\n",
    "        all_rows = c.fetchall()\n",
    "        print('3):', all_rows)\n",
    "\n",
    "    # 4) Selecting only up to 10 rows that match a certain value in 1 column\n",
    "        c.execute('SELECT * FROM {tn} WHERE {cn}=\"ECSA\" LIMIT 10'.\\\n",
    "                  format(tn=table_name, cn=column_2))\n",
    "        ten_rows = c.fetchall()\n",
    "        print('4):', ten_rows)\n",
    "\n",
    "    # 5) Check if a certain ID exists and print its column contents\n",
    "        c.execute(\"SELECT * FROM {tn} WHERE {idf}={my_id}\".\\\n",
    "                  format(tn=table_name, cn=column_2, idf=id_column, my_id=some_id))\n",
    "        id_exists = c.fetchone()\n",
    "        if id_exists:\n",
    "            print('5): {}'.format(id_exists))\n",
    "        else:\n",
    "            print('5): {} does not exist'.format(some_id))\n"
   ]
  },
  {
   "cell_type": "code",
   "execution_count": null,
   "metadata": {
    "collapsed": false
   },
   "outputs": [],
   "source": [
    "retrievals(mydb, 'CONFERENCES', 'confName', 'confID', 'confID', 3 )"
   ]
  },
  {
   "cell_type": "code",
   "execution_count": null,
   "metadata": {
    "collapsed": false
   },
   "outputs": [],
   "source": [
    "f = paperPK(mydb, 'PAPER', 'paperID')"
   ]
  },
  {
   "cell_type": "code",
   "execution_count": null,
   "metadata": {
    "collapsed": false
   },
   "outputs": [],
   "source": [
    "print keylist\n"
   ]
  },
  {
   "cell_type": "markdown",
   "metadata": {},
   "source": [
    "# SQLite "
   ]
  },
  {
   "cell_type": "code",
   "execution_count": null,
   "metadata": {
    "collapsed": true
   },
   "outputs": [],
   "source": [
    "#Remember to put PRAGMA foreign_key = ON\n"
   ]
  },
  {
   "cell_type": "code",
   "execution_count": null,
   "metadata": {
    "collapsed": false
   },
   "outputs": [],
   "source": []
  },
  {
   "cell_type": "code",
   "execution_count": null,
   "metadata": {
    "collapsed": true
   },
   "outputs": [],
   "source": [
    "sql_FK = \"\"\"\n",
    "SELECT sql\n",
    "  FROM (\n",
    "        SELECT sql sql, type type, tbl_name tbl_name, name name\n",
    "          FROM sqlite_master\n",
    "         UNION ALL\n",
    "        SELECT sql, type, tbl_name, name\n",
    "          FROM sqlite_temp_master\n",
    "       )\n",
    "WHERE type != 'meta'\n",
    "   AND sql NOTNULL\n",
    "   AND name NOT LIKE 'sqlite_%'\n",
    " ORDER BY substr(type, 2, 1), name\"\"\"\n",
    "\n",
    "def getTablesFK(cmd = sql_FK, db):\n",
    "    '''\n",
    "    : param NONE\n",
    "    : output : Returns a json dictionary of the table names, entry counts, and links to tables \n",
    "                of all table names in the database\n",
    "    ''' \n",
    "    with sql.connect(db) as con:\n",
    "    \n",
    "        df = pd.read_sql_query(cmd, con)\n",
    "        df_splitter = lambda x: pd.Series([i for i in x.split(',')])\n",
    "        df = df['sql'].apply(foo)\n",
    "        return df\n",
    "        "
   ]
  },
  {
   "cell_type": "code",
   "execution_count": null,
   "metadata": {
    "collapsed": false
   },
   "outputs": [],
   "source": [
    "dftest = getFKS(sqlcmd_fk, mydb)"
   ]
  },
  {
   "cell_type": "code",
   "execution_count": null,
   "metadata": {
    "collapsed": false
   },
   "outputs": [],
   "source": [
    "dftest"
   ]
  },
  {
   "cell_type": "code",
   "execution_count": null,
   "metadata": {
    "collapsed": false
   },
   "outputs": [],
   "source": [
    "c = sqlCMDToPD(\"CONFERENCES\", mydb)\n",
    "t = sqlCMDToPD(\"ABSTRACTSTOTAL\", mydb)\n",
    "pap = sqlCMDToPD(\"PAPER\", mydb)\n",
    "pub = sqlCMDToPD(\"PUBLICATIONS\", mydb)\n",
    "k = sqlCMDToPD(\"KEYS\", mydb)\n",
    "\n",
    "au = sqlCMDToPD(\"AUTHORS\", mydb)\n",
    "aff = sqlCMDToPD(\"AFFILIATIONS\", mydb)\n",
    "\n",
    "pk = sqlCMDToPD(\"PAPERKEY\", mydb)\n",
    "ap = sqlCMDToPD(\"AFFILIATIONPAPER\", mydb)\n",
    "pa = sqlCMDToPD(\"PAPERAUTHOR\", mydb)\n"
   ]
  },
  {
   "cell_type": "code",
   "execution_count": null,
   "metadata": {
    "collapsed": true
   },
   "outputs": [],
   "source": [
    "def deleteRowPK(db, table, pkcol, entryID):\n",
    "    '''Deleting a Record by PRIMARY KEY\n",
    "    param  db str : Database name to connect to\n",
    "    param table str : Table Name to delete from\n",
    "    param pkcol str : primary column name being used, \n",
    "    param entryID int : integer value (Primary Key Value) to delete from table\n",
    "    '''\n",
    "    with sql.connect(db) as con:\n",
    "        con.execute(\"PRAGMA foreign_key = ON\")\n",
    "        con.execute(\"DELETE FROM {tn} WHERE {idf}={my_id}\".format(tn=table, idf=pkcol, my_id=entryID))\n",
    "\n",
    "        con.commit()"
   ]
  },
  {
   "cell_type": "code",
   "execution_count": null,
   "metadata": {
    "collapsed": true
   },
   "outputs": [],
   "source": [
    "import RESTful as r\n",
    "r = reload(r)"
   ]
  },
  {
   "cell_type": "code",
   "execution_count": null,
   "metadata": {
    "collapsed": true
   },
   "outputs": [],
   "source": [
    "jFILE = \"json6.json\""
   ]
  },
  {
   "cell_type": "code",
   "execution_count": null,
   "metadata": {
    "collapsed": false
   },
   "outputs": [],
   "source": [
    "r.entryintotables(mydb, jFILE)"
   ]
  },
  {
   "cell_type": "code",
   "execution_count": null,
   "metadata": {
    "collapsed": false
   },
   "outputs": [],
   "source": [
    "c = sqlCMDToPD(\"CONFERENCES\", mydb)\n",
    "t = sqlCMDToPD(\"ABSTRACTSTOTAL\", mydb)\n",
    "pap = sqlCMDToPD(\"PAPER\", mydb)\n",
    "pub = sqlCMDToPD(\"PUBLICATIONS\", mydb)\n",
    "k = sqlCMDToPD(\"KEYS\", mydb)\n",
    "\n",
    "au = sqlCMDToPD(\"AUTHORS\", mydb)\n",
    "aff = sqlCMDToPD(\"AFFILIATIONS\", mydb)\n",
    "\n",
    "pk = sqlCMDToPD(\"PAPERKEY\", mydb)\n",
    "ap = sqlCMDToPD(\"AFFILIATIONPAPER\", mydb)\n",
    "pa = sqlCMDToPD(\"PAPERAUTHOR\", mydb)\n",
    "pap.tail(2)"
   ]
  },
  {
   "cell_type": "code",
   "execution_count": null,
   "metadata": {
    "collapsed": true
   },
   "outputs": [],
   "source": [
    "deleteRowPK(mydb, \"PAPER\", \"paperID\", 1103)\n",
    "deleteRowPK(mydb, \"PAPERKEY\", \"paperID\", 1103)"
   ]
  },
  {
   "cell_type": "code",
   "execution_count": null,
   "metadata": {
    "collapsed": false
   },
   "outputs": [],
   "source": [
    "c = sqlCMDToPD(\"CONFERENCES\", mydb)\n",
    "t = sqlCMDToPD(\"ABSTRACTSTOTAL\", mydb)\n",
    "pap = sqlCMDToPD(\"PAPER\", mydb)\n",
    "pub = sqlCMDToPD(\"PUBLICATIONS\", mydb)\n",
    "k = sqlCMDToPD(\"KEYS\", mydb)\n",
    "\n",
    "au = sqlCMDToPD(\"AUTHORS\", mydb)\n",
    "aff = sqlCMDToPD(\"AFFILIATIONS\", mydb)\n",
    "\n",
    "pk = sqlCMDToPD(\"PAPERKEY\", mydb)\n",
    "ap = sqlCMDToPD(\"AFFILIATIONPAPER\", mydb)\n",
    "pa = sqlCMDToPD(\"PAPERAUTHOR\", mydb)"
   ]
  },
  {
   "cell_type": "code",
   "execution_count": null,
   "metadata": {
    "collapsed": false
   },
   "outputs": [],
   "source": [
    "pap.tail()"
   ]
  },
  {
   "cell_type": "code",
   "execution_count": null,
   "metadata": {
    "collapsed": true
   },
   "outputs": [],
   "source": [
    "def deleteRowPK(db, tab1, pkcol, entryID, tab2):\n",
    "    '''Deleting a Record by PRIMARY KEY\n",
    "    param  db str : Database name to connect to\n",
    "    param table str : Table Name to delete from\n",
    "    param pkcol str : primary column name being used, \n",
    "    param entryID int : integer value (Primary Key Value) to delete from table\n",
    "    '''\n",
    "    with sql.connect(db) as con:\n",
    "        con.execute(\"PRAGMA foreign_keys = ON\")\n",
    "        con.execute(\"DELETE FROM {tn} WHERE {idf}={my_id}\".format(tn=tab1, idf=pkcol, my_id=entryID))\n",
    "\n",
    "        con.commit()\n",
    "\n",
    "        df1  = con.execute(\"select * from {b} LIMIT 5\".format(b = tab2)).fetchall()\n",
    "        df2 =  con.execute(\"select * from {tn} LIMIT 5\".format(tn = tab1)).fetchall()\n",
    "    \n",
    "    return df1, df2"
   ]
  },
  {
   "cell_type": "code",
   "execution_count": null,
   "metadata": {
    "collapsed": false
   },
   "outputs": [],
   "source": [
    "s = pap.query(\"paperID == 4\")\n",
    "vals = map(list, s[['abstract', 'confName', 'pubYear']].values)[0]\n",
    "q = t.query('@vals[0] in Abstract').query(\"@vals[1] == Conf\").query(\"@vals[2] == year\")\n",
    "\n",
    "q"
   ]
  },
  {
   "cell_type": "code",
   "execution_count": null,
   "metadata": {
    "collapsed": false
   },
   "outputs": [],
   "source": [
    "str(vals[0])"
   ]
  },
  {
   "cell_type": "code",
   "execution_count": null,
   "metadata": {
    "collapsed": false
   },
   "outputs": [],
   "source": [
    "def selectPaperID(db, paperID):\n",
    "    '''\n",
    "    : param NONE\n",
    "    : output : Returns a json dictionary of the table names, entry counts, and links to tables \n",
    "                of all table names in the database\n",
    "    ''' \n",
    "    with sql.connect(db) as con:\n",
    "        c = con.cursor()\n",
    "        c.execute(\"SELECT abstract, confName, pubYear FROM PAPER WHERE paperID = {my_id} \".format(my_id = paperID)) \n",
    "        return c.fetchone()\n",
    "\n",
    "def deleteRowTABLE(db, paperID):\n",
    "    '''Deleting a Record by PRIMARY KEY\n",
    "    param  db str : Database name to connect to\n",
    "    param table str : Table Name to delete from\n",
    "    param pkcol str : primary column name being used, \n",
    "    param entryID int : integer value (Primary Key Value) to delete from table\n",
    "    '''\n",
    "    values = selectPaperID(db, paperID)\n",
    "    with sql.connect(db) as con:\n",
    "       \n",
    "        con.execute(\"DELETE FROM {tn} WHERE Abstract = '%s' AND Conf= '%s' AND year = '%s'\".format(tn='ABSTRACTSTOTAL')%(values[0],\n",
    "                                                                                                                        values[1],\n",
    "                                                                                                                        values[2]))\n",
    "\n",
    "        df = r.sqlCMDToPD('ABSTRACTSTOTAL', db)\n",
    "    \n",
    "    return df\n",
    "\n",
    "def deletebyPaper(db, myID):\n",
    "    \n",
    "    #delete the paper from paperTable\n",
    "    r.deleteRowPK(mydb, 'PAPER', 'paperID', myID)\n",
    "    #delete from composites\n",
    "    r.deleteRowPK(mydb, 'PAPERKEY', 'paperID', myID)\n",
    "    r.deleteRowPK(mydb, 'PAPERAUTHOR', 'paperID', myID)\n",
    "    r.deleteRowPK(mydb, 'AFFILIATIONPAPER', 'paperID', myID)\n",
    "    r.deleteRowPK(mydb, 'PAPER', 'paperID', myID)\n",
    "    \n",
    "    #delete from TOTAL ABSTRACTS\n",
    "    \n",
    "    deleteRowTABLE(db, myID)\n",
    "    \n",
    "    return df\n",
    "    \n",
    "    \n",
    "    "
   ]
  },
  {
   "cell_type": "code",
   "execution_count": 12,
   "metadata": {
    "collapsed": false
   },
   "outputs": [],
   "source": [
    "\n",
    "def selectPaperID(db, paperID):\n",
    "    '''\n",
    "    : param NONE\n",
    "    : output : Returns a json dictionary of the table names, entry counts, and links to tables \n",
    "                of all table names in the database\n",
    "    ''' \n",
    "    with sql.connect(db) as con:\n",
    "        c = con.cursor()\n",
    "        c.execute(\"SELECT abstract, confName, pubYear FROM PAPER WHERE paperID = {my_id} \".format(my_id = paperID)) \n",
    "        return c.fetchone()\n",
    "\n",
    "def deleteRowTABLE(db, paperID):\n",
    "    '''Deleting a Record by PRIMARY KEY\n",
    "    param  db str : Database name to connect to\n",
    "    param table str : Table Name to delete from\n",
    "    param pkcol str : primary column name being used, \n",
    "    param entryID int : integer value (Primary Key Value) to delete from table\n",
    "    '''\n",
    "    values = selectPaperID(db, paperID)\n",
    "    with sql.connect(db) as con:\n",
    "       \n",
    "        con.execute(\"DELETE FROM {tn} WHERE Abstract = '%s' AND Conf= '%s' AND year = '%s'\".format(tn='ABSTRACTSTOTAL')%(values[0],\n",
    "                                                                                                                        values[1],\n",
    "                                                                                                                        values[2]))\n",
    "\n",
    "        df = r.sqlCMDToPD('ABSTRACTSTOTAL', db)\n",
    "    \n",
    "    return df"
   ]
  },
  {
   "cell_type": "code",
   "execution_count": null,
   "metadata": {
    "collapsed": false
   },
   "outputs": [],
   "source": [
    "deleteRowTABLE(mydb, 10)\n"
   ]
  },
  {
   "cell_type": "code",
   "execution_count": null,
   "metadata": {
    "collapsed": false
   },
   "outputs": [],
   "source": [
    "t = sqlCMDToPD('ABSTRACTSTOTAL', mydb)"
   ]
  },
  {
   "cell_type": "code",
   "execution_count": null,
   "metadata": {
    "collapsed": false
   },
   "outputs": [],
   "source": [
    "sql_del = \"\"\"\n",
    "DELETE FROM ABSTRACTSTOTAL WHERE year = {y} && Conf = '%s' AND '%s' in Abstract\n",
    "\"\"\".format(y = vals[2])%(vals[1],vals[0] )"
   ]
  },
  {
   "cell_type": "code",
   "execution_count": null,
   "metadata": {
    "collapsed": false
   },
   "outputs": [],
   "source": [
    "def getTablesFK(db, cmd = sql_del):\n",
    "    '''\n",
    "    : param NONE\n",
    "    : output : Returns a json dictionary of the table names, entry counts, and links to tables \n",
    "                of all table names in the database\n",
    "    ''' \n",
    "    with sql.connect(db) as con:\n",
    "    \n",
    "        df = pd.read_sql_query(cmd, con)\n",
    "        \n",
    "        return df"
   ]
  },
  {
   "cell_type": "code",
   "execution_count": 13,
   "metadata": {
    "collapsed": false
   },
   "outputs": [
    {
     "ename": "NameError",
     "evalue": "name 'mydb' is not defined",
     "output_type": "error",
     "traceback": [
      "\u001b[0;31m---------------------------------------------------------------------------\u001b[0m",
      "\u001b[0;31mNameError\u001b[0m                                 Traceback (most recent call last)",
      "\u001b[0;32m<ipython-input-13-13e240a20f19>\u001b[0m in \u001b[0;36m<module>\u001b[0;34m()\u001b[0m\n\u001b[0;32m----> 1\u001b[0;31m \u001b[0mselectPaperID\u001b[0m\u001b[0;34m(\u001b[0m\u001b[0mmydb\u001b[0m\u001b[0;34m,\u001b[0m \u001b[0;36m18\u001b[0m\u001b[0;34m)\u001b[0m\u001b[0;34m\u001b[0m\u001b[0m\n\u001b[0m",
      "\u001b[0;31mNameError\u001b[0m: name 'mydb' is not defined"
     ]
    }
   ],
   "source": [
    "selectPaperID(mydb, 18)  "
   ]
  },
  {
   "cell_type": "code",
   "execution_count": null,
   "metadata": {
    "collapsed": false
   },
   "outputs": [],
   "source": [
    "f, x = selectPaperID(mydb, 8)"
   ]
  },
  {
   "cell_type": "code",
   "execution_count": null,
   "metadata": {
    "collapsed": false
   },
   "outputs": [],
   "source": [
    "f\n"
   ]
  },
  {
   "cell_type": "code",
   "execution_count": null,
   "metadata": {
    "collapsed": false
   },
   "outputs": [],
   "source": [
    "x[0]"
   ]
  },
  {
   "cell_type": "code",
   "execution_count": 26,
   "metadata": {
    "collapsed": false
   },
   "outputs": [],
   "source": [
    "import deletionNOCASCADE as dC\n",
    "dC = reload(dC)\n",
    "import RESTful as r\n",
    "r = reload(r)"
   ]
  },
  {
   "cell_type": "code",
   "execution_count": 28,
   "metadata": {
    "collapsed": false,
    "scrolled": true
   },
   "outputs": [
    {
     "name": "stdout",
     "output_type": "stream",
     "text": [
      "(3, 2)\n",
      "(1140, 7)\n",
      "(1102, 8)\n",
      "(27, 3)\n",
      "(5557, 2)\n",
      "(1949, 2)\n",
      "(830, 2)\n",
      "(17436, 2)\n",
      "(1102, 2)\n",
      "(3432, 2)\n"
     ]
    },
    {
     "data": {
      "text/html": [
       "<div>\n",
       "<table border=\"1\" class=\"dataframe\">\n",
       "  <thead>\n",
       "    <tr style=\"text-align: right;\">\n",
       "      <th></th>\n",
       "      <th>paperID</th>\n",
       "      <th>abstract</th>\n",
       "      <th>title</th>\n",
       "      <th>terms</th>\n",
       "      <th>authors</th>\n",
       "      <th>affiliation</th>\n",
       "      <th>pubYear</th>\n",
       "      <th>confName</th>\n",
       "    </tr>\n",
       "  </thead>\n",
       "  <tbody>\n",
       "    <tr>\n",
       "      <th>1097</th>\n",
       "      <td>1098</td>\n",
       "      <td>With the spread of the Internet and software e...</td>\n",
       "      <td>Towards a formal model for reconfigurable soft...</td>\n",
       "      <td>['Architecture', 'Chlorine compounds', 'Digita...</td>\n",
       "      <td>['Chang, Zhiming', '', '', 'Mao, Xinjun', '', ...</td>\n",
       "      <td>Dept  of Computer Science, National University...</td>\n",
       "      <td>2008</td>\n",
       "      <td>WICSA</td>\n",
       "    </tr>\n",
       "    <tr>\n",
       "      <th>1098</th>\n",
       "      <td>1099</td>\n",
       "      <td>With the widespread adoption of cloud computin...</td>\n",
       "      <td>A framework for architecture driven migration ...</td>\n",
       "      <td>['Cloud computing', 'Reengineering', 'Reusabil...</td>\n",
       "      <td>['Ahmad, Aakash', '', '', 'Babar, Muhammad Ali...</td>\n",
       "      <td>IT University of Copenhagen, Denmark  2  Unive...</td>\n",
       "      <td>2014</td>\n",
       "      <td>WICSA</td>\n",
       "    </tr>\n",
       "    <tr>\n",
       "      <th>1099</th>\n",
       "      <td>1100</td>\n",
       "      <td>Within the business software domain it is cruc...</td>\n",
       "      <td>The role of variability patterns in multi tena...</td>\n",
       "      <td>['Software architecture', 'Multi-tenancy', 'On...</td>\n",
       "      <td>['Kabbedijk, J', '', '', ' Jansen, S', '', '']</td>\n",
       "      <td>Information and Computing Sciences, Utrecht Un...</td>\n",
       "      <td>2012</td>\n",
       "      <td>ECSA</td>\n",
       "    </tr>\n",
       "    <tr>\n",
       "      <th>1100</th>\n",
       "      <td>1101</td>\n",
       "      <td>Within the business software domain it is cruc...</td>\n",
       "      <td>The role of variability patterns in multi tena...</td>\n",
       "      <td>['Software architecture', 'Multi-tenancy', 'On...</td>\n",
       "      <td>['Kabbedijk, J', '', '', ' Jansen, S', '', '']</td>\n",
       "      <td>Information and Computing Sciences, Utrecht Un...</td>\n",
       "      <td>2012</td>\n",
       "      <td>WICSA</td>\n",
       "    </tr>\n",
       "    <tr>\n",
       "      <th>1101</th>\n",
       "      <td>1102</td>\n",
       "      <td>Without rigorous software development and main...</td>\n",
       "      <td>A case study in incremental architecture based...</td>\n",
       "      <td>['Computer programming languages', 'Computer s...</td>\n",
       "      <td>['Abi Antoun, Marwan', '', '', 'Coelho, Wesley']</td>\n",
       "      <td>Institute for Software Research Intl  ISRI , C...</td>\n",
       "      <td>2005</td>\n",
       "      <td>WICSA</td>\n",
       "    </tr>\n",
       "  </tbody>\n",
       "</table>\n",
       "</div>"
      ],
      "text/plain": [
       "      paperID                                           abstract  \\\n",
       "1097     1098  With the spread of the Internet and software e...   \n",
       "1098     1099  With the widespread adoption of cloud computin...   \n",
       "1099     1100  Within the business software domain it is cruc...   \n",
       "1100     1101  Within the business software domain it is cruc...   \n",
       "1101     1102  Without rigorous software development and main...   \n",
       "\n",
       "                                                  title  \\\n",
       "1097  Towards a formal model for reconfigurable soft...   \n",
       "1098  A framework for architecture driven migration ...   \n",
       "1099  The role of variability patterns in multi tena...   \n",
       "1100  The role of variability patterns in multi tena...   \n",
       "1101  A case study in incremental architecture based...   \n",
       "\n",
       "                                                  terms  \\\n",
       "1097  ['Architecture', 'Chlorine compounds', 'Digita...   \n",
       "1098  ['Cloud computing', 'Reengineering', 'Reusabil...   \n",
       "1099  ['Software architecture', 'Multi-tenancy', 'On...   \n",
       "1100  ['Software architecture', 'Multi-tenancy', 'On...   \n",
       "1101  ['Computer programming languages', 'Computer s...   \n",
       "\n",
       "                                                authors  \\\n",
       "1097  ['Chang, Zhiming', '', '', 'Mao, Xinjun', '', ...   \n",
       "1098  ['Ahmad, Aakash', '', '', 'Babar, Muhammad Ali...   \n",
       "1099     ['Kabbedijk, J', '', '', ' Jansen, S', '', '']   \n",
       "1100     ['Kabbedijk, J', '', '', ' Jansen, S', '', '']   \n",
       "1101   ['Abi Antoun, Marwan', '', '', 'Coelho, Wesley']   \n",
       "\n",
       "                                            affiliation  pubYear confName  \n",
       "1097  Dept  of Computer Science, National University...     2008    WICSA  \n",
       "1098  IT University of Copenhagen, Denmark  2  Unive...     2014    WICSA  \n",
       "1099  Information and Computing Sciences, Utrecht Un...     2012     ECSA  \n",
       "1100  Information and Computing Sciences, Utrecht Un...     2012    WICSA  \n",
       "1101  Institute for Software Research Intl  ISRI , C...     2005    WICSA  "
      ]
     },
     "execution_count": 28,
     "metadata": {},
     "output_type": "execute_result"
    }
   ],
   "source": [
    "c = r.sqlCMDToPD(\"CONFERENCES\", mydb)\n",
    "t = r.sqlCMDToPD(\"ABSTRACTSTOTAL\", mydb)\n",
    "pap = r.sqlCMDToPD(\"PAPER\", mydb)\n",
    "pub = r.sqlCMDToPD(\"PUBLICATIONS\", mydb)\n",
    "k = r.sqlCMDToPD(\"KEYS\", mydb)\n",
    "\n",
    "au = r.sqlCMDToPD(\"AUTHORS\", mydb)\n",
    "aff = r.sqlCMDToPD(\"AFFILIATIONS\", mydb)\n",
    "\n",
    "pk = r.sqlCMDToPD(\"PAPERKEY\", mydb)\n",
    "ap = r.sqlCMDToPD(\"AFFILIATIONPAPER\", mydb)\n",
    "pa = r.sqlCMDToPD(\"PAPERAUTHOR\", mydb)\n",
    "pap.tail()\n"
   ]
  },
  {
   "cell_type": "code",
   "execution_count": 29,
   "metadata": {
    "collapsed": false
   },
   "outputs": [
    {
     "name": "stdout",
     "output_type": "stream",
     "text": [
      "1102\n",
      "deleted from PK\n",
      "deleted from PA\n",
      "deleted from AP\n",
      "(u'Without rigorous software development and maintenance, software tends to lose its original architectural structure and become more difficult to understand and modify  ArchJava, a recently proposed implementation language which embeds a component and connector architectural specification within Java implementation code, offers the promise of preventing the loss of architectural structure  We describe a case study in which we incrementally re engineer an existing implementation with an eroded architecture to obtain an ArchJava implementation that more closely matches an idealized architecture  Building on results from similar case studies, we chose an application consisting of over 16,000 source lines of Java code and 80 classes that exhibited many characteristics of real world legacy applications  We describe our process, some lessons learned, as well as some perceived limitations with the tools, techniques and languages we used      2005 IEEE   28 refs', u'WICSA', 2005)\n",
      "(1140, 7)\n",
      "deleted from ABTOT\n",
      "deleted from PAPER\n"
     ]
    }
   ],
   "source": [
    "dC.deletebyPaper(1102)"
   ]
  },
  {
   "cell_type": "code",
   "execution_count": 30,
   "metadata": {
    "collapsed": false
   },
   "outputs": [
    {
     "name": "stdout",
     "output_type": "stream",
     "text": [
      "(3, 2)\n",
      "(1139, 7)\n",
      "(1101, 8)\n",
      "(27, 3)\n",
      "(5557, 2)\n",
      "(1949, 2)\n",
      "(830, 2)\n",
      "(17424, 2)\n",
      "(1101, 2)\n",
      "(3430, 2)\n"
     ]
    },
    {
     "data": {
      "text/html": [
       "<div>\n",
       "<table border=\"1\" class=\"dataframe\">\n",
       "  <thead>\n",
       "    <tr style=\"text-align: right;\">\n",
       "      <th></th>\n",
       "      <th>paperID</th>\n",
       "      <th>abstract</th>\n",
       "      <th>title</th>\n",
       "      <th>terms</th>\n",
       "      <th>authors</th>\n",
       "      <th>affiliation</th>\n",
       "      <th>pubYear</th>\n",
       "      <th>confName</th>\n",
       "    </tr>\n",
       "  </thead>\n",
       "  <tbody>\n",
       "    <tr>\n",
       "      <th>1096</th>\n",
       "      <td>1097</td>\n",
       "      <td>With the maturation of this field, companies a...</td>\n",
       "      <td>Is architecture a product that can be packaged...</td>\n",
       "      <td>['Application software, Software engineering, ...</td>\n",
       "      <td>['Kozaczynski, W']</td>\n",
       "      <td>Rational Software Corp</td>\n",
       "      <td>2001</td>\n",
       "      <td>WICSA</td>\n",
       "    </tr>\n",
       "    <tr>\n",
       "      <th>1097</th>\n",
       "      <td>1098</td>\n",
       "      <td>With the spread of the Internet and software e...</td>\n",
       "      <td>Towards a formal model for reconfigurable soft...</td>\n",
       "      <td>['Architecture', 'Chlorine compounds', 'Digita...</td>\n",
       "      <td>['Chang, Zhiming', '', '', 'Mao, Xinjun', '', ...</td>\n",
       "      <td>Dept  of Computer Science, National University...</td>\n",
       "      <td>2008</td>\n",
       "      <td>WICSA</td>\n",
       "    </tr>\n",
       "    <tr>\n",
       "      <th>1098</th>\n",
       "      <td>1099</td>\n",
       "      <td>With the widespread adoption of cloud computin...</td>\n",
       "      <td>A framework for architecture driven migration ...</td>\n",
       "      <td>['Cloud computing', 'Reengineering', 'Reusabil...</td>\n",
       "      <td>['Ahmad, Aakash', '', '', 'Babar, Muhammad Ali...</td>\n",
       "      <td>IT University of Copenhagen, Denmark  2  Unive...</td>\n",
       "      <td>2014</td>\n",
       "      <td>WICSA</td>\n",
       "    </tr>\n",
       "    <tr>\n",
       "      <th>1099</th>\n",
       "      <td>1100</td>\n",
       "      <td>Within the business software domain it is cruc...</td>\n",
       "      <td>The role of variability patterns in multi tena...</td>\n",
       "      <td>['Software architecture', 'Multi-tenancy', 'On...</td>\n",
       "      <td>['Kabbedijk, J', '', '', ' Jansen, S', '', '']</td>\n",
       "      <td>Information and Computing Sciences, Utrecht Un...</td>\n",
       "      <td>2012</td>\n",
       "      <td>ECSA</td>\n",
       "    </tr>\n",
       "    <tr>\n",
       "      <th>1100</th>\n",
       "      <td>1101</td>\n",
       "      <td>Within the business software domain it is cruc...</td>\n",
       "      <td>The role of variability patterns in multi tena...</td>\n",
       "      <td>['Software architecture', 'Multi-tenancy', 'On...</td>\n",
       "      <td>['Kabbedijk, J', '', '', ' Jansen, S', '', '']</td>\n",
       "      <td>Information and Computing Sciences, Utrecht Un...</td>\n",
       "      <td>2012</td>\n",
       "      <td>WICSA</td>\n",
       "    </tr>\n",
       "  </tbody>\n",
       "</table>\n",
       "</div>"
      ],
      "text/plain": [
       "      paperID                                           abstract  \\\n",
       "1096     1097  With the maturation of this field, companies a...   \n",
       "1097     1098  With the spread of the Internet and software e...   \n",
       "1098     1099  With the widespread adoption of cloud computin...   \n",
       "1099     1100  Within the business software domain it is cruc...   \n",
       "1100     1101  Within the business software domain it is cruc...   \n",
       "\n",
       "                                                  title  \\\n",
       "1096  Is architecture a product that can be packaged...   \n",
       "1097  Towards a formal model for reconfigurable soft...   \n",
       "1098  A framework for architecture driven migration ...   \n",
       "1099  The role of variability patterns in multi tena...   \n",
       "1100  The role of variability patterns in multi tena...   \n",
       "\n",
       "                                                  terms  \\\n",
       "1096  ['Application software, Software engineering, ...   \n",
       "1097  ['Architecture', 'Chlorine compounds', 'Digita...   \n",
       "1098  ['Cloud computing', 'Reengineering', 'Reusabil...   \n",
       "1099  ['Software architecture', 'Multi-tenancy', 'On...   \n",
       "1100  ['Software architecture', 'Multi-tenancy', 'On...   \n",
       "\n",
       "                                                authors  \\\n",
       "1096                                 ['Kozaczynski, W']   \n",
       "1097  ['Chang, Zhiming', '', '', 'Mao, Xinjun', '', ...   \n",
       "1098  ['Ahmad, Aakash', '', '', 'Babar, Muhammad Ali...   \n",
       "1099     ['Kabbedijk, J', '', '', ' Jansen, S', '', '']   \n",
       "1100     ['Kabbedijk, J', '', '', ' Jansen, S', '', '']   \n",
       "\n",
       "                                            affiliation  pubYear confName  \n",
       "1096                             Rational Software Corp     2001    WICSA  \n",
       "1097  Dept  of Computer Science, National University...     2008    WICSA  \n",
       "1098  IT University of Copenhagen, Denmark  2  Unive...     2014    WICSA  \n",
       "1099  Information and Computing Sciences, Utrecht Un...     2012     ECSA  \n",
       "1100  Information and Computing Sciences, Utrecht Un...     2012    WICSA  "
      ]
     },
     "execution_count": 30,
     "metadata": {},
     "output_type": "execute_result"
    }
   ],
   "source": [
    "c = r.sqlCMDToPD(\"CONFERENCES\", mydb)\n",
    "t = r.sqlCMDToPD(\"ABSTRACTSTOTAL\", mydb)\n",
    "pap = r.sqlCMDToPD(\"PAPER\", mydb)\n",
    "pub = r.sqlCMDToPD(\"PUBLICATIONS\", mydb)\n",
    "k = r.sqlCMDToPD(\"KEYS\", mydb)\n",
    "\n",
    "au = r.sqlCMDToPD(\"AUTHORS\", mydb)\n",
    "aff = r.sqlCMDToPD(\"AFFILIATIONS\", mydb)\n",
    "\n",
    "pk = r.sqlCMDToPD(\"PAPERKEY\", mydb)\n",
    "ap = r.sqlCMDToPD(\"AFFILIATIONPAPER\", mydb)\n",
    "pa = r.sqlCMDToPD(\"PAPERAUTHOR\", mydb)\n",
    "pap.tail()\n"
   ]
  },
  {
   "cell_type": "code",
   "execution_count": null,
   "metadata": {
    "collapsed": true
   },
   "outputs": [],
   "source": []
  }
 ],
 "metadata": {
  "kernelspec": {
   "display_name": "Python 2",
   "language": "python",
   "name": "python2"
  },
  "language_info": {
   "codemirror_mode": {
    "name": "ipython",
    "version": 2
   },
   "file_extension": ".py",
   "mimetype": "text/x-python",
   "name": "python",
   "nbconvert_exporter": "python",
   "pygments_lexer": "ipython2",
   "version": "2.7.11"
  }
 },
 "nbformat": 4,
 "nbformat_minor": 0
}
