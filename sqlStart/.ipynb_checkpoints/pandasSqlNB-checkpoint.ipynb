{
 "cells": [
  {
   "cell_type": "code",
   "execution_count": 31,
   "metadata": {
    "collapsed": true
   },
   "outputs": [],
   "source": [
    "import sqlite3\n",
    "import pandas as pd"
   ]
  },
  {
   "cell_type": "code",
   "execution_count": 32,
   "metadata": {
    "collapsed": false
   },
   "outputs": [
    {
     "name": "stdout",
     "output_type": "stream",
     "text": [
      "(0, 10)\n"
     ]
    }
   ],
   "source": [
    "with sqlite3.connect('Abstracts.db') as con:\n",
    "    sql = \"SELECT * FROM Abstracts\"\n",
    "    dfab = pd.read_sql_query(sql, con)\n",
    "    print dfab.shape"
   ]
  },
  {
   "cell_type": "code",
   "execution_count": 33,
   "metadata": {
    "collapsed": false
   },
   "outputs": [
    {
     "data": {
      "text/html": [
       "<div>\n",
       "<table border=\"1\" class=\"dataframe\">\n",
       "  <thead>\n",
       "    <tr style=\"text-align: right;\">\n",
       "      <th></th>\n",
       "      <th>Abstract</th>\n",
       "      <th>Author affiliation</th>\n",
       "      <th>Authors</th>\n",
       "      <th>Classification Code</th>\n",
       "      <th>Conf</th>\n",
       "      <th>Database</th>\n",
       "      <th>Source</th>\n",
       "      <th>Title</th>\n",
       "      <th>terms</th>\n",
       "      <th>year</th>\n",
       "    </tr>\n",
       "  </thead>\n",
       "  <tbody>\n",
       "  </tbody>\n",
       "</table>\n",
       "</div>"
      ],
      "text/plain": [
       "Empty DataFrame\n",
       "Columns: [Abstract, Author affiliation, Authors, Classification Code, Conf, Database, Source, Title, terms, year]\n",
       "Index: []"
      ]
     },
     "execution_count": 33,
     "metadata": {},
     "output_type": "execute_result"
    }
   ],
   "source": [
    "dfab"
   ]
  },
  {
   "cell_type": "code",
   "execution_count": 34,
   "metadata": {
    "collapsed": true
   },
   "outputs": [],
   "source": [
    "totalDF = pd.read_hdf('../DataBaseParsing/DFstore.h5', 'df')"
   ]
  },
  {
   "cell_type": "code",
   "execution_count": 35,
   "metadata": {
    "collapsed": false
   },
   "outputs": [
    {
     "data": {
      "text/plain": [
       "Abstract               Empirical software engineering focuses on the ...\n",
       "Author affiliation                   1  DISP  Univ  of Rome  Rome  Italy\n",
       "Authors                        Falessi  D   1   Kruchten  P   Cantone  G\n",
       "Classification Code    C6110B Software engineering techniques   C0310...\n",
       "Conf                                                                ECSA\n",
       "Database                                                          Inspec\n",
       "Source                 Software Architecture  First European Conferen...\n",
       "Title                  Issues in applying empirical software engineer...\n",
       "terms                  [software architecture - software quality, emp...\n",
       "year                                                                2007\n",
       "Name: 1, dtype: object"
      ]
     },
     "execution_count": 35,
     "metadata": {},
     "output_type": "execute_result"
    }
   ],
   "source": [
    "row1 = totalDF.iloc[0]\n",
    "row1"
   ]
  },
  {
   "cell_type": "code",
   "execution_count": 39,
   "metadata": {
    "collapsed": false
   },
   "outputs": [],
   "source": [
    "dfab = dfab.append(totalDF)"
   ]
  },
  {
   "cell_type": "code",
   "execution_count": 40,
   "metadata": {
    "collapsed": false
   },
   "outputs": [
    {
     "data": {
      "text/html": [
       "<div>\n",
       "<table border=\"1\" class=\"dataframe\">\n",
       "  <thead>\n",
       "    <tr style=\"text-align: right;\">\n",
       "      <th></th>\n",
       "      <th>Abstract</th>\n",
       "      <th>Author affiliation</th>\n",
       "      <th>Authors</th>\n",
       "      <th>Classification Code</th>\n",
       "      <th>Conf</th>\n",
       "      <th>Database</th>\n",
       "      <th>Source</th>\n",
       "      <th>Title</th>\n",
       "      <th>terms</th>\n",
       "      <th>year</th>\n",
       "    </tr>\n",
       "  </thead>\n",
       "  <tbody>\n",
       "    <tr>\n",
       "      <th>1</th>\n",
       "      <td>Empirical software engineering focuses on the ...</td>\n",
       "      <td>1  DISP  Univ  of Rome  Rome  Italy</td>\n",
       "      <td>Falessi  D   1   Kruchten  P   Cantone  G</td>\n",
       "      <td>C6110B Software engineering techniques   C0310...</td>\n",
       "      <td>ECSA</td>\n",
       "      <td>Inspec</td>\n",
       "      <td>Software Architecture  First European Conferen...</td>\n",
       "      <td>Issues in applying empirical software engineer...</td>\n",
       "      <td>[software architecture - software quality, emp...</td>\n",
       "      <td>2007</td>\n",
       "    </tr>\n",
       "    <tr>\n",
       "      <th>2</th>\n",
       "      <td>Software architecture description languages al...</td>\n",
       "      <td>1  LSTS   ENIT  Tunis  Tunisia</td>\n",
       "      <td>Jerad  C   1   Barkaoui  K   Grissa Touzi  A</td>\n",
       "      <td>C6110B Software engineering techniques   C4210...</td>\n",
       "      <td>ECSA</td>\n",
       "      <td>Inspec</td>\n",
       "      <td>Software Architecture  First European Conferen...</td>\n",
       "      <td>Hierarchical verification in Maude of LfP soft...</td>\n",
       "      <td>[formal verification - rewriting systems - sof...</td>\n",
       "      <td>2007</td>\n",
       "    </tr>\n",
       "    <tr>\n",
       "      <th>3</th>\n",
       "      <td>When an application must evolve to cope with n...</td>\n",
       "      <td>1  INRIA  Univ  des Sci  et Technol  de Lille ...</td>\n",
       "      <td>Waignier  G   1   Le Meur  A  F   1   Duchien ...</td>\n",
       "      <td>C6110B Software engineering techniques   C6110...</td>\n",
       "      <td>ECSA</td>\n",
       "      <td>Inspec</td>\n",
       "      <td>Software Architecture  First European Conferen...</td>\n",
       "      <td>FIESTA  a generic framework for integrating ne...</td>\n",
       "      <td>[formal specification - software architecture,...</td>\n",
       "      <td>2007</td>\n",
       "    </tr>\n",
       "    <tr>\n",
       "      <th>4</th>\n",
       "      <td>Ageless software evolves  to meet new requirem...</td>\n",
       "      <td>1  Sch  of Comput  Sci   Univ  of Adelaide  Ad...</td>\n",
       "      <td>Falkner  K   1   Balasubramaniam  D   Detmold ...</td>\n",
       "      <td>C6110B Software engineering techniques</td>\n",
       "      <td>ECSA</td>\n",
       "      <td>Inspec</td>\n",
       "      <td>Software Architecture  First European Conferen...</td>\n",
       "      <td>Informed evolution</td>\n",
       "      <td>[software architecture - software prototyping,...</td>\n",
       "      <td>2007</td>\n",
       "    </tr>\n",
       "    <tr>\n",
       "      <th>5</th>\n",
       "      <td>The past 20 years has seen significant investm...</td>\n",
       "      <td>1  Software Group  IBM  Raleigh  NC  United St...</td>\n",
       "      <td>Brown  A W   1   McDermid  J A</td>\n",
       "      <td>C6110B Software engineering techniques   C6130...</td>\n",
       "      <td>ECSA</td>\n",
       "      <td>Inspec</td>\n",
       "      <td>Software Architecture  First European Conferen...</td>\n",
       "      <td>The art and science of software architecture</td>\n",
       "      <td>[safety-critical software - software architect...</td>\n",
       "      <td>2007</td>\n",
       "    </tr>\n",
       "  </tbody>\n",
       "</table>\n",
       "</div>"
      ],
      "text/plain": [
       "                                            Abstract  \\\n",
       "1  Empirical software engineering focuses on the ...   \n",
       "2  Software architecture description languages al...   \n",
       "3  When an application must evolve to cope with n...   \n",
       "4  Ageless software evolves  to meet new requirem...   \n",
       "5  The past 20 years has seen significant investm...   \n",
       "\n",
       "                                  Author affiliation  \\\n",
       "1                1  DISP  Univ  of Rome  Rome  Italy   \n",
       "2                     1  LSTS   ENIT  Tunis  Tunisia   \n",
       "3  1  INRIA  Univ  des Sci  et Technol  de Lille ...   \n",
       "4  1  Sch  of Comput  Sci   Univ  of Adelaide  Ad...   \n",
       "5  1  Software Group  IBM  Raleigh  NC  United St...   \n",
       "\n",
       "                                             Authors  \\\n",
       "1          Falessi  D   1   Kruchten  P   Cantone  G   \n",
       "2       Jerad  C   1   Barkaoui  K   Grissa Touzi  A   \n",
       "3  Waignier  G   1   Le Meur  A  F   1   Duchien ...   \n",
       "4  Falkner  K   1   Balasubramaniam  D   Detmold ...   \n",
       "5                     Brown  A W   1   McDermid  J A   \n",
       "\n",
       "                                 Classification Code  Conf Database  \\\n",
       "1  C6110B Software engineering techniques   C0310...  ECSA   Inspec   \n",
       "2  C6110B Software engineering techniques   C4210...  ECSA   Inspec   \n",
       "3  C6110B Software engineering techniques   C6110...  ECSA   Inspec   \n",
       "4             C6110B Software engineering techniques  ECSA   Inspec   \n",
       "5  C6110B Software engineering techniques   C6130...  ECSA   Inspec   \n",
       "\n",
       "                                              Source  \\\n",
       "1  Software Architecture  First European Conferen...   \n",
       "2  Software Architecture  First European Conferen...   \n",
       "3  Software Architecture  First European Conferen...   \n",
       "4  Software Architecture  First European Conferen...   \n",
       "5  Software Architecture  First European Conferen...   \n",
       "\n",
       "                                               Title  \\\n",
       "1  Issues in applying empirical software engineer...   \n",
       "2  Hierarchical verification in Maude of LfP soft...   \n",
       "3  FIESTA  a generic framework for integrating ne...   \n",
       "4                                 Informed evolution   \n",
       "5       The art and science of software architecture   \n",
       "\n",
       "                                               terms  year  \n",
       "1  [software architecture - software quality, emp...  2007  \n",
       "2  [formal verification - rewriting systems - sof...  2007  \n",
       "3  [formal specification - software architecture,...  2007  \n",
       "4  [software architecture - software prototyping,...  2007  \n",
       "5  [safety-critical software - software architect...  2007  "
      ]
     },
     "execution_count": 40,
     "metadata": {},
     "output_type": "execute_result"
    }
   ],
   "source": [
    "dfab.head()"
   ]
  },
  {
   "cell_type": "code",
   "execution_count": null,
   "metadata": {
    "collapsed": true
   },
   "outputs": [],
   "source": []
  }
 ],
 "metadata": {
  "kernelspec": {
   "display_name": "Python 2",
   "language": "python",
   "name": "python2"
  },
  "language_info": {
   "codemirror_mode": {
    "name": "ipython",
    "version": 2
   },
   "file_extension": ".py",
   "mimetype": "text/x-python",
   "name": "python",
   "nbconvert_exporter": "python",
   "pygments_lexer": "ipython2",
   "version": "2.7.11"
  }
 },
 "nbformat": 4,
 "nbformat_minor": 0
}
