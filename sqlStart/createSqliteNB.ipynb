{
 "cells": [
  {
   "cell_type": "markdown",
   "metadata": {},
   "source": [
    "# Setting Up Basic Sqlite with Abs Data\n",
    "- - Single Table\n"
   ]
  },
  {
   "cell_type": "code",
   "execution_count": 1,
   "metadata": {
    "collapsed": true
   },
   "outputs": [],
   "source": [
    "import sqlite3\n",
    "import pandas as pd"
   ]
  },
  {
   "cell_type": "markdown",
   "metadata": {},
   "source": [
    "## Load the sqlite scripts"
   ]
  },
  {
   "cell_type": "code",
   "execution_count": 2,
   "metadata": {
    "collapsed": false
   },
   "outputs": [],
   "source": [
    "import sqlcommands as cmd\n",
    "cmd = reload(cmd)"
   ]
  },
  {
   "cell_type": "markdown",
   "metadata": {},
   "source": [
    "# Get Data.\n",
    "**get the pandas Abstracts DataFrame from hd5 file and shape **  "
   ]
  },
  {
   "cell_type": "code",
   "execution_count": 3,
   "metadata": {
    "collapsed": false
   },
   "outputs": [
    {
     "name": "stdout",
     "output_type": "stream",
     "text": [
      "(1548, 8)\n"
     ]
    },
    {
     "data": {
      "text/plain": [
       "Pandas(Index=1, Abstract='Empirical software engineering focuses on the evaluation of software engineering technologies, such as processes and tools, by comparing related sets of data  It has contributed a valuable body of knowledge in several areas such as software economics and software quality, which in turn drove important advances in related tools and techniques  Unfortunately this is not  yet  the case for software architecture, where empirical studies are still few  Such a condition demands for further empirical research efforts on the topic of software architecture and suggests specific areas of improvement  In this paper we discuss several essential, innovative, and maybe provocative, questions such as  Why do we have so few applications of empirical software engineering on software architecture  Which are the main difficulties  What can we do   21 refs', _2='1  DISP, Univ  of Rome, Rome, Italy', Authors=\"['Falessi, D', ' Kruchten, P', ' Cantone, G']\", _4='C6110B Software engineering techniques   C0310F Software management', Conf='ECSA', Title='Issues in applying empirical software engineering to software architecture', terms=\"['software architecture - software quality', 'empirical software engineering - software architecture - software economics - software quality']\", year='2007')"
      ]
     },
     "execution_count": 3,
     "metadata": {},
     "output_type": "execute_result"
    }
   ],
   "source": [
    "rowtotal = cmd.parseDataFrame()\n",
    "rowtotal[0]"
   ]
  },
  {
   "cell_type": "markdown",
   "metadata": {},
   "source": [
    "# **Create Abstracts Total DB**\n",
    "- - can already query on this with pandas"
   ]
  },
  {
   "cell_type": "code",
   "execution_count": 4,
   "metadata": {
    "collapsed": false
   },
   "outputs": [
    {
     "data": {
      "text/html": [
       "<div>\n",
       "<table border=\"1\" class=\"dataframe\">\n",
       "  <thead>\n",
       "    <tr style=\"text-align: right;\">\n",
       "      <th></th>\n",
       "      <th>ID</th>\n",
       "      <th>Abstract</th>\n",
       "      <th>Author affiliation</th>\n",
       "      <th>Authors</th>\n",
       "      <th>Classification Code</th>\n",
       "      <th>Conf</th>\n",
       "      <th>Title</th>\n",
       "      <th>terms</th>\n",
       "      <th>year</th>\n",
       "    </tr>\n",
       "  </thead>\n",
       "  <tbody>\n",
       "    <tr>\n",
       "      <th>0</th>\n",
       "      <td>1</td>\n",
       "      <td>Empirical software engineering focuses on the ...</td>\n",
       "      <td>1  DISP, Univ  of Rome, Rome, Italy</td>\n",
       "      <td>['Falessi, D', ' Kruchten, P', ' Cantone, G']</td>\n",
       "      <td>C6110B Software engineering techniques   C0310...</td>\n",
       "      <td>ECSA</td>\n",
       "      <td>Issues in applying empirical software engineer...</td>\n",
       "      <td>['software architecture - software quality', '...</td>\n",
       "      <td>2007</td>\n",
       "    </tr>\n",
       "    <tr>\n",
       "      <th>1</th>\n",
       "      <td>2</td>\n",
       "      <td>Software architecture description languages al...</td>\n",
       "      <td>1  LSTS   ENIT, Tunis, Tunisia</td>\n",
       "      <td>['Jerad, C', ' Barkaoui, K', ' Grissa Touzi, A']</td>\n",
       "      <td>C6110B Software engineering techniques   C4210...</td>\n",
       "      <td>ECSA</td>\n",
       "      <td>Hierarchical verification in Maude of LfP soft...</td>\n",
       "      <td>['formal verification - rewriting systems - so...</td>\n",
       "      <td>2007</td>\n",
       "    </tr>\n",
       "    <tr>\n",
       "      <th>2</th>\n",
       "      <td>3</td>\n",
       "      <td>When an application must evolve to cope with n...</td>\n",
       "      <td>1  INRIA, Univ  des Sci  et Technol  de Lille,...</td>\n",
       "      <td>['Waignier, G', ' Le Meur, A', 'F', ' Duchien,...</td>\n",
       "      <td>C6110B Software engineering techniques   C6110...</td>\n",
       "      <td>ECSA</td>\n",
       "      <td>FIESTA  a generic framework for integrating ne...</td>\n",
       "      <td>['formal specification - software architecture...</td>\n",
       "      <td>2007</td>\n",
       "    </tr>\n",
       "    <tr>\n",
       "      <th>3</th>\n",
       "      <td>4</td>\n",
       "      <td>Ageless software evolves, to meet new requirem...</td>\n",
       "      <td>1  Sch  of Comput  Sci , Univ  of Adelaide, Ad...</td>\n",
       "      <td>['Falkner, K', ' Balasubramaniam, D', ' Detmol...</td>\n",
       "      <td>C6110B Software engineering techniques</td>\n",
       "      <td>ECSA</td>\n",
       "      <td>Informed evolution</td>\n",
       "      <td>['software architecture - software prototyping...</td>\n",
       "      <td>2007</td>\n",
       "    </tr>\n",
       "    <tr>\n",
       "      <th>4</th>\n",
       "      <td>5</td>\n",
       "      <td>The past 20 years has seen significant investm...</td>\n",
       "      <td>1  Software Group, IBM, Raleigh, NC, United St...</td>\n",
       "      <td>['Brown, A W', ' McDermid, J A']</td>\n",
       "      <td>C6110B Software engineering techniques   C6130...</td>\n",
       "      <td>ECSA</td>\n",
       "      <td>The art and science of software architecture</td>\n",
       "      <td>['safety-critical software - software architec...</td>\n",
       "      <td>2007</td>\n",
       "    </tr>\n",
       "  </tbody>\n",
       "</table>\n",
       "</div>"
      ],
      "text/plain": [
       "   ID                                           Abstract  \\\n",
       "0   1  Empirical software engineering focuses on the ...   \n",
       "1   2  Software architecture description languages al...   \n",
       "2   3  When an application must evolve to cope with n...   \n",
       "3   4  Ageless software evolves, to meet new requirem...   \n",
       "4   5  The past 20 years has seen significant investm...   \n",
       "\n",
       "                                  Author affiliation  \\\n",
       "0                1  DISP, Univ  of Rome, Rome, Italy   \n",
       "1                     1  LSTS   ENIT, Tunis, Tunisia   \n",
       "2  1  INRIA, Univ  des Sci  et Technol  de Lille,...   \n",
       "3  1  Sch  of Comput  Sci , Univ  of Adelaide, Ad...   \n",
       "4  1  Software Group, IBM, Raleigh, NC, United St...   \n",
       "\n",
       "                                             Authors  \\\n",
       "0      ['Falessi, D', ' Kruchten, P', ' Cantone, G']   \n",
       "1   ['Jerad, C', ' Barkaoui, K', ' Grissa Touzi, A']   \n",
       "2  ['Waignier, G', ' Le Meur, A', 'F', ' Duchien,...   \n",
       "3  ['Falkner, K', ' Balasubramaniam, D', ' Detmol...   \n",
       "4                   ['Brown, A W', ' McDermid, J A']   \n",
       "\n",
       "                                 Classification Code  Conf  \\\n",
       "0  C6110B Software engineering techniques   C0310...  ECSA   \n",
       "1  C6110B Software engineering techniques   C4210...  ECSA   \n",
       "2  C6110B Software engineering techniques   C6110...  ECSA   \n",
       "3             C6110B Software engineering techniques  ECSA   \n",
       "4  C6110B Software engineering techniques   C6130...  ECSA   \n",
       "\n",
       "                                               Title  \\\n",
       "0  Issues in applying empirical software engineer...   \n",
       "1  Hierarchical verification in Maude of LfP soft...   \n",
       "2  FIESTA  a generic framework for integrating ne...   \n",
       "3                                 Informed evolution   \n",
       "4       The art and science of software architecture   \n",
       "\n",
       "                                               terms  year  \n",
       "0  ['software architecture - software quality', '...  2007  \n",
       "1  ['formal verification - rewriting systems - so...  2007  \n",
       "2  ['formal specification - software architecture...  2007  \n",
       "3  ['software architecture - software prototyping...  2007  \n",
       "4  ['safety-critical software - software architec...  2007  "
      ]
     },
     "execution_count": 4,
     "metadata": {},
     "output_type": "execute_result"
    }
   ],
   "source": [
    "absDF = cmd.createTOTALTable(rowtotal)\n",
    "\n",
    "x = list(absDF.columns)\n",
    "absDF.head()"
   ]
  },
  {
   "cell_type": "markdown",
   "metadata": {},
   "source": [
    "# **Add CONFERENCES TABLE**"
   ]
  },
  {
   "cell_type": "code",
   "execution_count": 5,
   "metadata": {
    "collapsed": false
   },
   "outputs": [
    {
     "name": "stdout",
     "output_type": "stream",
     "text": [
      "Opened Abstracts_DB.db database successfully\n",
      "Entry ECSA added\n",
      "Entry QoSA added\n",
      "Entry WICSA added\n",
      "Records created successfully\n"
     ]
    },
    {
     "data": {
      "text/html": [
       "<div>\n",
       "<table border=\"1\" class=\"dataframe\">\n",
       "  <thead>\n",
       "    <tr style=\"text-align: right;\">\n",
       "      <th></th>\n",
       "      <th>confID</th>\n",
       "      <th>confName</th>\n",
       "    </tr>\n",
       "  </thead>\n",
       "  <tbody>\n",
       "    <tr>\n",
       "      <th>0</th>\n",
       "      <td>1</td>\n",
       "      <td>ECSA</td>\n",
       "    </tr>\n",
       "    <tr>\n",
       "      <th>1</th>\n",
       "      <td>2</td>\n",
       "      <td>QoSA</td>\n",
       "    </tr>\n",
       "    <tr>\n",
       "      <th>2</th>\n",
       "      <td>3</td>\n",
       "      <td>WICSA</td>\n",
       "    </tr>\n",
       "  </tbody>\n",
       "</table>\n",
       "</div>"
      ],
      "text/plain": [
       "   confID confName\n",
       "0       1     ECSA\n",
       "1       2     QoSA\n",
       "2       3    WICSA"
      ]
     },
     "execution_count": 5,
     "metadata": {},
     "output_type": "execute_result"
    }
   ],
   "source": [
    "confnames = list(absDF.Conf.unique())\n",
    "dfConf = cmd.createConfTable(confnames)\n",
    "dfConf"
   ]
  },
  {
   "cell_type": "markdown",
   "metadata": {
    "collapsed": false
   },
   "source": [
    "# ADD PUBLICATIONS TABLE"
   ]
  },
  {
   "cell_type": "code",
   "execution_count": 6,
   "metadata": {
    "collapsed": false
   },
   "outputs": [
    {
     "name": "stdout",
     "output_type": "stream",
     "text": [
      "Opened Abstracts_DB.db database successfully\n",
      "table dropped\n",
      "Created PUBLICATIONS table\n",
      "Records created successfully\n"
     ]
    },
    {
     "data": {
      "text/html": [
       "<div>\n",
       "<table border=\"1\" class=\"dataframe\">\n",
       "  <thead>\n",
       "    <tr style=\"text-align: right;\">\n",
       "      <th></th>\n",
       "      <th>pubID</th>\n",
       "      <th>year</th>\n",
       "      <th>confName</th>\n",
       "    </tr>\n",
       "  </thead>\n",
       "  <tbody>\n",
       "  </tbody>\n",
       "</table>\n",
       "</div>"
      ],
      "text/plain": [
       "Empty DataFrame\n",
       "Columns: [pubID, year, confName]\n",
       "Index: []"
      ]
     },
     "execution_count": 6,
     "metadata": {},
     "output_type": "execute_result"
    }
   ],
   "source": [
    "dfpubs = cmd.createPublicationsTable([])\n",
    "dfpubs"
   ]
  },
  {
   "cell_type": "markdown",
   "metadata": {},
   "source": [
    "## we can add from the result of groupby on ABTRACTS TOTAL "
   ]
  },
  {
   "cell_type": "code",
   "execution_count": 7,
   "metadata": {
    "collapsed": false
   },
   "outputs": [],
   "source": [
    "abs2 = absDF.groupby(['Conf', 'year']).count()\n",
    "confYear = list(abs2.index.get_values())"
   ]
  },
  {
   "cell_type": "code",
   "execution_count": 8,
   "metadata": {
    "collapsed": false,
    "scrolled": true
   },
   "outputs": [
    {
     "name": "stdout",
     "output_type": "stream",
     "text": [
      "Opened Abstracts_DB.db database successfully\n",
      "table dropped\n",
      "Created PUBLICATIONS table\n",
      "Records created successfully\n"
     ]
    },
    {
     "data": {
      "text/html": [
       "<div>\n",
       "<table border=\"1\" class=\"dataframe\">\n",
       "  <thead>\n",
       "    <tr style=\"text-align: right;\">\n",
       "      <th></th>\n",
       "      <th>pubID</th>\n",
       "      <th>year</th>\n",
       "      <th>confName</th>\n",
       "    </tr>\n",
       "  </thead>\n",
       "  <tbody>\n",
       "    <tr>\n",
       "      <th>0</th>\n",
       "      <td>1</td>\n",
       "      <td>2007</td>\n",
       "      <td>ECSA</td>\n",
       "    </tr>\n",
       "    <tr>\n",
       "      <th>1</th>\n",
       "      <td>2</td>\n",
       "      <td>2008</td>\n",
       "      <td>ECSA</td>\n",
       "    </tr>\n",
       "    <tr>\n",
       "      <th>2</th>\n",
       "      <td>3</td>\n",
       "      <td>2009</td>\n",
       "      <td>ECSA</td>\n",
       "    </tr>\n",
       "    <tr>\n",
       "      <th>3</th>\n",
       "      <td>4</td>\n",
       "      <td>2010</td>\n",
       "      <td>ECSA</td>\n",
       "    </tr>\n",
       "    <tr>\n",
       "      <th>4</th>\n",
       "      <td>5</td>\n",
       "      <td>2011</td>\n",
       "      <td>ECSA</td>\n",
       "    </tr>\n",
       "  </tbody>\n",
       "</table>\n",
       "</div>"
      ],
      "text/plain": [
       "   pubID  year confName\n",
       "0      1  2007     ECSA\n",
       "1      2  2008     ECSA\n",
       "2      3  2009     ECSA\n",
       "3      4  2010     ECSA\n",
       "4      5  2011     ECSA"
      ]
     },
     "execution_count": 8,
     "metadata": {},
     "output_type": "execute_result"
    }
   ],
   "source": [
    "dfpubs = cmd.createPublicationsTable(confYear)\n",
    "dfpubs.head()"
   ]
  },
  {
   "cell_type": "markdown",
   "metadata": {},
   "source": [
    "# Simple queries\n",
    "- Conferences and Databases\n",
    " - describe()"
   ]
  },
  {
   "cell_type": "code",
   "execution_count": 9,
   "metadata": {
    "collapsed": false
   },
   "outputs": [
    {
     "data": {
      "text/html": [
       "<div>\n",
       "<table border=\"1\" class=\"dataframe\">\n",
       "  <thead>\n",
       "    <tr style=\"text-align: right;\">\n",
       "      <th></th>\n",
       "      <th>pubID</th>\n",
       "      <th>year</th>\n",
       "      <th>confName</th>\n",
       "    </tr>\n",
       "  </thead>\n",
       "  <tbody>\n",
       "    <tr>\n",
       "      <th>2</th>\n",
       "      <td>3</td>\n",
       "      <td>2009</td>\n",
       "      <td>ECSA</td>\n",
       "    </tr>\n",
       "    <tr>\n",
       "      <th>12</th>\n",
       "      <td>13</td>\n",
       "      <td>2009</td>\n",
       "      <td>QoSA</td>\n",
       "    </tr>\n",
       "    <tr>\n",
       "      <th>22</th>\n",
       "      <td>23</td>\n",
       "      <td>2009</td>\n",
       "      <td>WICSA</td>\n",
       "    </tr>\n",
       "  </tbody>\n",
       "</table>\n",
       "</div>"
      ],
      "text/plain": [
       "    pubID  year confName\n",
       "2       3  2009     ECSA\n",
       "12     13  2009     QoSA\n",
       "22     23  2009    WICSA"
      ]
     },
     "execution_count": 9,
     "metadata": {},
     "output_type": "execute_result"
    }
   ],
   "source": [
    "dfpubs.query('year == 2009')"
   ]
  },
  {
   "cell_type": "code",
   "execution_count": 10,
   "metadata": {
    "collapsed": false
   },
   "outputs": [
    {
     "name": "stdout",
     "output_type": "stream",
     "text": [
      "(3, 2)\n"
     ]
    },
    {
     "data": {
      "text/html": [
       "<div>\n",
       "<table border=\"1\" class=\"dataframe\">\n",
       "  <thead>\n",
       "    <tr style=\"text-align: right;\">\n",
       "      <th></th>\n",
       "      <th>confID</th>\n",
       "      <th>confName</th>\n",
       "      <th>pubID</th>\n",
       "      <th>year</th>\n",
       "    </tr>\n",
       "  </thead>\n",
       "  <tbody>\n",
       "    <tr>\n",
       "      <th>0</th>\n",
       "      <td>1</td>\n",
       "      <td>ECSA</td>\n",
       "      <td>1</td>\n",
       "      <td>2007</td>\n",
       "    </tr>\n",
       "    <tr>\n",
       "      <th>1</th>\n",
       "      <td>1</td>\n",
       "      <td>ECSA</td>\n",
       "      <td>2</td>\n",
       "      <td>2008</td>\n",
       "    </tr>\n",
       "    <tr>\n",
       "      <th>2</th>\n",
       "      <td>1</td>\n",
       "      <td>ECSA</td>\n",
       "      <td>3</td>\n",
       "      <td>2009</td>\n",
       "    </tr>\n",
       "    <tr>\n",
       "      <th>3</th>\n",
       "      <td>1</td>\n",
       "      <td>ECSA</td>\n",
       "      <td>4</td>\n",
       "      <td>2010</td>\n",
       "    </tr>\n",
       "    <tr>\n",
       "      <th>4</th>\n",
       "      <td>1</td>\n",
       "      <td>ECSA</td>\n",
       "      <td>5</td>\n",
       "      <td>2011</td>\n",
       "    </tr>\n",
       "    <tr>\n",
       "      <th>5</th>\n",
       "      <td>1</td>\n",
       "      <td>ECSA</td>\n",
       "      <td>6</td>\n",
       "      <td>2012</td>\n",
       "    </tr>\n",
       "    <tr>\n",
       "      <th>6</th>\n",
       "      <td>1</td>\n",
       "      <td>ECSA</td>\n",
       "      <td>7</td>\n",
       "      <td>2013</td>\n",
       "    </tr>\n",
       "    <tr>\n",
       "      <th>7</th>\n",
       "      <td>1</td>\n",
       "      <td>ECSA</td>\n",
       "      <td>8</td>\n",
       "      <td>2014</td>\n",
       "    </tr>\n",
       "    <tr>\n",
       "      <th>8</th>\n",
       "      <td>2</td>\n",
       "      <td>QoSA</td>\n",
       "      <td>9</td>\n",
       "      <td>2005</td>\n",
       "    </tr>\n",
       "    <tr>\n",
       "      <th>9</th>\n",
       "      <td>2</td>\n",
       "      <td>QoSA</td>\n",
       "      <td>10</td>\n",
       "      <td>2006</td>\n",
       "    </tr>\n",
       "    <tr>\n",
       "      <th>10</th>\n",
       "      <td>2</td>\n",
       "      <td>QoSA</td>\n",
       "      <td>11</td>\n",
       "      <td>2007</td>\n",
       "    </tr>\n",
       "    <tr>\n",
       "      <th>11</th>\n",
       "      <td>2</td>\n",
       "      <td>QoSA</td>\n",
       "      <td>12</td>\n",
       "      <td>2008</td>\n",
       "    </tr>\n",
       "    <tr>\n",
       "      <th>12</th>\n",
       "      <td>2</td>\n",
       "      <td>QoSA</td>\n",
       "      <td>13</td>\n",
       "      <td>2009</td>\n",
       "    </tr>\n",
       "    <tr>\n",
       "      <th>13</th>\n",
       "      <td>2</td>\n",
       "      <td>QoSA</td>\n",
       "      <td>14</td>\n",
       "      <td>2010</td>\n",
       "    </tr>\n",
       "    <tr>\n",
       "      <th>14</th>\n",
       "      <td>2</td>\n",
       "      <td>QoSA</td>\n",
       "      <td>15</td>\n",
       "      <td>2011</td>\n",
       "    </tr>\n",
       "    <tr>\n",
       "      <th>15</th>\n",
       "      <td>2</td>\n",
       "      <td>QoSA</td>\n",
       "      <td>16</td>\n",
       "      <td>2012</td>\n",
       "    </tr>\n",
       "    <tr>\n",
       "      <th>16</th>\n",
       "      <td>2</td>\n",
       "      <td>QoSA</td>\n",
       "      <td>17</td>\n",
       "      <td>2013</td>\n",
       "    </tr>\n",
       "    <tr>\n",
       "      <th>17</th>\n",
       "      <td>2</td>\n",
       "      <td>QoSA</td>\n",
       "      <td>18</td>\n",
       "      <td>2014</td>\n",
       "    </tr>\n",
       "    <tr>\n",
       "      <th>18</th>\n",
       "      <td>3</td>\n",
       "      <td>WICSA</td>\n",
       "      <td>19</td>\n",
       "      <td>2004</td>\n",
       "    </tr>\n",
       "    <tr>\n",
       "      <th>19</th>\n",
       "      <td>3</td>\n",
       "      <td>WICSA</td>\n",
       "      <td>20</td>\n",
       "      <td>2005</td>\n",
       "    </tr>\n",
       "    <tr>\n",
       "      <th>20</th>\n",
       "      <td>3</td>\n",
       "      <td>WICSA</td>\n",
       "      <td>21</td>\n",
       "      <td>2007</td>\n",
       "    </tr>\n",
       "    <tr>\n",
       "      <th>21</th>\n",
       "      <td>3</td>\n",
       "      <td>WICSA</td>\n",
       "      <td>22</td>\n",
       "      <td>2008</td>\n",
       "    </tr>\n",
       "    <tr>\n",
       "      <th>22</th>\n",
       "      <td>3</td>\n",
       "      <td>WICSA</td>\n",
       "      <td>23</td>\n",
       "      <td>2009</td>\n",
       "    </tr>\n",
       "    <tr>\n",
       "      <th>23</th>\n",
       "      <td>3</td>\n",
       "      <td>WICSA</td>\n",
       "      <td>24</td>\n",
       "      <td>2011</td>\n",
       "    </tr>\n",
       "    <tr>\n",
       "      <th>24</th>\n",
       "      <td>3</td>\n",
       "      <td>WICSA</td>\n",
       "      <td>25</td>\n",
       "      <td>2012</td>\n",
       "    </tr>\n",
       "    <tr>\n",
       "      <th>25</th>\n",
       "      <td>3</td>\n",
       "      <td>WICSA</td>\n",
       "      <td>26</td>\n",
       "      <td>2014</td>\n",
       "    </tr>\n",
       "  </tbody>\n",
       "</table>\n",
       "</div>"
      ],
      "text/plain": [
       "    confID confName  pubID  year\n",
       "0        1     ECSA      1  2007\n",
       "1        1     ECSA      2  2008\n",
       "2        1     ECSA      3  2009\n",
       "3        1     ECSA      4  2010\n",
       "4        1     ECSA      5  2011\n",
       "5        1     ECSA      6  2012\n",
       "6        1     ECSA      7  2013\n",
       "7        1     ECSA      8  2014\n",
       "8        2     QoSA      9  2005\n",
       "9        2     QoSA     10  2006\n",
       "10       2     QoSA     11  2007\n",
       "11       2     QoSA     12  2008\n",
       "12       2     QoSA     13  2009\n",
       "13       2     QoSA     14  2010\n",
       "14       2     QoSA     15  2011\n",
       "15       2     QoSA     16  2012\n",
       "16       2     QoSA     17  2013\n",
       "17       2     QoSA     18  2014\n",
       "18       3    WICSA     19  2004\n",
       "19       3    WICSA     20  2005\n",
       "20       3    WICSA     21  2007\n",
       "21       3    WICSA     22  2008\n",
       "22       3    WICSA     23  2009\n",
       "23       3    WICSA     24  2011\n",
       "24       3    WICSA     25  2012\n",
       "25       3    WICSA     26  2014"
      ]
     },
     "execution_count": 10,
     "metadata": {},
     "output_type": "execute_result"
    }
   ],
   "source": [
    "dfConf = cmd.sqlCMDToPD('CONFERENCES')\n",
    "dfConf.merge(dfpubs, on = 'confName')"
   ]
  },
  {
   "cell_type": "markdown",
   "metadata": {},
   "source": [
    "# Trying to create an Abstracts table with little success"
   ]
  },
  {
   "cell_type": "code",
   "execution_count": 11,
   "metadata": {
    "collapsed": false
   },
   "outputs": [
    {
     "name": "stdout",
     "output_type": "stream",
     "text": [
      "Opened Abstracts_DB.db database successfully\n",
      "table dropped\n",
      "Created ABSTRACTS table\n",
      "Records created successfully\n"
     ]
    },
    {
     "data": {
      "text/html": [
       "<div>\n",
       "<table border=\"1\" class=\"dataframe\">\n",
       "  <thead>\n",
       "    <tr style=\"text-align: right;\">\n",
       "      <th></th>\n",
       "      <th>pubID</th>\n",
       "      <th>pubYear</th>\n",
       "      <th>conf</th>\n",
       "      <th>abstract</th>\n",
       "      <th>title</th>\n",
       "    </tr>\n",
       "  </thead>\n",
       "  <tbody>\n",
       "    <tr>\n",
       "      <th>0</th>\n",
       "      <td>1</td>\n",
       "      <td>2007</td>\n",
       "      <td>ECSA</td>\n",
       "      <td>Empirical software engineering focuses on the ...</td>\n",
       "      <td>Issues in applying empirical software engineer...</td>\n",
       "    </tr>\n",
       "    <tr>\n",
       "      <th>1</th>\n",
       "      <td>2</td>\n",
       "      <td>2007</td>\n",
       "      <td>ECSA</td>\n",
       "      <td>Software architecture description languages al...</td>\n",
       "      <td>Hierarchical verification in Maude of LfP soft...</td>\n",
       "    </tr>\n",
       "    <tr>\n",
       "      <th>2</th>\n",
       "      <td>3</td>\n",
       "      <td>2007</td>\n",
       "      <td>ECSA</td>\n",
       "      <td>When an application must evolve to cope with n...</td>\n",
       "      <td>FIESTA  a generic framework for integrating ne...</td>\n",
       "    </tr>\n",
       "    <tr>\n",
       "      <th>3</th>\n",
       "      <td>4</td>\n",
       "      <td>2007</td>\n",
       "      <td>ECSA</td>\n",
       "      <td>Ageless software evolves, to meet new requirem...</td>\n",
       "      <td>Informed evolution</td>\n",
       "    </tr>\n",
       "    <tr>\n",
       "      <th>4</th>\n",
       "      <td>5</td>\n",
       "      <td>2007</td>\n",
       "      <td>ECSA</td>\n",
       "      <td>The past 20 years has seen significant investm...</td>\n",
       "      <td>The art and science of software architecture</td>\n",
       "    </tr>\n",
       "  </tbody>\n",
       "</table>\n",
       "</div>"
      ],
      "text/plain": [
       "   pubID  pubYear  conf                                           abstract  \\\n",
       "0      1     2007  ECSA  Empirical software engineering focuses on the ...   \n",
       "1      2     2007  ECSA  Software architecture description languages al...   \n",
       "2      3     2007  ECSA  When an application must evolve to cope with n...   \n",
       "3      4     2007  ECSA  Ageless software evolves, to meet new requirem...   \n",
       "4      5     2007  ECSA  The past 20 years has seen significant investm...   \n",
       "\n",
       "                                               title  \n",
       "0  Issues in applying empirical software engineer...  \n",
       "1  Hierarchical verification in Maude of LfP soft...  \n",
       "2  FIESTA  a generic framework for integrating ne...  \n",
       "3                                 Informed evolution  \n",
       "4       The art and science of software architecture  "
      ]
     },
     "execution_count": 11,
     "metadata": {},
     "output_type": "execute_result"
    }
   ],
   "source": [
    "abTDF = cmd.createAbstractsTable(absDF.as_matrix())\n",
    "abTDF.head()"
   ]
  },
  {
   "cell_type": "markdown",
   "metadata": {},
   "source": [
    "# Create a Terms/keywords Table"
   ]
  },
  {
   "cell_type": "code",
   "execution_count": 12,
   "metadata": {
    "collapsed": true
   },
   "outputs": [],
   "source": [
    "import terms as term\n",
    "term = reload(term)"
   ]
  },
  {
   "cell_type": "code",
   "execution_count": 13,
   "metadata": {
    "collapsed": true
   },
   "outputs": [],
   "source": [
    "setTotal = term.parseTerms(absDF)"
   ]
  },
  {
   "cell_type": "code",
   "execution_count": 14,
   "metadata": {
    "collapsed": false
   },
   "outputs": [
    {
     "name": "stdout",
     "output_type": "stream",
     "text": [
      "Opened Abstracts_DB database successfully\n",
      "Records created successfully\n"
     ]
    }
   ],
   "source": [
    "termDF = term.createKEYSTable(setTotal[1:])"
   ]
  },
  {
   "cell_type": "code",
   "execution_count": 15,
   "metadata": {
    "collapsed": false
   },
   "outputs": [
    {
     "data": {
      "text/html": [
       "<div>\n",
       "<table border=\"1\" class=\"dataframe\">\n",
       "  <thead>\n",
       "    <tr style=\"text-align: right;\">\n",
       "      <th></th>\n",
       "      <th>keyID</th>\n",
       "      <th>keyword</th>\n",
       "    </tr>\n",
       "  </thead>\n",
       "  <tbody>\n",
       "    <tr>\n",
       "      <th>0</th>\n",
       "      <td>1</td>\n",
       "      <td>Loose couplings</td>\n",
       "    </tr>\n",
       "    <tr>\n",
       "      <th>1</th>\n",
       "      <td>2</td>\n",
       "      <td>aspectual concept</td>\n",
       "    </tr>\n",
       "    <tr>\n",
       "      <th>2</th>\n",
       "      <td>3</td>\n",
       "      <td>Discrete time</td>\n",
       "    </tr>\n",
       "    <tr>\n",
       "      <th>3</th>\n",
       "      <td>4</td>\n",
       "      <td>Polyacrylonitriles</td>\n",
       "    </tr>\n",
       "    <tr>\n",
       "      <th>4</th>\n",
       "      <td>5</td>\n",
       "      <td>microphytobenthos)</td>\n",
       "    </tr>\n",
       "  </tbody>\n",
       "</table>\n",
       "</div>"
      ],
      "text/plain": [
       "   keyID             keyword\n",
       "0      1     Loose couplings\n",
       "1      2   aspectual concept\n",
       "2      3       Discrete time\n",
       "3      4  Polyacrylonitriles\n",
       "4      5  microphytobenthos)"
      ]
     },
     "execution_count": 15,
     "metadata": {},
     "output_type": "execute_result"
    }
   ],
   "source": [
    "termDF.head()"
   ]
  },
  {
   "cell_type": "code",
   "execution_count": null,
   "metadata": {
    "collapsed": true
   },
   "outputs": [],
   "source": []
  }
 ],
 "metadata": {
  "kernelspec": {
   "display_name": "Python 2",
   "language": "python",
   "name": "python2"
  },
  "language_info": {
   "codemirror_mode": {
    "name": "ipython",
    "version": 2
   },
   "file_extension": ".py",
   "mimetype": "text/x-python",
   "name": "python",
   "nbconvert_exporter": "python",
   "pygments_lexer": "ipython2",
   "version": "2.7.11"
  }
 },
 "nbformat": 4,
 "nbformat_minor": 0
}
