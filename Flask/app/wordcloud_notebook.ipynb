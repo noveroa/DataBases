{
 "cells": [
  {
   "cell_type": "code",
   "execution_count": 1,
   "metadata": {
    "collapsed": true
   },
   "outputs": [],
   "source": [
    "import sqlite3\n",
    "import pandas as pd\n",
    "import numpy as np"
   ]
  },
  {
   "cell_type": "code",
   "execution_count": 2,
   "metadata": {
    "collapsed": true
   },
   "outputs": [],
   "source": [
    "from os import path\n",
    "from PIL import Image\n",
    "import numpy as np\n",
    "import matplotlib.pyplot as plt\n",
    "from wordcloud import WordCloud, STOPWORDS, ImageColorGenerator\n",
    "import random"
   ]
  },
  {
   "cell_type": "code",
   "execution_count": 3,
   "metadata": {
    "collapsed": false
   },
   "outputs": [
    {
     "data": {
      "text/plain": [
       "u'0.18.0'"
      ]
     },
     "execution_count": 3,
     "metadata": {},
     "output_type": "execute_result"
    }
   ],
   "source": [
    "pd.__version__"
   ]
  },
  {
   "cell_type": "code",
   "execution_count": 4,
   "metadata": {
    "collapsed": true
   },
   "outputs": [],
   "source": [
    "mydb  = \"../../sqlStart/Abstracts_aug1.db\""
   ]
  },
  {
   "cell_type": "code",
   "execution_count": 5,
   "metadata": {
    "collapsed": true
   },
   "outputs": [],
   "source": [
    "import wordcloud_generator2 as wcg2\n",
    "wcg2 = reload(wcg2)"
   ]
  },
  {
   "cell_type": "code",
   "execution_count": 7,
   "metadata": {
    "collapsed": false
   },
   "outputs": [
    {
     "name": "stdout",
     "output_type": "stream",
     "text": [
      "('kw', 'paperID', '', 'kwCloud.png', False)\n"
     ]
    }
   ],
   "source": [
    "wc1 = wcg2.cloud(cloudtext = 'kw',\n",
    "          grouper = 'paperID', \n",
    "          group = '', \n",
    "          outputFile = 'kwCloud.png', \n",
    "          grouped = False)"
   ]
  },
  {
   "cell_type": "code",
   "execution_count": 8,
   "metadata": {
    "collapsed": true
   },
   "outputs": [],
   "source": [
    "def create_KWCloudGroup(grouper, grouptype):\n",
    "    \n",
    "    wc = wcg2.cloud(cloudtext = 'kw',\n",
    "                    grouper = grouper, \n",
    "                    group = grouptype, \n",
    "                    outputFile = 'kwGroupedCloud.png',\n",
    "                    grouped = True\n",
    "                    )"
   ]
  },
  {
   "cell_type": "code",
   "execution_count": 10,
   "metadata": {
    "collapsed": false
   },
   "outputs": [
    {
     "name": "stdout",
     "output_type": "stream",
     "text": [
      "('kw', 'pubYear', 2014, 'kwGroupedCloud.png', True)\n"
     ]
    }
   ],
   "source": [
    "wc3 = create_KWCloudGroup('pubYear', 2014)\n"
   ]
  },
  {
   "cell_type": "markdown",
   "metadata": {},
   "source": [
    "# DRAFTS\n"
   ]
  },
  {
   "cell_type": "code",
   "execution_count": 69,
   "metadata": {
    "collapsed": false
   },
   "outputs": [],
   "source": [
    "def getPapersKWgroup(grouper):\n",
    "    '''\n",
    "    : param grouper: parameters to group paper keyword merged table by (ie. [confName, pubYear])\n",
    "    : output : Returns two python Pandas DataFrames . \n",
    "            merged: PAPER and PAPERKEY merged on paperID\n",
    "            subgroup : merged grouped by given grouper\n",
    "    '''\n",
    "    with sqlite3.connect(mydb) as con:\n",
    "        sqlcmd = \"SELECT paperID, title, confName, pubYear FROM PAPER \"\n",
    "        \n",
    "        paperdf = pd.read_sql_query(sqlcmd, con)\n",
    "        \n",
    "        sqlcmd2 = \"SELECT paperID, keyword FROM PAPERKEY \"\n",
    "        kwdf = pd.read_sql_query(sqlcmd2, con)\n",
    "        kwdf['keyword'] = kwdf['keyword'].apply(lambda word: eval(word))\n",
    "        \n",
    "        merged = kwdf.merge(paperdf, on = 'paperID')\n",
    "        \n",
    "        subgrp = merged.groupby(grouper)\n",
    "        \n",
    "        return merged, subgrp\n",
    "    \n",
    "def prep_KWcloud():\n",
    "    '''\n",
    "    : param NONE\n",
    "    : output : Returns a json dictionary of paperIDs and their keywords\n",
    "    '''\n",
    "    m, data_frame = getPapersKWgroup('paperID')\n",
    "    entries = \"\"\n",
    "    for each in data_frame.groups:\n",
    "        \n",
    "        entry = \" \".join([key.replace (\" \", \"_\") for key in data_frame.get_group(each)['keyword']])\n",
    "        \n",
    "        entries = \" \".join((entries, entry))\n",
    "    return entries, m"
   ]
  },
  {
   "cell_type": "code",
   "execution_count": 44,
   "metadata": {
    "collapsed": true
   },
   "outputs": [],
   "source": [
    "e = prep_KWcloud()"
   ]
  },
  {
   "cell_type": "code",
   "execution_count": 42,
   "metadata": {
    "collapsed": false
   },
   "outputs": [],
   "source": [
    "def grey_color_func(word, font_size, position, orientation, random_state=None, **kwargs):\n",
    "    return \"hsl(20, 0%%, %d%%)\" % random.randint(20, 60)\n",
    "\n",
    "def KWcloud(text, filename):\n",
    "    '''\n",
    "    : param NONE\n",
    "    : output : Returns a json dictionary of paperIDs and their keywords\n",
    "    '''\n",
    "    #stopwords = set(STOPWORDS)\n",
    "    #stopwords.add(\"said\")\n",
    "    # take relative word frequencies into account, lower max_font_size\n",
    "    #wc = WordCloud(background_color=\"white\", max_words=2000, mask=alice_mask,\n",
    "    #           stopwords=stopwords)\n",
    "    #text = prep_KWcloud()\n",
    "\n",
    "    #wc.generate(text)\n",
    "    #Image from : https://lifebeinghusky.files.wordpress.com/2010/02/paw.jpg\n",
    "    NortheasternHusky = np.array(Image.open(\"static/Images/paw.jpg\"))\n",
    "    \n",
    "    # take relative word frequencies into account, lower max_font_size\n",
    "    wc = WordCloud(background_color=\"black\", max_font_size=40, relative_scaling=.5, \n",
    "                   mask=NortheasternHusky).generate(text)\n",
    "\n",
    "    plt.figure()\n",
    "    #plt.imshow(wc)\n",
    "    plt.axis(\"off\")\n",
    "    #plt.show()\n",
    "    # store Image?\n",
    "    wc.to_file(filename)\n",
    "    \n",
    "    return wc\n",
    "\n",
    "    #plt.imshow(wc)\n",
    "    #plt.axis(\"off\")\n",
    "    #plt.figure()\n",
    "    #plt.imshow(alice_mask, cmap=plt.cm.gray)\n",
    "    #plt.axis(\"off\")\n",
    "    #plt.show()"
   ]
  },
  {
   "cell_type": "code",
   "execution_count": 70,
   "metadata": {
    "collapsed": false
   },
   "outputs": [],
   "source": [
    "text, df = prep_KWcloud()\n",
    "wc = KWcloud(text, \"static/Images/kwCloud.png\")"
   ]
  },
  {
   "cell_type": "code",
   "execution_count": 78,
   "metadata": {
    "collapsed": false
   },
   "outputs": [
    {
     "data": {
      "text/html": [
       "<div>\n",
       "<table border=\"1\" class=\"dataframe\">\n",
       "  <thead>\n",
       "    <tr style=\"text-align: right;\">\n",
       "      <th></th>\n",
       "      <th>paperID</th>\n",
       "      <th>keyword</th>\n",
       "      <th>title</th>\n",
       "      <th>confName</th>\n",
       "      <th>pubYear</th>\n",
       "    </tr>\n",
       "  </thead>\n",
       "  <tbody>\n",
       "    <tr>\n",
       "      <th>0</th>\n",
       "      <td>1</td>\n",
       "      <td>Research challenges</td>\n",
       "      <td>On the need of safe software product line arch...</td>\n",
       "      <td>ECSA</td>\n",
       "      <td>2010</td>\n",
       "    </tr>\n",
       "    <tr>\n",
       "      <th>1</th>\n",
       "      <td>1</td>\n",
       "      <td>Software product line architecture</td>\n",
       "      <td>On the need of safe software product line arch...</td>\n",
       "      <td>ECSA</td>\n",
       "      <td>2010</td>\n",
       "    </tr>\n",
       "    <tr>\n",
       "      <th>2</th>\n",
       "      <td>1</td>\n",
       "      <td>Materials Science</td>\n",
       "      <td>On the need of safe software product line arch...</td>\n",
       "      <td>ECSA</td>\n",
       "      <td>2010</td>\n",
       "    </tr>\n",
       "    <tr>\n",
       "      <th>3</th>\n",
       "      <td>1</td>\n",
       "      <td>Structural properties</td>\n",
       "      <td>On the need of safe software product line arch...</td>\n",
       "      <td>ECSA</td>\n",
       "      <td>2010</td>\n",
       "    </tr>\n",
       "    <tr>\n",
       "      <th>4</th>\n",
       "      <td>1</td>\n",
       "      <td>Software product lines</td>\n",
       "      <td>On the need of safe software product line arch...</td>\n",
       "      <td>ECSA</td>\n",
       "      <td>2010</td>\n",
       "    </tr>\n",
       "  </tbody>\n",
       "</table>\n",
       "</div>"
      ],
      "text/plain": [
       "   paperID                             keyword  \\\n",
       "0        1                 Research challenges   \n",
       "1        1  Software product line architecture   \n",
       "2        1                   Materials Science   \n",
       "3        1               Structural properties   \n",
       "4        1              Software product lines   \n",
       "\n",
       "                                               title confName  pubYear  \n",
       "0  On the need of safe software product line arch...     ECSA     2010  \n",
       "1  On the need of safe software product line arch...     ECSA     2010  \n",
       "2  On the need of safe software product line arch...     ECSA     2010  \n",
       "3  On the need of safe software product line arch...     ECSA     2010  \n",
       "4  On the need of safe software product line arch...     ECSA     2010  "
      ]
     },
     "execution_count": 78,
     "metadata": {},
     "output_type": "execute_result"
    }
   ],
   "source": [
    "df.head()"
   ]
  },
  {
   "cell_type": "code",
   "execution_count": 60,
   "metadata": {
    "collapsed": false
   },
   "outputs": [],
   "source": [
    "import wordcloud_generator as wcg\n",
    "wcg = reload(wcg)"
   ]
  },
  {
   "cell_type": "code",
   "execution_count": 61,
   "metadata": {
    "collapsed": false
   },
   "outputs": [],
   "source": [
    "test = wcg.KWcloud()"
   ]
  },
  {
   "cell_type": "code",
   "execution_count": 62,
   "metadata": {
    "collapsed": false
   },
   "outputs": [
    {
     "data": {
      "text/plain": [
       "<wordcloud.wordcloud.WordCloud at 0x1159ad350>"
      ]
     },
     "execution_count": 62,
     "metadata": {},
     "output_type": "execute_result"
    }
   ],
   "source": [
    "test"
   ]
  },
  {
   "cell_type": "code",
   "execution_count": 63,
   "metadata": {
    "collapsed": true
   },
   "outputs": [],
   "source": [
    "test2 = wcg.KWcloud2()"
   ]
  },
  {
   "cell_type": "code",
   "execution_count": 94,
   "metadata": {
    "collapsed": false
   },
   "outputs": [],
   "source": [
    "def prep_Aucloud():\n",
    "    with sqlite3.connect(mydb) as con:\n",
    "        sqlcmd = \"SELECT authorName FROM PAPERAUTHOR \"\n",
    "        \n",
    "        data_frame = pd.read_sql_query(sqlcmd, con)\n",
    "    \n",
    "        entries = ''\n",
    "        for each in data_frame.authorName:\n",
    "            entries = \" \".join((entries, each.strip().replace(', ', '_').replace(' ', '_')))\n",
    "    return entries\n",
    "    "
   ]
  },
  {
   "cell_type": "code",
   "execution_count": 95,
   "metadata": {
    "collapsed": false
   },
   "outputs": [],
   "source": [
    "audf = prep_Aucloud()"
   ]
  },
  {
   "cell_type": "code",
   "execution_count": 96,
   "metadata": {
    "collapsed": false
   },
   "outputs": [
    {
     "data": {
      "text/plain": [
       "u' Lopez_Herrejon_Roberto_E Egyed_Alexander Perovich_Daniel Rossel_Pedro_O Bastarrica_Mar a_Cecilia Perovich_Daniel Rossel_Pedro_O Bastarrica_Mar a_Cecilia Perovich_Daniel Rossel_Pedro_O Bastarrica_Mar a_Cecilia Hilliard_Rich Malavolta_Ivano Muccini_Henry Pelliccione_Patrizio Hilliard_Rich Malavolta_Ivano Muccini_Henry Pelliccione_Patrizio Bardram_J_E Christensen_H_B Corry_A_V Hansen_K_M Ingstrup_M Oliveira_C Wermelinger_M De_Graaf_Klaas_Andries Tang_Antony Liang_Peng Van_Vliet_Hans De_Graaf_Klaas_Andries Tang_Antony Liang_Peng Van_Vliet_Hans Demirli_Elif Tekinerdogan_Bedir Tekinerdogan_Bedir zer_Hasan Woods_Eoin Rozanski_Nick Source Working_IEEE_IFIP_Conference_on_Software_Architecture WICSA ISBN Conference Working_IEEE_IFIP_Conference_on_Software_Architecture WICSA Jan Publisher IEEE_Piscataway_NJ_USA Schefer_Wenzl_Sigrid Feiertag_Katharina Dagtas_Serhan Natchetoi_Yuri Wu_Huaig Hamdi_Louenas Bosloper_Ivor Siljee_Johanneke Nijhuis_Jos Diaz_Pace_J Andres Carlino_Juan_P Blech_Martin Soria_Alvaro Campo_Marcelo_R Diaz_Pace_J Andres Carlino_Juan_P Blech_Martin Soria_Alvaro Campo_Marcelo_R Diaz_Pace_J Andres Carlino_Juan_P Blech_Martin Soria_Alvaro Campo_Marcelo_R Hamel_Lazhar Graiet_Mohamed Kmimech_Mourad Bhiri_Mohamed_Tahar Gaaloul_Walid Spalazzese_Romina Inverardi_Paola Mellado_Daniel Fern ndez_Medina_Eduardo Piattini_Mario Poort_Eltjo_R Postema_Herman Key_Andrew De_With_Peter_H Poort_E_R Postema_H Key_A de_With_P_H_N Eloranta_Veli_Pekka Hylli_Otto Veps inen_Timo Koskimies_Kai Mesbah_A van_Deursen_A Baroni_Alessandro Muccini_Henry Malavolta_Ivano Woods_Eoin Angelov_S Hilliard_R Galster_Matthias Avgeriou_Paris Guoxin_S Mingsheng_Ying Chengqi_Zhang Diaz_Pace_J_A Campo_M_R az_Pace_J Andr Campo_Marcelo_R Dan_Hirsch_Paola_Inverardi_Ugo_Montanari Khan_Muhammad_Umair_Ahmed Zulkernine_Mohammad Angelov_Samuil Grefen_Paul Greefhorst_Danny Angelov_Samuil Grefen_Paul Greefhorst_Danny Angelov_Samuil Grefen_Paul Greefhorst_Danny Razavizadeh_Azadeh Verjus_Herve mpan_Sorana Ducasse_St phane Razavizadeh_Azadeh Verjus_Herve mpan_Sorana Ducasse_St phane Razavizadeh_Azadeh Verjus_Herve mpan_Sorana Ducasse_St phane Silva_Eduardo Cavalcante_Everton Batista_Thais Oquendo_Flavio Delicato_Flavia_C Pires_Paulo_F Malakuti_Somayeh Admodisastro_Novia Kotonya_Gerald Makki_Majid Bagheri_Ebrahim Ghorbani_Ali_A Gamez_Nadia Fuentes_Lidia Arag ez_Miguel_A Fuentes_Lidia mez_Nadia Pinto_M nica Valenzuela_Juan_A Fuentes_Lidia mez_Nadia Pinto_M nica Valenzuela_Juan_A ster_Martin Smiley_Karen Mahate_Shakeel Wood_Paul Falkner_K Balasubramaniam_D Detmold_H Munro_D_S Falkner_K Balasubramaniam_D Detmold_H Munro_D_S Durdik_Zoya Babar_Muhammad_Ali Babar_Muhammad_Ali Babar_Muhammad_Ali Poort_Eltjo_R Key_Andrew De_With_Peter_H_N Van_Vliet_Hans Poort_Eltjo_R Key_Andrew De_With_Peter_H_N Van_Vliet_Hans Seele_Wilbert Syed_Shaheen Brinkkemper_Sjaak Brinkkemper_Sjaak Pachidi_Stella Konersmann_Marco Durdik_Zoya Goedicke_Michael Reussner_Ralf_H Razavian_Maryam Lago_Patricia Razavian_Maryam Lago_Patricia ller_Marco Kersten_Benjamin Goedicke_Michael Farenhorst_Rik Hoorn_Johan_F Lago_Patricia Van_Vliet_Hans Farenhorst_Rik Hoorn_Johan_F Lago_Patricia Van_Vliet_Hans Farenhorst_Rik Hoorn_Johan_F Lago_Patricia Van_Vliet_Hans pez_Sanz_Marcos a_C sar_J Cuesta_Carlos_E Marcos_Esperanza Cubo_Javier Pimentel_Ernesto Atkinson_C Seriai_Abderrahmane Sadou_Salah Sahraoui_Houari Hamza_Salma Ciraci_Selim zer_Hasan Aksit_Mehmet zer_Hasan Tekinerdogan_Bedir Hakala_M__Hautamaki_J__Koskimies_K__Paakki_J_, Viljamaa_A__Viljamaa_J Braude_Eric_J Garcia_Joshua Popescu_Daniel Edwards_George Medvidovic_Nenad Hamid_Brahim Krichen_Fatma Arias_Trosky_B Callo America_Pierre Avgeriou_Paris Arias_Trosky_B Callo America_Pierre Avgeriou_Paris Arias_Trosky_B Callo America_Pierre Avgeriou_Paris Casanova_Paulo Schmerl_Bradley Garlan_David Abreu_Rui Sarang_Poornachandra McGee_Ryan_A Eklund_Ulrik Lundin_Mats Woods_Eoin Bashroush_Rabih Woods_Eoin Bashroush_Rabih Bass_Len Clements_Paul Kazman_Rick Klein_Mark Orlic_Bojan David_Ionut Mak_Rudolf_H Lukkien_Johan_J Perovich_Daniel Bastarrica_Maria_Cecilia Miesbauer_Cornelia Weinreich_Rainer Miesbauer_Cornelia Weinreich_Rainer Martfnez_Prieto_M_A Cuesta_C_E de_la_Fuente_P Martfnez_Prieto_M_A Cuesta_C_E de_la_Fuente_P Schwittek_Widura Eicker_Stefan Ali_Nour Rosik_Jacek Buckley_Jim Zdun_Uwe Capilla_Rafael Zdun_Uwe Capilla_Rafael Molesini_Ambra Garcia_Alessandro Von_Flach_G Chavez_Christina Batista_Thais Anvaari_M Zimmermann_O Tofan_Dan Galster_Matthias Harrison_N_B Avgeriou_P Harrison_N_B Avgeriou_P Chung__D Catherine_Blake_Jaktman_John_Leaney_and_Ming_Li Kruchten_Philippe Lago_Patricia Van_Vliet_Hans Kruchten_Philippe Lago_Patricia Van_Vliet_Hans Wolf_Timo de_Boer_R_C van_Vliet_H Muhammad_Naeem Boucke_Nelis Berbers_Yolande Morandi_Benjamin West_Scott Nanz_Sebastian Gomaa_Hassan Ton_That_Minh_T Sadou_Salah Oquendo_Flavio Borne_Isabelle Kamal_Ahmad_Waqas Avgeriou_Paris Kamal_Ahmad_Waqas Avgeriou_Paris Christensen_Henrik_Brbak Hansen_Klaus_Marius Garcia_Joshua Krka_Ivo Medvidovic_Nenad Douglas_Chris Garcia_Joshua Krka_Ivo Medvidovic_Nenad Douglas_Chris Von_Massow_Robert Van_Hoorn_Andr Hasselbring_Wilhelm Mark_H Klein_Rick_Kazman_Len_Bass_Jeromy_Carriere_Mario_Barbacci_and_Howard_Lipson Yongrui_X Peng_Liang Li_Zengyang Guelfi_Nicolas Liang_Peng Avgeriou_Paris Ampatzoglou_Apostolos Pruijt_Leo Brinkkemper_Sjaak Malavolta_Ivano Su_Guoxin Ying_Mingsheng Zhang_Chengqi Su_Guoxin Ying_Mingsheng Zhang_Chengqi Phung_Khac_An Gilliot_Jean_Marie Segarra_Maria_Teresa Beugnard_Antoine Kabor _Eveline Olumofin_Femi_G Miic_Vojislav_B mara_Javier Correia_Pedro De_Lemos_Rog rio Vieira_Marco Lung_Chung_Horng Balasubramaniam_Balasangar Selvarajah_Kamalachelva Elankeswaran_Poopalasinkam Gopalasundaram_Umatharan Zhang_Huaxi Urtado_Christelle Vauttier_Sylvain Manteuffel_Christian Tofan_Dan Koziolek_Heiko Goldschmidt_Thomas Avgeriou_Paris Berrocal_Javier Garc a_Alonso_Jos Murillo_Juan_Manuel Cavalcante_E Oquendo_F Batista_T Knodel_Jens Naab_Matthias Sethi_Kanwarpreet Cai_Yuanfang Wong_Sunny Garcia_Alessandro Sant Anna_Claudio Sethi_Kanwarpreet Cai_Yuanfang Wong_Sunny Garcia_Alessandro Sant Anna_Claudio Sethi_Kanwarpreet Cai_Yuanfang Wong_Sunny Garcia_Alessandro Sant Anna_Claudio Harrison_Neil_B Avgeriou_Paris Stol_Klaas_Jan Avgeriou_Paris Ali_Babar_Muhammad Koschke_Rainer Chardigny_Sylvain Seriai_Abdelhak Vasconcelos_Aline Werner_Cl udia Dajsuren_Yanja Gerpheide_Christine_M Serebrenik_Alexander Wijs_Anton Vasilescu_Bogdan Van_Den_Brand_Mark_G Roy_R_Wei Garlan_David Barnes_Jeffrey_M Schmerl_Bradley Celiku_Orieta Garlan_David Barnes_Jeffrey_M Schmerl_Bradley Celiku_Orieta Garlan_David Barnes_Jeffrey_M Schmerl_Bradley Celiku_Orieta pez_Jaquero_Victor Montero_Francisco Navarro_Elena Esparcia_Antonio Catal n_Jos Antonio pez_Jaquero_Victor Montero_Francisco Navarro_Elena Esparcia_Antonio Catal n_Jos Antonio Surajbali_B Grace_P Coulson_G Jtirgen_K Miiller Papazoglou_Michael_P Krupaviciute_Asta Fayn_Jocelyne Blasi_Lorenzo Savola_Reijo Abie_Habtam Rotondi_Domenico Waignier_Guillaume Le_Meur_Anne_Fran oise Duchien_Laurence De_Silva_Lakshitha Balasubramaniam_Dharini Cuesta_Carlos_E Mart nez_Prieto_Miguel_A Fern ndez_Javier_D Begoli_Edmon Horey_James Begoli_Edmon Horey_James Rytter_Martin Jrgensen_Bo_Nrregaard Waignier_Guillaume Le_Meur_Anne_Fran oise Duchien_Laurence Gorton_Ian Wynne_Adam Almquist_Justin Chatterton_Jack Eklund_Ulrik Bosch_Jan Eklund_Ulrik Bosch_Jan Vasar_Martti Srirama_Satish_Narayana Dumas_Marlon Vasar_Martti Srirama_Satish_Narayana Dumas_Marlon Orlic_Bojan Mak_Rudolf David_Ionut Lukkien_Johan az_Jessica rez_Jennifer Garbajosa_Juan Wolf_Alexander_L George_Yanbing_Guo__Joanne_M Atlee__Rick_Kazman Booch_Grady Wallom_David Turilli_Matteo Martin_Andrew Raun_Anbang Taylor_Gareth Hargreaves_Nigel McMoran_Alan Wallom_David Turilli_Matteo Martin_Andrew Raun_Anbang Taylor_Gareth Hargreaves_Nigel McMoran_Alan Phaphoom_Nattakarn Oza_Nilay Wang_Xiaofeng Abrahamsson_Pekka Phaphoom_Nattakarn Oza_Nilay Wang_Xiaofeng Abrahamsson_Pekka Khomh_Foutse Chauhan_Muhammad_Aufeef Babar_Muhammad_Ali Chauhan_Muhammad_Aufeef Babar_Muhammad_Ali Tang_Longji Dong_Jing Zhao_Yajing Zhang_Liang_Jie rrle_Harald Mitchell_B Traverso_M Mancoridis_S Eloranta_Veli_Pekka Koskimies_Kai Eloranta_Veli_Pekka Koskimies_Kai Weinreich_Rainer Buchgeher_Georg Astudillo_H Pereira_J Lopez_C Petcu_Dana Sandru_Calin Petcu_Dana Sandru_Calin Kuz_Ihor Liu_Yan Kuz_I Yan_Li Dimov_A Punnekkat_S Wieczorek_Sebastian Roth_Andreas Stefanescu_Alin Kozyura_Vitaly Charfi_Anis Kraft_Frank_Michael Schieferdecker_Ina Wieczorek_Sebastian Roth_Andreas Stefanescu_Alin Kozyura_Vitaly Charfi_Anis Kraft_Frank_Michael Schieferdecker_Ina Wieczorek_Sebastian Roth_Andreas Stefanescu_Alin Kozyura_Vitaly Charfi_Anis Kraft_Frank_Michael Schieferdecker_Ina Li_Li Kenny_Joseph_P Wu_Meng_Shio Huck_Kevin Gaenko_Alexander Gordon_Mark_S Janssen_Curtis_L Curfman_McInnes_Lois Mori_Hirotoshi Netzloff_Heather_M Norris_Boyana Windus_Theresa_L Dwivedi_Vishal Velasco_Elizondo_Perla Maria_Fernandes_Jose Garlan_David Schmerl_Bradley Etxeberria_Leire Trubiani_Catia Cortellessa_Vittorio Sagardui_Goiuria Fu_Min Zhu_Liming Bass_Len Xu_Xiwei Faniyi_Funmilade Lewis_Peter_R Bahsoon_Rami Yao_Xin Klein_John Van_Vliet_Hans Abukwaik_H Taibi_D Rombach_D Peake_Ian_D Schmidt_Heinz_W Choi_Soon_Hyeok Perry_Dewayne_E Nettles_Scott_M Tivoli_Massimo Garlan_David Savolainen_Juha Kuusela_Juha nnist _Tomi Nyyss nen_Aki Feitosa_Daniel Brosch_Franz Koziolek_Heiko Buhnova_Barbora Reussner_Ralf Tamburri_Damian_Andrew Lago_Patricia Khan_Taimur Humayoun_Shah_Rukh Amrhein_Karsten Barthel_Henning Ebert_Achim Liggesmeyer_Peter Zernadji_Tarek Tibermacine_Chouki Cherif_Foudil Tofan_Dan Herzig_Philipp Ameling_Michael Schill_Alexander Herzig_Philipp Ameling_Michael Schill_Alexander Costa_C Ali_N Perez_J Carsi_J_A Ramos_I Costa_C Ali_N Perez_J Carsi_J_A Ramos_I Nakagawa_Elisa_Yumi Oliveira_Antonino_Pablo Becker_Martin De_Roo_Arjan zer_Hasan Aksit_Mehmet De_Roo_Arjan zer_Hasan Aksit_Mehmet De_Roo_Arjan zer_Hasan Aksit_Mehmet Ali_Rima_Al Bures_Tomas Gerostathopoulos_Ilias Keznikl_Jaroslav Plasil_Frantisek Freudenreich_T Appel_S Frischbier_S Buchmann_A_P Celik_Turgay Koksal_Omer Tekinerdogan_Bedir Gorton_Ian Gorlick_Michael_M Strasser_Kyle Taylor_Richard_N Gorlick_Michael_M Strasser_Kyle Taylor_Richard_N Johnsen_Andreas Lundqvist_Kristina Pettersson_Paul nninen_Kaj Martens_Anne Ardagna_Danilo Koziolek_Heiko Mirandola_Raffaela Reussner_Ralf Buhnova_Barbora Chren_Stanislav Fabrikov _Lucie Alebrahim_Azadeh Heisel_Maritta Di_Noia_T Mongiello_M Di_Sciascio_E LaMantia_Matthew_J Cai_Yuanfang MacCormack_Alan_D Rusnak_John Koziolek_Anne Koziolek_Heiko Reussner_Ralf ckmann_Tobias Gruhn_Volker Abi_Antoun_Marwan Ammar_Nariman Hailat_Zeyad Gu_Qing Lago_Patricia Gu_Qing Lago_Patricia Gu_Qing Lago_Patricia pez_Sanz_Marcos Qayyum_Zawar Cuesta_Carlos_E Marcos_Esperanza Oquendo_Flavio Weyns_Danny Weyns_Danny Weyns_Danny Bures_T Gerostathopoulos_I Hnetynka_P Keznikl_J Kit_M Plasil_F De_Boer_Remco_C Farenhorst_Rik Lago_Patricia Van_Vliet_Hans Clerc_Viktor Jansen_Anton Boer_R_C Farenhorst_R Lago_P van_Vliet_H Clerc_V Jansen_A James_Vera_Louis_Perrochon_David_C Luckham Durdik_Zoya Reussner_Ralf Ghabi_Achraf Egyed_Alexander Ghabi_Achraf Egyed_Alexander Edwards_George Brun_Yuriy Medvidovic_Nenad Edwards_George Brun_Yuriy Medvidovic_Nenad Bahsoon_Rami Emmerich_Wolfgang Li_Zhao Zheng_Jiang Scandariato_Riccardo Buyens_Koen Joosen_Wouter Keuler_Thorsten Webel_Christian Keuler_Thorsten Webel_Christian Keuler_Thorsten Webel_Christian Melleg rd_Niklas Staron_Miroslaw That_Minh_Tu_Ton Sadou_Salah Oquendo_Flavio That_Minh_Tu_Ton Sadou_Salah Oquendo_Flavio Ojala_Pasi ndez_Gonzalo De_Antonio_Ang lica Lei_Ding_and_Medvidovic_N Von_Detten_Markus Becker_Steffen Raibulet_Claudia Masciadri_Laura Raibulet_Claudia Masciadri_Laura Raibulet_Claudia Masciadri_Laura Del_Rosso_Christian Hock_Koon_Anthony Oussalah_Mourad Ebad_Shouki_A Ahmed_Moataz Haft_M Humm_B Siedersleben_J Groher_Iris Weinreich_Rainer Groher_Iris Weinreich_Rainer Tchakaloff_Borjan Saudrais_S bastien Babau_Jean_Philippe Pichler_Christian Huemer_Christian Newman_Peter Kotonya_Gerald Newman_Peter Kotonya_Gerald Falessi_D Kruchten_P Cantone_G Falessi_D Kruchten_P Cantone_G Procaccianti_Giuseppe Lago_Patricia Lewis_Grace_A Uusitalo_Eero Raatikainen_Mikko Koskela_Mika Myllarniemi_Varvana Mannisto_Tomi Weyns_Danny Ahmad_Tanvir Dhungana_Deepak Schreiner_Herwig Lehofer_Martin Vierhauser_Michael Rabiser_Rick nbacher_Paul Assmann_Martin Engels_Gregor Van_Der_Raadt_Bas Van_Vliet_Hans Van_Der_Raadt_Bas Schouten_Sander Van_Vliet_Hans ckmann_Tobias Gruhn_Volker Pfeiffer_Max Liu_Yan Liang_Xin Xu_Lingzhi Staples_Mark Zhu_Liming Liu_Yan Liang_Xin Xu_Lingzhi Staples_Mark Zhu_Liming Liu_Yan Liang_Xin Xu_Lingzhi Staples_Mark Zhu_Liming Bhattacharya_S Perry_D_E Syromiatnikov_Artem Weyns_Danny Dhungana_Deepak Neumayer_Thomas nbacher_Paul Rabiser_Rick Petrov_Plamen Nord_Robert_L Buy_Ugo Bernini_Diego Tisato_Francesco Yusuf_Iman_I Schmidt_Heinz_W Peake_Ian_D m_Thomas Apel_Sven Zelend_Andreas Schr ter_Reimar ller_Bernhard Axelsson_Jakob Kobetski_Avenir Berardinelli_Luca Langer_Philip Mayerhofer_Tanja Boucke_N Weyns_D Schelfthout_K Holvoet_T Heyman_Thomas Scandariato_Riccardo Joosen_Wouter Heyman_Thomas Scandariato_Riccardo Joosen_Wouter Bernardo_M__Ciancarini_P__Donatiello_L Lopes_S Tavares_A Monteiro_J Silva_C Lopes_S Tavares_A Monteiro_J Silva_C Neerbek_Jan Neerbek_Jan Chauhan_Muhammad_Aufeef Shaw_Mary Miner_Donald Miner_Donald Sapienza_Gaetana Crnkovic_Ivica Potena_Pasqualina Simanta_Soumya Lewis_Grace_A Morris_Ed Ha_Kiryong Satyanarayanan_Mahadev Simanta_Soumya Lewis_Grace_A Morris_Ed Ha_Kiryong Satyanarayanan_Mahadev Rodriguez_Ismael_Bouassida Drira_Khalil Chassot_Christophe Jmaiel_Mohamed Rodriguez_Ismael_Bouassida Drira_Khalil Chassot_Christophe Jmaiel_Mohamed Rodriguez_Ismael_Bouassida Drira_Khalil Chassot_Christophe Jmaiel_Mohamed Muccini_H Bahsoon_Rami Arcelli_Davide Cortellessa_Vittorio Trubiani_Catia Parra_Carlos Cleve_Anthony Blanc_Xavier Duchien_Laurence Mikkonen_Tommi Nieminen_Antti Mikkonen_Tommi Nieminen_Antti Dajsuren_Yanja Van_Den_Brand_Mark_G_J Serebrenik_Alexander Roubtsov_Serguei Zhang_Huaxi Urtado_Christelle Vauttier_Sylvain Zhang_Lei Huchard_Marianne Coulette_Bernard Zhang_Huaxi Urtado_Christelle Vauttier_Sylvain Zhang_Lei Huchard_Marianne Coulette_Bernard Jansen_Anton Van_Der_Ven_Jan Avgeriou_Paris Hammer_Dieter_K Chang_N_Z__Cungang_Yang Mallet_J Rouvrais_S Mallet_Julien Rouvrais_Siegfried Damaevicius_Robertas tuikys_Vytautas Toldinas_Jevgenijus Zimmermann_Olaf Gschwind_Thomas ster_Jochen Leymann_Frank Schuster_Nelly Zimmermann_O Gschwind_T Kuster_J Leymann_F Schuster_N Weinreich_Rainer Miesbauer_Cornelia Buchgeher_Georg Kriechbaum_Thomas Weinreich_Rainer Miesbauer_Cornelia Buchgeher_Georg Kriechbaum_Thomas Tekinerdogan_Bedir Demirli_Elif Aram_Michael Neumann_Gustaf mez_Paola nchez_Mario Villalobos_Jorge Di_Ruscio_Davide Malavolta_Ivano Muccini_Henry Pelliccione_Patrizio Pierantonio_Alfonso Le_Gloahec_Vincent Fleurquin_R gis Sadou_Salah Cai_Yuanfang Wang_Hanfei Wong_Sunny Wang_Linzhang Hamid_Brahim Ziani_Adel Geisel_Jacob Cardoso_R_S Issarny_V Abi_Antoun_Marwan Aldrich_Jonathan Garlan_David Schmerl_Bradley Nahas_Nagi Farenhorst_Rik Izaks_Ronald Lago_Patricia Van_Vliet_Hans Grassi_V Mirandola_R Sabetta_A Lytra_Ioanna Tran_Huy Zdun_Uwe Van_Landuyt_Dimitri Truyen_Eddy Joosen_Wouter Van_Landuyt_Dimitri Truyen_Eddy Joosen_Wouter Hauck_Michael Kuperberg_Michael Huber_Nikolaus Reussner_Ralf Tyree_Jeff Axelsson_Jakob Axelsson_Jakob Axelsson_Jakob Keznikl_Jaroslav Bure_Tom Pl il_Frantiek Kit_Michal Keznikl_Jaroslav Bure_Tom Pl il_Frantiek Kit_Michal Shahin_Mojtaba Liang_Peng Khayyambashi_Mohammad_Reza Shahin_Mojtaba Liang_Peng Khayyambashi_Mohammad_Reza Shahin_Mojtaba Liang_Peng Khayyambashi_Mohammad_Reza Cherfia_Taha_Abdelmoutaleb Belala_Fa za Bass_Len Bass_Len Bass_Len Wirsing_M Monteith_J Yates McGregor_John_D Ingram_John_E Shaw_Mary Van_Vliet_Hans Di_Marco_Antinisca Gallo_Francesco Inverardi_Paola Ippoliti_Rodolfo Li_Hang Liu_Xi_Yang Chen_Ping Sylvia_Stuurman Volker_Gruhn_Ursula_Wellen Smeda_Adel Oussalah_Mourad Khammaci_Tahar Brebner_Paul Saadatmand_Mehrdad Scholle_Detlef Leung_Cheuk_Wing Ullstr m_Sebastian Larsson_Joanna_Fredriksson Riegel_C Kaesling_M Schiitze Costa_Gabriele Matteucci_Ilaria Haitzer_Thomas Zdun_Uwe Leite_Jair Oquendo_Fl vio Batista_Thais Jan_Bosch, Piattini_Mario Calero_Coral Astudillo_Hern Van_Heesch_Uwe Avgeriou_Paris Hilliard_Rich Van_Heesch_Uwe Avgeriou_Paris Hilliard_Rich Fraga_Anabel Llorens_Juan Muccini_Henry Tekinerdogan_Bedir Muccini_Henry Tekinerdogan_Bedir skilahti_Juha rel _Mikko Goulao_M Abreu_F_B Christensen_Henrik_Brbak Hansen_Klaus_Marius Lindstrm_Bo Keuler_Thorsten Muthig_Dirk Uchida_Takayuki Keuler_Thorsten Wagner_Stefan Winkler_Bernhard Keuler_Thorsten Wagner_Stefan Winkler_Bernhard Wu_Weihang Kelly_Tim Batista_Thais Gomes_Ant nio_T Coulson_Geoff Chavez_Christina Garcia_Alessandro Avritzer_Alberto Paulish_Daniel Cai_Yuanfang Correia_R Matos_C_M_P Heckel_R El_Ramly_M Correia_R Matos_C_M_P Heckel_R El_Ramly_M Mattmann_Chris_A Garcia_Joshua Krka_Ivo Popescu_Daniel Medvidovic_Nenad Mattmann_Chris_A Garcia_Joshua Krka_Ivo Popescu_Daniel Medvidovic_Nenad Mattmann_Chris_A Garcia_Joshua Krka_Ivo Popescu_Daniel Medvidovic_Nenad Keuler_Thorsten Keuler_Thorsten Capilla_Rafael Due as_Juan_C Schw gerl_Felix Uhrig_Sabrina Westfechtel_Bernhard Begoli_Edmon Begoli_Edmon Spitznagel_B Garlan_D Magee_J_N Estevez_E Marcos_M Estevez_E Marcos_M Koziolek_Heiko Weiss_Roland Doppelhamer_Jens Andersen_Mads_Schaarup Begoli_Edmon Begoli_Edmon Perry_D_E Weinreich_Rainer Buchgeher_Georg Bass_M Mikulovic_V Bass_L James_H Marcelo_C Tibermacine_Chouki Fleurquin_R gis Sadou_Salah Goknil_Arda Suryadevara_Jagadish Peraldi_Frati_Marie_Agn Mallet_Fr ric Zave_Pamela Klein_John Birkmeier_Dominik Overhage_Sven Herold_S Mair_M Farenhorst_Rik Lago_Patricia Van_Vliet_Hans Farenhorst_R Lago_P van_Vliet_H Hinsman_Carl Sangal_Neeraj Stafford_Judith Zalewski_Andrzej Zalewski_Andrzej Fittkau_Florian Stelzer_Phil Hasselbring_Wilhelm Wolfgang_Pree__Kai_Koskirnies Koziolek_Heiko Hesenius_Marc Gruhn_Volker Tang_Antony Tran_Minh_H Han_Jun Van_Vliet_Hans Corry_Aino_Vonge Hansen_Klaus_Marius Svensson_David Feugas_Alexandre Mosser_S bastien Duchien_Laurence Galster_Matthias Loukil_Sihem Kallel_Slim Zalila_Bechir Jmaiel_Mohamed Koziolek_Heiko Domis_Dominik Goldschmidt_Thomas Vorst_Philipp Weiss_Roland_J Koziolek_Heiko Domis_Dominik Goldschmidt_Thomas Vorst_Philipp Weiss_Roland_J rrle_Harald Tang_Antony Babar_Muhammad_Ali Gorton_Ian Han_Jun Axelsson_Jakob Inverardi_P Muccini_H Pelliccione_P Navarro_E Letelier_P Jaen_J Ramos_I Navarro_E Letelier_P Jaen_J Ramos_I Galster_Matthias Avgeriou_Paris Galster_Matthias Avgeriou_Paris Anzures_Garc a_Mario Hornos_Miguel_J Paderewski_Rodr guez_Patricia Anzures_Garc a_Mario Hornos_Miguel_J Paderewski_Rodr guez_Patricia Vierhauser_Michael Rabiser_Rick Grunbacher_Paul Danner_Christian Wallner_Stefan Zeisel_Helmut Kiwelekar_A_W Joshi_R_K Latvala_Outi_Marja Toivonen_Jyri Kuusij rvi_Jarkko Evesti_Antti Yi_Xiaowei Li_Mingy Zheng_Gang Zheng_Changwen Yi_Xiaowei Zheng_Gang Li_Mingy Ma_Hengtai Zheng_Changwen Spalazzese_Romina Inverardi_Paola Issarny_Val rie Spalazzese_Romina Inverardi_Paola Issarny_Val rie Spalazzese_Romina Inverardi_Paola Issarny_Val rie Liu_Yan Gorton_Ian Bass_Len Hoang_Cuong Abanmi_Suhail Liu_Yan Babar_Muhammad_Ali Gorton_Ian Lewis_G_A Lago_P Procaccianti_G Moreno_Gabriel_A Merson_Paulo Mzid_Rania Mraidha_Chokri Babau_Jean_Philippe Abid_Mohamed Tounsi_Imen Hadj_Kacem_Mohamed Hadj_Kacem_Ahmed Haber_Arne Kutz_Thomas Rendel_Holger Rumpe_Bernhard Schaefer_Ina Ardagna_Danilo Ghezzi_Carlo Mirandola_Raffaela Perez_Palacin_Diego Mirandola_Raffaela Zalewski_Andrzej Kijas_Szymon Sokoowska_Dorota Gonzalez_Herrera_Inti Bourcier_Johann Daubert_Erwan Rudametkin_Walter Barais_Olivier Fouquet_Francois Jezequel_Jean_Marc Huber_Nikolaus Brosig_Fabian Kounev_Samuel Montresor_Alberto Yu_Jian Han_Jun Schneider_Jean_Guy Hine_Cameron Versteeg_Steve Esfahani_Naeem Malek_Sam Roshandel_Roshanak Medvidovic_Nenad Golubchik_Leana Roshandel_R Medvidovic_N Golubchik_L Fouquet_Fran ois Nain_Gr gory Daubert_Erwan Bourcier_Johann Barais_Olivier Plouzeau_Noel Morin_Brice Balasubramaniam_Dharini Morrison_Ron Greenwood_R Mark Warboys_Brian Mirandola_Raffaela Perez_Palacin_Diego Musil_Juergen Musil_Angelika Winkler_Dietmar Biffl_Stefan Musil_Juergen Musil_Angelika Winkler_Dietmar Biffl_Stefan Ghezzi_Carlo Tamburrelli_Giordano Ghezzi_Carlo Motta_Alfredo Panzica_La_Manna_Valerio Tamburrelli_Giordano Radjenovic_Alek Paige_Richard_F Galster_Matthias Babar_Muhammad_Ali Pereira_Alessandro_Costa Hartmann_Falk Kadner_Kay Pereira_Alessandro_Costa Hartmann_Falk Kadner_Kay Deiters_Constanze Rausch_Andreas Anvaari_Mohsen Conradi_Reidar Jaccheri_Letizia Philippe_Kruchten Sant Anna_C Figueiredo_E Garcia_A Lucena_C_J_P Sant Anna_C Figueiredo_E Garcia_A Lucena_C_J_P Tofan_Dan Galster_Matthias Avgeriou_Paris Clements_Paul Kazman_Rick Klein_Mark Clerc_Viktor Lago_Patricia Van_Vliet_Hans Changhai_Nie Baowen_X Liang_Shi Guowei_Dong Brebner_Paul Brien_Liam Gray_Jon Brebner_Paul Brien_Liam Gray_Jon Brebner_Paul Brien_Liam Gray_Jon Naab_Matthias Juhola_Arto Ahola_Titta Ahola_Kimmo Crnkovic_Ivica Jamwal_Vikram Hofmeister_Christine Garlan_David Stafford_Judith Bosch_Jan Chen_T_Y Chikofsky_Elliot Klein_John Hepner_M Gamble_R Barais_Olivier Lawall_Julia Le_Meur_Anne_Francoise Duchien_Laurence Matinlassi_Mari Land_Rikard Blankers_Laurens Larsson_Stig Crnkovic_Ivica Luders_Frank Flemstrom_Daniel Wall_Anders Perez_Jennifer Llavador_Manuel Carsi_Jose_A Canos_Jose_H Ramos_Isidro Revillard_Jerome Cimpan_Sorana Benoit_Eric Oquendo_Flavio Ratcliffe_Olivier Cimpan_Sorana Oquendo_Flavio Ali_Nour Perez_Jennifer Ramos_Isidro Carsi_Jose_A Manset_David Verjus_Herve McClatchey_Richard Manset_David Verjus_Herve McClatchey_Richard Evesti_Antti Pantsar_Syv niemi_Susanna Shaw_M Di_Marco_A Mirandola_R Lytra_Ioanna Sobernig_Stefan Zdun_Uwe Lytra_Ioanna Sobernig_Stefan Zdun_Uwe Losilla_F Vicente_Chicote_C Alvarez_B Iborra_A Sanchez_P Losilla_F Vicente_Chicote_C Alvarez_B Iborra_A Sanchez_P Lulli_Guglielmo Mirandola_Raffaela Potena_Pasqualina Raibulet_Claudia nemann_Patrick Zimmermann_Olaf nemann_Patrick nemann_Patrick nemann_Patrick Sagardui_Goiuria Aldekoa_Gentzane Etxeberria_Leire Rathfelder_Christoph Becker_Stefan Krogmann_Klaus Reussner_Ralf Rathfelder_Christoph Becker_Stefan Krogmann_Klaus Reussner_Ralf Kornst dt_Andreas Sauer_Joachim Happe_J Szlenk_Marcin Zalewski_Andrzej Kijas_Szymon Szlenk_Marcin Zalewski_Andrzej Kijas_Szymon Tibermacine_Chouki Kerdoudi_Mohamed_Lamine Bont _Edoardo Bernardo_Marco Bont _Edoardo Bernardo_Marco Bont _Edoardo Bernardo_Marco Tibermacine_Chouki Dony_Christophe Sadou_Salah Fabresse_Luc Perez_Palacin_Diego Mirandola_Raffaela Merseguer_Jos Hoyland_Christine_A MacG Adams_Kevin Hoyland_Christine_A MacG Adams_Kevin Hoyland_Christine_A MacG Adams_Kevin Vasconcelos_Aline Werner_Cl udia Vasconcelos_A Werner_C Savolainen_Juha Myll rniemi_Varvana Savolainen_Juha Myll rniemi_Varvana Savolainen_Juha Myll rniemi_Varvana Mu_Liping Gjster_Terje Prinz_Andreas Tveit_Merete_Skjelten Lu_Qinghua Zhu_Liming Bass_Len Xu_Xiwei Li_Zhanwen Wada_Hiroshi Dajsuren_Yanja Van_Den_Brand_Mark Serebrenik_Alexander Huisman_Rudolf Gerber_Aurona Sinha_Saurabh Van_Der_Merwe_Alta Kam_Moshe Cortellessa_Vittorio Pierini_Pierluigi Spalazzese_Romina Vianale_Alessio Trubiani_Catia Meedeniya_Indika Cortellessa_Vittorio Aleti_Aldeida Grunske_Lars Kalibera_T Bulej_L Tuma_P Koziolek_Heiko Becker_Steffen Happe_Jens Koziolek_H Becker_S Happe_J Koziolek_Heiko Happe_Jens Becker_Steffen Groenda_Henning Wert_Alexander Oehler_Marius Heger_Christoph Farahbod_Roozbeh Nord_Robert_L Ozkaya_Ipek Kruchten_Philippe Gonzalez_Rojas_Marco Nord_Robert_L Ozkaya_Ipek Kruchten_Philippe Gonzalez_Rojas_Marco Koziolek_H Firus_V Hunink_Ivo Van_Erk_Rene Jansen_Slinger Brinkkemper_Sjaak Kennaley_Mark Heider_Wolfgang Vierhauser_Michael Lettner_Daniela nbacher_Paul Heider_Wolfgang Vierhauser_Michael Lettner_Daniela nbacher_Paul Stoermer_C__O_Brien_L Kjaer_K_E Kjaer_K_E Johnsen_Andreas Pettersson_Paul Lundqvist_Kristina Ameller_David Galster_Matthias Avgeriou_Paris Franch_Xavier Da_Silva_Amorim_Simone McGregor_John_D De_Almeida_Eduardo_Santana Von_Flach_G Chavez_Christina Zhou_Jiehan Niemel _Eila Savolainen_Pekka Bode_Stephan Riebisch_Matthias Franco_Jo o_M Barbosa_Raul Zenha_Rela_M rio Franco_Jo o_M Barbosa_Raul Zenha_Rela_M rio Koch_T Holtmann_J DeAntoni_J Garlan_D Garlan_D Joolia_Ackbar Batista_Thais Coulson_Geoff Gomes_Antonio_Tadeu_A Navarro_Elena Cuesta_Carlos_E Perry_Dewayne_E Navarro_Elena Cuesta_Carlos_E Perry_Dewayne_E Navarro_Elena Cuesta_Carlos_E Perry_Dewayne_E Ingstrup_Mads Hansen_Klaus_Marius Lee_Hyesun Yang_Jin_Seok Kang_Kyo_C Lee_Hyesun Yang_Jin_Seok Kang_Kyo_C Buchgeher_Georg Weinreich_Rainer Mart nez_Fern ndez_Silverio Ayala_Claudia_P Franch_Xavier Martins_Marques_Helena Guessi_Milena Oquendo_Flavio Nakagawa_Elisa_Yumi Nakagawa_Elisa_Y Guessi_Milena Maldonado_Jose_C Feitosa_Daniel Oquendo_Flavio Nakagawa_Elisa_Yumi Oquendo_Flavio Becker_Martin Nakagawa_Elisa_Yumi Oquendo_Flavio Becker_Martin Nakagawa_Elisa_Yumi Nakagawa_Elisa_Yumi Lindgren_Markus Norstr m_Christer Wall_Anders Land_Rikard Phoomvuthisarn_Suronapee Liu_Yan Zhu_Liming Tang_Antony Van_Vliet_Hans Tang_Antony Van_Vliet_Hans Tang_Antony Van_Vliet_Hans Harper_K Eric Dagnino_Aldo Tang_Antony Jin_Yan Han_Jun Nicholson_Ann Hasselbring_Wilhelm Acher_Mathie Cleve_Anthony Collet_Philippe Merle_Philippe Duchien_Laurence Lahire_Philippe Bueno_Ruas_Oliveira_L Leroux_E Romero_Felizardo_K Oquendo_F Nakagawa_E_Y Taylor_Richard_N Medvidovic_Nenad Oreizy_Peyman Taylor_Richard_N Medvidovic_Nenad Oreizy_Peyman Taylor_Richard_N Medvidovic_Nenad Oreizy_Peyman Huanhuan_Xiong Fowley_F Pahl_C Moran_N Zhao_Liang Sakr_Sherif Zhu_Liming Xu_Xiwei Liu_Anna Zhao_Liang Sakr_Sherif Zhu_Liming Xu_Xiwei Liu_Anna Agrawal_Ashish Sodhi_Balwinder Prabhakar_T_V Fernandez_Eduardo_B Monge_Raul Kou_Siming Babar_Muhammad_Ali Sangroya_Amit Babar_M_A Wang_X Gorton_I Krautsevich_Leanid Martinelli_Fabio Yautsiukhin_Artsiom Bucchiarone_Antonio Pelliccione_Patrizio Vattani_Charlie Runge_Olga Bucchiarone_Antonio Pelliccione_Patrizio Vattani_Charlie Runge_Olga Bucchiarone_Antonio Pelliccione_Patrizio Vattani_Charlie Runge_Olga Becker_Matthias Luckey_Markus Becker_Steffen Chauvel_Franck Song_Hui Chen_Xiangping Huang_Gang Mei_Hong Duzbayev_Nurzhan Poernomo_Iman Duzbayev_N Poernomo_I Palma_F Moha_N Tremblay_G Gue he neuc_Y De_Oliveira_Lucas_Bueno_Ruas Romero_Felizardo_Katia Feitosa_Daniel Nakagawa_Elisa_Yumi Jiang_Michael Willey_Allan Baresi_Luciano Guinea_Sam Manna_Valerio_Panzica_La Duzbayev_Nurzhan Poernomo_Iman Li_Xitong Fan_Yushun Wang_Jian Wang_Li Jiang_Feng Platenius_M_C Becker_S Scha fer_W John_Jose Wang_Mingxue Pahl_Claus Galster_Matthias Falessi_Davide Cantone_Giovanni Kruchten_Philippe Alloui_Ilham mpan_Sorana Verjus_Herve Caprarescu_Bogdan_Alexandr Calos_Canal_Emesto_PimenteP_Jose_M Troya Henttonen_Katja Matinlassi_Mari Henttonen_Katja Matinlassi_Mari Henttonen_Katja Matinlassi_Mari Jansen_Anton De_Vries_Tjaard Avgeriou_Paris Van_Veelen_Martijn Florentz_B Huhn_M Juha_Kuusela Muccini_Henry Pelliccione_Patrizio van_Osch_M Weyns_Danny Capilla_Rafael Yuan_Eric Malek_Sam Schmerl_Bradley Garlan_David Gennari_Jeff Tibermacine_Chouki Zernadji_Tarek De_Almeida_Eduardo_Santana Alvaro_Alexandre Garcia_Vinicius_Cardoso Nascimento_Leandro Meira_Silvio_Lemos Lucr dio_Daniel Black_Andrew_P Dwayne_Towell, Suomalainen_Jani Hyttinen_Pasi Tarvainen_Pentti Musil_J Musil_A Biffl_S Navarro_Elena Cuesta_Carlos_E Perry_Dewayne_E Roda_Cristina Pettersson_Oskar Svensson_Martin Gil_Didac Andersson_Jesper Milrad_Marcelo Adachi_Barbosa_Eiji Batista_Thais Garcia_Alessandro Silva_Eduardo rez_Jennifer az_Jessica Costa_Soria_Crist bal Garbajosa_Juan rez_Jennifer az_Jessica Costa_Soria_Crist bal Garbajosa_Juan rez_Jennifer az_Jessica Costa_Soria_Crist bal Garbajosa_Juan Tizzei_Leonardo_P Rubira_Cec lia_M Bhattacharya_Sutirtha Perry_Dewayne_E Geertsema_Bas Jansen_Slinger Van_Heesch_Uwe Avgeriou_Paris Lago_Patricia Avgeriou_Paris Capilla_Rafael Kruchten_Philippe Van_Der_Ven_Jan_Salvador Bosch_Jan Capilla_Rafael Zimmermann_Olaf Zdun_Uwe Avgeriou_Paris ster_Jochen_M Kabbedijk_J Pors_M Jansen_S Brinkkemper_S Clerc_Viktor Lago_Patricia Van_Vliet_Hans Clerc_V Lago_P van_Vliet_H Lee_Larix Kruchten_Philippe Caracciolo_Andrea Lungu_Mircea_Filip Nierstrasz_Oscar Jerad_C Barkaoui_K Grissa_Touzi_A Jerad_C Barkaoui_K Grissa_Touzi_A Nenad_Medvidovic_David_S Rosenblum Rekha_V_S Muccini_H Stevanetic_Srdjan Haitzer_Thomas Zdun_Uwe Mair_Matthias Herold_Sebastian Raatikainen_Mikko Savolainen_Juha nnist _Tomi Rost_Dominik Naab_Matthias Lima_Crescencio Von_Flach_Garcia_Chavez_Christina Bertolino_A Bucchiarone_A Gnesi_S Muccini_H Keuler_Thorsten Knodel_Jens Naab_Matthias Rost_Dominik Keuler_Thorsten Knodel_Jens Naab_Matthias Rost_Dominik Soliman_M Riebisch_M N_H Lassing_D_B_B Rijsenbrij_J_C van_Vliet Caracciolo_A Lungu_M_F Nierstrasz_O Reijonen_Ville Koskinen_Johannes Haikala_Ilkka Chardigny_Sylvain Seriai_Abdelhak Oussalah_Mourad Tamzalit_Dalila Seriai_A Sadou_S Sahraoui_H_A Christensen_Henrik_Brbak Hansen_Klaus_Marius Schougaard_Kari_Rye Dimech_Claire Balasubramaniam_Dharini Riva_Claudio Dashofy_E_M__van_der_Hoek_A__Taylor_R_N Cordero_R_L Salavert_I_R Cordero_R_L Salavert_I_R Sehestedt_Stephan Cheng_Chih_Hong Bouwers_Eric Cui_Xiaofeng Sun_Yanchun Mei_Hong Khlif_Ilhem Kacem_Mohamed_Hadj Kacem_Ahmed_Hadj Drira_Khalil Jansen_Anton Bosch_Jan Nakagawa_Elisa_Yumi Barbosa_Ellen_Francine Maldonado_Jos Carlos Nakagawa_Elisa_Yumi Barbosa_Ellen_Francine Maldonado_Jos Carlos Nakagawa_Elisa_Yumi Barbosa_Ellen_Francine Maldonado_Jos Carlos Nava_Francisco Capilla_Rafael Due as_Juan_C Nava_Francisco Capilla_Rafael Due as_Juan_C Van_Den_Berk_Ivo Jansen_Slinger Luinenburg_L tzen Kebir_Selim Seriai_Abdelhak_Djamel Chardigny_Sylvain Chaoui_Allaoua Kebir_Selim Seriai_Abdelhak_Djamel Chardigny_Sylvain Chaoui_Allaoua Durdik_Zoya Reussner_Ralf_H Durdik_Zoya Reussner_Ralf_H Baelen_Warren Cai_Yuanfang Baelen_Warren Cai_Yuanfang Spasojevic_Boris Lungu_Mircea Nierstrasz_Oscar Egyed_A and_Wile_D Gerdes_S Lehnert_S Riebisch_M Cataldo_Marcelo Herbsleb_James_D Knodel_Jens Naab_Matthias Rost_Dominik Sotirovski_D Rytter_Martin Jrgensen_Bo_Nrregaard Naab_Matthias Stammel_Johannes Brosch_Franz Buhnova_Barbora Koziolek_Heiko Reussner_Ralf Graciano_Neto_Valdemar_Vicente Guessi_Milena Oliveira_Lucas_Bueno_R Oquendo_Flavio Nakagawa_Elisa_Yumi Cortellessa_V Di_Marco_A Inverardi_P mpan_Sorana Couturier_Vincent Happe_Jens Westermann_Dennis Sachs_Kai Kapov _Lucia Krogmann_Klaus Schweda_Christian_M Buckl_Sabine Kuperberg_Michael Martens_Anne Matthes_Florian Babka_Vlastimil Tuma_Petr Bulej_Lubom Anvaari_Mohsen Jansen_Slinger Jahn_Markus Rabiser_Rick nbacher_Paul berbauer_Markus Wolfinger_Reinhard ssenb ck_Hanspeter Jahn_Markus Rabiser_Rick nbacher_Paul berbauer_Markus Wolfinger_Reinhard ssenb ck_Hanspeter Brown_T_J Bashroush_R Gillan_C Spence_I Kilpatrick_P rner_Marco Herold_Sebastian Rausch_Andreas Klatt_Benjamin ster_Martin Cavalcanti_Ricardo_De_Oliveira De_Almeida_Eduardo_Santana Meira_Silvio_R_L Angelov_Samuil Trienekens_Jos Kusters_Rob El_Ariss_Omar Xu_Dianxiang Du_Miao Schneider_Jean_Guy Hine_Cameron Grundy_John Versteeg_Steve Saraiva_Juliana Soares_S rgio Castor_Fernando Costa_Soria_Crist bal rez_Jennifer Cars _Jos Angel rez_Jennifer az_Jessica Garbajosa_Juan Alarc n_Pedro_P Bhuta_Jesal Mattmann_Chris_A Medvidovic_Nenad Boehm_Barry Bhuta_J Mattmann_C_A Medvidovic_N Boehm_B Ridene_Youssef Barbier_Franck Oliveira_Lucas_Bueno_Ruas Nakagawa_Elisa_Yumi Bernini_Diego Dam_Hoa_Khanh Reder_Alexander Egyed_Alexander Bosch_Jan Machado_C_A Silva_E Batista_T Leite_J Nakagawa_E Zullighoven_H Lilienthal_C Bennicke_M Sangwan_R El_Houda_Z Szyperski_C Bondi_A_B Gorton_I Babar_A Kulkarni_N Padmanabhuni_S Stafford_J Bass_L Nord_R_L Bosch_J Reussner_R Becker_S Sangal_N Radhakrishnan_R Sriraman_B Brownsword_A Gorton_I Miesbauer_Cornelia Weinreich_Rainer W_M Gentleman, Figueiredo_Eduardo Galv o_Ism nia Khan_Safoora_Shakil Garcia_Alessandro Sant Anna_Claudio Pimentel_Afonso Medeiros_Ana_Luisa Fernandes_Lyrene Batista_Thais Ribeiro_Rita Van_Den_Broek_Pim Aksit_Mehmet Zschaler_Steffen Moreira_Ana Figueiredo_Eduardo Galv o_Ism nia Khan_Safoora_Shakil Garcia_Alessandro Sant Anna_Claudio Pimentel_Afonso Medeiros_Ana_Luisa Fernandes_Lyrene Batista_Thais Ribeiro_Rita Van_Den_Broek_Pim Aksit_Mehmet Zschaler_Steffen Moreira_Ana Figueiredo_Eduardo Galv o_Ism nia Khan_Safoora_Shakil Garcia_Alessandro Sant Anna_Claudio Pimentel_Afonso Medeiros_Ana_Luisa Fernandes_Lyrene Batista_Thais Ribeiro_Rita Van_Den_Broek_Pim Aksit_Mehmet Zschaler_Steffen Moreira_Ana Goossen_Jack Henriksson_Tomas Schneider_Jean_Philippe Teodorov_Ciprian Senn_Eric Champeau_Jo Belloir_Nicolas Chiprianov_Vanea Ahmad_Manzoor Munier_Manuel Gallon_Laurent Bruel_Jean_Michel Chiprianov_V Falkner_K Szabo_C Puddy_G nnist _Tomi Savolainen_Juha Myll rniemi_Varvana Diaz_Pace_Andres Kim_Hyunwoo Bass_Len Bianco_Phil Bachmann_Felix Ahuja_Ankit Simonin_Jacques Nedelec_R mi Clements_Paul_C Georgantas_Nikolaos Mokhtar_Sonia_Ben Bromberg_Y rom_David Issarny_Val rie Kalaoja_Jarmo Kantarovitch_Julia rodolle_Anne Mevissen_Ron Hofmeister_Christine rnander_Stefan Grunske_Lars Lundqvist_Kristina Di_Ruscio_Davide Kolovos_Dimitrios Rose_Louis Al_Hilank_Samir Holm_Johann_E_W Van_Der_Walt_Marthie Stoker_Piet_W Schwanke_Robert_W Shawn_A Butler, Hillenbrand_Martin Heinz_Matthias ller_Glaser_Klaus_D Adler_Nico Stoll_Pia Wall_Anders Norstr m_Christer Sobernig_Stefan Strembeck_Mark Maia_Pedro Cavalcante_Everton Gomes_Porf rio Batista_Thais Delicato_Flavia_C Pires_Paulo_F Giesecke_Simon Bornhold_Johannes Hasselbring_Wilhelm Antonino_Pablo Duszynski_Slawomir Jung_Christian Rudolph_Manuel Franks_Greg Lau_Danny Hrischuk_Curtis De_Andrade_Hugo_Sica Almeida_Eduardo Crnkovic_Ivica Stafford_J Clements_P Webber_Jim Kacem_Najla_Hadj Kacem_Ahmed_Hadj Drira_Khalil Rommes_Eelco Postma_Andr America_Pierre Pramsohler_Thomas Schenk_Simon Baumgarten_Uwe Silva_Eduardo Medeiros_Ana_Luisa Cavalcante_Everton Batista_Thais Tofan_Dan Galster_Matthias Avgeriou_Paris Wang_Zheny Sherdil_Khalid Madhavji_Nazim_H Salger_Frank Bennicke_Marcel Engels_Gregor Lewerentz_Claus Dabrowski_Robert Stencel_Krzysztof Timoszuk_Grzegorz Stevanetic_Srdjan Javed_Muhammad_Atif Zdun_Uwe Bergner_K Rausch_A Sibling_M Ternite_T Cavalcante_Everton Medeiros_Ana_Luisa Batista_Thais Laine_P_K van_Gurp_J__Bosch_J and_Svahnberg_M Plek_Ale mek_Jir Bennaceur_Amel Issarny_Val rie Bennaceur_A Issarny_V Fro mmgen_A Lehn_M Buchmann_A Campbell_P_R_J Ahmed_Faheem Geppert_B and_Rossler_F Woodside_Murray Woodside_M Abbas_Nadeem Andersson_Jesper Weyns_Danny Abbas_Nadeem Andersson_Jesper Weyns_Danny Pahl_Claus Giesecke_Simon Hasselbring_Wilhelm Pahl_Claus Giesecke_Simon Hasselbring_Wilhelm Titos_Saridakis Valerie_Issamy Dobrica_Liliana Ovaska_Eila Tamburri_Damian_A Lago_Patricia Dorn_Christoph Hilliard_Rich Nowak_Marcin Pautasso_Cesare Emery_David Hilliard_Rich Emery_David Hilliard_Rich Emery_David Hilliard_Rich Adersberger_Josef Philippsen_Michael zt rk_F Sarili_E So zer_H Aktemur_B Christensen_Henrik_Brbak Hansen_Klaus_Marius Christensen_Henrik_Brbak Hansen_Klaus_Marius Zouari_Mohamed Bouassida_Rodriguez_Ismael Camara_J Canal_C Cube_J Murillo_J_M Camara_J Canal_C Cube_J Murillo_J_M Dragomir_Ana Lichter_Horst Budau_Tiberi Hinz_M Pietschmann_S Umbach_M Meissner_K McGregor_John_D Riemenschneider, Marzolla_Moreno Perez_Palacin_Diego Mirandola_Raffaela Merseguer_Jos Don_Batory_i_Yannis_Smaragdakis Lou_Coglianese Pascual_Gustavo_G Pinto_M nica Fuentes_Lidia Falessi_Davide Cantone_Giovanni Kruchten_Philippe Capur o_Renato_A Capretz_Luiz_F Cuesta_Carlos_E Marcos_Esperanza Sotirovski_Drasko Cortellessa_Vittorio Eramo_Romina Pierantonio_Alfonso Tucci_Michele Da_Silva_Amorim_Simone De_Almeida_Eduardo_Santana McGregor_John_D fig_Kai Domis_Dominik Berardinelli_L Marco_A Pace_S Miranda_Javier Guill n_Joaq Murillo_Juan_Manuel Canal_Carlos Miranda_Javier Guill n_Joaq Murillo_Juan_Manuel Canal_Carlos Fiadeiro_Jos Luiz Lopes_Ant nia Lothar_Borrmann_Frances_Newbery_Paulisch Brito_Patrick_H De_Lemos_Rog rio Rubira_Cec lia_M Capilla_Rafael Capilla_Rafael Capilla_Rafael Purhonen_An Stenudd_Sakari Miller_J_A Madhavji_N_H Manikas_Konstantinos Hansen_Klaus_Marius Kyng_Morten Weinreich_R Groher_I Eeles_Peter Hock_Koon_Anthony Oussalah_Mourad Zalewski_Andrzej Kijas_Szymon Galv o_Ism nia Van_Den_Broek_Pim Aksit_Mehmet Bosch_Jan Kotonya_Gerald Lee_Jaejoon Robinson_Daniel Kotonya_Gerald Lee_Jaejoon Robinson_Daniel Kotonya_Gerald Lee_Jaejoon Robinson_Daniel Schmid_Klaus Todoran_Irina Glinz_Martin Todoran_Irina Glinz_Martin Andersson_Jesper Ericsson_Morgan we_Welf Bass_Len Nord_Robert Wood_William Zubrow_David Jeff_Magee_Jeff_Kramer_Dimitra_Giannakopoulo Eklund_Ulrik Jonsson_Niklas Eriksson_Anders Bosch_Jan Eklund_Ulrik Jonsson_Niklas Eriksson_Anders Bosch_Jan Eklund_Ulrik Bosch_Jan Jonkers_H Lehsaini_M Guyennet_H Feham_M Brown_A_W McDermid_J_A Brown_A_W McDermid_J_A Schwanke_R_W Gallotti_Stefano Ghezzi_Carlo Mirandola_Raffaela Tamburrelli_Giordano Source Lecture_Notes_in_Computer_Science including_subseries_Lecture_Notes_in_Artificial_Intelligence_and_Lecture_Notes_in_Bioinformatics__v LNCS, _Quality_of_Software_Architectures Second_International_Conference_on_Quality_of_Software_Architectures_QoSA _Revised_Papers ISSN ISBN _ISBN Conference nd_International_Conference_on_Quality_of_Software_Architectures_QoSA _June June Sponsor University_of_Karlsruhe Malardalen_University Vasteras_City Publisher Springer_Verlag Rauf_Irum Ruokonen_Anna Systa_Tarja Porres_Ivan B_J Pronk Chen_Lianping Babar_Muhammad_Ali hn_Eva Mordinyi_Richard Keszthelyi_Laszlo Schreiber_Christian Bessler_Sandford Tomic_Slobodanka hn_Eva Mordinyi_Richard Keszthelyi_Laszlo Schreiber_Christian Bessler_Sandford Tomic_Slobodanka hn_Eva Mordinyi_Richard Keszthelyi_Laszlo Schreiber_Christian Bessler_Sandford Tomic_Slobodanka Emery_David Hilliard_Rich Lence_Ram Fuentes_Lidia Pinto_M nica Kavimandan_Amogh Gokhale_Aniruddha Miller_James_A Ferrari_Remo Madhavji_Nazim_H Aldrich_Jonathan Brunnert_Andreas Wischer_Kilian Krcmar_Helmut Horcas_J Pinto_M Fuentes_L Seo_Chiyoung Edwards_George Malek_Sam Medvidovic_Nenad Florentz_B Nistor_Ligia Kurilova_Darya Balzer_Stephanie Chung_Benjamin Potanin_Alex Aldrich_Jonathan Lee_Larix Kruchten_Philippe Knodel_Jens Lindvall_Mikael Muthig_Dirk Knodel_J Popescu_D De_Silva_Lakshitha Balasubramaniam_Dharini Shaik_I Abdelmoez_W Gunnalan_R Shereshevsky_M Zeid_A Ammar_H_H Mili_A Fuhrman_C Bianco_Vittorio_Dal Myllarniemi_Varvana Komssi_Marko Raatikainen_Mikko Goichon_Fran ois Salagnac_Guillaume not_St phane Morrison_Ron Balasubramaniam_Dharini Oquendo_Flavio Warboys_Brian Greenwood_R Mark Morrison_Ron Balasubramaniam_Dharini Oquendo_Flavio Warboys_Brian Greenwood_R Mark Chan_Kenneth Poernomo_Iman Dos_Santos_Rodrigo_Pereira Werner_Cl udia_Maria_Lima Costa_Bruno Pires_Paulo_F Delicato_Flavia_C Merson_Paulo ndez_Gonzalo De_Antonio_Ang lica Meedeniya_Indika Buhnova_Barbora Aleti_Aldeida Grunske_Lars Dhungana_Deepak Groher_Iris Schludermann_Elisabeth Biffl_Stefan Biel_Bettina Gruhn_Volker Biel_Bettina Gruhn_Volker Biel_Bettina Gruhn_Volker Lopez_Sanz_M Acuna_C_J Cuesta_C_E Marcos_E Lopez_Sanz_M Acuna_C_J Cuesta_C_E Marcos_E De_Boer_Remco_C Lago_Patricia Telea_Alexandr Van_Vliet_Hans De_Boer_Remco_C Lago_Patricia Telea_Alexandr Van_Vliet_Hans De_Boer_Remco_C Lago_Patricia Telea_Alexandr Van_Vliet_Hans Grau_Gemma Franch_Xavier Grau_Gemma Franch_Xavier Groven_Arne_Kristian Haaland_Kirsten Glott_Ruediger Tannenberg_Anna Bass_Len Matinlassi_Mari Olumofin_Femi_G Qureshi_Tahir_Naseer Chen_DeJi nn_Henrik rngren_Martin Bass_Len Nord_Robert_L Bass_Len Nord_Robert_L Brito_Patrick_H Rubira_Cec lia_M De_Lemos_Rog rio Brito_Patrick_H Rubira_Cec lia_M De_Lemos_Rog rio Brito_Patrick_H Rubira_Cec lia_M De_Lemos_Rog rio Krichen_Fatma Hamid_Brahim Zalila_Bechir Jmaiel_Mohamed Chen_T_Y Tsai_P_H Chou_T_S Liu_J_W_S Thamizhmani_A Shih_C_S Kuo_T_W Zhu_Liming Liu_Yan Gorton_Ian Bui_Ngoc_Bao Nyr nen_Tommi_Henrik Laitinen_Jarno Tourunen_Olli Sternkopf_Danny Laurikainen_Risto Oster_Per Lehtovuori_Pekka_T Miettinen_Timo_A Simonen_Tomi Perheentupa_Teem strik_Imre Kallioniemi_Olli Lyall_Andrew Thornton_Janet Nyr nen_Tommi_Henrik Laitinen_Jarno Tourunen_Olli Sternkopf_Danny Laurikainen_Risto Oster_Per Lehtovuori_Pekka_T Miettinen_Timo_A Simonen_Tomi Perheentupa_Teem strik_Imre Kallioniemi_Olli Lyall_Andrew Thornton_Janet Hofmeister_R Nord_D Soni Ortiz_Francisco_J Pastor_Juan_A Alonso_Diego lvarez_B rbara nchez_Pedro Ortiz_Francisco_J Pastor_Juan_A Alonso_Diego lvarez_B rbara nchez_Pedro Andersson_Jesper Ericsson_Morgan we_Welf Axelsson_Jakob Sokenou_D Vosgen_M Ivanovic_Ana America_Pierre Clements_Paul Kazman_Rick Klein_Mark Devesh_Divya Reddy_Shivani Verma_Prageti Torjusen_Arild_B Abie_Habtam Paintsil_Ebenezer Trcek_Denis Skomedal, smund Eklund_Ulrik Arts_Thomas Xu_Xiwei Zhu_Liming Staples_Mark Liu_Yan Xu_Xiwei Zhu_Liming Staples_Mark Liu_Yan Xu_Xiwei Zhu_Liming Staples_Mark Liu_Yan Sousa_Jo o_Pedro Schmerl_Bradley Poladian_Vahe Brodsky_Alex Weitzel_Balthasar Rost_Dominik Scheffe_Mathias Oriat_C Astekin_Merve zer_Hasan Astekin_Merve zer_Hasan Terra_Ricardo De_Oliveira_Valente_Marco_Tulio Molesini_Ambra Garcia_Alessandro Chavez_Christina Batista_Thais Molesini_Ambra Garcia_Alessandro Chavez_Christina Batista_Thais Bass_Len Ivers_James Klein_Mark Merson_Paulo Wallnau_Kurt Alvarez_Camilo Casallas_Rubby Simidchieva_Borislava_I Osterweil_Leon_J Del_Rosso_Christian Maccari_Alessandro Contieri_Jr__Antonio_C Correia_Guilherme_G Colanzi_Thelma_E Gimenes_Itana_M Oliveira_Jr__Edson_A Ferrari_Sandra Masiero_Paulo_C Garcia_Alessandro_F Poort_Eltjo_R Adriaanse_Hans Kuijt_Arie De_With_Peter_H Alti_Adel Boukerram_Abdellah Roose_Philippe Poort_Eltjo_R Pramono_Agung Perdeck_Michiel Clerc_Viktor Van_Vliet_Hans Aschauer_Thomas Dauenhauer_Gerd Pree_Wolfgang Aschauer_Thomas Dauenhauer_Gerd Pree_Wolfgang Aschauer_Thomas Dauenhauer_Gerd Pree_Wolfgang Eklund_Ulrik Olsson_Carl_Magnus Eklund_Ulrik Olsson_Carl_Magnus Eklund_Ulrik Olsson_Carl_Magnus Dos_Santos_Walter_A Da_Cunha_Adilson_M Loulou_Imen Kacem_Ahmed_Hadj Jmaiel_Mohamed Drira_Khalil Loulou_I Kacem_A_H Jmaiel_M Drira_K Woods_Eoin Rozanski_Nick Nord_Robert_L Clements_Paul_C Emery_David Hilliard_Rich Nord_Robert_L Clements_Paul_C Emery_David Hilliard_Rich Nord_Robert_L Clements_Paul_C Emery_David Hilliard_Rich Jamwal_Vikram Iyer_Sridhar Zhu_Liming Bass_Len Xu_Xiwei Zhu_Liming Bass_Len Xu_Xiwei Sangwan_Raghvinder_S Neill_Colin_J Sangwan_Raghvinder_S Neill_Colin_J Sangwan_Raghvinder_S Neill_Colin_J Barry_Boehm_Dan_Port_Alexander_Egyed_and_Marwan_Abi_Antoun Bass_M Sangwan_R Smith_M Akerman_Art Tyree_Jeff Ernst_Erik Jamro z_K Pitulej_D Werewka_J Lung_Chung_Horng Zaman_Marzia Goel_Nishith Pereira_Oscar_M Aguiar_Rui_L Santos_Maribel_Yasmina Woods_Eoin Hilliard_Rich Kuusela_Juha Kuusela_Juha Murthy_P Rajaram_T Hemanth_S Jain_P Kircher_M Sporea_Dan Sporea_Adelina Mihai_Laura Stancalie_Andrei Johanson_Arne_N Hasselbring_Wilhelm Ehlers_Jens Hasselbring_Wilhelm Dietrich_Jens McCartin_Catherine Tempero_Ewan Ali_Shah_Syed_M Grunske_Lars Su_Moon_Ting Arkin_Ethem Tekinerdogan_Bedir Becker_Matthias Luckey_Markus Becker_Steffen Ali_Babar_Muhammad Bass_Len Gorton_Ian Babar_M_A Bass_L Gorton_I Halonen_Pertt nen_Kimmo Haitzer_Thomas Zdun_Uwe Schulte_Daniel Klatt_Benjamin Rathfelder_Christoph Kounev_Samuel Tausch_Norbert Philippsen_Michael Adersberger_Josef Tausch_Norbert Philippsen_Michael Adersberger_Josef Peltonen_Jari Felin_Marko Vartiala_Mikko Pohjalainen_Piet Pohjalainen_Piet Aarnoutse_Floor Renes_Cassandra Snijders_Remco Jansen_Slinger Wendland_Marc_Florian Hoffmann_Andreas Schieferdecker_Ina Mair_Matthias Herold_Sebastian Rausch_Andreas Lars_Bratthall Per_Runeson Dhungana_Deepak Rabiser_Rick nbacher_Paul Dragomir_Ana Harun_M Firdaus Lichter_Horst Krka_Ivo Medvidovic_Nenad Kapov _Lucia Goldschmidt_Thomas Becker_Steffen Henss_J rg Myll rniemi_Varvana Ylikangas_Mikko Raatikainen_Mikko _Jari nnist _Tomi Aaltonen_Timo Myll rniemi_Varvana Ylikangas_Mikko Raatikainen_Mikko _Jari nnist _Tomi Aaltonen_Timo Galster_Matthias Avgeriou_Paris Weyns_Danny Becker_Martin Galster_Matthias Avgeriou_Paris Weyns_Danny Becker_Martin Tekinerdogan_Bedir zer_Hasan Tekinerdogan_Bedir zer_Hasan rb z_H_G Tekinerdogan_B Pala_Er_N rrle_Harald Barnes_Jeffrey_M Shahin_Mojtaba Liang_Peng Li_Zengyang Anselmi_Jonatha Cremonesi_Paolo Amaldi_Edoardo Verjus_Herv mpan_Sorana Razavizadeh_Azadeh Ducasse_St phane Hofmeister_Christine Obbink_Henk Kruchten_Philippe Ran_Alexander Nord_Robert_L America_Pierre Kuz_Ihor Zhu_Liming Bass_Len Staples_Mark Xu_Xiwei Kuz_Ihor Zhu_Liming Bass_Len Staples_Mark Xu_Xiwei Abbas_Nadeem Andersson_Jesper we_Welf Nallur_Vivek Bahsoon_Rami Yao_Xin Nallur_Vivek Bahsoon_Rami Yao_Xin Nallur_Vivek Bahsoon_Rami Yao_Xin Ingstrup_Mads Hansen_Klaus_Marius Ingstrup_Mads Hansen_Klaus_Marius Ingstrup_Mads Hansen_Klaus_Marius Graaf_Bas Weber_Sven Van_Deursen_Arie Ezra_Kaahwa_Mugisa__TomS Maibaum Johnson_Kenneth Calinescu_Rad Alebrahim_Azadeh Hatebur_Denis Heisel_Maritta Zhou_Terry_G Peake_Ian_D Schmidt_Heinz_W Olsson_Tobias Toll_Daniel Wingkvist_Anna Ericsson_Morgan Smith_Jason_McC Stotts_David Haenni_Nicole Lungu_Mircea Schwarz_Niko Nierstrasz_Oscar Tekinerdogan_Bedir zer_Hasan Aksit_Mehmet Al_Azzani_Sarah Bahsoon_Rami Al_Azzani_Sarah Bahsoon_Rami _Isabelle Heisel_Marina Wentzlaff_Ina _Isabelle Heisel_Marina Wentzlaff_Ina Chouali_Samir Carrillo_Oscar Mountassir_Hassan Kriechbaum_T Buchgeher_G Weinreich_R Andrade_J Gouveia_P Xardone_and_J Camara Gruhn_V Schafer_C Gruhn_V Schafer_C Christensen_Henrik_Baerbak Losavio_F Matteo_A Rahamut_R Santos_Adri Almeida_Francisco Blanco_Vicente Santos_Adri Almeida_Francisco Blanco_Vicente Santos_A Almeida_F Blanco_V Santos_A Almeida_F Blanco_V Marzolla_Moreno Mirandola_Raffaela Marzolla_M Mirandola_R Waignier_G Le_Meur_A Duchien_L Waignier_G Le_Meur_A Duchien_L Rekhav_V Smrithi Muccini_Henry van_Ommering_R ster_Martin Trifu_Mircea ster_Martin Trifu_Mircea Zimmermann_Olaf Zdun_Uwe Gschwind_Thomas Leymann_Frank Kloukinas_C and_Issarny_V Gilson_Fabian Englebert_Vincent Carignano_Mar a_Celeste Gonnet_Silvio Leone_Horacio Carignano_Mar a_Celeste Gonnet_Silvio Leone_Horacio Carignano_Mar a_Celeste Gonnet_Silvio Leone_Horacio Chavarriaga_Jaime Noguera_Carlos Casallas_Rubby Jonckers_Viviane Bucchiarone_A Muccini_H Pelliccione_P Navasa_Amparo rez_Miguel_A Murillo_Juan_M Navasa_Amparo rez_Miguel_A Murillo_Juan_M Zimmermann_Olaf Zimmermann_Olaf Land_R Crnkovic_I Larsson_S Blankers_L Biehl_Matthias we_Welf Su_Moon_Ting Tempero_Ewan Hosking_John Grundy_John Su_Moon_Ting Tempero_Ewan Hosking_John Grundy_John Cortellessa_Vittorio De_Sanctis_Martina Di_Marco_Antinisca Trubiani_Catia Cortellessa_Vittorio De_Sanctis_Martina Di_Marco_Antinisca Trubiani_Catia Aboud_Nour_Alhouda valo_Gabriela Falleri_Jean_R my Huchard_Marianne Tibermacine_Chouki Urtado_Christelle Vauttier_Sylvain Aboud_Nour_Alhouda valo_Gabriela Falleri_Jean_R my Huchard_Marianne Tibermacine_Chouki Urtado_Christelle Vauttier_Sylvain Aboud_Nour_Alhouda valo_Gabriela Falleri_Jean_R my Huchard_Marianne Tibermacine_Chouki Urtado_Christelle Vauttier_Sylvain Muccini_H Pelliccione_P Romanovsky_A De_Gooijer_Thijmen Harper_K Eric Bashroush_R Eklund_Ulrik Olsson_Carl_Magnus Ljungblad_Marcus Pahl_Claus Gassara_Amal Bouassida_Rodriguez_Ismael Jmaiel_Mohamed Kozaczynski_W Chang_Zhiming Mao_Xinjun Qi_Zhichang Ahmad_Aakash Babar_Muhammad_Ali Kabbedijk_J Jansen_S Kabbedijk_J Jansen_S Abi_Antoun_Marwan Coelho_Wesley'"
      ]
     },
     "execution_count": 96,
     "metadata": {},
     "output_type": "execute_result"
    }
   ],
   "source": [
    "audf"
   ]
  },
  {
   "cell_type": "code",
   "execution_count": 29,
   "metadata": {
    "collapsed": false
   },
   "outputs": [],
   "source": [
    "def AUcloud():\n",
    "    '''\n",
    "    : param NONE\n",
    "    : output : Returns a json dictionary of paperIDs and their keywords\n",
    "    '''\n",
    "    #stopwords = set(STOPWORDS)\n",
    "    #stopwords.add(\"said\")\n",
    "    # take relative word frequencies into account, lower max_font_size\n",
    "    #wc = WordCloud(background_color=\"white\", max_words=2000, mask=alice_mask,\n",
    "    #           stopwords=stopwords)\n",
    "    text = prep_Aucloud()\n",
    "\n",
    "    #wc.generate(text)\n",
    "    #Image from : https://lifebeinghusky.files.wordpress.com/2010/02/paw.jpg\n",
    "    NortheasternHusky = np.array(Image.open(\"static/Images/paw.jpg\"))\n",
    "    \n",
    "    # take relative word frequencies into account, lower max_font_size\n",
    "    wc = WordCloud(background_color=\"black\", max_font_size=40, relative_scaling=.5, \n",
    "                   mask=NortheasternHusky).generate(text)\n",
    "\n",
    "    plt.figure()\n",
    "    #plt.imshow(wc)\n",
    "    plt.axis(\"off\")\n",
    "    #plt.show()\n",
    "    # store Image?\n",
    "    wc.to_file('pawauthor.png')\n",
    "    \n",
    "    return wc"
   ]
  },
  {
   "cell_type": "code",
   "execution_count": 70,
   "metadata": {
    "collapsed": false
   },
   "outputs": [],
   "source": [
    "test = AUcloud()"
   ]
  },
  {
   "cell_type": "code",
   "execution_count": 18,
   "metadata": {
    "collapsed": true
   },
   "outputs": [],
   "source": [
    "def seeKWTrend(kw = 'ECSA', grouper = 'confName'):\n",
    "    '''\n",
    "    : param param str: keyword string to be searched for\n",
    "    : output : Returns a json dicitonary of a table with the given keyword's associated \n",
    "                papers, counts per conference and year,\n",
    "                and a heatmap represenation\n",
    "    '''\n",
    "    \n",
    "    m, f = getPapersKWgroup(grouper)\n",
    "    \n",
    "    data_frame = f.copy()\n",
    "    ##could use this if want approx equality\n",
    "    #data_frame = m[m['keyword'].str.contains(kw)==True]\n",
    "    #data_frame.query(query2, inplace = True)\n",
    "    #new = data_frame.copy()\n",
    "    \n",
    "    def findKWTrend(df, kw, KWgrouper = [\"pubYear\", \"confName\"]):\n",
    "        #labels = {'ECSA' : 0,\n",
    "                  #'QoSA' : 1,\n",
    "                  #'WICSA' : 2}\n",
    "        df = df.groupby(KWgrouper)['keyword'].count().reset_index(name=\"counts\")\n",
    "        #df['confCode'] = df.confName.apply(lambda name: labels[name])\n",
    "        try:\n",
    "            image = images.getHeatMap2(df, annotation = True, filename = \"static/Images/test.png\")\n",
    "            html = \"/kwHeattrend\"\n",
    "            return df, images.getHeatMap(df, annotation = True), html\n",
    "        except:\n",
    "            return df, 'no data', 'error'\n",
    "        \n",
    "    \n",
    "    #df, image, html = findKWTrend(new, kw)\n",
    "    \n",
    "    #myentry = [{'table' : new.to_html(classes = 'counts'),\n",
    "     #          'cts' : df.to_html(classes = 'counts'),\n",
    "    #          'trend'  : image,\n",
    "    #           'url' : \"<a href='%s'<button>SeeHeatMap</button>></a>\" %html  \n",
    "    #           }]\n",
    "    \n",
    "    return m, f#jsonify(dict(data = myentry))   "
   ]
  },
  {
   "cell_type": "code",
   "execution_count": 19,
   "metadata": {
    "collapsed": false
   },
   "outputs": [],
   "source": [
    "x, g = seeKWTrend()"
   ]
  },
  {
   "cell_type": "code",
   "execution_count": 20,
   "metadata": {
    "collapsed": false
   },
   "outputs": [
    {
     "data": {
      "text/html": [
       "<div>\n",
       "<table border=\"1\" class=\"dataframe\">\n",
       "  <thead>\n",
       "    <tr style=\"text-align: right;\">\n",
       "      <th></th>\n",
       "      <th>paperID</th>\n",
       "      <th>keyword</th>\n",
       "      <th>title</th>\n",
       "      <th>confName</th>\n",
       "      <th>pubYear</th>\n",
       "    </tr>\n",
       "  </thead>\n",
       "  <tbody>\n",
       "    <tr>\n",
       "      <th>0</th>\n",
       "      <td>1</td>\n",
       "      <td>Research challenges</td>\n",
       "      <td>On the need of safe software product line arch...</td>\n",
       "      <td>ECSA</td>\n",
       "      <td>2010</td>\n",
       "    </tr>\n",
       "    <tr>\n",
       "      <th>1</th>\n",
       "      <td>1</td>\n",
       "      <td>Software product line architecture</td>\n",
       "      <td>On the need of safe software product line arch...</td>\n",
       "      <td>ECSA</td>\n",
       "      <td>2010</td>\n",
       "    </tr>\n",
       "    <tr>\n",
       "      <th>2</th>\n",
       "      <td>1</td>\n",
       "      <td>Materials Science</td>\n",
       "      <td>On the need of safe software product line arch...</td>\n",
       "      <td>ECSA</td>\n",
       "      <td>2010</td>\n",
       "    </tr>\n",
       "    <tr>\n",
       "      <th>3</th>\n",
       "      <td>1</td>\n",
       "      <td>Structural properties</td>\n",
       "      <td>On the need of safe software product line arch...</td>\n",
       "      <td>ECSA</td>\n",
       "      <td>2010</td>\n",
       "    </tr>\n",
       "    <tr>\n",
       "      <th>4</th>\n",
       "      <td>1</td>\n",
       "      <td>Software product lines</td>\n",
       "      <td>On the need of safe software product line arch...</td>\n",
       "      <td>ECSA</td>\n",
       "      <td>2010</td>\n",
       "    </tr>\n",
       "  </tbody>\n",
       "</table>\n",
       "</div>"
      ],
      "text/plain": [
       "   paperID                             keyword  \\\n",
       "0        1                 Research challenges   \n",
       "1        1  Software product line architecture   \n",
       "2        1                   Materials Science   \n",
       "3        1               Structural properties   \n",
       "4        1              Software product lines   \n",
       "\n",
       "                                               title confName  pubYear  \n",
       "0  On the need of safe software product line arch...     ECSA     2010  \n",
       "1  On the need of safe software product line arch...     ECSA     2010  \n",
       "2  On the need of safe software product line arch...     ECSA     2010  \n",
       "3  On the need of safe software product line arch...     ECSA     2010  \n",
       "4  On the need of safe software product line arch...     ECSA     2010  "
      ]
     },
     "execution_count": 20,
     "metadata": {},
     "output_type": "execute_result"
    }
   ],
   "source": [
    "x.head()"
   ]
  },
  {
   "cell_type": "code",
   "execution_count": 23,
   "metadata": {
    "collapsed": false
   },
   "outputs": [],
   "source": [
    "ecsa = g.get_group('ECSA')"
   ]
  },
  {
   "cell_type": "code",
   "execution_count": 24,
   "metadata": {
    "collapsed": false
   },
   "outputs": [
    {
     "data": {
      "text/html": [
       "<div>\n",
       "<table border=\"1\" class=\"dataframe\">\n",
       "  <thead>\n",
       "    <tr style=\"text-align: right;\">\n",
       "      <th></th>\n",
       "      <th>paperID</th>\n",
       "      <th>keyword</th>\n",
       "      <th>title</th>\n",
       "      <th>confName</th>\n",
       "      <th>pubYear</th>\n",
       "    </tr>\n",
       "  </thead>\n",
       "  <tbody>\n",
       "    <tr>\n",
       "      <th>0</th>\n",
       "      <td>1</td>\n",
       "      <td>Research challenges</td>\n",
       "      <td>On the need of safe software product line arch...</td>\n",
       "      <td>ECSA</td>\n",
       "      <td>2010</td>\n",
       "    </tr>\n",
       "    <tr>\n",
       "      <th>1</th>\n",
       "      <td>1</td>\n",
       "      <td>Software product line architecture</td>\n",
       "      <td>On the need of safe software product line arch...</td>\n",
       "      <td>ECSA</td>\n",
       "      <td>2010</td>\n",
       "    </tr>\n",
       "    <tr>\n",
       "      <th>2</th>\n",
       "      <td>1</td>\n",
       "      <td>Materials Science</td>\n",
       "      <td>On the need of safe software product line arch...</td>\n",
       "      <td>ECSA</td>\n",
       "      <td>2010</td>\n",
       "    </tr>\n",
       "    <tr>\n",
       "      <th>3</th>\n",
       "      <td>1</td>\n",
       "      <td>Structural properties</td>\n",
       "      <td>On the need of safe software product line arch...</td>\n",
       "      <td>ECSA</td>\n",
       "      <td>2010</td>\n",
       "    </tr>\n",
       "    <tr>\n",
       "      <th>4</th>\n",
       "      <td>1</td>\n",
       "      <td>Software product lines</td>\n",
       "      <td>On the need of safe software product line arch...</td>\n",
       "      <td>ECSA</td>\n",
       "      <td>2010</td>\n",
       "    </tr>\n",
       "  </tbody>\n",
       "</table>\n",
       "</div>"
      ],
      "text/plain": [
       "   paperID                             keyword  \\\n",
       "0        1                 Research challenges   \n",
       "1        1  Software product line architecture   \n",
       "2        1                   Materials Science   \n",
       "3        1               Structural properties   \n",
       "4        1              Software product lines   \n",
       "\n",
       "                                               title confName  pubYear  \n",
       "0  On the need of safe software product line arch...     ECSA     2010  \n",
       "1  On the need of safe software product line arch...     ECSA     2010  \n",
       "2  On the need of safe software product line arch...     ECSA     2010  \n",
       "3  On the need of safe software product line arch...     ECSA     2010  \n",
       "4  On the need of safe software product line arch...     ECSA     2010  "
      ]
     },
     "execution_count": 24,
     "metadata": {},
     "output_type": "execute_result"
    }
   ],
   "source": [
    "ecsa.head()"
   ]
  },
  {
   "cell_type": "code",
   "execution_count": 80,
   "metadata": {
    "collapsed": false
   },
   "outputs": [],
   "source": [
    "entries = \"\"\n",
    "for each in df.keyword:\n",
    "        \n",
    "    entry = \"\".join([key.replace(\" \", \"_\") for key in each])\n",
    "        \n",
    "    entries = \" \".join((entries, entry))\n"
   ]
  },
  {
   "cell_type": "code",
   "execution_count": 84,
   "metadata": {
    "collapsed": false
   },
   "outputs": [
    {
     "data": {
      "text/plain": [
       "u' Research_challenges Software'"
      ]
     },
     "execution_count": 84,
     "metadata": {},
     "output_type": "execute_result"
    }
   ],
   "source": [
    "entries[0:29]"
   ]
  },
  {
   "cell_type": "code",
   "execution_count": 43,
   "metadata": {
    "collapsed": false
   },
   "outputs": [],
   "source": [
    "wc = KWcloud(entries, filename = 'conftest.png')"
   ]
  },
  {
   "cell_type": "code",
   "execution_count": 45,
   "metadata": {
    "collapsed": false
   },
   "outputs": [
    {
     "data": {
      "text/plain": [
       "362932"
      ]
     },
     "execution_count": 45,
     "metadata": {},
     "output_type": "execute_result"
    }
   ],
   "source": [
    "len(e)"
   ]
  },
  {
   "cell_type": "code",
   "execution_count": 46,
   "metadata": {
    "collapsed": false
   },
   "outputs": [
    {
     "data": {
      "text/plain": [
       "159375"
      ]
     },
     "execution_count": 46,
     "metadata": {},
     "output_type": "execute_result"
    }
   ],
   "source": [
    "entries = \"\"\n",
    "    for each in calculatedGroup['keyword']:\n",
    "        \n",
    "        entry = \"\".join([key.replace(\" \", \"_\") for key in each])\n",
    "        \n",
    "        entries = \" \".join((entries, entry))"
   ]
  },
  {
   "cell_type": "code",
   "execution_count": 98,
   "metadata": {
    "collapsed": true
   },
   "outputs": [],
   "source": [
    "\n",
    "def cloudifyingKWs(grouper, \n",
    "                   group, \n",
    "                   imageFile, \n",
    "                   grouped):\n",
    "    '''\n",
    "    : param grouper str: column by which to group table by (i.e 'confName', 'pubYear')\n",
    "    :       default 'paperID'\n",
    "    : param group str/int: group to return results of (ie. 'ECSA', 'WICSA', 2009, 2014)\n",
    "    :       default ''\n",
    "    : param imageFile str: file to write image to, \n",
    "    :       default 'KWCloud.png'\n",
    "    : grouped boolean : Boolean True if to render specified group (ie, conference or year)\n",
    "    :       default False\n",
    "    : output : WC\n",
    "    '''\n",
    "    \n",
    "    m, f = getPapersKWgroup(grouper)\n",
    "    \n",
    "    if grouped:\n",
    "        calculatedGroup = f.get_group(group)\n",
    "    else:\n",
    "        calculatedGroup = m\n",
    "    \n",
    "    entries = \"\"\n",
    "    for each in calculatedGroup['keyword']:\n",
    "        \n",
    "        entry = \"\".join([key.replace(\" \", \"_\") for key in each])\n",
    "        \n",
    "        entries = \" \".join((entries, entry))\n",
    "    \n",
    "    #wc = KWcloud(entries, filename = imageFile)\n",
    "    \n",
    "    return entries"
   ]
  },
  {
   "cell_type": "code",
   "execution_count": 75,
   "metadata": {
    "collapsed": false
   },
   "outputs": [],
   "source": [
    "image3, words3, gr3  = cloudifyingKWs('confName', 'WICSA')"
   ]
  },
  {
   "cell_type": "code",
   "execution_count": 87,
   "metadata": {
    "collapsed": false
   },
   "outputs": [],
   "source": [
    "image4, words4, gr4 = cloudifyingKWs(grouper = 'paperID', group = '', imageFile = 'KWcloud.png', grouped = False)"
   ]
  },
  {
   "cell_type": "code",
   "execution_count": 101,
   "metadata": {
    "collapsed": false
   },
   "outputs": [],
   "source": [
    "def cloud(cloudtext,\n",
    "          grouper = 'paperID', \n",
    "          group = '', \n",
    "          outputFile = 'kwCloud.png', \n",
    "          grouped = False):\n",
    "    '''\n",
    "    : param NONE\n",
    "    : output : Returns a saved .png file of the generated wordcloud.  Creating/saving\n",
    "                a new image eachtime.\n",
    "    \n",
    "    '''\n",
    "    print(cloudtext, grouper, group, outputFile, grouped)\n",
    "    runcloud = {'kw' : cloudifyingKWs(grouper, group, outputFile, grouped),\n",
    "                'au' : prep_Aucloud()\n",
    "               }\n",
    "\n",
    "    text = runcloud[cloudtext]\n",
    "\n",
    "    #wc.generate(text)\n",
    "    #Image from : https://lifebeinghusky.files.wordpress.com/2010/02/paw.jpg\n",
    "    NortheasternHusky = np.array(Image.open(\"static/Images/paw.jpg\"))\n",
    "    \n",
    "    # take relative word frequencies into account, lower max_font_size\n",
    "    wc = WordCloud(background_color=\"white\", \n",
    "                   max_font_size=40, \n",
    "                   relative_scaling=.5, \n",
    "                   mask=NortheasternHusky).generate(text)\n",
    "\n",
    "    plt.figure()\n",
    "    #plt.imshow(wc)\n",
    "    plt.axis(\"off\")\n",
    "    #plt.show()\n",
    "    # store Image?\n",
    "    wc.to_file(outputFile)\n",
    "    \n",
    "    return wc, text"
   ]
  },
  {
   "cell_type": "code",
   "execution_count": 102,
   "metadata": {
    "collapsed": false
   },
   "outputs": [
    {
     "name": "stdout",
     "output_type": "stream",
     "text": [
      "('kw', 'paperID', '', 'kwCloud.png', False)\n"
     ]
    }
   ],
   "source": [
    "wc, e = cloud('kw')"
   ]
  },
  {
   "cell_type": "code",
   "execution_count": 104,
   "metadata": {
    "collapsed": false
   },
   "outputs": [
    {
     "data": {
      "text/plain": [
       "362932"
      ]
     },
     "execution_count": 104,
     "metadata": {},
     "output_type": "execute_result"
    }
   ],
   "source": [
    "len(e)"
   ]
  },
  {
   "cell_type": "code",
   "execution_count": 106,
   "metadata": {
    "collapsed": false
   },
   "outputs": [
    {
     "name": "stdout",
     "output_type": "stream",
     "text": [
      "('au', 'paperID', '', 'auCloud.png', False)\n"
     ]
    }
   ],
   "source": [
    "wc2, e2 = cloud('au', outputFile = 'auCloud.png')"
   ]
  },
  {
   "cell_type": "code",
   "execution_count": 107,
   "metadata": {
    "collapsed": false
   },
   "outputs": [
    {
     "data": {
      "text/plain": [
       "u' Lopez_Herrejon_Roberto_E Egyed_Alexander Perovich_Daniel Rossel_Pedro_O Bastarrica_Mar a_Cecilia Perovich_Daniel Rossel_Pedro_O Bastarrica_Mar a_Cecilia Perovich_Daniel Rossel_Pedro_O Bastarrica_Mar a_Cecilia Hilliard_Rich Malavolta_Ivano Muccini_Henry Pelliccione_Patrizio Hilliard_Rich Malavolta_Ivano Muccini_Henry Pelliccione_Patrizio Bardram_J_E Christensen_H_B Corry_A_V Hansen_K_M Ingstrup_M Oliveira_C Wermelinger_M De_Graaf_Klaas_Andries Tang_Antony Liang_Peng Van_Vliet_Hans De_Graaf_Klaas_Andries Tang_Antony Liang_Peng Van_Vliet_Hans Demirli_Elif Tekinerdogan_Bedir Tekinerdogan_Bedir zer_Hasan Woods_Eoin Rozanski_Nick Source Working_IEEE_IFIP_Conference_on_Software_Architecture WICSA ISBN Conference Working_IEEE_IFIP_Conference_on_Software_Architecture WICSA Jan Publisher IEEE_Piscataway_NJ_USA Schefer_Wenzl_Sigrid Feiertag_Katharina Dagtas_Serhan Natchetoi_Yuri Wu_Huaig Hamdi_Louenas Bosloper_Ivor Siljee_Johanneke Nijhuis_Jos Diaz_Pace_J Andres Carlino_Juan_P Blech_Martin Soria_Alvaro Campo_Marcelo_R Diaz_Pace_J Andres Carlino_Juan_P Blech_Martin Soria_Alvaro Campo_Marcelo_R Diaz_Pace_J Andres Carlino_Juan_P Blech_Martin Soria_Alvaro Campo_Marcelo_R Hamel_Lazhar Graiet_Mohamed Kmimech_Mourad Bhiri_Mohamed_Tahar Gaaloul_Walid Spalazzese_Romina Inverardi_Paola Mellado_Daniel Fern ndez_Medina_Eduardo Piattini_Mario Poort_Eltjo_R Postema_Herman Key_Andrew De_With_Peter_H Poort_E_R Postema_H Key_A de_With_P_H_N Eloranta_Veli_Pekka Hylli_Otto Veps inen_Timo Koskimies_Kai Mesbah_A van_Deursen_A Baroni_Alessandro Muccini_Henry Malavolta_Ivano Woods_Eoin Angelov_S Hilliard_R Galster_Matthias Avgeriou_Paris Guoxin_S Mingsheng_Ying Chengqi_Zhang Diaz_Pace_J_A Campo_M_R az_Pace_J Andr Campo_Marcelo_R Dan_Hirsch_Paola_Inverardi_Ugo_Montanari Khan_Muhammad_Umair_Ahmed Zulkernine_Mohammad Angelov_Samuil Grefen_Paul Greefhorst_Danny Angelov_Samuil Grefen_Paul Greefhorst_Danny Angelov_Samuil Grefen_Paul Greefhorst_Danny Razavizadeh_Azadeh Verjus_Herve mpan_Sorana Ducasse_St phane Razavizadeh_Azadeh Verjus_Herve mpan_Sorana Ducasse_St phane Razavizadeh_Azadeh Verjus_Herve mpan_Sorana Ducasse_St phane Silva_Eduardo Cavalcante_Everton Batista_Thais Oquendo_Flavio Delicato_Flavia_C Pires_Paulo_F Malakuti_Somayeh Admodisastro_Novia Kotonya_Gerald Makki_Majid Bagheri_Ebrahim Ghorbani_Ali_A Gamez_Nadia Fuentes_Lidia Arag ez_Miguel_A Fuentes_Lidia mez_Nadia Pinto_M nica Valenzuela_Juan_A Fuentes_Lidia mez_Nadia Pinto_M nica Valenzuela_Juan_A ster_Martin Smiley_Karen Mahate_Shakeel Wood_Paul Falkner_K Balasubramaniam_D Detmold_H Munro_D_S Falkner_K Balasubramaniam_D Detmold_H Munro_D_S Durdik_Zoya Babar_Muhammad_Ali Babar_Muhammad_Ali Babar_Muhammad_Ali Poort_Eltjo_R Key_Andrew De_With_Peter_H_N Van_Vliet_Hans Poort_Eltjo_R Key_Andrew De_With_Peter_H_N Van_Vliet_Hans Seele_Wilbert Syed_Shaheen Brinkkemper_Sjaak Brinkkemper_Sjaak Pachidi_Stella Konersmann_Marco Durdik_Zoya Goedicke_Michael Reussner_Ralf_H Razavian_Maryam Lago_Patricia Razavian_Maryam Lago_Patricia ller_Marco Kersten_Benjamin Goedicke_Michael Farenhorst_Rik Hoorn_Johan_F Lago_Patricia Van_Vliet_Hans Farenhorst_Rik Hoorn_Johan_F Lago_Patricia Van_Vliet_Hans Farenhorst_Rik Hoorn_Johan_F Lago_Patricia Van_Vliet_Hans pez_Sanz_Marcos a_C sar_J Cuesta_Carlos_E Marcos_Esperanza Cubo_Javier Pimentel_Ernesto Atkinson_C Seriai_Abderrahmane Sadou_Salah Sahraoui_Houari Hamza_Salma Ciraci_Selim zer_Hasan Aksit_Mehmet zer_Hasan Tekinerdogan_Bedir Hakala_M__Hautamaki_J__Koskimies_K__Paakki_J_, Viljamaa_A__Viljamaa_J Braude_Eric_J Garcia_Joshua Popescu_Daniel Edwards_George Medvidovic_Nenad Hamid_Brahim Krichen_Fatma Arias_Trosky_B Callo America_Pierre Avgeriou_Paris Arias_Trosky_B Callo America_Pierre Avgeriou_Paris Arias_Trosky_B Callo America_Pierre Avgeriou_Paris Casanova_Paulo Schmerl_Bradley Garlan_David Abreu_Rui Sarang_Poornachandra McGee_Ryan_A Eklund_Ulrik Lundin_Mats Woods_Eoin Bashroush_Rabih Woods_Eoin Bashroush_Rabih Bass_Len Clements_Paul Kazman_Rick Klein_Mark Orlic_Bojan David_Ionut Mak_Rudolf_H Lukkien_Johan_J Perovich_Daniel Bastarrica_Maria_Cecilia Miesbauer_Cornelia Weinreich_Rainer Miesbauer_Cornelia Weinreich_Rainer Martfnez_Prieto_M_A Cuesta_C_E de_la_Fuente_P Martfnez_Prieto_M_A Cuesta_C_E de_la_Fuente_P Schwittek_Widura Eicker_Stefan Ali_Nour Rosik_Jacek Buckley_Jim Zdun_Uwe Capilla_Rafael Zdun_Uwe Capilla_Rafael Molesini_Ambra Garcia_Alessandro Von_Flach_G Chavez_Christina Batista_Thais Anvaari_M Zimmermann_O Tofan_Dan Galster_Matthias Harrison_N_B Avgeriou_P Harrison_N_B Avgeriou_P Chung__D Catherine_Blake_Jaktman_John_Leaney_and_Ming_Li Kruchten_Philippe Lago_Patricia Van_Vliet_Hans Kruchten_Philippe Lago_Patricia Van_Vliet_Hans Wolf_Timo de_Boer_R_C van_Vliet_H Muhammad_Naeem Boucke_Nelis Berbers_Yolande Morandi_Benjamin West_Scott Nanz_Sebastian Gomaa_Hassan Ton_That_Minh_T Sadou_Salah Oquendo_Flavio Borne_Isabelle Kamal_Ahmad_Waqas Avgeriou_Paris Kamal_Ahmad_Waqas Avgeriou_Paris Christensen_Henrik_Brbak Hansen_Klaus_Marius Garcia_Joshua Krka_Ivo Medvidovic_Nenad Douglas_Chris Garcia_Joshua Krka_Ivo Medvidovic_Nenad Douglas_Chris Von_Massow_Robert Van_Hoorn_Andr Hasselbring_Wilhelm Mark_H Klein_Rick_Kazman_Len_Bass_Jeromy_Carriere_Mario_Barbacci_and_Howard_Lipson Yongrui_X Peng_Liang Li_Zengyang Guelfi_Nicolas Liang_Peng Avgeriou_Paris Ampatzoglou_Apostolos Pruijt_Leo Brinkkemper_Sjaak Malavolta_Ivano Su_Guoxin Ying_Mingsheng Zhang_Chengqi Su_Guoxin Ying_Mingsheng Zhang_Chengqi Phung_Khac_An Gilliot_Jean_Marie Segarra_Maria_Teresa Beugnard_Antoine Kabor _Eveline Olumofin_Femi_G Miic_Vojislav_B mara_Javier Correia_Pedro De_Lemos_Rog rio Vieira_Marco Lung_Chung_Horng Balasubramaniam_Balasangar Selvarajah_Kamalachelva Elankeswaran_Poopalasinkam Gopalasundaram_Umatharan Zhang_Huaxi Urtado_Christelle Vauttier_Sylvain Manteuffel_Christian Tofan_Dan Koziolek_Heiko Goldschmidt_Thomas Avgeriou_Paris Berrocal_Javier Garc a_Alonso_Jos Murillo_Juan_Manuel Cavalcante_E Oquendo_F Batista_T Knodel_Jens Naab_Matthias Sethi_Kanwarpreet Cai_Yuanfang Wong_Sunny Garcia_Alessandro Sant Anna_Claudio Sethi_Kanwarpreet Cai_Yuanfang Wong_Sunny Garcia_Alessandro Sant Anna_Claudio Sethi_Kanwarpreet Cai_Yuanfang Wong_Sunny Garcia_Alessandro Sant Anna_Claudio Harrison_Neil_B Avgeriou_Paris Stol_Klaas_Jan Avgeriou_Paris Ali_Babar_Muhammad Koschke_Rainer Chardigny_Sylvain Seriai_Abdelhak Vasconcelos_Aline Werner_Cl udia Dajsuren_Yanja Gerpheide_Christine_M Serebrenik_Alexander Wijs_Anton Vasilescu_Bogdan Van_Den_Brand_Mark_G Roy_R_Wei Garlan_David Barnes_Jeffrey_M Schmerl_Bradley Celiku_Orieta Garlan_David Barnes_Jeffrey_M Schmerl_Bradley Celiku_Orieta Garlan_David Barnes_Jeffrey_M Schmerl_Bradley Celiku_Orieta pez_Jaquero_Victor Montero_Francisco Navarro_Elena Esparcia_Antonio Catal n_Jos Antonio pez_Jaquero_Victor Montero_Francisco Navarro_Elena Esparcia_Antonio Catal n_Jos Antonio Surajbali_B Grace_P Coulson_G Jtirgen_K Miiller Papazoglou_Michael_P Krupaviciute_Asta Fayn_Jocelyne Blasi_Lorenzo Savola_Reijo Abie_Habtam Rotondi_Domenico Waignier_Guillaume Le_Meur_Anne_Fran oise Duchien_Laurence De_Silva_Lakshitha Balasubramaniam_Dharini Cuesta_Carlos_E Mart nez_Prieto_Miguel_A Fern ndez_Javier_D Begoli_Edmon Horey_James Begoli_Edmon Horey_James Rytter_Martin Jrgensen_Bo_Nrregaard Waignier_Guillaume Le_Meur_Anne_Fran oise Duchien_Laurence Gorton_Ian Wynne_Adam Almquist_Justin Chatterton_Jack Eklund_Ulrik Bosch_Jan Eklund_Ulrik Bosch_Jan Vasar_Martti Srirama_Satish_Narayana Dumas_Marlon Vasar_Martti Srirama_Satish_Narayana Dumas_Marlon Orlic_Bojan Mak_Rudolf David_Ionut Lukkien_Johan az_Jessica rez_Jennifer Garbajosa_Juan Wolf_Alexander_L George_Yanbing_Guo__Joanne_M Atlee__Rick_Kazman Booch_Grady Wallom_David Turilli_Matteo Martin_Andrew Raun_Anbang Taylor_Gareth Hargreaves_Nigel McMoran_Alan Wallom_David Turilli_Matteo Martin_Andrew Raun_Anbang Taylor_Gareth Hargreaves_Nigel McMoran_Alan Phaphoom_Nattakarn Oza_Nilay Wang_Xiaofeng Abrahamsson_Pekka Phaphoom_Nattakarn Oza_Nilay Wang_Xiaofeng Abrahamsson_Pekka Khomh_Foutse Chauhan_Muhammad_Aufeef Babar_Muhammad_Ali Chauhan_Muhammad_Aufeef Babar_Muhammad_Ali Tang_Longji Dong_Jing Zhao_Yajing Zhang_Liang_Jie rrle_Harald Mitchell_B Traverso_M Mancoridis_S Eloranta_Veli_Pekka Koskimies_Kai Eloranta_Veli_Pekka Koskimies_Kai Weinreich_Rainer Buchgeher_Georg Astudillo_H Pereira_J Lopez_C Petcu_Dana Sandru_Calin Petcu_Dana Sandru_Calin Kuz_Ihor Liu_Yan Kuz_I Yan_Li Dimov_A Punnekkat_S Wieczorek_Sebastian Roth_Andreas Stefanescu_Alin Kozyura_Vitaly Charfi_Anis Kraft_Frank_Michael Schieferdecker_Ina Wieczorek_Sebastian Roth_Andreas Stefanescu_Alin Kozyura_Vitaly Charfi_Anis Kraft_Frank_Michael Schieferdecker_Ina Wieczorek_Sebastian Roth_Andreas Stefanescu_Alin Kozyura_Vitaly Charfi_Anis Kraft_Frank_Michael Schieferdecker_Ina Li_Li Kenny_Joseph_P Wu_Meng_Shio Huck_Kevin Gaenko_Alexander Gordon_Mark_S Janssen_Curtis_L Curfman_McInnes_Lois Mori_Hirotoshi Netzloff_Heather_M Norris_Boyana Windus_Theresa_L Dwivedi_Vishal Velasco_Elizondo_Perla Maria_Fernandes_Jose Garlan_David Schmerl_Bradley Etxeberria_Leire Trubiani_Catia Cortellessa_Vittorio Sagardui_Goiuria Fu_Min Zhu_Liming Bass_Len Xu_Xiwei Faniyi_Funmilade Lewis_Peter_R Bahsoon_Rami Yao_Xin Klein_John Van_Vliet_Hans Abukwaik_H Taibi_D Rombach_D Peake_Ian_D Schmidt_Heinz_W Choi_Soon_Hyeok Perry_Dewayne_E Nettles_Scott_M Tivoli_Massimo Garlan_David Savolainen_Juha Kuusela_Juha nnist _Tomi Nyyss nen_Aki Feitosa_Daniel Brosch_Franz Koziolek_Heiko Buhnova_Barbora Reussner_Ralf Tamburri_Damian_Andrew Lago_Patricia Khan_Taimur Humayoun_Shah_Rukh Amrhein_Karsten Barthel_Henning Ebert_Achim Liggesmeyer_Peter Zernadji_Tarek Tibermacine_Chouki Cherif_Foudil Tofan_Dan Herzig_Philipp Ameling_Michael Schill_Alexander Herzig_Philipp Ameling_Michael Schill_Alexander Costa_C Ali_N Perez_J Carsi_J_A Ramos_I Costa_C Ali_N Perez_J Carsi_J_A Ramos_I Nakagawa_Elisa_Yumi Oliveira_Antonino_Pablo Becker_Martin De_Roo_Arjan zer_Hasan Aksit_Mehmet De_Roo_Arjan zer_Hasan Aksit_Mehmet De_Roo_Arjan zer_Hasan Aksit_Mehmet Ali_Rima_Al Bures_Tomas Gerostathopoulos_Ilias Keznikl_Jaroslav Plasil_Frantisek Freudenreich_T Appel_S Frischbier_S Buchmann_A_P Celik_Turgay Koksal_Omer Tekinerdogan_Bedir Gorton_Ian Gorlick_Michael_M Strasser_Kyle Taylor_Richard_N Gorlick_Michael_M Strasser_Kyle Taylor_Richard_N Johnsen_Andreas Lundqvist_Kristina Pettersson_Paul nninen_Kaj Martens_Anne Ardagna_Danilo Koziolek_Heiko Mirandola_Raffaela Reussner_Ralf Buhnova_Barbora Chren_Stanislav Fabrikov _Lucie Alebrahim_Azadeh Heisel_Maritta Di_Noia_T Mongiello_M Di_Sciascio_E LaMantia_Matthew_J Cai_Yuanfang MacCormack_Alan_D Rusnak_John Koziolek_Anne Koziolek_Heiko Reussner_Ralf ckmann_Tobias Gruhn_Volker Abi_Antoun_Marwan Ammar_Nariman Hailat_Zeyad Gu_Qing Lago_Patricia Gu_Qing Lago_Patricia Gu_Qing Lago_Patricia pez_Sanz_Marcos Qayyum_Zawar Cuesta_Carlos_E Marcos_Esperanza Oquendo_Flavio Weyns_Danny Weyns_Danny Weyns_Danny Bures_T Gerostathopoulos_I Hnetynka_P Keznikl_J Kit_M Plasil_F De_Boer_Remco_C Farenhorst_Rik Lago_Patricia Van_Vliet_Hans Clerc_Viktor Jansen_Anton Boer_R_C Farenhorst_R Lago_P van_Vliet_H Clerc_V Jansen_A James_Vera_Louis_Perrochon_David_C Luckham Durdik_Zoya Reussner_Ralf Ghabi_Achraf Egyed_Alexander Ghabi_Achraf Egyed_Alexander Edwards_George Brun_Yuriy Medvidovic_Nenad Edwards_George Brun_Yuriy Medvidovic_Nenad Bahsoon_Rami Emmerich_Wolfgang Li_Zhao Zheng_Jiang Scandariato_Riccardo Buyens_Koen Joosen_Wouter Keuler_Thorsten Webel_Christian Keuler_Thorsten Webel_Christian Keuler_Thorsten Webel_Christian Melleg rd_Niklas Staron_Miroslaw That_Minh_Tu_Ton Sadou_Salah Oquendo_Flavio That_Minh_Tu_Ton Sadou_Salah Oquendo_Flavio Ojala_Pasi ndez_Gonzalo De_Antonio_Ang lica Lei_Ding_and_Medvidovic_N Von_Detten_Markus Becker_Steffen Raibulet_Claudia Masciadri_Laura Raibulet_Claudia Masciadri_Laura Raibulet_Claudia Masciadri_Laura Del_Rosso_Christian Hock_Koon_Anthony Oussalah_Mourad Ebad_Shouki_A Ahmed_Moataz Haft_M Humm_B Siedersleben_J Groher_Iris Weinreich_Rainer Groher_Iris Weinreich_Rainer Tchakaloff_Borjan Saudrais_S bastien Babau_Jean_Philippe Pichler_Christian Huemer_Christian Newman_Peter Kotonya_Gerald Newman_Peter Kotonya_Gerald Falessi_D Kruchten_P Cantone_G Falessi_D Kruchten_P Cantone_G Procaccianti_Giuseppe Lago_Patricia Lewis_Grace_A Uusitalo_Eero Raatikainen_Mikko Koskela_Mika Myllarniemi_Varvana Mannisto_Tomi Weyns_Danny Ahmad_Tanvir Dhungana_Deepak Schreiner_Herwig Lehofer_Martin Vierhauser_Michael Rabiser_Rick nbacher_Paul Assmann_Martin Engels_Gregor Van_Der_Raadt_Bas Van_Vliet_Hans Van_Der_Raadt_Bas Schouten_Sander Van_Vliet_Hans ckmann_Tobias Gruhn_Volker Pfeiffer_Max Liu_Yan Liang_Xin Xu_Lingzhi Staples_Mark Zhu_Liming Liu_Yan Liang_Xin Xu_Lingzhi Staples_Mark Zhu_Liming Liu_Yan Liang_Xin Xu_Lingzhi Staples_Mark Zhu_Liming Bhattacharya_S Perry_D_E Syromiatnikov_Artem Weyns_Danny Dhungana_Deepak Neumayer_Thomas nbacher_Paul Rabiser_Rick Petrov_Plamen Nord_Robert_L Buy_Ugo Bernini_Diego Tisato_Francesco Yusuf_Iman_I Schmidt_Heinz_W Peake_Ian_D m_Thomas Apel_Sven Zelend_Andreas Schr ter_Reimar ller_Bernhard Axelsson_Jakob Kobetski_Avenir Berardinelli_Luca Langer_Philip Mayerhofer_Tanja Boucke_N Weyns_D Schelfthout_K Holvoet_T Heyman_Thomas Scandariato_Riccardo Joosen_Wouter Heyman_Thomas Scandariato_Riccardo Joosen_Wouter Bernardo_M__Ciancarini_P__Donatiello_L Lopes_S Tavares_A Monteiro_J Silva_C Lopes_S Tavares_A Monteiro_J Silva_C Neerbek_Jan Neerbek_Jan Chauhan_Muhammad_Aufeef Shaw_Mary Miner_Donald Miner_Donald Sapienza_Gaetana Crnkovic_Ivica Potena_Pasqualina Simanta_Soumya Lewis_Grace_A Morris_Ed Ha_Kiryong Satyanarayanan_Mahadev Simanta_Soumya Lewis_Grace_A Morris_Ed Ha_Kiryong Satyanarayanan_Mahadev Rodriguez_Ismael_Bouassida Drira_Khalil Chassot_Christophe Jmaiel_Mohamed Rodriguez_Ismael_Bouassida Drira_Khalil Chassot_Christophe Jmaiel_Mohamed Rodriguez_Ismael_Bouassida Drira_Khalil Chassot_Christophe Jmaiel_Mohamed Muccini_H Bahsoon_Rami Arcelli_Davide Cortellessa_Vittorio Trubiani_Catia Parra_Carlos Cleve_Anthony Blanc_Xavier Duchien_Laurence Mikkonen_Tommi Nieminen_Antti Mikkonen_Tommi Nieminen_Antti Dajsuren_Yanja Van_Den_Brand_Mark_G_J Serebrenik_Alexander Roubtsov_Serguei Zhang_Huaxi Urtado_Christelle Vauttier_Sylvain Zhang_Lei Huchard_Marianne Coulette_Bernard Zhang_Huaxi Urtado_Christelle Vauttier_Sylvain Zhang_Lei Huchard_Marianne Coulette_Bernard Jansen_Anton Van_Der_Ven_Jan Avgeriou_Paris Hammer_Dieter_K Chang_N_Z__Cungang_Yang Mallet_J Rouvrais_S Mallet_Julien Rouvrais_Siegfried Damaevicius_Robertas tuikys_Vytautas Toldinas_Jevgenijus Zimmermann_Olaf Gschwind_Thomas ster_Jochen Leymann_Frank Schuster_Nelly Zimmermann_O Gschwind_T Kuster_J Leymann_F Schuster_N Weinreich_Rainer Miesbauer_Cornelia Buchgeher_Georg Kriechbaum_Thomas Weinreich_Rainer Miesbauer_Cornelia Buchgeher_Georg Kriechbaum_Thomas Tekinerdogan_Bedir Demirli_Elif Aram_Michael Neumann_Gustaf mez_Paola nchez_Mario Villalobos_Jorge Di_Ruscio_Davide Malavolta_Ivano Muccini_Henry Pelliccione_Patrizio Pierantonio_Alfonso Le_Gloahec_Vincent Fleurquin_R gis Sadou_Salah Cai_Yuanfang Wang_Hanfei Wong_Sunny Wang_Linzhang Hamid_Brahim Ziani_Adel Geisel_Jacob Cardoso_R_S Issarny_V Abi_Antoun_Marwan Aldrich_Jonathan Garlan_David Schmerl_Bradley Nahas_Nagi Farenhorst_Rik Izaks_Ronald Lago_Patricia Van_Vliet_Hans Grassi_V Mirandola_R Sabetta_A Lytra_Ioanna Tran_Huy Zdun_Uwe Van_Landuyt_Dimitri Truyen_Eddy Joosen_Wouter Van_Landuyt_Dimitri Truyen_Eddy Joosen_Wouter Hauck_Michael Kuperberg_Michael Huber_Nikolaus Reussner_Ralf Tyree_Jeff Axelsson_Jakob Axelsson_Jakob Axelsson_Jakob Keznikl_Jaroslav Bure_Tom Pl il_Frantiek Kit_Michal Keznikl_Jaroslav Bure_Tom Pl il_Frantiek Kit_Michal Shahin_Mojtaba Liang_Peng Khayyambashi_Mohammad_Reza Shahin_Mojtaba Liang_Peng Khayyambashi_Mohammad_Reza Shahin_Mojtaba Liang_Peng Khayyambashi_Mohammad_Reza Cherfia_Taha_Abdelmoutaleb Belala_Fa za Bass_Len Bass_Len Bass_Len Wirsing_M Monteith_J Yates McGregor_John_D Ingram_John_E Shaw_Mary Van_Vliet_Hans Di_Marco_Antinisca Gallo_Francesco Inverardi_Paola Ippoliti_Rodolfo Li_Hang Liu_Xi_Yang Chen_Ping Sylvia_Stuurman Volker_Gruhn_Ursula_Wellen Smeda_Adel Oussalah_Mourad Khammaci_Tahar Brebner_Paul Saadatmand_Mehrdad Scholle_Detlef Leung_Cheuk_Wing Ullstr m_Sebastian Larsson_Joanna_Fredriksson Riegel_C Kaesling_M Schiitze Costa_Gabriele Matteucci_Ilaria Haitzer_Thomas Zdun_Uwe Leite_Jair Oquendo_Fl vio Batista_Thais Jan_Bosch, Piattini_Mario Calero_Coral Astudillo_Hern Van_Heesch_Uwe Avgeriou_Paris Hilliard_Rich Van_Heesch_Uwe Avgeriou_Paris Hilliard_Rich Fraga_Anabel Llorens_Juan Muccini_Henry Tekinerdogan_Bedir Muccini_Henry Tekinerdogan_Bedir skilahti_Juha rel _Mikko Goulao_M Abreu_F_B Christensen_Henrik_Brbak Hansen_Klaus_Marius Lindstrm_Bo Keuler_Thorsten Muthig_Dirk Uchida_Takayuki Keuler_Thorsten Wagner_Stefan Winkler_Bernhard Keuler_Thorsten Wagner_Stefan Winkler_Bernhard Wu_Weihang Kelly_Tim Batista_Thais Gomes_Ant nio_T Coulson_Geoff Chavez_Christina Garcia_Alessandro Avritzer_Alberto Paulish_Daniel Cai_Yuanfang Correia_R Matos_C_M_P Heckel_R El_Ramly_M Correia_R Matos_C_M_P Heckel_R El_Ramly_M Mattmann_Chris_A Garcia_Joshua Krka_Ivo Popescu_Daniel Medvidovic_Nenad Mattmann_Chris_A Garcia_Joshua Krka_Ivo Popescu_Daniel Medvidovic_Nenad Mattmann_Chris_A Garcia_Joshua Krka_Ivo Popescu_Daniel Medvidovic_Nenad Keuler_Thorsten Keuler_Thorsten Capilla_Rafael Due as_Juan_C Schw gerl_Felix Uhrig_Sabrina Westfechtel_Bernhard Begoli_Edmon Begoli_Edmon Spitznagel_B Garlan_D Magee_J_N Estevez_E Marcos_M Estevez_E Marcos_M Koziolek_Heiko Weiss_Roland Doppelhamer_Jens Andersen_Mads_Schaarup Begoli_Edmon Begoli_Edmon Perry_D_E Weinreich_Rainer Buchgeher_Georg Bass_M Mikulovic_V Bass_L James_H Marcelo_C Tibermacine_Chouki Fleurquin_R gis Sadou_Salah Goknil_Arda Suryadevara_Jagadish Peraldi_Frati_Marie_Agn Mallet_Fr ric Zave_Pamela Klein_John Birkmeier_Dominik Overhage_Sven Herold_S Mair_M Farenhorst_Rik Lago_Patricia Van_Vliet_Hans Farenhorst_R Lago_P van_Vliet_H Hinsman_Carl Sangal_Neeraj Stafford_Judith Zalewski_Andrzej Zalewski_Andrzej Fittkau_Florian Stelzer_Phil Hasselbring_Wilhelm Wolfgang_Pree__Kai_Koskirnies Koziolek_Heiko Hesenius_Marc Gruhn_Volker Tang_Antony Tran_Minh_H Han_Jun Van_Vliet_Hans Corry_Aino_Vonge Hansen_Klaus_Marius Svensson_David Feugas_Alexandre Mosser_S bastien Duchien_Laurence Galster_Matthias Loukil_Sihem Kallel_Slim Zalila_Bechir Jmaiel_Mohamed Koziolek_Heiko Domis_Dominik Goldschmidt_Thomas Vorst_Philipp Weiss_Roland_J Koziolek_Heiko Domis_Dominik Goldschmidt_Thomas Vorst_Philipp Weiss_Roland_J rrle_Harald Tang_Antony Babar_Muhammad_Ali Gorton_Ian Han_Jun Axelsson_Jakob Inverardi_P Muccini_H Pelliccione_P Navarro_E Letelier_P Jaen_J Ramos_I Navarro_E Letelier_P Jaen_J Ramos_I Galster_Matthias Avgeriou_Paris Galster_Matthias Avgeriou_Paris Anzures_Garc a_Mario Hornos_Miguel_J Paderewski_Rodr guez_Patricia Anzures_Garc a_Mario Hornos_Miguel_J Paderewski_Rodr guez_Patricia Vierhauser_Michael Rabiser_Rick Grunbacher_Paul Danner_Christian Wallner_Stefan Zeisel_Helmut Kiwelekar_A_W Joshi_R_K Latvala_Outi_Marja Toivonen_Jyri Kuusij rvi_Jarkko Evesti_Antti Yi_Xiaowei Li_Mingy Zheng_Gang Zheng_Changwen Yi_Xiaowei Zheng_Gang Li_Mingy Ma_Hengtai Zheng_Changwen Spalazzese_Romina Inverardi_Paola Issarny_Val rie Spalazzese_Romina Inverardi_Paola Issarny_Val rie Spalazzese_Romina Inverardi_Paola Issarny_Val rie Liu_Yan Gorton_Ian Bass_Len Hoang_Cuong Abanmi_Suhail Liu_Yan Babar_Muhammad_Ali Gorton_Ian Lewis_G_A Lago_P Procaccianti_G Moreno_Gabriel_A Merson_Paulo Mzid_Rania Mraidha_Chokri Babau_Jean_Philippe Abid_Mohamed Tounsi_Imen Hadj_Kacem_Mohamed Hadj_Kacem_Ahmed Haber_Arne Kutz_Thomas Rendel_Holger Rumpe_Bernhard Schaefer_Ina Ardagna_Danilo Ghezzi_Carlo Mirandola_Raffaela Perez_Palacin_Diego Mirandola_Raffaela Zalewski_Andrzej Kijas_Szymon Sokoowska_Dorota Gonzalez_Herrera_Inti Bourcier_Johann Daubert_Erwan Rudametkin_Walter Barais_Olivier Fouquet_Francois Jezequel_Jean_Marc Huber_Nikolaus Brosig_Fabian Kounev_Samuel Montresor_Alberto Yu_Jian Han_Jun Schneider_Jean_Guy Hine_Cameron Versteeg_Steve Esfahani_Naeem Malek_Sam Roshandel_Roshanak Medvidovic_Nenad Golubchik_Leana Roshandel_R Medvidovic_N Golubchik_L Fouquet_Fran ois Nain_Gr gory Daubert_Erwan Bourcier_Johann Barais_Olivier Plouzeau_Noel Morin_Brice Balasubramaniam_Dharini Morrison_Ron Greenwood_R Mark Warboys_Brian Mirandola_Raffaela Perez_Palacin_Diego Musil_Juergen Musil_Angelika Winkler_Dietmar Biffl_Stefan Musil_Juergen Musil_Angelika Winkler_Dietmar Biffl_Stefan Ghezzi_Carlo Tamburrelli_Giordano Ghezzi_Carlo Motta_Alfredo Panzica_La_Manna_Valerio Tamburrelli_Giordano Radjenovic_Alek Paige_Richard_F Galster_Matthias Babar_Muhammad_Ali Pereira_Alessandro_Costa Hartmann_Falk Kadner_Kay Pereira_Alessandro_Costa Hartmann_Falk Kadner_Kay Deiters_Constanze Rausch_Andreas Anvaari_Mohsen Conradi_Reidar Jaccheri_Letizia Philippe_Kruchten Sant Anna_C Figueiredo_E Garcia_A Lucena_C_J_P Sant Anna_C Figueiredo_E Garcia_A Lucena_C_J_P Tofan_Dan Galster_Matthias Avgeriou_Paris Clements_Paul Kazman_Rick Klein_Mark Clerc_Viktor Lago_Patricia Van_Vliet_Hans Changhai_Nie Baowen_X Liang_Shi Guowei_Dong Brebner_Paul Brien_Liam Gray_Jon Brebner_Paul Brien_Liam Gray_Jon Brebner_Paul Brien_Liam Gray_Jon Naab_Matthias Juhola_Arto Ahola_Titta Ahola_Kimmo Crnkovic_Ivica Jamwal_Vikram Hofmeister_Christine Garlan_David Stafford_Judith Bosch_Jan Chen_T_Y Chikofsky_Elliot Klein_John Hepner_M Gamble_R Barais_Olivier Lawall_Julia Le_Meur_Anne_Francoise Duchien_Laurence Matinlassi_Mari Land_Rikard Blankers_Laurens Larsson_Stig Crnkovic_Ivica Luders_Frank Flemstrom_Daniel Wall_Anders Perez_Jennifer Llavador_Manuel Carsi_Jose_A Canos_Jose_H Ramos_Isidro Revillard_Jerome Cimpan_Sorana Benoit_Eric Oquendo_Flavio Ratcliffe_Olivier Cimpan_Sorana Oquendo_Flavio Ali_Nour Perez_Jennifer Ramos_Isidro Carsi_Jose_A Manset_David Verjus_Herve McClatchey_Richard Manset_David Verjus_Herve McClatchey_Richard Evesti_Antti Pantsar_Syv niemi_Susanna Shaw_M Di_Marco_A Mirandola_R Lytra_Ioanna Sobernig_Stefan Zdun_Uwe Lytra_Ioanna Sobernig_Stefan Zdun_Uwe Losilla_F Vicente_Chicote_C Alvarez_B Iborra_A Sanchez_P Losilla_F Vicente_Chicote_C Alvarez_B Iborra_A Sanchez_P Lulli_Guglielmo Mirandola_Raffaela Potena_Pasqualina Raibulet_Claudia nemann_Patrick Zimmermann_Olaf nemann_Patrick nemann_Patrick nemann_Patrick Sagardui_Goiuria Aldekoa_Gentzane Etxeberria_Leire Rathfelder_Christoph Becker_Stefan Krogmann_Klaus Reussner_Ralf Rathfelder_Christoph Becker_Stefan Krogmann_Klaus Reussner_Ralf Kornst dt_Andreas Sauer_Joachim Happe_J Szlenk_Marcin Zalewski_Andrzej Kijas_Szymon Szlenk_Marcin Zalewski_Andrzej Kijas_Szymon Tibermacine_Chouki Kerdoudi_Mohamed_Lamine Bont _Edoardo Bernardo_Marco Bont _Edoardo Bernardo_Marco Bont _Edoardo Bernardo_Marco Tibermacine_Chouki Dony_Christophe Sadou_Salah Fabresse_Luc Perez_Palacin_Diego Mirandola_Raffaela Merseguer_Jos Hoyland_Christine_A MacG Adams_Kevin Hoyland_Christine_A MacG Adams_Kevin Hoyland_Christine_A MacG Adams_Kevin Vasconcelos_Aline Werner_Cl udia Vasconcelos_A Werner_C Savolainen_Juha Myll rniemi_Varvana Savolainen_Juha Myll rniemi_Varvana Savolainen_Juha Myll rniemi_Varvana Mu_Liping Gjster_Terje Prinz_Andreas Tveit_Merete_Skjelten Lu_Qinghua Zhu_Liming Bass_Len Xu_Xiwei Li_Zhanwen Wada_Hiroshi Dajsuren_Yanja Van_Den_Brand_Mark Serebrenik_Alexander Huisman_Rudolf Gerber_Aurona Sinha_Saurabh Van_Der_Merwe_Alta Kam_Moshe Cortellessa_Vittorio Pierini_Pierluigi Spalazzese_Romina Vianale_Alessio Trubiani_Catia Meedeniya_Indika Cortellessa_Vittorio Aleti_Aldeida Grunske_Lars Kalibera_T Bulej_L Tuma_P Koziolek_Heiko Becker_Steffen Happe_Jens Koziolek_H Becker_S Happe_J Koziolek_Heiko Happe_Jens Becker_Steffen Groenda_Henning Wert_Alexander Oehler_Marius Heger_Christoph Farahbod_Roozbeh Nord_Robert_L Ozkaya_Ipek Kruchten_Philippe Gonzalez_Rojas_Marco Nord_Robert_L Ozkaya_Ipek Kruchten_Philippe Gonzalez_Rojas_Marco Koziolek_H Firus_V Hunink_Ivo Van_Erk_Rene Jansen_Slinger Brinkkemper_Sjaak Kennaley_Mark Heider_Wolfgang Vierhauser_Michael Lettner_Daniela nbacher_Paul Heider_Wolfgang Vierhauser_Michael Lettner_Daniela nbacher_Paul Stoermer_C__O_Brien_L Kjaer_K_E Kjaer_K_E Johnsen_Andreas Pettersson_Paul Lundqvist_Kristina Ameller_David Galster_Matthias Avgeriou_Paris Franch_Xavier Da_Silva_Amorim_Simone McGregor_John_D De_Almeida_Eduardo_Santana Von_Flach_G Chavez_Christina Zhou_Jiehan Niemel _Eila Savolainen_Pekka Bode_Stephan Riebisch_Matthias Franco_Jo o_M Barbosa_Raul Zenha_Rela_M rio Franco_Jo o_M Barbosa_Raul Zenha_Rela_M rio Koch_T Holtmann_J DeAntoni_J Garlan_D Garlan_D Joolia_Ackbar Batista_Thais Coulson_Geoff Gomes_Antonio_Tadeu_A Navarro_Elena Cuesta_Carlos_E Perry_Dewayne_E Navarro_Elena Cuesta_Carlos_E Perry_Dewayne_E Navarro_Elena Cuesta_Carlos_E Perry_Dewayne_E Ingstrup_Mads Hansen_Klaus_Marius Lee_Hyesun Yang_Jin_Seok Kang_Kyo_C Lee_Hyesun Yang_Jin_Seok Kang_Kyo_C Buchgeher_Georg Weinreich_Rainer Mart nez_Fern ndez_Silverio Ayala_Claudia_P Franch_Xavier Martins_Marques_Helena Guessi_Milena Oquendo_Flavio Nakagawa_Elisa_Yumi Nakagawa_Elisa_Y Guessi_Milena Maldonado_Jose_C Feitosa_Daniel Oquendo_Flavio Nakagawa_Elisa_Yumi Oquendo_Flavio Becker_Martin Nakagawa_Elisa_Yumi Oquendo_Flavio Becker_Martin Nakagawa_Elisa_Yumi Nakagawa_Elisa_Yumi Lindgren_Markus Norstr m_Christer Wall_Anders Land_Rikard Phoomvuthisarn_Suronapee Liu_Yan Zhu_Liming Tang_Antony Van_Vliet_Hans Tang_Antony Van_Vliet_Hans Tang_Antony Van_Vliet_Hans Harper_K Eric Dagnino_Aldo Tang_Antony Jin_Yan Han_Jun Nicholson_Ann Hasselbring_Wilhelm Acher_Mathie Cleve_Anthony Collet_Philippe Merle_Philippe Duchien_Laurence Lahire_Philippe Bueno_Ruas_Oliveira_L Leroux_E Romero_Felizardo_K Oquendo_F Nakagawa_E_Y Taylor_Richard_N Medvidovic_Nenad Oreizy_Peyman Taylor_Richard_N Medvidovic_Nenad Oreizy_Peyman Taylor_Richard_N Medvidovic_Nenad Oreizy_Peyman Huanhuan_Xiong Fowley_F Pahl_C Moran_N Zhao_Liang Sakr_Sherif Zhu_Liming Xu_Xiwei Liu_Anna Zhao_Liang Sakr_Sherif Zhu_Liming Xu_Xiwei Liu_Anna Agrawal_Ashish Sodhi_Balwinder Prabhakar_T_V Fernandez_Eduardo_B Monge_Raul Kou_Siming Babar_Muhammad_Ali Sangroya_Amit Babar_M_A Wang_X Gorton_I Krautsevich_Leanid Martinelli_Fabio Yautsiukhin_Artsiom Bucchiarone_Antonio Pelliccione_Patrizio Vattani_Charlie Runge_Olga Bucchiarone_Antonio Pelliccione_Patrizio Vattani_Charlie Runge_Olga Bucchiarone_Antonio Pelliccione_Patrizio Vattani_Charlie Runge_Olga Becker_Matthias Luckey_Markus Becker_Steffen Chauvel_Franck Song_Hui Chen_Xiangping Huang_Gang Mei_Hong Duzbayev_Nurzhan Poernomo_Iman Duzbayev_N Poernomo_I Palma_F Moha_N Tremblay_G Gue he neuc_Y De_Oliveira_Lucas_Bueno_Ruas Romero_Felizardo_Katia Feitosa_Daniel Nakagawa_Elisa_Yumi Jiang_Michael Willey_Allan Baresi_Luciano Guinea_Sam Manna_Valerio_Panzica_La Duzbayev_Nurzhan Poernomo_Iman Li_Xitong Fan_Yushun Wang_Jian Wang_Li Jiang_Feng Platenius_M_C Becker_S Scha fer_W John_Jose Wang_Mingxue Pahl_Claus Galster_Matthias Falessi_Davide Cantone_Giovanni Kruchten_Philippe Alloui_Ilham mpan_Sorana Verjus_Herve Caprarescu_Bogdan_Alexandr Calos_Canal_Emesto_PimenteP_Jose_M Troya Henttonen_Katja Matinlassi_Mari Henttonen_Katja Matinlassi_Mari Henttonen_Katja Matinlassi_Mari Jansen_Anton De_Vries_Tjaard Avgeriou_Paris Van_Veelen_Martijn Florentz_B Huhn_M Juha_Kuusela Muccini_Henry Pelliccione_Patrizio van_Osch_M Weyns_Danny Capilla_Rafael Yuan_Eric Malek_Sam Schmerl_Bradley Garlan_David Gennari_Jeff Tibermacine_Chouki Zernadji_Tarek De_Almeida_Eduardo_Santana Alvaro_Alexandre Garcia_Vinicius_Cardoso Nascimento_Leandro Meira_Silvio_Lemos Lucr dio_Daniel Black_Andrew_P Dwayne_Towell, Suomalainen_Jani Hyttinen_Pasi Tarvainen_Pentti Musil_J Musil_A Biffl_S Navarro_Elena Cuesta_Carlos_E Perry_Dewayne_E Roda_Cristina Pettersson_Oskar Svensson_Martin Gil_Didac Andersson_Jesper Milrad_Marcelo Adachi_Barbosa_Eiji Batista_Thais Garcia_Alessandro Silva_Eduardo rez_Jennifer az_Jessica Costa_Soria_Crist bal Garbajosa_Juan rez_Jennifer az_Jessica Costa_Soria_Crist bal Garbajosa_Juan rez_Jennifer az_Jessica Costa_Soria_Crist bal Garbajosa_Juan Tizzei_Leonardo_P Rubira_Cec lia_M Bhattacharya_Sutirtha Perry_Dewayne_E Geertsema_Bas Jansen_Slinger Van_Heesch_Uwe Avgeriou_Paris Lago_Patricia Avgeriou_Paris Capilla_Rafael Kruchten_Philippe Van_Der_Ven_Jan_Salvador Bosch_Jan Capilla_Rafael Zimmermann_Olaf Zdun_Uwe Avgeriou_Paris ster_Jochen_M Kabbedijk_J Pors_M Jansen_S Brinkkemper_S Clerc_Viktor Lago_Patricia Van_Vliet_Hans Clerc_V Lago_P van_Vliet_H Lee_Larix Kruchten_Philippe Caracciolo_Andrea Lungu_Mircea_Filip Nierstrasz_Oscar Jerad_C Barkaoui_K Grissa_Touzi_A Jerad_C Barkaoui_K Grissa_Touzi_A Nenad_Medvidovic_David_S Rosenblum Rekha_V_S Muccini_H Stevanetic_Srdjan Haitzer_Thomas Zdun_Uwe Mair_Matthias Herold_Sebastian Raatikainen_Mikko Savolainen_Juha nnist _Tomi Rost_Dominik Naab_Matthias Lima_Crescencio Von_Flach_Garcia_Chavez_Christina Bertolino_A Bucchiarone_A Gnesi_S Muccini_H Keuler_Thorsten Knodel_Jens Naab_Matthias Rost_Dominik Keuler_Thorsten Knodel_Jens Naab_Matthias Rost_Dominik Soliman_M Riebisch_M N_H Lassing_D_B_B Rijsenbrij_J_C van_Vliet Caracciolo_A Lungu_M_F Nierstrasz_O Reijonen_Ville Koskinen_Johannes Haikala_Ilkka Chardigny_Sylvain Seriai_Abdelhak Oussalah_Mourad Tamzalit_Dalila Seriai_A Sadou_S Sahraoui_H_A Christensen_Henrik_Brbak Hansen_Klaus_Marius Schougaard_Kari_Rye Dimech_Claire Balasubramaniam_Dharini Riva_Claudio Dashofy_E_M__van_der_Hoek_A__Taylor_R_N Cordero_R_L Salavert_I_R Cordero_R_L Salavert_I_R Sehestedt_Stephan Cheng_Chih_Hong Bouwers_Eric Cui_Xiaofeng Sun_Yanchun Mei_Hong Khlif_Ilhem Kacem_Mohamed_Hadj Kacem_Ahmed_Hadj Drira_Khalil Jansen_Anton Bosch_Jan Nakagawa_Elisa_Yumi Barbosa_Ellen_Francine Maldonado_Jos Carlos Nakagawa_Elisa_Yumi Barbosa_Ellen_Francine Maldonado_Jos Carlos Nakagawa_Elisa_Yumi Barbosa_Ellen_Francine Maldonado_Jos Carlos Nava_Francisco Capilla_Rafael Due as_Juan_C Nava_Francisco Capilla_Rafael Due as_Juan_C Van_Den_Berk_Ivo Jansen_Slinger Luinenburg_L tzen Kebir_Selim Seriai_Abdelhak_Djamel Chardigny_Sylvain Chaoui_Allaoua Kebir_Selim Seriai_Abdelhak_Djamel Chardigny_Sylvain Chaoui_Allaoua Durdik_Zoya Reussner_Ralf_H Durdik_Zoya Reussner_Ralf_H Baelen_Warren Cai_Yuanfang Baelen_Warren Cai_Yuanfang Spasojevic_Boris Lungu_Mircea Nierstrasz_Oscar Egyed_A and_Wile_D Gerdes_S Lehnert_S Riebisch_M Cataldo_Marcelo Herbsleb_James_D Knodel_Jens Naab_Matthias Rost_Dominik Sotirovski_D Rytter_Martin Jrgensen_Bo_Nrregaard Naab_Matthias Stammel_Johannes Brosch_Franz Buhnova_Barbora Koziolek_Heiko Reussner_Ralf Graciano_Neto_Valdemar_Vicente Guessi_Milena Oliveira_Lucas_Bueno_R Oquendo_Flavio Nakagawa_Elisa_Yumi Cortellessa_V Di_Marco_A Inverardi_P mpan_Sorana Couturier_Vincent Happe_Jens Westermann_Dennis Sachs_Kai Kapov _Lucia Krogmann_Klaus Schweda_Christian_M Buckl_Sabine Kuperberg_Michael Martens_Anne Matthes_Florian Babka_Vlastimil Tuma_Petr Bulej_Lubom Anvaari_Mohsen Jansen_Slinger Jahn_Markus Rabiser_Rick nbacher_Paul berbauer_Markus Wolfinger_Reinhard ssenb ck_Hanspeter Jahn_Markus Rabiser_Rick nbacher_Paul berbauer_Markus Wolfinger_Reinhard ssenb ck_Hanspeter Brown_T_J Bashroush_R Gillan_C Spence_I Kilpatrick_P rner_Marco Herold_Sebastian Rausch_Andreas Klatt_Benjamin ster_Martin Cavalcanti_Ricardo_De_Oliveira De_Almeida_Eduardo_Santana Meira_Silvio_R_L Angelov_Samuil Trienekens_Jos Kusters_Rob El_Ariss_Omar Xu_Dianxiang Du_Miao Schneider_Jean_Guy Hine_Cameron Grundy_John Versteeg_Steve Saraiva_Juliana Soares_S rgio Castor_Fernando Costa_Soria_Crist bal rez_Jennifer Cars _Jos Angel rez_Jennifer az_Jessica Garbajosa_Juan Alarc n_Pedro_P Bhuta_Jesal Mattmann_Chris_A Medvidovic_Nenad Boehm_Barry Bhuta_J Mattmann_C_A Medvidovic_N Boehm_B Ridene_Youssef Barbier_Franck Oliveira_Lucas_Bueno_Ruas Nakagawa_Elisa_Yumi Bernini_Diego Dam_Hoa_Khanh Reder_Alexander Egyed_Alexander Bosch_Jan Machado_C_A Silva_E Batista_T Leite_J Nakagawa_E Zullighoven_H Lilienthal_C Bennicke_M Sangwan_R El_Houda_Z Szyperski_C Bondi_A_B Gorton_I Babar_A Kulkarni_N Padmanabhuni_S Stafford_J Bass_L Nord_R_L Bosch_J Reussner_R Becker_S Sangal_N Radhakrishnan_R Sriraman_B Brownsword_A Gorton_I Miesbauer_Cornelia Weinreich_Rainer W_M Gentleman, Figueiredo_Eduardo Galv o_Ism nia Khan_Safoora_Shakil Garcia_Alessandro Sant Anna_Claudio Pimentel_Afonso Medeiros_Ana_Luisa Fernandes_Lyrene Batista_Thais Ribeiro_Rita Van_Den_Broek_Pim Aksit_Mehmet Zschaler_Steffen Moreira_Ana Figueiredo_Eduardo Galv o_Ism nia Khan_Safoora_Shakil Garcia_Alessandro Sant Anna_Claudio Pimentel_Afonso Medeiros_Ana_Luisa Fernandes_Lyrene Batista_Thais Ribeiro_Rita Van_Den_Broek_Pim Aksit_Mehmet Zschaler_Steffen Moreira_Ana Figueiredo_Eduardo Galv o_Ism nia Khan_Safoora_Shakil Garcia_Alessandro Sant Anna_Claudio Pimentel_Afonso Medeiros_Ana_Luisa Fernandes_Lyrene Batista_Thais Ribeiro_Rita Van_Den_Broek_Pim Aksit_Mehmet Zschaler_Steffen Moreira_Ana Goossen_Jack Henriksson_Tomas Schneider_Jean_Philippe Teodorov_Ciprian Senn_Eric Champeau_Jo Belloir_Nicolas Chiprianov_Vanea Ahmad_Manzoor Munier_Manuel Gallon_Laurent Bruel_Jean_Michel Chiprianov_V Falkner_K Szabo_C Puddy_G nnist _Tomi Savolainen_Juha Myll rniemi_Varvana Diaz_Pace_Andres Kim_Hyunwoo Bass_Len Bianco_Phil Bachmann_Felix Ahuja_Ankit Simonin_Jacques Nedelec_R mi Clements_Paul_C Georgantas_Nikolaos Mokhtar_Sonia_Ben Bromberg_Y rom_David Issarny_Val rie Kalaoja_Jarmo Kantarovitch_Julia rodolle_Anne Mevissen_Ron Hofmeister_Christine rnander_Stefan Grunske_Lars Lundqvist_Kristina Di_Ruscio_Davide Kolovos_Dimitrios Rose_Louis Al_Hilank_Samir Holm_Johann_E_W Van_Der_Walt_Marthie Stoker_Piet_W Schwanke_Robert_W Shawn_A Butler, Hillenbrand_Martin Heinz_Matthias ller_Glaser_Klaus_D Adler_Nico Stoll_Pia Wall_Anders Norstr m_Christer Sobernig_Stefan Strembeck_Mark Maia_Pedro Cavalcante_Everton Gomes_Porf rio Batista_Thais Delicato_Flavia_C Pires_Paulo_F Giesecke_Simon Bornhold_Johannes Hasselbring_Wilhelm Antonino_Pablo Duszynski_Slawomir Jung_Christian Rudolph_Manuel Franks_Greg Lau_Danny Hrischuk_Curtis De_Andrade_Hugo_Sica Almeida_Eduardo Crnkovic_Ivica Stafford_J Clements_P Webber_Jim Kacem_Najla_Hadj Kacem_Ahmed_Hadj Drira_Khalil Rommes_Eelco Postma_Andr America_Pierre Pramsohler_Thomas Schenk_Simon Baumgarten_Uwe Silva_Eduardo Medeiros_Ana_Luisa Cavalcante_Everton Batista_Thais Tofan_Dan Galster_Matthias Avgeriou_Paris Wang_Zheny Sherdil_Khalid Madhavji_Nazim_H Salger_Frank Bennicke_Marcel Engels_Gregor Lewerentz_Claus Dabrowski_Robert Stencel_Krzysztof Timoszuk_Grzegorz Stevanetic_Srdjan Javed_Muhammad_Atif Zdun_Uwe Bergner_K Rausch_A Sibling_M Ternite_T Cavalcante_Everton Medeiros_Ana_Luisa Batista_Thais Laine_P_K van_Gurp_J__Bosch_J and_Svahnberg_M Plek_Ale mek_Jir Bennaceur_Amel Issarny_Val rie Bennaceur_A Issarny_V Fro mmgen_A Lehn_M Buchmann_A Campbell_P_R_J Ahmed_Faheem Geppert_B and_Rossler_F Woodside_Murray Woodside_M Abbas_Nadeem Andersson_Jesper Weyns_Danny Abbas_Nadeem Andersson_Jesper Weyns_Danny Pahl_Claus Giesecke_Simon Hasselbring_Wilhelm Pahl_Claus Giesecke_Simon Hasselbring_Wilhelm Titos_Saridakis Valerie_Issamy Dobrica_Liliana Ovaska_Eila Tamburri_Damian_A Lago_Patricia Dorn_Christoph Hilliard_Rich Nowak_Marcin Pautasso_Cesare Emery_David Hilliard_Rich Emery_David Hilliard_Rich Emery_David Hilliard_Rich Adersberger_Josef Philippsen_Michael zt rk_F Sarili_E So zer_H Aktemur_B Christensen_Henrik_Brbak Hansen_Klaus_Marius Christensen_Henrik_Brbak Hansen_Klaus_Marius Zouari_Mohamed Bouassida_Rodriguez_Ismael Camara_J Canal_C Cube_J Murillo_J_M Camara_J Canal_C Cube_J Murillo_J_M Dragomir_Ana Lichter_Horst Budau_Tiberi Hinz_M Pietschmann_S Umbach_M Meissner_K McGregor_John_D Riemenschneider, Marzolla_Moreno Perez_Palacin_Diego Mirandola_Raffaela Merseguer_Jos Don_Batory_i_Yannis_Smaragdakis Lou_Coglianese Pascual_Gustavo_G Pinto_M nica Fuentes_Lidia Falessi_Davide Cantone_Giovanni Kruchten_Philippe Capur o_Renato_A Capretz_Luiz_F Cuesta_Carlos_E Marcos_Esperanza Sotirovski_Drasko Cortellessa_Vittorio Eramo_Romina Pierantonio_Alfonso Tucci_Michele Da_Silva_Amorim_Simone De_Almeida_Eduardo_Santana McGregor_John_D fig_Kai Domis_Dominik Berardinelli_L Marco_A Pace_S Miranda_Javier Guill n_Joaq Murillo_Juan_Manuel Canal_Carlos Miranda_Javier Guill n_Joaq Murillo_Juan_Manuel Canal_Carlos Fiadeiro_Jos Luiz Lopes_Ant nia Lothar_Borrmann_Frances_Newbery_Paulisch Brito_Patrick_H De_Lemos_Rog rio Rubira_Cec lia_M Capilla_Rafael Capilla_Rafael Capilla_Rafael Purhonen_An Stenudd_Sakari Miller_J_A Madhavji_N_H Manikas_Konstantinos Hansen_Klaus_Marius Kyng_Morten Weinreich_R Groher_I Eeles_Peter Hock_Koon_Anthony Oussalah_Mourad Zalewski_Andrzej Kijas_Szymon Galv o_Ism nia Van_Den_Broek_Pim Aksit_Mehmet Bosch_Jan Kotonya_Gerald Lee_Jaejoon Robinson_Daniel Kotonya_Gerald Lee_Jaejoon Robinson_Daniel Kotonya_Gerald Lee_Jaejoon Robinson_Daniel Schmid_Klaus Todoran_Irina Glinz_Martin Todoran_Irina Glinz_Martin Andersson_Jesper Ericsson_Morgan we_Welf Bass_Len Nord_Robert Wood_William Zubrow_David Jeff_Magee_Jeff_Kramer_Dimitra_Giannakopoulo Eklund_Ulrik Jonsson_Niklas Eriksson_Anders Bosch_Jan Eklund_Ulrik Jonsson_Niklas Eriksson_Anders Bosch_Jan Eklund_Ulrik Bosch_Jan Jonkers_H Lehsaini_M Guyennet_H Feham_M Brown_A_W McDermid_J_A Brown_A_W McDermid_J_A Schwanke_R_W Gallotti_Stefano Ghezzi_Carlo Mirandola_Raffaela Tamburrelli_Giordano Source Lecture_Notes_in_Computer_Science including_subseries_Lecture_Notes_in_Artificial_Intelligence_and_Lecture_Notes_in_Bioinformatics__v LNCS, _Quality_of_Software_Architectures Second_International_Conference_on_Quality_of_Software_Architectures_QoSA _Revised_Papers ISSN ISBN _ISBN Conference nd_International_Conference_on_Quality_of_Software_Architectures_QoSA _June June Sponsor University_of_Karlsruhe Malardalen_University Vasteras_City Publisher Springer_Verlag Rauf_Irum Ruokonen_Anna Systa_Tarja Porres_Ivan B_J Pronk Chen_Lianping Babar_Muhammad_Ali hn_Eva Mordinyi_Richard Keszthelyi_Laszlo Schreiber_Christian Bessler_Sandford Tomic_Slobodanka hn_Eva Mordinyi_Richard Keszthelyi_Laszlo Schreiber_Christian Bessler_Sandford Tomic_Slobodanka hn_Eva Mordinyi_Richard Keszthelyi_Laszlo Schreiber_Christian Bessler_Sandford Tomic_Slobodanka Emery_David Hilliard_Rich Lence_Ram Fuentes_Lidia Pinto_M nica Kavimandan_Amogh Gokhale_Aniruddha Miller_James_A Ferrari_Remo Madhavji_Nazim_H Aldrich_Jonathan Brunnert_Andreas Wischer_Kilian Krcmar_Helmut Horcas_J Pinto_M Fuentes_L Seo_Chiyoung Edwards_George Malek_Sam Medvidovic_Nenad Florentz_B Nistor_Ligia Kurilova_Darya Balzer_Stephanie Chung_Benjamin Potanin_Alex Aldrich_Jonathan Lee_Larix Kruchten_Philippe Knodel_Jens Lindvall_Mikael Muthig_Dirk Knodel_J Popescu_D De_Silva_Lakshitha Balasubramaniam_Dharini Shaik_I Abdelmoez_W Gunnalan_R Shereshevsky_M Zeid_A Ammar_H_H Mili_A Fuhrman_C Bianco_Vittorio_Dal Myllarniemi_Varvana Komssi_Marko Raatikainen_Mikko Goichon_Fran ois Salagnac_Guillaume not_St phane Morrison_Ron Balasubramaniam_Dharini Oquendo_Flavio Warboys_Brian Greenwood_R Mark Morrison_Ron Balasubramaniam_Dharini Oquendo_Flavio Warboys_Brian Greenwood_R Mark Chan_Kenneth Poernomo_Iman Dos_Santos_Rodrigo_Pereira Werner_Cl udia_Maria_Lima Costa_Bruno Pires_Paulo_F Delicato_Flavia_C Merson_Paulo ndez_Gonzalo De_Antonio_Ang lica Meedeniya_Indika Buhnova_Barbora Aleti_Aldeida Grunske_Lars Dhungana_Deepak Groher_Iris Schludermann_Elisabeth Biffl_Stefan Biel_Bettina Gruhn_Volker Biel_Bettina Gruhn_Volker Biel_Bettina Gruhn_Volker Lopez_Sanz_M Acuna_C_J Cuesta_C_E Marcos_E Lopez_Sanz_M Acuna_C_J Cuesta_C_E Marcos_E De_Boer_Remco_C Lago_Patricia Telea_Alexandr Van_Vliet_Hans De_Boer_Remco_C Lago_Patricia Telea_Alexandr Van_Vliet_Hans De_Boer_Remco_C Lago_Patricia Telea_Alexandr Van_Vliet_Hans Grau_Gemma Franch_Xavier Grau_Gemma Franch_Xavier Groven_Arne_Kristian Haaland_Kirsten Glott_Ruediger Tannenberg_Anna Bass_Len Matinlassi_Mari Olumofin_Femi_G Qureshi_Tahir_Naseer Chen_DeJi nn_Henrik rngren_Martin Bass_Len Nord_Robert_L Bass_Len Nord_Robert_L Brito_Patrick_H Rubira_Cec lia_M De_Lemos_Rog rio Brito_Patrick_H Rubira_Cec lia_M De_Lemos_Rog rio Brito_Patrick_H Rubira_Cec lia_M De_Lemos_Rog rio Krichen_Fatma Hamid_Brahim Zalila_Bechir Jmaiel_Mohamed Chen_T_Y Tsai_P_H Chou_T_S Liu_J_W_S Thamizhmani_A Shih_C_S Kuo_T_W Zhu_Liming Liu_Yan Gorton_Ian Bui_Ngoc_Bao Nyr nen_Tommi_Henrik Laitinen_Jarno Tourunen_Olli Sternkopf_Danny Laurikainen_Risto Oster_Per Lehtovuori_Pekka_T Miettinen_Timo_A Simonen_Tomi Perheentupa_Teem strik_Imre Kallioniemi_Olli Lyall_Andrew Thornton_Janet Nyr nen_Tommi_Henrik Laitinen_Jarno Tourunen_Olli Sternkopf_Danny Laurikainen_Risto Oster_Per Lehtovuori_Pekka_T Miettinen_Timo_A Simonen_Tomi Perheentupa_Teem strik_Imre Kallioniemi_Olli Lyall_Andrew Thornton_Janet Hofmeister_R Nord_D Soni Ortiz_Francisco_J Pastor_Juan_A Alonso_Diego lvarez_B rbara nchez_Pedro Ortiz_Francisco_J Pastor_Juan_A Alonso_Diego lvarez_B rbara nchez_Pedro Andersson_Jesper Ericsson_Morgan we_Welf Axelsson_Jakob Sokenou_D Vosgen_M Ivanovic_Ana America_Pierre Clements_Paul Kazman_Rick Klein_Mark Devesh_Divya Reddy_Shivani Verma_Prageti Torjusen_Arild_B Abie_Habtam Paintsil_Ebenezer Trcek_Denis Skomedal, smund Eklund_Ulrik Arts_Thomas Xu_Xiwei Zhu_Liming Staples_Mark Liu_Yan Xu_Xiwei Zhu_Liming Staples_Mark Liu_Yan Xu_Xiwei Zhu_Liming Staples_Mark Liu_Yan Sousa_Jo o_Pedro Schmerl_Bradley Poladian_Vahe Brodsky_Alex Weitzel_Balthasar Rost_Dominik Scheffe_Mathias Oriat_C Astekin_Merve zer_Hasan Astekin_Merve zer_Hasan Terra_Ricardo De_Oliveira_Valente_Marco_Tulio Molesini_Ambra Garcia_Alessandro Chavez_Christina Batista_Thais Molesini_Ambra Garcia_Alessandro Chavez_Christina Batista_Thais Bass_Len Ivers_James Klein_Mark Merson_Paulo Wallnau_Kurt Alvarez_Camilo Casallas_Rubby Simidchieva_Borislava_I Osterweil_Leon_J Del_Rosso_Christian Maccari_Alessandro Contieri_Jr__Antonio_C Correia_Guilherme_G Colanzi_Thelma_E Gimenes_Itana_M Oliveira_Jr__Edson_A Ferrari_Sandra Masiero_Paulo_C Garcia_Alessandro_F Poort_Eltjo_R Adriaanse_Hans Kuijt_Arie De_With_Peter_H Alti_Adel Boukerram_Abdellah Roose_Philippe Poort_Eltjo_R Pramono_Agung Perdeck_Michiel Clerc_Viktor Van_Vliet_Hans Aschauer_Thomas Dauenhauer_Gerd Pree_Wolfgang Aschauer_Thomas Dauenhauer_Gerd Pree_Wolfgang Aschauer_Thomas Dauenhauer_Gerd Pree_Wolfgang Eklund_Ulrik Olsson_Carl_Magnus Eklund_Ulrik Olsson_Carl_Magnus Eklund_Ulrik Olsson_Carl_Magnus Dos_Santos_Walter_A Da_Cunha_Adilson_M Loulou_Imen Kacem_Ahmed_Hadj Jmaiel_Mohamed Drira_Khalil Loulou_I Kacem_A_H Jmaiel_M Drira_K Woods_Eoin Rozanski_Nick Nord_Robert_L Clements_Paul_C Emery_David Hilliard_Rich Nord_Robert_L Clements_Paul_C Emery_David Hilliard_Rich Nord_Robert_L Clements_Paul_C Emery_David Hilliard_Rich Jamwal_Vikram Iyer_Sridhar Zhu_Liming Bass_Len Xu_Xiwei Zhu_Liming Bass_Len Xu_Xiwei Sangwan_Raghvinder_S Neill_Colin_J Sangwan_Raghvinder_S Neill_Colin_J Sangwan_Raghvinder_S Neill_Colin_J Barry_Boehm_Dan_Port_Alexander_Egyed_and_Marwan_Abi_Antoun Bass_M Sangwan_R Smith_M Akerman_Art Tyree_Jeff Ernst_Erik Jamro z_K Pitulej_D Werewka_J Lung_Chung_Horng Zaman_Marzia Goel_Nishith Pereira_Oscar_M Aguiar_Rui_L Santos_Maribel_Yasmina Woods_Eoin Hilliard_Rich Kuusela_Juha Kuusela_Juha Murthy_P Rajaram_T Hemanth_S Jain_P Kircher_M Sporea_Dan Sporea_Adelina Mihai_Laura Stancalie_Andrei Johanson_Arne_N Hasselbring_Wilhelm Ehlers_Jens Hasselbring_Wilhelm Dietrich_Jens McCartin_Catherine Tempero_Ewan Ali_Shah_Syed_M Grunske_Lars Su_Moon_Ting Arkin_Ethem Tekinerdogan_Bedir Becker_Matthias Luckey_Markus Becker_Steffen Ali_Babar_Muhammad Bass_Len Gorton_Ian Babar_M_A Bass_L Gorton_I Halonen_Pertt nen_Kimmo Haitzer_Thomas Zdun_Uwe Schulte_Daniel Klatt_Benjamin Rathfelder_Christoph Kounev_Samuel Tausch_Norbert Philippsen_Michael Adersberger_Josef Tausch_Norbert Philippsen_Michael Adersberger_Josef Peltonen_Jari Felin_Marko Vartiala_Mikko Pohjalainen_Piet Pohjalainen_Piet Aarnoutse_Floor Renes_Cassandra Snijders_Remco Jansen_Slinger Wendland_Marc_Florian Hoffmann_Andreas Schieferdecker_Ina Mair_Matthias Herold_Sebastian Rausch_Andreas Lars_Bratthall Per_Runeson Dhungana_Deepak Rabiser_Rick nbacher_Paul Dragomir_Ana Harun_M Firdaus Lichter_Horst Krka_Ivo Medvidovic_Nenad Kapov _Lucia Goldschmidt_Thomas Becker_Steffen Henss_J rg Myll rniemi_Varvana Ylikangas_Mikko Raatikainen_Mikko _Jari nnist _Tomi Aaltonen_Timo Myll rniemi_Varvana Ylikangas_Mikko Raatikainen_Mikko _Jari nnist _Tomi Aaltonen_Timo Galster_Matthias Avgeriou_Paris Weyns_Danny Becker_Martin Galster_Matthias Avgeriou_Paris Weyns_Danny Becker_Martin Tekinerdogan_Bedir zer_Hasan Tekinerdogan_Bedir zer_Hasan rb z_H_G Tekinerdogan_B Pala_Er_N rrle_Harald Barnes_Jeffrey_M Shahin_Mojtaba Liang_Peng Li_Zengyang Anselmi_Jonatha Cremonesi_Paolo Amaldi_Edoardo Verjus_Herv mpan_Sorana Razavizadeh_Azadeh Ducasse_St phane Hofmeister_Christine Obbink_Henk Kruchten_Philippe Ran_Alexander Nord_Robert_L America_Pierre Kuz_Ihor Zhu_Liming Bass_Len Staples_Mark Xu_Xiwei Kuz_Ihor Zhu_Liming Bass_Len Staples_Mark Xu_Xiwei Abbas_Nadeem Andersson_Jesper we_Welf Nallur_Vivek Bahsoon_Rami Yao_Xin Nallur_Vivek Bahsoon_Rami Yao_Xin Nallur_Vivek Bahsoon_Rami Yao_Xin Ingstrup_Mads Hansen_Klaus_Marius Ingstrup_Mads Hansen_Klaus_Marius Ingstrup_Mads Hansen_Klaus_Marius Graaf_Bas Weber_Sven Van_Deursen_Arie Ezra_Kaahwa_Mugisa__TomS Maibaum Johnson_Kenneth Calinescu_Rad Alebrahim_Azadeh Hatebur_Denis Heisel_Maritta Zhou_Terry_G Peake_Ian_D Schmidt_Heinz_W Olsson_Tobias Toll_Daniel Wingkvist_Anna Ericsson_Morgan Smith_Jason_McC Stotts_David Haenni_Nicole Lungu_Mircea Schwarz_Niko Nierstrasz_Oscar Tekinerdogan_Bedir zer_Hasan Aksit_Mehmet Al_Azzani_Sarah Bahsoon_Rami Al_Azzani_Sarah Bahsoon_Rami _Isabelle Heisel_Marina Wentzlaff_Ina _Isabelle Heisel_Marina Wentzlaff_Ina Chouali_Samir Carrillo_Oscar Mountassir_Hassan Kriechbaum_T Buchgeher_G Weinreich_R Andrade_J Gouveia_P Xardone_and_J Camara Gruhn_V Schafer_C Gruhn_V Schafer_C Christensen_Henrik_Baerbak Losavio_F Matteo_A Rahamut_R Santos_Adri Almeida_Francisco Blanco_Vicente Santos_Adri Almeida_Francisco Blanco_Vicente Santos_A Almeida_F Blanco_V Santos_A Almeida_F Blanco_V Marzolla_Moreno Mirandola_Raffaela Marzolla_M Mirandola_R Waignier_G Le_Meur_A Duchien_L Waignier_G Le_Meur_A Duchien_L Rekhav_V Smrithi Muccini_Henry van_Ommering_R ster_Martin Trifu_Mircea ster_Martin Trifu_Mircea Zimmermann_Olaf Zdun_Uwe Gschwind_Thomas Leymann_Frank Kloukinas_C and_Issarny_V Gilson_Fabian Englebert_Vincent Carignano_Mar a_Celeste Gonnet_Silvio Leone_Horacio Carignano_Mar a_Celeste Gonnet_Silvio Leone_Horacio Carignano_Mar a_Celeste Gonnet_Silvio Leone_Horacio Chavarriaga_Jaime Noguera_Carlos Casallas_Rubby Jonckers_Viviane Bucchiarone_A Muccini_H Pelliccione_P Navasa_Amparo rez_Miguel_A Murillo_Juan_M Navasa_Amparo rez_Miguel_A Murillo_Juan_M Zimmermann_Olaf Zimmermann_Olaf Land_R Crnkovic_I Larsson_S Blankers_L Biehl_Matthias we_Welf Su_Moon_Ting Tempero_Ewan Hosking_John Grundy_John Su_Moon_Ting Tempero_Ewan Hosking_John Grundy_John Cortellessa_Vittorio De_Sanctis_Martina Di_Marco_Antinisca Trubiani_Catia Cortellessa_Vittorio De_Sanctis_Martina Di_Marco_Antinisca Trubiani_Catia Aboud_Nour_Alhouda valo_Gabriela Falleri_Jean_R my Huchard_Marianne Tibermacine_Chouki Urtado_Christelle Vauttier_Sylvain Aboud_Nour_Alhouda valo_Gabriela Falleri_Jean_R my Huchard_Marianne Tibermacine_Chouki Urtado_Christelle Vauttier_Sylvain Aboud_Nour_Alhouda valo_Gabriela Falleri_Jean_R my Huchard_Marianne Tibermacine_Chouki Urtado_Christelle Vauttier_Sylvain Muccini_H Pelliccione_P Romanovsky_A De_Gooijer_Thijmen Harper_K Eric Bashroush_R Eklund_Ulrik Olsson_Carl_Magnus Ljungblad_Marcus Pahl_Claus Gassara_Amal Bouassida_Rodriguez_Ismael Jmaiel_Mohamed Kozaczynski_W Chang_Zhiming Mao_Xinjun Qi_Zhichang Ahmad_Aakash Babar_Muhammad_Ali Kabbedijk_J Jansen_S Kabbedijk_J Jansen_S Abi_Antoun_Marwan Coelho_Wesley'"
      ]
     },
     "execution_count": 107,
     "metadata": {},
     "output_type": "execute_result"
    }
   ],
   "source": [
    "e2"
   ]
  },
  {
   "cell_type": "code",
   "execution_count": 109,
   "metadata": {
    "collapsed": true
   },
   "outputs": [],
   "source": [
    "import wordcloud_generator2 as wcg\n",
    "wcg = reload(wcg)"
   ]
  },
  {
   "cell_type": "code",
   "execution_count": 110,
   "metadata": {
    "collapsed": false
   },
   "outputs": [
    {
     "name": "stdout",
     "output_type": "stream",
     "text": [
      "('au', 'paperID', '', 'auCloud2.png', False)\n"
     ]
    }
   ],
   "source": [
    "wcg = cloud('au', outputFile = 'auCloud2.png')"
   ]
  },
  {
   "cell_type": "code",
   "execution_count": 111,
   "metadata": {
    "collapsed": false
   },
   "outputs": [
    {
     "name": "stdout",
     "output_type": "stream",
     "text": [
      "('kw', 'paperID', '', 'kwCloud2.png', False)\n"
     ]
    }
   ],
   "source": [
    "wcg = cloud('kw', outputFile = 'kwCloud2.png')"
   ]
  },
  {
   "cell_type": "code",
   "execution_count": 112,
   "metadata": {
    "collapsed": false
   },
   "outputs": [
    {
     "name": "stdout",
     "output_type": "stream",
     "text": [
      "('kw', 'confName', 'ECSA', 'kwGroupCloud.png', True)\n"
     ]
    }
   ],
   "source": [
    "wcg = cloud('kw', \n",
    "            grouper = 'confName',\n",
    "            group = 'ECSA',\n",
    "            grouped = True, \n",
    "            outputFile = 'kwGroupCloud.png')"
   ]
  },
  {
   "cell_type": "code",
   "execution_count": null,
   "metadata": {
    "collapsed": true
   },
   "outputs": [],
   "source": []
  }
 ],
 "metadata": {
  "kernelspec": {
   "display_name": "Python 2",
   "language": "python",
   "name": "python2"
  },
  "language_info": {
   "codemirror_mode": {
    "name": "ipython",
    "version": 2
   },
   "file_extension": ".py",
   "mimetype": "text/x-python",
   "name": "python",
   "nbconvert_exporter": "python",
   "pygments_lexer": "ipython2",
   "version": "2.7.11"
  }
 },
 "nbformat": 4,
 "nbformat_minor": 0
}
