{
 "cells": [
  {
   "cell_type": "markdown",
   "metadata": {},
   "source": [
    "# Learning python and sqlite3"
   ]
  },
  {
   "cell_type": "code",
   "execution_count": 1,
   "metadata": {
    "collapsed": true
   },
   "outputs": [],
   "source": [
    "import sqlite3\n",
    "import pandas as pd"
   ]
  },
  {
   "cell_type": "code",
   "execution_count": null,
   "metadata": {
    "collapsed": false
   },
   "outputs": [],
   "source": [
    "with sqlite3.connect('Abstracts.db') as con:\n",
    "    sql = \"SELECT * FROM Abstracts\"\n",
    "    dfab = pd.read_sql_query(sql, con)\n",
    "    print dfab.shape\n",
    "con.close()"
   ]
  },
  {
   "cell_type": "code",
   "execution_count": null,
   "metadata": {
    "collapsed": false
   },
   "outputs": [],
   "source": [
    "dfab.head()"
   ]
  },
  {
   "cell_type": "code",
   "execution_count": null,
   "metadata": {
    "collapsed": false
   },
   "outputs": [],
   "source": [
    "tests = [\n",
    "    (1, 'Audi', '4door', '4door', '4door', '4door', '4door', '4door', 'tada') ,\n",
    "    (2, 'Volkswagon', '4door', '4door', '4door', '4door', '4door', '4door',  'tada'),\n",
    "    (3, 'Passat', '4door', '4door', '4door', '4door', '4door', '4door', 'tada!')\n",
    "]\n",
    "\n",
    "testdb = 'Test.db'\n",
    "tests"
   ]
  },
  {
   "cell_type": "markdown",
   "metadata": {},
   "source": [
    "# Small scripts\n",
    "- testing and adding"
   ]
  },
  {
   "cell_type": "markdown",
   "metadata": {},
   "source": [
    "### check the database at this time"
   ]
  },
  {
   "cell_type": "code",
   "execution_count": null,
   "metadata": {
    "collapsed": false
   },
   "outputs": [],
   "source": [
    "def checkDB(db):\n",
    "    \n",
    "    with sqlite3.connect(db) as con:\n",
    "        sql = \"SELECT * FROM Abstracts\"\n",
    "        test = pd.read_sql_query(sql, con )\n",
    "\n",
    "    \n",
    "    return test"
   ]
  },
  {
   "cell_type": "markdown",
   "metadata": {},
   "source": [
    "### Add to the database at this time"
   ]
  },
  {
   "cell_type": "code",
   "execution_count": null,
   "metadata": {
    "collapsed": true
   },
   "outputs": [],
   "source": [
    "def addDB(db, entries):\n",
    "    \n",
    "    with sqlite3.connect(db) as con:\n",
    "        cur = con.cursor() \n",
    "    #drops the cars table if it exist already \n",
    "        cur.execute(\"DROP TABLE IF EXISTS Abstracts\")\n",
    "    #and recreates it\n",
    "        cur.execute(\"CREATE TABLE Abstracts(ID INT, Abstract TEXT, 'Author affiliation' TEXT, \\\n",
    "        Authors TEXT, 'Classification Code' TEXT, Conf TEXT, Database TEXT, Source TEXT, \\\n",
    "        Title TEXT)\")\n",
    "        \n",
    "        \n",
    "        cur.executemany(\"INSERT INTO Abstracts VALUES(?,?,?,?,?,?,?,?,?)\", entries )\n",
    "    con.close()\n"
   ]
  },
  {
   "cell_type": "markdown",
   "metadata": {},
   "source": [
    "#### dummy data\n",
    "- errors thrown due to list entry of 'terms'"
   ]
  },
  {
   "cell_type": "code",
   "execution_count": null,
   "metadata": {
    "collapsed": false
   },
   "outputs": [],
   "source": [
    "addDB(testdb, tests)"
   ]
  },
  {
   "cell_type": "code",
   "execution_count": null,
   "metadata": {
    "collapsed": false
   },
   "outputs": [],
   "source": [
    "checkDB(testdb)"
   ]
  },
  {
   "cell_type": "markdown",
   "metadata": {},
   "source": [
    "### Try with some 'real' abstract entries "
   ]
  },
  {
   "cell_type": "code",
   "execution_count": null,
   "metadata": {
    "collapsed": true
   },
   "outputs": [],
   "source": [
    "totalDF = pd.read_hdf('../DataBaseParsing/DFstore.h5', 'df')"
   ]
  },
  {
   "cell_type": "code",
   "execution_count": null,
   "metadata": {
    "collapsed": false
   },
   "outputs": [],
   "source": [
    "row1 = [entry for entry in totalDF.iloc[0]]\n",
    "row2 = [entry for entry in totalDF.iloc[1]]\n",
    "row3 = [entry for entry in totalDF.iloc[2]]\n",
    "rows = (\n",
    "    (row1[0:8]),\n",
    "    (row2[0:8]),\n",
    "    (row3[0:8])\n",
    "       )\n",
    "print len(rows[0])\n",
    "#rows"
   ]
  },
  {
   "cell_type": "code",
   "execution_count": null,
   "metadata": {
    "collapsed": false
   },
   "outputs": [],
   "source": [
    "rows = []\n",
    "for x in totalDF.iloc[0:5].itertuples():\n",
    "    print x[0]\n",
    "    rows.extend([x[0:9]]\n",
    "               )\n",
    "rows[0]"
   ]
  },
  {
   "cell_type": "code",
   "execution_count": null,
   "metadata": {
    "collapsed": false
   },
   "outputs": [],
   "source": [
    "addDB(testdb, rows)"
   ]
  },
  {
   "cell_type": "code",
   "execution_count": null,
   "metadata": {
    "collapsed": false
   },
   "outputs": [],
   "source": [
    "test3 = checkDB(testdb)\n",
    "test3"
   ]
  },
  {
   "cell_type": "code",
   "execution_count": 3,
   "metadata": {
    "collapsed": false
   },
   "outputs": [
    {
     "data": {
      "text/plain": [
       "<module 'sqlcommands' from 'sqlcommands.pyc'>"
      ]
     },
     "execution_count": 3,
     "metadata": {},
     "output_type": "execute_result"
    }
   ],
   "source": [
    "import sqlcommands as cmd\n",
    "reload(cmd)"
   ]
  },
  {
   "cell_type": "code",
   "execution_count": 7,
   "metadata": {
    "collapsed": false
   },
   "outputs": [
    {
     "name": "stdout",
     "output_type": "stream",
     "text": [
      "(1548, 10)\n"
     ]
    }
   ],
   "source": [
    "rowtotal = cmd.parseDataFrame()"
   ]
  },
  {
   "cell_type": "code",
   "execution_count": 9,
   "metadata": {
    "collapsed": false
   },
   "outputs": [],
   "source": [
    "cmd.addAbstractsTable('Abstracts.db', rowtotal)"
   ]
  },
  {
   "cell_type": "code",
   "execution_count": 10,
   "metadata": {
    "collapsed": false
   },
   "outputs": [
    {
     "name": "stdout",
     "output_type": "stream",
     "text": [
      "(1548, 9)\n"
     ]
    }
   ],
   "source": [
    "df = cmd.sqlCMDToPD('Abstracts.db')"
   ]
  },
  {
   "cell_type": "code",
   "execution_count": 11,
   "metadata": {
    "collapsed": false
   },
   "outputs": [
    {
     "data": {
      "text/html": [
       "<div>\n",
       "<table border=\"1\" class=\"dataframe\">\n",
       "  <thead>\n",
       "    <tr style=\"text-align: right;\">\n",
       "      <th></th>\n",
       "      <th>ID</th>\n",
       "      <th>Abstract</th>\n",
       "      <th>Author affiliation</th>\n",
       "      <th>Authors</th>\n",
       "      <th>Classification Code</th>\n",
       "      <th>Conf</th>\n",
       "      <th>Database</th>\n",
       "      <th>Source</th>\n",
       "      <th>Title</th>\n",
       "    </tr>\n",
       "  </thead>\n",
       "  <tbody>\n",
       "    <tr>\n",
       "      <th>0</th>\n",
       "      <td>1</td>\n",
       "      <td>Empirical software engineering focuses on the ...</td>\n",
       "      <td>1  DISP  Univ  of Rome  Rome  Italy</td>\n",
       "      <td>Falessi  D   1   Kruchten  P   Cantone  G</td>\n",
       "      <td>C6110B Software engineering techniques   C0310...</td>\n",
       "      <td>ECSA</td>\n",
       "      <td>Inspec</td>\n",
       "      <td>Software Architecture  First European Conferen...</td>\n",
       "      <td>Issues in applying empirical software engineer...</td>\n",
       "    </tr>\n",
       "    <tr>\n",
       "      <th>1</th>\n",
       "      <td>2</td>\n",
       "      <td>Software architecture description languages al...</td>\n",
       "      <td>1  LSTS   ENIT  Tunis  Tunisia</td>\n",
       "      <td>Jerad  C   1   Barkaoui  K   Grissa Touzi  A</td>\n",
       "      <td>C6110B Software engineering techniques   C4210...</td>\n",
       "      <td>ECSA</td>\n",
       "      <td>Inspec</td>\n",
       "      <td>Software Architecture  First European Conferen...</td>\n",
       "      <td>Hierarchical verification in Maude of LfP soft...</td>\n",
       "    </tr>\n",
       "    <tr>\n",
       "      <th>2</th>\n",
       "      <td>3</td>\n",
       "      <td>When an application must evolve to cope with n...</td>\n",
       "      <td>1  INRIA  Univ  des Sci  et Technol  de Lille ...</td>\n",
       "      <td>Waignier  G   1   Le Meur  A  F   1   Duchien ...</td>\n",
       "      <td>C6110B Software engineering techniques   C6110...</td>\n",
       "      <td>ECSA</td>\n",
       "      <td>Inspec</td>\n",
       "      <td>Software Architecture  First European Conferen...</td>\n",
       "      <td>FIESTA  a generic framework for integrating ne...</td>\n",
       "    </tr>\n",
       "    <tr>\n",
       "      <th>3</th>\n",
       "      <td>4</td>\n",
       "      <td>Ageless software evolves  to meet new requirem...</td>\n",
       "      <td>1  Sch  of Comput  Sci   Univ  of Adelaide  Ad...</td>\n",
       "      <td>Falkner  K   1   Balasubramaniam  D   Detmold ...</td>\n",
       "      <td>C6110B Software engineering techniques</td>\n",
       "      <td>ECSA</td>\n",
       "      <td>Inspec</td>\n",
       "      <td>Software Architecture  First European Conferen...</td>\n",
       "      <td>Informed evolution</td>\n",
       "    </tr>\n",
       "    <tr>\n",
       "      <th>4</th>\n",
       "      <td>5</td>\n",
       "      <td>The past 20 years has seen significant investm...</td>\n",
       "      <td>1  Software Group  IBM  Raleigh  NC  United St...</td>\n",
       "      <td>Brown  A W   1   McDermid  J A</td>\n",
       "      <td>C6110B Software engineering techniques   C6130...</td>\n",
       "      <td>ECSA</td>\n",
       "      <td>Inspec</td>\n",
       "      <td>Software Architecture  First European Conferen...</td>\n",
       "      <td>The art and science of software architecture</td>\n",
       "    </tr>\n",
       "  </tbody>\n",
       "</table>\n",
       "</div>"
      ],
      "text/plain": [
       "   ID                                           Abstract  \\\n",
       "0   1  Empirical software engineering focuses on the ...   \n",
       "1   2  Software architecture description languages al...   \n",
       "2   3  When an application must evolve to cope with n...   \n",
       "3   4  Ageless software evolves  to meet new requirem...   \n",
       "4   5  The past 20 years has seen significant investm...   \n",
       "\n",
       "                                  Author affiliation  \\\n",
       "0                1  DISP  Univ  of Rome  Rome  Italy   \n",
       "1                     1  LSTS   ENIT  Tunis  Tunisia   \n",
       "2  1  INRIA  Univ  des Sci  et Technol  de Lille ...   \n",
       "3  1  Sch  of Comput  Sci   Univ  of Adelaide  Ad...   \n",
       "4  1  Software Group  IBM  Raleigh  NC  United St...   \n",
       "\n",
       "                                             Authors  \\\n",
       "0          Falessi  D   1   Kruchten  P   Cantone  G   \n",
       "1       Jerad  C   1   Barkaoui  K   Grissa Touzi  A   \n",
       "2  Waignier  G   1   Le Meur  A  F   1   Duchien ...   \n",
       "3  Falkner  K   1   Balasubramaniam  D   Detmold ...   \n",
       "4                     Brown  A W   1   McDermid  J A   \n",
       "\n",
       "                                 Classification Code  Conf Database  \\\n",
       "0  C6110B Software engineering techniques   C0310...  ECSA   Inspec   \n",
       "1  C6110B Software engineering techniques   C4210...  ECSA   Inspec   \n",
       "2  C6110B Software engineering techniques   C6110...  ECSA   Inspec   \n",
       "3             C6110B Software engineering techniques  ECSA   Inspec   \n",
       "4  C6110B Software engineering techniques   C6130...  ECSA   Inspec   \n",
       "\n",
       "                                              Source  \\\n",
       "0  Software Architecture  First European Conferen...   \n",
       "1  Software Architecture  First European Conferen...   \n",
       "2  Software Architecture  First European Conferen...   \n",
       "3  Software Architecture  First European Conferen...   \n",
       "4  Software Architecture  First European Conferen...   \n",
       "\n",
       "                                               Title  \n",
       "0  Issues in applying empirical software engineer...  \n",
       "1  Hierarchical verification in Maude of LfP soft...  \n",
       "2  FIESTA  a generic framework for integrating ne...  \n",
       "3                                 Informed evolution  \n",
       "4       The art and science of software architecture  "
      ]
     },
     "execution_count": 11,
     "metadata": {},
     "output_type": "execute_result"
    }
   ],
   "source": [
    "df.head()"
   ]
  },
  {
   "cell_type": "code",
   "execution_count": null,
   "metadata": {
    "collapsed": true
   },
   "outputs": [],
   "source": []
  }
 ],
 "metadata": {
  "kernelspec": {
   "display_name": "Python 2",
   "language": "python",
   "name": "python2"
  },
  "language_info": {
   "codemirror_mode": {
    "name": "ipython",
    "version": 2
   },
   "file_extension": ".py",
   "mimetype": "text/x-python",
   "name": "python",
   "nbconvert_exporter": "python",
   "pygments_lexer": "ipython2",
   "version": "2.7.11"
  }
 },
 "nbformat": 4,
 "nbformat_minor": 0
}
