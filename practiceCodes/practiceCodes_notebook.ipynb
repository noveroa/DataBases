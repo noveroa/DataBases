{
 "cells": [
  {
   "cell_type": "code",
   "execution_count": 1,
   "metadata": {
    "collapsed": true
   },
   "outputs": [],
   "source": [
    "import pandas as pd\n",
    "import numpy as np"
   ]
  },
  {
   "cell_type": "code",
   "execution_count": 2,
   "metadata": {
    "collapsed": true
   },
   "outputs": [],
   "source": [
    "import time"
   ]
  },
  {
   "cell_type": "code",
   "execution_count": 3,
   "metadata": {
    "collapsed": false
   },
   "outputs": [
    {
     "name": "stdout",
     "output_type": "stream",
     "text": [
      "(55, 6.9141387939453125e-06)\n",
      "Sum is 5000050000 required  0.0100300 seconds\n",
      "Sum is 5000050000 required  0.0082960 seconds\n",
      "Sum is 5000050000 required  0.0079072 seconds\n",
      "Sum is 5000050000 required  0.0088780 seconds\n",
      "Sum is 5000050000 required  0.0113511 seconds\n",
      "Sum is 5000050000 required  0.0002999 seconds\n",
      "Sum is 5000050000 required  0.0001941 seconds\n",
      "Sum is 5000050000 required  0.0002320 seconds\n",
      "Sum is 5000050000 required  0.0001550 seconds\n",
      "Sum is 5000050000 required  0.0001230 seconds\n"
     ]
    }
   ],
   "source": [
    "##ITERATIVE\n",
    "#Summation of the First n Integers with time analysis\n",
    "def sumOfN(n):\n",
    "    st = time.time()\n",
    "    theSum = 0\n",
    "    for i in range(1,n+1):\n",
    "        theSum = theSum + i\n",
    "    end = time.time()\n",
    "    return theSum, end-st\n",
    "\n",
    "print(sumOfN(10))\n",
    "\n",
    "#Inspecting time requirements\n",
    "for i in range(5):\n",
    "       print(\"Sum is %d required %10.7f seconds\"%sumOfN(100000))\n",
    "def sumOfN2(n):\n",
    "    st = time.time()\n",
    "    x = np.sum(np.arange(1,n+1))\n",
    "    end = time.time()\n",
    "    \n",
    "    return x, end-st\n",
    "for i in range(5):\n",
    "       print(\"Sum is %d required %10.7f seconds\"%sumOfN2(100000))\n"
   ]
  },
  {
   "cell_type": "code",
   "execution_count": 4,
   "metadata": {
    "collapsed": false
   },
   "outputs": [
    {
     "name": "stdout",
     "output_type": "stream",
     "text": [
      "Sum is 50005000 required  0.0000010 seconds\n",
      "Sum is 50005000 required  0.0000000 seconds\n",
      "Sum is 50005000 required  0.0000010 seconds\n",
      "Sum is 50005000 required  0.0000010 seconds\n",
      "Sum is 50005000 required  0.0000021 seconds\n",
      "Sum is 5000050000 required  0.0000010 seconds\n",
      "Sum is 5000050000 required  0.0000012 seconds\n",
      "Sum is 5000050000 required  0.0000010 seconds\n",
      "Sum is 5000050000 required  0.0000010 seconds\n",
      "Sum is 5000050000 required  0.0000012 seconds\n",
      "Sum is 500000500000 required  0.0000010 seconds\n",
      "Sum is 500000500000 required  0.0000162 seconds\n",
      "Sum is 500000500000 required  0.0000010 seconds\n",
      "Sum is 500000500000 required  0.0000010 seconds\n",
      "Sum is 500000500000 required  0.0000012 seconds\n",
      "Sum is 50000005000000 required  0.0000000 seconds\n",
      "Sum is 50000005000000 required  0.0000000 seconds\n",
      "Sum is 50000005000000 required  0.0000010 seconds\n",
      "Sum is 50000005000000 required  0.0000000 seconds\n",
      "Sum is 50000005000000 required  0.0000010 seconds\n",
      "Sum is 5000000050000000 required  0.0000010 seconds\n",
      "Sum is 5000000050000000 required  0.0000010 seconds\n",
      "Sum is 5000000050000000 required  0.0000010 seconds\n",
      "Sum is 5000000050000000 required  0.0000012 seconds\n",
      "Sum is 5000000050000000 required  0.0000010 seconds\n"
     ]
    },
    {
     "data": {
      "text/plain": [
       "[None, None, None, None, None]"
      ]
     },
     "execution_count": 4,
     "metadata": {},
     "output_type": "execute_result"
    }
   ],
   "source": [
    "#Taking advantage of the closed-firm summation equation, non iterative\n",
    "def sumOfN3(n):\n",
    "    st = time.time()\n",
    "    x = (n*(n+1))/2\n",
    "    end = time.time()\n",
    "    \n",
    "    return x, end-st\n",
    "def gettimes(num):\n",
    "    for i in range(5):\n",
    "        print(\"Sum is %d required %10.7f seconds\"%sumOfN3(num))\n",
    "        \n",
    "n = [10000, 100000, 1000000, 10000000,100000000]\n",
    "map(gettimes, n)"
   ]
  },
  {
   "cell_type": "code",
   "execution_count": 5,
   "metadata": {
    "collapsed": true
   },
   "outputs": [],
   "source": [
    "import timeit"
   ]
  },
  {
   "cell_type": "code",
   "execution_count": 6,
   "metadata": {
    "collapsed": false
   },
   "outputs": [
    {
     "name": "stdout",
     "output_type": "stream",
     "text": [
      "The slowest run took 4.16 times longer than the fastest. This could mean that an intermediate result is being cached.\n",
      "100000 loops, best of 3: 2.7 µs per loop\n",
      "The slowest run took 17.72 times longer than the fastest. This could mean that an intermediate result is being cached.\n",
      "100000 loops, best of 3: 4.28 µs per loop\n",
      "The slowest run took 5.47 times longer than the fastest. This could mean that an intermediate result is being cached.\n",
      "1000000 loops, best of 3: 566 ns per loop\n"
     ]
    }
   ],
   "source": [
    "%timeit sumOfN(30)\n",
    "%timeit sumOfN2(30)\n",
    "%timeit sumOfN3(30)"
   ]
  },
  {
   "cell_type": "code",
   "execution_count": 50,
   "metadata": {
    "collapsed": true
   },
   "outputs": [],
   "source": [
    "#n^2 - trick count nested: 1 = loop over all list(i in alist, 2 = loop all over list(j in alist)\n",
    "#n^2 algorithm for finding minimum in a list\n",
    "numlist = [5,4,2,1,0]\n",
    "def findmin(alist):\n",
    "    st = time.time()\n",
    "    min_min = alist[0]\n",
    "    \n",
    "    for i in alist:\n",
    "        issmallest = True\n",
    "        for j in alist:\n",
    "            if i > j:\n",
    "                issmallest = False\n",
    "            if issmallest:\n",
    "                min_min = i\n",
    "    end = time.time()\n",
    "    return min_min, end-st\n",
    "#Linear function!\n",
    "#assume 1st is the smallest\n",
    "def findminLin(numlist = numlist):\n",
    "    cur = numlist[0]\n",
    "    for i in numlist:\n",
    "        if i < cur:\n",
    "             cur = i\n",
    "    \n",
    "    return cur"
   ]
  },
  {
   "cell_type": "code",
   "execution_count": 34,
   "metadata": {
    "collapsed": false
   },
   "outputs": [
    {
     "data": {
      "text/plain": [
       "(0, 1.2159347534179688e-05)"
      ]
     },
     "execution_count": 34,
     "metadata": {},
     "output_type": "execute_result"
    }
   ],
   "source": [
    "findmin(numlist)"
   ]
  },
  {
   "cell_type": "code",
   "execution_count": 35,
   "metadata": {
    "collapsed": false
   },
   "outputs": [
    {
     "data": {
      "text/plain": [
       "(0, 1.9073486328125e-06)"
      ]
     },
     "execution_count": 35,
     "metadata": {},
     "output_type": "execute_result"
    }
   ],
   "source": [
    "findminLin(numlist)"
   ]
  },
  {
   "cell_type": "code",
   "execution_count": 2,
   "metadata": {
    "collapsed": false
   },
   "outputs": [
    {
     "name": "stdout",
     "output_type": "stream",
     "text": [
      "False\n",
      "True\n",
      "The slowest run took 4.68 times longer than the fastest. This could mean that an intermediate result is being cached.\n",
      "100000 loops, best of 3: 5.9 µs per loop\n",
      "The slowest run took 5.25 times longer than the fastest. This could mean that an intermediate result is being cached.\n",
      "100000 loops, best of 3: 2.86 µs per loop\n",
      "100000 loops, best of 3: 9.93 µs per loop\n"
     ]
    }
   ],
   "source": [
    "\n",
    "list1, list2 = 'abcd', 'dcbae'\n",
    "for i in list2:\n",
    "    if i not in list1:\n",
    "        print False\n",
    "def anagramSolution1(s1,s2): #n^2\n",
    "    alist = list(s2)\n",
    "\n",
    "    pos1 = 0\n",
    "    stillOK = True\n",
    "\n",
    "    while pos1 < len(s1) and stillOK:\n",
    "        pos2 = 0\n",
    "        found = False\n",
    "        while pos2 < len(alist) and not found:\n",
    "            if s1[pos1] == alist[pos2]:\n",
    "                found = True\n",
    "            else:\n",
    "                pos2 = pos2 + 1\n",
    "\n",
    "        if found:\n",
    "            alist[pos2] = None\n",
    "        else:\n",
    "            stillOK = False\n",
    "\n",
    "        pos1 = pos1 + 1\n",
    "\n",
    "    return stillOK\n",
    "\n",
    "print(anagramSolution1('abcd','dcba'))\n",
    "\n",
    "def anagramSolutionSort(s1,s2): #STILL n^2 because of sort\n",
    "    a1 = list(s1)\n",
    "    a2 = list(s2)\n",
    "    a1.sort()\n",
    "    a2.sort()\n",
    "    pos = 0\n",
    "    matches = True\n",
    "\n",
    "    while pos < len(a1) and matches:\n",
    "        if a1[pos]==a2[pos]:\n",
    "            pos = pos + 1\n",
    "        else:\n",
    "            matches = False\n",
    "\n",
    "    return matches\n",
    "def anagramSolutionLinear(s1,s2):  ##NO NESTING!\n",
    "    c1 = [0]*26\n",
    "    c2 = [0]*26\n",
    "\n",
    "    for i in range(len(s1)):\n",
    "        pos = ord(s1[i])-ord('a')\n",
    "        #print(s1[i], ord(s1[i]), ord('a'))\n",
    "        c1[pos] = c1[pos] + 1\n",
    "\n",
    "    for i in range(len(s2)):\n",
    "        pos = ord(s2[i])-ord('a')\n",
    "        c2[pos] = c2[pos] + 1\n",
    "\n",
    "    j = 0\n",
    "    stillOK = True\n",
    "    while j<26 and stillOK:\n",
    "        if c1[j]==c2[j]:\n",
    "            j = j + 1\n",
    "        else:\n",
    "            stillOK = False\n",
    "\n",
    "    return stillOK\n",
    "\n",
    "\n",
    "%timeit anagramSolution1('abcde','edcba')\n",
    "%timeit anagramSolutionSort('abcde','edcba')\n",
    "%timeit anagramSolutionLinear('apple','pleap')"
   ]
  },
  {
   "cell_type": "code",
   "execution_count": 58,
   "metadata": {
    "collapsed": false
   },
   "outputs": [
    {
     "name": "stdout",
     "output_type": "stream",
     "text": [
      "The slowest run took 4.46 times longer than the fastest. This could mean that an intermediate result is being cached.\n",
      "100000 loops, best of 3: 3.34 µs per loop\n",
      "The slowest run took 7.52 times longer than the fastest. This could mean that an intermediate result is being cached.\n",
      "1000000 loops, best of 3: 539 ns per loop\n",
      "The slowest run took 7.72 times longer than the fastest. This could mean that an intermediate result is being cached.\n",
      "1000000 loops, best of 3: 278 ns per loop\n"
     ]
    }
   ],
   "source": [
    "%timeit findmin(numlist)\n",
    "%timeit findminLin(numlist)\n",
    "%timeit min(numlist)"
   ]
  },
  {
   "cell_type": "code",
   "execution_count": 75,
   "metadata": {
    "collapsed": true
   },
   "outputs": [],
   "source": [
    "i = 10\n",
    "while i > 0:\n",
    "    k = 2 + 2\n",
    "    i = i // 2\n",
    "    "
   ]
  },
  {
   "cell_type": "code",
   "execution_count": 78,
   "metadata": {
    "collapsed": false
   },
   "outputs": [
    {
     "data": {
      "text/plain": [
       "5"
      ]
     },
     "execution_count": 78,
     "metadata": {},
     "output_type": "execute_result"
    }
   ],
   "source": [
    "10//2"
   ]
  },
  {
   "cell_type": "markdown",
   "metadata": {},
   "source": [
    "# Performance of Python Data Structures\n",
    "Now that you have a general idea of Big-O notation and the differences between the different functions, our goal in this section is to tell you about the Big-O performance for the operations on Python lists and dictionaries. We will then show you some timing experiments that illustrate the costs and benefits of using certain operations on each data structure. It is important for you to understand the efficiency of these Python data structures because they are the building blocks we will use as we implement other data structures in the remainder of the book. In this section we are not going to explain why the performance is what it is. In later chapters you will see some possible implementations of both lists and dictionaries and how the performance depends on the implementation.\n",
    "\n",
    "# Lists:\n",
    "- Two common operations are indexing and assigning to an index position. Both of these operations take the same amount of time no matter how large the list becomes. When an operation like this is independent of the size of the list they are O(1)O(1).\n",
    "- Grow a list. The append method is O(1). concatenation operator is O(k) where k is the size of the list that is being concatenated.\n",
    "\n",
    "- Operation\tBig-O Efficiency\n",
    "- index []\tO(1)\n",
    "- index assignment\tO(1)\n",
    "- append\tO(1)\n",
    "- pop()\tO(1)\n",
    "- pop(i)\tO(n)\n",
    "- insert(i,item)\tO(n)\n",
    "- del operator\tO(n)\n",
    "- iteration\tO(n)\n",
    "- contains (in)\tO(n)\n",
    "- get slice [x:y]\tO(k)\n",
    "- del slice\tO(n)\n",
    "- set slice\tO(n+k)\n",
    "- reverse\tO(n)\n",
    "- concatenate\tO(k)\n",
    "- sort\tO(n log n)\n",
    "- multiply\tO(nk)"
   ]
  },
  {
   "cell_type": "code",
   "execution_count": 81,
   "metadata": {
    "collapsed": false
   },
   "outputs": [
    {
     "name": "stdout",
     "output_type": "stream",
     "text": [
      "('concat ', 1.621541976928711, 'milliseconds')\n",
      "('append ', 0.11697888374328613, 'milliseconds')\n",
      "('comprehension ', 0.05675101280212402, 'milliseconds')\n",
      "('list range ', 0.011584043502807617, 'milliseconds')\n"
     ]
    }
   ],
   "source": [
    "def test1():\n",
    "    l = []\n",
    "    for i in range(1000):\n",
    "        l = l + [i]\n",
    "\n",
    "def test2():\n",
    "    l = []\n",
    "    for i in range(1000):\n",
    "        l.append(i)\n",
    "\n",
    "def test3():\n",
    "    l = [i for i in range(1000)]\n",
    "\n",
    "def test4():\n",
    "    l = list(range(1000))\n",
    "\n",
    "    t1 = timeit.Timer(\"test1()\", \"from __main__ import test1\")\n",
    "print(\"concat \",t1.timeit(number=1000), \"milliseconds\")\n",
    "t2 = timeit.Timer(\"test2()\", \"from __main__ import test2\")\n",
    "print(\"append \",t2.timeit(number=1000), \"milliseconds\")\n",
    "t3 = timeit.Timer(\"test3()\", \"from __main__ import test3\")\n",
    "print(\"comprehension \",t3.timeit(number=1000), \"milliseconds\")\n",
    "t4 = timeit.Timer(\"test4()\", \"from __main__ import test4\")\n",
    "print(\"list range \",t4.timeit(number=1000), \"milliseconds\")\n"
   ]
  },
  {
   "cell_type": "code",
   "execution_count": 86,
   "metadata": {
    "collapsed": false
   },
   "outputs": [
    {
     "name": "stdout",
     "output_type": "stream",
     "text": [
      "2.23909807205\n",
      "0.000534057617188\n"
     ]
    }
   ],
   "source": [
    "popzero = timeit.Timer(\"x.pop(0)\",\n",
    "                       \"from __main__ import x\")\n",
    "popend = timeit.Timer(\"x.pop()\",\n",
    "                      \"from __main__ import x\")\n",
    "#has to shift all indexes\n",
    "x = list(range(2000000))\n",
    "print(popzero.timeit(number=1000))\n",
    "\n",
    "\n",
    "x = list(range(2000000))\n",
    "print(popend.timeit(number=1000))\n"
   ]
  },
  {
   "cell_type": "code",
   "execution_count": null,
   "metadata": {
    "collapsed": true
   },
   "outputs": [],
   "source": []
  },
  {
   "cell_type": "markdown",
   "metadata": {},
   "source": [
    "# Dictionaries\n",
    "The second major Python data structure is the dictionary. As you probably recall, dictionaries differ from lists in that you can access items in a dictionary by a key rather than a position. Later in this book you will see that there are many ways to implement a dictionary. The thing that is most important to notice right now is that the get item and set item operations on a dictionary are O(1)O(1). Another important dictionary operation is the contains operation. Checking to see whether a key is in the dictionary or not is also O(1)O(1). The efficiency of all dictionary operations is summarized in Table 3. One important side note on dictionary performance is that the efficiencies we provide in the table are for average performance. In some rare cases the contains, get item, and set item operations can degenerate into O(n)O(n) performance but we will get into that in a later chapter when we talk about the different ways that a dictionary could be implemented.\n",
    "\n",
    "- operation\tBig-O Efficiency\n",
    "- copy\tO(n)\n",
    "- get item\tO(1)\n",
    "- set item\tO(1)\n",
    "- delete item\tO(1)\n",
    "- contains (in)\tO(1)\n",
    "- iteration\tO(n)"
   ]
  },
  {
   "cell_type": "code",
   "execution_count": 88,
   "metadata": {
    "collapsed": false
   },
   "outputs": [],
   "source": [
    "import random\n",
    "\n",
    "for i in range(10000,1000001,20000):\n",
    "    t = timeit.Timer(\"random.randrange(%d) in x\"%i,\n",
    "                     \"from __main__ import random,x\")\n",
    "    x = list(range(i))\n",
    "    lst_time = t.timeit(number=1000)\n",
    "    x = {j:None for j in range(i)}\n",
    "    d_time = t.timeit(number=1000)\n",
    "    #print(\"%d,%10.3f,%10.3f\" % (i, lst_time, d_time))\n",
    "    \n",
    "    #dictionaries stay constant!"
   ]
  },
  {
   "cell_type": "code",
   "execution_count": 91,
   "metadata": {
    "collapsed": false
   },
   "outputs": [
    {
     "data": {
      "text/plain": [
       "3"
      ]
     },
     "execution_count": 91,
     "metadata": {},
     "output_type": "execute_result"
    }
   ],
   "source": [
    "#k min in unsorted list\n",
    "def kthSmallest(list1, k):\n",
    "    \n",
    "    list1.sort() #O(nlogn)\n",
    " \n",
    "    return list1[k-1]\n",
    "\n",
    "kthSmallest([0,2,3,4,5], 3)"
   ]
  },
  {
   "cell_type": "markdown",
   "metadata": {},
   "source": [
    "# Sorting!"
   ]
  },
  {
   "cell_type": "code",
   "execution_count": 5,
   "metadata": {
    "collapsed": false
   },
   "outputs": [
    {
     "name": "stdout",
     "output_type": "stream",
     "text": [
      "[17, 20, 26, 31, 44, 54, 55, 77, 93]\n"
     ]
    }
   ],
   "source": [
    "#inplace (O(n))\n",
    "def quickSort(alist):\n",
    "    quickSortHelper(alist,0,len(alist)-1)\n",
    "\n",
    "def quickSortHelper(alist,first,last):\n",
    "    if first<last:\n",
    "\n",
    "        splitpoint = partition(alist,first,last)\n",
    "\n",
    "        quickSortHelper(alist,first,splitpoint-1)\n",
    "        quickSortHelper(alist,splitpoint+1,last)\n",
    "\n",
    "\n",
    "def partition(alist,first,last):\n",
    "    pivotvalue = alist[first]\n",
    "\n",
    "    leftmark = first+1\n",
    "    rightmark = last\n",
    "\n",
    "    done = False\n",
    "    while not done:\n",
    "\n",
    "        while leftmark <= rightmark and alist[leftmark] <= pivotvalue:\n",
    "            leftmark = leftmark + 1\n",
    "\n",
    "        while alist[rightmark] >= pivotvalue and rightmark >= leftmark:\n",
    "            rightmark = rightmark -1\n",
    "\n",
    "        if rightmark < leftmark:\n",
    "            done = True\n",
    "        else:\n",
    "            temp = alist[leftmark]\n",
    "            alist[leftmark] = alist[rightmark]\n",
    "            alist[rightmark] = temp\n",
    "\n",
    "    temp = alist[first]\n",
    "    alist[first] = alist[rightmark]\n",
    "    alist[rightmark] = temp\n",
    "\n",
    "\n",
    "    return rightmark\n",
    "\n",
    "alist = [54,26,93,17,77,31,44,55,20]\n",
    "quickSort(alist)\n",
    "print(alist)"
   ]
  },
  {
   "cell_type": "markdown",
   "metadata": {},
   "source": [
    "# Stacks\n",
    "- The Stack Abstract Data Type\n",
    "The stack abstract data type is defined by the following structure and operations. A stack is structured, as described above, as an ordered collection of items where items are added to and removed from the end called the “top.” Stacks are ordered LIFO. The stack operations are given below.\n",
    "\n",
    "- Stack() creates a new stack that is empty. It needs no parameters and returns an empty stack.\n",
    "- push(item) adds a new item to the top of the stack. It needs the item and returns nothing.\n",
    "- pop() removes the top item from the stack. It needs no parameters and returns the item. The stack is modified.\n",
    "- peek() returns the top item from the stack but does not remove it. It needs no parameters. The stack is not modified.\n",
    "- isEmpty() tests to see whether the stack is empty. It needs no parameters and returns a boolean value.\n",
    "- size() returns the number of items on the stack. It needs no parameters and returns an integer.\n",
    "\n",
    "\n",
    "- Stack Operation\tStack Contents\tReturn Value\n",
    "- s.isEmpty()\t[]\tTrue\n",
    "- s.push(4)\t[4]\t \n",
    "- s.push('dog')\t[4,'dog']\t \n",
    "- s.peek()\t[4,'dog']\t'dog'\n",
    "- s.push(True)\t[4,'dog',True]\t \n",
    "- s.size()\t[4,'dog',True]\t3\n",
    "- s.isEmpty()\t[4,'dog',True]\tFalse\n",
    "- s.push(8.4)\t[4,'dog',True,8.4]\t \n",
    "- s.pop()\t[4,'dog',True]\t8.4\n",
    "- s.pop()\t[4,'dog']\tTrue\n",
    "- s.size()\t[4,'dog']\t2"
   ]
  },
  {
   "cell_type": "code",
   "execution_count": 7,
   "metadata": {
    "collapsed": false
   },
   "outputs": [
    {
     "data": {
      "text/plain": [
       "'class Stack:\\n    def __init__(self):\\n        self.items = []\\n\\n    def isEmpty(self):\\n         return self.items == []\\n\\n    def push(self, item):\\n         self.items.append(item)\\n\\n    def pop(self):\\n         return self.items.pop()\\n\\n    def peek(self):\\n         return self.items[len(self.items)-1]\\n\\n    def size(self):\\n         return len(self.items)\\n         '"
      ]
     },
     "execution_count": 7,
     "metadata": {},
     "output_type": "execute_result"
    }
   ],
   "source": [
    "'''class Stack:\n",
    "    def __init__(self):\n",
    "        self.items = []\n",
    "\n",
    "    def isEmpty(self):\n",
    "         return self.items == []\n",
    "\n",
    "    def push(self, item):\n",
    "         self.items.append(item)\n",
    "\n",
    "    def pop(self):\n",
    "         return self.items.pop()\n",
    "\n",
    "    def peek(self):\n",
    "         return self.items[len(self.items)-1]\n",
    "\n",
    "    def size(self):\n",
    "         return len(self.items)\n",
    "         '''"
   ]
  },
  {
   "cell_type": "code",
   "execution_count": 73,
   "metadata": {
    "collapsed": false
   },
   "outputs": [],
   "source": [
    "import stack_S as this\n",
    "this = reload(this)"
   ]
  },
  {
   "cell_type": "code",
   "execution_count": 65,
   "metadata": {
    "collapsed": false
   },
   "outputs": [
    {
     "data": {
      "text/plain": [
       "4"
      ]
     },
     "execution_count": 65,
     "metadata": {},
     "output_type": "execute_result"
    }
   ],
   "source": [
    "s.push(4)\n",
    "s.pop()"
   ]
  },
  {
   "cell_type": "code",
   "execution_count": 74,
   "metadata": {
    "collapsed": false
   },
   "outputs": [
    {
     "name": "stdout",
     "output_type": "stream",
     "text": [
      "True\n",
      "dog\n",
      "3\n",
      "False\n",
      "8.4\n",
      "True\n",
      "2\n"
     ]
    }
   ],
   "source": [
    "s=stack.Stack()\n",
    "\n",
    "print(s.isEmpty())\n",
    "s.push(4)\n",
    "s.push('dog')\n",
    "print(s.peek())\n",
    "s.push(True)\n",
    "print(s.size())\n",
    "print(s.isEmpty())\n",
    "s.push(8.4)\n",
    "print(s.pop())\n",
    "print(s.pop())\n",
    "print(s.size())"
   ]
  },
  {
   "cell_type": "code",
   "execution_count": 76,
   "metadata": {
    "collapsed": false
   },
   "outputs": [
    {
     "name": "stdout",
     "output_type": "stream",
     "text": [
      "['dog', 4]\n",
      "[4, 'dog']\n",
      "['dog', 4]\n"
     ]
    }
   ],
   "source": [
    "print s.items\n",
    "s.reverse_stack()\n",
    "print s.items\n",
    "s.reverse_stack()\n",
    "print s.items"
   ]
  },
  {
   "cell_type": "code",
   "execution_count": 77,
   "metadata": {
    "collapsed": false
   },
   "outputs": [
    {
     "name": "stdout",
     "output_type": "stream",
     "text": [
      "elppa\n"
     ]
    }
   ],
   "source": [
    "print stack.revstring('apple')"
   ]
  },
  {
   "cell_type": "code",
   "execution_count": 78,
   "metadata": {
    "collapsed": false
   },
   "outputs": [
    {
     "name": "stdout",
     "output_type": "stream",
     "text": [
      "10\n",
      "100\n",
      "31\n"
     ]
    }
   ],
   "source": [
    "print(stack.baseConverter(26,26))\n",
    "print(stack.baseConverter(256,16))\n",
    "print(stack.baseConverter(25,8))"
   ]
  },
  {
   "cell_type": "markdown",
   "metadata": {},
   "source": [
    "# The Queue Abstract Data Type\n",
    "The queue abstract data type is defined by the following structure and operations. A queue is structured, as described above, as an ordered collection of items which are added at one end, called the “rear,” and removed from the other end, called the “front.” Queues maintain a FIFO ordering property. The queue operations are given below.\n",
    "\n",
    "- - Queue() creates a new queue that is empty. It needs no parameters and returns an empty queue.\n",
    "- -  enqueue(item) adds a new item to the rear of the queue. It needs the item and returns nothing.\n",
    "- - dequeue() removes the front item from the queue. It needs no parameters and returns the item. The queue is modified.\n",
    "- - isEmpty() tests to see whether the queue is empty. It needs no parameters and returns a boolean value.\n",
    "- - size() returns the number of items in the queue. It needs no parameters and returns an integer.\n",
    "\n",
    "As an example, if we assume that q is a queue that has been created and is currently empty, then Table 1 shows the results of a sequence of queue operations. The queue contents are shown such that the front is on the right. 4 was the first item enqueued so it is the first item returned by dequeue.\n",
    "\n",
    "- Queue Operation\tQueue Contents\tReturn Value\n",
    "- q.isEmpty()\t[]\tTrue\n",
    "- q.enqueue(4)\t[4]\t \n",
    "- q.enqueue('dog')\t['dog',4]\t \n",
    "- q.enqueue(True)\t[True,'dog',4]\t \n",
    "- q.size()\t[True,'dog',4]\t3\n",
    "- q.isEmpty()\t[True,'dog',4]\tFalse\n",
    "- q.enqueue(8.4)\t[8.4,True,'dog',4]\t \n",
    "- q.dequeue()\t[8.4,True,'dog']\t4\n",
    "- q.dequeue()\t[8.4,True]\t'dog'\n",
    "- q.size()\t[8.4,True]\t2"
   ]
  },
  {
   "cell_type": "code",
   "execution_count": 251,
   "metadata": {
    "collapsed": true
   },
   "outputs": [],
   "source": [
    "import queues as q\n",
    "q = reload(q)"
   ]
  },
  {
   "cell_type": "code",
   "execution_count": 208,
   "metadata": {
    "collapsed": false
   },
   "outputs": [],
   "source": [
    "myq = q.Queue()"
   ]
  },
  {
   "cell_type": "code",
   "execution_count": 209,
   "metadata": {
    "collapsed": false
   },
   "outputs": [
    {
     "name": "stdout",
     "output_type": "stream",
     "text": [
      "[2, 3, 4]\n"
     ]
    }
   ],
   "source": [
    "myq.enqueue(4)\n",
    "myq.enqueue(3)\n",
    "myq.enqueue(2)\n",
    "print myq.items"
   ]
  },
  {
   "cell_type": "code",
   "execution_count": 211,
   "metadata": {
    "collapsed": false
   },
   "outputs": [
    {
     "data": {
      "text/plain": [
       "'Susan'"
      ]
     },
     "execution_count": 211,
     "metadata": {},
     "output_type": "execute_result"
    }
   ],
   "source": [
    "myq.dequeue()\n",
    "myq.items\n",
    "\n",
    "q.hotPotato([\"Bill\",\"David\",\"Susan\",\"Jane\",\"Kent\",\"Brad\"],7)"
   ]
  },
  {
   "cell_type": "code",
   "execution_count": 214,
   "metadata": {
    "collapsed": true
   },
   "outputs": [],
   "source": [
    "import printer_sim"
   ]
  },
  {
   "cell_type": "code",
   "execution_count": 216,
   "metadata": {
    "collapsed": false
   },
   "outputs": [
    {
     "name": "stdout",
     "output_type": "stream",
     "text": [
      "Average Wait 257.00 secs   1 tasks remaining.\n",
      "Average Wait 134.00 secs   0 tasks remaining.\n",
      "Average Wait  83.00 secs   1 tasks remaining.\n",
      "Average Wait 143.00 secs   1 tasks remaining.\n",
      "Average Wait  63.00 secs   0 tasks remaining.\n",
      "Average Wait  56.00 secs   3 tasks remaining.\n",
      "Average Wait 404.00 secs   6 tasks remaining.\n",
      "Average Wait  91.00 secs   0 tasks remaining.\n",
      "Average Wait 178.00 secs   1 tasks remaining.\n",
      "Average Wait  42.00 secs   0 tasks remaining.\n"
     ]
    }
   ],
   "source": [
    "printer_sim.runSimulation()"
   ]
  },
  {
   "cell_type": "code",
   "execution_count": 252,
   "metadata": {
    "collapsed": false
   },
   "outputs": [
    {
     "name": "stdout",
     "output_type": "stream",
     "text": [
      "[3, 99]\n"
     ]
    },
    {
     "data": {
      "text/plain": [
       "[33333, 3, 99]"
      ]
     },
     "execution_count": 252,
     "metadata": {},
     "output_type": "execute_result"
    }
   ],
   "source": [
    "d = q.Deque()\n",
    "d.addFront(3)\n",
    "d.addFront(99)\n",
    "print d.items\n",
    "d.addRear(33333)\n",
    "d.items"
   ]
  },
  {
   "cell_type": "code",
   "execution_count": 253,
   "metadata": {
    "collapsed": false
   },
   "outputs": [
    {
     "data": {
      "text/plain": [
       "True"
      ]
     },
     "execution_count": 253,
     "metadata": {},
     "output_type": "execute_result"
    }
   ],
   "source": [
    "q.palchecker('gooddoog')"
   ]
  },
  {
   "cell_type": "markdown",
   "metadata": {
    "collapsed": true
   },
   "source": [
    "# Linked List, unordered list\n",
    "\n",
    "'''The basic building block for the linked list implementation is the node. Each node object must hold at least two pieces of information. First, the node must contain the list item itself. We will call this the data field of the node. In addition, each node must hold a reference to the next node'''\n",
    "\n",
    "the unordered list will be built from a collection of nodes, each linked to the next by explicit references. As long as we know where to find the first node (containing the first item), each item after that can be found by successively following the next links. With this in mind, the UnorderedList class must maintain a reference to the first node.\n"
   ]
  },
  {
   "cell_type": "code",
   "execution_count": 3,
   "metadata": {
    "collapsed": true
   },
   "outputs": [],
   "source": [
    "class Node:\n",
    "    def __init__(self,initdata):\n",
    "        self.data = initdata\n",
    "        self.next = None\n",
    "\n",
    "    def getData(self):\n",
    "        return self.data\n",
    "\n",
    "    def getNext(self):\n",
    "        return self.next\n",
    "\n",
    "    def setData(self,newdata):\n",
    "        self.data = newdata\n",
    "\n",
    "    def setNext(self,newnext):\n",
    "        self.next = newnext"
   ]
  },
  {
   "cell_type": "code",
   "execution_count": 218,
   "metadata": {
    "collapsed": false
   },
   "outputs": [
    {
     "data": {
      "text/plain": [
       "93"
      ]
     },
     "execution_count": 218,
     "metadata": {},
     "output_type": "execute_result"
    }
   ],
   "source": [
    "temp = Node(93)\n",
    "temp.getData()"
   ]
  },
  {
   "cell_type": "code",
   "execution_count": 39,
   "metadata": {
    "collapsed": false
   },
   "outputs": [
    {
     "name": "stdout",
     "output_type": "stream",
     "text": [
      "[54, 26, 93, 17, 77, 31]\n",
      "[54, 26, 93, 17, 77, 31, 99]\n",
      "0\n",
      "1\n",
      "2\n",
      "3\n",
      "4\n",
      "5\n",
      "6\n",
      "[54, 26, 17, 77, 31, 99]\n",
      "[54, 26, 17, 77, 99]\n",
      "[54, 26, 17, 77]\n",
      "[26, 17, 77]\n",
      "('add 2 to 1st', [26, 17, 77])\n",
      "('add to 4  head', [4, 26, 17, 77])\n",
      "77\n",
      "('add 7 to 4', [4, 26, 17, 7, 77])\n",
      "('add 88 to end', [4, 26, 17, 7, 77, 88])\n",
      "88\n",
      "('add 88 to end', [4, 26, 17, 7, 77, 9000, 88])\n"
     ]
    }
   ],
   "source": [
    "import linkedlist\n",
    "linkedlist = reload(linkedlist)\n",
    "mylist = linkedlist.UnorderedList()\n",
    "\n",
    "mylist.add(31)\n",
    "mylist.add(77)\n",
    "mylist.add(17)\n",
    "mylist.add(93)\n",
    "mylist.add(26)\n",
    "mylist.add(54)\n",
    "print(mylist.printme())\n",
    "mylist.append(99)\n",
    "print(mylist.printme())\n",
    "print(mylist.index(54))\n",
    "print(mylist.index(26))\n",
    "print(mylist.index(93))\n",
    "print(mylist.index(17))\n",
    "print(mylist.index(77))\n",
    "print(mylist.index(31))\n",
    "print(mylist.index(99))\n",
    "mylist.pop(2)\n",
    "print(mylist.printme())\n",
    "mylist.pop(4)\n",
    "print(mylist.printme())\n",
    "mylist.pop(6)\n",
    "print(mylist.printme())\n",
    "mylist.pop(0)\n",
    "print(mylist.printme())\n",
    "mylist.insert(1,2)\n",
    "print('add 2 to 1st', mylist.printme())\n",
    "mylist.insert(0,4)\n",
    "print('add to 4  head',mylist.printme())\n",
    "mylist.insert(4,7)\n",
    "print('add 7 to 4', mylist.printme())\n",
    "mylist.append(88)\n",
    "print('add 88 to end', mylist.printme())\n",
    "mylist.insert(8,9000)\n",
    "print('add 88 to end', mylist.printme())"
   ]
  },
  {
   "cell_type": "code",
   "execution_count": 36,
   "metadata": {
    "collapsed": false
   },
   "outputs": [
    {
     "name": "stdout",
     "output_type": "stream",
     "text": [
      "[4, 26, 17, 7, 77, 9000, 88]\n"
     ]
    }
   ],
   "source": [
    "print(mylist.printme())"
   ]
  },
  {
   "cell_type": "code",
   "execution_count": 37,
   "metadata": {
    "collapsed": false
   },
   "outputs": [
    {
     "data": {
      "text/plain": [
       "False"
      ]
     },
     "execution_count": 37,
     "metadata": {},
     "output_type": "execute_result"
    }
   ],
   "source": [
    "mylist.isEmpty()"
   ]
  },
  {
   "cell_type": "code",
   "execution_count": 38,
   "metadata": {
    "collapsed": false
   },
   "outputs": [
    {
     "data": {
      "text/plain": [
       "7"
      ]
     },
     "execution_count": 38,
     "metadata": {},
     "output_type": "execute_result"
    }
   ],
   "source": [
    "mylist.size()"
   ]
  },
  {
   "cell_type": "code",
   "execution_count": 259,
   "metadata": {
    "collapsed": true
   },
   "outputs": [],
   "source": [
    "mylist.add(10)"
   ]
  },
  {
   "cell_type": "code",
   "execution_count": 260,
   "metadata": {
    "collapsed": false
   },
   "outputs": [
    {
     "data": {
      "text/plain": [
       "True"
      ]
     },
     "execution_count": 260,
     "metadata": {},
     "output_type": "execute_result"
    }
   ],
   "source": [
    "mylist.search(10)"
   ]
  },
  {
   "cell_type": "code",
   "execution_count": 261,
   "metadata": {
    "collapsed": true
   },
   "outputs": [],
   "source": [
    "mylist.remove(10)"
   ]
  },
  {
   "cell_type": "code",
   "execution_count": 262,
   "metadata": {
    "collapsed": false
   },
   "outputs": [
    {
     "data": {
      "text/plain": [
       "4"
      ]
     },
     "execution_count": 262,
     "metadata": {},
     "output_type": "execute_result"
    }
   ],
   "source": [
    "mylist.size()"
   ]
  },
  {
   "cell_type": "code",
   "execution_count": 263,
   "metadata": {
    "collapsed": true
   },
   "outputs": [],
   "source": [
    "#The remaining methods append, insert, index, and pop are left as exercises. \n",
    "#Remember that each of these must take into account whether the change is taking place at the head of the list or \n",
    "#someplace else. \n",
    "#Also, insert, index, and pop require that we name the positions of the list. \n",
    "#We will assume that position names are integers starting with 0."
   ]
  },
  {
   "cell_type": "code",
   "execution_count": null,
   "metadata": {
    "collapsed": true
   },
   "outputs": [],
   "source": []
  },
  {
   "cell_type": "markdown",
   "metadata": {},
   "source": [
    "# Ordered List!\n",
    "The structure of an ordered list is a collection of items where each item holds a relative position that is based upon some underlying characteristic of the item. The ordering is typically either ascending or descending and we assume that list items have a meaningful comparison operation that is already defined. Many of the ordered list operations are the same as those of the unordered list.\n",
    "The structure of an ordered list is a collection of items where each item holds a relative position that is based upon some underlying characteristic of the item. The ordering is typically either ascending or descending and we assume that list items have a meaningful comparison operation that is already defined. Many of the ordered list operations are the same as those of the unordered list.\n",
    "\n",
    "- - OrderedList() creates a new ordered list that is empty\\\n",
    "- - add(item) adds a new item to the list making sure that the order is preserved\n",
    "- - remove(item) removes the item from the list. It needs the item and modifies the list. Assume the item is present in the list.\n",
    "- - search(item) searches for the item in the list.\n",
    "- - isEmpty() tests to see whether the list is empty\n",
    "- - size() returns the number of items in the list. \n",
    "- - index(item) returns the position of item in the list.\n",
    "- - pop() removes and returns the last item in the list. \n",
    "- - pop(pos) removes and returns the item at position pos. It needs the position and returns the item."
   ]
  },
  {
   "cell_type": "code",
   "execution_count": 229,
   "metadata": {
    "collapsed": false
   },
   "outputs": [],
   "source": [
    "class OrderedList:\n",
    "    def __init__(self):\n",
    "        self.head = None\n",
    "    \n",
    "    def isEmpty(self):\n",
    "        return self.head == None\n",
    "    \n",
    "    def search(self,item):\n",
    "        current = self.head\n",
    "        found = False\n",
    "        stop = False\n",
    "        while current != None and not found and not stop:\n",
    "            if current.getData() == item:\n",
    "                found = True\n",
    "            else:\n",
    "                if current.getData() > item:\n",
    "                    stop = True\n",
    "                else:\n",
    "                    current = current.getNext()\n",
    "\n",
    "        return found\n",
    "    \n",
    "    def add(self,item):\n",
    "        current = self.head\n",
    "        previous = None\n",
    "        stop = False\n",
    "        while current != None and not stop:\n",
    "            if current.getData() > item:\n",
    "                stop = True\n",
    "            else:\n",
    "                previous = current\n",
    "                current = current.getNext()\n",
    "\n",
    "        temp = Node(item)\n",
    "        if previous == None:\n",
    "            temp.setNext(self.head)\n",
    "            self.head = temp\n",
    "        else:\n",
    "            temp.setNext(current)\n",
    "            previous.setNext(temp)\n",
    "    \n",
    "    def size(self):\n",
    "        current = self.head\n",
    "        count = 0\n",
    "        while current != None:\n",
    "            count = count + 1\n",
    "            current = current.getNext()\n",
    "\n",
    "        return count\n",
    "    \n",
    "    def remove(self,item):\n",
    "        current = self.head\n",
    "        previous = None\n",
    "        found = False\n",
    "        while not found:\n",
    "            if current.getData() == item:\n",
    "                found = True\n",
    "            else:\n",
    "                previous = current\n",
    "                current = current.getNext()\n",
    "\n",
    "        if previous == None:\n",
    "            self.head = current.getNext()\n",
    "        else:\n",
    "            previous.setNext(current.getNext())\n"
   ]
  },
  {
   "cell_type": "code",
   "execution_count": 230,
   "metadata": {
    "collapsed": true
   },
   "outputs": [],
   "source": [
    "ordered = OrderedList()"
   ]
  },
  {
   "cell_type": "code",
   "execution_count": 231,
   "metadata": {
    "collapsed": false
   },
   "outputs": [
    {
     "data": {
      "text/plain": [
       "0"
      ]
     },
     "execution_count": 231,
     "metadata": {},
     "output_type": "execute_result"
    }
   ],
   "source": [
    "ordered.size()"
   ]
  },
  {
   "cell_type": "code",
   "execution_count": 232,
   "metadata": {
    "collapsed": false
   },
   "outputs": [
    {
     "data": {
      "text/plain": [
       "True"
      ]
     },
     "execution_count": 232,
     "metadata": {},
     "output_type": "execute_result"
    }
   ],
   "source": [
    "ordered.isEmpty()"
   ]
  },
  {
   "cell_type": "code",
   "execution_count": 233,
   "metadata": {
    "collapsed": false
   },
   "outputs": [],
   "source": [
    "ordered.add(5)\n",
    "ordered.add(4)\n",
    "ordered.add(6)"
   ]
  },
  {
   "cell_type": "code",
   "execution_count": 234,
   "metadata": {
    "collapsed": false
   },
   "outputs": [
    {
     "data": {
      "text/plain": [
       "3"
      ]
     },
     "execution_count": 234,
     "metadata": {},
     "output_type": "execute_result"
    }
   ],
   "source": [
    "ordered.size()"
   ]
  },
  {
   "cell_type": "code",
   "execution_count": 235,
   "metadata": {
    "collapsed": false
   },
   "outputs": [],
   "source": [
    "ordered.remove(4)"
   ]
  },
  {
   "cell_type": "code",
   "execution_count": null,
   "metadata": {
    "collapsed": false
   },
   "outputs": [],
   "source": []
  },
  {
   "cell_type": "code",
   "execution_count": 236,
   "metadata": {
    "collapsed": false
   },
   "outputs": [],
   "source": [
    "def binary_search(myOrderedArray, item):\n",
    "    '''\n",
    "    : param myOrderedList ordered python array/list of comparable items (chars, integers, floats...): \n",
    "    : param item python object : \n",
    "    : returns boolean True if item found in list, False otherwise\n",
    "    '''\n",
    "    first = 0\n",
    "    last = len(myOrderedArray)-1\n",
    "    found = False\n",
    "    i = 0\n",
    "    while (first <= last) and (not found):\n",
    "        midpoint = (first + last) // 2 #floor function\n",
    "        \n",
    "        if myOrderedArray[midpoint] == item:\n",
    "            print('found it'), i\n",
    "            found = True\n",
    "        \n",
    "        else:\n",
    "            i  =+1\n",
    "            if item < myOrderedArray[midpoint]:\n",
    "                last = midpoint - 1\n",
    "            else :\n",
    "                first = midpoint + 1\n",
    "    return found, 'Took %d times'%i"
   ]
  },
  {
   "cell_type": "code",
   "execution_count": 237,
   "metadata": {
    "collapsed": false
   },
   "outputs": [],
   "source": [
    "mylist = [3,5,6,19, 23, 24]\n",
    "\n"
   ]
  },
  {
   "cell_type": "code",
   "execution_count": 238,
   "metadata": {
    "collapsed": false
   },
   "outputs": [
    {
     "name": "stdout",
     "output_type": "stream",
     "text": [
      "found it 1\n"
     ]
    },
    {
     "data": {
      "text/plain": [
       "(False, 'Took 1 times')"
      ]
     },
     "execution_count": 238,
     "metadata": {},
     "output_type": "execute_result"
    }
   ],
   "source": [
    "binary_search(mylist, 19)\n",
    "binary_search(mylist, 0)\n",
    "binary_search(mylist, 4)"
   ]
  },
  {
   "cell_type": "code",
   "execution_count": 239,
   "metadata": {
    "collapsed": true
   },
   "outputs": [],
   "source": [
    "def quickSort(alist):\n",
    "    '''QUICKSORT O(n): memory: inplace'''\n",
    "    \n",
    "    quickSortHelper(alist,0,len(alist)-1)\n",
    "\n",
    "def quickSortHelper(alist,first,last):\n",
    "    if first<last:\n",
    "\n",
    "        splitpoint = partition(alist,first,last)\n",
    "\n",
    "        quickSortHelper(alist,first,splitpoint-1)\n",
    "        quickSortHelper(alist,splitpoint+1,last)\n",
    "\n",
    "def partition(alist,first,last):\n",
    "    \n",
    "    pivotvalue = alist[first]\n",
    "\n",
    "    leftmark = first+1\n",
    "    rightmark = last\n",
    "\n",
    "    done = False\n",
    "    \n",
    "    while not done:\n",
    "\n",
    "        while leftmark <= rightmark and alist[leftmark] <= pivotvalue:\n",
    "            leftmark = leftmark + 1\n",
    "\n",
    "        while alist[rightmark] >= pivotvalue and rightmark >= leftmark:\n",
    "            rightmark = rightmark -1\n",
    "\n",
    "        if rightmark < leftmark:\n",
    "            done = True\n",
    "        else:\n",
    "            temp = alist[leftmark], alist[rightmark] = alist[rightmark], alist[left]\n",
    "            \n",
    "\n",
    "    alist[first], alist[rightmark] = alist[rightmark], alist[first]\n",
    "\n",
    "\n",
    "    return rightmark"
   ]
  },
  {
   "cell_type": "code",
   "execution_count": 240,
   "metadata": {
    "collapsed": true
   },
   "outputs": [],
   "source": [
    "quickSort(mylist)"
   ]
  },
  {
   "cell_type": "code",
   "execution_count": 241,
   "metadata": {
    "collapsed": false
   },
   "outputs": [],
   "source": [
    "mylist.reverse()"
   ]
  },
  {
   "cell_type": "code",
   "execution_count": 242,
   "metadata": {
    "collapsed": false
   },
   "outputs": [
    {
     "data": {
      "text/plain": [
       "[3, 5, 6, 19, 23, 24]"
      ]
     },
     "execution_count": 242,
     "metadata": {},
     "output_type": "execute_result"
    }
   ],
   "source": [
    "mylist = list(mylist)\n",
    "mylist.reverse()\n",
    "mylist"
   ]
  },
  {
   "cell_type": "code",
   "execution_count": 243,
   "metadata": {
    "collapsed": false
   },
   "outputs": [
    {
     "name": "stdout",
     "output_type": "stream",
     "text": [
      "[3, 5, 6, 19, 23, 24]\n"
     ]
    },
    {
     "data": {
      "text/plain": [
       "[3, 5, 6, 19, 23, 24]"
      ]
     },
     "execution_count": 243,
     "metadata": {},
     "output_type": "execute_result"
    }
   ],
   "source": [
    "print mylist\n",
    "quickSort(mylist)\n",
    "mylist"
   ]
  },
  {
   "cell_type": "code",
   "execution_count": null,
   "metadata": {
    "collapsed": true
   },
   "outputs": [],
   "source": [
    "\n",
    "    \n",
    "        \n",
    "                \n",
    "                "
   ]
  },
  {
   "cell_type": "code",
   "execution_count": 244,
   "metadata": {
    "collapsed": false
   },
   "outputs": [
    {
     "name": "stdout",
     "output_type": "stream",
     "text": [
      "[0, 5, 1, 44, 23, 78]\n",
      "[0, 5, 1]\n",
      "[0]\n",
      "[5, 1]\n",
      "[5]\n",
      "[1]\n",
      "('Merging ', [1, 5])\n",
      "('Merging ', [0, 1, 5])\n",
      "[44, 23, 78]\n",
      "[44]\n",
      "[23, 78]\n",
      "[23]\n",
      "[78]\n",
      "('Merging ', [23, 78])\n",
      "('Merging ', [23, 44, 78])\n",
      "('Merging ', [0, 1, 5, 23, 44, 78])\n"
     ]
    }
   ],
   "source": [
    "mylist = [0,5,1,44,23,78]\n",
    "mergeSort(mylist)\n"
   ]
  },
  {
   "cell_type": "code",
   "execution_count": 245,
   "metadata": {
    "collapsed": false
   },
   "outputs": [
    {
     "data": {
      "text/plain": [
       "[0, 1, 5, 23, 44, 78]"
      ]
     },
     "execution_count": 245,
     "metadata": {},
     "output_type": "execute_result"
    }
   ],
   "source": [
    "mylist"
   ]
  },
  {
   "cell_type": "code",
   "execution_count": 246,
   "metadata": {
    "collapsed": true
   },
   "outputs": [],
   "source": [
    "def mergeSort(alist):\n",
    "    print(\"Splitting \",alist)\n",
    "    if len(alist)>1:\n",
    "        mid = len(alist)//2\n",
    "        lefthalf = alist[:mid]\n",
    "        righthalf = alist[mid:]\n",
    "\n",
    "        mergeSort(lefthalf)\n",
    "        mergeSort(righthalf)\n",
    "\n",
    "        i=0\n",
    "        j=0\n",
    "        k=0\n",
    "        while i < len(lefthalf) and j < len(righthalf):\n",
    "            if lefthalf[i] < righthalf[j]:\n",
    "                alist[k]=lefthalf[i]\n",
    "                i=i+1\n",
    "            else:\n",
    "                alist[k]=righthalf[j]\n",
    "                j=j+1\n",
    "            k=k+1\n",
    "\n",
    "        while i < len(lefthalf):\n",
    "            alist[k]=lefthalf[i]\n",
    "            i=i+1\n",
    "            k=k+1\n",
    "\n",
    "        while j < len(righthalf):\n",
    "            alist[k]=righthalf[j]\n",
    "            j=j+1\n",
    "            k=k+1\n",
    "    print(\"Merging \",alist)"
   ]
  },
  {
   "cell_type": "code",
   "execution_count": 247,
   "metadata": {
    "collapsed": false
   },
   "outputs": [
    {
     "name": "stdout",
     "output_type": "stream",
     "text": [
      "('Splitting ', [2, 6, 13, 5, 4, 1, 7, 9, 0])\n",
      "('Splitting ', [2, 6, 13, 5])\n",
      "('Splitting ', [2, 6])\n",
      "('Splitting ', [2])\n",
      "('Merging ', [2])\n",
      "('Splitting ', [6])\n",
      "('Merging ', [6])\n",
      "('Merging ', [2, 6])\n",
      "('Splitting ', [13, 5])\n",
      "('Splitting ', [13])\n",
      "('Merging ', [13])\n",
      "('Splitting ', [5])\n",
      "('Merging ', [5])\n",
      "('Merging ', [5, 13])\n",
      "('Merging ', [2, 5, 6, 13])\n",
      "('Splitting ', [4, 1, 7, 9, 0])\n",
      "('Splitting ', [4, 1])\n",
      "('Splitting ', [4])\n",
      "('Merging ', [4])\n",
      "('Splitting ', [1])\n",
      "('Merging ', [1])\n",
      "('Merging ', [1, 4])\n",
      "('Splitting ', [7, 9, 0])\n",
      "('Splitting ', [7])\n",
      "('Merging ', [7])\n",
      "('Splitting ', [9, 0])\n",
      "('Splitting ', [9])\n",
      "('Merging ', [9])\n",
      "('Splitting ', [0])\n",
      "('Merging ', [0])\n",
      "('Merging ', [0, 9])\n",
      "('Merging ', [0, 7, 9])\n",
      "('Merging ', [0, 1, 4, 7, 9])\n",
      "('Merging ', [0, 1, 2, 4, 5, 6, 7, 9, 13])\n"
     ]
    }
   ],
   "source": [
    "mergeSort([2,6,13, 5,4,1,7,9,0])"
   ]
  },
  {
   "cell_type": "code",
   "execution_count": 43,
   "metadata": {
    "collapsed": false
   },
   "outputs": [],
   "source": [
    "def bubbleSort(alist):\n",
    "    for passnum in range(len(alist)-1,0,-1):\n",
    "        for i in range(passnum):\n",
    "            if alist[i]>alist[i+1]:\n",
    "                temp = alist[i]\n",
    "                alist[i] = alist[i+1]\n",
    "                alist[i+1] = temp\n",
    "def shortBubbleSort(alist):\n",
    "    exchanges = True\n",
    "    passnum = len(alist)-1\n",
    "    while passnum > 0 and exchanges:\n",
    "        exchanges = False\n",
    "        for i in range(passnum):\n",
    "            if alist[i]>alist[i+1]:\n",
    "                exchanges = True\n",
    "                temp = alist[i]\n",
    "                alist[i] = alist[i+1]\n",
    "                alist[i+1] = temp\n",
    "        passnum = passnum-1\n",
    "    "
   ]
  },
  {
   "cell_type": "code",
   "execution_count": 44,
   "metadata": {
    "collapsed": false
   },
   "outputs": [
    {
     "name": "stdout",
     "output_type": "stream",
     "text": [
      "[0, 1, 2, 4, 7, 8, 20]\n"
     ]
    }
   ],
   "source": [
    "thelist = [2,4,1,7,8,0,20]\n",
    "bubbleSort(thelist)\n",
    "print thelist"
   ]
  },
  {
   "cell_type": "code",
   "execution_count": 45,
   "metadata": {
    "collapsed": true
   },
   "outputs": [],
   "source": [
    "thelist = [2,4,1,7,8,0,20]\n",
    "shortBubbleSort(thelist)"
   ]
  },
  {
   "cell_type": "code",
   "execution_count": 46,
   "metadata": {
    "collapsed": false
   },
   "outputs": [
    {
     "data": {
      "text/plain": [
       "[0, 1, 2, 4, 7, 8, 20]"
      ]
     },
     "execution_count": 46,
     "metadata": {},
     "output_type": "execute_result"
    }
   ],
   "source": [
    "thelist"
   ]
  },
  {
   "cell_type": "code",
   "execution_count": 47,
   "metadata": {
    "collapsed": false
   },
   "outputs": [
    {
     "name": "stdout",
     "output_type": "stream",
     "text": [
      "[17, 20, 26, 31, 44, 54, 55, 77, 93]\n"
     ]
    }
   ],
   "source": [
    "def selectionSort(alist):\n",
    "    for fillslot in range(len(alist)-1,0,-1):\n",
    "        positionOfMax=0\n",
    "        for location in range(1,fillslot+1):\n",
    "            if alist[location]>alist[positionOfMax]:\n",
    "                positionOfMax = location\n",
    "\n",
    "        temp = alist[fillslot]\n",
    "        alist[fillslot] = alist[positionOfMax]\n",
    "        alist[positionOfMax] = temp\n",
    "\n",
    "alist = [54,26,93,17,77,31,44,55,20]\n",
    "selectionSort(alist)\n",
    "print(alist)\n"
   ]
  },
  {
   "cell_type": "code",
   "execution_count": 53,
   "metadata": {
    "collapsed": false
   },
   "outputs": [],
   "source": [
    "import sortingAlgorithms as sorting\n",
    "sorting = reload(sorting)"
   ]
  },
  {
   "cell_type": "code",
   "execution_count": 54,
   "metadata": {
    "collapsed": false
   },
   "outputs": [
    {
     "name": "stdout",
     "output_type": "stream",
     "text": [
      "[17, 20, 26, 31, 44, 54, 55, 77, 93]\n"
     ]
    }
   ],
   "source": [
    "alist = [54,26,93,17,77,31,44,55,20]\n",
    "sorting.selectionSort(alist)\n",
    "print(alist)"
   ]
  },
  {
   "cell_type": "code",
   "execution_count": 55,
   "metadata": {
    "collapsed": true
   },
   "outputs": [],
   "source": [
    "def insertionSort(alist):\n",
    "    for index in range(1,len(alist)):\n",
    "        currentvalue = alist[index]\n",
    "        position = index\n",
    "\n",
    "        while position>0 and alist[position-1]>currentvalue:\n",
    "            alist[position]=alist[position-1]\n",
    "            position = position-1\n",
    "\n",
    "        alist[position]=currentvalue"
   ]
  },
  {
   "cell_type": "code",
   "execution_count": 56,
   "metadata": {
    "collapsed": false
   },
   "outputs": [
    {
     "name": "stdout",
     "output_type": "stream",
     "text": [
      "[17, 20, 26, 31, 44, 54, 55, 77, 93]\n"
     ]
    }
   ],
   "source": [
    "alist = [54,26,93,17,77,31,44,55,20]\n",
    "insertionSort(alist)\n",
    "print(alist)"
   ]
  },
  {
   "cell_type": "code",
   "execution_count": 57,
   "metadata": {
    "collapsed": true
   },
   "outputs": [],
   "source": [
    "class HashTable:\n",
    "    def __init__(self):\n",
    "        self.size = 11\n",
    "        self.slots = [None] * self.size\n",
    "        self.data = [None] * self.size\n",
    "        \n",
    "    def hash(astring, tablesize):\n",
    "        sum = 0\n",
    "        for pos in range(len(astring)):\n",
    "            sum = sum + ord(astring[pos])\n",
    "\n",
    "        return sum%tablesize \n",
    "    def put(self,key,data):\n",
    "  \n",
    "        hashvalue = self.hashfunction(key,len(self.slots))\n",
    "\n",
    "        if self.slots[hashvalue] == None:\n",
    "            self.slots[hashvalue] = key\n",
    "            self.data[hashvalue] = data\n",
    "        else:\n",
    "            if self.slots[hashvalue] == key:\n",
    "                self.data[hashvalue] = data  #replace\n",
    "            else:\n",
    "                nextslot = self.rehash(hashvalue,len(self.slots))\n",
    "                while self.slots[nextslot] != None and self.slots[nextslot] != key:\n",
    "                    nextslot = self.rehash(nextslot,len(self.slots))\n",
    "\n",
    "                if self.slots[nextslot] == None:\n",
    "                    self.slots[nextslot]=key\n",
    "                    self.data[nextslot]=data\n",
    "                else:\n",
    "                    self.data[nextslot] = data #replace\n",
    "\n",
    "    def hashfunction(self,key,size):\n",
    "         return key%size\n",
    "\n",
    "    def rehash(self,oldhash,size):\n",
    "        return (oldhash+1)%size\n",
    "    \n",
    "    def get(self,key):\n",
    "        startslot = self.hashfunction(key,len(self.slots))\n",
    "        data = None\n",
    "        stop = False\n",
    "        found = False\n",
    "        position = startslot\n",
    "        \n",
    "        while self.slots[position] != None and not found and not stop:\n",
    "            if self.slots[position] == key:\n",
    "                found = True\n",
    "                data = self.data[position]\n",
    "            else:\n",
    "                position=self.rehash(position,len(self.slots))\n",
    "                if position == startslot:\n",
    "                    stop = True\n",
    "        return data\n",
    "\n",
    "    def __getitem__(self,key):\n",
    "        return self.get(key)\n",
    "\n",
    "    def __setitem__(self,key,data):\n",
    "        self.put(key,data)"
   ]
  },
  {
   "cell_type": "code",
   "execution_count": 58,
   "metadata": {
    "collapsed": true
   },
   "outputs": [],
   "source": [
    "H=HashTable()\n",
    "H[54]=\"cat\"\n",
    "H[26]=\"dog\"\n",
    "H[93]=\"lion\"\n",
    "H[17]=\"tiger\"\n",
    "H[77]=\"bird\"\n",
    "H[31]=\"cow\""
   ]
  },
  {
   "cell_type": "code",
   "execution_count": 59,
   "metadata": {
    "collapsed": false
   },
   "outputs": [
    {
     "data": {
      "text/plain": [
       "[77, None, None, None, 26, 93, 17, None, None, 31, 54]"
      ]
     },
     "execution_count": 59,
     "metadata": {},
     "output_type": "execute_result"
    }
   ],
   "source": [
    "H.slots"
   ]
  },
  {
   "cell_type": "code",
   "execution_count": 60,
   "metadata": {
    "collapsed": false
   },
   "outputs": [
    {
     "data": {
      "text/plain": [
       "['bird', None, None, None, 'dog', 'lion', 'tiger', None, None, 'cow', 'cat']"
      ]
     },
     "execution_count": 60,
     "metadata": {},
     "output_type": "execute_result"
    }
   ],
   "source": [
    "H.data"
   ]
  },
  {
   "cell_type": "code",
   "execution_count": 61,
   "metadata": {
    "collapsed": false
   },
   "outputs": [
    {
     "data": {
      "text/plain": [
       "['bird', 'duck', None, None, 'dog', 'lion', 'tiger', None, None, 'cow', 'cat']"
      ]
     },
     "execution_count": 61,
     "metadata": {},
     "output_type": "execute_result"
    }
   ],
   "source": [
    "H[1] = 'duck'\n",
    "H.data"
   ]
  },
  {
   "cell_type": "code",
   "execution_count": null,
   "metadata": {
    "collapsed": true
   },
   "outputs": [],
   "source": []
  }
 ],
 "metadata": {
  "kernelspec": {
   "display_name": "Python 2",
   "language": "python",
   "name": "python2"
  },
  "language_info": {
   "codemirror_mode": {
    "name": "ipython",
    "version": 2
   },
   "file_extension": ".py",
   "mimetype": "text/x-python",
   "name": "python",
   "nbconvert_exporter": "python",
   "pygments_lexer": "ipython2",
   "version": "2.7.11"
  }
 },
 "nbformat": 4,
 "nbformat_minor": 0
}
