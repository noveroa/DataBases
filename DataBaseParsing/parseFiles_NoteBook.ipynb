{
 "cells": [
  {
   "cell_type": "code",
   "execution_count": 13,
   "metadata": {
    "collapsed": true
   },
   "outputs": [],
   "source": [
    "import pandas as pd\n",
    "import numpy as np\n",
    "%matplotlib inline"
   ]
  },
  {
   "cell_type": "code",
   "execution_count": 56,
   "metadata": {
    "collapsed": true
   },
   "outputs": [],
   "source": [
    "file1 = '../ArchConfAbstracts/ECSA2007.txt'\n",
    "file2 = '../ArchConfAbstracts/QoSA2011.txt'"
   ]
  },
  {
   "cell_type": "code",
   "execution_count": 52,
   "metadata": {
    "collapsed": false
   },
   "outputs": [],
   "source": [
    "import parseFiles as parser\n",
    "parser = reload(parser)"
   ]
  },
  {
   "cell_type": "code",
   "execution_count": 53,
   "metadata": {
    "collapsed": false
   },
   "outputs": [],
   "source": [
    "retest = parser.parseEntrytoDF(file1)"
   ]
  },
  {
   "cell_type": "code",
   "execution_count": 54,
   "metadata": {
    "collapsed": false
   },
   "outputs": [
    {
     "data": {
      "text/html": [
       "<div>\n",
       "<table border=\"1\" class=\"dataframe\">\n",
       "  <thead>\n",
       "    <tr style=\"text-align: right;\">\n",
       "      <th></th>\n",
       "      <th>terms</th>\n",
       "      <th>Title</th>\n",
       "      <th>Abstract</th>\n",
       "      <th>Author affiliation</th>\n",
       "      <th>Authors</th>\n",
       "      <th>Conf</th>\n",
       "      <th>year</th>\n",
       "    </tr>\n",
       "  </thead>\n",
       "  <tbody>\n",
       "    <tr>\n",
       "      <th>1</th>\n",
       "      <td>['software architecture', 'software quality', ...</td>\n",
       "      <td>Issues in applying empirical software engineer...</td>\n",
       "      <td>Empirical software engineering focuses on the ...</td>\n",
       "      <td>DISP, Univ  of Rome, Rome, Italy</td>\n",
       "      <td>['Falessi, D', ' Kruchten, P', ' Cantone, G']</td>\n",
       "      <td>ECSA</td>\n",
       "      <td>2007</td>\n",
       "    </tr>\n",
       "    <tr>\n",
       "      <th>2</th>\n",
       "      <td>['formal verification', 'rewriting systems', '...</td>\n",
       "      <td>Hierarchical verification in Maude of LfP soft...</td>\n",
       "      <td>Software architecture description languages al...</td>\n",
       "      <td>LSTS   ENIT, Tunis, Tunisia</td>\n",
       "      <td>['Jerad, C', ' Barkaoui, K', ' Grissa Touzi, A']</td>\n",
       "      <td>ECSA</td>\n",
       "      <td>2007</td>\n",
       "    </tr>\n",
       "    <tr>\n",
       "      <th>3</th>\n",
       "      <td>['formal specification', 'software architectur...</td>\n",
       "      <td>FIESTA  a generic framework for integrating ne...</td>\n",
       "      <td>When an application must evolve to cope with n...</td>\n",
       "      <td>INRIA, Univ  des Sci  et Technol  de Lille, Vi...</td>\n",
       "      <td>['Waignier, G', ' Le Meur, A', 'F', ' Duchien,...</td>\n",
       "      <td>ECSA</td>\n",
       "      <td>2007</td>\n",
       "    </tr>\n",
       "    <tr>\n",
       "      <th>4</th>\n",
       "      <td>['software architecture', 'software prototypin...</td>\n",
       "      <td>Informed evolution</td>\n",
       "      <td>Ageless software evolves, to meet new requirem...</td>\n",
       "      <td>Sch  of Comput  Sci , Univ  of Adelaide, Adela...</td>\n",
       "      <td>['Falkner, K', ' Balasubramaniam, D', ' Detmol...</td>\n",
       "      <td>ECSA</td>\n",
       "      <td>2007</td>\n",
       "    </tr>\n",
       "    <tr>\n",
       "      <th>5</th>\n",
       "      <td>['safety-critical software', 'software archite...</td>\n",
       "      <td>The art and science of software architecture</td>\n",
       "      <td>The past 20 years has seen significant investm...</td>\n",
       "      <td>Software Group, IBM, Raleigh, NC, United States</td>\n",
       "      <td>['Brown, A W', ' McDermid, J A']</td>\n",
       "      <td>ECSA</td>\n",
       "      <td>2007</td>\n",
       "    </tr>\n",
       "  </tbody>\n",
       "</table>\n",
       "</div>"
      ],
      "text/plain": [
       "                                               terms  \\\n",
       "1  ['software architecture', 'software quality', ...   \n",
       "2  ['formal verification', 'rewriting systems', '...   \n",
       "3  ['formal specification', 'software architectur...   \n",
       "4  ['software architecture', 'software prototypin...   \n",
       "5  ['safety-critical software', 'software archite...   \n",
       "\n",
       "                                               Title  \\\n",
       "1  Issues in applying empirical software engineer...   \n",
       "2  Hierarchical verification in Maude of LfP soft...   \n",
       "3  FIESTA  a generic framework for integrating ne...   \n",
       "4                                 Informed evolution   \n",
       "5       The art and science of software architecture   \n",
       "\n",
       "                                            Abstract  \\\n",
       "1  Empirical software engineering focuses on the ...   \n",
       "2  Software architecture description languages al...   \n",
       "3  When an application must evolve to cope with n...   \n",
       "4  Ageless software evolves, to meet new requirem...   \n",
       "5  The past 20 years has seen significant investm...   \n",
       "\n",
       "                                  Author affiliation  \\\n",
       "1                   DISP, Univ  of Rome, Rome, Italy   \n",
       "2                        LSTS   ENIT, Tunis, Tunisia   \n",
       "3  INRIA, Univ  des Sci  et Technol  de Lille, Vi...   \n",
       "4  Sch  of Comput  Sci , Univ  of Adelaide, Adela...   \n",
       "5    Software Group, IBM, Raleigh, NC, United States   \n",
       "\n",
       "                                             Authors  Conf  year  \n",
       "1      ['Falessi, D', ' Kruchten, P', ' Cantone, G']  ECSA  2007  \n",
       "2   ['Jerad, C', ' Barkaoui, K', ' Grissa Touzi, A']  ECSA  2007  \n",
       "3  ['Waignier, G', ' Le Meur, A', 'F', ' Duchien,...  ECSA  2007  \n",
       "4  ['Falkner, K', ' Balasubramaniam, D', ' Detmol...  ECSA  2007  \n",
       "5                   ['Brown, A W', ' McDermid, J A']  ECSA  2007  "
      ]
     },
     "execution_count": 54,
     "metadata": {},
     "output_type": "execute_result"
    }
   ],
   "source": [
    "retest.head()"
   ]
  },
  {
   "cell_type": "code",
   "execution_count": 55,
   "metadata": {
    "collapsed": false
   },
   "outputs": [
    {
     "name": "stdout",
     "output_type": "stream",
     "text": [
      "['object-oriented programming', 'software architecture', 'dynamic software architecture reconfiguration', 'software systems', 'PRISMA aspect-oriented architectural model', 'aspect-oriented software development', 'Software engineering techniques', 'Object oriented programming']\n",
      "['software architecture', 'modular software architecture', 'software development', 'Software engineering techniques']\n",
      "['business data processing', 'middleware', 'mobile computing', 'mobile business processes', 'mobile information systems', 'middleware', 'self-mobilizing code paradigm', 'quality of service', 'Business and administrative computing', 'Business and professional IT applications']\n",
      "['artificial intelligence', 'software architecture', 'task analysis', 'ubiquitous computing', 'software architectures', 'task oriented computing', 'ubiquitous computing', 'artificial intelligence', 'software engineering', 'User interfaces', 'Distributed systems software', 'Expert systems and other AI software and techniques', 'Software engineering techniques']\n",
      "['pipeline processing', 'XML', 'Aqueducts', 'layered pipeline-based architecture', 'XML processing', 'semistructured data stream', 'pipe-filter style', 'Document processing techniques']\n",
      "['software architecture', 'software quality', 'architecture pattern', 'system-wide impact', 'system architecture', 'pattern usage', 'Software engineering techniques', 'Software management']\n",
      "['graphical user interfaces', 'adaptive user interfaces', 'self-adaptive context-aware systems', 'user-application interaction', 'GUI-based applications', 'Graphical user interfaces']\n",
      "nan\n",
      "nan\n",
      "['Computer aided design', 'Identification (control systems)', 'Measurement theory', 'Concern-driven measurement framework', 'Computer Programming', 'Computer Applications', 'Control Systems', 'Statistical Methods']\n",
      "['Graphic methods', 'Mathematical models', 'Publishing', 'Specifications', 'Architecture modeling', 'Formal specification', 'Style composition', 'Computer Programming', 'Computer Applications', 'Codes and Standards', 'Information Dissemination', 'Mathematics']\n"
     ]
    }
   ],
   "source": [
    "for terms in retest.iloc[14:25]['terms']:\n",
    "    print terms"
   ]
  },
  {
   "cell_type": "code",
   "execution_count": 19,
   "metadata": {
    "collapsed": false
   },
   "outputs": [
    {
     "data": {
      "text/plain": [
       "terms                 ['programming languages', 'software architectu...\n",
       "Title                 A goal oriented approach for the generation an...\n",
       "Abstract              There is a recognized gap between requirements...\n",
       "Author affiliation    Univ  Politec  de Catalunya  UPC , Barcelona, ...\n",
       "Authors                                       ['Grau, G', ' Franch, X']\n",
       "Conf                                                               ECSA\n",
       "year                                                               2007\n",
       "Name: 100, dtype: object"
      ]
     },
     "execution_count": 19,
     "metadata": {},
     "output_type": "execute_result"
    }
   ],
   "source": [
    "retest.iloc[-1]"
   ]
  },
  {
   "cell_type": "code",
   "execution_count": 57,
   "metadata": {
    "collapsed": true
   },
   "outputs": [],
   "source": [
    "retest2 = parser.parseEntrytoDF(file2)"
   ]
  },
  {
   "cell_type": "code",
   "execution_count": 58,
   "metadata": {
    "collapsed": false
   },
   "outputs": [
    {
     "data": {
      "text/html": [
       "<div>\n",
       "<table border=\"1\" class=\"dataframe\">\n",
       "  <thead>\n",
       "    <tr style=\"text-align: right;\">\n",
       "      <th></th>\n",
       "      <th>terms</th>\n",
       "      <th>Title</th>\n",
       "      <th>Abstract</th>\n",
       "      <th>Author affiliation</th>\n",
       "      <th>Authors</th>\n",
       "      <th>Conf</th>\n",
       "      <th>year</th>\n",
       "    </tr>\n",
       "  </thead>\n",
       "  <tbody>\n",
       "    <tr>\n",
       "      <th>3</th>\n",
       "      <td>['Communication', 'Computer software selection...</td>\n",
       "      <td>Integration of event based communication in th...</td>\n",
       "      <td>Today, software engineering is challenged to h...</td>\n",
       "      <td>FZI Research Center for Information Technology...</td>\n",
       "      <td>['Klatt, Benjamin', 'Rathfelder, Christoph', '...</td>\n",
       "      <td>QoSA</td>\n",
       "      <td>2011</td>\n",
       "    </tr>\n",
       "    <tr>\n",
       "      <th>4</th>\n",
       "      <td>['Fault tolerance', 'Reliability analysis', 'S...</td>\n",
       "      <td>Reliability prediction for fault tolerant soft...</td>\n",
       "      <td>Software fault tolerance mechanisms aim at imp...</td>\n",
       "      <td>Research Center for Information Technology  FZ...</td>\n",
       "      <td>['Brosch, Franz', 'Buhnova, Barbora', 'Koziole...</td>\n",
       "      <td>QoSA</td>\n",
       "      <td>2011</td>\n",
       "    </tr>\n",
       "    <tr>\n",
       "      <th>5</th>\n",
       "      <td>['Quality control', 'Quality of service', 'ada...</td>\n",
       "      <td>Software architecture adaptability metrics for...</td>\n",
       "      <td>One of the major current research trends in So...</td>\n",
       "      <td>Dpto  de Inform tica e Ingenier a de Sistemas,...</td>\n",
       "      <td>['Perez Palacin, Diego', 'Mirandola, Raffaela'...</td>\n",
       "      <td>QoSA</td>\n",
       "      <td>2011</td>\n",
       "    </tr>\n",
       "    <tr>\n",
       "      <th>6</th>\n",
       "      <td>['Adaptive systems', 'Energy utilization', 'Pe...</td>\n",
       "      <td>Enhancing a QoS based self adaptive framework ...</td>\n",
       "      <td>The energy use is becoming a key design consid...</td>\n",
       "      <td>Dpto  de Inform tica e Ingenier a de Sistemas,...</td>\n",
       "      <td>['Perez Palacin, Diego', 'Mirandola, Raffaela'...</td>\n",
       "      <td>QoSA</td>\n",
       "      <td>2011</td>\n",
       "    </tr>\n",
       "    <tr>\n",
       "      <th>7</th>\n",
       "      <td>['Design', 'Interoperability', 'Reusability', ...</td>\n",
       "      <td>Empirically grounded reference architectures  ...</td>\n",
       "      <td>A reference architecture describes core elemen...</td>\n",
       "      <td>University of Groningen, Netherlands</td>\n",
       "      <td>['Galster, Matthias', 'Avgeriou, Paris', ' ']</td>\n",
       "      <td>QoSA</td>\n",
       "      <td>2011</td>\n",
       "    </tr>\n",
       "  </tbody>\n",
       "</table>\n",
       "</div>"
      ],
      "text/plain": [
       "                                               terms  \\\n",
       "3  ['Communication', 'Computer software selection...   \n",
       "4  ['Fault tolerance', 'Reliability analysis', 'S...   \n",
       "5  ['Quality control', 'Quality of service', 'ada...   \n",
       "6  ['Adaptive systems', 'Energy utilization', 'Pe...   \n",
       "7  ['Design', 'Interoperability', 'Reusability', ...   \n",
       "\n",
       "                                               Title  \\\n",
       "3  Integration of event based communication in th...   \n",
       "4  Reliability prediction for fault tolerant soft...   \n",
       "5  Software architecture adaptability metrics for...   \n",
       "6  Enhancing a QoS based self adaptive framework ...   \n",
       "7  Empirically grounded reference architectures  ...   \n",
       "\n",
       "                                            Abstract  \\\n",
       "3  Today, software engineering is challenged to h...   \n",
       "4  Software fault tolerance mechanisms aim at imp...   \n",
       "5  One of the major current research trends in So...   \n",
       "6  The energy use is becoming a key design consid...   \n",
       "7  A reference architecture describes core elemen...   \n",
       "\n",
       "                                  Author affiliation  \\\n",
       "3  FZI Research Center for Information Technology...   \n",
       "4  Research Center for Information Technology  FZ...   \n",
       "5  Dpto  de Inform tica e Ingenier a de Sistemas,...   \n",
       "6  Dpto  de Inform tica e Ingenier a de Sistemas,...   \n",
       "7               University of Groningen, Netherlands   \n",
       "\n",
       "                                             Authors  Conf  year  \n",
       "3  ['Klatt, Benjamin', 'Rathfelder, Christoph', '...  QoSA  2011  \n",
       "4  ['Brosch, Franz', 'Buhnova, Barbora', 'Koziole...  QoSA  2011  \n",
       "5  ['Perez Palacin, Diego', 'Mirandola, Raffaela'...  QoSA  2011  \n",
       "6  ['Perez Palacin, Diego', 'Mirandola, Raffaela'...  QoSA  2011  \n",
       "7      ['Galster, Matthias', 'Avgeriou, Paris', ' ']  QoSA  2011  "
      ]
     },
     "execution_count": 58,
     "metadata": {},
     "output_type": "execute_result"
    }
   ],
   "source": [
    "retest2.head()"
   ]
  },
  {
   "cell_type": "code",
   "execution_count": null,
   "metadata": {
    "collapsed": true
   },
   "outputs": [],
   "source": []
  },
  {
   "cell_type": "code",
   "execution_count": null,
   "metadata": {
    "collapsed": true
   },
   "outputs": [],
   "source": []
  },
  {
   "cell_type": "markdown",
   "metadata": {},
   "source": [
    "# Testing of hdfstorage command line script"
   ]
  },
  {
   "cell_type": "code",
   "execution_count": 59,
   "metadata": {
    "collapsed": false
   },
   "outputs": [
    {
     "name": "stdout",
     "output_type": "stream",
     "text": [
      "../ArchConfAbstracts/ECSA2007.txt ../ArchConfAbstracts/ECSA2008.txt ../ArchConfAbstracts/ECSA2009.txt ../ArchConfAbstracts/ECSA2010.txt ../ArchConfAbstracts/ECSA2011.txt ../ArchConfAbstracts/ECSA2012.txt ../ArchConfAbstracts/ECSA2013.txt ../ArchConfAbstracts/ECSA2014.txt ../ArchConfAbstracts/QoSA2005.txt ../ArchConfAbstracts/QoSA2006.txt ../ArchConfAbstracts/QoSA2007.txt ../ArchConfAbstracts/QoSA2009.txt ../ArchConfAbstracts/QoSA2010.txt ../ArchConfAbstracts/QoSA2011.txt ../ArchConfAbstracts/QoSA2012.txt ../ArchConfAbstracts/QoSA2013.txt ../ArchConfAbstracts/QoSA2014.txt ../ArchConfAbstracts/WICSA2004.txt ../ArchConfAbstracts/WICSA2005.txt ../ArchConfAbstracts/WICSA2008.txt ../ArchConfAbstracts/WICSA2009.txt ../ArchConfAbstracts/WICSA2011.txt ../ArchConfAbstracts/WICSA2012.txt ../ArchConfAbstracts/WICSA2014.txt \n",
      "\n",
      "../ArchConfAbstracts/QoSA2008.txt ../ArchConfAbstracts/WICSA1999.txt ../ArchConfAbstracts/WICSA2001.txt ../ArchConfAbstracts/WICSA2002.txt ../ArchConfAbstracts/WICSA2007.txt\n"
     ]
    }
   ],
   "source": [
    "dfTotal = pd.read_hdf('DFstore3.h5', 'df')\n",
    "successFiles = pd.read_hdf('DFstore3.h5', 'files')\n",
    "failedFiles = pd.read_hdf('DFstore3.h5', 'errors')\n",
    "\n",
    "for x in successFiles : print x,\n",
    "print '\\n'\n",
    "for y in failedFiles : print y,"
   ]
  },
  {
   "cell_type": "code",
   "execution_count": 60,
   "metadata": {
    "collapsed": false
   },
   "outputs": [
    {
     "data": {
      "text/html": [
       "<div>\n",
       "<table border=\"1\" class=\"dataframe\">\n",
       "  <thead>\n",
       "    <tr style=\"text-align: right;\">\n",
       "      <th></th>\n",
       "      <th>Abstract</th>\n",
       "      <th>Author affiliation</th>\n",
       "      <th>Authors</th>\n",
       "      <th>Conf</th>\n",
       "      <th>Title</th>\n",
       "      <th>terms</th>\n",
       "      <th>year</th>\n",
       "    </tr>\n",
       "  </thead>\n",
       "  <tbody>\n",
       "    <tr>\n",
       "      <th>1</th>\n",
       "      <td>Empirical software engineering focuses on the ...</td>\n",
       "      <td>DISP, Univ  of Rome, Rome, Italy</td>\n",
       "      <td>['Falessi, D', ' Kruchten, P', ' Cantone, G']</td>\n",
       "      <td>ECSA</td>\n",
       "      <td>Issues in applying empirical software engineer...</td>\n",
       "      <td>['software architecture', 'software quality', ...</td>\n",
       "      <td>2007</td>\n",
       "    </tr>\n",
       "    <tr>\n",
       "      <th>2</th>\n",
       "      <td>Software architecture description languages al...</td>\n",
       "      <td>LSTS   ENIT, Tunis, Tunisia</td>\n",
       "      <td>['Jerad, C', ' Barkaoui, K', ' Grissa Touzi, A']</td>\n",
       "      <td>ECSA</td>\n",
       "      <td>Hierarchical verification in Maude of LfP soft...</td>\n",
       "      <td>['formal verification', 'rewriting systems', '...</td>\n",
       "      <td>2007</td>\n",
       "    </tr>\n",
       "    <tr>\n",
       "      <th>3</th>\n",
       "      <td>When an application must evolve to cope with n...</td>\n",
       "      <td>INRIA, Univ  des Sci  et Technol  de Lille, Vi...</td>\n",
       "      <td>['Waignier, G', ' Le Meur, A', 'F', ' Duchien,...</td>\n",
       "      <td>ECSA</td>\n",
       "      <td>FIESTA  a generic framework for integrating ne...</td>\n",
       "      <td>['formal specification', 'software architectur...</td>\n",
       "      <td>2007</td>\n",
       "    </tr>\n",
       "    <tr>\n",
       "      <th>4</th>\n",
       "      <td>Ageless software evolves, to meet new requirem...</td>\n",
       "      <td>Sch  of Comput  Sci , Univ  of Adelaide, Adela...</td>\n",
       "      <td>['Falkner, K', ' Balasubramaniam, D', ' Detmol...</td>\n",
       "      <td>ECSA</td>\n",
       "      <td>Informed evolution</td>\n",
       "      <td>['software architecture', 'software prototypin...</td>\n",
       "      <td>2007</td>\n",
       "    </tr>\n",
       "    <tr>\n",
       "      <th>5</th>\n",
       "      <td>The past 20 years has seen significant investm...</td>\n",
       "      <td>Software Group, IBM, Raleigh, NC, United States</td>\n",
       "      <td>['Brown, A W', ' McDermid, J A']</td>\n",
       "      <td>ECSA</td>\n",
       "      <td>The art and science of software architecture</td>\n",
       "      <td>['safety-critical software', 'software archite...</td>\n",
       "      <td>2007</td>\n",
       "    </tr>\n",
       "  </tbody>\n",
       "</table>\n",
       "</div>"
      ],
      "text/plain": [
       "                                            Abstract  \\\n",
       "1  Empirical software engineering focuses on the ...   \n",
       "2  Software architecture description languages al...   \n",
       "3  When an application must evolve to cope with n...   \n",
       "4  Ageless software evolves, to meet new requirem...   \n",
       "5  The past 20 years has seen significant investm...   \n",
       "\n",
       "                                  Author affiliation  \\\n",
       "1                   DISP, Univ  of Rome, Rome, Italy   \n",
       "2                        LSTS   ENIT, Tunis, Tunisia   \n",
       "3  INRIA, Univ  des Sci  et Technol  de Lille, Vi...   \n",
       "4  Sch  of Comput  Sci , Univ  of Adelaide, Adela...   \n",
       "5    Software Group, IBM, Raleigh, NC, United States   \n",
       "\n",
       "                                             Authors  Conf  \\\n",
       "1      ['Falessi, D', ' Kruchten, P', ' Cantone, G']  ECSA   \n",
       "2   ['Jerad, C', ' Barkaoui, K', ' Grissa Touzi, A']  ECSA   \n",
       "3  ['Waignier, G', ' Le Meur, A', 'F', ' Duchien,...  ECSA   \n",
       "4  ['Falkner, K', ' Balasubramaniam, D', ' Detmol...  ECSA   \n",
       "5                   ['Brown, A W', ' McDermid, J A']  ECSA   \n",
       "\n",
       "                                               Title  \\\n",
       "1  Issues in applying empirical software engineer...   \n",
       "2  Hierarchical verification in Maude of LfP soft...   \n",
       "3  FIESTA  a generic framework for integrating ne...   \n",
       "4                                 Informed evolution   \n",
       "5       The art and science of software architecture   \n",
       "\n",
       "                                               terms  year  \n",
       "1  ['software architecture', 'software quality', ...  2007  \n",
       "2  ['formal verification', 'rewriting systems', '...  2007  \n",
       "3  ['formal specification', 'software architectur...  2007  \n",
       "4  ['software architecture', 'software prototypin...  2007  \n",
       "5  ['safety-critical software', 'software archite...  2007  "
      ]
     },
     "execution_count": 60,
     "metadata": {},
     "output_type": "execute_result"
    }
   ],
   "source": [
    "dfTotal.head()"
   ]
  },
  {
   "cell_type": "code",
   "execution_count": 62,
   "metadata": {
    "collapsed": false
   },
   "outputs": [
    {
     "data": {
      "text/plain": [
       "\"['abstract data types', 'object-oriented programming', 'software architecture', 'specification languages', 'telecommunication computing', 'wireless sensor networks', 'WSN application development', 'wireless sensor networks', 'architecture-centric MDE approach', 'software engineering methodology', 'development life-cycle', 'model-driven engineering', 'automatic model transformations', 'abstract models', 'WSN domain-specific modelling language', 'component-based architecture descriptions', 'platform-specific models', 'Radio links and equipment', 'Communications computing', 'Object oriented programming', 'Software engineering techniques', 'Formal methods']\""
      ]
     },
     "execution_count": 62,
     "metadata": {},
     "output_type": "execute_result"
    }
   ],
   "source": [
    "dfTotal.iloc[11].terms"
   ]
  },
  {
   "cell_type": "markdown",
   "metadata": {},
   "source": [
    "# Drafts"
   ]
  },
  {
   "cell_type": "code",
   "execution_count": null,
   "metadata": {
    "collapsed": false
   },
   "outputs": [],
   "source": [
    "retest['Classification Code'] = retest['Classification Code'].apply(reformatcode)"
   ]
  },
  {
   "cell_type": "code",
   "execution_count": null,
   "metadata": {
    "collapsed": false
   },
   "outputs": [],
   "source": [
    "def reformatcode(classcodes):\n",
    "    try:\n",
    "        codes = [x.split(' ',1)[1] for x in classcodes.split('   ')]\n",
    "        return codes\n",
    "    except:\n",
    "        return classcodes\n",
    "        \n",
    "def reformatTerms(terms):\n",
    "    from itertools import chain\n",
    "    try:\n",
    "        terms = [entry.split(' - ') for entry in terms]\n",
    "        return list(chain(*terms))\n",
    "    except:\n",
    "        return 'ERROR' + str(terms)\n",
    "    \n",
    "    "
   ]
  },
  {
   "cell_type": "code",
   "execution_count": null,
   "metadata": {
    "collapsed": false
   },
   "outputs": [],
   "source": [
    "retest['terms1'] = retest.terms.apply(reformatTerms)\n",
    "print retest.iloc[0]['terms1']\n",
    "print retest.iloc[22]['terms1']"
   ]
  },
  {
   "cell_type": "code",
   "execution_count": null,
   "metadata": {
    "collapsed": false
   },
   "outputs": [],
   "source": [
    "retest['newterm'] = retest['terms1'] + retest['Classification Code']"
   ]
  },
  {
   "cell_type": "code",
   "execution_count": null,
   "metadata": {
    "collapsed": false
   },
   "outputs": [],
   "source": [
    "print retest.iloc[0]['newterm']\n",
    "print retest.iloc[22]['newterm']"
   ]
  },
  {
   "cell_type": "code",
   "execution_count": null,
   "metadata": {
    "collapsed": false
   },
   "outputs": [],
   "source": [
    "def parseTerms(tableDF, keyword = 'terms'):\n",
    "    ''' Parse the TOTALABSTRACTS table dataframe terms column.\n",
    "        Create a single set of all terms\n",
    "        \n",
    "        : param tableDF : a Pandas DataFrame (ie TOTALABSTRACTS table as DF)\n",
    "        : param keyword : column name to be recast and set of terms found from\n",
    "        \n",
    "        : output : a master set of terms set as a list (no duplicates)\n",
    "    '''\n",
    "    \n",
    "    df = tableDF\n",
    "    \n",
    "    #recast - since made a string during the entry into the sqlite db.\n",
    "    df[keyword] = df[keyword].apply(lambda kw : ','.join(kw.split('-')))\n",
    "    \n",
    "    #strip the str from prior manipulation\n",
    "    terms = df[keyword].apply(lambda x: set([ e.strip(' \\'') for e in x.strip('[]\\'').split(',')]))\n",
    "    \n",
    "    #create a single set\n",
    "    termSet = frozenset().union(*terms)\n",
    "    \n",
    "    #return as a list\n",
    "    return list(termSet)"
   ]
  },
  {
   "cell_type": "code",
   "execution_count": null,
   "metadata": {
    "collapsed": true
   },
   "outputs": [],
   "source": [
    "row = retest.iloc[0].terms"
   ]
  },
  {
   "cell_type": "code",
   "execution_count": null,
   "metadata": {
    "collapsed": false
   },
   "outputs": [],
   "source": [
    "r = [entry.split(' - ') for entry in row]\n",
    "from itertools import chain\n",
    "list(chain(*r))\n",
    "    "
   ]
  },
  {
   "cell_type": "code",
   "execution_count": null,
   "metadata": {
    "collapsed": true
   },
   "outputs": [],
   "source": []
  }
 ],
 "metadata": {
  "kernelspec": {
   "display_name": "Python 2",
   "language": "python",
   "name": "python2"
  },
  "language_info": {
   "codemirror_mode": {
    "name": "ipython",
    "version": 2
   },
   "file_extension": ".py",
   "mimetype": "text/x-python",
   "name": "python",
   "nbconvert_exporter": "python",
   "pygments_lexer": "ipython2",
   "version": "2.7.11"
  }
 },
 "nbformat": 4,
 "nbformat_minor": 0
}
