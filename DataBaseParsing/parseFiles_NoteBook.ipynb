{
 "cells": [
  {
   "cell_type": "code",
   "execution_count": 1,
   "metadata": {
    "collapsed": true
   },
   "outputs": [],
   "source": [
    "import pandas as pd\n",
    "import numpy as np\n",
    "%matplotlib inline"
   ]
  },
  {
   "cell_type": "code",
   "execution_count": 92,
   "metadata": {
    "collapsed": true
   },
   "outputs": [],
   "source": [
    "file1 = '../ArchConfAbstracts/ECSA2007.txt'\n",
    "file2 = '../ArchConfAbstracts/QoSA2008.txt'"
   ]
  },
  {
   "cell_type": "code",
   "execution_count": 93,
   "metadata": {
    "collapsed": false
   },
   "outputs": [],
   "source": [
    "import parseFiles as parser\n",
    "parser = reload(parser)"
   ]
  },
  {
   "cell_type": "code",
   "execution_count": 94,
   "metadata": {
    "collapsed": false
   },
   "outputs": [],
   "source": [
    "retest = parser.parseEntrytoDF(file1)\n"
   ]
  },
  {
   "cell_type": "code",
   "execution_count": 95,
   "metadata": {
    "collapsed": false
   },
   "outputs": [
    {
     "data": {
      "text/plain": [
       "\"['Waignier, G', '', '', ' Le Meur, A', 'F', '', '', ' Duchien, L', '', '']\""
      ]
     },
     "execution_count": 95,
     "metadata": {},
     "output_type": "execute_result"
    }
   ],
   "source": [
    "retest.iloc[2].Authors\n"
   ]
  },
  {
   "cell_type": "code",
   "execution_count": 96,
   "metadata": {
    "collapsed": false
   },
   "outputs": [
    {
     "name": "stdout",
     "output_type": "stream",
     "text": [
      "['object-oriented programming', 'software architecture', 'dynamic software architecture reconfiguration', 'software systems', 'PRISMA aspect-oriented architectural model', 'aspect-oriented software development', 'Software engineering techniques', 'Object oriented programming']\n",
      "['software architecture', 'modular software architecture', 'software development', 'Software engineering techniques']\n",
      "['business data processing', 'middleware', 'mobile computing', 'mobile business processes', 'mobile information systems', 'middleware', 'self-mobilizing code paradigm', 'quality of service', 'Business and administrative computing', 'Business and professional IT applications']\n",
      "['artificial intelligence', 'software architecture', 'task analysis', 'ubiquitous computing', 'software architectures', 'task oriented computing', 'ubiquitous computing', 'artificial intelligence', 'software engineering', 'User interfaces', 'Distributed systems software', 'Expert systems and other AI software and techniques', 'Software engineering techniques']\n",
      "['pipeline processing', 'XML', 'Aqueducts', 'layered pipeline-based architecture', 'XML processing', 'semistructured data stream', 'pipe-filter style', 'Document processing techniques']\n",
      "['software architecture', 'software quality', 'architecture pattern', 'system-wide impact', 'system architecture', 'pattern usage', 'Software engineering techniques', 'Software management']\n",
      "['graphical user interfaces', 'adaptive user interfaces', 'self-adaptive context-aware systems', 'user-application interaction', 'GUI-based applications', 'Graphical user interfaces']\n",
      "[nan]\n",
      "[nan]\n",
      "['Computer aided design', 'Identification (control systems)', 'Measurement theory', 'Concern-driven measurement framework', 'Computer Programming', 'Computer Applications', 'Control Systems', 'Statistical Methods']\n",
      "['Graphic methods', 'Mathematical models', 'Publishing', 'Specifications', 'Architecture modeling', 'Formal specification', 'Style composition', 'Computer Programming', 'Computer Applications', 'Codes and Standards', 'Information Dissemination', 'Mathematics']\n"
     ]
    }
   ],
   "source": [
    "for terms in retest.iloc[14:25]['terms']:\n",
    "    print terms"
   ]
  },
  {
   "cell_type": "code",
   "execution_count": 97,
   "metadata": {
    "collapsed": false
   },
   "outputs": [
    {
     "data": {
      "text/plain": [
       "terms                 ['programming languages', 'software architectu...\n",
       "Title                 A goal oriented approach for the generation an...\n",
       "Abstract              There is a recognized gap between requirements...\n",
       "Author affiliation    Univ  Politec  de Catalunya  UPC , Barcelona, ...\n",
       "Authors                       ['Grau, G', '', '', ' Franch, X', '', '']\n",
       "Conf                                                               ECSA\n",
       "year                                                               2007\n",
       "Name: 100, dtype: object"
      ]
     },
     "execution_count": 97,
     "metadata": {},
     "output_type": "execute_result"
    }
   ],
   "source": [
    "retest.iloc[-1]"
   ]
  },
  {
   "cell_type": "code",
   "execution_count": 98,
   "metadata": {
    "collapsed": false
   },
   "outputs": [],
   "source": [
    "retest2 = parser.parseEntrytoDF(file2)"
   ]
  },
  {
   "cell_type": "code",
   "execution_count": 99,
   "metadata": {
    "collapsed": false
   },
   "outputs": [
    {
     "data": {
      "text/html": [
       "<div>\n",
       "<table border=\"1\" class=\"dataframe\">\n",
       "  <thead>\n",
       "    <tr style=\"text-align: right;\">\n",
       "      <th></th>\n",
       "      <th>terms</th>\n",
       "      <th>Title</th>\n",
       "      <th>Abstract</th>\n",
       "      <th>Author affiliation</th>\n",
       "      <th>Authors</th>\n",
       "      <th>Conf</th>\n",
       "      <th>year</th>\n",
       "    </tr>\n",
       "  </thead>\n",
       "  <tbody>\n",
       "    <tr>\n",
       "      <th>4</th>\n",
       "      <td>['autoregressive moving average processes', 'f...</td>\n",
       "      <td>Pre emptive adaptation through classical contr...</td>\n",
       "      <td>Self adaptive systems are capable of changing ...</td>\n",
       "      <td>King s Coll  London, London, United Kingdom</td>\n",
       "      <td>['Duzbayev, N', '', '', ' Poernomo, I', '', '']</td>\n",
       "      <td>QoSA</td>\n",
       "      <td>2008</td>\n",
       "    </tr>\n",
       "    <tr>\n",
       "      <th>5</th>\n",
       "      <td>['Engineering research', 'Fischer-Tropsch synt...</td>\n",
       "      <td>Introduction</td>\n",
       "      <td>Although the idea of a software component stem...</td>\n",
       "      <td>TU Clausthal  2  Univ  Karlsruhe  TH    FZI  3...</td>\n",
       "      <td>['Rausch, Andreas', '', '', 'Reussner, Ralf', ...</td>\n",
       "      <td>QoSA</td>\n",
       "      <td>2008</td>\n",
       "    </tr>\n",
       "    <tr>\n",
       "      <th>6</th>\n",
       "      <td>[nan]</td>\n",
       "      <td>Lecture Notes in Computer Science  including s...</td>\n",
       "      <td>NaN</td>\n",
       "      <td>None</td>\n",
       "      <td>['Becker, Steffen', ' Plasil, Frantisek', ' Re...</td>\n",
       "      <td>QoSA</td>\n",
       "      <td>2008</td>\n",
       "    </tr>\n",
       "    <tr>\n",
       "      <th>7</th>\n",
       "      <td>['Channel capacity', 'Computer software select...</td>\n",
       "      <td>MOSES  MOdeling software and platform architEc...</td>\n",
       "      <td>Performance analysis at the architectural leve...</td>\n",
       "      <td>Dipartimento di Informatica, Universit  dell A...</td>\n",
       "      <td>['Cortellessa, Vittorio', '', '', 'Pierini, Pi...</td>\n",
       "      <td>QoSA</td>\n",
       "      <td>2008</td>\n",
       "    </tr>\n",
       "    <tr>\n",
       "      <th>8</th>\n",
       "      <td>['Calibration', 'Computer software selection a...</td>\n",
       "      <td>Rethinking the use of models in software archi...</td>\n",
       "      <td>Models play a central role in software enginee...</td>\n",
       "      <td>Dipartimento di Elettronica e Informazione, Po...</td>\n",
       "      <td>['Ardagna, Danilo', '', '', 'Ghezzi, Carlo', '...</td>\n",
       "      <td>QoSA</td>\n",
       "      <td>2008</td>\n",
       "    </tr>\n",
       "  </tbody>\n",
       "</table>\n",
       "</div>"
      ],
      "text/plain": [
       "                                               terms  \\\n",
       "4  ['autoregressive moving average processes', 'f...   \n",
       "5  ['Engineering research', 'Fischer-Tropsch synt...   \n",
       "6                                              [nan]   \n",
       "7  ['Channel capacity', 'Computer software select...   \n",
       "8  ['Calibration', 'Computer software selection a...   \n",
       "\n",
       "                                               Title  \\\n",
       "4  Pre emptive adaptation through classical contr...   \n",
       "5                                       Introduction   \n",
       "6  Lecture Notes in Computer Science  including s...   \n",
       "7  MOSES  MOdeling software and platform architEc...   \n",
       "8  Rethinking the use of models in software archi...   \n",
       "\n",
       "                                            Abstract  \\\n",
       "4  Self adaptive systems are capable of changing ...   \n",
       "5  Although the idea of a software component stem...   \n",
       "6                                                NaN   \n",
       "7  Performance analysis at the architectural leve...   \n",
       "8  Models play a central role in software enginee...   \n",
       "\n",
       "                                  Author affiliation  \\\n",
       "4        King s Coll  London, London, United Kingdom   \n",
       "5  TU Clausthal  2  Univ  Karlsruhe  TH    FZI  3...   \n",
       "6                                               None   \n",
       "7  Dipartimento di Informatica, Universit  dell A...   \n",
       "8  Dipartimento di Elettronica e Informazione, Po...   \n",
       "\n",
       "                                             Authors  Conf  year  \n",
       "4    ['Duzbayev, N', '', '', ' Poernomo, I', '', '']  QoSA  2008  \n",
       "5  ['Rausch, Andreas', '', '', 'Reussner, Ralf', ...  QoSA  2008  \n",
       "6  ['Becker, Steffen', ' Plasil, Frantisek', ' Re...  QoSA  2008  \n",
       "7  ['Cortellessa, Vittorio', '', '', 'Pierini, Pi...  QoSA  2008  \n",
       "8  ['Ardagna, Danilo', '', '', 'Ghezzi, Carlo', '...  QoSA  2008  "
      ]
     },
     "execution_count": 99,
     "metadata": {},
     "output_type": "execute_result"
    }
   ],
   "source": [
    "retest2.head()"
   ]
  },
  {
   "cell_type": "code",
   "execution_count": 119,
   "metadata": {
    "collapsed": false
   },
   "outputs": [
    {
     "data": {
      "text/plain": [
       "'Falessi,D,,,Kruchten,P,Cantone,G'"
      ]
     },
     "execution_count": 119,
     "metadata": {},
     "output_type": "execute_result"
    }
   ],
   "source": [
    "\n"
   ]
  },
  {
   "cell_type": "code",
   "execution_count": null,
   "metadata": {
    "collapsed": true
   },
   "outputs": [],
   "source": []
  },
  {
   "cell_type": "markdown",
   "metadata": {},
   "source": [
    "# Testing of hdfstorage command line script"
   ]
  },
  {
   "cell_type": "code",
   "execution_count": 59,
   "metadata": {
    "collapsed": false
   },
   "outputs": [
    {
     "name": "stdout",
     "output_type": "stream",
     "text": [
      "../ArchConfAbstracts/ECSA2007.txt ../ArchConfAbstracts/ECSA2008.txt ../ArchConfAbstracts/ECSA2009.txt ../ArchConfAbstracts/ECSA2010.txt ../ArchConfAbstracts/ECSA2011.txt ../ArchConfAbstracts/ECSA2012.txt ../ArchConfAbstracts/ECSA2013.txt ../ArchConfAbstracts/ECSA2014.txt ../ArchConfAbstracts/QoSA2005.txt ../ArchConfAbstracts/QoSA2006.txt ../ArchConfAbstracts/QoSA2007.txt ../ArchConfAbstracts/QoSA2009.txt ../ArchConfAbstracts/QoSA2010.txt ../ArchConfAbstracts/QoSA2011.txt ../ArchConfAbstracts/QoSA2012.txt ../ArchConfAbstracts/QoSA2013.txt ../ArchConfAbstracts/QoSA2014.txt ../ArchConfAbstracts/WICSA2004.txt ../ArchConfAbstracts/WICSA2005.txt ../ArchConfAbstracts/WICSA2008.txt ../ArchConfAbstracts/WICSA2009.txt ../ArchConfAbstracts/WICSA2011.txt ../ArchConfAbstracts/WICSA2012.txt ../ArchConfAbstracts/WICSA2014.txt \n",
      "\n",
      "../ArchConfAbstracts/QoSA2008.txt ../ArchConfAbstracts/WICSA1999.txt ../ArchConfAbstracts/WICSA2001.txt ../ArchConfAbstracts/WICSA2002.txt ../ArchConfAbstracts/WICSA2007.txt\n"
     ]
    }
   ],
   "source": [
    "dfTotal = pd.read_hdf('DFstore3.h5', 'df')\n",
    "successFiles = pd.read_hdf('DFstore3.h5', 'files')\n",
    "failedFiles = pd.read_hdf('DFstore3.h5', 'errors')\n",
    "\n",
    "for x in successFiles : print x,\n",
    "print '\\n'\n",
    "for y in failedFiles : print y,"
   ]
  },
  {
   "cell_type": "code",
   "execution_count": 60,
   "metadata": {
    "collapsed": false
   },
   "outputs": [
    {
     "data": {
      "text/html": [
       "<div>\n",
       "<table border=\"1\" class=\"dataframe\">\n",
       "  <thead>\n",
       "    <tr style=\"text-align: right;\">\n",
       "      <th></th>\n",
       "      <th>Abstract</th>\n",
       "      <th>Author affiliation</th>\n",
       "      <th>Authors</th>\n",
       "      <th>Conf</th>\n",
       "      <th>Title</th>\n",
       "      <th>terms</th>\n",
       "      <th>year</th>\n",
       "    </tr>\n",
       "  </thead>\n",
       "  <tbody>\n",
       "    <tr>\n",
       "      <th>1</th>\n",
       "      <td>Empirical software engineering focuses on the ...</td>\n",
       "      <td>DISP, Univ  of Rome, Rome, Italy</td>\n",
       "      <td>['Falessi, D', ' Kruchten, P', ' Cantone, G']</td>\n",
       "      <td>ECSA</td>\n",
       "      <td>Issues in applying empirical software engineer...</td>\n",
       "      <td>['software architecture', 'software quality', ...</td>\n",
       "      <td>2007</td>\n",
       "    </tr>\n",
       "    <tr>\n",
       "      <th>2</th>\n",
       "      <td>Software architecture description languages al...</td>\n",
       "      <td>LSTS   ENIT, Tunis, Tunisia</td>\n",
       "      <td>['Jerad, C', ' Barkaoui, K', ' Grissa Touzi, A']</td>\n",
       "      <td>ECSA</td>\n",
       "      <td>Hierarchical verification in Maude of LfP soft...</td>\n",
       "      <td>['formal verification', 'rewriting systems', '...</td>\n",
       "      <td>2007</td>\n",
       "    </tr>\n",
       "    <tr>\n",
       "      <th>3</th>\n",
       "      <td>When an application must evolve to cope with n...</td>\n",
       "      <td>INRIA, Univ  des Sci  et Technol  de Lille, Vi...</td>\n",
       "      <td>['Waignier, G', ' Le Meur, A', 'F', ' Duchien,...</td>\n",
       "      <td>ECSA</td>\n",
       "      <td>FIESTA  a generic framework for integrating ne...</td>\n",
       "      <td>['formal specification', 'software architectur...</td>\n",
       "      <td>2007</td>\n",
       "    </tr>\n",
       "    <tr>\n",
       "      <th>4</th>\n",
       "      <td>Ageless software evolves, to meet new requirem...</td>\n",
       "      <td>Sch  of Comput  Sci , Univ  of Adelaide, Adela...</td>\n",
       "      <td>['Falkner, K', ' Balasubramaniam, D', ' Detmol...</td>\n",
       "      <td>ECSA</td>\n",
       "      <td>Informed evolution</td>\n",
       "      <td>['software architecture', 'software prototypin...</td>\n",
       "      <td>2007</td>\n",
       "    </tr>\n",
       "    <tr>\n",
       "      <th>5</th>\n",
       "      <td>The past 20 years has seen significant investm...</td>\n",
       "      <td>Software Group, IBM, Raleigh, NC, United States</td>\n",
       "      <td>['Brown, A W', ' McDermid, J A']</td>\n",
       "      <td>ECSA</td>\n",
       "      <td>The art and science of software architecture</td>\n",
       "      <td>['safety-critical software', 'software archite...</td>\n",
       "      <td>2007</td>\n",
       "    </tr>\n",
       "  </tbody>\n",
       "</table>\n",
       "</div>"
      ],
      "text/plain": [
       "                                            Abstract  \\\n",
       "1  Empirical software engineering focuses on the ...   \n",
       "2  Software architecture description languages al...   \n",
       "3  When an application must evolve to cope with n...   \n",
       "4  Ageless software evolves, to meet new requirem...   \n",
       "5  The past 20 years has seen significant investm...   \n",
       "\n",
       "                                  Author affiliation  \\\n",
       "1                   DISP, Univ  of Rome, Rome, Italy   \n",
       "2                        LSTS   ENIT, Tunis, Tunisia   \n",
       "3  INRIA, Univ  des Sci  et Technol  de Lille, Vi...   \n",
       "4  Sch  of Comput  Sci , Univ  of Adelaide, Adela...   \n",
       "5    Software Group, IBM, Raleigh, NC, United States   \n",
       "\n",
       "                                             Authors  Conf  \\\n",
       "1      ['Falessi, D', ' Kruchten, P', ' Cantone, G']  ECSA   \n",
       "2   ['Jerad, C', ' Barkaoui, K', ' Grissa Touzi, A']  ECSA   \n",
       "3  ['Waignier, G', ' Le Meur, A', 'F', ' Duchien,...  ECSA   \n",
       "4  ['Falkner, K', ' Balasubramaniam, D', ' Detmol...  ECSA   \n",
       "5                   ['Brown, A W', ' McDermid, J A']  ECSA   \n",
       "\n",
       "                                               Title  \\\n",
       "1  Issues in applying empirical software engineer...   \n",
       "2  Hierarchical verification in Maude of LfP soft...   \n",
       "3  FIESTA  a generic framework for integrating ne...   \n",
       "4                                 Informed evolution   \n",
       "5       The art and science of software architecture   \n",
       "\n",
       "                                               terms  year  \n",
       "1  ['software architecture', 'software quality', ...  2007  \n",
       "2  ['formal verification', 'rewriting systems', '...  2007  \n",
       "3  ['formal specification', 'software architectur...  2007  \n",
       "4  ['software architecture', 'software prototypin...  2007  \n",
       "5  ['safety-critical software', 'software archite...  2007  "
      ]
     },
     "execution_count": 60,
     "metadata": {},
     "output_type": "execute_result"
    }
   ],
   "source": [
    "dfTotal.head()"
   ]
  },
  {
   "cell_type": "code",
   "execution_count": 62,
   "metadata": {
    "collapsed": false
   },
   "outputs": [
    {
     "data": {
      "text/plain": [
       "\"['abstract data types', 'object-oriented programming', 'software architecture', 'specification languages', 'telecommunication computing', 'wireless sensor networks', 'WSN application development', 'wireless sensor networks', 'architecture-centric MDE approach', 'software engineering methodology', 'development life-cycle', 'model-driven engineering', 'automatic model transformations', 'abstract models', 'WSN domain-specific modelling language', 'component-based architecture descriptions', 'platform-specific models', 'Radio links and equipment', 'Communications computing', 'Object oriented programming', 'Software engineering techniques', 'Formal methods']\""
      ]
     },
     "execution_count": 62,
     "metadata": {},
     "output_type": "execute_result"
    }
   ],
   "source": [
    "dfTotal.iloc[11].terms"
   ]
  },
  {
   "cell_type": "markdown",
   "metadata": {},
   "source": [
    "# Drafts"
   ]
  },
  {
   "cell_type": "code",
   "execution_count": null,
   "metadata": {
    "collapsed": false
   },
   "outputs": [],
   "source": [
    "retest['Classification Code'] = retest['Classification Code'].apply(reformatcode)"
   ]
  },
  {
   "cell_type": "code",
   "execution_count": null,
   "metadata": {
    "collapsed": false
   },
   "outputs": [],
   "source": [
    "def reformatcode(classcodes):\n",
    "    try:\n",
    "        codes = [x.split(' ',1)[1] for x in classcodes.split('   ')]\n",
    "        return codes\n",
    "    except:\n",
    "        return classcodes\n",
    "        \n",
    "def reformatTerms(terms):\n",
    "    from itertools import chain\n",
    "    try:\n",
    "        terms = [entry.split(' - ') for entry in terms]\n",
    "        return list(chain(*terms))\n",
    "    except:\n",
    "        return 'ERROR' + str(terms)\n",
    "    \n",
    "    "
   ]
  },
  {
   "cell_type": "code",
   "execution_count": null,
   "metadata": {
    "collapsed": false
   },
   "outputs": [],
   "source": [
    "retest['terms1'] = retest.terms.apply(reformatTerms)\n",
    "print retest.iloc[0]['terms1']\n",
    "print retest.iloc[22]['terms1']"
   ]
  },
  {
   "cell_type": "code",
   "execution_count": null,
   "metadata": {
    "collapsed": false
   },
   "outputs": [],
   "source": [
    "retest['newterm'] = retest['terms1'] + retest['Classification Code']"
   ]
  },
  {
   "cell_type": "code",
   "execution_count": null,
   "metadata": {
    "collapsed": false
   },
   "outputs": [],
   "source": [
    "print retest.iloc[0]['newterm']\n",
    "print retest.iloc[22]['newterm']"
   ]
  },
  {
   "cell_type": "code",
   "execution_count": null,
   "metadata": {
    "collapsed": false
   },
   "outputs": [],
   "source": [
    "def parseTerms(tableDF, keyword = 'terms'):\n",
    "    ''' Parse the TOTALABSTRACTS table dataframe terms column.\n",
    "        Create a single set of all terms\n",
    "        \n",
    "        : param tableDF : a Pandas DataFrame (ie TOTALABSTRACTS table as DF)\n",
    "        : param keyword : column name to be recast and set of terms found from\n",
    "        \n",
    "        : output : a master set of terms set as a list (no duplicates)\n",
    "    '''\n",
    "    \n",
    "    df = tableDF\n",
    "    \n",
    "    #recast - since made a string during the entry into the sqlite db.\n",
    "    df[keyword] = df[keyword].apply(lambda kw : ','.join(kw.split('-')))\n",
    "    \n",
    "    #strip the str from prior manipulation\n",
    "    terms = df[keyword].apply(lambda x: set([ e.strip(' \\'') for e in x.strip('[]\\'').split(',')]))\n",
    "    \n",
    "    #create a single set\n",
    "    termSet = frozenset().union(*terms)\n",
    "    \n",
    "    #return as a list\n",
    "    return list(termSet)"
   ]
  },
  {
   "cell_type": "code",
   "execution_count": null,
   "metadata": {
    "collapsed": true
   },
   "outputs": [],
   "source": [
    "row = retest.iloc[0].terms"
   ]
  },
  {
   "cell_type": "code",
   "execution_count": null,
   "metadata": {
    "collapsed": false
   },
   "outputs": [],
   "source": [
    "r = [entry.split(' - ') for entry in row]\n",
    "from itertools import chain\n",
    "list(chain(*r))\n",
    "    "
   ]
  },
  {
   "cell_type": "code",
   "execution_count": 3,
   "metadata": {
    "collapsed": false
   },
   "outputs": [],
   "source": [
    "dfTotal = pd.read_hdf('DFstore88.h5', 'df')\n",
    "successFiles = pd.read_hdf('DFstore88.h5', 'files')\n",
    "failedFiles = pd.read_hdf('DFstore88.h5', 'errors')\n",
    " "
   ]
  },
  {
   "cell_type": "code",
   "execution_count": 4,
   "metadata": {
    "collapsed": false
   },
   "outputs": [
    {
     "data": {
      "text/html": [
       "<div>\n",
       "<table border=\"1\" class=\"dataframe\">\n",
       "  <thead>\n",
       "    <tr style=\"text-align: right;\">\n",
       "      <th></th>\n",
       "      <th>terms</th>\n",
       "      <th>Title</th>\n",
       "      <th>Abstract</th>\n",
       "      <th>Author affiliation</th>\n",
       "      <th>Authors</th>\n",
       "      <th>Conf</th>\n",
       "      <th>year</th>\n",
       "    </tr>\n",
       "  </thead>\n",
       "  <tbody>\n",
       "    <tr>\n",
       "      <th>1</th>\n",
       "      <td>['software architecture', 'software quality', ...</td>\n",
       "      <td>Issues in applying empirical software engineer...</td>\n",
       "      <td>Empirical software engineering focuses on the ...</td>\n",
       "      <td>DISP, Univ  of Rome, Rome, Italy</td>\n",
       "      <td>['Falessi, D', '', '', ' Kruchten, P', ' Canto...</td>\n",
       "      <td>ECSA200</td>\n",
       "      <td>7new</td>\n",
       "    </tr>\n",
       "    <tr>\n",
       "      <th>2</th>\n",
       "      <td>['formal verification', 'rewriting systems', '...</td>\n",
       "      <td>Hierarchical verification in Maude of LfP soft...</td>\n",
       "      <td>Software architecture description languages al...</td>\n",
       "      <td>LSTS   ENIT, Tunis, Tunisia</td>\n",
       "      <td>['Jerad, C', '', '', ' Barkaoui, K', ' Grissa ...</td>\n",
       "      <td>ECSA200</td>\n",
       "      <td>7new</td>\n",
       "    </tr>\n",
       "    <tr>\n",
       "      <th>3</th>\n",
       "      <td>['formal specification', 'software architectur...</td>\n",
       "      <td>FIESTA  a generic framework for integrating ne...</td>\n",
       "      <td>When an application must evolve to cope with n...</td>\n",
       "      <td>INRIA, Univ  des Sci  et Technol  de Lille, Vi...</td>\n",
       "      <td>['Waignier, G', '', '', ' Le Meur, A', 'F', ''...</td>\n",
       "      <td>ECSA200</td>\n",
       "      <td>7new</td>\n",
       "    </tr>\n",
       "    <tr>\n",
       "      <th>4</th>\n",
       "      <td>['software architecture', 'software prototypin...</td>\n",
       "      <td>Informed evolution</td>\n",
       "      <td>Ageless software evolves, to meet new requirem...</td>\n",
       "      <td>Sch  of Comput  Sci , Univ  of Adelaide, Adela...</td>\n",
       "      <td>['Falkner, K', '', '', ' Balasubramaniam, D', ...</td>\n",
       "      <td>ECSA200</td>\n",
       "      <td>7new</td>\n",
       "    </tr>\n",
       "    <tr>\n",
       "      <th>5</th>\n",
       "      <td>['safety-critical software', 'software archite...</td>\n",
       "      <td>The art and science of software architecture</td>\n",
       "      <td>The past 20 years has seen significant investm...</td>\n",
       "      <td>Software Group, IBM, Raleigh, NC, United States</td>\n",
       "      <td>['Brown, A W', '', '', ' McDermid, J A']</td>\n",
       "      <td>ECSA200</td>\n",
       "      <td>7new</td>\n",
       "    </tr>\n",
       "  </tbody>\n",
       "</table>\n",
       "</div>"
      ],
      "text/plain": [
       "                                               terms  \\\n",
       "1  ['software architecture', 'software quality', ...   \n",
       "2  ['formal verification', 'rewriting systems', '...   \n",
       "3  ['formal specification', 'software architectur...   \n",
       "4  ['software architecture', 'software prototypin...   \n",
       "5  ['safety-critical software', 'software archite...   \n",
       "\n",
       "                                               Title  \\\n",
       "1  Issues in applying empirical software engineer...   \n",
       "2  Hierarchical verification in Maude of LfP soft...   \n",
       "3  FIESTA  a generic framework for integrating ne...   \n",
       "4                                 Informed evolution   \n",
       "5       The art and science of software architecture   \n",
       "\n",
       "                                            Abstract  \\\n",
       "1  Empirical software engineering focuses on the ...   \n",
       "2  Software architecture description languages al...   \n",
       "3  When an application must evolve to cope with n...   \n",
       "4  Ageless software evolves, to meet new requirem...   \n",
       "5  The past 20 years has seen significant investm...   \n",
       "\n",
       "                                  Author affiliation  \\\n",
       "1                   DISP, Univ  of Rome, Rome, Italy   \n",
       "2                        LSTS   ENIT, Tunis, Tunisia   \n",
       "3  INRIA, Univ  des Sci  et Technol  de Lille, Vi...   \n",
       "4  Sch  of Comput  Sci , Univ  of Adelaide, Adela...   \n",
       "5    Software Group, IBM, Raleigh, NC, United States   \n",
       "\n",
       "                                             Authors     Conf  year  \n",
       "1  ['Falessi, D', '', '', ' Kruchten, P', ' Canto...  ECSA200  7new  \n",
       "2  ['Jerad, C', '', '', ' Barkaoui, K', ' Grissa ...  ECSA200  7new  \n",
       "3  ['Waignier, G', '', '', ' Le Meur, A', 'F', ''...  ECSA200  7new  \n",
       "4  ['Falkner, K', '', '', ' Balasubramaniam, D', ...  ECSA200  7new  \n",
       "5           ['Brown, A W', '', '', ' McDermid, J A']  ECSA200  7new  "
      ]
     },
     "execution_count": 4,
     "metadata": {},
     "output_type": "execute_result"
    }
   ],
   "source": [
    "dfTotal.head()"
   ]
  },
  {
   "cell_type": "code",
   "execution_count": null,
   "metadata": {
    "collapsed": true
   },
   "outputs": [],
   "source": []
  }
 ],
 "metadata": {
  "kernelspec": {
   "display_name": "Python 2",
   "language": "python",
   "name": "python2"
  },
  "language_info": {
   "codemirror_mode": {
    "name": "ipython",
    "version": 2
   },
   "file_extension": ".py",
   "mimetype": "text/x-python",
   "name": "python",
   "nbconvert_exporter": "python",
   "pygments_lexer": "ipython2",
   "version": "2.7.11"
  }
 },
 "nbformat": 4,
 "nbformat_minor": 0
}
