{
 "cells": [
  {
   "cell_type": "code",
   "execution_count": 2,
   "metadata": {
    "collapsed": true
   },
   "outputs": [],
   "source": [
    "import pandas as pd\n",
    "import numpy as np\n",
    "%matplotlib inline"
   ]
  },
  {
   "cell_type": "code",
   "execution_count": 1,
   "metadata": {
    "collapsed": true
   },
   "outputs": [],
   "source": [
    "#file1 = '../ArchConfAbstracts/ECSA2007.txt'\n",
    "file2 = '../ArchConfAbstracts/QoSA2008.txt'"
   ]
  },
  {
   "cell_type": "code",
   "execution_count": 2,
   "metadata": {
    "collapsed": false
   },
   "outputs": [],
   "source": [
    "import parseFiles as parser\n",
    "parser = reload(parser)"
   ]
  },
  {
   "cell_type": "code",
   "execution_count": 4,
   "metadata": {
    "collapsed": false
   },
   "outputs": [],
   "source": [
    "retest = parser.parseEntrytoDF(file2)\n"
   ]
  },
  {
   "cell_type": "code",
   "execution_count": 5,
   "metadata": {
    "collapsed": false
   },
   "outputs": [
    {
     "data": {
      "text/plain": [
       "\"['Ardagna, Danilo', '', '', 'Ghezzi, Carlo', '', '', 'Mirandola, Raffaela']\""
      ]
     },
     "execution_count": 5,
     "metadata": {},
     "output_type": "execute_result"
    }
   ],
   "source": [
    "retest.iloc[2].Authors\n"
   ]
  },
  {
   "cell_type": "code",
   "execution_count": 6,
   "metadata": {
    "collapsed": false
   },
   "outputs": [
    {
     "name": "stdout",
     "output_type": "stream",
     "text": [
      "['Architectural design', 'Computer software selection and evaluation', 'Fault tolerance', 'Fault tolerant computer systems', 'Maintainability', 'Middleware', 'Quality assurance', 'Architectural pattern', 'Dependable softwares', 'Development stages', 'Enterprise service bus', 'Failover', 'Fault prevention', 'Key attributes', 'Middleware architecture', 'Optimize design', 'Quality attributes', 'Self-managing', 'Self-managing systems', 'Maintenance', 'Quality Assurance and Control', 'Management', 'Computer Applications', 'Computer Programming', 'Computer Software, Data Handling and Applications', 'Digital Computers and Systems', 'Structural Design, General', 'Buildings and Towers']\n",
      "['software engineering', 'resource architecture', 'continuous performance engineering', 'software engineering', 'Software engineering techniques']\n",
      "['high level languages', 'software performance evaluation', 'Web services', 'performance prediction', 'Web service workflows', 'service-oriented architecture paradigm', 'Business Process Execution Language', 'BPEL workflow', 'quality of service', 'workflow performance evaluation', 'multiview approach', 'integrated framework', 'WSDL specification', 'Distributed systems software', 'Software performance evaluation', 'High level languages']\n",
      "['Traceability links are generally recognised as helpful means for improving the effectiveness of evolutionary development processes. However, their practical usage in analysis and design is still unsatisfying, especially due to the high effort required for creation, maintenance and verification of the links, and due to lacking or missing methods and tools for their management. In this paper a concept for the systematic management of traceability is introduced, adapted for the and integrated into the unified process as one of the widely accepted software development methods. As an extension, requirements templates are applied to facilitate a tool supported analysis of natural language texts in use case descriptions. Template-based analyses enable a determination of types of terms and a check of their correct application as well as a recognition of implicit connections between development artefacts. A rule set is defined as a first step towards a powerful support of traceability handling. In the ongoing project the rule set is enhanced by heuristics and semantic-based rules to a whole framework of methods and rules. (14 refs)', 'Traceability links are generally recognised as helpful means for improving the effectiveness of evolutionary development processes. However, their practical usage in analysis and design is still unsatisfying, especially due to the high effort required for creation, maintenance and verification of the links, and due to lacking or missing methods and tools for their management. In this paper a concept for the systematic management of traceability is introduced, adapted for the and integrated into the unified process as one of the widely accepted software development methods. As an extension, requirements templates are applied to facilitate a tool supported analysis of natural language texts in use case descriptions. Template-based analyses enable a determination of types of terms and a check of their correct application as well as a recognition of implicit connections between development artefacts. A rule set is defined as a first step towards a powerful support of traceability handling. In the ongoing project the rule set is enhanced by heuristics and semantic-based rules to a whole framework of methods and rules. (14 refs)', 'business data processing', 'object-oriented methods', 'software metrics', 'traceability links', 'traceability systematic management', 'unified process', 'software development method', 'natural language text', 'template-based analyses', 'semantic-based rules', 'Business and administrative computing', 'Object oriented programming', 'Software metrics', 'Software engineering techniques']\n",
      "['belief networks', 'software architecture', 'software reliability', 'stochastic processes', 'Bayesian network model', 'software system predicting reliability', 'software architecture', 'stochastic reliability model', 'Software engineering techniques', 'Other topics in statistics', 'Combinatorial mathematics']\n",
      "['knowledge management', 'software architecture', 'software architectural knowledge management', 'organizational unit', 'align theory', 'minimal concept set', 'Business and administrative computing', 'Software engineering techniques']\n",
      "['knowledge acquisition', 'software architecture', 'architecture recovery', 'program understanding', 'business change', 'domain engineering', 'up-to-date architectural documentation', 'knowledge extraction', 'Software engineering techniques', 'Knowledge engineering techniques']\n",
      "['information systems', 'software architecture', 'software architecture', 'information systems', 'architectural knowledge', 'survey-based research', 'Software engineering techniques']\n",
      "['software architecture', 'industrial practices', 'architecture evaluation', 'software architecture', 'Software engineering techniques']\n",
      "['embedded systems', 'software architecture', 'software reusability', 'component models', 'embedded systems', 'modularity', 'reusability', 'resource-restricted embedded systems', 'CAmkES component model', 'Software engineering techniques']\n",
      "['Capability Maturity Model', 'DP management', 'program verification', 'software architecture', 'CMMI', 'Capability Maturity Model Integration', 'generic architecting process', 'IT company', 'requirement elicitation', 'product development context', 'Software management', 'Software engineering techniques', 'Diagnostic, testing, debugging and evaluating systems', 'Formal methods']\n"
     ]
    }
   ],
   "source": [
    "for terms in retest.iloc[14:25]['terms']:\n",
    "    print terms"
   ]
  },
  {
   "cell_type": "code",
   "execution_count": 7,
   "metadata": {
    "collapsed": false
   },
   "outputs": [
    {
     "data": {
      "text/plain": [
       "terms                 ['object-oriented programming', 'software arch...\n",
       "Title                 Predicting the performance of component based ...\n",
       "Abstract              Performance predictions aim at increasing the ...\n",
       "Author affiliation    Grad  Sch  Trustsoft, Univ  of Oldenburg, Olde...\n",
       "Authors               ['Koziolek, H', '', '', ' Becker, S', '', '', ...\n",
       "Conf                                                               QoSA\n",
       "year                                                               2008\n",
       "Name: 33, dtype: object"
      ]
     },
     "execution_count": 7,
     "metadata": {},
     "output_type": "execute_result"
    }
   ],
   "source": [
    "retest.iloc[-1]"
   ]
  },
  {
   "cell_type": "code",
   "execution_count": 8,
   "metadata": {
    "collapsed": false
   },
   "outputs": [],
   "source": [
    "retest2 = parser.parseEntrytoDF(file2)"
   ]
  },
  {
   "cell_type": "code",
   "execution_count": 9,
   "metadata": {
    "collapsed": false
   },
   "outputs": [
    {
     "data": {
      "text/html": [
       "<div>\n",
       "<table border=\"1\" class=\"dataframe\">\n",
       "  <thead>\n",
       "    <tr style=\"text-align: right;\">\n",
       "      <th></th>\n",
       "      <th>terms</th>\n",
       "      <th>Title</th>\n",
       "      <th>Abstract</th>\n",
       "      <th>Author affiliation</th>\n",
       "      <th>Authors</th>\n",
       "      <th>Conf</th>\n",
       "      <th>year</th>\n",
       "    </tr>\n",
       "  </thead>\n",
       "  <tbody>\n",
       "    <tr>\n",
       "      <th>4</th>\n",
       "      <td>['autoregressive moving average processes', 'f...</td>\n",
       "      <td>Pre emptive adaptation through classical contr...</td>\n",
       "      <td>Self adaptive systems are capable of changing ...</td>\n",
       "      <td>King   s Coll  London, London, United Kingdom</td>\n",
       "      <td>['Duzbayev, N', '', '', ' Poernomo, I', '', '']</td>\n",
       "      <td>QoSA</td>\n",
       "      <td>2008</td>\n",
       "    </tr>\n",
       "    <tr>\n",
       "      <th>7</th>\n",
       "      <td>['Channel capacity', 'Computer software select...</td>\n",
       "      <td>MOSES  MOdeling software and platform architEc...</td>\n",
       "      <td>Performance analysis at the architectural leve...</td>\n",
       "      <td>Dipartimento di Informatica, Universit    dell...</td>\n",
       "      <td>['Cortellessa, Vittorio', '', '', 'Pierini, Pi...</td>\n",
       "      <td>QoSA</td>\n",
       "      <td>2008</td>\n",
       "    </tr>\n",
       "    <tr>\n",
       "      <th>8</th>\n",
       "      <td>['Calibration', 'Computer software selection a...</td>\n",
       "      <td>Rethinking the use of models in software archi...</td>\n",
       "      <td>Models play a central role in software enginee...</td>\n",
       "      <td>Dipartimento di Elettronica e Informazione, Po...</td>\n",
       "      <td>['Ardagna, Danilo', '', '', 'Ghezzi, Carlo', '...</td>\n",
       "      <td>QoSA</td>\n",
       "      <td>2008</td>\n",
       "    </tr>\n",
       "    <tr>\n",
       "      <th>9</th>\n",
       "      <td>['Computer software selection and evaluation',...</td>\n",
       "      <td>Integrating quality attribute reasoning framew...</td>\n",
       "      <td>Techniques and tools for specific quality attr...</td>\n",
       "      <td>Software Engineering Institute, Carnegie Mello...</td>\n",
       "      <td>['Diaz Pace, Andres', '', '', 'Kim, Hyunwoo', ...</td>\n",
       "      <td>QoSA</td>\n",
       "      <td>2008</td>\n",
       "    </tr>\n",
       "    <tr>\n",
       "      <th>10</th>\n",
       "      <td>['Computer software selection and evaluation',...</td>\n",
       "      <td>Sharing the architectural knowledge of quantit...</td>\n",
       "      <td>Sharing the architectural knowledge of archite...</td>\n",
       "      <td>Department of Mathematics and Computing Scienc...</td>\n",
       "      <td>['Jansen, Anton', '', '', 'De Vries, Tjaard', ...</td>\n",
       "      <td>QoSA</td>\n",
       "      <td>2008</td>\n",
       "    </tr>\n",
       "  </tbody>\n",
       "</table>\n",
       "</div>"
      ],
      "text/plain": [
       "                                                terms  \\\n",
       "4   ['autoregressive moving average processes', 'f...   \n",
       "7   ['Channel capacity', 'Computer software select...   \n",
       "8   ['Calibration', 'Computer software selection a...   \n",
       "9   ['Computer software selection and evaluation',...   \n",
       "10  ['Computer software selection and evaluation',...   \n",
       "\n",
       "                                                Title  \\\n",
       "4   Pre emptive adaptation through classical contr...   \n",
       "7   MOSES  MOdeling software and platform architEc...   \n",
       "8   Rethinking the use of models in software archi...   \n",
       "9   Integrating quality attribute reasoning framew...   \n",
       "10  Sharing the architectural knowledge of quantit...   \n",
       "\n",
       "                                             Abstract  \\\n",
       "4   Self adaptive systems are capable of changing ...   \n",
       "7   Performance analysis at the architectural leve...   \n",
       "8   Models play a central role in software enginee...   \n",
       "9   Techniques and tools for specific quality attr...   \n",
       "10  Sharing the architectural knowledge of archite...   \n",
       "\n",
       "                                   Author affiliation  \\\n",
       "4       King   s Coll  London, London, United Kingdom   \n",
       "7   Dipartimento di Informatica, Universit    dell...   \n",
       "8   Dipartimento di Elettronica e Informazione, Po...   \n",
       "9   Software Engineering Institute, Carnegie Mello...   \n",
       "10  Department of Mathematics and Computing Scienc...   \n",
       "\n",
       "                                              Authors  Conf  year  \n",
       "4     ['Duzbayev, N', '', '', ' Poernomo, I', '', '']  QoSA  2008  \n",
       "7   ['Cortellessa, Vittorio', '', '', 'Pierini, Pi...  QoSA  2008  \n",
       "8   ['Ardagna, Danilo', '', '', 'Ghezzi, Carlo', '...  QoSA  2008  \n",
       "9   ['Diaz Pace, Andres', '', '', 'Kim, Hyunwoo', ...  QoSA  2008  \n",
       "10  ['Jansen, Anton', '', '', 'De Vries, Tjaard', ...  QoSA  2008  "
      ]
     },
     "execution_count": 9,
     "metadata": {},
     "output_type": "execute_result"
    }
   ],
   "source": [
    "retest2.head()"
   ]
  },
  {
   "cell_type": "code",
   "execution_count": 119,
   "metadata": {
    "collapsed": false
   },
   "outputs": [
    {
     "data": {
      "text/plain": [
       "'Falessi,D,,,Kruchten,P,Cantone,G'"
      ]
     },
     "execution_count": 119,
     "metadata": {},
     "output_type": "execute_result"
    }
   ],
   "source": [
    "\n"
   ]
  },
  {
   "cell_type": "code",
   "execution_count": null,
   "metadata": {
    "collapsed": true
   },
   "outputs": [],
   "source": []
  },
  {
   "cell_type": "markdown",
   "metadata": {},
   "source": [
    "# Testing of hdfstorage command line script"
   ]
  },
  {
   "cell_type": "code",
   "execution_count": 6,
   "metadata": {
    "collapsed": false
   },
   "outputs": [
    {
     "name": "stdout",
     "output_type": "stream",
     "text": [
      "0      ArchConfAbstracts22/ECSA2007.txt\n",
      "1      ArchConfAbstracts22/ECSA2008.txt\n",
      "2      ArchConfAbstracts22/ECSA2009.txt\n",
      "3      ArchConfAbstracts22/ECSA2010.txt\n",
      "4      ArchConfAbstracts22/ECSA2011.txt\n",
      "5      ArchConfAbstracts22/ECSA2012.txt\n",
      "6      ArchConfAbstracts22/ECSA2013.txt\n",
      "7      ArchConfAbstracts22/ECSA2014.txt\n",
      "8      ArchConfAbstracts22/QoSA2005.txt\n",
      "9      ArchConfAbstracts22/QoSA2006.txt\n",
      "10     ArchConfAbstracts22/QoSA2007.txt\n",
      "11     ArchConfAbstracts22/QoSA2008.txt\n",
      "12     ArchConfAbstracts22/QoSA2009.txt\n",
      "13     ArchConfAbstracts22/QoSA2010.txt\n",
      "14     ArchConfAbstracts22/QoSA2011.txt\n",
      "15     ArchConfAbstracts22/QoSA2012.txt\n",
      "16     ArchConfAbstracts22/QoSA2013.txt\n",
      "17     ArchConfAbstracts22/QoSA2014.txt\n",
      "18    ArchConfAbstracts22/WICSA2005.txt\n",
      "19    ArchConfAbstracts22/WICSA2007.txt\n",
      "20    ArchConfAbstracts22/WICSA2008.txt\n",
      "21    ArchConfAbstracts22/WICSA2009.txt\n",
      "22    ArchConfAbstracts22/WICSA2011.txt\n",
      "23    ArchConfAbstracts22/WICSA2012.txt\n",
      "24    ArchConfAbstracts22/WICSA2014.txt\n",
      "dtype: object\n",
      "0    ArchConfAbstracts22/WICSA1999.txt\n",
      "1    ArchConfAbstracts22/WICSA2001.txt\n",
      "dtype: object\n"
     ]
    },
    {
     "data": {
      "text/html": [
       "<div>\n",
       "<table border=\"1\" class=\"dataframe\">\n",
       "  <thead>\n",
       "    <tr style=\"text-align: right;\">\n",
       "      <th></th>\n",
       "      <th>Abstract</th>\n",
       "      <th>Author affiliation</th>\n",
       "      <th>Authors</th>\n",
       "      <th>Conf</th>\n",
       "      <th>Title</th>\n",
       "      <th>terms</th>\n",
       "      <th>year</th>\n",
       "    </tr>\n",
       "  </thead>\n",
       "  <tbody>\n",
       "  </tbody>\n",
       "</table>\n",
       "</div>"
      ],
      "text/plain": [
       "Empty DataFrame\n",
       "Columns: [Abstract, Author affiliation, Authors, Conf, Title, terms, year]\n",
       "Index: []"
      ]
     },
     "execution_count": 6,
     "metadata": {},
     "output_type": "execute_result"
    }
   ],
   "source": [
    "dfTotal = pd.read_hdf('DFstore5test.h5', 'df')\n",
    "successFiles = pd.read_hdf('DFstore5test.h5', 'files')\n",
    "failedFiles = pd.read_hdf('DFstore5test.h5', 'errors')\n",
    "\n",
    "print(successFiles)\n",
    "print(failedFiles)\n",
    "\n",
    "dfTotal.query('Conf == \"WICSA\"').query('year == 1999')"
   ]
  },
  {
   "cell_type": "code",
   "execution_count": 60,
   "metadata": {
    "collapsed": false
   },
   "outputs": [
    {
     "data": {
      "text/html": [
       "<div>\n",
       "<table border=\"1\" class=\"dataframe\">\n",
       "  <thead>\n",
       "    <tr style=\"text-align: right;\">\n",
       "      <th></th>\n",
       "      <th>Abstract</th>\n",
       "      <th>Author affiliation</th>\n",
       "      <th>Authors</th>\n",
       "      <th>Conf</th>\n",
       "      <th>Title</th>\n",
       "      <th>terms</th>\n",
       "      <th>year</th>\n",
       "    </tr>\n",
       "  </thead>\n",
       "  <tbody>\n",
       "    <tr>\n",
       "      <th>1</th>\n",
       "      <td>Empirical software engineering focuses on the ...</td>\n",
       "      <td>DISP, Univ  of Rome, Rome, Italy</td>\n",
       "      <td>['Falessi, D', ' Kruchten, P', ' Cantone, G']</td>\n",
       "      <td>ECSA</td>\n",
       "      <td>Issues in applying empirical software engineer...</td>\n",
       "      <td>['software architecture', 'software quality', ...</td>\n",
       "      <td>2007</td>\n",
       "    </tr>\n",
       "    <tr>\n",
       "      <th>2</th>\n",
       "      <td>Software architecture description languages al...</td>\n",
       "      <td>LSTS   ENIT, Tunis, Tunisia</td>\n",
       "      <td>['Jerad, C', ' Barkaoui, K', ' Grissa Touzi, A']</td>\n",
       "      <td>ECSA</td>\n",
       "      <td>Hierarchical verification in Maude of LfP soft...</td>\n",
       "      <td>['formal verification', 'rewriting systems', '...</td>\n",
       "      <td>2007</td>\n",
       "    </tr>\n",
       "    <tr>\n",
       "      <th>3</th>\n",
       "      <td>When an application must evolve to cope with n...</td>\n",
       "      <td>INRIA, Univ  des Sci  et Technol  de Lille, Vi...</td>\n",
       "      <td>['Waignier, G', ' Le Meur, A', 'F', ' Duchien,...</td>\n",
       "      <td>ECSA</td>\n",
       "      <td>FIESTA  a generic framework for integrating ne...</td>\n",
       "      <td>['formal specification', 'software architectur...</td>\n",
       "      <td>2007</td>\n",
       "    </tr>\n",
       "    <tr>\n",
       "      <th>4</th>\n",
       "      <td>Ageless software evolves, to meet new requirem...</td>\n",
       "      <td>Sch  of Comput  Sci , Univ  of Adelaide, Adela...</td>\n",
       "      <td>['Falkner, K', ' Balasubramaniam, D', ' Detmol...</td>\n",
       "      <td>ECSA</td>\n",
       "      <td>Informed evolution</td>\n",
       "      <td>['software architecture', 'software prototypin...</td>\n",
       "      <td>2007</td>\n",
       "    </tr>\n",
       "    <tr>\n",
       "      <th>5</th>\n",
       "      <td>The past 20 years has seen significant investm...</td>\n",
       "      <td>Software Group, IBM, Raleigh, NC, United States</td>\n",
       "      <td>['Brown, A W', ' McDermid, J A']</td>\n",
       "      <td>ECSA</td>\n",
       "      <td>The art and science of software architecture</td>\n",
       "      <td>['safety-critical software', 'software archite...</td>\n",
       "      <td>2007</td>\n",
       "    </tr>\n",
       "  </tbody>\n",
       "</table>\n",
       "</div>"
      ],
      "text/plain": [
       "                                            Abstract  \\\n",
       "1  Empirical software engineering focuses on the ...   \n",
       "2  Software architecture description languages al...   \n",
       "3  When an application must evolve to cope with n...   \n",
       "4  Ageless software evolves, to meet new requirem...   \n",
       "5  The past 20 years has seen significant investm...   \n",
       "\n",
       "                                  Author affiliation  \\\n",
       "1                   DISP, Univ  of Rome, Rome, Italy   \n",
       "2                        LSTS   ENIT, Tunis, Tunisia   \n",
       "3  INRIA, Univ  des Sci  et Technol  de Lille, Vi...   \n",
       "4  Sch  of Comput  Sci , Univ  of Adelaide, Adela...   \n",
       "5    Software Group, IBM, Raleigh, NC, United States   \n",
       "\n",
       "                                             Authors  Conf  \\\n",
       "1      ['Falessi, D', ' Kruchten, P', ' Cantone, G']  ECSA   \n",
       "2   ['Jerad, C', ' Barkaoui, K', ' Grissa Touzi, A']  ECSA   \n",
       "3  ['Waignier, G', ' Le Meur, A', 'F', ' Duchien,...  ECSA   \n",
       "4  ['Falkner, K', ' Balasubramaniam, D', ' Detmol...  ECSA   \n",
       "5                   ['Brown, A W', ' McDermid, J A']  ECSA   \n",
       "\n",
       "                                               Title  \\\n",
       "1  Issues in applying empirical software engineer...   \n",
       "2  Hierarchical verification in Maude of LfP soft...   \n",
       "3  FIESTA  a generic framework for integrating ne...   \n",
       "4                                 Informed evolution   \n",
       "5       The art and science of software architecture   \n",
       "\n",
       "                                               terms  year  \n",
       "1  ['software architecture', 'software quality', ...  2007  \n",
       "2  ['formal verification', 'rewriting systems', '...  2007  \n",
       "3  ['formal specification', 'software architectur...  2007  \n",
       "4  ['software architecture', 'software prototypin...  2007  \n",
       "5  ['safety-critical software', 'software archite...  2007  "
      ]
     },
     "execution_count": 60,
     "metadata": {},
     "output_type": "execute_result"
    }
   ],
   "source": [
    "dfTotal.head()"
   ]
  },
  {
   "cell_type": "code",
   "execution_count": 62,
   "metadata": {
    "collapsed": false
   },
   "outputs": [
    {
     "data": {
      "text/plain": [
       "\"['abstract data types', 'object-oriented programming', 'software architecture', 'specification languages', 'telecommunication computing', 'wireless sensor networks', 'WSN application development', 'wireless sensor networks', 'architecture-centric MDE approach', 'software engineering methodology', 'development life-cycle', 'model-driven engineering', 'automatic model transformations', 'abstract models', 'WSN domain-specific modelling language', 'component-based architecture descriptions', 'platform-specific models', 'Radio links and equipment', 'Communications computing', 'Object oriented programming', 'Software engineering techniques', 'Formal methods']\""
      ]
     },
     "execution_count": 62,
     "metadata": {},
     "output_type": "execute_result"
    }
   ],
   "source": [
    "dfTotal.iloc[11].terms"
   ]
  },
  {
   "cell_type": "markdown",
   "metadata": {},
   "source": [
    "# Drafts"
   ]
  },
  {
   "cell_type": "code",
   "execution_count": null,
   "metadata": {
    "collapsed": false
   },
   "outputs": [],
   "source": [
    "retest['Classification Code'] = retest['Classification Code'].apply(reformatcode)"
   ]
  },
  {
   "cell_type": "code",
   "execution_count": null,
   "metadata": {
    "collapsed": false
   },
   "outputs": [],
   "source": [
    "def reformatcode(classcodes):\n",
    "    try:\n",
    "        codes = [x.split(' ',1)[1] for x in classcodes.split('   ')]\n",
    "        return codes\n",
    "    except:\n",
    "        return classcodes\n",
    "        \n",
    "def reformatTerms(terms):\n",
    "    from itertools import chain\n",
    "    try:\n",
    "        terms = [entry.split(' - ') for entry in terms]\n",
    "        return list(chain(*terms))\n",
    "    except:\n",
    "        return 'ERROR' + str(terms)\n",
    "    \n",
    "    "
   ]
  },
  {
   "cell_type": "code",
   "execution_count": null,
   "metadata": {
    "collapsed": false
   },
   "outputs": [],
   "source": [
    "retest['terms1'] = retest.terms.apply(reformatTerms)\n",
    "print retest.iloc[0]['terms1']\n",
    "print retest.iloc[22]['terms1']"
   ]
  },
  {
   "cell_type": "code",
   "execution_count": null,
   "metadata": {
    "collapsed": false
   },
   "outputs": [],
   "source": [
    "retest['newterm'] = retest['terms1'] + retest['Classification Code']"
   ]
  },
  {
   "cell_type": "code",
   "execution_count": null,
   "metadata": {
    "collapsed": false
   },
   "outputs": [],
   "source": [
    "print retest.iloc[0]['newterm']\n",
    "print retest.iloc[22]['newterm']"
   ]
  },
  {
   "cell_type": "code",
   "execution_count": null,
   "metadata": {
    "collapsed": false
   },
   "outputs": [],
   "source": [
    "def parseTerms(tableDF, keyword = 'terms'):\n",
    "    ''' Parse the TOTALABSTRACTS table dataframe terms column.\n",
    "        Create a single set of all terms\n",
    "        \n",
    "        : param tableDF : a Pandas DataFrame (ie TOTALABSTRACTS table as DF)\n",
    "        : param keyword : column name to be recast and set of terms found from\n",
    "        \n",
    "        : output : a master set of terms set as a list (no duplicates)\n",
    "    '''\n",
    "    \n",
    "    df = tableDF\n",
    "    \n",
    "    #recast - since made a string during the entry into the sqlite db.\n",
    "    df[keyword] = df[keyword].apply(lambda kw : ','.join(kw.split('-')))\n",
    "    \n",
    "    #strip the str from prior manipulation\n",
    "    terms = df[keyword].apply(lambda x: set([ e.strip(' \\'') for e in x.strip('[]\\'').split(',')]))\n",
    "    \n",
    "    #create a single set\n",
    "    termSet = frozenset().union(*terms)\n",
    "    \n",
    "    #return as a list\n",
    "    return list(termSet)"
   ]
  },
  {
   "cell_type": "code",
   "execution_count": null,
   "metadata": {
    "collapsed": true
   },
   "outputs": [],
   "source": [
    "row = retest.iloc[0].terms"
   ]
  },
  {
   "cell_type": "code",
   "execution_count": null,
   "metadata": {
    "collapsed": false
   },
   "outputs": [],
   "source": [
    "r = [entry.split(' - ') for entry in row]\n",
    "from itertools import chain\n",
    "list(chain(*r))\n",
    "    "
   ]
  },
  {
   "cell_type": "code",
   "execution_count": 12,
   "metadata": {
    "collapsed": false
   },
   "outputs": [],
   "source": [
    "dfTotal = pd.read_hdf('DFstore4.h5', 'df')\n",
    "successFiles = pd.read_hdf('DFstore4.h5', 'files')\n",
    "failedFiles = pd.read_hdf('DFstore4.h5', 'errors')\n",
    " "
   ]
  },
  {
   "cell_type": "code",
   "execution_count": 19,
   "metadata": {
    "collapsed": false
   },
   "outputs": [
    {
     "name": "stdout",
     "output_type": "stream",
     "text": [
      "0      ../ArchConfAbstracts/ECSA2007.txt\n",
      "1      ../ArchConfAbstracts/ECSA2008.txt\n",
      "2      ../ArchConfAbstracts/ECSA2009.txt\n",
      "3      ../ArchConfAbstracts/ECSA2010.txt\n",
      "4      ../ArchConfAbstracts/ECSA2011.txt\n",
      "5      ../ArchConfAbstracts/ECSA2012.txt\n",
      "6      ../ArchConfAbstracts/ECSA2013.txt\n",
      "7      ../ArchConfAbstracts/ECSA2014.txt\n",
      "8      ../ArchConfAbstracts/QoSA2005.txt\n",
      "9      ../ArchConfAbstracts/QoSA2006.txt\n",
      "10     ../ArchConfAbstracts/QoSA2007.txt\n",
      "11     ../ArchConfAbstracts/QoSA2008.txt\n",
      "12     ../ArchConfAbstracts/QoSA2009.txt\n",
      "13     ../ArchConfAbstracts/QoSA2010.txt\n",
      "14     ../ArchConfAbstracts/QoSA2011.txt\n",
      "15     ../ArchConfAbstracts/QoSA2012.txt\n",
      "16     ../ArchConfAbstracts/QoSA2013.txt\n",
      "17     ../ArchConfAbstracts/QoSA2014.txt\n",
      "18    ../ArchConfAbstracts/WICSA2004.txt\n",
      "19    ../ArchConfAbstracts/WICSA2005.txt\n",
      "20    ../ArchConfAbstracts/WICSA2007.txt\n",
      "21    ../ArchConfAbstracts/WICSA2008.txt\n",
      "22    ../ArchConfAbstracts/WICSA2009.txt\n",
      "23    ../ArchConfAbstracts/WICSA2011.txt\n",
      "24    ../ArchConfAbstracts/WICSA2012.txt\n",
      "25    ../ArchConfAbstracts/WICSA2014.txt\n",
      "dtype: object\n",
      "0    ../ArchConfAbstracts/WICSA1999.txt\n",
      "1    ../ArchConfAbstracts/WICSA2001.txt\n",
      "2    ../ArchConfAbstracts/WICSA2002.txt\n",
      "dtype: object\n"
     ]
    },
    {
     "data": {
      "text/html": [
       "<div>\n",
       "<table border=\"1\" class=\"dataframe\">\n",
       "  <thead>\n",
       "    <tr style=\"text-align: right;\">\n",
       "      <th></th>\n",
       "      <th>Abstract</th>\n",
       "      <th>Author affiliation</th>\n",
       "      <th>Authors</th>\n",
       "      <th>Conf</th>\n",
       "      <th>Title</th>\n",
       "      <th>terms</th>\n",
       "      <th>year</th>\n",
       "    </tr>\n",
       "  </thead>\n",
       "  <tbody>\n",
       "    <tr>\n",
       "      <th>1</th>\n",
       "      <td>Empirical software engineering focuses on the ...</td>\n",
       "      <td>DISP, Univ  of Rome, Rome, Italy</td>\n",
       "      <td>['Falessi, D', '', '', ' Kruchten, P', ' Canto...</td>\n",
       "      <td>ECSA</td>\n",
       "      <td>Issues in applying empirical software engineer...</td>\n",
       "      <td>['software architecture', 'software quality', ...</td>\n",
       "      <td>2007</td>\n",
       "    </tr>\n",
       "    <tr>\n",
       "      <th>2</th>\n",
       "      <td>Software architecture description languages al...</td>\n",
       "      <td>LSTS   ENIT, Tunis, Tunisia</td>\n",
       "      <td>['Jerad, C', '', '', ' Barkaoui, K', ' Grissa ...</td>\n",
       "      <td>ECSA</td>\n",
       "      <td>Hierarchical verification in Maude of LfP soft...</td>\n",
       "      <td>['formal verification', 'rewriting systems', '...</td>\n",
       "      <td>2007</td>\n",
       "    </tr>\n",
       "    <tr>\n",
       "      <th>3</th>\n",
       "      <td>When an application must evolve to cope with n...</td>\n",
       "      <td>INRIA, Univ  des Sci  et Technol  de Lille, Vi...</td>\n",
       "      <td>['Waignier, G', '', '', ' Le Meur, A', 'F', ''...</td>\n",
       "      <td>ECSA</td>\n",
       "      <td>FIESTA  a generic framework for integrating ne...</td>\n",
       "      <td>['formal specification', 'software architectur...</td>\n",
       "      <td>2007</td>\n",
       "    </tr>\n",
       "    <tr>\n",
       "      <th>4</th>\n",
       "      <td>Ageless software evolves, to meet new requirem...</td>\n",
       "      <td>Sch  of Comput  Sci , Univ  of Adelaide, Adela...</td>\n",
       "      <td>['Falkner, K', '', '', ' Balasubramaniam, D', ...</td>\n",
       "      <td>ECSA</td>\n",
       "      <td>Informed evolution</td>\n",
       "      <td>['software architecture', 'software prototypin...</td>\n",
       "      <td>2007</td>\n",
       "    </tr>\n",
       "    <tr>\n",
       "      <th>5</th>\n",
       "      <td>The past 20 years has seen significant investm...</td>\n",
       "      <td>Software Group, IBM, Raleigh, NC, United States</td>\n",
       "      <td>['Brown, A W', '', '', ' McDermid, J A']</td>\n",
       "      <td>ECSA</td>\n",
       "      <td>The art and science of software architecture</td>\n",
       "      <td>['safety-critical software', 'software archite...</td>\n",
       "      <td>2007</td>\n",
       "    </tr>\n",
       "  </tbody>\n",
       "</table>\n",
       "</div>"
      ],
      "text/plain": [
       "                                            Abstract  \\\n",
       "1  Empirical software engineering focuses on the ...   \n",
       "2  Software architecture description languages al...   \n",
       "3  When an application must evolve to cope with n...   \n",
       "4  Ageless software evolves, to meet new requirem...   \n",
       "5  The past 20 years has seen significant investm...   \n",
       "\n",
       "                                  Author affiliation  \\\n",
       "1                   DISP, Univ  of Rome, Rome, Italy   \n",
       "2                        LSTS   ENIT, Tunis, Tunisia   \n",
       "3  INRIA, Univ  des Sci  et Technol  de Lille, Vi...   \n",
       "4  Sch  of Comput  Sci , Univ  of Adelaide, Adela...   \n",
       "5    Software Group, IBM, Raleigh, NC, United States   \n",
       "\n",
       "                                             Authors  Conf  \\\n",
       "1  ['Falessi, D', '', '', ' Kruchten, P', ' Canto...  ECSA   \n",
       "2  ['Jerad, C', '', '', ' Barkaoui, K', ' Grissa ...  ECSA   \n",
       "3  ['Waignier, G', '', '', ' Le Meur, A', 'F', ''...  ECSA   \n",
       "4  ['Falkner, K', '', '', ' Balasubramaniam, D', ...  ECSA   \n",
       "5           ['Brown, A W', '', '', ' McDermid, J A']  ECSA   \n",
       "\n",
       "                                               Title  \\\n",
       "1  Issues in applying empirical software engineer...   \n",
       "2  Hierarchical verification in Maude of LfP soft...   \n",
       "3  FIESTA  a generic framework for integrating ne...   \n",
       "4                                 Informed evolution   \n",
       "5       The art and science of software architecture   \n",
       "\n",
       "                                               terms  year  \n",
       "1  ['software architecture', 'software quality', ...  2007  \n",
       "2  ['formal verification', 'rewriting systems', '...  2007  \n",
       "3  ['formal specification', 'software architectur...  2007  \n",
       "4  ['software architecture', 'software prototypin...  2007  \n",
       "5  ['safety-critical software', 'software archite...  2007  "
      ]
     },
     "execution_count": 19,
     "metadata": {},
     "output_type": "execute_result"
    }
   ],
   "source": [
    "dfTotal.head()\n",
    "print successFiles\n",
    "print failedFiles\n",
    "dfTotal.head()"
   ]
  },
  {
   "cell_type": "code",
   "execution_count": 20,
   "metadata": {
    "collapsed": false
   },
   "outputs": [
    {
     "name": "stdout",
     "output_type": "stream",
     "text": [
      "0      ArchConfAbstracts22/ECSA2007.txt\n",
      "1      ArchConfAbstracts22/ECSA2008.txt\n",
      "2      ArchConfAbstracts22/ECSA2009.txt\n",
      "3      ArchConfAbstracts22/ECSA2010.txt\n",
      "4      ArchConfAbstracts22/ECSA2011.txt\n",
      "5      ArchConfAbstracts22/ECSA2012.txt\n",
      "6      ArchConfAbstracts22/ECSA2013.txt\n",
      "7      ArchConfAbstracts22/ECSA2014.txt\n",
      "8      ArchConfAbstracts22/QoSA2005.txt\n",
      "9      ArchConfAbstracts22/QoSA2006.txt\n",
      "10     ArchConfAbstracts22/QoSA2007.txt\n",
      "11     ArchConfAbstracts22/QoSA2008.txt\n",
      "12     ArchConfAbstracts22/QoSA2009.txt\n",
      "13     ArchConfAbstracts22/QoSA2010.txt\n",
      "14     ArchConfAbstracts22/QoSA2011.txt\n",
      "15     ArchConfAbstracts22/QoSA2012.txt\n",
      "16     ArchConfAbstracts22/QoSA2013.txt\n",
      "17     ArchConfAbstracts22/QoSA2014.txt\n",
      "18    ArchConfAbstracts22/WICSA2005.txt\n",
      "19    ArchConfAbstracts22/WICSA2007.txt\n",
      "20    ArchConfAbstracts22/WICSA2008.txt\n",
      "21    ArchConfAbstracts22/WICSA2009.txt\n",
      "22    ArchConfAbstracts22/WICSA2011.txt\n",
      "23    ArchConfAbstracts22/WICSA2012.txt\n",
      "24    ArchConfAbstracts22/WICSA2014.txt\n",
      "dtype: object\n",
      "0    ArchConfAbstracts22/WICSA1999.txt\n",
      "1    ArchConfAbstracts22/WICSA2001.txt\n",
      "dtype: object\n"
     ]
    },
    {
     "data": {
      "text/html": [
       "<div>\n",
       "<table border=\"1\" class=\"dataframe\">\n",
       "  <thead>\n",
       "    <tr style=\"text-align: right;\">\n",
       "      <th></th>\n",
       "      <th>Abstract</th>\n",
       "      <th>Author affiliation</th>\n",
       "      <th>Authors</th>\n",
       "      <th>Conf</th>\n",
       "      <th>Title</th>\n",
       "      <th>terms</th>\n",
       "      <th>year</th>\n",
       "    </tr>\n",
       "  </thead>\n",
       "  <tbody>\n",
       "    <tr>\n",
       "      <th>1</th>\n",
       "      <td>Empirical software engineering focuses on the ...</td>\n",
       "      <td>DISP, Univ  of Rome, Rome, Italy</td>\n",
       "      <td>['Falessi, D', '', '', ' Kruchten, P', ' Canto...</td>\n",
       "      <td>ECSA</td>\n",
       "      <td>Issues in applying empirical software engineer...</td>\n",
       "      <td>['software architecture', 'software quality', ...</td>\n",
       "      <td>2007</td>\n",
       "    </tr>\n",
       "    <tr>\n",
       "      <th>2</th>\n",
       "      <td>Software architecture description languages al...</td>\n",
       "      <td>LSTS   ENIT, Tunis, Tunisia</td>\n",
       "      <td>['Jerad, C', '', '', ' Barkaoui, K', ' Grissa ...</td>\n",
       "      <td>ECSA</td>\n",
       "      <td>Hierarchical verification in Maude of LfP soft...</td>\n",
       "      <td>['formal verification', 'rewriting systems', '...</td>\n",
       "      <td>2007</td>\n",
       "    </tr>\n",
       "    <tr>\n",
       "      <th>3</th>\n",
       "      <td>When an application must evolve to cope with n...</td>\n",
       "      <td>INRIA, Univ  des Sci  et Technol  de Lille, Vi...</td>\n",
       "      <td>['Waignier, G', '', '', ' Le Meur, A', 'F', ''...</td>\n",
       "      <td>ECSA</td>\n",
       "      <td>FIESTA  a generic framework for integrating ne...</td>\n",
       "      <td>['formal specification', 'software architectur...</td>\n",
       "      <td>2007</td>\n",
       "    </tr>\n",
       "    <tr>\n",
       "      <th>4</th>\n",
       "      <td>Ageless software evolves, to meet new requirem...</td>\n",
       "      <td>Sch  of Comput  Sci , Univ  of Adelaide, Adela...</td>\n",
       "      <td>['Falkner, K', '', '', ' Balasubramaniam, D', ...</td>\n",
       "      <td>ECSA</td>\n",
       "      <td>Informed evolution</td>\n",
       "      <td>['software architecture', 'software prototypin...</td>\n",
       "      <td>2007</td>\n",
       "    </tr>\n",
       "    <tr>\n",
       "      <th>5</th>\n",
       "      <td>The past 20 years has seen significant investm...</td>\n",
       "      <td>Software Group, IBM, Raleigh, NC, United States</td>\n",
       "      <td>['Brown, A W', '', '', ' McDermid, J A']</td>\n",
       "      <td>ECSA</td>\n",
       "      <td>The art and science of software architecture</td>\n",
       "      <td>['safety-critical software', 'software archite...</td>\n",
       "      <td>2007</td>\n",
       "    </tr>\n",
       "  </tbody>\n",
       "</table>\n",
       "</div>"
      ],
      "text/plain": [
       "                                            Abstract  \\\n",
       "1  Empirical software engineering focuses on the ...   \n",
       "2  Software architecture description languages al...   \n",
       "3  When an application must evolve to cope with n...   \n",
       "4  Ageless software evolves, to meet new requirem...   \n",
       "5  The past 20 years has seen significant investm...   \n",
       "\n",
       "                                  Author affiliation  \\\n",
       "1                   DISP, Univ  of Rome, Rome, Italy   \n",
       "2                        LSTS   ENIT, Tunis, Tunisia   \n",
       "3  INRIA, Univ  des Sci  et Technol  de Lille, Vi...   \n",
       "4  Sch  of Comput  Sci , Univ  of Adelaide, Adela...   \n",
       "5    Software Group, IBM, Raleigh, NC, United States   \n",
       "\n",
       "                                             Authors  Conf  \\\n",
       "1  ['Falessi, D', '', '', ' Kruchten, P', ' Canto...  ECSA   \n",
       "2  ['Jerad, C', '', '', ' Barkaoui, K', ' Grissa ...  ECSA   \n",
       "3  ['Waignier, G', '', '', ' Le Meur, A', 'F', ''...  ECSA   \n",
       "4  ['Falkner, K', '', '', ' Balasubramaniam, D', ...  ECSA   \n",
       "5           ['Brown, A W', '', '', ' McDermid, J A']  ECSA   \n",
       "\n",
       "                                               Title  \\\n",
       "1  Issues in applying empirical software engineer...   \n",
       "2  Hierarchical verification in Maude of LfP soft...   \n",
       "3  FIESTA  a generic framework for integrating ne...   \n",
       "4                                 Informed evolution   \n",
       "5       The art and science of software architecture   \n",
       "\n",
       "                                               terms  year  \n",
       "1  ['software architecture', 'software quality', ...  2007  \n",
       "2  ['formal verification', 'rewriting systems', '...  2007  \n",
       "3  ['formal specification', 'software architectur...  2007  \n",
       "4  ['software architecture', 'software prototypin...  2007  \n",
       "5  ['safety-critical software', 'software archite...  2007  "
      ]
     },
     "execution_count": 20,
     "metadata": {},
     "output_type": "execute_result"
    }
   ],
   "source": [
    "dfTotal2 = pd.read_hdf('DFstore5.h5', 'df')\n",
    "successFiles2 = pd.read_hdf('DFstore5.h5', 'files')\n",
    "failedFiles2 = pd.read_hdf('DFstore5.h5', 'errors')\n",
    "dfTotal2.head()\n",
    "print successFiles2\n",
    "print failedFiles2\n",
    "dfTotal2.head()"
   ]
  },
  {
   "cell_type": "code",
   "execution_count": null,
   "metadata": {
    "collapsed": true
   },
   "outputs": [],
   "source": []
  }
 ],
 "metadata": {
  "kernelspec": {
   "display_name": "Python 2",
   "language": "python",
   "name": "python2"
  },
  "language_info": {
   "codemirror_mode": {
    "name": "ipython",
    "version": 2
   },
   "file_extension": ".py",
   "mimetype": "text/x-python",
   "name": "python",
   "nbconvert_exporter": "python",
   "pygments_lexer": "ipython2",
   "version": "2.7.11"
  }
 },
 "nbformat": 4,
 "nbformat_minor": 0
}
