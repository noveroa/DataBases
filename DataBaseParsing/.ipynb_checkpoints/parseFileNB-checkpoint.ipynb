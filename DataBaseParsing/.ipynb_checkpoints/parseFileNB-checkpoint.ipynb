{
 "cells": [
  {
   "cell_type": "code",
   "execution_count": 1,
   "metadata": {
    "collapsed": true
   },
   "outputs": [],
   "source": [
    "import pandas as pd\n",
    "import numpy as np\n",
    "%matplotlib inline"
   ]
  },
  {
   "cell_type": "code",
   "execution_count": 4,
   "metadata": {
    "collapsed": true
   },
   "outputs": [],
   "source": [
    "file1 = '../ArchConfAbstracts/ECSA2007.txt'"
   ]
  },
  {
   "cell_type": "code",
   "execution_count": null,
   "metadata": {
    "collapsed": false
   },
   "outputs": [],
   "source": [
    "import re\n",
    "non_decimal = re.compile('[^a-zA-Z]')"
   ]
  },
  {
   "cell_type": "markdown",
   "metadata": {},
   "source": [
    "# Working with a Single file\n",
    "- using all labels\n",
    "- note issues in the columns, not all entries are the same \n",
    "- - must change the structure\n"
   ]
  },
  {
   "cell_type": "code",
   "execution_count": null,
   "metadata": {
    "collapsed": false
   },
   "outputs": [],
   "source": [
    "import singleFile as parser1\n",
    "reload(parser1)"
   ]
  },
  {
   "cell_type": "code",
   "execution_count": null,
   "metadata": {
    "collapsed": false
   },
   "outputs": [],
   "source": [
    "testdict = parser1.parseFile(file1)"
   ]
  },
  {
   "cell_type": "code",
   "execution_count": null,
   "metadata": {
    "collapsed": false
   },
   "outputs": [],
   "source": [
    "for k,v in testdict.iteritems():\n",
    "    if k == 0:\n",
    "        pass\n",
    "    elif k == 1:\n",
    "        print k\n",
    "        f = pd.DataFrame(v, columns = ['Labels','Values'])\n",
    "        f = f.set_index('Labels').T\n",
    "        columns = f.columns\n",
    "    elif k == 2:\n",
    "        g = pd.DataFrame(v, columns = ['Labels','Values'])\n",
    "        g = g.set_index('Labels').T\n",
    "print columns"
   ]
  },
  {
   "cell_type": "code",
   "execution_count": null,
   "metadata": {
    "collapsed": false
   },
   "outputs": [],
   "source": [
    "testdict[1]"
   ]
  },
  {
   "cell_type": "code",
   "execution_count": null,
   "metadata": {
    "collapsed": true
   },
   "outputs": [],
   "source": [
    "for k,v in testdict.iteritems():\n",
    "    if k == 0:\n",
    "        pass\n",
    "    elif k == 1:\n",
    "        print k\n",
    "        f = pd.DataFrame(v, columns = ['Labels','Values'])\n",
    "        f = f.set_index('Labels').T\n",
    "        columns = f.columns\n",
    "    else:\n",
    "        try:\n",
    "            g = pd.DataFrame(v, columns = ['Labels','Values'])\n",
    "            g = g.set_index('Labels').T\n",
    "            f.append(g, ignore_index = True)\n",
    "        except:\n",
    "            print k"
   ]
  },
  {
   "cell_type": "markdown",
   "metadata": {},
   "source": [
    "## As a dataframe!"
   ]
  },
  {
   "cell_type": "code",
   "execution_count": null,
   "metadata": {
    "collapsed": false
   },
   "outputs": [],
   "source": [
    "testdf = parser1.parseEntrytoDF(file1)\n",
    "testdf.head()"
   ]
  },
  {
   "cell_type": "code",
   "execution_count": null,
   "metadata": {
    "collapsed": false
   },
   "outputs": [],
   "source": [
    "import re\n",
    "regXsuperscript = re.compile('/\\p{No}/gu/')"
   ]
  },
  {
   "cell_type": "code",
   "execution_count": null,
   "metadata": {
    "collapsed": false
   },
   "outputs": [],
   "source": [
    "def testme(filethis):\n",
    "    f = open(filethis, \"r\")\n",
    "    i = 1\n",
    "    abstracts = {}\n",
    "    entry = []\n",
    "    nonlabels = ['authors', 'copyright', 'UNKNOWN']\n",
    "    for line in f:\n",
    "        if line[0].isdigit():\n",
    "            abstracts[i-1] = entry\n",
    "            entry = []\n",
    "            entry.append((str(i), regXsuperscript.sub(' ', line).strip()))\n",
    "            i = i + 1\n",
    "        else:\n",
    "            try:\n",
    "                #non_decimal = re.compile('[\\W_]+')\n",
    "                label, text = line.split(':', 1)\n",
    "                text = regXsuperscript.sub(' ', text)\n",
    "                label = regXsuperscript.sub(' ', label)\n",
    "                entry.append((label.strip(), text.strip()))\n",
    "            except:\n",
    "                if line is None:\n",
    "                    pass\n",
    "                else:\n",
    "                    text = regXsuperscript.sub(' ', line)\n",
    "                    label = 'reparse'\n",
    "                    entry.append((label, text.strip()))\n",
    "                    \n",
    "                \n",
    "    f.close()\n",
    "    return abstracts"
   ]
  },
  {
   "cell_type": "code",
   "execution_count": null,
   "metadata": {
    "collapsed": false
   },
   "outputs": [],
   "source": [
    "f = testme(file1)"
   ]
  },
  {
   "cell_type": "code",
   "execution_count": null,
   "metadata": {
    "collapsed": false
   },
   "outputs": [],
   "source": [
    "f"
   ]
  },
  {
   "cell_type": "markdown",
   "metadata": {},
   "source": [
    "##### appending dataframes together, \n",
    "- Note the descrepanies - -> look into the issues (Decide to change the structure)"
   ]
  },
  {
   "cell_type": "code",
   "execution_count": null,
   "metadata": {
    "collapsed": false
   },
   "outputs": [],
   "source": [
    "x  = testdf.append(testdf)"
   ]
  },
  {
   "cell_type": "code",
   "execution_count": null,
   "metadata": {
    "collapsed": false
   },
   "outputs": [],
   "source": [
    "testdf.describe()"
   ]
  },
  {
   "cell_type": "code",
   "execution_count": null,
   "metadata": {
    "collapsed": true
   },
   "outputs": [],
   "source": [
    "testdf['IPC Code']"
   ]
  },
  {
   "cell_type": "code",
   "execution_count": 5,
   "metadata": {
    "collapsed": false
   },
   "outputs": [],
   "source": [
    "import parseFiles as parser2\n",
    "parser2 = reload(parser2)"
   ]
  },
  {
   "cell_type": "code",
   "execution_count": 6,
   "metadata": {
    "collapsed": false
   },
   "outputs": [
    {
     "ename": "IndexError",
     "evalue": "list index out of range",
     "output_type": "error",
     "traceback": [
      "\u001b[0;31m---------------------------------------------------------------------------\u001b[0m",
      "\u001b[0;31mIndexError\u001b[0m                                Traceback (most recent call last)",
      "\u001b[0;32m<ipython-input-6-fb37bdd7910d>\u001b[0m in \u001b[0;36m<module>\u001b[0;34m()\u001b[0m\n\u001b[0;32m----> 1\u001b[0;31m \u001b[0mretest2\u001b[0m \u001b[0;34m=\u001b[0m \u001b[0mparser2\u001b[0m\u001b[0;34m.\u001b[0m\u001b[0mparseEntrytoDF\u001b[0m\u001b[0;34m(\u001b[0m\u001b[0mfile1\u001b[0m\u001b[0;34m)\u001b[0m\u001b[0;34m\u001b[0m\u001b[0m\n\u001b[0m",
      "\u001b[0;32m/Users/aileennovero1/DataBaseProject/DataBaseParsing/parseFiles.pyc\u001b[0m in \u001b[0;36mparseEntrytoDF\u001b[0;34m(input)\u001b[0m\n\u001b[1;32m    139\u001b[0m             \u001b[0mrecast\u001b[0m \u001b[0mthe\u001b[0m \u001b[0mfile\u001b[0m \u001b[0minto\u001b[0m \u001b[0ma\u001b[0m \u001b[0mpandas\u001b[0m \u001b[0mDataFrame\u001b[0m\u001b[0;34m\u001b[0m\u001b[0m\n\u001b[1;32m    140\u001b[0m     '''\n\u001b[0;32m--> 141\u001b[0;31m     \u001b[0;32mreturn\u001b[0m \u001b[0mmakeAbstrDF\u001b[0m\u001b[0;34m(\u001b[0m\u001b[0mparseFile\u001b[0m\u001b[0;34m(\u001b[0m\u001b[0minput\u001b[0m\u001b[0;34m)\u001b[0m\u001b[0;34m,\u001b[0m \u001b[0minput\u001b[0m\u001b[0;34m)\u001b[0m\u001b[0;34m\u001b[0m\u001b[0m\n\u001b[0m",
      "\u001b[0;32m/Users/aileennovero1/DataBaseProject/DataBaseParsing/parseFiles.pyc\u001b[0m in \u001b[0;36mmakeAbstrDF\u001b[0;34m(absDictionary, fname)\u001b[0m\n\u001b[1;32m    128\u001b[0m     \u001b[0;31m#reparseAuthors\u001b[0m\u001b[0;34m\u001b[0m\u001b[0;34m\u001b[0m\u001b[0m\n\u001b[1;32m    129\u001b[0m     \u001b[0mdf\u001b[0m \u001b[0;34m=\u001b[0m \u001b[0mreparseAuthors\u001b[0m\u001b[0;34m(\u001b[0m\u001b[0mdf\u001b[0m\u001b[0;34m)\u001b[0m\u001b[0;34m\u001b[0m\u001b[0m\n\u001b[0;32m--> 130\u001b[0;31m     \u001b[0mdf\u001b[0m \u001b[0;34m=\u001b[0m \u001b[0mreparseAffiliations\u001b[0m\u001b[0;34m(\u001b[0m\u001b[0mdf\u001b[0m\u001b[0;34m)\u001b[0m\u001b[0;34m\u001b[0m\u001b[0m\n\u001b[0m\u001b[1;32m    131\u001b[0m     \u001b[0;32mreturn\u001b[0m \u001b[0mdf\u001b[0m\u001b[0;34m\u001b[0m\u001b[0m\n\u001b[1;32m    132\u001b[0m \u001b[0;34m\u001b[0m\u001b[0m\n",
      "\u001b[0;32m/Users/aileennovero1/DataBaseProject/DataBaseParsing/parseFiles.pyc\u001b[0m in \u001b[0;36mreparseAffiliations\u001b[0;34m(data_frame, column)\u001b[0m\n\u001b[1;32m    103\u001b[0m     \u001b[0;31m#cannot strip on ',' as lose the initials of each author\u001b[0m\u001b[0;34m\u001b[0m\u001b[0;34m\u001b[0m\u001b[0m\n\u001b[1;32m    104\u001b[0m \u001b[0;34m\u001b[0m\u001b[0m\n\u001b[0;32m--> 105\u001b[0;31m     \u001b[0mdf\u001b[0m\u001b[0;34m[\u001b[0m\u001b[0mcolumn\u001b[0m\u001b[0;34m]\u001b[0m \u001b[0;34m=\u001b[0m \u001b[0mdf\u001b[0m\u001b[0;34m[\u001b[0m\u001b[0mcolumn\u001b[0m\u001b[0;34m]\u001b[0m\u001b[0;34m.\u001b[0m\u001b[0mapply\u001b[0m\u001b[0;34m(\u001b[0m\u001b[0;32mlambda\u001b[0m \u001b[0maffiliation\u001b[0m\u001b[0;34m:\u001b[0m \u001b[0mstr\u001b[0m\u001b[0;34m(\u001b[0m\u001b[0maffiliation\u001b[0m\u001b[0;34m)\u001b[0m\u001b[0;34m.\u001b[0m\u001b[0msplit\u001b[0m\u001b[0;34m(\u001b[0m\u001b[0;34m'1'\u001b[0m\u001b[0;34m,\u001b[0m \u001b[0;36m1\u001b[0m\u001b[0;34m)\u001b[0m\u001b[0;34m[\u001b[0m\u001b[0;36m1\u001b[0m\u001b[0;34m]\u001b[0m\u001b[0;34m.\u001b[0m\u001b[0mstrip\u001b[0m\u001b[0;34m(\u001b[0m\u001b[0;34m)\u001b[0m\u001b[0;34m)\u001b[0m\u001b[0;34m\u001b[0m\u001b[0m\n\u001b[0m\u001b[1;32m    106\u001b[0m \u001b[0;34m\u001b[0m\u001b[0m\n\u001b[1;32m    107\u001b[0m     \u001b[0;31m#return as a single string for sqlite3 table entry\u001b[0m\u001b[0;34m\u001b[0m\u001b[0;34m\u001b[0m\u001b[0m\n",
      "\u001b[0;32m/Users/aileennovero1/anaconda/lib/python2.7/site-packages/pandas/core/series.pyc\u001b[0m in \u001b[0;36mapply\u001b[0;34m(self, func, convert_dtype, args, **kwds)\u001b[0m\n\u001b[1;32m   2235\u001b[0m             \u001b[0mvalues\u001b[0m \u001b[0;34m=\u001b[0m \u001b[0mlib\u001b[0m\u001b[0;34m.\u001b[0m\u001b[0mmap_infer\u001b[0m\u001b[0;34m(\u001b[0m\u001b[0mvalues\u001b[0m\u001b[0;34m,\u001b[0m \u001b[0mboxer\u001b[0m\u001b[0;34m)\u001b[0m\u001b[0;34m\u001b[0m\u001b[0m\n\u001b[1;32m   2236\u001b[0m \u001b[0;34m\u001b[0m\u001b[0m\n\u001b[0;32m-> 2237\u001b[0;31m         \u001b[0mmapped\u001b[0m \u001b[0;34m=\u001b[0m \u001b[0mlib\u001b[0m\u001b[0;34m.\u001b[0m\u001b[0mmap_infer\u001b[0m\u001b[0;34m(\u001b[0m\u001b[0mvalues\u001b[0m\u001b[0;34m,\u001b[0m \u001b[0mf\u001b[0m\u001b[0;34m,\u001b[0m \u001b[0mconvert\u001b[0m\u001b[0;34m=\u001b[0m\u001b[0mconvert_dtype\u001b[0m\u001b[0;34m)\u001b[0m\u001b[0;34m\u001b[0m\u001b[0m\n\u001b[0m\u001b[1;32m   2238\u001b[0m         \u001b[0;32mif\u001b[0m \u001b[0mlen\u001b[0m\u001b[0;34m(\u001b[0m\u001b[0mmapped\u001b[0m\u001b[0;34m)\u001b[0m \u001b[0;32mand\u001b[0m \u001b[0misinstance\u001b[0m\u001b[0;34m(\u001b[0m\u001b[0mmapped\u001b[0m\u001b[0;34m[\u001b[0m\u001b[0;36m0\u001b[0m\u001b[0;34m]\u001b[0m\u001b[0;34m,\u001b[0m \u001b[0mSeries\u001b[0m\u001b[0;34m)\u001b[0m\u001b[0;34m:\u001b[0m\u001b[0;34m\u001b[0m\u001b[0m\n\u001b[1;32m   2239\u001b[0m             \u001b[0;32mfrom\u001b[0m \u001b[0mpandas\u001b[0m\u001b[0;34m.\u001b[0m\u001b[0mcore\u001b[0m\u001b[0;34m.\u001b[0m\u001b[0mframe\u001b[0m \u001b[0;32mimport\u001b[0m \u001b[0mDataFrame\u001b[0m\u001b[0;34m\u001b[0m\u001b[0m\n",
      "\u001b[0;32mpandas/src/inference.pyx\u001b[0m in \u001b[0;36mpandas.lib.map_infer (pandas/lib.c:63043)\u001b[0;34m()\u001b[0m\n",
      "\u001b[0;32m/Users/aileennovero1/DataBaseProject/DataBaseParsing/parseFiles.pyc\u001b[0m in \u001b[0;36m<lambda>\u001b[0;34m(affiliation)\u001b[0m\n\u001b[1;32m    103\u001b[0m     \u001b[0;31m#cannot strip on ',' as lose the initials of each author\u001b[0m\u001b[0;34m\u001b[0m\u001b[0;34m\u001b[0m\u001b[0m\n\u001b[1;32m    104\u001b[0m \u001b[0;34m\u001b[0m\u001b[0m\n\u001b[0;32m--> 105\u001b[0;31m     \u001b[0mdf\u001b[0m\u001b[0;34m[\u001b[0m\u001b[0mcolumn\u001b[0m\u001b[0;34m]\u001b[0m \u001b[0;34m=\u001b[0m \u001b[0mdf\u001b[0m\u001b[0;34m[\u001b[0m\u001b[0mcolumn\u001b[0m\u001b[0;34m]\u001b[0m\u001b[0;34m.\u001b[0m\u001b[0mapply\u001b[0m\u001b[0;34m(\u001b[0m\u001b[0;32mlambda\u001b[0m \u001b[0maffiliation\u001b[0m\u001b[0;34m:\u001b[0m \u001b[0mstr\u001b[0m\u001b[0;34m(\u001b[0m\u001b[0maffiliation\u001b[0m\u001b[0;34m)\u001b[0m\u001b[0;34m.\u001b[0m\u001b[0msplit\u001b[0m\u001b[0;34m(\u001b[0m\u001b[0;34m'1'\u001b[0m\u001b[0;34m,\u001b[0m \u001b[0;36m1\u001b[0m\u001b[0;34m)\u001b[0m\u001b[0;34m[\u001b[0m\u001b[0;36m1\u001b[0m\u001b[0;34m]\u001b[0m\u001b[0;34m.\u001b[0m\u001b[0mstrip\u001b[0m\u001b[0;34m(\u001b[0m\u001b[0;34m)\u001b[0m\u001b[0;34m)\u001b[0m\u001b[0;34m\u001b[0m\u001b[0m\n\u001b[0m\u001b[1;32m    106\u001b[0m \u001b[0;34m\u001b[0m\u001b[0m\n\u001b[1;32m    107\u001b[0m     \u001b[0;31m#return as a single string for sqlite3 table entry\u001b[0m\u001b[0;34m\u001b[0m\u001b[0;34m\u001b[0m\u001b[0m\n",
      "\u001b[0;31mIndexError\u001b[0m: list index out of range"
     ]
    }
   ],
   "source": [
    "retest2 = parser2.parseEntrytoDF(file1)"
   ]
  },
  {
   "cell_type": "code",
   "execution_count": 18,
   "metadata": {
    "collapsed": false
   },
   "outputs": [
    {
     "data": {
      "text/html": [
       "<div>\n",
       "<table border=\"1\" class=\"dataframe\">\n",
       "  <thead>\n",
       "    <tr style=\"text-align: right;\">\n",
       "      <th></th>\n",
       "      <th>terms</th>\n",
       "      <th>Title</th>\n",
       "      <th>Abstract</th>\n",
       "      <th>Author affiliation</th>\n",
       "      <th>Authors</th>\n",
       "      <th>Classification Code</th>\n",
       "      <th>Conf</th>\n",
       "      <th>year</th>\n",
       "    </tr>\n",
       "  </thead>\n",
       "  <tbody>\n",
       "    <tr>\n",
       "      <th>1</th>\n",
       "      <td>['software architecture - software quality', '...</td>\n",
       "      <td>Issues in applying empirical software engineer...</td>\n",
       "      <td>Empirical software engineering focuses on the ...</td>\n",
       "      <td>1  DISP, Univ  of Rome, Rome, Italy</td>\n",
       "      <td>['Falessi, D', ' Kruchten, P', ' Cantone, G']</td>\n",
       "      <td>C6110B Software engineering techniques   C0310...</td>\n",
       "      <td>ECSA</td>\n",
       "      <td>2007</td>\n",
       "    </tr>\n",
       "    <tr>\n",
       "      <th>2</th>\n",
       "      <td>['formal verification - rewriting systems - so...</td>\n",
       "      <td>Hierarchical verification in Maude of LfP soft...</td>\n",
       "      <td>Software architecture description languages al...</td>\n",
       "      <td>1  LSTS   ENIT, Tunis, Tunisia</td>\n",
       "      <td>['Jerad, C', ' Barkaoui, K', ' Grissa Touzi, A']</td>\n",
       "      <td>C6110B Software engineering techniques   C4210...</td>\n",
       "      <td>ECSA</td>\n",
       "      <td>2007</td>\n",
       "    </tr>\n",
       "    <tr>\n",
       "      <th>3</th>\n",
       "      <td>['formal specification - software architecture...</td>\n",
       "      <td>FIESTA  a generic framework for integrating ne...</td>\n",
       "      <td>When an application must evolve to cope with n...</td>\n",
       "      <td>1  INRIA, Univ  des Sci  et Technol  de Lille,...</td>\n",
       "      <td>['Waignier, G', ' Le Meur, A', 'F', ' Duchien,...</td>\n",
       "      <td>C6110B Software engineering techniques   C6110...</td>\n",
       "      <td>ECSA</td>\n",
       "      <td>2007</td>\n",
       "    </tr>\n",
       "    <tr>\n",
       "      <th>4</th>\n",
       "      <td>['software architecture - software prototyping...</td>\n",
       "      <td>Informed evolution</td>\n",
       "      <td>Ageless software evolves, to meet new requirem...</td>\n",
       "      <td>1  Sch  of Comput  Sci , Univ  of Adelaide, Ad...</td>\n",
       "      <td>['Falkner, K', ' Balasubramaniam, D', ' Detmol...</td>\n",
       "      <td>C6110B Software engineering techniques</td>\n",
       "      <td>ECSA</td>\n",
       "      <td>2007</td>\n",
       "    </tr>\n",
       "    <tr>\n",
       "      <th>5</th>\n",
       "      <td>['safety-critical software - software architec...</td>\n",
       "      <td>The art and science of software architecture</td>\n",
       "      <td>The past 20 years has seen significant investm...</td>\n",
       "      <td>1  Software Group, IBM, Raleigh, NC, United St...</td>\n",
       "      <td>['Brown, A W', ' McDermid, J A']</td>\n",
       "      <td>C6110B Software engineering techniques   C6130...</td>\n",
       "      <td>ECSA</td>\n",
       "      <td>2007</td>\n",
       "    </tr>\n",
       "  </tbody>\n",
       "</table>\n",
       "</div>"
      ],
      "text/plain": [
       "                                               terms  \\\n",
       "1  ['software architecture - software quality', '...   \n",
       "2  ['formal verification - rewriting systems - so...   \n",
       "3  ['formal specification - software architecture...   \n",
       "4  ['software architecture - software prototyping...   \n",
       "5  ['safety-critical software - software architec...   \n",
       "\n",
       "                                               Title  \\\n",
       "1  Issues in applying empirical software engineer...   \n",
       "2  Hierarchical verification in Maude of LfP soft...   \n",
       "3  FIESTA  a generic framework for integrating ne...   \n",
       "4                                 Informed evolution   \n",
       "5       The art and science of software architecture   \n",
       "\n",
       "                                            Abstract  \\\n",
       "1  Empirical software engineering focuses on the ...   \n",
       "2  Software architecture description languages al...   \n",
       "3  When an application must evolve to cope with n...   \n",
       "4  Ageless software evolves, to meet new requirem...   \n",
       "5  The past 20 years has seen significant investm...   \n",
       "\n",
       "                                  Author affiliation  \\\n",
       "1                1  DISP, Univ  of Rome, Rome, Italy   \n",
       "2                     1  LSTS   ENIT, Tunis, Tunisia   \n",
       "3  1  INRIA, Univ  des Sci  et Technol  de Lille,...   \n",
       "4  1  Sch  of Comput  Sci , Univ  of Adelaide, Ad...   \n",
       "5  1  Software Group, IBM, Raleigh, NC, United St...   \n",
       "\n",
       "                                             Authors  \\\n",
       "1      ['Falessi, D', ' Kruchten, P', ' Cantone, G']   \n",
       "2   ['Jerad, C', ' Barkaoui, K', ' Grissa Touzi, A']   \n",
       "3  ['Waignier, G', ' Le Meur, A', 'F', ' Duchien,...   \n",
       "4  ['Falkner, K', ' Balasubramaniam, D', ' Detmol...   \n",
       "5                   ['Brown, A W', ' McDermid, J A']   \n",
       "\n",
       "                                 Classification Code  Conf  year  \n",
       "1  C6110B Software engineering techniques   C0310...  ECSA  2007  \n",
       "2  C6110B Software engineering techniques   C4210...  ECSA  2007  \n",
       "3  C6110B Software engineering techniques   C6110...  ECSA  2007  \n",
       "4             C6110B Software engineering techniques  ECSA  2007  \n",
       "5  C6110B Software engineering techniques   C6130...  ECSA  2007  "
      ]
     },
     "execution_count": 18,
     "metadata": {},
     "output_type": "execute_result"
    }
   ],
   "source": [
    "retest2.head()"
   ]
  },
  {
   "cell_type": "code",
   "execution_count": null,
   "metadata": {
    "collapsed": false
   },
   "outputs": [],
   "source": [
    "dfnew = pd.concat([retest2, retest2b], axis = 0)"
   ]
  },
  {
   "cell_type": "code",
   "execution_count": null,
   "metadata": {
    "collapsed": false
   },
   "outputs": [],
   "source": [
    "dfnew.tail()"
   ]
  },
  {
   "cell_type": "code",
   "execution_count": null,
   "metadata": {
    "collapsed": false
   },
   "outputs": [],
   "source": [
    "dfnew.head()"
   ]
  },
  {
   "cell_type": "code",
   "execution_count": null,
   "metadata": {
    "collapsed": false
   },
   "outputs": [],
   "source": [
    "len(dfnew)"
   ]
  },
  {
   "cell_type": "markdown",
   "metadata": {},
   "source": [
    "# Testing of hdfstorage command line script"
   ]
  },
  {
   "cell_type": "code",
   "execution_count": 24,
   "metadata": {
    "collapsed": true
   },
   "outputs": [],
   "source": [
    "dfTotal = pd.read_hdf('DFStore3.h5', 'df')"
   ]
  },
  {
   "cell_type": "code",
   "execution_count": 25,
   "metadata": {
    "collapsed": true
   },
   "outputs": [],
   "source": [
    "successFiles = pd.read_hdf('DFStore2.h5', 'files')\n",
    "failedFiles = pd.read_hdf('DFStore2.h5', 'errors')"
   ]
  },
  {
   "cell_type": "code",
   "execution_count": 26,
   "metadata": {
    "collapsed": false
   },
   "outputs": [
    {
     "name": "stdout",
     "output_type": "stream",
     "text": [
      "../ArchConfAbstracts/ECSA2007.txt ../ArchConfAbstracts/ECSA2008.txt ../ArchConfAbstracts/ECSA2009.txt ../ArchConfAbstracts/ECSA2010.txt ../ArchConfAbstracts/ECSA2011.txt ../ArchConfAbstracts/ECSA2012.txt ../ArchConfAbstracts/ECSA2013.txt ../ArchConfAbstracts/ECSA2014.txt ../ArchConfAbstracts/QoSA2005.txt ../ArchConfAbstracts/QoSA2006.txt ../ArchConfAbstracts/QoSA2007.txt ../ArchConfAbstracts/QoSA2008.txt ../ArchConfAbstracts/QoSA2009.txt ../ArchConfAbstracts/QoSA2010.txt ../ArchConfAbstracts/QoSA2011.txt ../ArchConfAbstracts/QoSA2012.txt ../ArchConfAbstracts/QoSA2013.txt ../ArchConfAbstracts/QoSA2014.txt ../ArchConfAbstracts/WICSA2004.txt ../ArchConfAbstracts/WICSA2005.txt ../ArchConfAbstracts/WICSA2007.txt ../ArchConfAbstracts/WICSA2008.txt ../ArchConfAbstracts/WICSA2009.txt ../ArchConfAbstracts/WICSA2011.txt ../ArchConfAbstracts/WICSA2012.txt ../ArchConfAbstracts/WICSA2014.txt \n",
      "\n",
      "../ArchConfAbstracts/WICSA1999.txt ../ArchConfAbstracts/WICSA2001.txt ../ArchConfAbstracts/WICSA2002.txt\n"
     ]
    }
   ],
   "source": [
    "for x in successFiles : print x,\n",
    "print '\\n'\n",
    "for y in failedFiles : print y,"
   ]
  },
  {
   "cell_type": "code",
   "execution_count": 29,
   "metadata": {
    "collapsed": false
   },
   "outputs": [
    {
     "data": {
      "text/html": [
       "<div>\n",
       "<table border=\"1\" class=\"dataframe\">\n",
       "  <thead>\n",
       "    <tr style=\"text-align: right;\">\n",
       "      <th></th>\n",
       "      <th>Abstract</th>\n",
       "      <th>Author affiliation</th>\n",
       "      <th>Authors</th>\n",
       "      <th>Classification Code</th>\n",
       "      <th>Conf</th>\n",
       "      <th>Title</th>\n",
       "      <th>terms</th>\n",
       "      <th>year</th>\n",
       "    </tr>\n",
       "  </thead>\n",
       "  <tbody>\n",
       "    <tr>\n",
       "      <th>57</th>\n",
       "      <td>Security is a fundamental concern in clouds an...</td>\n",
       "      <td>1  Department of Informatics, Universidad Tecn...</td>\n",
       "      <td>['Fernandez, Eduardo B', ' Monge, Raul', ' ']</td>\n",
       "      <td>402 Buildings and Towers   722 4 Digital Compu...</td>\n",
       "      <td>WICSA</td>\n",
       "      <td>A Security Reference Architecture for cloud sy...</td>\n",
       "      <td>['Cloud computing - Software architecture - Un...</td>\n",
       "      <td>2014</td>\n",
       "    </tr>\n",
       "    <tr>\n",
       "      <th>58</th>\n",
       "      <td>Reference architectures have emerged as a spec...</td>\n",
       "      <td>1  Dept  of Computer Systems, University of S ...</td>\n",
       "      <td>['Guessi, Milena', 'Oquendo, Flavio', 'Nakagaw...</td>\n",
       "      <td>402 Buildings and Towers   723 1 Computer Prog...</td>\n",
       "      <td>WICSA</td>\n",
       "      <td>Variability viewpoint to describe reference ar...</td>\n",
       "      <td>['Software architecture', 'Architectural viewp...</td>\n",
       "      <td>2014</td>\n",
       "    </tr>\n",
       "    <tr>\n",
       "      <th>59</th>\n",
       "      <td>The architecture of a software system plays a ...</td>\n",
       "      <td>1  Software Architecture Research Group, Unive...</td>\n",
       "      <td>['Stevanetic, Srdjan', 'Javed, Muhammad Atif',...</td>\n",
       "      <td>402 Buildings and Towers   723 Computer Softwa...</td>\n",
       "      <td>WICSA</td>\n",
       "      <td>Empirical evaluation of the understandability ...</td>\n",
       "      <td>['Computer software - Graphic methods - Softwa...</td>\n",
       "      <td>2014</td>\n",
       "    </tr>\n",
       "    <tr>\n",
       "      <th>60</th>\n",
       "      <td>Global Software Development  GSD  teams encoun...</td>\n",
       "      <td>1  Software and Systems Group, IT University o...</td>\n",
       "      <td>['Chauhan, Muhammad Aufeef', ' ']</td>\n",
       "      <td>716 Telecommunication  Radar, Radio and Televi...</td>\n",
       "      <td>WICSA</td>\n",
       "      <td>A reference architecture for providing tools a...</td>\n",
       "      <td>['Cloud computing - Distributed computer syste...</td>\n",
       "      <td>2014</td>\n",
       "    </tr>\n",
       "    <tr>\n",
       "      <th>61</th>\n",
       "      <td>Software architectures and their representatio...</td>\n",
       "      <td>1  ABB Corporate Research Germany, Industrial ...</td>\n",
       "      <td>['Sehestedt, Stephan', 'Cheng, Chih Hong', 'Bo...</td>\n",
       "      <td>402 Buildings and Towers   723 1 Computer Prog...</td>\n",
       "      <td>WICSA</td>\n",
       "      <td>Towards quantitative metrics for architecture ...</td>\n",
       "      <td>['Software architecture - Sustainable developm...</td>\n",
       "      <td>2014</td>\n",
       "    </tr>\n",
       "  </tbody>\n",
       "</table>\n",
       "</div>"
      ],
      "text/plain": [
       "                                             Abstract  \\\n",
       "57  Security is a fundamental concern in clouds an...   \n",
       "58  Reference architectures have emerged as a spec...   \n",
       "59  The architecture of a software system plays a ...   \n",
       "60  Global Software Development  GSD  teams encoun...   \n",
       "61  Software architectures and their representatio...   \n",
       "\n",
       "                                   Author affiliation  \\\n",
       "57  1  Department of Informatics, Universidad Tecn...   \n",
       "58  1  Dept  of Computer Systems, University of S ...   \n",
       "59  1  Software Architecture Research Group, Unive...   \n",
       "60  1  Software and Systems Group, IT University o...   \n",
       "61  1  ABB Corporate Research Germany, Industrial ...   \n",
       "\n",
       "                                              Authors  \\\n",
       "57      ['Fernandez, Eduardo B', ' Monge, Raul', ' ']   \n",
       "58  ['Guessi, Milena', 'Oquendo, Flavio', 'Nakagaw...   \n",
       "59  ['Stevanetic, Srdjan', 'Javed, Muhammad Atif',...   \n",
       "60                  ['Chauhan, Muhammad Aufeef', ' ']   \n",
       "61  ['Sehestedt, Stephan', 'Cheng, Chih Hong', 'Bo...   \n",
       "\n",
       "                                  Classification Code   Conf  \\\n",
       "57  402 Buildings and Towers   722 4 Digital Compu...  WICSA   \n",
       "58  402 Buildings and Towers   723 1 Computer Prog...  WICSA   \n",
       "59  402 Buildings and Towers   723 Computer Softwa...  WICSA   \n",
       "60  716 Telecommunication  Radar, Radio and Televi...  WICSA   \n",
       "61  402 Buildings and Towers   723 1 Computer Prog...  WICSA   \n",
       "\n",
       "                                                Title  \\\n",
       "57  A Security Reference Architecture for cloud sy...   \n",
       "58  Variability viewpoint to describe reference ar...   \n",
       "59  Empirical evaluation of the understandability ...   \n",
       "60  A reference architecture for providing tools a...   \n",
       "61  Towards quantitative metrics for architecture ...   \n",
       "\n",
       "                                                terms  year  \n",
       "57  ['Cloud computing - Software architecture - Un...  2014  \n",
       "58  ['Software architecture', 'Architectural viewp...  2014  \n",
       "59  ['Computer software - Graphic methods - Softwa...  2014  \n",
       "60  ['Cloud computing - Distributed computer syste...  2014  \n",
       "61  ['Software architecture - Sustainable developm...  2014  "
      ]
     },
     "execution_count": 29,
     "metadata": {},
     "output_type": "execute_result"
    }
   ],
   "source": [
    "dfTotal.tail()"
   ]
  },
  {
   "cell_type": "markdown",
   "metadata": {},
   "source": [
    "# drafts for hdfstorage"
   ]
  },
  {
   "cell_type": "code",
   "execution_count": null,
   "metadata": {
    "collapsed": false
   },
   "outputs": [],
   "source": [
    "from pandas import HDFStore\n",
    "store = HDFStore('store.h5')"
   ]
  },
  {
   "cell_type": "code",
   "execution_count": null,
   "metadata": {
    "collapsed": false
   },
   "outputs": [],
   "source": [
    "store = HDFStore('store.h5')\n",
    "store['df'] = dfnew\n",
    "store['files'] = s\n",
    "store.close()"
   ]
  },
  {
   "cell_type": "code",
   "execution_count": null,
   "metadata": {
    "collapsed": true
   },
   "outputs": [],
   "source": [
    "files = pd.read_hdf('DFstore.h5', 'files')\n",
    "dfs = pd.read_hdf('DFstore.h5', 'df')\n",
    "e = pd.read_hdf('DFstore.h5', 'errors')"
   ]
  },
  {
   "cell_type": "code",
   "execution_count": null,
   "metadata": {
    "collapsed": false
   },
   "outputs": [],
   "source": [
    "files"
   ]
  },
  {
   "cell_type": "code",
   "execution_count": null,
   "metadata": {
    "collapsed": false
   },
   "outputs": [],
   "source": [
    "dfs.head()"
   ]
  },
  {
   "cell_type": "code",
   "execution_count": null,
   "metadata": {
    "collapsed": true
   },
   "outputs": [],
   "source": [
    "s = pd.Series.from_array(['hi', 'bye'])"
   ]
  },
  {
   "cell_type": "code",
   "execution_count": null,
   "metadata": {
    "collapsed": false
   },
   "outputs": [],
   "source": [
    "e"
   ]
  },
  {
   "cell_type": "code",
   "execution_count": null,
   "metadata": {
    "collapsed": true
   },
   "outputs": [],
   "source": [
    "files = []\n",
    "dfs = []\n",
    "def printFileName(filename):\n",
    "    print filename\n",
    "\n",
    "def main():\n",
    "    args = sys.argv[1:]\n",
    "    dataDFstore = HDFStore('databaseDF.store')\n",
    "    \n",
    "    for filename in args:\n",
    "        files.append(FileName(filename))\n",
    "        dfs.append(parser.parseEntrytoDF(FileName(filename)))\n",
    "        \n",
    "    dfnew = pd.concat(dfs, axis = 0)\n",
    "    \n",
    "    dataDFstore['df'] = dfnew\n",
    "    \n",
    "    print files\n",
    "    dataDFstore['files'] = files\n",
    "    \n",
    "    dataDFstore.close()\n",
    "\n",
    "if __name__ == '__main__':\n",
    "  main()\n",
    "#Then from the console, yo"
   ]
  },
  {
   "cell_type": "code",
   "execution_count": null,
   "metadata": {
    "collapsed": true
   },
   "outputs": [],
   "source": []
  }
 ],
 "metadata": {
  "kernelspec": {
   "display_name": "Python 2",
   "language": "python",
   "name": "python2"
  },
  "language_info": {
   "codemirror_mode": {
    "name": "ipython",
    "version": 2
   },
   "file_extension": ".py",
   "mimetype": "text/x-python",
   "name": "python",
   "nbconvert_exporter": "python",
   "pygments_lexer": "ipython2",
   "version": "2.7.11"
  }
 },
 "nbformat": 4,
 "nbformat_minor": 0
}
