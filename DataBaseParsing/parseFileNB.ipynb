{
 "cells": [
  {
   "cell_type": "code",
   "execution_count": null,
   "metadata": {
    "collapsed": true
   },
   "outputs": [],
   "source": [
    "import pandas as pd\n",
    "import numpy as np\n",
    "%matplotlib inline"
   ]
  },
  {
   "cell_type": "code",
   "execution_count": null,
   "metadata": {
    "collapsed": true
   },
   "outputs": [],
   "source": [
    "file1 = '../ArchConfAbstracts/ECSA2007.txt'"
   ]
  },
  {
   "cell_type": "code",
   "execution_count": null,
   "metadata": {
    "collapsed": false
   },
   "outputs": [],
   "source": [
    "import re\n",
    "non_decimal = re.compile('[^a-zA-Z]')"
   ]
  },
  {
   "cell_type": "markdown",
   "metadata": {},
   "source": [
    "# Working with a Single file\n",
    "- using all labels\n",
    "- note issues in the columns, not all entries are the same \n",
    "- - must change the structure\n"
   ]
  },
  {
   "cell_type": "code",
   "execution_count": null,
   "metadata": {
    "collapsed": false
   },
   "outputs": [],
   "source": [
    "import singleFile as parser1\n",
    "reload(parser1)"
   ]
  },
  {
   "cell_type": "code",
   "execution_count": null,
   "metadata": {
    "collapsed": false
   },
   "outputs": [],
   "source": [
    "testdict = parser1.parseFile(file1)"
   ]
  },
  {
   "cell_type": "code",
   "execution_count": null,
   "metadata": {
    "collapsed": false
   },
   "outputs": [],
   "source": [
    "for k,v in testdict.iteritems():\n",
    "    if k == 0:\n",
    "        pass\n",
    "    elif k == 1:\n",
    "        print k\n",
    "        f = pd.DataFrame(v, columns = ['Labels','Values'])\n",
    "        f = f.set_index('Labels').T\n",
    "        columns = f.columns\n",
    "    elif k == 2:\n",
    "        g = pd.DataFrame(v, columns = ['Labels','Values'])\n",
    "        g = g.set_index('Labels').T\n",
    "print columns"
   ]
  },
  {
   "cell_type": "code",
   "execution_count": null,
   "metadata": {
    "collapsed": false
   },
   "outputs": [],
   "source": [
    "testdict[1]"
   ]
  },
  {
   "cell_type": "code",
   "execution_count": null,
   "metadata": {
    "collapsed": true
   },
   "outputs": [],
   "source": [
    "for k,v in testdict.iteritems():\n",
    "    if k == 0:\n",
    "        pass\n",
    "    elif k == 1:\n",
    "        print k\n",
    "        f = pd.DataFrame(v, columns = ['Labels','Values'])\n",
    "        f = f.set_index('Labels').T\n",
    "        columns = f.columns\n",
    "    else:\n",
    "        try:\n",
    "            g = pd.DataFrame(v, columns = ['Labels','Values'])\n",
    "            g = g.set_index('Labels').T\n",
    "            f.append(g, ignore_index = True)\n",
    "        except:\n",
    "            print k"
   ]
  },
  {
   "cell_type": "markdown",
   "metadata": {},
   "source": [
    "## As a dataframe!"
   ]
  },
  {
   "cell_type": "code",
   "execution_count": null,
   "metadata": {
    "collapsed": false
   },
   "outputs": [],
   "source": [
    "testdf = parser1.parseEntrytoDF(file1)\n",
    "testdf.head()"
   ]
  },
  {
   "cell_type": "code",
   "execution_count": null,
   "metadata": {
    "collapsed": false
   },
   "outputs": [],
   "source": [
    "def testme(filethis):\n",
    "    f = open(filethis, \"r\")\n",
    "    i = 1\n",
    "    abstracts = {}\n",
    "    entry = []\n",
    "    nonlabels = ['authors', 'copyright', 'UNKNOWN']\n",
    "    for line in f:\n",
    "        if line[0].isdigit():\n",
    "            abstracts[i-1] = entry\n",
    "            entry = []\n",
    "            entry.append((str(i), non_decimal.sub(' ', line).strip()))\n",
    "            i = i + 1\n",
    "        else:\n",
    "            try:\n",
    "                #non_decimal = re.compile('[\\W_]+')\n",
    "                label, text = line.split(':', 1)\n",
    "                text = non_decimal.sub(' ', text)\n",
    "                label = non_decimal.sub(' ', label)\n",
    "                entry.append((label.strip(), text.strip()))\n",
    "            except:\n",
    "                if line is None:\n",
    "                    pass\n",
    "                else:\n",
    "                    text = non_decimal.sub(' ', line)\n",
    "                    label = 'reparse'\n",
    "                    entry.append((label, text.strip()))\n",
    "                    \n",
    "                \n",
    "    f.close()\n",
    "    return abstracts"
   ]
  },
  {
   "cell_type": "markdown",
   "metadata": {},
   "source": [
    "##### appending dataframes together, \n",
    "- Note the descrepanies - -> look into the issues (Decide to change the structure)"
   ]
  },
  {
   "cell_type": "code",
   "execution_count": null,
   "metadata": {
    "collapsed": false
   },
   "outputs": [],
   "source": [
    "x  = testdf.append(testdf)"
   ]
  },
  {
   "cell_type": "code",
   "execution_count": null,
   "metadata": {
    "collapsed": false
   },
   "outputs": [],
   "source": [
    "testdf.describe()"
   ]
  },
  {
   "cell_type": "code",
   "execution_count": null,
   "metadata": {
    "collapsed": true
   },
   "outputs": [],
   "source": [
    "testdf['IPC Code']"
   ]
  },
  {
   "cell_type": "code",
   "execution_count": 65,
   "metadata": {
    "collapsed": false
   },
   "outputs": [
    {
     "data": {
      "text/plain": [
       "<module 'parseFiles' from 'parseFiles.pyc'>"
      ]
     },
     "execution_count": 65,
     "metadata": {},
     "output_type": "execute_result"
    }
   ],
   "source": [
    "import parseFiles as parser2\n",
    "reload(parser2)"
   ]
  },
  {
   "cell_type": "code",
   "execution_count": null,
   "metadata": {
    "collapsed": false
   },
   "outputs": [],
   "source": [
    "retest2 = parser2.parseEntrytoDF(file1)"
   ]
  },
  {
   "cell_type": "code",
   "execution_count": null,
   "metadata": {
    "collapsed": false
   },
   "outputs": [],
   "source": [
    "retest2.tail()"
   ]
  },
  {
   "cell_type": "code",
   "execution_count": null,
   "metadata": {
    "collapsed": false
   },
   "outputs": [],
   "source": [
    "file2 = '../ArchConfAbstracts/ECSA2008.txt'\n",
    "retest2b = parser2.parseEntrytoDF(file2)"
   ]
  },
  {
   "cell_type": "code",
   "execution_count": null,
   "metadata": {
    "collapsed": false
   },
   "outputs": [],
   "source": [
    "retest2b.head()"
   ]
  },
  {
   "cell_type": "code",
   "execution_count": null,
   "metadata": {
    "collapsed": false
   },
   "outputs": [],
   "source": [
    "dfnew = pd.concat([retest2, retest2b], axis = 0)"
   ]
  },
  {
   "cell_type": "code",
   "execution_count": null,
   "metadata": {
    "collapsed": false
   },
   "outputs": [],
   "source": [
    "dfnew.tail()"
   ]
  },
  {
   "cell_type": "code",
   "execution_count": null,
   "metadata": {
    "collapsed": false
   },
   "outputs": [],
   "source": [
    "dfnew.head()"
   ]
  },
  {
   "cell_type": "code",
   "execution_count": null,
   "metadata": {
    "collapsed": false
   },
   "outputs": [],
   "source": [
    "len(dfnew)"
   ]
  },
  {
   "cell_type": "markdown",
   "metadata": {},
   "source": [
    "# Testing of hdfstorage command line script"
   ]
  },
  {
   "cell_type": "code",
   "execution_count": 66,
   "metadata": {
    "collapsed": true
   },
   "outputs": [],
   "source": [
    "dfTotal = pd.read_hdf('DFStore.h5', 'df')"
   ]
  },
  {
   "cell_type": "code",
   "execution_count": 67,
   "metadata": {
    "collapsed": true
   },
   "outputs": [],
   "source": [
    "successFiles = pd.read_hdf('DFStore.h5', 'files')\n",
    "failedFiles = pd.read_hdf('DFStore.h5', 'errors')"
   ]
  },
  {
   "cell_type": "code",
   "execution_count": 72,
   "metadata": {
    "collapsed": false
   },
   "outputs": [
    {
     "name": "stdout",
     "output_type": "stream",
     "text": [
      "../ArchConfAbstracts/ECSA2007.txt ../ArchConfAbstracts/ECSA2008.txt ../ArchConfAbstracts/ECSA2009.txt ../ArchConfAbstracts/ECSA2010.txt ../ArchConfAbstracts/ECSA2011.txt ../ArchConfAbstracts/ECSA2012.txt ../ArchConfAbstracts/ECSA2013.txt ../ArchConfAbstracts/ECSA2014.txt ../ArchConfAbstracts/QoSA2005.txt ../ArchConfAbstracts/QoSA2006.txt ../ArchConfAbstracts/QoSA2007.txt ../ArchConfAbstracts/QoSA2008.txt ../ArchConfAbstracts/QoSA2009.txt ../ArchConfAbstracts/QoSA2010.txt ../ArchConfAbstracts/QoSA2011.txt ../ArchConfAbstracts/QoSA2012.txt ../ArchConfAbstracts/QoSA2013.txt ../ArchConfAbstracts/QoSA2014.txt ../ArchConfAbstracts/WICSA2004.txt ../ArchConfAbstracts/WICSA2005.txt ../ArchConfAbstracts/WICSA2007.txt ../ArchConfAbstracts/WICSA2008.txt ../ArchConfAbstracts/WICSA2009.txt ../ArchConfAbstracts/WICSA2011.txt ../ArchConfAbstracts/WICSA2012.txt ../ArchConfAbstracts/WICSA2014.txt \n",
      "\n",
      "../ArchConfAbstracts/WICSA1999.txt ../ArchConfAbstracts/WICSA2001.txt ../ArchConfAbstracts/WICSA2002.txt\n"
     ]
    }
   ],
   "source": [
    "for x in successFiles : print x,\n",
    "print '\\n'\n",
    "for y in failedFiles : print y,"
   ]
  },
  {
   "cell_type": "code",
   "execution_count": 87,
   "metadata": {
    "collapsed": false
   },
   "outputs": [
    {
     "data": {
      "text/html": [
       "<div>\n",
       "<table border=\"1\" class=\"dataframe\">\n",
       "  <thead>\n",
       "    <tr style=\"text-align: right;\">\n",
       "      <th></th>\n",
       "      <th>Abstract</th>\n",
       "      <th>Author affiliation</th>\n",
       "      <th>Authors</th>\n",
       "      <th>Classification Code</th>\n",
       "      <th>Conf</th>\n",
       "      <th>Database</th>\n",
       "      <th>Source</th>\n",
       "      <th>Title</th>\n",
       "      <th>terms</th>\n",
       "      <th>year</th>\n",
       "    </tr>\n",
       "  </thead>\n",
       "  <tbody>\n",
       "    <tr>\n",
       "      <th>1</th>\n",
       "      <td>Empirical software engineering focuses on the ...</td>\n",
       "      <td>1  DISP  Univ  of Rome  Rome  Italy</td>\n",
       "      <td>Falessi  D   1   Kruchten  P   Cantone  G</td>\n",
       "      <td>C6110B Software engineering techniques   C0310...</td>\n",
       "      <td>ECSA</td>\n",
       "      <td>Inspec</td>\n",
       "      <td>Software Architecture  First European Conferen...</td>\n",
       "      <td>Issues in applying empirical software engineer...</td>\n",
       "      <td>[software architecture - software quality, emp...</td>\n",
       "      <td>2007</td>\n",
       "    </tr>\n",
       "    <tr>\n",
       "      <th>2</th>\n",
       "      <td>Software architecture description languages al...</td>\n",
       "      <td>1  LSTS   ENIT  Tunis  Tunisia</td>\n",
       "      <td>Jerad  C   1   Barkaoui  K   Grissa Touzi  A</td>\n",
       "      <td>C6110B Software engineering techniques   C4210...</td>\n",
       "      <td>ECSA</td>\n",
       "      <td>Inspec</td>\n",
       "      <td>Software Architecture  First European Conferen...</td>\n",
       "      <td>Hierarchical verification in Maude of LfP soft...</td>\n",
       "      <td>[formal verification - rewriting systems - sof...</td>\n",
       "      <td>2007</td>\n",
       "    </tr>\n",
       "    <tr>\n",
       "      <th>3</th>\n",
       "      <td>When an application must evolve to cope with n...</td>\n",
       "      <td>1  INRIA  Univ  des Sci  et Technol  de Lille ...</td>\n",
       "      <td>Waignier  G   1   Le Meur  A  F   1   Duchien ...</td>\n",
       "      <td>C6110B Software engineering techniques   C6110...</td>\n",
       "      <td>ECSA</td>\n",
       "      <td>Inspec</td>\n",
       "      <td>Software Architecture  First European Conferen...</td>\n",
       "      <td>FIESTA  a generic framework for integrating ne...</td>\n",
       "      <td>[formal specification - software architecture,...</td>\n",
       "      <td>2007</td>\n",
       "    </tr>\n",
       "    <tr>\n",
       "      <th>4</th>\n",
       "      <td>Ageless software evolves  to meet new requirem...</td>\n",
       "      <td>1  Sch  of Comput  Sci   Univ  of Adelaide  Ad...</td>\n",
       "      <td>Falkner  K   1   Balasubramaniam  D   Detmold ...</td>\n",
       "      <td>C6110B Software engineering techniques</td>\n",
       "      <td>ECSA</td>\n",
       "      <td>Inspec</td>\n",
       "      <td>Software Architecture  First European Conferen...</td>\n",
       "      <td>Informed evolution</td>\n",
       "      <td>[software architecture - software prototyping,...</td>\n",
       "      <td>2007</td>\n",
       "    </tr>\n",
       "    <tr>\n",
       "      <th>5</th>\n",
       "      <td>The past 20 years has seen significant investm...</td>\n",
       "      <td>1  Software Group  IBM  Raleigh  NC  United St...</td>\n",
       "      <td>Brown  A W   1   McDermid  J A</td>\n",
       "      <td>C6110B Software engineering techniques   C6130...</td>\n",
       "      <td>ECSA</td>\n",
       "      <td>Inspec</td>\n",
       "      <td>Software Architecture  First European Conferen...</td>\n",
       "      <td>The art and science of software architecture</td>\n",
       "      <td>[safety-critical software - software architect...</td>\n",
       "      <td>2007</td>\n",
       "    </tr>\n",
       "  </tbody>\n",
       "</table>\n",
       "</div>"
      ],
      "text/plain": [
       "                                            Abstract  \\\n",
       "1  Empirical software engineering focuses on the ...   \n",
       "2  Software architecture description languages al...   \n",
       "3  When an application must evolve to cope with n...   \n",
       "4  Ageless software evolves  to meet new requirem...   \n",
       "5  The past 20 years has seen significant investm...   \n",
       "\n",
       "                                  Author affiliation  \\\n",
       "1                1  DISP  Univ  of Rome  Rome  Italy   \n",
       "2                     1  LSTS   ENIT  Tunis  Tunisia   \n",
       "3  1  INRIA  Univ  des Sci  et Technol  de Lille ...   \n",
       "4  1  Sch  of Comput  Sci   Univ  of Adelaide  Ad...   \n",
       "5  1  Software Group  IBM  Raleigh  NC  United St...   \n",
       "\n",
       "                                             Authors  \\\n",
       "1          Falessi  D   1   Kruchten  P   Cantone  G   \n",
       "2       Jerad  C   1   Barkaoui  K   Grissa Touzi  A   \n",
       "3  Waignier  G   1   Le Meur  A  F   1   Duchien ...   \n",
       "4  Falkner  K   1   Balasubramaniam  D   Detmold ...   \n",
       "5                     Brown  A W   1   McDermid  J A   \n",
       "\n",
       "                                 Classification Code  Conf Database  \\\n",
       "1  C6110B Software engineering techniques   C0310...  ECSA   Inspec   \n",
       "2  C6110B Software engineering techniques   C4210...  ECSA   Inspec   \n",
       "3  C6110B Software engineering techniques   C6110...  ECSA   Inspec   \n",
       "4             C6110B Software engineering techniques  ECSA   Inspec   \n",
       "5  C6110B Software engineering techniques   C6130...  ECSA   Inspec   \n",
       "\n",
       "                                              Source  \\\n",
       "1  Software Architecture  First European Conferen...   \n",
       "2  Software Architecture  First European Conferen...   \n",
       "3  Software Architecture  First European Conferen...   \n",
       "4  Software Architecture  First European Conferen...   \n",
       "5  Software Architecture  First European Conferen...   \n",
       "\n",
       "                                               Title  \\\n",
       "1  Issues in applying empirical software engineer...   \n",
       "2  Hierarchical verification in Maude of LfP soft...   \n",
       "3  FIESTA  a generic framework for integrating ne...   \n",
       "4                                 Informed evolution   \n",
       "5       The art and science of software architecture   \n",
       "\n",
       "                                               terms  year  \n",
       "1  [software architecture - software quality, emp...  2007  \n",
       "2  [formal verification - rewriting systems - sof...  2007  \n",
       "3  [formal specification - software architecture,...  2007  \n",
       "4  [software architecture - software prototyping,...  2007  \n",
       "5  [safety-critical software - software architect...  2007  "
      ]
     },
     "execution_count": 87,
     "metadata": {},
     "output_type": "execute_result"
    }
   ],
   "source": [
    "dfTotal.head()"
   ]
  },
  {
   "cell_type": "markdown",
   "metadata": {},
   "source": [
    "# drafts for hdfstorage"
   ]
  },
  {
   "cell_type": "code",
   "execution_count": null,
   "metadata": {
    "collapsed": false
   },
   "outputs": [],
   "source": [
    "from pandas import HDFStore\n",
    "store = HDFStore('store.h5')"
   ]
  },
  {
   "cell_type": "code",
   "execution_count": null,
   "metadata": {
    "collapsed": false
   },
   "outputs": [],
   "source": [
    "store = HDFStore('store.h5')\n",
    "store['df'] = dfnew\n",
    "store['files'] = s\n",
    "store.close()"
   ]
  },
  {
   "cell_type": "code",
   "execution_count": null,
   "metadata": {
    "collapsed": true
   },
   "outputs": [],
   "source": [
    "files = pd.read_hdf('DFstore.h5', 'files')\n",
    "dfs = pd.read_hdf('DFstore.h5', 'df')\n",
    "e = pd.read_hdf('DFstore.h5', 'errors')"
   ]
  },
  {
   "cell_type": "code",
   "execution_count": null,
   "metadata": {
    "collapsed": false
   },
   "outputs": [],
   "source": [
    "files"
   ]
  },
  {
   "cell_type": "code",
   "execution_count": null,
   "metadata": {
    "collapsed": false
   },
   "outputs": [],
   "source": [
    "dfs.head()"
   ]
  },
  {
   "cell_type": "code",
   "execution_count": null,
   "metadata": {
    "collapsed": true
   },
   "outputs": [],
   "source": [
    "s = pd.Series.from_array(['hi', 'bye'])"
   ]
  },
  {
   "cell_type": "code",
   "execution_count": null,
   "metadata": {
    "collapsed": false
   },
   "outputs": [],
   "source": [
    "e"
   ]
  },
  {
   "cell_type": "code",
   "execution_count": null,
   "metadata": {
    "collapsed": true
   },
   "outputs": [],
   "source": [
    "files = []\n",
    "dfs = []\n",
    "def printFileName(filename):\n",
    "    print filename\n",
    "\n",
    "def main():\n",
    "    args = sys.argv[1:]\n",
    "    dataDFstore = HDFStore('databaseDF.store')\n",
    "    \n",
    "    for filename in args:\n",
    "        files.append(FileName(filename))\n",
    "        dfs.append(parser.parseEntrytoDF(FileName(filename)))\n",
    "        \n",
    "    dfnew = pd.concat(dfs, axis = 0)\n",
    "    \n",
    "    dataDFstore['df'] = dfnew\n",
    "    \n",
    "    print files\n",
    "    dataDFstore['files'] = files\n",
    "    \n",
    "    dataDFstore.close()\n",
    "\n",
    "if __name__ == '__main__':\n",
    "  main()\n",
    "#Then from the console, yo"
   ]
  },
  {
   "cell_type": "code",
   "execution_count": null,
   "metadata": {
    "collapsed": true
   },
   "outputs": [],
   "source": []
  }
 ],
 "metadata": {
  "kernelspec": {
   "display_name": "Python 2",
   "language": "python",
   "name": "python2"
  },
  "language_info": {
   "codemirror_mode": {
    "name": "ipython",
    "version": 2
   },
   "file_extension": ".py",
   "mimetype": "text/x-python",
   "name": "python",
   "nbconvert_exporter": "python",
   "pygments_lexer": "ipython2",
   "version": "2.7.11"
  }
 },
 "nbformat": 4,
 "nbformat_minor": 0
}
